{
 "cells": [
  {
   "cell_type": "code",
   "execution_count": 1,
   "metadata": {
    "collapsed": true
   },
   "outputs": [],
   "source": [
    "import copy\n",
    "import numpy as np\n",
    "import sys\n",
    "import py2tex.py2tex as py2tex\n",
    "import verdict\n",
    "import os"
   ]
  },
  {
   "cell_type": "code",
   "execution_count": null,
   "metadata": {},
   "outputs": [],
   "source": [
    "import matplotlib\n",
    "import matplotlib.pyplot as plt\n",
    "import matplotlib.patches as mpatches\n",
    "import matplotlib.patheffects as path_effects\n",
    "import matplotlib.cm as cm\n",
    "import matplotlib.colors as plt_colors\n",
    "import matplotlib.gridspec as gridspec"
   ]
  },
  {
   "cell_type": "code",
   "execution_count": null,
   "metadata": {
    "collapsed": false
   },
   "outputs": [],
   "source": [
    "import linefinder.analyze_data.worldlines as a_worldlines\n",
    "import linefinder.analyze_data.plot_worldlines as p_worldlines\n",
    "import linefinder.utils.presentation_constants as p_constants"
   ]
  },
  {
   "cell_type": "code",
   "execution_count": null,
   "metadata": {
    "collapsed": false
   },
   "outputs": [],
   "source": [
    "import galaxy_dive.analyze_data.ahf as analyze_ahf\n",
    "import galaxy_dive.plot_data.ahf as plot_ahf\n",
    "import galaxy_dive.analyze_data.particle_data as particle_data\n",
    "import galaxy_dive.plot_data.generic_plotter as generic_plotter\n",
    "import galaxy_dive.plot_data.plotting as plotting\n",
    "import galaxy_dive.utils.data_operations as data_operations\n",
    "import galaxy_dive.utils.executable_helpers as exec_helpers"
   ]
  },
  {
   "cell_type": "code",
   "execution_count": null,
   "metadata": {
    "collapsed": true
   },
   "outputs": [],
   "source": [
    "import linefinder.utils.file_management as file_management\n",
    "import linefinder.config as config"
   ]
  },
  {
   "cell_type": "markdown",
   "metadata": {},
   "source": [
    "# Load Data"
   ]
  },
  {
   "cell_type": "code",
   "execution_count": null,
   "metadata": {},
   "outputs": [],
   "source": [
    "sim_name = 'm12i'\n",
    "snum = 600"
   ]
  },
  {
   "cell_type": "code",
   "execution_count": null,
   "metadata": {},
   "outputs": [],
   "source": [
    "galdef = ''"
   ]
  },
  {
   "cell_type": "code",
   "execution_count": null,
   "metadata": {
    "collapsed": true
   },
   "outputs": [],
   "source": [
    "file_manager = file_management.FileManager( 'hot_halo_physics' )"
   ]
  },
  {
   "cell_type": "code",
   "execution_count": null,
   "metadata": {
    "collapsed": true
   },
   "outputs": [],
   "source": [
    "defaults = file_manager.get_linefinder_analysis_defaults(\n",
    "    '_hothaloacc',\n",
    "    sim_name = sim_name,\n",
    "    galdef = galdef\n",
    ")"
   ]
  },
  {
   "cell_type": "code",
   "execution_count": null,
   "metadata": {
    "collapsed": true
   },
   "outputs": [],
   "source": [
    "ind = defaults['ahf_index'] - snum"
   ]
  },
  {
   "cell_type": "code",
   "execution_count": null,
   "metadata": {
    "collapsed": false
   },
   "outputs": [],
   "source": [
    "w = a_worldlines.Worldlines( **defaults )"
   ]
  },
  {
   "cell_type": "code",
   "execution_count": null,
   "metadata": {},
   "outputs": [],
   "source": [
    "w.retrieve_halo_data()"
   ]
  },
  {
   "cell_type": "code",
   "execution_count": null,
   "metadata": {},
   "outputs": [],
   "source": [
    "print( w.tag )"
   ]
  },
  {
   "cell_type": "code",
   "execution_count": null,
   "metadata": {
    "collapsed": false
   },
   "outputs": [],
   "source": [
    "m_plot_label  = r'$M_{\\rm h} = 10^{' + '{:.02g}'.format( np.log10( w.m_vir[snum] ) )\n",
    "m_plot_label += '} M_\\odot$'\n",
    "plot_label = m_plot_label + ', z={:.02}'.format( w.redshift[snum] )\n",
    "print( plot_label )"
   ]
  },
  {
   "cell_type": "code",
   "execution_count": null,
   "metadata": {},
   "outputs": [],
   "source": [
    "classification_list = copy.copy( p_constants.CLASSIFICATIONS_CGM_FATE )"
   ]
  },
  {
   "cell_type": "code",
   "execution_count": null,
   "metadata": {
    "collapsed": true
   },
   "outputs": [],
   "source": [
    "w_plotter = p_worldlines.WorldlinesPlotter( w, label=plot_label )"
   ]
  },
  {
   "cell_type": "markdown",
   "metadata": {},
   "source": [
    "# Calculate $\\theta$\n",
    "Also called $\\phi$..."
   ]
  },
  {
   "cell_type": "code",
   "execution_count": null,
   "metadata": {},
   "outputs": [],
   "source": [
    "s_data = particle_data.ParticleData(\n",
    "    sdir = file_manager.get_sim_dir( sim_name ),\n",
    "    snum = snum,\n",
    "    ptype = config.PTYPE_STAR,\n",
    "    halo_data_dir = file_manager.get_halo_dir( sim_name ),\n",
    "    main_halo_id = config.MAIN_MT_HALO_ID[sim_name],    \n",
    ")"
   ]
  },
  {
   "cell_type": "code",
   "execution_count": null,
   "metadata": {},
   "outputs": [],
   "source": [
    "w.calc_abs_phi( normal_vector=s_data.total_ang_momentum )"
   ]
  },
  {
   "cell_type": "markdown",
   "metadata": {},
   "source": [
    "# Hot Mode Accretion Investigation"
   ]
  },
  {
   "cell_type": "code",
   "execution_count": null,
   "metadata": {},
   "outputs": [],
   "source": [
    "# Setup axes\n",
    "t_window = 1.\n",
    "t = w.get_data( 'time' )\n",
    "x_range = [ t[ind] - t_window, t[ind] ]"
   ]
  },
  {
   "cell_type": "code",
   "execution_count": null,
   "metadata": {},
   "outputs": [],
   "source": [
    "t_snaps = t[( t > x_range[0] ) & ( t < x_range[1] )][::-1]"
   ]
  },
  {
   "cell_type": "code",
   "execution_count": null,
   "metadata": {},
   "outputs": [],
   "source": [
    "n_snaps = t_snaps.size"
   ]
  },
  {
   "cell_type": "code",
   "execution_count": null,
   "metadata": {},
   "outputs": [],
   "source": [
    "dt = t_snaps[1:] - t_snaps[:-1]"
   ]
  },
  {
   "cell_type": "code",
   "execution_count": null,
   "metadata": {},
   "outputs": [],
   "source": [
    "t_bins = np.zeros( ( t_snaps.size + 1, ) )\n",
    "t_bins[1:-1] = t_snaps[:-1] + dt / 2.\n",
    "t_bins[0] = t_snaps[0] - dt[0] / 2.\n",
    "t_bins[-1] = t_snaps[-1] + dt[-1] / 2."
   ]
  },
  {
   "cell_type": "markdown",
   "metadata": {},
   "source": [
    "## Distribution Plots"
   ]
  },
  {
   "cell_type": "code",
   "execution_count": null,
   "metadata": {},
   "outputs": [],
   "source": [
    "%matplotlib inline\n",
    "\n",
    "fig = plt.figure( figsize=(12, 5), facecolor='white' )\n",
    "ax = plt.gca()\n",
    "\n",
    "w_plotter.histogram2d(\n",
    "    'time',\n",
    "    'R',\n",
    "    ax = ax,\n",
    "    x_data_args = { 'tile_data': True },\n",
    "    z_scale = plt_colors.Normalize( vmin=3, vmax=200 ),\n",
    "    cmap = cm.cubehelix_r,\n",
    "#     y_scale = 'log',\n",
    "    y_range = [ 1., 100. ],\n",
    "    x_range = x_range,\n",
    "    n_bins_y = 512,\n",
    "#     conditional_y = True,\n",
    "    x_edges = t_bins,\n",
    ")\n",
    "\n",
    "ax.plot(\n",
    "    w.get_data( 'time' )[:w.r_gal.size],\n",
    "    w.r_gal,\n",
    "    color = 'blue',\n",
    "    linewidth = 3,\n",
    ")"
   ]
  },
  {
   "cell_type": "code",
   "execution_count": null,
   "metadata": {},
   "outputs": [],
   "source": [
    "fig = plt.figure( figsize=(12, 5), facecolor='white' )\n",
    "ax = plt.gca()\n",
    "\n",
    "w_plotter.histogram2d(\n",
    "    'time',\n",
    "    'T',\n",
    "    ax = ax,\n",
    "    x_data_args = { 'tile_data': True },\n",
    "    z_scale = plt_colors.Normalize( vmin=3, vmax=3000 ),\n",
    "    y_scale = 'log',\n",
    "    cmap = cm.cubehelix_r,\n",
    "    y_range = [ 5e3, 1e7 ],\n",
    "    x_range = x_range,\n",
    "    x_edges = t_bins,\n",
    "    n_bins_y = 32,\n",
    ")"
   ]
  },
  {
   "cell_type": "code",
   "execution_count": null,
   "metadata": {},
   "outputs": [],
   "source": [
    "fig = plt.figure( figsize=(12, 5), facecolor='white' )\n",
    "ax = plt.gca()\n",
    "\n",
    "w_plotter.histogram2d(\n",
    "    'R',\n",
    "    'T',\n",
    "    ax = ax,\n",
    "    x_data_args = { 'tile_data': True },\n",
    "#     z_scale = plt_colors.Normalize( vmin=3, vmax=1000 ),\n",
    "    y_scale = 'log',\n",
    "    cmap = cm.cubehelix_r,\n",
    "    x_range = [ 0, 70 ],\n",
    "    y_range = [ 5e3, 1e7 ],\n",
    "#     x_range = x_range,\n",
    "    n_bins_x = 128,\n",
    "    n_bins = 128,\n",
    "    conditional_y = True,\n",
    ")"
   ]
  },
  {
   "cell_type": "code",
   "execution_count": null,
   "metadata": {},
   "outputs": [],
   "source": [
    "fig = plt.figure( figsize=(12, 5), facecolor='white' )\n",
    "ax = plt.gca()\n",
    "\n",
    "y_data = w.get_selected_data( 'Lmag' ) / w.get_selected_data( 'M' )\n",
    "\n",
    "w_plotter.histogram2d(\n",
    "    'time',\n",
    "    'Lmag',\n",
    "    y_data = y_data,\n",
    "    ax = ax,\n",
    "    x_data_args = { 'tile_data': True },\n",
    "    z_scale = plt_colors.Normalize( vmin=3, vmax=500 ),\n",
    "#     y_scale = 'log',\n",
    "    y_range = [ 0, 10000 ],\n",
    "    x_range = x_range,\n",
    "    x_edges = t_bins,\n",
    "    cmap = cm.cubehelix_r,\n",
    ")"
   ]
  },
  {
   "cell_type": "code",
   "execution_count": null,
   "metadata": {},
   "outputs": [],
   "source": [
    "fig = plt.figure( figsize=(12, 5), facecolor='white' )\n",
    "ax = plt.gca()\n",
    "\n",
    "y_data = w.get_selected_data( 'Lmag' ) / w.get_selected_data( 'M' )\n",
    "\n",
    "w_plotter.histogram2d(\n",
    "    'R',\n",
    "    'Lmag',\n",
    "    y_data = y_data,\n",
    "    ax = ax,\n",
    "    x_data_args = { 'tile_data': True },\n",
    "    z_scale = plt_colors.Normalize( vmin=3, vmax=500 ),\n",
    "#     y_scale = 'log',\n",
    "    y_range = [ 0, 10000 ],\n",
    "    x_range = [ 0, 70 ],\n",
    "    n_bins_x = 64,\n",
    "    cmap = cm.cubehelix_r,\n",
    ")\n",
    "\n",
    "ax.axvline(\n",
    "    13,\n",
    "    linewidth = 4,\n",
    ")"
   ]
  },
  {
   "cell_type": "code",
   "execution_count": null,
   "metadata": {},
   "outputs": [],
   "source": [
    "fig = plt.figure( figsize=(12, 5), facecolor='white' )\n",
    "ax = plt.gca()\n",
    "\n",
    "w_plotter.histogram2d(\n",
    "    'R',\n",
    "    'Vr',\n",
    "    ax = ax,\n",
    "    x_data_args = { 'tile_data': True },\n",
    "    z_scale = plt_colors.Normalize( vmin=3, vmax=400 ),\n",
    "    y_scale = 'log',\n",
    "    y_range = [ 1., 300 ],\n",
    "    x_range = [ 0, 70 ],\n",
    "    n_bins_x = 64,\n",
    "    cmap = cm.cubehelix_r,\n",
    ")\n",
    "\n",
    "ax.axvline(\n",
    "    13,\n",
    "    linewidth = 4,\n",
    ")"
   ]
  },
  {
   "cell_type": "code",
   "execution_count": null,
   "metadata": {},
   "outputs": [],
   "source": [
    "fig = plt.figure( figsize=(12, 5), facecolor='white' )\n",
    "ax = plt.gca()\n",
    "\n",
    "w_plotter.histogram2d(\n",
    "    'time',\n",
    "    'Phi',\n",
    "    weight_key = '1/sin',\n",
    "    weight_data = 1. / np.sin( w.get_selected_data( 'Phi')*np.pi/180. ),\n",
    "    ax = ax,\n",
    "    x_data_args = { 'tile_data': True },\n",
    "    z_scale = plt_colors.Normalize( vmin=3, vmax=400 ),\n",
    "#     y_scale = 'log',\n",
    "#     y_range = [ 1e3, 1e7 ],\n",
    "    x_range = x_range,\n",
    "    x_edges = t_bins,\n",
    "#     n_bins = 16,\n",
    "    cmap = cm.cubehelix_r,\n",
    ")"
   ]
  },
  {
   "cell_type": "code",
   "execution_count": null,
   "metadata": {},
   "outputs": [],
   "source": [
    "fig = plt.figure( figsize=(12, 5), facecolor='white' )\n",
    "ax = plt.gca()\n",
    "\n",
    "w_plotter.histogram2d(\n",
    "    'R',\n",
    "    'Phi',\n",
    "    weight_key = '1/sin',\n",
    "    weight_data = 1. / np.sin( w.get_selected_data( 'Phi')*np.pi/180. ),\n",
    "    ax = ax,\n",
    "    x_data_args = { 'tile_data': True },\n",
    "    z_scale = plt_colors.Normalize( vmin=3, vmax=600 ),\n",
    "#     y_scale = 'log',\n",
    "#     y_range = [ 1e3, 1e7 ],\n",
    "    x_range = [ 0, 70 ],\n",
    "    n_bins_x = 64,\n",
    "#     n_bins = 16,\n",
    "    cmap = cm.cubehelix_r,\n",
    ")"
   ]
  },
  {
   "cell_type": "code",
   "execution_count": null,
   "metadata": {},
   "outputs": [],
   "source": [
    "fig = plt.figure( figsize=(12, 5), facecolor='white' )\n",
    "ax = plt.gca()\n",
    "\n",
    "w_plotter.histogram2d(\n",
    "    'T',\n",
    "    'Phi',\n",
    "    weight_key = '1/sin',\n",
    "    weight_data = 1. / np.sin( w.get_selected_data( 'Phi')*np.pi/180. ),\n",
    "    ax = ax,\n",
    "    x_data_args = { 'tile_data': True },\n",
    "    z_scale = plt_colors.Normalize( vmin=3, vmax=5000 ),\n",
    "    x_scale = 'log',\n",
    "    x_range = [ 1e3, 1e7 ],\n",
    "#     n_bins_x = 64,\n",
    "#     n_bins = 16,\n",
    "    cmap = cm.cubehelix_r,\n",
    ")"
   ]
  },
  {
   "cell_type": "code",
   "execution_count": null,
   "metadata": {},
   "outputs": [],
   "source": [
    "w.data_masker.clear_masks()"
   ]
  },
  {
   "cell_type": "markdown",
   "metadata": {},
   "source": [
    "## Pathline Plots"
   ]
  },
  {
   "cell_type": "code",
   "execution_count": null,
   "metadata": {},
   "outputs": [],
   "source": [
    "fig = plt.figure( figsize=(12, 12), facecolor='white' )\n",
    "ax = plt.gca()\n",
    "\n",
    "w_plotter.plot_streamlines(\n",
    "#     classification = 'is_selected',\n",
    "#     classification_ind = ind,\n",
    "    ax = ax,\n",
    "    start_ind = ind,\n",
    "    end_ind = 'time_based',\n",
    "    t_end = t_window,\n",
    "    sample_size = 50,\n",
    "    sample_selected_interval = False,\n",
    "    x_data_kwargs = { 'tile_data': True, 'smooth_data' : True, 'smoothing_window_length' : 21 },\n",
    "    y_data_kwargs = { 'smooth_data' : True, 'smoothing_window_length' : 21 },\n",
    "    color = 'black',\n",
    "    fade_color = 'blue',\n",
    "    min_fade_linewidth = 1,\n",
    ")\n",
    "\n",
    "ax.set_aspect( 'equal' )"
   ]
  },
  {
   "cell_type": "code",
   "execution_count": null,
   "metadata": {},
   "outputs": [],
   "source": [
    "w_plotter.plot_streamlines(\n",
    "    x_key = 'time',\n",
    "    y_key = 'R',\n",
    "    start_ind = ind,\n",
    "    end_ind = 'time_based',\n",
    "    t_end = t_window,\n",
    "    sample_size = 15,\n",
    "    sample_selected_interval = False,\n",
    "    x_data_kwargs = {\n",
    "        'tile_data': True,\n",
    "        'smooth_data' : False,\n",
    "        'smoothing_window_length' : 21,\n",
    "    },\n",
    "    y_data_kwargs = {\n",
    "        'smooth_data' : False,\n",
    "        'smoothing_window_length' : 21,\n",
    "    },\n",
    "    color = 'black',\n",
    "    fade_color = 'blue',\n",
    "    min_fade_linewidth = 0.5,\n",
    "    linewidth = 3,\n",
    "    x_label = 'time (Gyr)',\n",
    "    y_label = 'R (kpc)',\n",
    ")"
   ]
  },
  {
   "cell_type": "code",
   "execution_count": null,
   "metadata": {},
   "outputs": [],
   "source": [
    "w.data_masker.mask_data( 'PType', data_value=0 )"
   ]
  },
  {
   "cell_type": "code",
   "execution_count": null,
   "metadata": {},
   "outputs": [],
   "source": [
    "# Median and interval stats\n",
    "logT = np.log10( w.get_selected_data( 'T', compress=False ) )#[:,ind:ind+n_snaps+1]\n",
    "R = w.get_selected_data( 'R', compress=False )#[:,ind:ind+n_snaps+1]\n",
    "L = w.get_selected_data( 'Lmag', compress=False )#[:,ind:ind+n_snaps+1]\n",
    "M = w.get_selected_data( 'M', compress=False )#[:,ind:ind+n_snaps+1]\n",
    "phi = w.get_selected_data( 'Phi', compress=False )\n",
    "\n",
    "logT_med = np.nanmedian( logT, axis=0 )\n",
    "R_med = np.nanmedian( R, axis=0 )\n",
    "\n",
    "logT_low = np.nanpercentile( logT, 16, axis=0 )\n",
    "logT_high = np.nanpercentile( logT, 84, axis=0 )\n",
    "\n",
    "R_low = np.nanpercentile( R, 16, axis=0 )\n",
    "R_high = np.nanpercentile( R, 84, axis=0 )"
   ]
  },
  {
   "cell_type": "code",
   "execution_count": null,
   "metadata": {},
   "outputs": [],
   "source": [
    "inds = []\n",
    "for logT_arr in logT:\n",
    "    \n",
    "    ind = -1\n",
    "    for i in range( logT_arr.size ):\n",
    "        if logT_arr[i] > 5.:\n",
    "            ind = i\n",
    "            break\n",
    "            \n",
    "    inds.append( ind )"
   ]
  },
  {
   "cell_type": "code",
   "execution_count": null,
   "metadata": {},
   "outputs": [],
   "source": [
    "inds = np.array( inds )"
   ]
  },
  {
   "cell_type": "code",
   "execution_count": null,
   "metadata": {},
   "outputs": [],
   "source": [
    "R_at_Tcool = np.array( [ R[i, ind] for i, ind in enumerate( inds ) ] )\n",
    "M_at_Tcool = np.array( [ M[i, ind] for i, ind in enumerate( inds ) ] )\n",
    "L_at_Tcool = np.array( [ L[i, ind] for i, ind in enumerate( inds ) ] )"
   ]
  },
  {
   "cell_type": "code",
   "execution_count": null,
   "metadata": {},
   "outputs": [],
   "source": [
    "t_at_Tcool = np.array( [ t[ind] for ind in inds ] )"
   ]
  },
  {
   "cell_type": "code",
   "execution_count": null,
   "metadata": {},
   "outputs": [],
   "source": [
    "fig = plt.figure( figsize=(8, 4 ), facecolor='w' )\n",
    "ax = plt.gca()\n",
    "\n",
    "ax.hist(\n",
    "    t_at_Tcool,\n",
    "    bins = np.linspace( t.min(), t.max(), 64 ),\n",
    ")\n",
    "\n",
    "ax.axvline(\n",
    "    12.8,\n",
    "    color = 'k',\n",
    ")\n",
    "\n",
    "ax.set_xlim( t.min(), t.max() )\n",
    "# ax.set_xscale( 'log' )"
   ]
  },
  {
   "cell_type": "code",
   "execution_count": null,
   "metadata": {},
   "outputs": [],
   "source": [
    "j_data = np.load( '../data/for_Zach.npz' )"
   ]
  },
  {
   "cell_type": "code",
   "execution_count": null,
   "metadata": {},
   "outputs": [],
   "source": [
    "fig = plt.figure( figsize=(10, 6 ), facecolor='w' )\n",
    "ax = plt.gca()\n",
    "\n",
    "ax.hist2d(\n",
    "    R_at_Tcool,\n",
    "    L_at_Tcool / M_at_Tcool,\n",
    "    bins = [ np.logspace( 0., np.log10( w.r_vir[snum] ), 64 ), np.logspace( 2, 4.3, 64 ) ],\n",
    "    cmap = cm.cubehelix_r,\n",
    "    norm = plt_colors.LogNorm(),\n",
    ")\n",
    "\n",
    "ax.set_xscale( 'log' )\n",
    "ax.set_yscale( 'log' )\n",
    "# ax.set_xlim( 0, w.r_vir[snum] )\n",
    "# ax.set_ylim( 1e2, 3e4 )\n",
    "\n",
    "# ax.scatter(\n",
    "#     R_at_Tcool,\n",
    "#     L_at_Tcool / M_at_Tcool, \n",
    "#     s = 1,\n",
    "#     alpha = 0.5,\n",
    "# )\n",
    "\n",
    "ax.plot(\n",
    "    j_data['r'],\n",
    "    j_data['r'] * j_data['vc'],\n",
    "    color = 'k',\n",
    ")\n",
    "\n",
    "\n",
    "ax.set_xlabel( r'$R_{\\rm condense}$ (kpc)', fontsize=22 )\n",
    "ax.set_ylabel( r'$j_{\\rm condense}$ (kpc km/s)', fontsize=22 )\n",
    "\n",
    "plotting.save_fig(\n",
    "    out_dir = '../figures',\n",
    "    save_file = 'j_vs_rcondense.png',\n",
    "    fig = fig,\n",
    ")"
   ]
  },
  {
   "cell_type": "code",
   "execution_count": null,
   "metadata": {},
   "outputs": [],
   "source": [
    "w.data_masker.clear_masks()"
   ]
  },
  {
   "cell_type": "code",
   "execution_count": null,
   "metadata": {},
   "outputs": [],
   "source": [
    "np.random.seed( 6 )\n",
    "\n",
    "fig = plt.figure( figsize=(12, 11), facecolor='w' )\n",
    "ax = plt.gca()\n",
    "\n",
    "gs = gridspec.GridSpec(6, 1)\n",
    "\n",
    "gs.update( hspace=0.001 )\n",
    "\n",
    "ax1 = plt.subplot(gs[:2,0])\n",
    "\n",
    "ax1.hist(\n",
    "    R_at_Tcool,\n",
    "    bins = np.linspace( 0., 0.5*w.r_vir[snum], 64 ),\n",
    ")\n",
    "\n",
    "# ax.axvline(\n",
    "#     np.median( R_at_Tcool ),\n",
    "#     color = 'k',\n",
    "# )\n",
    "\n",
    "ax1.axvline(\n",
    "    w.r_gal[0],\n",
    "    color = 'k',\n",
    "    linestyle = '--',\n",
    "    linewidth = 3,\n",
    ")\n",
    "ax1.axvline(\n",
    "    0.1 * w.r_vir[snum],\n",
    "    color = 'k',\n",
    "    linestyle = '--',\n",
    "    linewidth = 3,\n",
    ")\n",
    "ax1.axvline(\n",
    "    w.r_vir[snum],\n",
    "    color = 'k',\n",
    "    linestyle = '--',\n",
    "    linewidth = 3,\n",
    ")\n",
    "\n",
    "ax1.set_xlim( 0, w.r_vir[snum] )\n",
    "\n",
    "ax1.set_xlabel( r'$R_{\\rm{condense}}$ (kpc)', fontsize=22, labelpad=10 )\n",
    "ax1.xaxis.set_label_position( 'top' )\n",
    "ax1.set_ylabel( 'count', fontsize=22, )\n",
    "\n",
    "ax1.tick_params( axis='x', top=True, labeltop=True, bottom=False, labelbottom=False )\n",
    "\n",
    "ax2 = plt.subplot(gs[2:,0])\n",
    "\n",
    "w_plotter.plot_streamlines(\n",
    "    ax = ax2,\n",
    "    x_key = 'R',\n",
    "    y_key = 'logT',\n",
    "    start_ind = ind,\n",
    "    end_ind = 'time_based',\n",
    "    t_end = 5.,\n",
    "    sample_size = 30,\n",
    "    sample_selected_interval = False,\n",
    "    x_data_kwargs = { 'smooth_data' : True, 'smoothing_window_length' : 7 },\n",
    "    y_data_kwargs = { 'smooth_data' : True, 'smoothing_window_length' : 7 },\n",
    "    color = 'black',\n",
    "    fade_color = 'black',\n",
    "    min_fade_linewidth = 0.5,\n",
    "#     fade_streamlines = False,\n",
    "#     line_features = gas_to_star_line_features,\n",
    "    linewidth = 1,\n",
    "    x_label = 'R (kpc)',\n",
    "    y_label = 'logT (K)',\n",
    "#     y_scale = 'log',\n",
    "    x_range = [ 0, w.r_vir[snum] ],\n",
    "    y_range = [ 3.5, 6.9 ],\n",
    "#     y_floor = 10.**3.8,\n",
    ")\n",
    "\n",
    "# # In space\n",
    "# w_plotter.statistic_and_interval(\n",
    "#     ax = ax,\n",
    "#     x_key = 'R',\n",
    "#     y_key = 'logT',\n",
    "#     fix_invalid = True,\n",
    "#     alpha = 0.25,\n",
    "#     bins = np.linspace( 0., w.r_vir[snum]*0.2, 64 ),\n",
    "# )\n",
    "\n",
    "# # Time\n",
    "# ax.plot(\n",
    "#     R_med,\n",
    "#     logT_med,\n",
    "#     linewidth = 3,\n",
    "#     color = 'b',\n",
    "# )\n",
    "# ax.fill_between(\n",
    "#     R_med,\n",
    "#     logT_low,\n",
    "#     logT_high,\n",
    "#     color = 'b',\n",
    "#     alpha = 0.25,\n",
    "# )\n",
    "\n",
    "ax2.axvline(\n",
    "    w.r_vir[snum]*0.1,\n",
    "    color = 'k',\n",
    "    linestyle = '--',\n",
    "    linewidth = 3,\n",
    ")\n",
    "\n",
    "plotting.save_fig(\n",
    "    out_dir = '../figures',\n",
    "    save_file = 'rcondense_and_tracks.pdf',\n",
    "    fig = fig,\n",
    ")"
   ]
  },
  {
   "cell_type": "code",
   "execution_count": null,
   "metadata": {},
   "outputs": [],
   "source": [
    "t_tphase = ( t[:,np.newaxis] - t[inds] ).transpose()"
   ]
  },
  {
   "cell_type": "code",
   "execution_count": null,
   "metadata": {},
   "outputs": [],
   "source": [
    "fig = plt.figure( figsize=(10, 6 ), facecolor='w' )\n",
    "ax = plt.gca()\n",
    "\n",
    "ax.hist2d(\n",
    "    t_tphase.flatten(),\n",
    "    phi.flatten(),\n",
    "    bins = [ np.linspace( -1., 1., 64 ), np.linspace( 0., 180., 64 ) ],\n",
    "    cmap = cm.cubehelix_r,\n",
    "    norm = plt_colors.LogNorm(),\n",
    ")\n",
    "\n",
    "ax.axvline(\n",
    "    0.,\n",
    "    color = 'k',\n",
    "    linestyle = '--',\n",
    "    linewidth = 3,\n",
    ")\n",
    "ax.axhline(\n",
    "    90.,\n",
    "    color = 'k',\n",
    "    linestyle = '--',\n",
    "    linewidth = 3,\n",
    ")\n",
    "\n",
    "ax.set_xlabel( r'$t - t_{\\rm{condense}}$ (Gyr)', fontsize=22 )\n",
    "ax.set_ylabel( r'$\\theta$ ($\\degree$)', fontsize=22 )\n",
    "\n",
    "plotting.save_fig(\n",
    "    out_dir = '../figures',\n",
    "    save_file = 'theta_vs_t.png',\n",
    "    fig = fig,\n",
    ")"
   ]
  },
  {
   "cell_type": "code",
   "execution_count": null,
   "metadata": {},
   "outputs": [],
   "source": []
  }
 ],
 "metadata": {
  "kernelspec": {
   "display_name": "Python 3",
   "language": "python",
   "name": "python3"
  },
  "language_info": {
   "codemirror_mode": {
    "name": "ipython",
    "version": 3
   },
   "file_extension": ".py",
   "mimetype": "text/x-python",
   "name": "python",
   "nbconvert_exporter": "python",
   "pygments_lexer": "ipython3",
   "version": "3.7.1"
  }
 },
 "nbformat": 4,
 "nbformat_minor": 2
}
