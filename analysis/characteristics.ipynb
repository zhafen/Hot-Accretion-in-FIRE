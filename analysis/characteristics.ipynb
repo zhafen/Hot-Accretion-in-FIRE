{
 "cells": [
  {
   "cell_type": "code",
   "execution_count": 1,
   "metadata": {},
   "outputs": [],
   "source": [
    "import coolingFunction"
   ]
  },
  {
   "cell_type": "code",
   "execution_count": 2,
   "metadata": {},
   "outputs": [],
   "source": [
    "import copy\n",
    "import numpy as np\n",
    "import h5py\n",
    "import scipy\n",
    "import scipy.special\n",
    "import sys\n",
    "import verdict\n",
    "import os\n",
    "import tqdm\n",
    "import unyt"
   ]
  },
  {
   "cell_type": "code",
   "execution_count": 3,
   "metadata": {},
   "outputs": [],
   "source": [
    "import kalepy as kale"
   ]
  },
  {
   "cell_type": "code",
   "execution_count": 4,
   "metadata": {},
   "outputs": [],
   "source": [
    "import matplotlib\n",
    "import matplotlib.pyplot as plt\n",
    "import matplotlib.patches as mpatches\n",
    "import matplotlib.patheffects as path_effects\n",
    "import matplotlib.cm as cm\n",
    "import matplotlib.colors as plt_colors\n",
    "import matplotlib.gridspec as gridspec\n",
    "import matplotlib.transforms\n",
    "import palettable"
   ]
  },
  {
   "cell_type": "code",
   "execution_count": 5,
   "metadata": {},
   "outputs": [],
   "source": [
    "import linefinder.analyze_data.worldlines as a_worldlines\n",
    "import linefinder.analyze_data.worldline_set as worldline_set\n",
    "import linefinder.analyze_data.plot_worldlines as p_worldlines\n",
    "import linefinder.utils.presentation_constants as p_constants"
   ]
  },
  {
   "cell_type": "code",
   "execution_count": 6,
   "metadata": {},
   "outputs": [],
   "source": [
    "import galaxy_dive.analyze_data.ahf as analyze_ahf\n",
    "import galaxy_dive.plot_data.ahf as plot_ahf\n",
    "import galaxy_dive.analyze_data.particle_data as particle_data\n",
    "import galaxy_dive.plot_data.generic_plotter as generic_plotter\n",
    "import galaxy_dive.plot_data.plotting as plotting\n",
    "import galaxy_dive.utils.data_operations as data_operations\n",
    "import galaxy_dive.utils.executable_helpers as exec_helpers"
   ]
  },
  {
   "cell_type": "code",
   "execution_count": 7,
   "metadata": {},
   "outputs": [],
   "source": [
    "import linefinder.utils.file_management as file_management\n",
    "import linefinder.config as config"
   ]
  },
  {
   "cell_type": "code",
   "execution_count": 8,
   "metadata": {},
   "outputs": [],
   "source": [
    "import trove"
   ]
  },
  {
   "cell_type": "markdown",
   "metadata": {},
   "source": [
    "# Load Data"
   ]
  },
  {
   "cell_type": "code",
   "execution_count": 9,
   "metadata": {},
   "outputs": [],
   "source": [
    "pm = dict(\n",
    "    snum = 600,\n",
    "    tables_dir = '/work/03057/zhafen/CoolingTables/',\n",
    "    study_duplicates = False,\n",
    "    ahf_index = 600,\n",
    ")"
   ]
  },
  {
   "cell_type": "code",
   "execution_count": 10,
   "metadata": {},
   "outputs": [],
   "source": [
    "pm = trove.link_params_to_config(\n",
    "    '/home1/03057/zhafen/papers/Hot-Accretion-in-FIRE/analysis/hot_accretion.trove',\n",
    "    variation = 'm11i_md',\n",
    "    **pm\n",
    ")"
   ]
  },
  {
   "cell_type": "code",
   "execution_count": 11,
   "metadata": {},
   "outputs": [],
   "source": [
    "# Used so often it's nice to not enclose\n",
    "snum = pm['snum']\n",
    "ind = pm['ahf_index'] - snum"
   ]
  },
  {
   "cell_type": "code",
   "execution_count": 12,
   "metadata": {},
   "outputs": [],
   "source": [
    "w = a_worldlines.Worldlines(\n",
    "    tag = pm['tag'],\n",
    "    data_dir = pm['data_dir'],\n",
    "    halo_data_dir = pm['halo_data_dir'],\n",
    "    ahf_index = pm['ahf_index'],\n",
    ")"
   ]
  },
  {
   "cell_type": "code",
   "execution_count": 13,
   "metadata": {},
   "outputs": [
    {
     "name": "stderr",
     "output_type": "stream",
     "text": [
      "FutureWarning: Support for multi-dimensional indexing (e.g. `obj[:, None]`) is deprecated and will be removed in a future version.  Convert to a numpy array before indexing instead.\n"
     ]
    }
   ],
   "source": [
    "w.retrieve_halo_data()"
   ]
  },
  {
   "cell_type": "code",
   "execution_count": 14,
   "metadata": {},
   "outputs": [
    {
     "name": "stdout",
     "output_type": "stream",
     "text": [
      "$M_{\\rm h} = 10^{11} M_\\odot$, z=0.0\n"
     ]
    }
   ],
   "source": [
    "m_plot_label  = r'$M_{\\rm h} = 10^{' + '{:.02g}'.format( np.log10( w.m_vir[snum] ) )\n",
    "m_plot_label += '} M_\\odot$'\n",
    "plot_label = m_plot_label + ', z={:.02}'.format( w.redshift[snum] )\n",
    "print( plot_label )"
   ]
  },
  {
   "cell_type": "code",
   "execution_count": 15,
   "metadata": {},
   "outputs": [],
   "source": [
    "classification_list = copy.copy( p_constants.CLASSIFICATIONS_CGM_FATE )"
   ]
  },
  {
   "cell_type": "code",
   "execution_count": 16,
   "metadata": {},
   "outputs": [],
   "source": [
    "w_plotter = p_worldlines.WorldlinesPlotter( w, label=plot_label )"
   ]
  },
  {
   "cell_type": "markdown",
   "metadata": {},
   "source": [
    "# Data Pre-Processing"
   ]
  },
  {
   "cell_type": "markdown",
   "metadata": {},
   "source": [
    "## Calculate $\\theta$\n",
    "Also called $\\phi$..."
   ]
  },
  {
   "cell_type": "code",
   "execution_count": 17,
   "metadata": {},
   "outputs": [],
   "source": [
    "tot_momentum_fp = os.path.join( pm['processed_data_dir'], 'tot_momentums.hdf5' )\n",
    "tot_ang_momentum = verdict.Dict.from_hdf5( tot_momentum_fp )[pm['variation']]['snum{:03d}'.format( snum )]"
   ]
  },
  {
   "cell_type": "code",
   "execution_count": 18,
   "metadata": {},
   "outputs": [
    {
     "name": "stderr",
     "output_type": "stream",
     "text": [
      "FutureWarning: elementwise comparison failed; returning scalar instead, but in the future will perform elementwise comparison\n"
     ]
    }
   ],
   "source": [
    "w.calc_abs_phi( normal_vector=tot_ang_momentum )"
   ]
  },
  {
   "cell_type": "markdown",
   "metadata": {},
   "source": [
    "## Calculate mass deposition"
   ]
  },
  {
   "cell_type": "code",
   "execution_count": 19,
   "metadata": {},
   "outputs": [],
   "source": [
    "delta_m = w.get_data( 'M' )[:,:-1] - w.get_data( 'M' )[:,1:]\n",
    "deposited_m = np.ma.masked_array( delta_m, delta_m<0 ).sum( axis=1 ).data"
   ]
  },
  {
   "cell_type": "markdown",
   "metadata": {},
   "source": [
    "# Analysis"
   ]
  },
  {
   "cell_type": "code",
   "execution_count": 20,
   "metadata": {},
   "outputs": [],
   "source": [
    "# Setup axes\n",
    "t_window = 1.\n",
    "t = w.get_data( 'time' )\n",
    "x_range = [ t[ind] - t_window, t[ind] ]"
   ]
  },
  {
   "cell_type": "code",
   "execution_count": 21,
   "metadata": {},
   "outputs": [],
   "source": [
    "t_snaps = t[( t > x_range[0] ) & ( t < x_range[1] )][::-1]"
   ]
  },
  {
   "cell_type": "code",
   "execution_count": 22,
   "metadata": {},
   "outputs": [],
   "source": [
    "n_snaps = t_snaps.size"
   ]
  },
  {
   "cell_type": "code",
   "execution_count": 23,
   "metadata": {},
   "outputs": [],
   "source": [
    "dt = t_snaps[1:] - t_snaps[:-1]"
   ]
  },
  {
   "cell_type": "code",
   "execution_count": 24,
   "metadata": {},
   "outputs": [],
   "source": [
    "t_bins = np.zeros( ( t_snaps.size + 1, ) )\n",
    "t_bins[1:-1] = t_snaps[:-1] + dt / 2.\n",
    "t_bins[0] = t_snaps[0] - dt[0] / 2.\n",
    "t_bins[-1] = t_snaps[-1] + dt[-1] / 2."
   ]
  },
  {
   "cell_type": "code",
   "execution_count": 25,
   "metadata": {},
   "outputs": [
    {
     "name": "stderr",
     "output_type": "stream",
     "text": [
      "UserWarning: Warning: 'partition' will ignore the 'mask' of the MaskedArray.\n",
      "RuntimeWarning: All-NaN slice encountered\n",
      "RuntimeWarning: All-NaN slice encountered\n",
      "100%|██████████| 1777/1777 [00:00<00:00, 2319.05it/s]\n"
     ]
    }
   ],
   "source": [
    "   \n",
    "w.data_masker.clear_masks()\n",
    "w.data_masker.mask_data( 'PType', data_value=0 )\n",
    "\n",
    "# Median and interval stats\n",
    "logT = np.log10( w.get_selected_data( 'T', compress=False ) )#[:,ind:ind+n_snaps+1]\n",
    "R = w.get_selected_data( 'R', compress=False )#[:,ind:ind+n_snaps+1]\n",
    "L = w.get_selected_data( 'Lmag', compress=False )#[:,ind:ind+n_snaps+1]\n",
    "M = w.get_selected_data( 'M', compress=False )#[:,ind:ind+n_snaps+1]\n",
    "\n",
    "logT_med = np.nanmedian( logT, axis=0 )\n",
    "R_med = np.nanmedian( R, axis=0 )\n",
    "\n",
    "logT_low = np.nanpercentile( logT, 16, axis=0 )\n",
    "logT_high = np.nanpercentile( logT, 84, axis=0 )\n",
    "\n",
    "R_low = np.nanpercentile( R, 16, axis=0 )\n",
    "R_high = np.nanpercentile( R, 84, axis=0 )\n",
    "\n",
    "inds = w.get_data( 't_1e5_inds' )\n",
    "\n",
    "R_at_Tcool = np.array( [ R[i, ind] for i, ind in enumerate( inds ) ] )\n",
    "M_at_Tcool = np.array( [ M[i, ind] for i, ind in enumerate( inds ) ] )\n",
    "L_at_Tcool = np.array( [ L[i, ind] for i, ind in enumerate( inds ) ] )\n",
    "R_rgal_at_Tcool = np.array( [ R[i, ind]/w.r_gal[ind] for i, ind in enumerate( inds ) ] )\n",
    "\n",
    "t_at_Tcool = np.array( [ t[ind] for ind in inds ] )\n"
   ]
  },
  {
   "cell_type": "markdown",
   "metadata": {},
   "source": [
    "### Store for Later Use"
   ]
  },
  {
   "cell_type": "code",
   "execution_count": 26,
   "metadata": {},
   "outputs": [],
   "source": [
    "data_fp = os.path.join( pm['processed_data_dir'], 'summary.hdf5' )"
   ]
  },
  {
   "cell_type": "code",
   "execution_count": 27,
   "metadata": {},
   "outputs": [],
   "source": [
    "try:\n",
    "    data = verdict.Dict.from_hdf5( data_fp )\n",
    "except OSError:\n",
    "    data = verdict.Dict({})"
   ]
  },
  {
   "cell_type": "code",
   "execution_count": 28,
   "metadata": {},
   "outputs": [],
   "source": [
    "# Store R for later use\n",
    "r_vir = w.r_vir[snum]\n",
    "r_points, r_pdf = kale.density(\n",
    "    R_at_Tcool[np.invert(np.isnan(R_at_Tcool))],\n",
    "    points = np.linspace( 0., r_vir, 512 ),\n",
    "    probability = True,\n",
    "    reflect = [ 0., None ],\n",
    ")"
   ]
  },
  {
   "cell_type": "code",
   "execution_count": 29,
   "metadata": {},
   "outputs": [],
   "source": [
    "data_to_store = {\n",
    "    'points': r_points,\n",
    "    'pdf': r_pdf,\n",
    "    'median': np.nanmedian( R_at_Tcool ),\n",
    "    '16th_percentile': np.nanpercentile( R_at_Tcool, 16 ),\n",
    "    '84th_percentile': np.nanpercentile( R_at_Tcool, 84 ),\n",
    "}"
   ]
  },
  {
   "cell_type": "code",
   "execution_count": 30,
   "metadata": {},
   "outputs": [],
   "source": [
    "# Store radius for later use\n",
    "if not 'R1e5K' in data.keys():\n",
    "    data['R1e5K'] = {}\n",
    "for key, item in data_to_store.items():\n",
    "    if key not in data['R1e5K']:\n",
    "        data['R1e5K'][key] = {}\n",
    "    data['R1e5K'][key][pm['variation']] = item"
   ]
  },
  {
   "cell_type": "code",
   "execution_count": 31,
   "metadata": {},
   "outputs": [],
   "source": [
    "# Store R for later use\n",
    "r_vir = w.r_vir[snum]\n",
    "r_points, r_pdf = kale.density(\n",
    "    R_rgal_at_Tcool[np.invert(np.isnan(R_rgal_at_Tcool))],\n",
    "    points = np.linspace( 0., r_vir / w.r_gal[0], 512 ),\n",
    "    probability = True,\n",
    "    reflect = [ 0., None ],\n",
    ")"
   ]
  },
  {
   "cell_type": "code",
   "execution_count": 32,
   "metadata": {},
   "outputs": [],
   "source": [
    "data_to_store = {\n",
    "    'points': r_points,\n",
    "    'pdf': r_pdf,\n",
    "    'median': np.nanmedian( R_rgal_at_Tcool ),\n",
    "    '16th_percentile': np.nanpercentile( R_rgal_at_Tcool, 16 ),\n",
    "    '84th_percentile': np.nanpercentile( R_rgal_at_Tcool, 84 ),\n",
    "}"
   ]
  },
  {
   "cell_type": "code",
   "execution_count": 33,
   "metadata": {},
   "outputs": [],
   "source": [
    "# Store radius relative to galaxy radius for later use\n",
    "if not 'R1e5K_rgal' in data.keys():\n",
    "    data['R1e5K_rgal'] = {}\n",
    "for key, item in data_to_store.items():\n",
    "    if key not in data['R1e5K_rgal']:\n",
    "        data['R1e5K_rgal'][key] = {}\n",
    "    data['R1e5K_rgal'][key][pm['variation']] = item"
   ]
  },
  {
   "cell_type": "code",
   "execution_count": 34,
   "metadata": {},
   "outputs": [],
   "source": [
    "# Store number of particles tracked\n",
    "if not 'n_tracked' in data.keys():\n",
    "    data['n_tracked'] = {}\n",
    "data['n_tracked'][pm['variation']] = w.n_particles"
   ]
  },
  {
   "cell_type": "code",
   "execution_count": 35,
   "metadata": {},
   "outputs": [
    {
     "name": "stdout",
     "output_type": "stream",
     "text": [
      "Stored summary data at /home1/03057/zhafen/papers/Hot-Accretion-in-FIRE/data/summary.hdf5\n"
     ]
    }
   ],
   "source": [
    "data.to_hdf5( data_fp )\n",
    "print( 'Stored summary data at {}'.format( data_fp ) )"
   ]
  },
  {
   "cell_type": "markdown",
   "metadata": {},
   "source": [
    "## Accretion Tracks and $R_{\\rm 10^5K}$ Distribution"
   ]
  },
  {
   "cell_type": "code",
   "execution_count": 36,
   "metadata": {},
   "outputs": [],
   "source": [
    "dt_before = -1.\n",
    "dt_after = 0.5\n",
    "color_dt = 0.2\n",
    "n_particles = 5\n",
    "x_lim = np.array( [ 0, 105 ] )\n",
    "y_lim = np.array( [ 5e3, 5e6 ] )\n",
    "y2_lim = np.array( [ 1, 1e2 ] )"
   ]
  },
  {
   "cell_type": "code",
   "execution_count": 37,
   "metadata": {},
   "outputs": [
    {
     "name": "stdout",
     "output_type": "stream",
     "text": [
      "Median R_at_Tcool = 0.148 Rvir\n"
     ]
    },
    {
     "name": "stderr",
     "output_type": "stream",
     "text": [
      "MatplotlibDeprecationWarning: The 's' parameter of annotate() has been renamed 'text' since Matplotlib 3.3; support for the old name will be dropped two minor releases later.\n",
      "MatplotlibDeprecationWarning: Adding an axes using the same arguments as a previous axes currently reuses the earlier instance.  In a future version, a new instance will always be created and returned.  Meanwhile, this warning can be suppressed, and the future behavior ensured, by passing a unique label to each axes instance.\n",
      "RuntimeWarning: divide by zero encountered in log10\n",
      "RuntimeWarning: divide by zero encountered in log10\n",
      "MatplotlibDeprecationWarning: The 's' parameter of annotate() has been renamed 'text' since Matplotlib 3.3; support for the old name will be dropped two minor releases later.\n",
      "MatplotlibDeprecationWarning: The 's' parameter of annotate() has been renamed 'text' since Matplotlib 3.3; support for the old name will be dropped two minor releases later.\n"
     ]
    },
    {
     "name": "stdout",
     "output_type": "stream",
     "text": [
      "File saved at /home1/03057/zhafen/papers/Hot-Accretion-in-FIRE/figures/tracks/tracks_m11i_md.pdf\n"
     ]
    },
    {
     "data": {
      "image/png": "[encoded data removed]",
      "text/plain": [
       "<Figure size 864x792 with 3 Axes>"
      ]
     },
     "metadata": {},
     "output_type": "display_data"
    }
   ],
   "source": [
    "%matplotlib inline\n",
    "\n",
    "# Load sim data\n",
    "\n",
    "w.data_masker.clear_masks()\n",
    "\n",
    "# Only include particles that have never left the main galaxy\n",
    "w.data_masker.mask_data( 'n_out', -1, 1 )\n",
    "\n",
    "np.random.seed( 4 )\n",
    "\n",
    "fig = plt.figure( figsize=(12, 11), facecolor='w' )\n",
    "ax = plt.gca()\n",
    "\n",
    "gs = gridspec.GridSpec(7, 1)\n",
    "gs.update( hspace=0.001 )\n",
    "\n",
    "ax1 = plt.subplot(gs[:2,0])\n",
    "\n",
    "r_for_hist = copy.copy( R_at_Tcool )\n",
    "r_for_hist[r_for_hist>x_lim[1]] = x_lim[1]*.99\n",
    "bins = np.linspace( x_lim[0], x_lim[1], 256 )\n",
    "centers = bins[:-1] + 0.5 * ( bins[1] - bins[0] )\n",
    "\n",
    "r_points, r_pdf = kale.density(\n",
    "    r_for_hist[np.invert(np.isnan(r_for_hist))],\n",
    "    points = centers,\n",
    "    probability = True,\n",
    "    reflect = [ 0., None ],\n",
    ")\n",
    "ax1.fill_between(\n",
    "    r_points,\n",
    "    r_pdf,\n",
    "    color = '0.5',\n",
    "    linewidth = 5,\n",
    ")\n",
    "\n",
    "# n, bins, patches = ax1.hist(\n",
    "#     r_for_hist,\n",
    "#     bins = ,\n",
    "#     color = '0.5',\n",
    "#     density = True,\n",
    "# )\n",
    "\n",
    "print( 'Median R_at_Tcool = {:.3g} Rvir'.format( np.nanmedian( R_at_Tcool ) / r_vir ) )\n",
    "\n",
    "# Don't do the below, because it's so far out that it's not visible\n",
    "# Create plot for volume filling distribution\n",
    "#     n_rand = int( 1e5 )\n",
    "#     data_coords = np.random.uniform( -r_vir, r_vir, (3, n_rand ) )\n",
    "#     data_r = np.sqrt( ( data_coords ** 2. ).sum( axis=0 ) )\n",
    "#     filtered_data_r = data_r[data_r<r_vir]\n",
    "#     ax1.hist(\n",
    "#         filtered_data_r,\n",
    "#         bins = bins,\n",
    "#         color = 'k',\n",
    "#         density = True,\n",
    "#         histtype = 'step',\n",
    "#         linewidth = 3,\n",
    "#         linestyle = '--',\n",
    "#     )\n",
    "\n",
    "# ax.axvline(\n",
    "#     np.median( R_at_Tcool ),\n",
    "#     color = 'k',\n",
    "# )\n",
    "\n",
    "# ax1.axvline(\n",
    "#     w.r_gal[0],\n",
    "#     color = 'k',\n",
    "#     linestyle = '--',\n",
    "#     linewidth = 3,\n",
    "# )\n",
    "\n",
    "ax1.set_xlim( x_lim )\n",
    "ax1.set_ylim( 0, r_pdf.max()*1.05 )\n",
    "\n",
    "ax1.set_xlabel( r'$R_{T=10^5{\\rm K}}$ (kpc)', fontsize=22, labelpad=10 )\n",
    "ax1.xaxis.set_label_position( 'top' )\n",
    "ax1.set_ylabel( 'PDF', fontsize=22, )\n",
    "\n",
    "ax1.tick_params( axis='x', top=True, labeltop=True, bottom=False, labelbottom=False )\n",
    "# ax1.tick_params( axis='y', left=False, labelleft=False, )\n",
    "\n",
    "ax1.annotate(\n",
    "    s='radius at which accreted gas cools\\n{}'.format( pm['variation'] ),\n",
    "    xy=(1,1),\n",
    "    xycoords='axes fraction',\n",
    "    xytext=(-10,-10),\n",
    "    textcoords='offset points',\n",
    "    ha = 'right',\n",
    "    va = 'top',\n",
    "    fontsize = 22,\n",
    ")\n",
    "\n",
    "\n",
    "### FLOW PLOT ####\n",
    "\n",
    "ax2 = plt.subplot(gs[2:,0])\n",
    "ax3 = ax\n",
    "\n",
    "# Choose particles\n",
    "particle_inds = np.random.choice( np.arange( w.n_particles ), size=n_particles, replace=False )\n",
    "\n",
    "# Get the time at the phase\n",
    "t_min_t_cool = ( t[:,np.newaxis] - t[inds] ).transpose()\n",
    "w.data['t_rel_t1e5'] = t_min_t_cool\n",
    "\n",
    "# Get positions in r-T space and color\n",
    "valid_value = ( t_min_t_cool < dt_after ) & ( t_min_t_cool > dt_before )\n",
    "valid_value = valid_value & ( w.get_data( 'n_out' ) == 0 )\n",
    "valid_value_inds = valid_value[particle_inds]\n",
    "r_vecs_all = w.get_data( 'R' )[particle_inds]\n",
    "T_vecs_all = w.get_data( 'T' )[particle_inds]\n",
    "K_vecs_all = w.get_data( 'entropy' )[particle_inds]\n",
    "\n",
    "# Plot quivers for each particles\n",
    "for k, particle_ind in enumerate( particle_inds ):\n",
    "\n",
    "    # Format for quiver\n",
    "    r_vecs = r_vecs_all[k][valid_value_inds[k]]\n",
    "    T_vecs = np.log10( T_vecs_all[k][valid_value_inds[k]] )\n",
    "    K_vecs = np.log10( K_vecs_all[k][valid_value_inds[k]] )\n",
    "    x = r_vecs[1:]\n",
    "    y = T_vecs[1:]\n",
    "    y2 = K_vecs[1:]\n",
    "    dx = r_vecs[:-1] - r_vecs[1:]\n",
    "    dy = T_vecs[:-1] - T_vecs[1:]\n",
    "    dy2 = K_vecs[:-1] - K_vecs[1:]\n",
    "    angles_deg = np.arctan2( dy, dx ) * 180. / np.pi\n",
    "    C = t_min_t_cool[particle_inds][k,valid_value_inds[k]][1:] * 1e3\n",
    "\n",
    "    # Plot quiver\n",
    "    quiver = ax2.quiver(\n",
    "        x, y,\n",
    "        dx, dy,\n",
    "        C,\n",
    "        angles = 'xy',\n",
    "        units = 'y',\n",
    "        scale = 10,\n",
    "        minshaft = 2,\n",
    "        headwidth = 2,\n",
    "        headlength = 3.5,\n",
    "#             color = 'red',\n",
    "        cmap = palettable.scientific.diverging.Berlin_5_r.mpl_colormap,\n",
    "        norm = plt.Normalize( -color_dt*1e3, color_dt*1e3 ),\n",
    "    )\n",
    "    plotting.add_colorbar(\n",
    "        fig,\n",
    "#             ax2,\n",
    "        quiver,\n",
    "        ax_location = [0.905, 0.125, 0.03, 0.5],\n",
    "#             method = 'ax',\n",
    "    )\n",
    "\n",
    "#     w_plotter.plot_streamlines(\n",
    "#         ax = ax2,\n",
    "#         x_key = 'R',\n",
    "#         y_key = 'logT',\n",
    "#         start_ind = ind,\n",
    "#         end_ind = 'time_based',\n",
    "#         t_end = 5.,\n",
    "#         sample_inds = particle_inds,\n",
    "#         sample_selected_interval = False,\n",
    "# #         x_data_kwargs = { 'smooth_data' : True, 'smoothing_window_length' : 7 },\n",
    "# #         y_data_kwargs = { 'smooth_data' : True, 'smoothing_window_length' : 7 },\n",
    "#         color = 'black',\n",
    "#         fade_color = 'black',\n",
    "#         min_fade_linewidth = 0.5,\n",
    "#     #     fade_streamlines = False,\n",
    "#     #     line_features = gas_to_star_line_features,\n",
    "#         linewidth = 1,\n",
    "#         x_label = 'R (kpc)',\n",
    "#         y_label = 'logT (K)',\n",
    "#     #     y_scale = 'log',\n",
    "#         x_range = [ 0, 100. ],\n",
    "#         y_range = [ 3.5, 6.9 ],\n",
    "#     #     y_floor = 10.**3.8,\n",
    "#     )\n",
    "\n",
    "# Plot reference entropy lines\n",
    "r = w.get_data( 'R' )\n",
    "at_border = ( r < 1.1 * x_lim[1] ) & ( r > 0.9 * x_lim[1] ) & valid_value\n",
    "k_at_border = w.get_data( 'entropy' )[at_border]\n",
    "med_k_at_border = np.nanmedian( k_at_border )\n",
    "a_vals = [ 0, 1, 2 ]\n",
    "r_arr = np.linspace( x_lim[0], x_lim[1], 256 )\n",
    "k_arrs = [ med_k_at_border * ( r_arr / x_lim[1] )**a for a in a_vals ]\n",
    "for m, k_arr in enumerate( k_arrs ):\n",
    "    ax3.plot(\n",
    "        r_arr,\n",
    "        np.log10( k_arr ),\n",
    "        color = '0.25',\n",
    "        linewidth = 1.5,\n",
    "#             linestyle = '--',\n",
    "    )\n",
    "    ax3.annotate(\n",
    "        text = r'$\\propto r^{' + str( a_vals[m] ) + r'}$',\n",
    "        xy = ( r_arr[100], np.log10( k_arr[100] ) ),\n",
    "        xycoords = 'data',\n",
    "        xytext = ( 0, 0 ),\n",
    "        textcoords = 'offset points',\n",
    "        ha = 'right',\n",
    "        va = 'bottom',\n",
    "        fontsize = 24,\n",
    "        color = '0.25',\n",
    "    )\n",
    "\n",
    "# # Time\n",
    "# ax.plot(\n",
    "#     R_med,\n",
    "#     logT_med,\n",
    "#     linewidth = 3,\n",
    "#     color = 'b',\n",
    "# )\n",
    "# ax.fill_between(\n",
    "#     R_med,\n",
    "#     logT_low,\n",
    "#     logT_high,\n",
    "#     color = 'b',\n",
    "#     alpha = 0.25,\n",
    "# )\n",
    "\n",
    "for ax_k in [ ax2, ax3 ]:\n",
    "    ax_k.annotate(\n",
    "        text = 'accretion tracks',\n",
    "        xy=(1,0),\n",
    "        xycoords='axes fraction',\n",
    "        xytext=(-10,10),\n",
    "        textcoords='offset points',\n",
    "        ha = 'right',\n",
    "        va = 'bottom',\n",
    "        fontsize = 22,\n",
    "    )\n",
    "\n",
    "t_label = ax2.annotate(\n",
    "    text = r'$t - t_{T=10^5 {\\rm K}}$ (Myr)',\n",
    "    xy = ( 1, 0 ),\n",
    "    xycoords = 'axes fraction',\n",
    "    xytext = ( 20, -30 ),\n",
    "    textcoords = 'offset points',\n",
    "    ha = 'center',\n",
    "    va = 'top',\n",
    "    fontsize = 24,\n",
    ")\n",
    "\n",
    "# Radius lines\n",
    "for ax_k in [ ax1, ax2, ax3 ]:\n",
    "    ax_k.axvline(\n",
    "        0.1 * r_vir,\n",
    "        color = 'k',\n",
    "        linestyle = '--',\n",
    "        linewidth = 3,\n",
    "    )\n",
    "#     ax_k.axvline(\n",
    "#         r_vir,\n",
    "#         color = 'k',\n",
    "#         linestyle = '--',\n",
    "#         linewidth = 3,\n",
    "#     )\n",
    "    ax_k.axvline(\n",
    "        w.r_gal[ind],\n",
    "        color = 'k',\n",
    "        linestyle = '--',\n",
    "        linewidth = 3,\n",
    "    )\n",
    "    if ax_k.is_first_row():\n",
    "        trans = matplotlib.transforms.blended_transform_factory( ax_k.transData, ax_k.transAxes )\n",
    "        ax_k.annotate(\n",
    "            s = r'$0.1 R_{\\rm vir}$',\n",
    "            xy = ( 0.1 * r_vir, 1.0 ),\n",
    "            xycoords = trans,\n",
    "            xytext = ( 6, -10 ),\n",
    "            textcoords = 'offset points',\n",
    "            ha = 'left',\n",
    "            va = 'top',\n",
    "            fontsize = 24,\n",
    "        )\n",
    "        ax_k.annotate(\n",
    "            s = r'$ R_{\\rm gal}$',\n",
    "            xy = ( w.r_gal[ind], 1.0 ),\n",
    "            xycoords = trans,\n",
    "            xytext = ( -6, -10 ),\n",
    "            textcoords = 'offset points',\n",
    "            ha = 'right',\n",
    "            va = 'top',\n",
    "            fontsize = 24,\n",
    "        )\n",
    "\n",
    "# Remove bottom ticks on middle axis\n",
    "#     ax2.tick_params( axis='x', bottom=False, labelbottom=False )\n",
    "\n",
    "ax2.set_xlim( x_lim )\n",
    "ax2.set_ylim( np.log10( y_lim ) )\n",
    "ax2.set_ylabel( '$\\log$T (K)', fontsize=22 )\n",
    "ax3.set_xlim( x_lim )\n",
    "ax3.set_ylim( np.log10( y2_lim) )\n",
    "ax2.set_xlabel( 'R (kpc)', fontsize=22 )\n",
    "ax3.set_ylabel( r'$\\log$K (Kev cm$^2$)', fontsize=22 )\n",
    "\n",
    "plotting.save_fig(\n",
    "    out_dir = os.path.join( pm['figure_dir'], 'tracks' ),\n",
    "    save_file = 'tracks_{}.pdf'.format( pm['variation'] ),\n",
    "    fig = fig,\n",
    ")\n"
   ]
  },
  {
   "cell_type": "markdown",
   "metadata": {},
   "source": [
    "## Angular Distribution"
   ]
  },
  {
   "cell_type": "code",
   "execution_count": 38,
   "metadata": {},
   "outputs": [],
   "source": [
    "bins = np.linspace( -1., 1., 128 )\n",
    "centers = bins[:-1] + 0.5 * ( bins[1] - bins[0] )"
   ]
  },
  {
   "cell_type": "code",
   "execution_count": 39,
   "metadata": {},
   "outputs": [],
   "source": [
    "t_t1e5_centers = np.array([ -0.15, -0.06, -0.03, 0., 0.03, 0.06, 0.15, ])"
   ]
  },
  {
   "cell_type": "code",
   "execution_count": 40,
   "metadata": {},
   "outputs": [],
   "source": [
    "def calc_sph_harm_moment( l, m, phi, masses, radii ):\n",
    "    \n",
    "    prefactor = np.sqrt( 4. * np.pi / (2. * l + 1) )\n",
    "    ylm = scipy.special.sph_harm( m, l, 0., phi ).real\n",
    "    to_sum = masses * radii**l * ylm\n",
    "    \n",
    "    return prefactor * to_sum.sum()"
   ]
  },
  {
   "cell_type": "code",
   "execution_count": 55,
   "metadata": {},
   "outputs": [
    {
     "name": "stderr",
     "output_type": "stream",
     "text": [
      "100%|██████████| 7/7 [00:00<00:00, 133.37it/s]\n"
     ]
    }
   ],
   "source": [
    "# Get the time at the phase\n",
    "t_t1e5 = ( t[:,np.newaxis] - t[inds] ).transpose()\n",
    "t_t1e5_flat = t_t1e5.flatten()\n",
    "\n",
    "# Get phi (also known as theta)\n",
    "w.data_masker.clear_masks()\n",
    "w.data_masker.mask_data( 'PType', data_value=0 )\n",
    "\n",
    "phi = w.get_selected_data( 'Phi', compress=False ).flatten()\n",
    "r_scale = np.full( w.n_snaps, np.nan )\n",
    "r_scale[:w.r_gal.size] = w.r_gal\n",
    "radii = ( w.get_selected_data( 'R', compress=False ) / r_scale ).flatten()\n",
    "masses = w.get_selected_data( 'M', compress=False ).flatten()\n",
    "\n",
    "# Get distributions\n",
    "cosphi_dists = []\n",
    "cosphi_pdfs = []\n",
    "cosphi_16ths = []\n",
    "cosphi_84ths = []\n",
    "cosphi_stds = []\n",
    "q20 = []\n",
    "q33 = []\n",
    "dt = t_t1e5_centers[1] - t_t1e5_centers[0]\n",
    "for i, center in enumerate( tqdm.tqdm( t_t1e5_centers ) ):\n",
    "    bin_low = center - dt / 2.\n",
    "    bin_high = center + dt / 2.\n",
    "    in_bin = ( t_t1e5_flat > bin_low ) & ( t_t1e5_flat < bin_high )\n",
    "    \n",
    "    phi_arr = phi[in_bin]\n",
    "    phi_arr_rad = phi_arr * np.pi / 180.\n",
    "    cosphi_arr = np.cos( phi_arr_rad )\n",
    "    cosphi_points, cosphi_pdf = kale.density(\n",
    "        cosphi_arr[np.invert(np.isnan(cosphi_arr))],\n",
    "        points = centers,\n",
    "        probability = True,\n",
    "        reflect = [ -1., 1. ],\n",
    "    )\n",
    "    cosphi_hist, cosphi_bins = np.histogram(\n",
    "        cosphi_arr[np.invert(np.isnan(cosphi_arr))],\n",
    "        bins = bins,\n",
    "        density = True,\n",
    "    )\n",
    "    cosphi_pdfs.append( cosphi_pdf )\n",
    "    cosphi_dists.append( cosphi_hist )\n",
    "    \n",
    "    cosphi_arr_comp = cosphi_arr.compressed()\n",
    "    cosphi_16ths.append( np.nanpercentile( cosphi_arr_comp, 16 ) )\n",
    "    cosphi_84ths.append( np.nanpercentile( cosphi_arr_comp, 84. ) )\n",
    "    cosphi_stds.append( np.nanstd( cosphi_arr_comp ) )\n",
    "    \n",
    "    masked = np.invert( radii.mask ) & in_bin\n",
    "    q20_i = calc_sph_harm_moment(\n",
    "        2,\n",
    "        0,\n",
    "        phi[masked].compressed(),\n",
    "        masses[masked].compressed(),\n",
    "        radii[masked].compressed()\n",
    "    )\n",
    "    q20.append( q20_i )\n",
    "    q33_i = calc_sph_harm_moment(\n",
    "        3,\n",
    "        3,\n",
    "        phi[masked].compressed(),\n",
    "        masses[masked].compressed(),\n",
    "        radii[masked].compressed()\n",
    "    )\n",
    "    q33.append( q33_i )"
   ]
  },
  {
   "cell_type": "code",
   "execution_count": 56,
   "metadata": {},
   "outputs": [],
   "source": [
    "labeled_is = np.arange( len( t_t1e5_centers ) )"
   ]
  },
  {
   "cell_type": "code",
   "execution_count": 58,
   "metadata": {},
   "outputs": [
    {
     "name": "stdout",
     "output_type": "stream",
     "text": [
      "File saved at /home1/03057/zhafen/papers/Hot-Accretion-in-FIRE/figures/ang_dist_evolution/theta_vs_t_m11i_md.pdf\n"
     ]
    },
    {
     "data": {
      "image/png": "[encoded data removed]",
      "text/plain": [
       "<Figure size 720x324 with 1 Axes>"
      ]
     },
     "metadata": {},
     "output_type": "display_data"
    }
   ],
   "source": [
    "fig = plt.figure( figsize=(10, 4.5 ), facecolor='w' )\n",
    "ax = plt.gca()\n",
    "\n",
    "z_max = t_t1e5_centers.max()\n",
    "z_min = t_t1e5_centers.min()\n",
    "        \n",
    "for i, cosphi_dist in enumerate( cosphi_dists ):\n",
    "\n",
    "    z_width = z_max - z_min\n",
    "    color_value = ( t_t1e5_centers[i] - z_min )/z_width\n",
    "    color = palettable.scientific.diverging.Roma_3.mpl_colormap( color_value )\n",
    "\n",
    "    if i in labeled_is:\n",
    "        if np.isclose( t_t1e5_centers[i], 0. ):\n",
    "            t_t1e5_centers[i] = 0\n",
    "#             label = (\n",
    "#                 r'$t - t_{T=10^5 {\\rm K}}$ =' +\n",
    "#                 ' {:.3g}'.format( t_tphase_centers[i]*1e3 ) +\n",
    "#                 r' Myr'\n",
    "#             )\n",
    "        label = (\n",
    "            '{:.3g}'.format( t_t1e5_centers[i]*1e3 ) +\n",
    "            r' Myr'\n",
    "        )\n",
    "    else:\n",
    "        label = None\n",
    "\n",
    "    line = ax.plot(\n",
    "        centers,\n",
    "        cosphi_dist, #/ (np.pi / 180. / 2. * np.sin( bin_centers * np.pi/180. ) ),\n",
    "        linewidth = 5,\n",
    "        color = color,\n",
    "        label = label,\n",
    "#             zorder = 10 - i,\n",
    "    )\n",
    "\n",
    "ax.tick_params(\n",
    "    axis = 'x',\n",
    "    top = True,\n",
    "    labeltop = ax.is_first_row(),\n",
    "    bottom = ax.is_last_row(),\n",
    "    labelbottom = ax.is_last_row(),\n",
    ")\n",
    "\n",
    "ax.axhline(\n",
    "    0.5,\n",
    "    color = '.2',\n",
    "    linestyle = '-',\n",
    "    linewidth = 2,\n",
    ")\n",
    "ax.axvline(\n",
    "    0,\n",
    "    color = '.2',\n",
    "    linestyle = '-',\n",
    "    linewidth = 2,\n",
    ")\n",
    "\n",
    "# Sim name label\n",
    "ax.annotate(\n",
    "    text = pm['variation'],\n",
    "    xy = ( 0, 1 ),\n",
    "    xycoords = 'axes fraction',\n",
    "    xytext = ( 20, -20 ),\n",
    "    textcoords = 'offset points',\n",
    "    ha = 'left',\n",
    "    va = 'top',\n",
    "    fontsize = 26,\n",
    ")\n",
    "\n",
    "# line labels\n",
    "ax.annotate(\n",
    "    text = 'spherical\\ndistribution',\n",
    "    xy = ( -1, 0.5 ),\n",
    "    xycoords = 'data',\n",
    "    xytext = ( 10, 10 ),\n",
    "    textcoords = 'offset points',\n",
    "    ha = 'left',\n",
    "    va = 'bottom',\n",
    "    fontsize = 22,\n",
    ")\n",
    "ax.annotate(\n",
    "    text = 'disc\\ndistribution',\n",
    "    xy = ( 0, 3.75 ),\n",
    "    xycoords = 'data',\n",
    "    xytext = ( 15, -10 ),\n",
    "    textcoords = 'offset points',\n",
    "    ha = 'left',\n",
    "    va = 'top',\n",
    "    fontsize = 22,\n",
    ")\n",
    "\n",
    "t_label = ax.annotate(\n",
    "    text = r'$t - t_{T=10^5 {\\rm K}}$',\n",
    "    xy = ( 1, 0.875 ),\n",
    "    xycoords = 'axes fraction',\n",
    "    xytext = ( -25, 0 ),\n",
    "    textcoords = 'offset points',\n",
    "    ha = 'right',\n",
    "    va = 'bottom',\n",
    "    fontsize = 24,\n",
    ")\n",
    "t_label.set_zorder( 1000 )\n",
    "ax.legend(\n",
    "    prop={'size': 17},\n",
    "    loc = 'center right',\n",
    ")\n",
    "\n",
    "ax.set_xlim( -1, 1 )\n",
    "ax.set_ylim( 0, 3.75 )\n",
    "\n",
    "ax.set_xlabel( r'$\\cos\\ \\theta$', fontsize=22 )\n",
    "# if ax.is_first_row():\n",
    "#     ax.xaxis.set_label_position( 'top' )\n",
    "ax.set_ylabel( r'PDF$\\ (\\cos\\ \\theta$)', fontsize=22 )\n",
    "\n",
    "plotting.save_fig(\n",
    "    out_dir = os.path.join( pm['figure_dir'], 'ang_dist_evolution' ),\n",
    "    save_file = 'theta_vs_t_{}.pdf'.format( pm['variation'] ),\n",
    "    fig = fig,\n",
    ")"
   ]
  },
  {
   "cell_type": "markdown",
   "metadata": {},
   "source": [
    "### Store phis for later aggregate use"
   ]
  },
  {
   "cell_type": "code",
   "execution_count": 44,
   "metadata": {},
   "outputs": [],
   "source": [
    "zero_ind = np.argmin( np.abs( centers ) )\n",
    "pdf_at_zero = np.array( cosphi_dists )[:,zero_ind]"
   ]
  },
  {
   "cell_type": "code",
   "execution_count": 45,
   "metadata": {},
   "outputs": [],
   "source": [
    "data_to_store = {\n",
    "    'points': centers,\n",
    "    't_t1e5_centers': t_t1e5_centers,\n",
    "    'pdf': np.array( cosphi_pdfs ),\n",
    "    'hist': np.array( cosphi_dists ),\n",
    "    '16th_percentile': cosphi_16ths,\n",
    "    '84th_percentile': cosphi_84ths,\n",
    "    'std': cosphi_stds,\n",
    "    'pdf(cos theta=0)': pdf_at_zero,\n",
    "    'q20': q20,\n",
    "    'q33': q33,\n",
    "}"
   ]
  },
  {
   "cell_type": "code",
   "execution_count": 46,
   "metadata": {},
   "outputs": [
    {
     "name": "stdout",
     "output_type": "stream",
     "text": [
      "Stored summary data at /home1/03057/zhafen/papers/Hot-Accretion-in-FIRE/data/summary.hdf5\n"
     ]
    }
   ],
   "source": [
    "# Store circularity for later use\n",
    "if not 'cosphi' in data.keys():\n",
    "    data['cosphi'] = {}\n",
    "for key, item in data_to_store.items():\n",
    "    if key not in data['cosphi']:\n",
    "        data['cosphi'][key] = {}\n",
    "    data['cosphi'][key][pm['variation']] = item\n",
    "data.to_hdf5( data_fp )\n",
    "print( 'Stored summary data at {}'.format( data_fp ) )"
   ]
  },
  {
   "cell_type": "markdown",
   "metadata": {},
   "source": [
    "## Orbit Distribution"
   ]
  },
  {
   "cell_type": "code",
   "execution_count": 47,
   "metadata": {},
   "outputs": [],
   "source": [
    "h_param = w.ptracks.data_attrs['hubble']\n",
    "snums = w.get_data( 'snum' )\n",
    "redshifts = w.get_data( 'redshift' )"
   ]
  },
  {
   "cell_type": "code",
   "execution_count": 48,
   "metadata": {},
   "outputs": [
    {
     "name": "stderr",
     "output_type": "stream",
     "text": [
      "372it [01:54,  3.24it/s]\n"
     ]
    },
    {
     "ename": "ParserError",
     "evalue": "Error tokenizing data. C error: Calling read(nbytes) on source failed. Try engine='python'.",
     "output_type": "error",
     "traceback": [
      "\u001b[0;31m---------------------------------------------------------------------------\u001b[0m",
      "\u001b[0;31mParserError\u001b[0m                               Traceback (most recent call last)",
      "\u001b[0;32m<ipython-input-48-074036c12d43>\u001b[0m in \u001b[0;36m<module>\u001b[0;34m\u001b[0m\n\u001b[1;32m     19\u001b[0m     \u001b[0mr_i\u001b[0m\u001b[0;34m[\u001b[0m\u001b[0mr_i\u001b[0m\u001b[0;34m>\u001b[0m\u001b[0mw\u001b[0m\u001b[0;34m.\u001b[0m\u001b[0mr_vir\u001b[0m\u001b[0;34m[\u001b[0m\u001b[0msnum_i\u001b[0m\u001b[0;34m]\u001b[0m\u001b[0;34m]\u001b[0m \u001b[0;34m=\u001b[0m \u001b[0mnp\u001b[0m\u001b[0;34m.\u001b[0m\u001b[0mnan\u001b[0m\u001b[0;34m\u001b[0m\u001b[0;34m\u001b[0m\u001b[0m\n\u001b[1;32m     20\u001b[0m     \u001b[0;32mtry\u001b[0m\u001b[0;34m:\u001b[0m\u001b[0;34m\u001b[0m\u001b[0;34m\u001b[0m\u001b[0m\n\u001b[0;32m---> 21\u001b[0;31m         \u001b[0mM_enc_i\u001b[0m \u001b[0;34m=\u001b[0m \u001b[0mget_M_enc\u001b[0m\u001b[0;34m(\u001b[0m \u001b[0mr_i\u001b[0m \u001b[0;34m)\u001b[0m\u001b[0;34m\u001b[0m\u001b[0;34m\u001b[0m\u001b[0m\n\u001b[0m\u001b[1;32m     22\u001b[0m     \u001b[0;32mexcept\u001b[0m \u001b[0;34m(\u001b[0m \u001b[0mKeyError\u001b[0m\u001b[0;34m,\u001b[0m \u001b[0mNameError\u001b[0m\u001b[0;34m,\u001b[0m \u001b[0mTypeError\u001b[0m\u001b[0;34m,\u001b[0m \u001b[0mIndexError\u001b[0m \u001b[0;34m)\u001b[0m \u001b[0;32mas\u001b[0m \u001b[0me\u001b[0m\u001b[0;34m:\u001b[0m\u001b[0;34m\u001b[0m\u001b[0;34m\u001b[0m\u001b[0m\n\u001b[1;32m     23\u001b[0m         \u001b[0mjz\u001b[0m\u001b[0;34m.\u001b[0m\u001b[0mappend\u001b[0m\u001b[0;34m(\u001b[0m \u001b[0mnp\u001b[0m\u001b[0;34m.\u001b[0m\u001b[0mfull\u001b[0m\u001b[0;34m(\u001b[0m \u001b[0mr_i\u001b[0m\u001b[0;34m.\u001b[0m\u001b[0mshape\u001b[0m\u001b[0;34m,\u001b[0m \u001b[0mnp\u001b[0m\u001b[0;34m.\u001b[0m\u001b[0mnan\u001b[0m \u001b[0;34m)\u001b[0m \u001b[0;34m)\u001b[0m\u001b[0;34m\u001b[0m\u001b[0;34m\u001b[0m\u001b[0m\n",
      "\u001b[0;32m<ipython-input-48-074036c12d43>\u001b[0m in \u001b[0;36mget_M_enc\u001b[0;34m(r)\u001b[0m\n\u001b[1;32m      6\u001b[0m     \u001b[0;32mdef\u001b[0m \u001b[0mget_M_enc\u001b[0m\u001b[0;34m(\u001b[0m \u001b[0mr\u001b[0m \u001b[0;34m)\u001b[0m\u001b[0;34m:\u001b[0m\u001b[0;34m\u001b[0m\u001b[0;34m\u001b[0m\u001b[0m\n\u001b[1;32m      7\u001b[0m         \u001b[0mr_ckpc\u001b[0m \u001b[0;34m=\u001b[0m \u001b[0mr\u001b[0m \u001b[0;34m/\u001b[0m \u001b[0;34m(\u001b[0m \u001b[0mh_param\u001b[0m \u001b[0;34m*\u001b[0m \u001b[0;34m(\u001b[0m \u001b[0;36m1.\u001b[0m \u001b[0;34m+\u001b[0m \u001b[0mredshifts\u001b[0m\u001b[0;34m[\u001b[0m\u001b[0mi\u001b[0m\u001b[0;34m]\u001b[0m \u001b[0;34m)\u001b[0m \u001b[0;34m)\u001b[0m\u001b[0;34m\u001b[0m\u001b[0;34m\u001b[0m\u001b[0m\n\u001b[0;32m----> 8\u001b[0;31m         M_enc = w.halo_data.get_profile_data(\n\u001b[0m\u001b[1;32m      9\u001b[0m             \u001b[0;34m'M_in_r'\u001b[0m\u001b[0;34m,\u001b[0m\u001b[0;34m\u001b[0m\u001b[0;34m\u001b[0m\u001b[0m\n\u001b[1;32m     10\u001b[0m             \u001b[0msnum_i\u001b[0m\u001b[0;34m,\u001b[0m\u001b[0;34m\u001b[0m\u001b[0;34m\u001b[0m\u001b[0m\n",
      "\u001b[0;32m~/repos/galaxy-dive/galaxy_dive/analyze_data/halo_data.py\u001b[0m in \u001b[0;36mget_profile_data\u001b[0;34m(self, data_key, snum, r, mt_halo_id, a_power, return_valid_range)\u001b[0m\n\u001b[1;32m    235\u001b[0m \u001b[0;34m\u001b[0m\u001b[0m\n\u001b[1;32m    236\u001b[0m         \u001b[0;31m# Load the necessary data\u001b[0m\u001b[0;34m\u001b[0m\u001b[0;34m\u001b[0m\u001b[0;34m\u001b[0m\u001b[0m\n\u001b[0;32m--> 237\u001b[0;31m         \u001b[0mself\u001b[0m\u001b[0;34m.\u001b[0m\u001b[0mdata_reader\u001b[0m\u001b[0;34m.\u001b[0m\u001b[0mget_profiles\u001b[0m\u001b[0;34m(\u001b[0m \u001b[0msnum\u001b[0m \u001b[0;34m)\u001b[0m\u001b[0;34m\u001b[0m\u001b[0;34m\u001b[0m\u001b[0m\n\u001b[0m\u001b[1;32m    238\u001b[0m \u001b[0;34m\u001b[0m\u001b[0m\n\u001b[1;32m    239\u001b[0m         \u001b[0;31m# Replace the merger tree halo ID with the relevant redshift halo ID\u001b[0m\u001b[0;34m\u001b[0m\u001b[0;34m\u001b[0m\u001b[0;34m\u001b[0m\u001b[0m\n",
      "\u001b[0;32m~/repos/galaxy-dive/galaxy_dive/read_data/ahf.py\u001b[0m in \u001b[0;36mget_profiles\u001b[0;34m(self, snum)\u001b[0m\n\u001b[1;32m    292\u001b[0m         \u001b[0;31m# Load the data\u001b[0m\u001b[0;34m\u001b[0m\u001b[0;34m\u001b[0m\u001b[0;34m\u001b[0m\u001b[0m\n\u001b[1;32m    293\u001b[0m         \u001b[0mprofiles_path\u001b[0m \u001b[0;34m=\u001b[0m \u001b[0mself\u001b[0m\u001b[0;34m.\u001b[0m\u001b[0mget_filepath\u001b[0m\u001b[0;34m(\u001b[0m \u001b[0msnum\u001b[0m\u001b[0;34m,\u001b[0m \u001b[0;34m'AHF_profiles'\u001b[0m \u001b[0;34m)\u001b[0m\u001b[0;34m\u001b[0m\u001b[0;34m\u001b[0m\u001b[0m\n\u001b[0;32m--> 294\u001b[0;31m         self.profiles = pd.read_csv(\n\u001b[0m\u001b[1;32m    295\u001b[0m             \u001b[0mprofiles_path\u001b[0m\u001b[0;34m,\u001b[0m\u001b[0;34m\u001b[0m\u001b[0;34m\u001b[0m\u001b[0m\n\u001b[1;32m    296\u001b[0m             \u001b[0msep\u001b[0m \u001b[0;34m=\u001b[0m \u001b[0;34m'\\t'\u001b[0m\u001b[0;34m,\u001b[0m\u001b[0;34m\u001b[0m\u001b[0;34m\u001b[0m\u001b[0m\n",
      "\u001b[0;32m/work2/03057/zhafen/stampede2/miniconda3/lib/python3.9/site-packages/pandas/io/parsers.py\u001b[0m in \u001b[0;36mread_csv\u001b[0;34m(filepath_or_buffer, sep, delimiter, header, names, index_col, usecols, squeeze, prefix, mangle_dupe_cols, dtype, engine, converters, true_values, false_values, skipinitialspace, skiprows, skipfooter, nrows, na_values, keep_default_na, na_filter, verbose, skip_blank_lines, parse_dates, infer_datetime_format, keep_date_col, date_parser, dayfirst, cache_dates, iterator, chunksize, compression, thousands, decimal, lineterminator, quotechar, quoting, doublequote, escapechar, comment, encoding, dialect, error_bad_lines, warn_bad_lines, delim_whitespace, low_memory, memory_map, float_precision, storage_options)\u001b[0m\n\u001b[1;32m    608\u001b[0m     \u001b[0mkwds\u001b[0m\u001b[0;34m.\u001b[0m\u001b[0mupdate\u001b[0m\u001b[0;34m(\u001b[0m\u001b[0mkwds_defaults\u001b[0m\u001b[0;34m)\u001b[0m\u001b[0;34m\u001b[0m\u001b[0;34m\u001b[0m\u001b[0m\n\u001b[1;32m    609\u001b[0m \u001b[0;34m\u001b[0m\u001b[0m\n\u001b[0;32m--> 610\u001b[0;31m     \u001b[0;32mreturn\u001b[0m \u001b[0m_read\u001b[0m\u001b[0;34m(\u001b[0m\u001b[0mfilepath_or_buffer\u001b[0m\u001b[0;34m,\u001b[0m \u001b[0mkwds\u001b[0m\u001b[0;34m)\u001b[0m\u001b[0;34m\u001b[0m\u001b[0;34m\u001b[0m\u001b[0m\n\u001b[0m\u001b[1;32m    611\u001b[0m \u001b[0;34m\u001b[0m\u001b[0m\n\u001b[1;32m    612\u001b[0m \u001b[0;34m\u001b[0m\u001b[0m\n",
      "\u001b[0;32m/work2/03057/zhafen/stampede2/miniconda3/lib/python3.9/site-packages/pandas/io/parsers.py\u001b[0m in \u001b[0;36m_read\u001b[0;34m(filepath_or_buffer, kwds)\u001b[0m\n\u001b[1;32m    460\u001b[0m \u001b[0;34m\u001b[0m\u001b[0m\n\u001b[1;32m    461\u001b[0m     \u001b[0;31m# Create the parser.\u001b[0m\u001b[0;34m\u001b[0m\u001b[0;34m\u001b[0m\u001b[0;34m\u001b[0m\u001b[0m\n\u001b[0;32m--> 462\u001b[0;31m     \u001b[0mparser\u001b[0m \u001b[0;34m=\u001b[0m \u001b[0mTextFileReader\u001b[0m\u001b[0;34m(\u001b[0m\u001b[0mfilepath_or_buffer\u001b[0m\u001b[0;34m,\u001b[0m \u001b[0;34m**\u001b[0m\u001b[0mkwds\u001b[0m\u001b[0;34m)\u001b[0m\u001b[0;34m\u001b[0m\u001b[0;34m\u001b[0m\u001b[0m\n\u001b[0m\u001b[1;32m    463\u001b[0m \u001b[0;34m\u001b[0m\u001b[0m\n\u001b[1;32m    464\u001b[0m     \u001b[0;32mif\u001b[0m \u001b[0mchunksize\u001b[0m \u001b[0;32mor\u001b[0m \u001b[0miterator\u001b[0m\u001b[0;34m:\u001b[0m\u001b[0;34m\u001b[0m\u001b[0;34m\u001b[0m\u001b[0m\n",
      "\u001b[0;32m/work2/03057/zhafen/stampede2/miniconda3/lib/python3.9/site-packages/pandas/io/parsers.py\u001b[0m in \u001b[0;36m__init__\u001b[0;34m(self, f, engine, **kwds)\u001b[0m\n\u001b[1;32m    817\u001b[0m             \u001b[0mself\u001b[0m\u001b[0;34m.\u001b[0m\u001b[0moptions\u001b[0m\u001b[0;34m[\u001b[0m\u001b[0;34m\"has_index_names\"\u001b[0m\u001b[0;34m]\u001b[0m \u001b[0;34m=\u001b[0m \u001b[0mkwds\u001b[0m\u001b[0;34m[\u001b[0m\u001b[0;34m\"has_index_names\"\u001b[0m\u001b[0;34m]\u001b[0m\u001b[0;34m\u001b[0m\u001b[0;34m\u001b[0m\u001b[0m\n\u001b[1;32m    818\u001b[0m \u001b[0;34m\u001b[0m\u001b[0m\n\u001b[0;32m--> 819\u001b[0;31m         \u001b[0mself\u001b[0m\u001b[0;34m.\u001b[0m\u001b[0m_engine\u001b[0m \u001b[0;34m=\u001b[0m \u001b[0mself\u001b[0m\u001b[0;34m.\u001b[0m\u001b[0m_make_engine\u001b[0m\u001b[0;34m(\u001b[0m\u001b[0mself\u001b[0m\u001b[0;34m.\u001b[0m\u001b[0mengine\u001b[0m\u001b[0;34m)\u001b[0m\u001b[0;34m\u001b[0m\u001b[0;34m\u001b[0m\u001b[0m\n\u001b[0m\u001b[1;32m    820\u001b[0m \u001b[0;34m\u001b[0m\u001b[0m\n\u001b[1;32m    821\u001b[0m     \u001b[0;32mdef\u001b[0m \u001b[0mclose\u001b[0m\u001b[0;34m(\u001b[0m\u001b[0mself\u001b[0m\u001b[0;34m)\u001b[0m\u001b[0;34m:\u001b[0m\u001b[0;34m\u001b[0m\u001b[0;34m\u001b[0m\u001b[0m\n",
      "\u001b[0;32m/work2/03057/zhafen/stampede2/miniconda3/lib/python3.9/site-packages/pandas/io/parsers.py\u001b[0m in \u001b[0;36m_make_engine\u001b[0;34m(self, engine)\u001b[0m\n\u001b[1;32m   1048\u001b[0m             )\n\u001b[1;32m   1049\u001b[0m         \u001b[0;31m# error: Too many arguments for \"ParserBase\"\u001b[0m\u001b[0;34m\u001b[0m\u001b[0;34m\u001b[0m\u001b[0;34m\u001b[0m\u001b[0m\n\u001b[0;32m-> 1050\u001b[0;31m         \u001b[0;32mreturn\u001b[0m \u001b[0mmapping\u001b[0m\u001b[0;34m[\u001b[0m\u001b[0mengine\u001b[0m\u001b[0;34m]\u001b[0m\u001b[0;34m(\u001b[0m\u001b[0mself\u001b[0m\u001b[0;34m.\u001b[0m\u001b[0mf\u001b[0m\u001b[0;34m,\u001b[0m \u001b[0;34m**\u001b[0m\u001b[0mself\u001b[0m\u001b[0;34m.\u001b[0m\u001b[0moptions\u001b[0m\u001b[0;34m)\u001b[0m  \u001b[0;31m# type: ignore[call-arg]\u001b[0m\u001b[0;34m\u001b[0m\u001b[0;34m\u001b[0m\u001b[0m\n\u001b[0m\u001b[1;32m   1051\u001b[0m \u001b[0;34m\u001b[0m\u001b[0m\n\u001b[1;32m   1052\u001b[0m     \u001b[0;32mdef\u001b[0m \u001b[0m_failover_to_python\u001b[0m\u001b[0;34m(\u001b[0m\u001b[0mself\u001b[0m\u001b[0;34m)\u001b[0m\u001b[0;34m:\u001b[0m\u001b[0;34m\u001b[0m\u001b[0;34m\u001b[0m\u001b[0m\n",
      "\u001b[0;32m/work2/03057/zhafen/stampede2/miniconda3/lib/python3.9/site-packages/pandas/io/parsers.py\u001b[0m in \u001b[0;36m__init__\u001b[0;34m(self, src, **kwds)\u001b[0m\n\u001b[1;32m   1871\u001b[0m \u001b[0;34m\u001b[0m\u001b[0m\n\u001b[1;32m   1872\u001b[0m         \u001b[0;32mtry\u001b[0m\u001b[0;34m:\u001b[0m\u001b[0;34m\u001b[0m\u001b[0;34m\u001b[0m\u001b[0m\n\u001b[0;32m-> 1873\u001b[0;31m             \u001b[0mself\u001b[0m\u001b[0;34m.\u001b[0m\u001b[0m_reader\u001b[0m \u001b[0;34m=\u001b[0m \u001b[0mparsers\u001b[0m\u001b[0;34m.\u001b[0m\u001b[0mTextReader\u001b[0m\u001b[0;34m(\u001b[0m\u001b[0mself\u001b[0m\u001b[0;34m.\u001b[0m\u001b[0mhandles\u001b[0m\u001b[0;34m.\u001b[0m\u001b[0mhandle\u001b[0m\u001b[0;34m,\u001b[0m \u001b[0;34m**\u001b[0m\u001b[0mkwds\u001b[0m\u001b[0;34m)\u001b[0m\u001b[0;34m\u001b[0m\u001b[0;34m\u001b[0m\u001b[0m\n\u001b[0m\u001b[1;32m   1874\u001b[0m         \u001b[0;32mexcept\u001b[0m \u001b[0mException\u001b[0m\u001b[0;34m:\u001b[0m\u001b[0;34m\u001b[0m\u001b[0;34m\u001b[0m\u001b[0m\n\u001b[1;32m   1875\u001b[0m             \u001b[0mself\u001b[0m\u001b[0;34m.\u001b[0m\u001b[0mhandles\u001b[0m\u001b[0;34m.\u001b[0m\u001b[0mclose\u001b[0m\u001b[0;34m(\u001b[0m\u001b[0;34m)\u001b[0m\u001b[0;34m\u001b[0m\u001b[0;34m\u001b[0m\u001b[0m\n",
      "\u001b[0;32mpandas/_libs/parsers.pyx\u001b[0m in \u001b[0;36mpandas._libs.parsers.TextReader.__cinit__\u001b[0;34m()\u001b[0m\n",
      "\u001b[0;32mpandas/_libs/parsers.pyx\u001b[0m in \u001b[0;36mpandas._libs.parsers.TextReader._get_header\u001b[0;34m()\u001b[0m\n",
      "\u001b[0;32mpandas/_libs/parsers.pyx\u001b[0m in \u001b[0;36mpandas._libs.parsers.TextReader._tokenize_rows\u001b[0;34m()\u001b[0m\n",
      "\u001b[0;32mpandas/_libs/parsers.pyx\u001b[0m in \u001b[0;36mpandas._libs.parsers.raise_parser_error\u001b[0;34m()\u001b[0m\n",
      "\u001b[0;31mParserError\u001b[0m: Error tokenizing data. C error: Calling read(nbytes) on source failed. Try engine='python'."
     ]
    }
   ],
   "source": [
    "jz = []\n",
    "jmag = []\n",
    "jcirc = []\n",
    "for i, snum_i in tqdm.tqdm( enumerate( snums ) ):\n",
    "\n",
    "    def get_M_enc( r ):\n",
    "        r_ckpc = r / ( h_param * ( 1. + redshifts[i] ) )\n",
    "        M_enc = w.halo_data.get_profile_data(\n",
    "            'M_in_r',\n",
    "            snum_i,\n",
    "            r_ckpc\n",
    "        ) / h_param\n",
    "        M_enc[np.isnan(M_enc)] = 0.\n",
    "        M_enc[np.arange(M_enc.size)>np.argmax(M_enc)] = M_enc.max()\n",
    "        return M_enc\n",
    "\n",
    "    # masses enclosed\n",
    "    r_i = w.get_data( 'R' )[:,i]\n",
    "    r_i[r_i>w.r_vir[snum_i]] = np.nan\n",
    "    try:\n",
    "        M_enc_i = get_M_enc( r_i )\n",
    "    except ( KeyError, NameError, TypeError, IndexError ) as e:\n",
    "        jz.append( np.full( r_i.shape, np.nan ) )\n",
    "        jmag.append( np.full( r_i.shape, np.nan ) )\n",
    "        jcirc.append( np.full( r_i.shape, np.nan ) )\n",
    "        continue\n",
    "\n",
    "    # Get grid masses enclose\n",
    "    r_grid = np.linspace( 0.00001, w.r_vir[snum_i], 1024 )\n",
    "    M_enc_grid = get_M_enc( r_grid )\n",
    "\n",
    "    # Get potential energy\n",
    "    pot_grid = unyt.G * scipy.integrate.cumtrapz( M_enc_grid/r_grid**2., r_grid, initial=0 ) * unyt.Msun / unyt.kpc\n",
    "    pot_grid -= pot_grid[-1]\n",
    "    pot_grid -= unyt.G * w.m_vir[snum] * unyt.Msun / ( w.r_vir[snum] * unyt.kpc )\n",
    "    pot_grid = pot_grid.to( 'm**2/s**2' )\n",
    "    pot_fn = lambda x : scipy.interpolate.interp1d( r_grid, pot_grid )( x ) * unyt.m**2. / unyt.s**2.\n",
    "\n",
    "    # Get energy for a grid, using virial theorem\n",
    "    spec_e_grid = pot_grid + 0.5 * unyt.G * M_enc_grid * unyt.Msun / ( r_grid * unyt.kpc )\n",
    "\n",
    "    # Star potential energy, specific energy\n",
    "    pot_i = pot_fn( r_i )\n",
    "    v_i = w.get_data( 'Vmag' )[:,i] * unyt.km / unyt.s\n",
    "    spec_e_i =  pot_i +  0.5 * v_i**2.\n",
    "    \n",
    "    # Cap specific energy\n",
    "    spec_e_i[spec_e_i>spec_e_grid.max()] = np.nan\n",
    "\n",
    "    # What radii particles would be at if they were circular with the same energy\n",
    "    r_circ = scipy.interpolate.interp1d( spec_e_grid, r_grid )( spec_e_i )\n",
    "\n",
    "    # Circular momentum\n",
    "    M_enc_circ = get_M_enc( r_circ )\n",
    "    jcirc_i = np.sqrt( unyt.G * M_enc_circ * unyt.Msun * r_circ * unyt.kpc)\n",
    "    jcirc.append( jcirc_i.to( 'km*kpc/s' ) )\n",
    "\n",
    "    # Angular momentum\n",
    "    ang_mom_dir = tot_ang_momentum / np.linalg.norm( tot_ang_momentum )\n",
    "    l_units = unyt.Msun * unyt.kpc * unyt.km / unyt.s\n",
    "    lz_i = np.dot( w.get_data( 'L', )[:,:,i].transpose(), ang_mom_dir ) * l_units\n",
    "    lmag_i = w.get_data( 'Lmag' )[:,i] * l_units\n",
    "    m_i= w.get_data( 'M' )[:,i] * unyt.Msun\n",
    "    jz_i = lz_i / m_i\n",
    "    jmag_i = lmag_i / m_i\n",
    "    jz.append( jz_i.to( 'km*kpc/s' ) )\n",
    "    jmag.append( jmag_i.to( 'km*kpc/s' ) )\n",
    "jz = np.array( jz ).transpose()\n",
    "jmag = np.array( jmag ).transpose()\n",
    "jcirc = np.array( jcirc ).transpose()"
   ]
  },
  {
   "cell_type": "code",
   "execution_count": null,
   "metadata": {},
   "outputs": [],
   "source": [
    "w.data['jz'] = jz\n",
    "w.data['jmag'] = jmag\n",
    "w.data['jcirc'] = jcirc"
   ]
  },
  {
   "cell_type": "code",
   "execution_count": null,
   "metadata": {},
   "outputs": [],
   "source": [
    "# Get the time at the phase\n",
    "t_t1e5 = ( t[:,np.newaxis] - t[inds] ).transpose()\n",
    "t_t1e5_flat = t_t1e5.flatten()\n",
    "\n",
    "# Get phi (also known as theta)\n",
    "w.data_masker.clear_masks()\n",
    "w.data_masker.mask_data( 'PType', data_value=0 )\n",
    "\n",
    "jz = w.get_selected_data( 'jz', compress=False )\n",
    "jcirc = w.get_selected_data( 'jcirc', compress=False )\n",
    "m_flat = w.get_selected_data( 'M', compress=False ).flatten()\n",
    "\n",
    "# Format data\n",
    "jz_jcirc_flat = ( jz / jcirc ).flatten()\n",
    "\n",
    "# Get distributions\n",
    "jz_jcirc_dists = []\n",
    "thin_disk_fracs = []\n",
    "thick_disk_fracs = []\n",
    "dt = t_t1e5_centers[1] - t_t1e5_centers[0]\n",
    "for i, center in enumerate( t_t1e5_centers ):\n",
    "    bin_low = center - dt / 2.\n",
    "    bin_high = center + dt / 2.\n",
    "    in_bin = ( t_t1e5_flat > bin_low ) & ( t_t1e5_flat < bin_high )\n",
    "    jz_jcirc_arr = jz_jcirc_flat[in_bin]\n",
    "    \n",
    "    jz_jcirc_points, jz_jcirc_pdf = kale.density(\n",
    "        jz_jcirc_arr[np.invert(np.isnan(jz_jcirc_arr))].compressed(),\n",
    "        points = centers,\n",
    "        probability = True,\n",
    "        reflect = [ -1., 1. ],\n",
    "    )\n",
    "    jz_jcirc_dists.append( jz_jcirc_pdf )\n",
    "    \n",
    "    m_bin = m_flat[in_bin]\n",
    "    thin_disk_fracs.append( m_bin[jz_jcirc_arr>=0.8].sum()/m_bin.sum() )\n",
    "    thick_disk_fracs.append( m_bin[(jz_jcirc_arr<0.8)&(jz_jcirc_arr>=0.2)].sum()/m_bin.sum() )"
   ]
  },
  {
   "cell_type": "code",
   "execution_count": null,
   "metadata": {},
   "outputs": [],
   "source": [
    "labeled_is = np.arange( len( t_t1e5_centers ) )"
   ]
  },
  {
   "cell_type": "code",
   "execution_count": null,
   "metadata": {},
   "outputs": [],
   "source": [
    "fig = plt.figure( figsize=(10, 4.5 ), facecolor='w' )\n",
    "ax = plt.gca()\n",
    "\n",
    "z_max = t_t1e5_centers.max()\n",
    "z_min = t_t1e5_centers.min()\n",
    "        \n",
    "for i, jz_jcirc_dist in enumerate( jz_jcirc_dists ):\n",
    "\n",
    "    z_width = z_max - z_min\n",
    "    color_value = ( t_t1e5_centers[i] - z_min )/z_width\n",
    "    color = palettable.scientific.diverging.Roma_3.mpl_colormap( color_value )\n",
    "\n",
    "    if i in labeled_is:\n",
    "        if np.isclose( t_t1e5_centers[i], 0. ):\n",
    "            t_t1e5_centers[i] = 0\n",
    "#             label = (\n",
    "#                 r'$t - t_{T=10^5 {\\rm K}}$ =' +\n",
    "#                 ' {:.3g}'.format( t_tphase_centers[i]*1e3 ) +\n",
    "#                 r' Myr'\n",
    "#             )\n",
    "        label = (\n",
    "            '{:.3g}'.format( t_t1e5_centers[i]*1e3 ) +\n",
    "            r' Myr'\n",
    "        )\n",
    "    else:\n",
    "        label = None\n",
    "\n",
    "    line = ax.plot(\n",
    "        centers,\n",
    "        jz_jcirc_dist, #/ (np.pi / 180. / 2. * np.sin( bin_centers * np.pi/180. ) ),\n",
    "        linewidth = 5,\n",
    "        color = color,\n",
    "        label = label,\n",
    "#             zorder = 10 - i,\n",
    "    )\n",
    "\n",
    "ax.tick_params(\n",
    "    axis = 'x',\n",
    "    top = True,\n",
    "    labeltop = ax.is_first_row(),\n",
    "    bottom = ax.is_last_row(),\n",
    "    labelbottom = ax.is_last_row(),\n",
    ")\n",
    "\n",
    "ax.axhline(\n",
    "    0.5,\n",
    "    color = '.2',\n",
    "    linestyle = '-',\n",
    "    linewidth = 2,\n",
    ")\n",
    "ax.axvline(\n",
    "    0,\n",
    "    color = '.2',\n",
    "    linestyle = '-',\n",
    "    linewidth = 2,\n",
    ")\n",
    "\n",
    "# Sim name label\n",
    "ax.annotate(\n",
    "    s = pm['variation'],\n",
    "    xy = ( 0, 1 ),\n",
    "    xycoords = 'axes fraction',\n",
    "    xytext = ( 20, -20 ),\n",
    "    textcoords = 'offset points',\n",
    "    ha = 'left',\n",
    "    va = 'top',\n",
    "    fontsize = 26,\n",
    ")\n",
    "\n",
    "# line labels\n",
    "ax.annotate(\n",
    "    s = 'spherical\\ndistribution',\n",
    "    xy = ( -1, 0.5 ),\n",
    "    xycoords = 'data',\n",
    "    xytext = ( 10, 10 ),\n",
    "    textcoords = 'offset points',\n",
    "    ha = 'left',\n",
    "    va = 'bottom',\n",
    "    fontsize = 22,\n",
    ")\n",
    "ax.annotate(\n",
    "    s = 'disc\\ndistribution',\n",
    "    xy = ( 0, 3.75 ),\n",
    "    xycoords = 'data',\n",
    "    xytext = ( 15, -10 ),\n",
    "    textcoords = 'offset points',\n",
    "    ha = 'left',\n",
    "    va = 'top',\n",
    "    fontsize = 22,\n",
    ")\n",
    "\n",
    "t_label = ax.annotate(\n",
    "    s = r'$t - t_{T=10^5 {\\rm K}}$',\n",
    "    xy = ( 1, 0.875 ),\n",
    "    xycoords = 'axes fraction',\n",
    "    xytext = ( -25, 0 ),\n",
    "    textcoords = 'offset points',\n",
    "    ha = 'right',\n",
    "    va = 'bottom',\n",
    "    fontsize = 24,\n",
    ")\n",
    "t_label.set_zorder( 1000 )\n",
    "ax.legend(\n",
    "    prop={'size': 17},\n",
    "    loc = 'upper right',\n",
    "    bbox_to_anchor = ( 0.5, 1. ),\n",
    ")\n",
    "\n",
    "ax.set_xlim( -1, 1 )\n",
    "ax.set_ylim( 0, 3.75 )\n",
    "\n",
    "ax.set_xlabel( r'$j_z/j_c(E)$', fontsize=22 )\n",
    "# if ax.is_first_row():\n",
    "#     ax.xaxis.set_label_position( 'top' )\n",
    "ax.set_ylabel( r'PDF$\\ (j_z/j_c(E)$)', fontsize=22 )\n",
    "\n",
    "plotting.save_fig(\n",
    "    out_dir = os.path.join( pm['figure_dir'], 'circularity_evolution' ),\n",
    "    save_file = 'circularity_vs_t_{}.pdf'.format( pm['variation'] ),\n",
    "    fig = fig,\n",
    ")"
   ]
  },
  {
   "cell_type": "code",
   "execution_count": null,
   "metadata": {},
   "outputs": [],
   "source": [
    "data_to_store = {\n",
    "    'points': centers,\n",
    "    't_t1e5_centers': t_t1e5_centers,\n",
    "    'pdf': np.array( jz_jcirc_dists ),\n",
    "    'thin_disk_fractions': thin_disk_fracs,\n",
    "    'thick_disk_fractions': thick_disk_fracs,\n",
    "}"
   ]
  },
  {
   "cell_type": "code",
   "execution_count": null,
   "metadata": {},
   "outputs": [],
   "source": [
    "# Store circularity for later use\n",
    "if not 'circularity' in data.keys():\n",
    "    data['circularity'] = {}\n",
    "for key, item in data_to_store.items():\n",
    "    if key not in data['circularity']:\n",
    "        data['circularity'][key] = {}\n",
    "    data['circularity'][key][pm['variation']] = item\n",
    "data.to_hdf5( data_fp )\n",
    "print( 'Stored summary data at {}'.format( data_fp ) )"
   ]
  },
  {
   "cell_type": "code",
   "execution_count": null,
   "metadata": {},
   "outputs": [],
   "source": []
  }
 ],
 "metadata": {
  "kernelspec": {
   "display_name": "Python 3",
   "language": "python",
   "name": "python3"
  },
  "language_info": {
   "codemirror_mode": {
    "name": "ipython",
    "version": 3
   },
   "file_extension": ".py",
   "mimetype": "text/x-python",
   "name": "python",
   "nbconvert_exporter": "python",
   "pygments_lexer": "ipython3",
   "version": "3.9.1"
  }
 },
 "nbformat": 4,
 "nbformat_minor": 4
}
