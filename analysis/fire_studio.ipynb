{
 "cells": [
  {
   "cell_type": "code",
   "execution_count": 1,
   "metadata": {},
   "outputs": [
    {
     "name": "stdout",
     "output_type": "stream",
     "text": [
      "The autoreload extension is already loaded. To reload it, use:\n",
      "  %reload_ext autoreload\n",
      "don't have phil's colormaps\n"
     ]
    }
   ],
   "source": [
    "%load_ext autoreload\n",
    "%autoreload 2\n",
    "import numpy as np\n",
    "import os\n",
    "import matplotlib\n",
    "import matplotlib.pyplot as plt\n",
    "%matplotlib inline\n",
    "\n",
    "\n",
    "from abg_python.galaxy.gal_utils import Galaxy\n",
    "from abg_python.all_utils import filterDictionary\n",
    "\n",
    "from firestudio.studios.star_studio import StarStudio\n",
    "from firestudio.studios.gas_studio import GasStudio\n",
    "matplotlib.rcParams['figure.dpi'] = 150"
   ]
  },
  {
   "cell_type": "code",
   "execution_count": 2,
   "metadata": {},
   "outputs": [],
   "source": [
    "from firestudio.utils.stellar_utils import raytrace_projection,load_stellar_hsml"
   ]
  },
  {
   "cell_type": "code",
   "execution_count": 3,
   "metadata": {},
   "outputs": [],
   "source": [
    "import trove\n",
    "import verdict"
   ]
  },
  {
   "cell_type": "markdown",
   "metadata": {},
   "source": [
    "# Parameters"
   ]
  },
  {
   "cell_type": "code",
   "execution_count": 4,
   "metadata": {},
   "outputs": [],
   "source": [
    "pm = {\n",
    "    'attenuate': False,\n",
    "    'snum': 600,\n",
    "#     'dynrange': 4089,\n",
    "#     'dynrange': 3040, # m11q_md\n",
    "    'dynrange': 12556,\n",
    "#     'maxden': 7647435, # m11q_md\n",
    "    'maxden': 4.99e8,\n",
    "}"
   ]
  },
  {
   "cell_type": "code",
   "execution_count": 5,
   "metadata": {},
   "outputs": [],
   "source": [
    "pm = trove.link_params_to_config(\n",
    "    '/home1/03057/zhafen/papers/Hot-Accretion-in-FIRE/analysis/hot_accretion.trove',\n",
    "    **pm\n",
    ")"
   ]
  },
  {
   "cell_type": "code",
   "execution_count": 6,
   "metadata": {},
   "outputs": [],
   "source": [
    "# Halo file params\n",
    "mt_kwargs = {\n",
    "    'tag': 'smooth',\n",
    "}"
   ]
  },
  {
   "cell_type": "code",
   "execution_count": 7,
   "metadata": {},
   "outputs": [],
   "source": [
    "store_child_ids = False"
   ]
  },
  {
   "cell_type": "markdown",
   "metadata": {},
   "source": [
    "# Extract Galaxy"
   ]
  },
  {
   "cell_type": "markdown",
   "metadata": {},
   "source": [
    "Create an abg_python$^\\mathrm{TM}$ Galaxy instance"
   ]
  },
  {
   "cell_type": "code",
   "execution_count": 8,
   "metadata": {},
   "outputs": [
    {
     "name": "stdout",
     "output_type": "stream",
     "text": [
      "Couldn't find a metadata file... for\n",
      " Metadata object at /scratch/03057/zhafen/hot_accretion_data/m11d_md/m12i_res7100/metadata/meta_Galaxy_600.hdf5\n",
      "This is a cosmological snapshot... converting to physical units\n"
     ]
    }
   ],
   "source": [
    "snapdir = pm['sim_data_dir']\n",
    "snapnum = pm['snum']\n",
    "galaxy = Galaxy(\n",
    "    'm12i_res7100',\n",
    "    snapdir,\n",
    "    snapnum,\n",
    "    datadir = pm['data_dir'],\n",
    ")"
   ]
  },
  {
   "cell_type": "markdown",
   "metadata": {},
   "source": [
    "Locate the main halo, center our coordinates, and rotate to be face-on."
   ]
  },
  {
   "cell_type": "code",
   "execution_count": 9,
   "metadata": {},
   "outputs": [
    {
     "name": "stdout",
     "output_type": "stream",
     "text": [
      "Using the saved sub-snapshots for m12i_res7100 at 600\n",
      "Failed to open saved sub-snapshots FileNotFoundError(2, \"Unable to open file (unable to open file: name = '/scratch/03057/zhafen/hot_accretion_data/m11d_md/m12i_res7100/subsnaps/snapshot_600.hdf5', errno = 2, error message = 'No such file or directory', flags = 0, o_flags = 0)\")\n",
      "Loading gas particles of m12i_res7100 at 600\n",
      "This is a cosmological snapshot... converting to physical units\n",
      "Loading star particles of m12i_res7100 at 600\n",
      "This is a cosmological snapshot... converting to physical units\n",
      "Loading dark matter particles of m12i_res7100 at 600\n",
      "This is a cosmological snapshot... converting to physical units\n",
      "Reorienting...\n",
      "Done.\n",
      "Finished, output sub-snapshot to: /scratch/03057/zhafen/hot_accretion_data/m11d_md/m12i_res7100/subsnaps/snapshot_600.hdf5\n",
      "Calculating the half mass radius\n",
      "extract_halo_inner(m12i_res7100 at 600,){'orient_stars': True} 11.99 s elapsed\n",
      "Snapshot memory free\n"
     ]
    },
    {
     "data": {
      "text/plain": [
       "(34.57546169916107,\n",
       " True,\n",
       " 29.955166756384735,\n",
       " 4.865210269921948,\n",
       " 174.66176454415302,\n",
       " 6.9150923398322135,\n",
       " 66.94377692870518)"
      ]
     },
     "execution_count": 9,
     "metadata": {},
     "output_type": "execute_result"
    }
   ],
   "source": [
    "galaxy.extractMainHalo()"
   ]
  },
  {
   "cell_type": "code",
   "execution_count": 10,
   "metadata": {},
   "outputs": [],
   "source": [
    "disk_mask = np.ones(galaxy.sub_star_snap['Masses'].size)\n",
    "xs,ys,zs = galaxy.sub_star_snap['Coordinates'].T\n",
    "\n",
    "disk_mask = (np.abs(xs) < 20) & (np.abs(ys) < 20) & (np.abs(zs) < 20)"
   ]
  },
  {
   "cell_type": "code",
   "execution_count": 11,
   "metadata": {},
   "outputs": [],
   "source": [
    "gas_disk_mask = np.ones(galaxy.sub_snap['Masses'].size)\n",
    "gas_xs,gas_ys,gas_zs = galaxy.sub_snap['Coordinates'].T\n",
    "\n",
    "gas_disk_mask = (np.abs(gas_xs) < 20) & (np.abs(gas_ys) < 20) & (np.abs(gas_zs) < 20)"
   ]
  },
  {
   "cell_type": "code",
   "execution_count": 12,
   "metadata": {},
   "outputs": [],
   "source": [
    "from matplotlib.colors import LinearSegmentedColormap\n",
    "segments = np.zeros((100,4))\n",
    "segments[:,-1] = np.linspace(0,1,100)\n",
    "gas_cmap = LinearSegmentedColormap.from_list('black_alpha_gradient',segments)"
   ]
  },
  {
   "cell_type": "code",
   "execution_count": 13,
   "metadata": {},
   "outputs": [
    {
     "name": "stdout",
     "output_type": "stream",
     "text": [
      "1228120.6083984375\n",
      "303698.7548828125\n"
     ]
    }
   ],
   "source": [
    "from matplotlib.colors import LogNorm\n",
    "h_m,xedges,yedges = np.histogram2d(\n",
    "    xs[disk_mask],\n",
    "    ys[disk_mask],\n",
    "    bins=1200,\n",
    "    weights=galaxy.sub_star_snap['Masses'][disk_mask]*1e10)\n",
    "print(h_m.max())\n",
    "\n",
    "dA = np.diff(xedges)[0]\n",
    "dA*=dA\n",
    "\n",
    "plt.imshow((h_m.T+1e-12)/dA,norm=LogNorm(1e6,1e9),origin='lower',cmap='afmhot')\n",
    "plt.gca().set_aspect(1)\n",
    "\n",
    "from matplotlib.colors import LogNorm\n",
    "h_m,xedges,yedges = np.histogram2d(\n",
    "    gas_xs[gas_disk_mask],\n",
    "    gas_ys[gas_disk_mask],\n",
    "    bins=1200,\n",
    "    weights=galaxy.sub_snap['Masses'][gas_disk_mask]*1e10)\n",
    "print(h_m.max())\n",
    "\n",
    "dA = np.diff(xedges)[0]\n",
    "dA*=dA\n",
    "\n",
    "plt.imshow((h_m.T)/dA,norm=LogNorm(1e5,1e9),origin='lower',cmap=gas_cmap)\n",
    "plt.gca().set_aspect(1)\n",
    "#plt.colorbar(label='M')"
   ]
  },
  {
   "cell_type": "code",
   "execution_count": 14,
   "metadata": {},
   "outputs": [],
   "source": [
    "# Calculate smoothing length\n",
    "galaxy.sub_star_snap['SmoothingLength'] = load_stellar_hsml.get_particle_hsml(\n",
    "    galaxy.sub_star_snap['Coordinates'][:,0],\n",
    "    galaxy.sub_star_snap['Coordinates'][:,1],\n",
    "    galaxy.sub_star_snap['Coordinates'][:,2],\n",
    ")"
   ]
  },
  {
   "cell_type": "markdown",
   "metadata": {},
   "source": [
    "# StarStudio Usage"
   ]
  },
  {
   "cell_type": "code",
   "execution_count": 15,
   "metadata": {},
   "outputs": [],
   "source": [
    "# Star Studio is missing makeOutputDirectories\n",
    "StarStudio.makeOutputDirectories = GasStudio.makeOutputDirectories\n",
    "# In doing this the save directory gets messed up, but oh well."
   ]
  },
  {
   "cell_type": "code",
   "execution_count": 16,
   "metadata": {},
   "outputs": [],
   "source": [
    "r_gal = 4. * galaxy.rstar_half"
   ]
  },
  {
   "cell_type": "code",
   "execution_count": 17,
   "metadata": {},
   "outputs": [],
   "source": [
    "if not pm['attenuate']:\n",
    "    galaxy.sub_snap['Masses'] = np.zeros( galaxy.sub_snap['Masses'].shape )"
   ]
  },
  {
   "cell_type": "code",
   "execution_count": 18,
   "metadata": {},
   "outputs": [
    {
     "name": "stdout",
     "output_type": "stream",
     "text": [
      "/scratch/03057/zhafen/hot_accretion_data/m11d_md/firestudio\n",
      "extra kwargs:\n",
      " ['sim_name', 'gas_snapdict', 'star_snapdict', 'scale_bar_label']\n",
      "Drawing /scratch/projects/xsede/GalaxiesOnFIRE/metal_diffusion/m11d_res7100/output:600 to:/scratch/03057/zhafen/hot_accretion_data/m11d_md/firestudio\n"
     ]
    }
   ],
   "source": [
    "studio_datadir = os.path.join(os.path.dirname(galaxy.datadir),'firestudio')\n",
    "print(studio_datadir)\n",
    "my_starStudio = StarStudio(\n",
    "    snapdir = snapdir,\n",
    "    datadir = studio_datadir,\n",
    "    snapnum = galaxy.snapnum,\n",
    "    sim_name = pm['variation'],\n",
    "    gas_snapdict=galaxy.sub_snap,\n",
    "    star_snapdict=galaxy.sub_star_snap,\n",
    "    frame_half_width =  2. * r_gal,\n",
    "    frame_depth = 5. * r_gal,\n",
    "    phi = 90,\n",
    "    theta = 90,\n",
    "    psi = 90,\n",
    "    scale_bar = False,\n",
    "    scale_bar_label = False,\n",
    ")"
   ]
  },
  {
   "cell_type": "code",
   "execution_count": 19,
   "metadata": {},
   "outputs": [],
   "source": [
    "# FIRE studio will break if these aren't set.\n",
    "my_starStudio.star_snapdict = galaxy.sub_star_snap\n",
    "my_starStudio.gas_snapdict = galaxy.sub_snap\n",
    "my_starStudio.sim_name = pm['variation']\n",
    "my_starStudio.master_loud = True\n",
    "my_starStudio.color_scheme_nasa = True\n",
    "my_starStudio.Xmax = r_gal\n",
    "my_starStudio.Xmin = -r_gal"
   ]
  },
  {
   "cell_type": "code",
   "execution_count": 20,
   "metadata": {},
   "outputs": [],
   "source": [
    "# Set automatically\n",
    "my_starStudio.maxden = pm['maxden']\n",
    "my_starStudio.dynrange = pm['dynrange']"
   ]
  },
  {
   "cell_type": "code",
   "execution_count": 21,
   "metadata": {},
   "outputs": [
    {
     "name": "stdout",
     "output_type": "stream",
     "text": [
      "extracting cube\n",
      "864718 many star particles in volume\n",
      "Calculating L/M in Sloan u (BAND_ID=1,l=3551 A)\n",
      "Calculating L/M in Sloan g (BAND_ID=2,l=4686 A)\n",
      "Calculating L/M in Sloan r (BAND_ID=3,l=6165 A)\n",
      "extracting cube\n",
      "997759 many gas particles in volume\n",
      "Projecting with attenuation...\n",
      "total lum before attenuation in each band (Lsun/1e10): [0.64239351 0.506296   0.38908128]\n",
      "opacity in each band: [1585.97915621 1154.44253194  799.38644653]\n",
      "total gas mass: 0.0\n"
     ]
    },
    {
     "name": "stderr",
     "output_type": "stream",
     "text": [
      "RuntimeWarning: divide by zero encountered in log10\n",
      "RuntimeWarning: divide by zero encountered in log10\n",
      "RuntimeWarning: divide by zero encountered in log\n",
      "RuntimeWarning: divide by zero encountered in log\n",
      "RuntimeWarning: divide by zero encountered in log\n"
     ]
    },
    {
     "name": "stdout",
     "output_type": "stream",
     "text": [
      "maxden ==  499000000.0  dynrange ==  12556  minden ==  39741.95603695444\n"
     ]
    },
    {
     "data": {
      "image/png": "[encoded data removed]",
      "text/plain": [
       "<Figure size 720x480 with 1 Axes>"
      ]
     },
     "execution_count": 21,
     "metadata": {},
     "output_type": "execute_result"
    }
   ],
   "source": [
    "pixels = my_starStudio.render(plt.gca(),quick=False)\n",
    "plt.gcf().set_dpi(120)\n",
    "plt.gca().set_aspect( 'equal' )\n",
    "plt.gcf()"
   ]
  },
  {
   "cell_type": "markdown",
   "metadata": {},
   "source": [
    "## Save"
   ]
  },
  {
   "cell_type": "markdown",
   "metadata": {},
   "source": [
    "### Save Figure"
   ]
  },
  {
   "cell_type": "code",
   "execution_count": 22,
   "metadata": {},
   "outputs": [],
   "source": [
    "# Save plot and metadata\n",
    "image_name = 'edge_on'\n",
    "my_starStudio.saveFigure( plt.gca(), image_name )"
   ]
  },
  {
   "cell_type": "markdown",
   "metadata": {},
   "source": [
    "### Save Metadata"
   ]
  },
  {
   "cell_type": "code",
   "execution_count": 23,
   "metadata": {},
   "outputs": [],
   "source": [
    "image_name = \"%s_%03d_%dkpc.hdf5\" % (image_name,my_starStudio.snapnum, 2*my_starStudio.frame_half_width)\n",
    "metadata_fp = os.path.join( my_starStudio.image_dir, image_name )\n",
    "metadata = verdict.Dict.from_hdf5( metadata_fp, create_nonexistent=True )"
   ]
  },
  {
   "cell_type": "code",
   "execution_count": 24,
   "metadata": {},
   "outputs": [],
   "source": [
    "for attr_key in [ 'Xmin', 'Xmax', 'Ymin', 'Ymax', 'Zmin', 'Zmax', 'npix_x', 'npix_y', 'pixels', 'frame_half_width', 'frame_depth' ]:\n",
    "    attr = getattr( my_starStudio, attr_key )\n",
    "    metadata[attr_key] = attr"
   ]
  },
  {
   "cell_type": "code",
   "execution_count": 25,
   "metadata": {},
   "outputs": [
    {
     "name": "stdout",
     "output_type": "stream",
     "text": [
      "/scratch/03057/zhafen/hot_accretion_data/m11d_md/firestudio/Plots/GasTwoColour/edge_on_600_110kpc.hdf5\n"
     ]
    }
   ],
   "source": [
    "metadata.to_hdf5( metadata_fp )\n",
    "print( metadata_fp )"
   ]
  },
  {
   "cell_type": "code",
   "execution_count": 26,
   "metadata": {},
   "outputs": [
    {
     "data": {
      "image/png": "[encoded data removed]",
      "text/plain": [
       "<Figure size 720x480 with 1 Axes>"
      ]
     },
     "execution_count": 26,
     "metadata": {},
     "output_type": "execute_result"
    }
   ],
   "source": [
    "plt.gcf()"
   ]
  },
  {
   "cell_type": "code",
   "execution_count": null,
   "metadata": {},
   "outputs": [],
   "source": []
  }
 ],
 "metadata": {
  "kernelspec": {
   "display_name": "Python 3",
   "language": "python",
   "name": "python3"
  },
  "language_info": {
   "codemirror_mode": {
    "name": "ipython",
    "version": 3
   },
   "file_extension": ".py",
   "mimetype": "text/x-python",
   "name": "python",
   "nbconvert_exporter": "python",
   "pygments_lexer": "ipython3",
   "version": "3.9.1"
  }
 },
 "nbformat": 4,
 "nbformat_minor": 4
}
