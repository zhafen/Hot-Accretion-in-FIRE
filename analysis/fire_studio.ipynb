{
 "cells": [
  {
   "cell_type": "code",
   "execution_count": null,
   "metadata": {},
   "outputs": [],
   "source": [
    "%load_ext autoreload\n",
    "%autoreload 2\n",
    "import copy\n",
    "import numpy as np\n",
    "import os\n",
    "import matplotlib\n",
    "import matplotlib.pyplot as plt\n",
    "%matplotlib inline\n",
    "\n",
    "\n",
    "from abg_python.galaxy.gal_utils import Galaxy\n",
    "from abg_python.all_utils import filterDictionary\n",
    "\n",
    "from firestudio.studios.star_studio import StarStudio\n",
    "from firestudio.studios.gas_studio import GasStudio\n",
    "matplotlib.rcParams['figure.dpi'] = 150"
   ]
  },
  {
   "cell_type": "code",
   "execution_count": null,
   "metadata": {},
   "outputs": [],
   "source": [
    "from firestudio.utils.stellar_utils import raytrace_projection,load_stellar_hsml"
   ]
  },
  {
   "cell_type": "code",
   "execution_count": null,
   "metadata": {},
   "outputs": [],
   "source": [
    "import trove\n",
    "import verdict"
   ]
  },
  {
   "cell_type": "markdown",
   "metadata": {},
   "source": [
    "# Parameters"
   ]
  },
  {
   "cell_type": "code",
   "execution_count": null,
   "metadata": {},
   "outputs": [],
   "source": [
    "pm = {\n",
    "    'attenuate': False,\n",
    "    'snum': 600,\n",
    "#     'dynrange': 4089,\n",
    "#     'dynrange': 3040, # m11q_md\n",
    "    'dynrange': 12556,\n",
    "#     'maxden': 7647435, # m11q_md\n",
    "    'maxden': 4.99e8,\n",
    "    \n",
    "#     'half_length_y': 2., # in units of r_gal\n",
    "#     'half_length_x': 1., # in units of r_gal\n",
    "#     'half_length_units': 'r_gal',\n",
    "    'half_length_y': 26., # in kpc\n",
    "    'half_length_x': 13., # in kpc\n",
    "    'half_length_units': 'kpc',\n",
    "}"
   ]
  },
  {
   "cell_type": "code",
   "execution_count": null,
   "metadata": {},
   "outputs": [],
   "source": [
    "pm = trove.link_params_to_config(\n",
    "    '/home1/03057/zhafen/papers/Hot-Accretion-in-FIRE/analysis/hot_accretion.trove',\n",
    "    script_id = 'nb.12',\n",
    "    variation = 'm12c_md',\n",
    "    global_variation = '',\n",
    "    **pm\n",
    ")"
   ]
  },
  {
   "cell_type": "code",
   "execution_count": null,
   "metadata": {},
   "outputs": [],
   "source": [
    "# Halo file params\n",
    "mt_kwargs = {\n",
    "    'tag': 'smooth',\n",
    "}"
   ]
  },
  {
   "cell_type": "code",
   "execution_count": null,
   "metadata": {},
   "outputs": [],
   "source": [
    "store_child_ids = False"
   ]
  },
  {
   "cell_type": "markdown",
   "metadata": {},
   "source": [
    "# Extract Galaxy"
   ]
  },
  {
   "cell_type": "markdown",
   "metadata": {},
   "source": [
    "Create an abg_python$^\\mathrm{TM}$ Galaxy instance"
   ]
  },
  {
   "cell_type": "code",
   "execution_count": null,
   "metadata": {},
   "outputs": [],
   "source": [
    "snapdir = pm['sim_data_dir']\n",
    "snapnum = pm['snum']\n",
    "galaxy = Galaxy(\n",
    "    'm12i_res7100',\n",
    "    snapdir,\n",
    "    snapnum,\n",
    "    datadir = pm['data_dir'],\n",
    "    ahf_path = pm['halo_data_dir'],\n",
    ")"
   ]
  },
  {
   "cell_type": "markdown",
   "metadata": {},
   "source": [
    "Locate the main halo, center our coordinates, and rotate to be face-on."
   ]
  },
  {
   "cell_type": "code",
   "execution_count": null,
   "metadata": {},
   "outputs": [],
   "source": [
    "galaxy.extractMainHalo()"
   ]
  },
  {
   "cell_type": "code",
   "execution_count": null,
   "metadata": {},
   "outputs": [],
   "source": [
    "disk_mask = np.ones(galaxy.sub_star_snap['Masses'].size)\n",
    "xs,ys,zs = galaxy.sub_star_snap['Coordinates'].T\n",
    "\n",
    "disk_mask = (np.abs(xs) < 20) & (np.abs(ys) < 20) & (np.abs(zs) < 20)"
   ]
  },
  {
   "cell_type": "code",
   "execution_count": null,
   "metadata": {},
   "outputs": [],
   "source": [
    "gas_disk_mask = np.ones(galaxy.sub_snap['Masses'].size)\n",
    "gas_xs,gas_ys,gas_zs = galaxy.sub_snap['Coordinates'].T\n",
    "\n",
    "gas_disk_mask = (np.abs(gas_xs) < 20) & (np.abs(gas_ys) < 20) & (np.abs(gas_zs) < 20)"
   ]
  },
  {
   "cell_type": "code",
   "execution_count": null,
   "metadata": {},
   "outputs": [],
   "source": [
    "from matplotlib.colors import LinearSegmentedColormap\n",
    "segments = np.zeros((100,4))\n",
    "segments[:,-1] = np.linspace(0,1,100)\n",
    "gas_cmap = LinearSegmentedColormap.from_list('black_alpha_gradient',segments)"
   ]
  },
  {
   "cell_type": "code",
   "execution_count": null,
   "metadata": {},
   "outputs": [],
   "source": [
    "from matplotlib.colors import LogNorm\n",
    "h_m,xedges,yedges = np.histogram2d(\n",
    "    xs[disk_mask],\n",
    "    ys[disk_mask],\n",
    "    bins=1200,\n",
    "    weights=galaxy.sub_star_snap['Masses'][disk_mask]*1e10)\n",
    "print(h_m.max())\n",
    "\n",
    "dA = np.diff(xedges)[0]\n",
    "dA*=dA\n",
    "\n",
    "plt.imshow((h_m.T+1e-12)/dA,norm=LogNorm(1e6,1e9),origin='lower',cmap='afmhot')\n",
    "plt.gca().set_aspect(1)\n",
    "\n",
    "from matplotlib.colors import LogNorm\n",
    "h_m,xedges,yedges = np.histogram2d(\n",
    "    gas_xs[gas_disk_mask],\n",
    "    gas_ys[gas_disk_mask],\n",
    "    bins=1200,\n",
    "    weights=galaxy.sub_snap['Masses'][gas_disk_mask]*1e10)\n",
    "print(h_m.max())\n",
    "\n",
    "dA = np.diff(xedges)[0]\n",
    "dA*=dA\n",
    "\n",
    "plt.imshow((h_m.T)/dA,norm=LogNorm(1e5,1e9),origin='lower',cmap=gas_cmap)\n",
    "plt.gca().set_aspect(1)\n",
    "#plt.colorbar(label='M')"
   ]
  },
  {
   "cell_type": "code",
   "execution_count": null,
   "metadata": {},
   "outputs": [],
   "source": [
    "# Calculate smoothing length\n",
    "galaxy.sub_star_snap['SmoothingLength'] = load_stellar_hsml.get_particle_hsml(\n",
    "    galaxy.sub_star_snap['Coordinates'][:,0],\n",
    "    galaxy.sub_star_snap['Coordinates'][:,1],\n",
    "    galaxy.sub_star_snap['Coordinates'][:,2],\n",
    ")"
   ]
  },
  {
   "cell_type": "markdown",
   "metadata": {},
   "source": [
    "# StarStudio Usage"
   ]
  },
  {
   "cell_type": "code",
   "execution_count": null,
   "metadata": {},
   "outputs": [],
   "source": [
    "# Star Studio is missing makeOutputDirectories\n",
    "StarStudio.makeOutputDirectories = GasStudio.makeOutputDirectories\n",
    "# In doing this the save directory gets messed up, but oh well."
   ]
  },
  {
   "cell_type": "code",
   "execution_count": null,
   "metadata": {},
   "outputs": [],
   "source": [
    "r_gal = 4. * galaxy.rstar_half"
   ]
  },
  {
   "cell_type": "code",
   "execution_count": null,
   "metadata": {},
   "outputs": [],
   "source": [
    "half_length_x = pm['half_length_x']\n",
    "half_length_y = pm['half_length_y']\n",
    "if pm['half_length_units'] == 'kpc':\n",
    "    pass\n",
    "elif pm['half_length_units'] == 'r_gal':\n",
    "    half_length_x *= r_gal\n",
    "    half_length_y *= r_gal\n",
    "else:\n",
    "    raise Exception( 'Unrecognized units.' )"
   ]
  },
  {
   "cell_type": "code",
   "execution_count": null,
   "metadata": {},
   "outputs": [],
   "source": [
    "if not pm['attenuate']:\n",
    "    galaxy.sub_snap['Masses'] = np.zeros( galaxy.sub_snap['Masses'].shape )"
   ]
  },
  {
   "cell_type": "markdown",
   "metadata": {},
   "source": [
    "## Edge on"
   ]
  },
  {
   "cell_type": "code",
   "execution_count": null,
   "metadata": {},
   "outputs": [],
   "source": [
    "studio_datadir = os.path.join(os.path.dirname(galaxy.datadir),'firestudio')\n",
    "print(studio_datadir)\n",
    "my_starStudio = StarStudio(\n",
    "    snapdir = snapdir,\n",
    "    datadir = studio_datadir,\n",
    "    snapnum = galaxy.snapnum,\n",
    "    sim_name = pm['variation'],\n",
    "    gas_snapdict=galaxy.sub_snap,\n",
    "    star_snapdict=galaxy.sub_star_snap,\n",
    "    frame_half_width =  half_length_y,\n",
    "    frame_depth = 5. * r_gal,\n",
    "    phi = 90,\n",
    "    theta = 90,\n",
    "    psi = 90,\n",
    "    scale_bar = False,\n",
    "    scale_bar_label = False,\n",
    ")"
   ]
  },
  {
   "cell_type": "code",
   "execution_count": null,
   "metadata": {},
   "outputs": [],
   "source": [
    "# FIRE studio will break if these aren't set.\n",
    "my_starStudio.star_snapdict = galaxy.sub_star_snap\n",
    "my_starStudio.gas_snapdict = galaxy.sub_snap\n",
    "my_starStudio.sim_name = pm['variation']\n",
    "my_starStudio.master_loud = True\n",
    "my_starStudio.color_scheme_nasa = True\n",
    "my_starStudio.Xmax = half_length_x\n",
    "my_starStudio.Xmin = -half_length_x"
   ]
  },
  {
   "cell_type": "code",
   "execution_count": null,
   "metadata": {},
   "outputs": [],
   "source": [
    "# Set automatically\n",
    "my_starStudio.maxden = pm['maxden']\n",
    "my_starStudio.dynrange = pm['dynrange']"
   ]
  },
  {
   "cell_type": "code",
   "execution_count": null,
   "metadata": {},
   "outputs": [],
   "source": [
    "pixels = my_starStudio.render(plt.gca(),quick=False)\n",
    "plt.gcf().set_dpi(120)\n",
    "plt.gca().set_aspect( 'equal' )\n",
    "plt.gcf()"
   ]
  },
  {
   "cell_type": "markdown",
   "metadata": {},
   "source": [
    "### Save Figure"
   ]
  },
  {
   "cell_type": "code",
   "execution_count": null,
   "metadata": {},
   "outputs": [],
   "source": [
    "# Save plot and metadata\n",
    "image_name = 'edge_on'\n",
    "my_starStudio.saveFigure( plt.gca(), image_name )"
   ]
  },
  {
   "cell_type": "markdown",
   "metadata": {},
   "source": [
    "### Save Metadata"
   ]
  },
  {
   "cell_type": "code",
   "execution_count": null,
   "metadata": {},
   "outputs": [],
   "source": [
    "image_name = \"%s_%03d_%dkpc.hdf5\" % (image_name,my_starStudio.snapnum, 2*my_starStudio.frame_half_width)\n",
    "metadata_fp = os.path.join( my_starStudio.image_dir, image_name )\n",
    "metadata = verdict.Dict.from_hdf5( metadata_fp, create_nonexistent=True )"
   ]
  },
  {
   "cell_type": "code",
   "execution_count": null,
   "metadata": {},
   "outputs": [],
   "source": [
    "for attr_key in [ 'Xmin', 'Xmax', 'Ymin', 'Ymax', 'Zmin', 'Zmax', 'npix_x', 'npix_y', 'pixels', 'frame_half_width', 'frame_depth' ]:\n",
    "    attr = getattr( my_starStudio, attr_key )\n",
    "    metadata[attr_key] = attr"
   ]
  },
  {
   "cell_type": "code",
   "execution_count": null,
   "metadata": {},
   "outputs": [],
   "source": [
    "metadata.to_hdf5( metadata_fp )\n",
    "print( metadata_fp )"
   ]
  },
  {
   "cell_type": "code",
   "execution_count": null,
   "metadata": {},
   "outputs": [],
   "source": [
    "plt.gcf()"
   ]
  },
  {
   "cell_type": "markdown",
   "metadata": {},
   "source": [
    "### Save Transformation"
   ]
  },
  {
   "cell_type": "code",
   "execution_count": null,
   "metadata": {},
   "outputs": [],
   "source": [
    "transform_data_fp = os.path.join( pm['processed_data_dir'], 'firestudio_transform.hdf5' )"
   ]
  },
  {
   "cell_type": "code",
   "execution_count": null,
   "metadata": {},
   "outputs": [],
   "source": [
    "transform_data = verdict.Dict.from_hdf5( transform_data_fp, create_nonexistent=True )"
   ]
  },
  {
   "cell_type": "code",
   "execution_count": null,
   "metadata": {},
   "outputs": [],
   "source": [
    "transform_data['frame_center'] = copy.copy( galaxy.sub_star_snap['scom'] )"
   ]
  },
  {
   "cell_type": "code",
   "execution_count": null,
   "metadata": {},
   "outputs": [],
   "source": [
    "transform_data['edge_on_rot_matrix'] = np.matmul( my_starStudio.rot_matrix, galaxy.sub_star_snap['rot_matrix'] )"
   ]
  },
  {
   "cell_type": "markdown",
   "metadata": {},
   "source": [
    "## Face on"
   ]
  },
  {
   "cell_type": "code",
   "execution_count": null,
   "metadata": {},
   "outputs": [],
   "source": [
    "studio_datadir = os.path.join(os.path.dirname(galaxy.datadir),'firestudio')\n",
    "print(studio_datadir)\n",
    "my_starStudio = StarStudio(\n",
    "    snapdir = snapdir,\n",
    "    datadir = studio_datadir,\n",
    "    snapnum = galaxy.snapnum,\n",
    "    sim_name = pm['variation'],\n",
    "    gas_snapdict=galaxy.sub_snap,\n",
    "    star_snapdict=galaxy.sub_star_snap,\n",
    "    frame_half_width =  half_length_y,\n",
    "    frame_depth = 5. * r_gal,\n",
    "    phi = 0,\n",
    "    theta = 0,\n",
    "    psi = 0,\n",
    "    scale_bar = False,\n",
    "    scale_bar_label = False,\n",
    ")"
   ]
  },
  {
   "cell_type": "code",
   "execution_count": null,
   "metadata": {},
   "outputs": [],
   "source": [
    "# FIRE studio will break if these aren't set.\n",
    "my_starStudio.star_snapdict = galaxy.sub_star_snap\n",
    "my_starStudio.gas_snapdict = galaxy.sub_snap\n",
    "my_starStudio.sim_name = pm['variation']\n",
    "my_starStudio.master_loud = True\n",
    "my_starStudio.color_scheme_nasa = True\n",
    "my_starStudio.Xmax = half_length_x\n",
    "my_starStudio.Xmin = -half_length_x"
   ]
  },
  {
   "cell_type": "code",
   "execution_count": null,
   "metadata": {},
   "outputs": [],
   "source": [
    "# Set automatically\n",
    "my_starStudio.maxden = pm['maxden']\n",
    "my_starStudio.dynrange = pm['dynrange']"
   ]
  },
  {
   "cell_type": "code",
   "execution_count": null,
   "metadata": {},
   "outputs": [],
   "source": [
    "pixels = my_starStudio.render(plt.gca(),quick=False)\n",
    "plt.gcf().set_dpi(120)\n",
    "plt.gca().set_aspect( 'equal' )\n",
    "plt.gcf()"
   ]
  },
  {
   "cell_type": "markdown",
   "metadata": {},
   "source": [
    "### Save Figure"
   ]
  },
  {
   "cell_type": "code",
   "execution_count": null,
   "metadata": {},
   "outputs": [],
   "source": [
    "# Save plot and metadata\n",
    "image_name = 'face_on'\n",
    "my_starStudio.saveFigure( plt.gca(), image_name )"
   ]
  },
  {
   "cell_type": "markdown",
   "metadata": {},
   "source": [
    "### Save Metadata"
   ]
  },
  {
   "cell_type": "code",
   "execution_count": null,
   "metadata": {},
   "outputs": [],
   "source": [
    "image_name = \"faceon_%s_%03d_%dkpc.hdf5\" % (image_name,my_starStudio.snapnum, 2*my_starStudio.frame_half_width)\n",
    "metadata_fp = os.path.join( my_starStudio.image_dir, image_name )\n",
    "metadata = verdict.Dict.from_hdf5( metadata_fp, create_nonexistent=True )"
   ]
  },
  {
   "cell_type": "code",
   "execution_count": null,
   "metadata": {},
   "outputs": [],
   "source": [
    "for attr_key in [ 'Xmin', 'Xmax', 'Ymin', 'Ymax', 'Zmin', 'Zmax', 'npix_x', 'npix_y', 'pixels', 'frame_half_width', 'frame_depth' ]:\n",
    "    attr = getattr( my_starStudio, attr_key )\n",
    "    metadata[attr_key] = attr"
   ]
  },
  {
   "cell_type": "code",
   "execution_count": null,
   "metadata": {},
   "outputs": [],
   "source": [
    "metadata.to_hdf5( metadata_fp )\n",
    "print( metadata_fp )"
   ]
  },
  {
   "cell_type": "code",
   "execution_count": null,
   "metadata": {},
   "outputs": [],
   "source": [
    "plt.gcf()"
   ]
  },
  {
   "cell_type": "markdown",
   "metadata": {},
   "source": [
    "### Save Transformation"
   ]
  },
  {
   "cell_type": "code",
   "execution_count": null,
   "metadata": {},
   "outputs": [],
   "source": [
    "transform_data['face_on_rot_matrix'] = galaxy.sub_star_snap['rot_matrix']"
   ]
  },
  {
   "cell_type": "code",
   "execution_count": null,
   "metadata": {},
   "outputs": [],
   "source": [
    "transform_data.to_hdf5( transform_data_fp )"
   ]
  },
  {
   "cell_type": "code",
   "execution_count": null,
   "metadata": {},
   "outputs": [],
   "source": [
    "def apply_rot_matrix( positions, rot_matrix ):\n",
    "    \n",
    "    pos_rot = np.matmul(rot_matrix, positions.T).T\n",
    "    \n",
    "    # Avoids a weird bug\n",
    "    pos_rot = np.array(pos_rot,order='C')  \n",
    "    \n",
    "    return pos_rot"
   ]
  },
  {
   "cell_type": "markdown",
   "metadata": {},
   "source": [
    "# Exploratory"
   ]
  },
  {
   "cell_type": "code",
   "execution_count": null,
   "metadata": {},
   "outputs": [],
   "source": [
    "import pandas as pd"
   ]
  },
  {
   "cell_type": "code",
   "execution_count": null,
   "metadata": {},
   "outputs": [],
   "source": [
    "ids = pd.Series( galaxy.sub_star_snap['ParticleIDs'] )"
   ]
  },
  {
   "cell_type": "code",
   "execution_count": null,
   "metadata": {},
   "outputs": [],
   "source": [
    "to_find = np.array([19410571., 34169040., 43850718., 13813669., 57905132., 37126187., 44267476.]).astype( int )"
   ]
  },
  {
   "cell_type": "code",
   "execution_count": null,
   "metadata": {},
   "outputs": [],
   "source": [
    "matches_inds = np.arange( ids.size )[ids.isin( to_find )]"
   ]
  },
  {
   "cell_type": "code",
   "execution_count": null,
   "metadata": {},
   "outputs": [],
   "source": [
    "plt.gca().scatter(\n",
    "    galaxy.sub_star_snap['Coordinates'][:,0][matches_inds],\n",
    "    galaxy.sub_star_snap['Coordinates'][:,1][matches_inds],\n",
    "    color = 'red',\n",
    ")"
   ]
  },
  {
   "cell_type": "code",
   "execution_count": null,
   "metadata": {},
   "outputs": [],
   "source": [
    "galaxy.sub_star_snap['Coordinates'][:,0][matches_inds]"
   ]
  },
  {
   "cell_type": "code",
   "execution_count": null,
   "metadata": {},
   "outputs": [],
   "source": [
    "plt.gcf()"
   ]
  }
 ],
 "metadata": {
  "kernelspec": {
   "display_name": "Python 3",
   "language": "python",
   "name": "python3"
  },
  "language_info": {
   "codemirror_mode": {
    "name": "ipython",
    "version": 3
   },
   "file_extension": ".py",
   "mimetype": "text/x-python",
   "name": "python",
   "nbconvert_exporter": "python",
   "pygments_lexer": "ipython3",
   "version": "3.9.1"
  }
 },
 "nbformat": 4,
 "nbformat_minor": 4
}
