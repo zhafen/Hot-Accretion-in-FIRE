{
 "cells": [
  {
   "cell_type": "code",
   "execution_count": null,
   "metadata": {
    "tags": []
   },
   "outputs": [],
   "source": [
    "import copy\n",
    "import h5py\n",
    "import numpy as np\n",
    "import os\n",
    "import pandas as pd\n",
    "import sys\n",
    "import scipy.interpolate\n",
    "import tqdm\n",
    "import unyt\n",
    "import verdict"
   ]
  },
  {
   "cell_type": "code",
   "execution_count": null,
   "metadata": {},
   "outputs": [],
   "source": [
    "import matplotlib\n",
    "import matplotlib.pyplot as plt\n",
    "import matplotlib.patches as mpatches\n",
    "import matplotlib.cm as cm\n",
    "import matplotlib.colors as plt_colors\n",
    "import palettable"
   ]
  },
  {
   "cell_type": "code",
   "execution_count": null,
   "metadata": {},
   "outputs": [],
   "source": [
    "import linefinder.analyze_data.worldlines as a_worldlines\n",
    "import linefinder.analyze_data.plot_worldlines as p_worldlines\n",
    "import linefinder.utils.presentation_constants as p_constants"
   ]
  },
  {
   "cell_type": "code",
   "execution_count": null,
   "metadata": {},
   "outputs": [],
   "source": [
    "import galaxy_dive.analyze_data.halo_data as halo_data\n",
    "import galaxy_dive.analyze_data.particle_data as particle_data\n",
    "import galaxy_dive.plot_data.generic_plotter as generic_plotter\n",
    "import galaxy_dive.plot_data.plotting as plotting\n",
    "import galaxy_dive.utils.data_operations as data_operations\n",
    "import galaxy_dive.utils.astro as astro_tools"
   ]
  },
  {
   "cell_type": "code",
   "execution_count": null,
   "metadata": {},
   "outputs": [],
   "source": [
    "import luminosity_yu"
   ]
  },
  {
   "cell_type": "code",
   "execution_count": null,
   "metadata": {},
   "outputs": [],
   "source": [
    "import linefinder.utils.file_management as file_management_old\n",
    "import linefinder.utils.file_management_new as file_management\n",
    "import linefinder.config as config"
   ]
  },
  {
   "cell_type": "code",
   "execution_count": null,
   "metadata": {},
   "outputs": [],
   "source": [
    "import trove"
   ]
  },
  {
   "cell_type": "markdown",
   "metadata": {},
   "source": [
    "# Load Data"
   ]
  },
  {
   "cell_type": "markdown",
   "metadata": {},
   "source": [
    "### Parameters"
   ]
  },
  {
   "cell_type": "code",
   "execution_count": null,
   "metadata": {},
   "outputs": [],
   "source": [
    "pm = trove.link_params_to_config(\n",
    "    '/home1/03057/zhafen/papers/Hot-Accretion-in-FIRE/analysis/hot_accretion.trove',\n",
    ")"
   ]
  },
  {
   "cell_type": "code",
   "execution_count": null,
   "metadata": {},
   "outputs": [],
   "source": [
    "# Halo file params\n",
    "mt_kwargs = {\n",
    "    'tag': 'smooth',\n",
    "}"
   ]
  },
  {
   "cell_type": "code",
   "execution_count": null,
   "metadata": {},
   "outputs": [],
   "source": [
    "# Data selection params\n",
    "snum = 600\n",
    "t_window = 1. # In Gyr\n",
    "galdef = ''\n",
    "galaxy_cut = 0.1\n",
    "length_scale = 'Rvir'"
   ]
  },
  {
   "cell_type": "code",
   "execution_count": null,
   "metadata": {},
   "outputs": [],
   "source": [
    "store_child_ids = False"
   ]
  },
  {
   "cell_type": "markdown",
   "metadata": {},
   "source": [
    "### Get Data Structures"
   ]
  },
  {
   "cell_type": "code",
   "execution_count": null,
   "metadata": {},
   "outputs": [],
   "source": [
    "fm = file_management.FileManager( 'hot_accretion' )\n",
    "fm_old = file_management_old.FileManager( 'hot_accretion' )"
   ]
  },
  {
   "cell_type": "code",
   "execution_count": null,
   "metadata": {},
   "outputs": [],
   "source": [
    "ind = 600 - snum"
   ]
  },
  {
   "cell_type": "code",
   "execution_count": null,
   "metadata": {},
   "outputs": [],
   "source": [
    "g_data = particle_data.ParticleData(\n",
    "    sdir = pm['sim_data_dir'],\n",
    "    snum = snum,\n",
    "    ptype = config.PTYPE_GAS,\n",
    "    halo_data_dir = pm['halo_data_dir'],\n",
    "    main_halo_id = 0,\n",
    "    load_additional_ids = store_child_ids,\n",
    ")"
   ]
  },
  {
   "cell_type": "code",
   "execution_count": null,
   "metadata": {},
   "outputs": [],
   "source": [
    "s_data = particle_data.ParticleData(\n",
    "    sdir = pm['sim_data_dir'],\n",
    "    snum = snum,\n",
    "    ptype = config.PTYPE_STAR,\n",
    "    halo_data_dir = pm['halo_data_dir'],\n",
    "    main_halo_id = 0,\n",
    "    load_additional_ids = store_child_ids,\n",
    ")"
   ]
  },
  {
   "cell_type": "code",
   "execution_count": null,
   "metadata": {},
   "outputs": [],
   "source": [
    "# Load a time data array\n",
    "time = astro_tools.age_of_universe(\n",
    "    g_data.halo_data.get_mt_data( 'redshift', ),\n",
    "    h = g_data.data_attrs['hubble'],\n",
    "    omega_matter = g_data.data_attrs['omega_matter'],\n",
    ")"
   ]
  },
  {
   "cell_type": "code",
   "execution_count": null,
   "metadata": {},
   "outputs": [],
   "source": [
    "# Find the time\n",
    "prev_time_inds = np.arange(time.size)[np.isclose( time[ind] - t_window, time, atol=0.012 )]\n",
    "assert prev_time_inds.size == 1\n",
    "prev_time_ind = prev_time_inds[0]\n",
    "snum_prior = 600 - prev_time_ind"
   ]
  },
  {
   "cell_type": "code",
   "execution_count": null,
   "metadata": {},
   "outputs": [],
   "source": [
    "g_data_prior = particle_data.ParticleData(\n",
    "    sdir = pm['sim_data_dir'],\n",
    "    snum = snum_prior,\n",
    "    ptype = config.PTYPE_GAS,\n",
    "    halo_data_dir = pm['halo_data_dir'],\n",
    "    main_halo_id = 0,\n",
    "    load_additional_ids = store_child_ids,\n",
    ")"
   ]
  },
  {
   "cell_type": "markdown",
   "metadata": {},
   "source": [
    "# Select Data"
   ]
  },
  {
   "cell_type": "markdown",
   "metadata": {},
   "source": [
    "### Particles in the Galaxy Later"
   ]
  },
  {
   "cell_type": "code",
   "execution_count": null,
   "metadata": {},
   "outputs": [],
   "source": [
    "# Find characteristic length scale of the galaxy\n",
    "len_scale = g_data.halo_data.get_mt_data(\n",
    "    length_scale,\n",
    "    snums=[snum,],\n",
    "    mt_halo_id=g_data.main_halo_id\n",
    ")\n",
    "r_gal = galaxy_cut * len_scale"
   ]
  },
  {
   "cell_type": "code",
   "execution_count": null,
   "metadata": {},
   "outputs": [],
   "source": [
    "# Find gas particles in the main galaxy\n",
    "is_in_gal_gas = (\n",
    "    ( g_data.get_data( 'R' ) < r_gal ) &\n",
    "    ( g_data.get_data( 'Den' ) > config.GALAXY_DENSITY_CUT )\n",
    ")"
   ]
  },
  {
   "cell_type": "code",
   "execution_count": null,
   "metadata": {},
   "outputs": [],
   "source": [
    "# Find star particles in the main galaxy\n",
    "is_in_gal_star = s_data.get_data( 'R' ) < r_gal"
   ]
  },
  {
   "cell_type": "code",
   "execution_count": null,
   "metadata": {},
   "outputs": [],
   "source": [
    "# Retrieve the relevant IDs\n",
    "ids_gal = np.concatenate(\n",
    "    (\n",
    "        g_data.get_data( 'ID' )[is_in_gal_gas],\n",
    "        s_data.get_data( 'ID' )[is_in_gal_star]\n",
    "    )\n",
    ")"
   ]
  },
  {
   "cell_type": "code",
   "execution_count": null,
   "metadata": {},
   "outputs": [],
   "source": [
    "if store_child_ids:\n",
    "    child_ids_gal = np.concatenate(\n",
    "        (\n",
    "            g_data.get_data( 'ChildID' )[is_in_gal_gas],\n",
    "            s_data.get_data( 'ChildID' )[is_in_gal_star]\n",
    "        )\n",
    "    )"
   ]
  },
  {
   "cell_type": "markdown",
   "metadata": {},
   "source": [
    "### Particles in the CGM Earlier"
   ]
  },
  {
   "cell_type": "code",
   "execution_count": null,
   "metadata": {},
   "outputs": [],
   "source": [
    "# Find the CGM inner edge\n",
    "len_scale_prior = g_data_prior.halo_data.get_mt_data(\n",
    "    config.LENGTH_SCALE,\n",
    "    snums=[snum_prior,],\n",
    "    mt_halo_id=g_data.main_halo_id\n",
    ")\n",
    "cgm_inner_scale = 1.2 * config.GALAXY_CUT * len_scale_prior\n",
    "cgm_inner_rvir = config.INNER_CGM_BOUNDARY * g_data_prior.r_vir\n",
    "cgm_inner = max( cgm_inner_scale, cgm_inner_rvir )"
   ]
  },
  {
   "cell_type": "code",
   "execution_count": null,
   "metadata": {},
   "outputs": [],
   "source": [
    "is_in_CGM = g_data_prior.get_data( 'R' ) > cgm_inner"
   ]
  },
  {
   "cell_type": "code",
   "execution_count": null,
   "metadata": {},
   "outputs": [],
   "source": [
    "ids_cgm = g_data_prior.get_data( 'ID' )[is_in_CGM]"
   ]
  },
  {
   "cell_type": "code",
   "execution_count": null,
   "metadata": {},
   "outputs": [],
   "source": [
    "if store_child_ids:\n",
    "    child_ids_cgm = g_data_prior.get_data( 'ChildID' )[is_in_CGM]"
   ]
  },
  {
   "cell_type": "markdown",
   "metadata": {},
   "source": [
    "### Particles that Accreted"
   ]
  },
  {
   "cell_type": "code",
   "execution_count": null,
   "metadata": {},
   "outputs": [],
   "source": [
    "ids_accreted_alt = np.intersect1d( ids_gal, ids_cgm )"
   ]
  },
  {
   "cell_type": "code",
   "execution_count": null,
   "metadata": {},
   "outputs": [],
   "source": [
    "if store_child_ids:\n",
    "    ids_str_gal = [ '{}_{}'.format( ids_gal[i], child_ids_gal[i] ) for i in range( ids_gal.size ) ]\n",
    "    ids_str_cgm = [ '{}_{}'.format( ids_cgm[i], child_ids_cgm[i] ) for i in range( ids_cgm.size ) ]\n",
    "    ids_str_accreted = np.intersect1d( ids_str_gal, ids_str_cgm )\n",
    "    ids_accreted, child_ids_accreted = np.array( [ _.split( '_' ) for _ in ids_str_accreted ] ).astype( int ).transpose()\n",
    "else:\n",
    "    ids_accreted = ids_accreted_alt"
   ]
  },
  {
   "cell_type": "code",
   "execution_count": null,
   "metadata": {},
   "outputs": [],
   "source": [
    "if store_child_ids:\n",
    "    extra_ids = np.array( list( set( ids_accreted_alt ) - set( ids_accreted ) ) )"
   ]
  },
  {
   "cell_type": "markdown",
   "metadata": {},
   "source": [
    "# Plot Selected Data"
   ]
  },
  {
   "cell_type": "markdown",
   "metadata": {},
   "source": [
    "## After"
   ]
  },
  {
   "cell_type": "markdown",
   "metadata": {},
   "source": [
    "### Get Spatial Data"
   ]
  },
  {
   "cell_type": "code",
   "execution_count": null,
   "metadata": {},
   "outputs": [],
   "source": [
    "# Format Gas Data\n",
    "data = {}\n",
    "for key in [ 'ID', 'Rx', 'Ry', 'Rz', 'Den' ]:\n",
    "    data[key] = g_data.get_data( key )\n",
    "df = pd.DataFrame( data )\n",
    "\n",
    "# Get rid of duplicates\n",
    "df = df.drop_duplicates( 'ID', keep=False )\n",
    "\n",
    "df = df.set_index( 'ID' )"
   ]
  },
  {
   "cell_type": "code",
   "execution_count": null,
   "metadata": {},
   "outputs": [],
   "source": [
    "is_acc = df.index.isin( ids_accreted )\n",
    "df_acc = df[is_acc]"
   ]
  },
  {
   "cell_type": "code",
   "execution_count": null,
   "metadata": {},
   "outputs": [],
   "source": [
    "if store_child_ids:\n",
    "    is_extra = df.index.isin( extra_ids )\n",
    "    df_extra = df[is_extra]"
   ]
  },
  {
   "cell_type": "code",
   "execution_count": null,
   "metadata": {},
   "outputs": [],
   "source": [
    "# Format Star Data\n",
    "data = {}\n",
    "for key in [ 'ID', 'Rx', 'Ry', 'Rz' ]:\n",
    "    data[key] = s_data.get_data( key )\n",
    "df_star = pd.DataFrame( data )\n",
    "\n",
    "# Get rid of duplicates\n",
    "df_star = df_star.drop_duplicates( 'ID', keep=False )\n",
    "\n",
    "df_star = df_star.set_index( 'ID' )"
   ]
  },
  {
   "cell_type": "code",
   "execution_count": null,
   "metadata": {},
   "outputs": [],
   "source": [
    "is_acc_star = df_star.index.isin( ids_accreted )\n",
    "df_acc_star = df_star[is_acc_star]"
   ]
  },
  {
   "cell_type": "code",
   "execution_count": null,
   "metadata": {},
   "outputs": [],
   "source": [
    "if store_child_ids:\n",
    "    is_extra = df_star.index.isin( extra_ids )\n",
    "    df_extra_star = df_star[is_extra]"
   ]
  },
  {
   "cell_type": "markdown",
   "metadata": {},
   "source": [
    "### Plot After"
   ]
  },
  {
   "cell_type": "code",
   "execution_count": null,
   "metadata": {},
   "outputs": [],
   "source": [
    "fig = plt.figure( figsize=(12, 12), facecolor='white' )\n",
    "ax = plt.gca()\n",
    "\n",
    "ax.hist2d(\n",
    "    df_acc['Rx'],\n",
    "    df_acc['Ry'],\n",
    "    bins = 256,\n",
    "    range = 1.5 * r_gal * np.array( [ [ -1., 1. ], [ -1., 1. ], ] ),\n",
    "    cmap = palettable.cubehelix.classic_16_r.get_mpl_colormap(),\n",
    "    norm = plt_colors.LogNorm(),\n",
    ")\n",
    "\n",
    "fig"
   ]
  },
  {
   "cell_type": "code",
   "execution_count": null,
   "metadata": {},
   "outputs": [],
   "source": [
    "fig = plt.figure( figsize=(12, 12), facecolor='white' )\n",
    "ax = plt.gca()\n",
    "\n",
    "ax.hist2d(\n",
    "    g_data.get_data( 'Rx' ),\n",
    "    g_data.get_data( 'Ry' ),\n",
    "    bins = 256,\n",
    "    range = 0.3 * g_data.r_vir * np.array( [ [ -1., 1. ], [ -1., 1. ], ] ),\n",
    "    cmap = palettable.cmocean.sequential.Gray_20_r.mpl_colormap,\n",
    "    norm = plt_colors.LogNorm(),\n",
    "    alpha = 0.4,\n",
    ")\n",
    "\n",
    "ax.scatter(\n",
    "    df_acc_star['Rx'],\n",
    "    df_acc_star['Ry'],\n",
    "    color = palettable.cartocolors.qualitative.Vivid_2.mpl_colors[0],\n",
    "    s = 5,\n",
    "    label = 'stars',\n",
    ")\n",
    "\n",
    "ax.scatter(\n",
    "    df_acc['Rx'],\n",
    "    df_acc['Ry'],\n",
    "    color = palettable.cartocolors.qualitative.Vivid_2.mpl_colors[1],\n",
    "    s = 20,\n",
    "    label = 'gas',\n",
    ")\n",
    "\n",
    "\n",
    "ax.set_xlabel( 'X (pkpc)', fontsize=22, )\n",
    "ax.set_ylabel( 'Y (pkpc)', fontsize=22, )\n",
    "\n",
    "ax.set_xlim( -2. * r_gal, 2. * r_gal )\n",
    "ax.set_ylim( -2. * r_gal, 2. * r_gal )\n",
    "\n",
    "ax.legend()\n",
    "\n",
    "fig"
   ]
  },
  {
   "cell_type": "code",
   "execution_count": null,
   "metadata": {},
   "outputs": [],
   "source": [
    "if store_child_ids:\n",
    "    fig = plt.figure( figsize=(12, 12), facecolor='white' )\n",
    "    ax = plt.gca()\n",
    "\n",
    "    ax.hist2d(\n",
    "        df_extra['Rx'],\n",
    "        df_extra['Ry'],\n",
    "        bins = 128,\n",
    "        range = 1.5 * r_gal * np.array( [ [ -1., 1. ], [ -1., 1. ], ] ),\n",
    "        cmap = palettable.cubehelix.classic_16_r.get_mpl_colormap(),\n",
    "        norm = plt_colors.LogNorm(),\n",
    "    )\n",
    "\n",
    "    fig"
   ]
  },
  {
   "cell_type": "code",
   "execution_count": null,
   "metadata": {},
   "outputs": [],
   "source": [
    "if store_child_ids:\n",
    "    fig = plt.figure( figsize=(12, 12), facecolor='white' )\n",
    "    ax = plt.gca()\n",
    "\n",
    "    ax.scatter(\n",
    "        df_extra['Rx'],\n",
    "        df_extra['Ry'],\n",
    "        color = palettable.cartocolors.qualitative.Vivid_2.mpl_colors[1],\n",
    "        s = 25,\n",
    "        label = 'gas',\n",
    "    )\n",
    "    \n",
    "    ax.scatter(\n",
    "        df_extra_star['Rx'],\n",
    "        df_extra_star['Ry'],\n",
    "        color = palettable.cartocolors.qualitative.Vivid_2.mpl_colors[0],\n",
    "        s = 5,\n",
    "        label = 'stars',\n",
    "    )\n",
    "\n",
    "\n",
    "    ax.set_xlabel( 'X (pkpc)', fontsize=22, )\n",
    "    ax.set_ylabel( 'Y (pkpc)', fontsize=22, )\n",
    "\n",
    "    ax.set_xlim( -1. * r_gal, 1. * r_gal )\n",
    "    ax.set_ylim( -1. * r_gal, 1. * r_gal )\n",
    "\n",
    "    ax.legend()\n",
    "\n",
    "    fig"
   ]
  },
  {
   "cell_type": "markdown",
   "metadata": {},
   "source": [
    "## Check Results of Splitting"
   ]
  },
  {
   "cell_type": "code",
   "execution_count": null,
   "metadata": {},
   "outputs": [],
   "source": [
    "if store_child_ids:\n",
    "\n",
    "    g_dups = g_data.find_duplicate_ids()\n",
    "\n",
    "    s_dups = s_data.find_duplicate_ids()\n",
    "\n",
    "    gs_dups = np.intersect1d( g_data.get_data( 'ID' ), s_data.get_data( 'ID' ) )\n",
    "\n",
    "    all_dups = np.union1d( np.union1d( g_dups, s_dups, ), gs_dups )\n",
    "    \n",
    "    g_prior_dups = g_data_prior.find_duplicate_ids()"
   ]
  },
  {
   "cell_type": "code",
   "execution_count": null,
   "metadata": {},
   "outputs": [],
   "source": [
    "if store_child_ids:\n",
    "\n",
    "    print( 'Percent of galaxy ids with duplicates = {:.2g}%'.format( np.intersect1d( all_dups, ids_gal ).size / ids_gal.size * 100 ) )\n",
    "\n",
    "    print( 'Percent of CGM ids with duplicates = {:.2g}%'.format( np.intersect1d( ids_cgm, g_prior_dups ).size / ids_cgm.size * 100 ) )\n",
    "\n",
    "    print( 'Percent of galaxy ids targeted = {:.2g}%'.format( ids_accreted.size / ids_gal.size * 100 ) )\n",
    "\n",
    "    print( 'Percent of CGM ids targeted = {:.2g}%'.format( ids_accreted.size / ids_cgm.size * 100 ) )\n",
    "\n",
    "    n_dups = np.intersect1d( ids_accreted_alt, all_dups ).size\n",
    "\n",
    "    cgm_before_dup_after = np.intersect1d( ids_cgm, np.intersect1d( all_dups, ids_gal ) )\n",
    "\n",
    "    dup_before_gal_after = np.intersect1d( ids_gal, np.intersect1d( g_prior_dups, ids_cgm ) )\n",
    "\n",
    "    dup_before_dup_after = np.intersect1d( np.intersect1d( all_dups, ids_gal ), np.intersect1d( g_prior_dups, ids_cgm )  )\n",
    "\n",
    "    all_relevant_dup_ids = np.union1d( np.union1d( cgm_before_dup_after, dup_before_gal_after ), dup_before_dup_after )\n",
    "    \n",
    "    print( 'Percent of duplicates CGM before, duplicate after = {:.2g}%'.format( cgm_before_dup_after.size / n_dups * 100 ) )\n",
    "\n",
    "    print( 'Percent of duplicates duplicate before, galaxy after = {:.2g}%'.format( dup_before_gal_after.size / n_dups * 100 ) )\n",
    "\n",
    "    print( 'Accounted for IDs = {}, number of duplicate IDs = {}'.format( all_relevant_dup_ids.size, np.intersect1d( ids_accreted_alt, all_dups ).size ) )"
   ]
  },
  {
   "cell_type": "markdown",
   "metadata": {},
   "source": [
    "## Before"
   ]
  },
  {
   "cell_type": "markdown",
   "metadata": {},
   "source": [
    "### Get Spatial Data"
   ]
  },
  {
   "cell_type": "code",
   "execution_count": null,
   "metadata": {},
   "outputs": [],
   "source": [
    "# Format Data\n",
    "data = {}\n",
    "for key in [ 'ID', 'Rx', 'Ry', 'Rz' ]:\n",
    "    data[key] = g_data_prior.get_data( key )\n",
    "data['is_in_CGM'] = is_in_CGM\n",
    "df_prior = pd.DataFrame( data )\n",
    "\n",
    "# Get rid of duplicates\n",
    "df_prior = df_prior.drop_duplicates( 'ID', keep=False )\n",
    "\n",
    "df_prior = df_prior.set_index( 'ID' )"
   ]
  },
  {
   "cell_type": "code",
   "execution_count": null,
   "metadata": {},
   "outputs": [],
   "source": [
    "df_acc_prior = df_prior[df_prior.index.isin( ids_accreted )]"
   ]
  },
  {
   "cell_type": "code",
   "execution_count": null,
   "metadata": {},
   "outputs": [],
   "source": [
    "not_counted = df.index.isin( df_prior.index[df_prior['is_in_CGM']] ) & np.invert( is_acc )\n",
    "df_not_counted = df[not_counted]"
   ]
  },
  {
   "cell_type": "code",
   "execution_count": null,
   "metadata": {},
   "outputs": [],
   "source": [
    "not_counted = df_star.index.isin( df_prior.index[df_prior['is_in_CGM']] ) & np.invert( is_acc_star )\n",
    "df_not_counted_star = df_star[not_counted]"
   ]
  },
  {
   "cell_type": "code",
   "execution_count": null,
   "metadata": {},
   "outputs": [],
   "source": [
    "if store_child_ids:\n",
    "    df_extra_prior = df_prior[df_prior.index.isin( extra_ids )]"
   ]
  },
  {
   "cell_type": "markdown",
   "metadata": {},
   "source": [
    "### Plot Before"
   ]
  },
  {
   "cell_type": "code",
   "execution_count": null,
   "metadata": {},
   "outputs": [],
   "source": [
    "fig = plt.figure( figsize=(12, 12), facecolor='white' )\n",
    "ax = plt.gca()\n",
    "\n",
    "ax.hist2d(\n",
    "    g_data_prior.get_data( 'Rx' ),\n",
    "    g_data_prior.get_data( 'Ry' ),\n",
    "    bins = 256,\n",
    "    range = 0.3 * g_data_prior.r_vir * np.array( [ [ -1., 1. ], [ -1., 1. ], ] ),\n",
    "    cmap = palettable.cmocean.sequential.Gray_20_r.mpl_colormap,\n",
    "    norm = plt_colors.LogNorm(),\n",
    "    alpha = 0.2,\n",
    ")\n",
    "\n",
    "ax.hist2d(\n",
    "    df_acc_prior['Rx'],\n",
    "    df_acc_prior['Ry'],\n",
    "    bins = 256,\n",
    "    range = 0.3 * g_data_prior.r_vir * np.array( [ [ -1., 1. ], [ -1., 1. ], ] ),\n",
    "    cmap = palettable.cubehelix.classic_16_r.get_mpl_colormap(),\n",
    "    norm = plt_colors.LogNorm(),\n",
    ")\n",
    "\n",
    "fig"
   ]
  },
  {
   "cell_type": "code",
   "execution_count": null,
   "metadata": {},
   "outputs": [],
   "source": [
    "fig = plt.figure( figsize=(12, 12), facecolor='white' )\n",
    "ax = plt.gca()\n",
    "\n",
    "ax.hist2d(\n",
    "    g_data_prior.get_data( 'Rx' ),\n",
    "    g_data_prior.get_data( 'Ry' ),\n",
    "    bins = 256,\n",
    "    range = 0.5 * g_data_prior.r_vir * np.array( [ [ -1., 1. ], [ -1., 1. ], ] ),\n",
    "    cmap = palettable.cmocean.sequential.Gray_20_r.mpl_colormap,\n",
    "    norm = plt_colors.LogNorm(),\n",
    "    alpha = 0.2,\n",
    ")\n",
    "\n",
    "ax.scatter(\n",
    "    df_acc_prior['Rx'],\n",
    "    df_acc_prior['Ry'],\n",
    "    color = palettable.cartocolors.qualitative.Vivid_2.mpl_colors[1],\n",
    "    s = 1,\n",
    ")\n",
    "\n",
    "ax.set_xlabel( 'X (pkpc)', fontsize=22, )\n",
    "ax.set_ylabel( 'Y (pkpc)', fontsize=22, )\n",
    "\n",
    "ax.set_xlim( -0.5 * g_data_prior.r_vir, 0.5 * g_data_prior.r_vir )\n",
    "ax.set_ylim( -0.5 * g_data_prior.r_vir, 0.5 * g_data_prior.r_vir )\n",
    "\n",
    "fig"
   ]
  },
  {
   "cell_type": "code",
   "execution_count": null,
   "metadata": {},
   "outputs": [],
   "source": [
    "if store_child_ids:\n",
    "    fig = plt.figure( figsize=(12, 12), facecolor='white' )\n",
    "    ax = plt.gca()\n",
    "\n",
    "    ax.scatter(\n",
    "        df_extra_prior['Rx'],\n",
    "        df_extra_prior['Ry'],\n",
    "        color = palettable.cartocolors.qualitative.Vivid_2.mpl_colors[1],\n",
    "        s = 1,\n",
    "    )\n",
    "\n",
    "    ax.set_xlabel( 'X (pkpc)', fontsize=22, )\n",
    "    ax.set_ylabel( 'Y (pkpc)', fontsize=22, )\n",
    "\n",
    "    ax.set_xlim( -0.5 * g_data_prior.r_vir, 0.5 * g_data_prior.r_vir )\n",
    "    ax.set_ylim( -0.5 * g_data_prior.r_vir, 0.5 * g_data_prior.r_vir )\n",
    "\n",
    "    fig"
   ]
  },
  {
   "cell_type": "markdown",
   "metadata": {},
   "source": [
    "### Plot Positions at $z=0$"
   ]
  },
  {
   "cell_type": "code",
   "execution_count": null,
   "metadata": {},
   "outputs": [],
   "source": [
    "df_not_counted['R'] = np.sqrt( df_not_counted['Rx']**2. + df_not_counted['Ry']**2. + df_not_counted['Rz']**2. )"
   ]
  },
  {
   "cell_type": "code",
   "execution_count": null,
   "metadata": {},
   "outputs": [],
   "source": [
    "df_not_counted_star['R'] = np.sqrt( df_not_counted_star['Rx']**2. + df_not_counted_star['Ry']**2. + df_not_counted_star['Rz']**2. )"
   ]
  },
  {
   "cell_type": "code",
   "execution_count": null,
   "metadata": {},
   "outputs": [],
   "source": [
    "print( 'r_star_min_not_counted = {:.3g} kpc; r_gal = {:.3g} kpc'.format( df_not_counted_star['R'].min(), r_gal[0] ) )\n",
    "assert df_not_counted_star['R'].min() > r_gal, 'r_star_min_not_counted too small'"
   ]
  },
  {
   "cell_type": "code",
   "execution_count": null,
   "metadata": {},
   "outputs": [],
   "source": [
    "in_rgal = df_not_counted['R'] < r_gal[0]\n",
    "is_dense = df_not_counted['Den'] > config.GALAXY_DENSITY_CUT\n",
    "in_gal_not_counted = in_rgal & is_dense\n",
    "assert in_gal_not_counted.sum() == 0"
   ]
  },
  {
   "cell_type": "code",
   "execution_count": null,
   "metadata": {},
   "outputs": [],
   "source": [
    "fig = plt.figure( figsize=(12, 12), facecolor='white' )\n",
    "ax = plt.gca()\n",
    "\n",
    "ax.hist2d(\n",
    "    df_not_counted['Rx'],\n",
    "    df_not_counted['Ry'],\n",
    "    bins = 256,\n",
    "    range = 0.3 * g_data.r_vir * np.array( [ [ -1., 1. ], [ -1., 1. ], ] ),\n",
    "    cmap = palettable.cmocean.sequential.Gray_20_r.mpl_colormap,\n",
    "    norm = plt_colors.LogNorm(),\n",
    "    alpha = 0.4,\n",
    ")\n",
    "\n",
    "ax.scatter(\n",
    "    df_not_counted_star['Rx'],\n",
    "    df_not_counted_star['Ry'],\n",
    "    color = palettable.cartocolors.qualitative.Vivid_2.mpl_colors[0],\n",
    "    s = 5,\n",
    "    label = 'stars',\n",
    ")\n",
    "\n",
    "\n",
    "ax.set_xlabel( 'X (pkpc)', fontsize=22, )\n",
    "ax.set_ylabel( 'Y (pkpc)', fontsize=22, )\n",
    "\n",
    "ax.set_xlim( -2. * r_gal, 2. * r_gal )\n",
    "ax.set_ylim( -2. * r_gal, 2. * r_gal )\n",
    "\n",
    "ax.legend()\n",
    "\n",
    "fig"
   ]
  },
  {
   "cell_type": "markdown",
   "metadata": {},
   "source": [
    "# Save Data"
   ]
  },
  {
   "cell_type": "markdown",
   "metadata": {},
   "source": [
    "## ID Data"
   ]
  },
  {
   "cell_type": "code",
   "execution_count": null,
   "metadata": {},
   "outputs": [],
   "source": [
    "child_ids_str = {\n",
    "    True: '_split',\n",
    "    False: '',\n",
    "}[store_child_ids]"
   ]
  },
  {
   "cell_type": "code",
   "execution_count": null,
   "metadata": {},
   "outputs": [],
   "source": [
    "file_name = 'ids_full_hothaloacc{}.hdf5'.format( child_ids_str )\n",
    "file_path = os.path.join( pm['data_dir'], file_name )\n",
    "g = h5py.File( file_path, 'w' )"
   ]
  },
  {
   "cell_type": "code",
   "execution_count": null,
   "metadata": {},
   "outputs": [],
   "source": [
    "g.create_dataset( 'target_ids', data=ids_accreted )"
   ]
  },
  {
   "cell_type": "code",
   "execution_count": null,
   "metadata": {},
   "outputs": [],
   "source": [
    "if store_child_ids:\n",
    "    g.create_dataset( 'target_child_ids', data=child_ids_accreted )"
   ]
  },
  {
   "cell_type": "code",
   "execution_count": null,
   "metadata": {},
   "outputs": [],
   "source": [
    "g.close()"
   ]
  },
  {
   "cell_type": "code",
   "execution_count": null,
   "metadata": {},
   "outputs": [],
   "source": [
    "print( 'Saved at {}'.format( file_path ) )"
   ]
  },
  {
   "cell_type": "markdown",
   "metadata": {},
   "source": [
    "## Summary Statistics Data"
   ]
  },
  {
   "cell_type": "markdown",
   "metadata": {},
   "source": [
    "### Momentum"
   ]
  },
  {
   "cell_type": "code",
   "execution_count": null,
   "metadata": {},
   "outputs": [],
   "source": [
    "tot_momentum_fp = os.path.join( pm['processed_data_dir'], 'tot_momentums.hdf5' )"
   ]
  },
  {
   "cell_type": "code",
   "execution_count": null,
   "metadata": {},
   "outputs": [],
   "source": [
    "try:\n",
    "    tot_momentums = verdict.Dict.from_hdf5( tot_momentum_fp )\n",
    "except IOError:\n",
    "    tot_momentums = verdict.Dict( {} )"
   ]
  },
  {
   "cell_type": "code",
   "execution_count": null,
   "metadata": {},
   "outputs": [],
   "source": [
    "sim_str = pm['variation']\n",
    "if sim_str not in tot_momentums:\n",
    "    tot_momentums[pm['variation']] = {}"
   ]
  },
  {
   "cell_type": "code",
   "execution_count": null,
   "metadata": {},
   "outputs": [],
   "source": [
    "tot_momentums[sim_str]['snum{:03d}'.format( snum )] = s_data.total_ang_momentum"
   ]
  },
  {
   "cell_type": "code",
   "execution_count": null,
   "metadata": {},
   "outputs": [],
   "source": [
    "tot_momentums[sim_str]['snum{:03d}'.format( snum_prior )] = g_data_prior.total_ang_momentum"
   ]
  },
  {
   "cell_type": "code",
   "execution_count": null,
   "metadata": {},
   "outputs": [],
   "source": [
    "tot_momentums.to_hdf5( tot_momentum_fp )"
   ]
  },
  {
   "cell_type": "markdown",
   "metadata": {},
   "source": [
    "The angles are consistent both across time and stars/gas:"
   ]
  },
  {
   "cell_type": "code",
   "execution_count": null,
   "metadata": {},
   "outputs": [],
   "source": [
    "print(\n",
    "        'Change between gas angular momentum now and 1 Gyr ago: {:.2g} degrees'.format(\n",
    "        np.arccos(\n",
    "            np.dot(\n",
    "                g_data.total_ang_momentum / np.linalg.norm( g_data.total_ang_momentum ),\n",
    "                g_data_prior.total_ang_momentum / np.linalg.norm( g_data_prior.total_ang_momentum ),\n",
    "            )\n",
    "        ) / np.pi * 180.\n",
    "    )\n",
    ")"
   ]
  },
  {
   "cell_type": "code",
   "execution_count": null,
   "metadata": {},
   "outputs": [],
   "source": [
    "print(\n",
    "        'Change between gas angular momentum now and stellar angular momentum now: {:.2g} degrees'.format(\n",
    "        np.arccos(\n",
    "            np.dot(\n",
    "                g_data.total_ang_momentum / np.linalg.norm( g_data.total_ang_momentum ),\n",
    "                s_data.total_ang_momentum / np.linalg.norm( s_data.total_ang_momentum ),\n",
    "            )\n",
    "        ) / np.pi * 180.\n",
    "    )\n",
    ")"
   ]
  },
  {
   "cell_type": "markdown",
   "metadata": {},
   "source": [
    "### Disk Fraction"
   ]
  },
  {
   "cell_type": "code",
   "execution_count": null,
   "metadata": {},
   "outputs": [],
   "source": [
    "h_param = s_data.data_attrs['hubble']"
   ]
  },
  {
   "cell_type": "code",
   "execution_count": null,
   "metadata": {},
   "outputs": [],
   "source": [
    "# Star masses enclosed\n",
    "r_star = s_data.get_data( 'R' )[is_in_gal_star]\n",
    "r_star[r_star > s_data.r_vir] = np.nan\n",
    "r_star_ckpc = r_star / ( h_param * ( 1. + s_data.redshift ) )\n",
    "M_enc_star = s_data.halo_data.get_profile_data(\n",
    "    'M_in_r',\n",
    "    snum,\n",
    "    r_star_ckpc\n",
    ") / h_param"
   ]
  },
  {
   "cell_type": "code",
   "execution_count": null,
   "metadata": {},
   "outputs": [],
   "source": [
    "# Get grid masses enclose\n",
    "r_grid = np.linspace( 0.00001, s_data.r_vir, 1024 )\n",
    "r_grid_ckpc = r_grid / ( h_param * ( 1. + s_data.redshift ) )\n",
    "M_enc_grid = s_data.halo_data.get_profile_data(\n",
    "    'M_in_r',\n",
    "    snum,\n",
    "    r_grid_ckpc\n",
    ") / h_param\n",
    "M_enc_grid[np.isnan(M_enc_grid)] = 0.\n",
    "M_enc_grid[np.arange(M_enc_grid.size)>np.argmax(M_enc_grid)] = M_enc_grid.max()"
   ]
  },
  {
   "cell_type": "code",
   "execution_count": null,
   "metadata": {},
   "outputs": [],
   "source": [
    "# Get potential energy\n",
    "pot_grid = unyt.G * scipy.integrate.cumtrapz( M_enc_grid/r_grid**2., r_grid, initial=0 ) * unyt.Msun / unyt.kpc\n",
    "pot_grid -= pot_grid[-1]\n",
    "pot_grid -= unyt.G * g_data.m_vir * unyt.Msun / ( g_data.r_vir * unyt.kpc )\n",
    "pot_grid = pot_grid.to( 'm**2/s**2' )\n",
    "pot_fn = lambda x : scipy.interpolate.interp1d( r_grid, pot_grid )( x ) * unyt.m**2. / unyt.s**2."
   ]
  },
  {
   "cell_type": "code",
   "execution_count": null,
   "metadata": {},
   "outputs": [],
   "source": [
    "# Get energy for a grid, using virial theorem\n",
    "spec_e_grid = pot_grid + 0.5 * unyt.G * M_enc_grid * unyt.Msun / ( r_grid * unyt.kpc )"
   ]
  },
  {
   "cell_type": "code",
   "execution_count": null,
   "metadata": {},
   "outputs": [],
   "source": [
    "# Star potential energy, specific energy\n",
    "pot_star = pot_fn( r_star )\n",
    "v_star = s_data.get_data( 'Vmag' )[is_in_gal_star] * unyt.km / unyt.s\n",
    "spec_e_star =  pot_star +  0.5 * v_star**2."
   ]
  },
  {
   "cell_type": "code",
   "execution_count": null,
   "metadata": {},
   "outputs": [],
   "source": [
    "# What radii particles would be at if they were circular with the same energy\n",
    "spec_e_star[spec_e_star>spec_e_grid.max()] = np.nan\n",
    "r_circ = scipy.interpolate.interp1d( spec_e_grid, r_grid )( spec_e_star )"
   ]
  },
  {
   "cell_type": "code",
   "execution_count": null,
   "metadata": {},
   "outputs": [],
   "source": [
    "# Circular momentum\n",
    "r_circ_ckpc = r_circ / ( h_param * ( 1. + s_data.redshift ) )\n",
    "M_enc_circ = s_data.halo_data.get_profile_data(\n",
    "    'M_in_r',\n",
    "    snum,\n",
    "    r_circ_ckpc\n",
    ") / h_param\n",
    "j_circ = np.sqrt( unyt.G * M_enc_circ * unyt.Msun * r_circ * unyt.kpc)"
   ]
  },
  {
   "cell_type": "code",
   "execution_count": null,
   "metadata": {},
   "outputs": [],
   "source": [
    "# Angular momentum\n",
    "ang_mom_dir = s_data.total_ang_momentum / np.linalg.norm( s_data.total_ang_momentum )\n",
    "l_units = unyt.Msun * unyt.kpc * unyt.km / unyt.s\n",
    "lz_star = np.dot( s_data.get_data( 'L', ).transpose(), ang_mom_dir )[is_in_gal_star] * l_units\n",
    "lmag_star = s_data.get_data( 'Lmag' )[is_in_gal_star] * l_units\n",
    "m_star = s_data.get_data( 'M' )[is_in_gal_star] * unyt.Msun\n",
    "jz_star = lz_star / m_star\n",
    "jmag_star = lmag_star / m_star"
   ]
  },
  {
   "cell_type": "code",
   "execution_count": null,
   "metadata": {},
   "outputs": [],
   "source": [
    "# Ratios\n",
    "jz_jcirc = jz_star / j_circ\n",
    "jz_jmag = jz_star / jmag_star"
   ]
  },
  {
   "cell_type": "code",
   "execution_count": null,
   "metadata": {},
   "outputs": [],
   "source": [
    "bins = np.linspace( -1, 1, 256 )\n",
    "centers = bins[:-1] + 0.5 * ( bins[1] - bins[0] )"
   ]
  },
  {
   "cell_type": "markdown",
   "metadata": {},
   "source": [
    "#### Disk Fraction for All Stars"
   ]
  },
  {
   "cell_type": "code",
   "execution_count": null,
   "metadata": {},
   "outputs": [],
   "source": [
    "fig = plt.figure( figsize=(12,8), facecolor='w' )\n",
    "ax = plt.gca()\n",
    "\n",
    "hist, bins, _ = ax.hist(\n",
    "    jz_jmag,\n",
    "    bins,\n",
    "    density = True,\n",
    ")\n",
    "fig"
   ]
  },
  {
   "cell_type": "code",
   "execution_count": null,
   "metadata": {},
   "outputs": [],
   "source": [
    "fig = plt.figure( figsize=(12,8), facecolor='w' )\n",
    "ax = plt.gca()\n",
    "\n",
    "_ = ax.hist(\n",
    "    jz_jcirc,\n",
    "    bins,\n",
    ")\n",
    "fig"
   ]
  },
  {
   "cell_type": "code",
   "execution_count": null,
   "metadata": {},
   "outputs": [],
   "source": [
    "fig = plt.figure( figsize=(12,8), facecolor='w' )\n",
    "ax = plt.gca()\n",
    "\n",
    "_ = ax.hist(\n",
    "    jmag_star / j_circ,\n",
    "    bins,\n",
    ")\n",
    "fig"
   ]
  },
  {
   "cell_type": "code",
   "execution_count": null,
   "metadata": {},
   "outputs": [],
   "source": [
    "# Calculate fractions\n",
    "m_tot = m_star.sum()\n",
    "is_thin_disk = jz_jcirc>=0.8\n",
    "is_thick_disk = (jz_jcirc>=0.2) & (jz_jcirc<0.8)\n",
    "is_disk = jz_jcirc>=0.5\n",
    "thin_disk_frac = m_star[is_thin_disk].sum() / m_tot\n",
    "thick_disk_frac = m_star[is_thick_disk].sum() / m_tot\n",
    "disk_frac = m_star[is_disk].sum() / m_tot"
   ]
  },
  {
   "cell_type": "code",
   "execution_count": null,
   "metadata": {},
   "outputs": [],
   "source": [
    "# Open for saving\n",
    "summary_fp = os.path.join( pm['processed_data_dir'], 'summary.hdf5' )\n",
    "summary_data = verdict.Dict.from_hdf5( summary_fp, create_nonexistent=True )"
   ]
  },
  {
   "cell_type": "code",
   "execution_count": null,
   "metadata": {},
   "outputs": [],
   "source": [
    "# Store\n",
    "if 'thin_disk_fraction' not in summary_data.keys():\n",
    "    summary_data['thin_disk_fraction'] = {}\n",
    "summary_data['thin_disk_fraction'][pm['variation']] = thin_disk_frac\n",
    "if 'thick_disk_fraction' not in summary_data.keys():\n",
    "    summary_data['thick_disk_fraction'] = {}\n",
    "summary_data['thick_disk_fraction'][pm['variation']] = thick_disk_frac\n",
    "summary_data.to_hdf5( summary_fp )"
   ]
  },
  {
   "cell_type": "code",
   "execution_count": null,
   "metadata": {},
   "outputs": [],
   "source": [
    "if 'jz_jmag_stars' not in summary_data.keys():\n",
    "    summary_data['jz_jmag_stars'] = {\n",
    "        'thin_disk': {},\n",
    "        'thin_disk_recent': {},\n",
    "        'thin_disk_sloanr': {},\n",
    "        'centers': {},\n",
    "        'bins': {},\n",
    "    }\n",
    "summary_data['jz_jmag_stars']['bins'][pm['variation']] = bins\n",
    "summary_data['jz_jmag_stars']['centers'][pm['variation']] = centers"
   ]
  },
  {
   "cell_type": "code",
   "execution_count": null,
   "metadata": {},
   "outputs": [],
   "source": [
    "summary_data['jz_jmag_stars']['thin_disk'][pm['variation']] = hist"
   ]
  },
  {
   "cell_type": "markdown",
   "metadata": {},
   "source": [
    "#### Disk Fraction for Recent Stars"
   ]
  },
  {
   "cell_type": "code",
   "execution_count": null,
   "metadata": {},
   "outputs": [],
   "source": [
    "z_star = ( 1. / s_data.get_data( 'Age' ) - 1. )\n",
    "universe_age = astro_tools.age_of_universe( z_star, h_param, s_data.data_attrs['omega_matter'])\n",
    "lookback_time = astro_tools.age_of_universe( 0., h_param, s_data.data_attrs['omega_matter']) - universe_age\n",
    "recent = lookback_time < 1.\n",
    "recent_in_gal = recent[is_in_gal_star]"
   ]
  },
  {
   "cell_type": "code",
   "execution_count": null,
   "metadata": {},
   "outputs": [],
   "source": [
    "fig = plt.figure( figsize=(12,8), facecolor='w' )\n",
    "ax = plt.gca()\n",
    "\n",
    "hist, bins, _ = ax.hist(\n",
    "    jz_jmag[recent_in_gal],\n",
    "    bins,\n",
    "    density = True,\n",
    ")\n",
    "fig"
   ]
  },
  {
   "cell_type": "code",
   "execution_count": null,
   "metadata": {},
   "outputs": [],
   "source": [
    "fig = plt.figure( figsize=(12,8), facecolor='w' )\n",
    "ax = plt.gca()\n",
    "\n",
    "_ = ax.hist(\n",
    "    jz_jcirc[recent_in_gal],\n",
    "    bins,\n",
    ")\n",
    "fig"
   ]
  },
  {
   "cell_type": "code",
   "execution_count": null,
   "metadata": {},
   "outputs": [],
   "source": [
    "fig = plt.figure( figsize=(12,8), facecolor='w' )\n",
    "ax = plt.gca()\n",
    "\n",
    "_ = ax.hist(\n",
    "    ( jmag_star / j_circ )[recent_in_gal],\n",
    "    bins,\n",
    ")\n",
    "fig"
   ]
  },
  {
   "cell_type": "code",
   "execution_count": null,
   "metadata": {},
   "outputs": [],
   "source": [
    "# Calculate fractions\n",
    "m_tot = m_star[recent_in_gal].sum()\n",
    "thin_disk_frac = m_star[is_thin_disk & recent_in_gal].sum() / m_tot\n",
    "thick_disk_frac = m_star[is_thick_disk & recent_in_gal].sum() / m_tot"
   ]
  },
  {
   "cell_type": "code",
   "execution_count": null,
   "metadata": {},
   "outputs": [],
   "source": [
    "# Store\n",
    "if 'thin_disk_fraction_recent' not in summary_data.keys():\n",
    "    summary_data['thin_disk_fraction_recent'] = {}\n",
    "summary_data['thin_disk_fraction_recent'][pm['variation']] = thin_disk_frac\n",
    "if 'thick_disk_fraction_recent' not in summary_data.keys():\n",
    "    summary_data['thick_disk_fraction_recent'] = {}\n",
    "summary_data['thick_disk_fraction_recent'][pm['variation']] = thick_disk_frac"
   ]
  },
  {
   "cell_type": "code",
   "execution_count": null,
   "metadata": {},
   "outputs": [],
   "source": [
    "summary_data['jz_jmag_stars']['thin_disk_recent'][pm['variation']] = hist"
   ]
  },
  {
   "cell_type": "markdown",
   "metadata": {},
   "source": [
    "#### Disk Fraction for Luminous Stars"
   ]
  },
  {
   "cell_type": "code",
   "execution_count": null,
   "metadata": {},
   "outputs": [],
   "source": [
    "luminosity = luminosity_yu.get_attenuated_stellar_luminosities(\n",
    "    BAND_IDS = [ 3, ],\n",
    "    stellar_age = lookback_time,\n",
    "    stellar_metallicity = s_data.get_data( 'Z' ),\n",
    "    stellar_mass = s_data.get_data( 'M' ),\n",
    ")[0]\n",
    "luminosity_in_gal = luminosity[is_in_gal_star]"
   ]
  },
  {
   "cell_type": "code",
   "execution_count": null,
   "metadata": {},
   "outputs": [],
   "source": [
    "fig = plt.figure( figsize=(12,8), facecolor='w' )\n",
    "ax = plt.gca()\n",
    "\n",
    "hist, bins, _ = ax.hist(\n",
    "    jz_jmag,\n",
    "    bins,\n",
    "    weights = luminosity_in_gal,\n",
    "    density = True,\n",
    ")\n",
    "fig"
   ]
  },
  {
   "cell_type": "code",
   "execution_count": null,
   "metadata": {},
   "outputs": [],
   "source": [
    "fig = plt.figure( figsize=(12,8), facecolor='w' )\n",
    "ax = plt.gca()\n",
    "\n",
    "_ = ax.hist(\n",
    "    jz_jcirc,\n",
    "    bins,\n",
    "    weights = luminosity_in_gal,\n",
    ")\n",
    "fig"
   ]
  },
  {
   "cell_type": "code",
   "execution_count": null,
   "metadata": {},
   "outputs": [],
   "source": [
    "fig = plt.figure( figsize=(12,8), facecolor='w' )\n",
    "ax = plt.gca()\n",
    "\n",
    "_ = ax.hist(\n",
    "    ( jmag_star / j_circ ),\n",
    "    bins,\n",
    "    weights = luminosity_in_gal,\n",
    ")\n",
    "fig"
   ]
  },
  {
   "cell_type": "code",
   "execution_count": null,
   "metadata": {},
   "outputs": [],
   "source": [
    "# Calculate fractions\n",
    "weights = luminosity_in_gal * m_star\n",
    "m_tot_weighted = weights.sum()\n",
    "thin_disk_frac = weights[is_thin_disk].sum() / m_tot_weighted\n",
    "thick_disk_frac = weights[is_thick_disk].sum() / m_tot_weighted"
   ]
  },
  {
   "cell_type": "code",
   "execution_count": null,
   "metadata": {},
   "outputs": [],
   "source": [
    "# Store\n",
    "if 'thin_disk_fraction_sloanr' not in summary_data.keys():\n",
    "    summary_data['thin_disk_fraction_sloanr'] = {}\n",
    "summary_data['thin_disk_fraction_sloanr'][pm['variation']] = thin_disk_frac\n",
    "if 'thick_disk_fraction_sloanr' not in summary_data.keys():\n",
    "    summary_data['thick_disk_fraction_sloanr'] = {}\n",
    "summary_data['thick_disk_fraction_sloanr'][pm['variation']] = thick_disk_frac"
   ]
  },
  {
   "cell_type": "code",
   "execution_count": null,
   "metadata": {},
   "outputs": [],
   "source": [
    "summary_data['jz_jmag_stars']['thin_disk_sloanr'][pm['variation']] = hist"
   ]
  },
  {
   "cell_type": "code",
   "execution_count": null,
   "metadata": {},
   "outputs": [],
   "source": [
    "summary_data.keys()"
   ]
  },
  {
   "cell_type": "code",
   "execution_count": null,
   "metadata": {},
   "outputs": [],
   "source": [
    "summary_data.to_hdf5( summary_fp )"
   ]
  },
  {
   "cell_type": "markdown",
   "metadata": {},
   "source": [
    "### z/R Distribution\n",
    "For thin-disk stars."
   ]
  },
  {
   "cell_type": "code",
   "execution_count": null,
   "metadata": {},
   "outputs": [],
   "source": [
    "# Calculate phi\n",
    "z = np.dot( s_data.get_data( 'P' ).transpose(), ang_mom_dir, )[is_in_gal_star]\n",
    "costheta = z / s_data.get_data( 'R' )[is_in_gal_star]"
   ]
  },
  {
   "cell_type": "code",
   "execution_count": null,
   "metadata": {},
   "outputs": [],
   "source": [
    "bins = np.linspace( -1, 1, 256 )\n",
    "centers = bins[:-1] + 0.5 * ( bins[1] - bins[0] )"
   ]
  },
  {
   "cell_type": "code",
   "execution_count": null,
   "metadata": {},
   "outputs": [],
   "source": [
    "# Calc hists and plot\n",
    "fig = plt.figure( figsize=(12,8), facecolor='w' )\n",
    "ax = plt.gca()\n",
    "\n",
    "dist, bins, patches = ax.hist(\n",
    "    costheta,\n",
    "    bins,\n",
    "    histtype = 'step',\n",
    "    linewidth = 3,\n",
    "    color = '0.3',\n",
    "    density = True,\n",
    "    label = 'all',\n",
    ")\n",
    "\n",
    "thin_disk_dist, bins, patches = ax.hist(\n",
    "    costheta[is_thin_disk],\n",
    "    bins,\n",
    "    histtype = 'step',\n",
    "    linewidth = 1,\n",
    "    color = 'k',\n",
    "    density = True,\n",
    "    label = 'thin disk all',\n",
    ")\n",
    "\n",
    "dist, bins, patches = ax.hist(\n",
    "    costheta[is_thick_disk],\n",
    "    bins,\n",
    "    histtype = 'step',\n",
    "    linewidth = 1,\n",
    "    color = 'k',\n",
    "    density = True,\n",
    "    label = 'thick disk all',\n",
    "    linestyle = '--',\n",
    ")\n",
    "\n",
    "thin_disk_dist_recent, bins, patches = ax.hist(\n",
    "    costheta[is_thin_disk & recent_in_gal],\n",
    "    bins,\n",
    "    histtype = 'step',\n",
    "    linewidth = 3,\n",
    "    color = 'k',\n",
    "    density = True,\n",
    "    label = 'thin disk',\n",
    ")\n",
    "\n",
    "dist, bins, patches = ax.hist(\n",
    "    costheta[is_thick_disk & recent_in_gal],\n",
    "    bins,\n",
    "    histtype = 'step',\n",
    "    linewidth = 3,\n",
    "    color = 'k',\n",
    "    density = True,\n",
    "    label = 'thick disk',\n",
    "    linestyle = '--',\n",
    ")\n",
    "\n",
    "disk_dist, bins, patches = ax.hist(\n",
    "    costheta[is_disk],\n",
    "    bins,\n",
    "    histtype = 'step',\n",
    "    linewidth = 1,\n",
    "    color = 'k',\n",
    "    density = True,\n",
    "    label = 'disk all',\n",
    "    linestyle = ':',\n",
    ")\n",
    "\n",
    "disk_dist_recent, bins, patches = ax.hist(\n",
    "    costheta[is_disk & recent_in_gal],\n",
    "    bins,\n",
    "    histtype = 'step',\n",
    "    linewidth = 3,\n",
    "    color = 'k',\n",
    "    density = True,\n",
    "    label = 'disk',\n",
    "    linestyle = ':',\n",
    ")\n",
    "\n",
    "ax.legend()\n",
    "\n",
    "ax.set_xlim( -1, 1 )\n",
    "\n",
    "fig"
   ]
  },
  {
   "cell_type": "code",
   "execution_count": null,
   "metadata": {},
   "outputs": [],
   "source": [
    "# Store\n",
    "if 'cosphi_stars' not in summary_data:\n",
    "    summary_data['cosphi_stars'] = {\n",
    "        'thin_disk': {},\n",
    "        'thin_disk_recent': {},\n",
    "        'disk': {},\n",
    "        'disk_recent': {},\n",
    "        'centers': centers,\n",
    "        'bins': bins,\n",
    "    }"
   ]
  },
  {
   "cell_type": "code",
   "execution_count": null,
   "metadata": {},
   "outputs": [],
   "source": [
    "summary_data['cosphi_stars']['thin_disk'][pm['variation']] = thin_disk_dist\n",
    "summary_data['cosphi_stars']['thin_disk_recent'][pm['variation']] = thin_disk_dist_recent"
   ]
  },
  {
   "cell_type": "code",
   "execution_count": null,
   "metadata": {},
   "outputs": [],
   "source": [
    "summary_data['cosphi_stars']['disk'][pm['variation']] = disk_dist\n",
    "summary_data['cosphi_stars']['disk_recent'][pm['variation']] = disk_dist_recent"
   ]
  },
  {
   "cell_type": "code",
   "execution_count": null,
   "metadata": {},
   "outputs": [],
   "source": [
    "summary_data.to_hdf5( summary_fp )"
   ]
  },
  {
   "cell_type": "markdown",
   "metadata": {},
   "source": [
    "### Disk Radius and Height"
   ]
  },
  {
   "cell_type": "code",
   "execution_count": null,
   "metadata": {},
   "outputs": [],
   "source": [
    "if 'disk_radius' not in summary_data:\n",
    "    summary_data['disk_radius'] = {\n",
    "        'T<1.5e4 gas': {},\n",
    "        'stars': {},\n",
    "        'recent_stars': {},\n",
    "        'recent_thin_disk_stars': {},\n",
    "    }\n",
    "if 'disk_half_height' not in summary_data:\n",
    "    summary_data['disk_half_height'] = {\n",
    "        'T<1.5e4 gas': {},\n",
    "        'stars': {},\n",
    "        'recent_stars': {},\n",
    "        'recent_thin_disk_stars': {},\n",
    "    }"
   ]
  },
  {
   "cell_type": "markdown",
   "metadata": {},
   "source": [
    "#### Gas"
   ]
  },
  {
   "cell_type": "code",
   "execution_count": null,
   "metadata": {},
   "outputs": [],
   "source": [
    "is_cold_gas = g_data.get_data( 'T' ) < 1.5e4"
   ]
  },
  {
   "cell_type": "code",
   "execution_count": null,
   "metadata": {},
   "outputs": [],
   "source": [
    "is_in_outer_boundary = g_data.get_data( 'R' ) < 0.15 * g_data.r_vir"
   ]
  },
  {
   "cell_type": "code",
   "execution_count": null,
   "metadata": {},
   "outputs": [],
   "source": [
    "r_cold_gas_in_boundary = g_data.get_data( 'R' )[is_cold_gas & is_in_outer_boundary]"
   ]
  },
  {
   "cell_type": "code",
   "execution_count": null,
   "metadata": {},
   "outputs": [],
   "source": [
    "r_d = np.percentile( r_cold_gas_in_boundary, 85 )"
   ]
  },
  {
   "cell_type": "code",
   "execution_count": null,
   "metadata": {},
   "outputs": [],
   "source": [
    "z = np.dot( g_data.get_data( 'P' ).transpose(), ang_mom_dir )\n",
    "r_perp = np.linalg.norm( g_data.get_data( 'P' ) - z * ang_mom_dir[:,np.newaxis], axis=0 )"
   ]
  },
  {
   "cell_type": "code",
   "execution_count": null,
   "metadata": {},
   "outputs": [],
   "source": [
    "is_in_vertically = np.abs( z ) < r_d\n",
    "is_in_perpendicularly = r_perp < r_d"
   ]
  },
  {
   "cell_type": "code",
   "execution_count": null,
   "metadata": {},
   "outputs": [],
   "source": [
    "z_in = np.abs( z[is_in_vertically & is_in_perpendicularly] )"
   ]
  },
  {
   "cell_type": "code",
   "execution_count": null,
   "metadata": {},
   "outputs": [],
   "source": [
    "half_height = np.percentile( z_in, 85 )"
   ]
  },
  {
   "cell_type": "code",
   "execution_count": null,
   "metadata": {},
   "outputs": [],
   "source": [
    "# Store\n",
    "summary_data['disk_radius']['T<1.5e4 gas'][pm['variation']] = r_d\n",
    "summary_data['disk_half_height']['T<1.5e4 gas'][pm['variation']] = half_height"
   ]
  },
  {
   "cell_type": "code",
   "execution_count": null,
   "metadata": {},
   "outputs": [],
   "source": [
    "print( 'Rd = {:.3g}, hd = {:.3g}, Rd/hd = {:.3g}'.format( r_d, half_height, r_d / half_height ) )"
   ]
  },
  {
   "cell_type": "markdown",
   "metadata": {},
   "source": [
    "#### Stars"
   ]
  },
  {
   "cell_type": "code",
   "execution_count": null,
   "metadata": {},
   "outputs": [],
   "source": [
    "is_in_outer_boundary = s_data.get_data( 'R' ) < 0.15 * s_data.r_vir"
   ]
  },
  {
   "cell_type": "code",
   "execution_count": null,
   "metadata": {},
   "outputs": [],
   "source": [
    "r_in_boundary = s_data.get_data( 'R' )[is_in_outer_boundary]"
   ]
  },
  {
   "cell_type": "code",
   "execution_count": null,
   "metadata": {},
   "outputs": [],
   "source": [
    "r_d = np.percentile( r_in_boundary, 85 )"
   ]
  },
  {
   "cell_type": "code",
   "execution_count": null,
   "metadata": {},
   "outputs": [],
   "source": [
    "z = np.dot( s_data.get_data( 'P' ).transpose(), ang_mom_dir )\n",
    "r_perp = np.linalg.norm( s_data.get_data( 'P' ) - z * ang_mom_dir[:,np.newaxis], axis=0 )"
   ]
  },
  {
   "cell_type": "code",
   "execution_count": null,
   "metadata": {},
   "outputs": [],
   "source": [
    "is_in_vertically = np.abs( z ) < r_d\n",
    "is_in_perpendicularly = r_perp < r_d"
   ]
  },
  {
   "cell_type": "code",
   "execution_count": null,
   "metadata": {},
   "outputs": [],
   "source": [
    "z_in = np.abs( z[is_in_vertically & is_in_perpendicularly] )"
   ]
  },
  {
   "cell_type": "code",
   "execution_count": null,
   "metadata": {},
   "outputs": [],
   "source": [
    "half_height = np.percentile( z_in, 85 )"
   ]
  },
  {
   "cell_type": "code",
   "execution_count": null,
   "metadata": {},
   "outputs": [],
   "source": [
    "# Store\n",
    "summary_data['disk_radius']['stars'][pm['variation']] = r_d\n",
    "summary_data['disk_half_height']['stars'][pm['variation']] = half_height"
   ]
  },
  {
   "cell_type": "code",
   "execution_count": null,
   "metadata": {},
   "outputs": [],
   "source": [
    "print( 'Rd = {:.3g}, hd = {:.3g}, Rd/hd = {:.3g}'.format( r_d, half_height, r_d / half_height ) )"
   ]
  },
  {
   "cell_type": "markdown",
   "metadata": {},
   "source": [
    "#### Young Stars"
   ]
  },
  {
   "cell_type": "code",
   "execution_count": null,
   "metadata": {},
   "outputs": [],
   "source": [
    "is_in_outer_boundary = s_data.get_data( 'R' ) < 0.15 * s_data.r_vir"
   ]
  },
  {
   "cell_type": "code",
   "execution_count": null,
   "metadata": {},
   "outputs": [],
   "source": [
    "r_in_boundary = s_data.get_data( 'R' )[is_in_outer_boundary & recent]"
   ]
  },
  {
   "cell_type": "code",
   "execution_count": null,
   "metadata": {},
   "outputs": [],
   "source": [
    "r_d = np.percentile( r_in_boundary, 85 )"
   ]
  },
  {
   "cell_type": "code",
   "execution_count": null,
   "metadata": {},
   "outputs": [],
   "source": [
    "z = np.dot( s_data.get_data( 'P' ).transpose(), ang_mom_dir )\n",
    "r_perp = np.linalg.norm( s_data.get_data( 'P' ) - z * ang_mom_dir[:,np.newaxis], axis=0 )"
   ]
  },
  {
   "cell_type": "code",
   "execution_count": null,
   "metadata": {},
   "outputs": [],
   "source": [
    "is_in_vertically = np.abs( z ) < r_d\n",
    "is_in_perpendicularly = r_perp < r_d"
   ]
  },
  {
   "cell_type": "code",
   "execution_count": null,
   "metadata": {},
   "outputs": [],
   "source": [
    "z_in = np.abs( z[is_in_vertically & is_in_perpendicularly] )"
   ]
  },
  {
   "cell_type": "code",
   "execution_count": null,
   "metadata": {},
   "outputs": [],
   "source": [
    "half_height = np.percentile( z_in, 85 )"
   ]
  },
  {
   "cell_type": "code",
   "execution_count": null,
   "metadata": {},
   "outputs": [],
   "source": [
    "# Store\n",
    "summary_data['disk_radius']['recent_stars'][pm['variation']] = r_d\n",
    "summary_data['disk_half_height']['recent_stars'][pm['variation']] = half_height"
   ]
  },
  {
   "cell_type": "code",
   "execution_count": null,
   "metadata": {},
   "outputs": [],
   "source": [
    "print( 'Rd = {:.3g}, hd = {:.3g}, Rd/hd = {:.3g}'.format( r_d, half_height, r_d / half_height ) )"
   ]
  },
  {
   "cell_type": "markdown",
   "metadata": {},
   "source": [
    "#### Young Thin-Disk Stars"
   ]
  },
  {
   "cell_type": "code",
   "execution_count": null,
   "metadata": {},
   "outputs": [],
   "source": [
    "is_in_outer_boundary = s_data.get_data( 'R' ) < 0.15 * s_data.r_vir"
   ]
  },
  {
   "cell_type": "code",
   "execution_count": null,
   "metadata": {},
   "outputs": [],
   "source": [
    "# Star masses enclosed\n",
    "r_star = s_data.get_data( 'R' )[is_in_outer_boundary & recent]\n",
    "r_star[r_star > s_data.r_vir] = np.nan\n",
    "r_star_ckpc = r_star / ( h_param * ( 1. + s_data.redshift ) )\n",
    "M_enc_star = s_data.halo_data.get_profile_data(\n",
    "    'M_in_r',\n",
    "    snum,\n",
    "    r_star_ckpc\n",
    ") / h_param"
   ]
  },
  {
   "cell_type": "code",
   "execution_count": null,
   "metadata": {},
   "outputs": [],
   "source": [
    "# Get grid masses enclose\n",
    "r_grid = np.linspace( 0.00001, s_data.r_vir, 1024 )\n",
    "r_grid_ckpc = r_grid / ( h_param * ( 1. + s_data.redshift ) )\n",
    "M_enc_grid = s_data.halo_data.get_profile_data(\n",
    "    'M_in_r',\n",
    "    snum,\n",
    "    r_grid_ckpc\n",
    ") / h_param\n",
    "M_enc_grid[np.isnan(M_enc_grid)] = 0.\n",
    "M_enc_grid[np.arange(M_enc_grid.size)>np.argmax(M_enc_grid)] = M_enc_grid.max()"
   ]
  },
  {
   "cell_type": "code",
   "execution_count": null,
   "metadata": {},
   "outputs": [],
   "source": [
    "# Get potential energy\n",
    "pot_grid = unyt.G * scipy.integrate.cumtrapz( M_enc_grid/r_grid**2., r_grid, initial=0 ) * unyt.Msun / unyt.kpc\n",
    "pot_grid -= pot_grid[-1]\n",
    "pot_grid -= unyt.G * g_data.m_vir * unyt.Msun / ( g_data.r_vir * unyt.kpc )\n",
    "pot_grid = pot_grid.to( 'm**2/s**2' )\n",
    "pot_fn = lambda x : scipy.interpolate.interp1d( r_grid, pot_grid )( x ) * unyt.m**2. / unyt.s**2."
   ]
  },
  {
   "cell_type": "code",
   "execution_count": null,
   "metadata": {},
   "outputs": [],
   "source": [
    "# Get energy for a grid, using virial theorem\n",
    "spec_e_grid = pot_grid + 0.5 * unyt.G * M_enc_grid * unyt.Msun / ( r_grid * unyt.kpc )"
   ]
  },
  {
   "cell_type": "code",
   "execution_count": null,
   "metadata": {},
   "outputs": [],
   "source": [
    "# Star potential energy, specific energy\n",
    "pot_star = pot_fn( r_star )\n",
    "v_star = s_data.get_data( 'Vmag' )[is_in_outer_boundary & recent] * unyt.km / unyt.s\n",
    "spec_e_star =  pot_star +  0.5 * v_star**2."
   ]
  },
  {
   "cell_type": "code",
   "execution_count": null,
   "metadata": {},
   "outputs": [],
   "source": [
    "# What radii particles would be at if they were circular with the same energy\n",
    "spec_e_star[spec_e_star>spec_e_grid.max()] = np.nan\n",
    "r_circ = scipy.interpolate.interp1d( spec_e_grid, r_grid )( spec_e_star )"
   ]
  },
  {
   "cell_type": "code",
   "execution_count": null,
   "metadata": {},
   "outputs": [],
   "source": [
    "# Circular momentum\n",
    "r_circ_ckpc = r_circ / ( h_param * ( 1. + s_data.redshift ) )\n",
    "M_enc_circ = s_data.halo_data.get_profile_data(\n",
    "    'M_in_r',\n",
    "    snum,\n",
    "    r_circ_ckpc\n",
    ") / h_param\n",
    "j_circ = np.sqrt( unyt.G * M_enc_circ * unyt.Msun * r_circ * unyt.kpc)"
   ]
  },
  {
   "cell_type": "code",
   "execution_count": null,
   "metadata": {},
   "outputs": [],
   "source": [
    "# Angular momentum\n",
    "ang_mom_dir = s_data.total_ang_momentum / np.linalg.norm( s_data.total_ang_momentum )\n",
    "l_units = unyt.Msun * unyt.kpc * unyt.km / unyt.s\n",
    "lz_star = np.dot( s_data.get_data( 'L', ).transpose(), ang_mom_dir )[is_in_outer_boundary & recent] * l_units\n",
    "lmag_star = s_data.get_data( 'Lmag' )[is_in_outer_boundary & recent] * l_units\n",
    "m_star = s_data.get_data( 'M' )[is_in_outer_boundary & recent] * unyt.Msun\n",
    "jz_star = lz_star / m_star\n",
    "jmag_star = lmag_star / m_star"
   ]
  },
  {
   "cell_type": "code",
   "execution_count": null,
   "metadata": {},
   "outputs": [],
   "source": [
    "# Ratios\n",
    "jz_jcirc_recent = jz_star / j_circ\n",
    "jz_jmag_recent = jz_star / jmag_star\n",
    "is_thin_disk = jz_jcirc_recent >= 0.8"
   ]
  },
  {
   "cell_type": "code",
   "execution_count": null,
   "metadata": {},
   "outputs": [],
   "source": [
    "r_in_boundary = s_data.get_data( 'R' )[is_in_outer_boundary & recent][is_thin_disk]"
   ]
  },
  {
   "cell_type": "code",
   "execution_count": null,
   "metadata": {},
   "outputs": [],
   "source": [
    "r_d = np.percentile( r_in_boundary, 85 )"
   ]
  },
  {
   "cell_type": "code",
   "execution_count": null,
   "metadata": {},
   "outputs": [],
   "source": [
    "z = np.dot( s_data.get_data( 'P' ).transpose(), ang_mom_dir )\n",
    "r_perp = np.linalg.norm( s_data.get_data( 'P' ) - z * ang_mom_dir[:,np.newaxis], axis=0 )"
   ]
  },
  {
   "cell_type": "code",
   "execution_count": null,
   "metadata": {},
   "outputs": [],
   "source": [
    "is_in_vertically = np.abs( z ) < r_d\n",
    "is_in_perpendicularly = r_perp < r_d"
   ]
  },
  {
   "cell_type": "code",
   "execution_count": null,
   "metadata": {},
   "outputs": [],
   "source": [
    "z_in = np.abs( z[is_in_vertically & is_in_perpendicularly] )"
   ]
  },
  {
   "cell_type": "code",
   "execution_count": null,
   "metadata": {},
   "outputs": [],
   "source": [
    "half_height = np.percentile( z_in, 85 )"
   ]
  },
  {
   "cell_type": "code",
   "execution_count": null,
   "metadata": {},
   "outputs": [],
   "source": [
    "# Store\n",
    "if 'recent_thin_disk_stars' not in summary_data['disk_radius']:\n",
    "    summary_data['disk_radius']['recent_thin_disk_stars'] = {}\n",
    "if 'recent_thin_disk_stars' not in summary_data['disk_half_height']:\n",
    "    summary_data['disk_half_height']['recent_thin_disk_stars'] = {}\n",
    "summary_data['disk_radius']['recent_thin_disk_stars'][pm['variation']] = r_d\n",
    "summary_data['disk_half_height']['recent_thin_disk_stars'][pm['variation']] = half_height"
   ]
  },
  {
   "cell_type": "code",
   "execution_count": null,
   "metadata": {},
   "outputs": [],
   "source": [
    "print( 'Rd = {:.3g}, hd = {:.3g}, Rd/hd = {:.3g}'.format( r_d, half_height, r_d / half_height ) )"
   ]
  },
  {
   "cell_type": "markdown",
   "metadata": {},
   "source": [
    "#### Finish Storing"
   ]
  },
  {
   "cell_type": "code",
   "execution_count": null,
   "metadata": {},
   "outputs": [],
   "source": [
    "summary_data.to_hdf5( summary_fp )"
   ]
  },
  {
   "cell_type": "markdown",
   "metadata": {},
   "source": [
    "### Disk Rotational Velocity and Sigma"
   ]
  },
  {
   "cell_type": "code",
   "execution_count": null,
   "metadata": {},
   "outputs": [],
   "source": [
    "if 'v_rot' not in summary_data:\n",
    "    summary_data['v_rot'] = {\n",
    "        'T<1.5e4 gas': {},\n",
    "        'stars': {},\n",
    "        'recent_stars': {},\n",
    "    }\n",
    "if 'sigma_r' not in summary_data:\n",
    "    summary_data['sigma_r'] = {\n",
    "        'T<1.5e4 gas': {},\n",
    "        'stars': {},\n",
    "        'recent_stars': {},\n",
    "    }"
   ]
  },
  {
   "cell_type": "markdown",
   "metadata": {},
   "source": [
    "#### Gas"
   ]
  },
  {
   "cell_type": "code",
   "execution_count": null,
   "metadata": {},
   "outputs": [],
   "source": [
    "is_cold_gas = g_data.get_data( 'T' ) < 1.5e4"
   ]
  },
  {
   "cell_type": "code",
   "execution_count": null,
   "metadata": {},
   "outputs": [],
   "source": [
    "is_in_outer_boundary = g_data.get_data( 'R' ) < 0.1 * g_data.r_vir"
   ]
  },
  {
   "cell_type": "code",
   "execution_count": null,
   "metadata": {},
   "outputs": [],
   "source": [
    "r_in_boundary = g_data.get_data( 'R' )[is_in_outer_boundary & is_cold_gas]"
   ]
  },
  {
   "cell_type": "code",
   "execution_count": null,
   "metadata": {},
   "outputs": [],
   "source": [
    "r_e_cold_gas = np.percentile( r_in_boundary, 50 )"
   ]
  },
  {
   "cell_type": "code",
   "execution_count": null,
   "metadata": {},
   "outputs": [],
   "source": [
    "z = np.dot( g_data.get_data( 'P' ).transpose(), ang_mom_dir )\n",
    "r_perp = g_data.get_data( 'P' ) - z * ang_mom_dir[:,np.newaxis]\n",
    "r_perp_mag = np.linalg.norm( r_perp, axis=0 )"
   ]
  },
  {
   "cell_type": "code",
   "execution_count": null,
   "metadata": {},
   "outputs": [],
   "source": [
    "is_in_vertically = np.abs( z ) < 0.1\n",
    "is_in_perpendicularly = r_perp_mag < 0.25 * r_e_cold_gas"
   ]
  },
  {
   "cell_type": "code",
   "execution_count": null,
   "metadata": {},
   "outputs": [],
   "source": [
    "# Calculate vtan\n",
    "vz = np.dot( g_data.get_data( 'V' ).transpose(), ang_mom_dir )\n",
    "s_hat = r_perp / r_perp_mag\n",
    "vs = ( g_data.get_data( 'V' ) * s_hat ).sum( axis=0 )\n",
    "vtan = g_data.get_data( 'V' ) - vz * ang_mom_dir[:,np.newaxis] - vs * s_hat\n",
    "vtan_mag = np.linalg.norm( vtan, axis=0 )"
   ]
  },
  {
   "cell_type": "code",
   "execution_count": null,
   "metadata": {},
   "outputs": [],
   "source": [
    "vrot = np.mean( vtan_mag[is_in_vertically & is_in_perpendicularly & is_cold_gas] )"
   ]
  },
  {
   "cell_type": "code",
   "execution_count": null,
   "metadata": {},
   "outputs": [],
   "source": [
    "fig = plt.figure()\n",
    "ax = plt.gca()\n",
    "\n",
    "ax.hist(\n",
    "    vtan_mag[is_in_vertically & is_in_perpendicularly],\n",
    "    bins = 32,\n",
    ")\n",
    "\n",
    "ax.axvline(\n",
    "    vrot,\n",
    "    color = 'k',\n",
    ")\n",
    "\n",
    "vmax = s_data.halo_data.get_mt_data( 'Vmax', snums=[ snum, ] )\n",
    "ax.axvline(\n",
    "    vmax,\n",
    "    color = 'k',\n",
    "    linestyle = '--',\n",
    ")\n",
    "\n",
    "fig"
   ]
  },
  {
   "cell_type": "code",
   "execution_count": null,
   "metadata": {},
   "outputs": [],
   "source": [
    "r_hat = g_data.get_data( 'P' ) / g_data.get_data( 'R' )\n",
    "vr = ( g_data.get_data( 'V' ) * r_hat ).sum( axis=0 )\n",
    "masses = g_data.get_data( 'M' )"
   ]
  },
  {
   "cell_type": "code",
   "execution_count": null,
   "metadata": {},
   "outputs": [],
   "source": [
    "r_bins = np.linspace( 0, 0.1 * g_data.r_vir, 16 )\n",
    "sigma_r = []\n",
    "weights = []\n",
    "for i, r_start in enumerate( tqdm.tqdm( r_bins[:-1] ) ):\n",
    "    in_bin = ( g_data.get_data( 'R' ) > r_start ) & ( g_data.get_data( 'R' ) < r_bins[i+1] )\n",
    "    \n",
    "    sigma_r_i = np.std( vr[in_bin & is_cold_gas] )\n",
    "    sigma_r.append( sigma_r_i )\n",
    "    weights.append( masses[in_bin & is_cold_gas].sum() )\n",
    "sigma_r = np.array( sigma_r )\n",
    "weights = np.array( weights )"
   ]
  },
  {
   "cell_type": "code",
   "execution_count": null,
   "metadata": {},
   "outputs": [],
   "source": [
    "sigma_r = ( sigma_r * weights ).sum() / weights.sum()"
   ]
  },
  {
   "cell_type": "code",
   "execution_count": null,
   "metadata": {},
   "outputs": [],
   "source": [
    "# Store\n",
    "summary_data['v_rot']['T<1.5e4 gas'][pm['variation']] = vrot\n",
    "summary_data['sigma_r']['T<1.5e4 gas'][pm['variation']] = sigma_r"
   ]
  },
  {
   "cell_type": "code",
   "execution_count": null,
   "metadata": {},
   "outputs": [],
   "source": [
    "print( 'Vrot = {:.3g}, sigma = {:.3g}, Vrot/sigma = {:.3g}'.format( vrot, sigma_r, vrot / sigma_r ) )"
   ]
  },
  {
   "cell_type": "markdown",
   "metadata": {},
   "source": [
    "#### Stars"
   ]
  },
  {
   "cell_type": "code",
   "execution_count": null,
   "metadata": {},
   "outputs": [],
   "source": [
    "is_in_outer_boundary = s_data.get_data( 'R' ) < 0.1 * s_data.r_vir"
   ]
  },
  {
   "cell_type": "code",
   "execution_count": null,
   "metadata": {},
   "outputs": [],
   "source": [
    "z = np.dot( s_data.get_data( 'P' ).transpose(), ang_mom_dir )\n",
    "r_perp = s_data.get_data( 'P' ) - z * ang_mom_dir[:,np.newaxis]\n",
    "r_perp_mag = np.linalg.norm( r_perp, axis=0 )"
   ]
  },
  {
   "cell_type": "code",
   "execution_count": null,
   "metadata": {},
   "outputs": [],
   "source": [
    "is_in_vertically = np.abs( z ) < 0.1\n",
    "is_in_perpendicularly = r_perp_mag < 0.25 * r_e_cold_gas"
   ]
  },
  {
   "cell_type": "code",
   "execution_count": null,
   "metadata": {},
   "outputs": [],
   "source": [
    "# Calculate vtan\n",
    "vz = np.dot( s_data.get_data( 'V' ).transpose(), ang_mom_dir )\n",
    "s_hat = r_perp / r_perp_mag\n",
    "vs = ( s_data.get_data( 'V' ) * s_hat ).sum( axis=0 )\n",
    "vtan = s_data.get_data( 'V' ) - vz * ang_mom_dir[:,np.newaxis] - vs * s_hat\n",
    "vtan_mag = np.linalg.norm( vtan, axis=0 )"
   ]
  },
  {
   "cell_type": "code",
   "execution_count": null,
   "metadata": {},
   "outputs": [],
   "source": [
    "vrot = np.mean( vtan_mag[is_in_vertically & is_in_perpendicularly] )"
   ]
  },
  {
   "cell_type": "code",
   "execution_count": null,
   "metadata": {},
   "outputs": [],
   "source": [
    "fig = plt.figure()\n",
    "ax = plt.gca()\n",
    "\n",
    "ax.hist(\n",
    "    vtan_mag[is_in_vertically & is_in_perpendicularly],\n",
    "    bins = 32,\n",
    ")\n",
    "\n",
    "ax.axvline(\n",
    "    vrot,\n",
    "    color = 'k',\n",
    ")\n",
    "\n",
    "vmax = s_data.halo_data.get_mt_data( 'Vmax', snums=[ snum, ] )\n",
    "ax.axvline(\n",
    "    vmax,\n",
    "    color = 'k',\n",
    "    linestyle = '--',\n",
    ")\n",
    "\n",
    "fig"
   ]
  },
  {
   "cell_type": "code",
   "execution_count": null,
   "metadata": {},
   "outputs": [],
   "source": [
    "r_hat = s_data.get_data( 'P' ) / s_data.get_data( 'R' )\n",
    "vr = ( s_data.get_data( 'V' ) * r_hat ).sum( axis=0 )\n",
    "masses = s_data.get_data( 'M' )"
   ]
  },
  {
   "cell_type": "code",
   "execution_count": null,
   "metadata": {},
   "outputs": [],
   "source": [
    "r_bins = np.linspace( 0, 0.1 * s_data.r_vir, 16 )\n",
    "sigma_r = []\n",
    "weights = []\n",
    "for i, r_start in enumerate( tqdm.tqdm( r_bins[:-1] ) ):\n",
    "    in_bin = ( s_data.get_data( 'R' ) > r_start ) & ( s_data.get_data( 'R' ) < r_bins[i+1] )\n",
    "    \n",
    "    sigma_r_i = np.std( vr[in_bin] )\n",
    "    sigma_r.append( sigma_r_i )\n",
    "    weights.append( masses[in_bin].sum() )\n",
    "sigma_r = np.array( sigma_r )\n",
    "weights = np.array( weights )"
   ]
  },
  {
   "cell_type": "code",
   "execution_count": null,
   "metadata": {},
   "outputs": [],
   "source": [
    "sigma_r = ( sigma_r * weights ).sum() / weights.sum()"
   ]
  },
  {
   "cell_type": "code",
   "execution_count": null,
   "metadata": {},
   "outputs": [],
   "source": [
    "# Store\n",
    "summary_data['v_rot']['stars'][pm['variation']] = vrot\n",
    "summary_data['sigma_r']['stars'][pm['variation']] = sigma_r"
   ]
  },
  {
   "cell_type": "code",
   "execution_count": null,
   "metadata": {},
   "outputs": [],
   "source": [
    "print( 'Vrot = {:.3g}, sigma = {:.3g}, Vrot/sigma = {:.3g}'.format( vrot, sigma_r, vrot / sigma_r ) )"
   ]
  },
  {
   "cell_type": "markdown",
   "metadata": {},
   "source": [
    "#### Young Stars"
   ]
  },
  {
   "cell_type": "code",
   "execution_count": null,
   "metadata": {},
   "outputs": [],
   "source": [
    "is_in_outer_boundary = s_data.get_data( 'R' ) < 0.1 * s_data.r_vir"
   ]
  },
  {
   "cell_type": "code",
   "execution_count": null,
   "metadata": {},
   "outputs": [],
   "source": [
    "z = np.dot( s_data.get_data( 'P' ).transpose(), ang_mom_dir )\n",
    "r_perp = s_data.get_data( 'P' ) - z * ang_mom_dir[:,np.newaxis]\n",
    "r_perp_mag = np.linalg.norm( r_perp, axis=0 )"
   ]
  },
  {
   "cell_type": "code",
   "execution_count": null,
   "metadata": {},
   "outputs": [],
   "source": [
    "is_in_vertically = np.abs( z ) < 0.1\n",
    "is_in_perpendicularly = r_perp_mag < 0.25 * r_e_cold_gas"
   ]
  },
  {
   "cell_type": "code",
   "execution_count": null,
   "metadata": {},
   "outputs": [],
   "source": [
    "# Calculate vtan\n",
    "vz = np.dot( s_data.get_data( 'V' ).transpose(), ang_mom_dir )\n",
    "s_hat = r_perp / r_perp_mag\n",
    "vs = ( s_data.get_data( 'V' ) * s_hat ).sum( axis=0 )\n",
    "vtan = s_data.get_data( 'V' ) - vz * ang_mom_dir[:,np.newaxis] - vs * s_hat\n",
    "vtan_mag = np.linalg.norm( vtan, axis=0 )"
   ]
  },
  {
   "cell_type": "code",
   "execution_count": null,
   "metadata": {},
   "outputs": [],
   "source": [
    "vrot = np.mean( vtan_mag[is_in_vertically & is_in_perpendicularly & recent] )"
   ]
  },
  {
   "cell_type": "code",
   "execution_count": null,
   "metadata": {},
   "outputs": [],
   "source": [
    "fig = plt.figure()\n",
    "ax = plt.gca()\n",
    "\n",
    "ax.hist(\n",
    "    vtan_mag[is_in_vertically & is_in_perpendicularly],\n",
    "    bins = 32,\n",
    ")\n",
    "\n",
    "ax.axvline(\n",
    "    vrot,\n",
    "    color = 'k',\n",
    ")\n",
    "\n",
    "vmax = s_data.halo_data.get_mt_data( 'Vmax', snums=[ snum, ] )\n",
    "ax.axvline(\n",
    "    vmax,\n",
    "    color = 'k',\n",
    "    linestyle = '--',\n",
    ")\n",
    "\n",
    "fig"
   ]
  },
  {
   "cell_type": "code",
   "execution_count": null,
   "metadata": {},
   "outputs": [],
   "source": [
    "r_hat = s_data.get_data( 'P' ) / s_data.get_data( 'R' )\n",
    "vr = ( s_data.get_data( 'V' ) * r_hat ).sum( axis=0 )\n",
    "masses = s_data.get_data( 'M' )"
   ]
  },
  {
   "cell_type": "code",
   "execution_count": null,
   "metadata": {},
   "outputs": [],
   "source": [
    "r_bins = np.linspace( 0, 0.1 * s_data.r_vir, 16 )\n",
    "sigma_r = []\n",
    "weights = []\n",
    "for i, r_start in enumerate( tqdm.tqdm( r_bins[:-1] ) ):\n",
    "    in_bin = ( s_data.get_data( 'R' ) > r_start ) & ( s_data.get_data( 'R' ) < r_bins[i+1] )\n",
    "    \n",
    "    sigma_r_i = np.std( vr[in_bin & recent] )\n",
    "    sigma_r.append( sigma_r_i )\n",
    "    weights.append( masses[in_bin & recent].sum() )\n",
    "sigma_r = np.array( sigma_r )\n",
    "weights = np.array( weights )"
   ]
  },
  {
   "cell_type": "code",
   "execution_count": null,
   "metadata": {},
   "outputs": [],
   "source": [
    "sigma_r = ( sigma_r * weights ).sum() / weights.sum()"
   ]
  },
  {
   "cell_type": "code",
   "execution_count": null,
   "metadata": {},
   "outputs": [],
   "source": [
    "# Store\n",
    "summary_data['v_rot']['recent_stars'][pm['variation']] = vrot\n",
    "summary_data['sigma_r']['recent_stars'][pm['variation']] = sigma_r"
   ]
  },
  {
   "cell_type": "code",
   "execution_count": null,
   "metadata": {},
   "outputs": [],
   "source": [
    "print( 'Vrot = {:.3g}, sigma = {:.3g}, Vrot/sigma = {:.3g}'.format( vrot, sigma_r, vrot / sigma_r ) )"
   ]
  },
  {
   "cell_type": "markdown",
   "metadata": {},
   "source": [
    "#### Finish Storing"
   ]
  },
  {
   "cell_type": "code",
   "execution_count": null,
   "metadata": {},
   "outputs": [],
   "source": [
    "summary_data.to_hdf5( summary_fp )"
   ]
  },
  {
   "cell_type": "markdown",
   "metadata": {},
   "source": [
    "# Firefly Visualization"
   ]
  },
  {
   "cell_type": "markdown",
   "metadata": {},
   "source": [
    "## Format Data"
   ]
  },
  {
   "cell_type": "markdown",
   "metadata": {},
   "source": [
    "### Raw Data"
   ]
  },
  {
   "cell_type": "code",
   "execution_count": null,
   "metadata": {},
   "outputs": [],
   "source": [
    "coords = s_data.get_data( 'P' )[:,is_in_gal_star].transpose()"
   ]
  },
  {
   "cell_type": "code",
   "execution_count": null,
   "metadata": {},
   "outputs": [],
   "source": [
    "velocities = s_data.get_data( 'V' )[:,is_in_gal_star].transpose()"
   ]
  },
  {
   "cell_type": "code",
   "execution_count": null,
   "metadata": {},
   "outputs": [],
   "source": [
    "fields_dict = {\n",
    "    'Age': lookback_time[is_in_gal_star],\n",
    "    'Circularity': jz_jcirc.value,\n",
    "    'MomentumAngle': jz_jmag.value,\n",
    "}"
   ]
  },
  {
   "cell_type": "markdown",
   "metadata": {},
   "source": [
    "### Sample Indices"
   ]
  },
  {
   "cell_type": "code",
   "execution_count": null,
   "metadata": {},
   "outputs": [],
   "source": [
    "inds = np.arange( coords.shape[0] )"
   ]
  },
  {
   "cell_type": "code",
   "execution_count": null,
   "metadata": {},
   "outputs": [],
   "source": [
    "premask = lookback_time[is_in_gal_star] < 1.\n",
    "if premask is not None:\n",
    "    inds = inds[premask]"
   ]
  },
  {
   "cell_type": "code",
   "execution_count": null,
   "metadata": {},
   "outputs": [],
   "source": [
    "n_max = 1000000\n",
    "if inds.size > n_max:\n",
    "    inds = np.random.choice( inds, n_max, replace=False )\n",
    "coords = coords[inds,:]\n",
    "velocities = velocities[inds,:]"
   ]
  },
  {
   "cell_type": "code",
   "execution_count": null,
   "metadata": {},
   "outputs": [],
   "source": [
    "fields = []\n",
    "field_names = []\n",
    "for key, item in fields_dict.items():\n",
    "    item = item[inds]\n",
    "    fields.append( item )\n",
    "    field_names.append( key )"
   ]
  },
  {
   "cell_type": "code",
   "execution_count": null,
   "metadata": {},
   "outputs": [],
   "source": [
    "fields = np.array( fields )"
   ]
  },
  {
   "cell_type": "markdown",
   "metadata": {},
   "source": [
    "### Transfer to Reader"
   ]
  },
  {
   "cell_type": "code",
   "execution_count": null,
   "metadata": {},
   "outputs": [],
   "source": [
    "import Firefly.data_reader as firefly_readers"
   ]
  },
  {
   "cell_type": "code",
   "execution_count": null,
   "metadata": {},
   "outputs": [],
   "source": [
    "reader = firefly_readers.ArrayReader(\n",
    "    coords,\n",
    "    fields = fields,\n",
    "    field_names = field_names,\n",
    "    write_jsons_to_disk = False,\n",
    ")"
   ]
  },
  {
   "cell_type": "code",
   "execution_count": null,
   "metadata": {},
   "outputs": [],
   "source": [
    "reader.settings['sizeMult']['PGroup_0'] = 0.01"
   ]
  },
  {
   "cell_type": "code",
   "execution_count": null,
   "metadata": {
    "tags": []
   },
   "outputs": [],
   "source": [
    "# reader.settings.printKeys()"
   ]
  },
  {
   "cell_type": "markdown",
   "metadata": {},
   "source": [
    "## View Data"
   ]
  },
  {
   "cell_type": "code",
   "execution_count": null,
   "metadata": {},
   "outputs": [],
   "source": [
    "from Firefly.server import spawnFireflyServer, killAllFireflyServers"
   ]
  },
  {
   "cell_type": "code",
   "execution_count": null,
   "metadata": {},
   "outputs": [],
   "source": [
    "if pm['inline_firefly']:\n",
    "    process = spawnFireflyServer(9299)"
   ]
  },
  {
   "cell_type": "code",
   "execution_count": null,
   "metadata": {},
   "outputs": [],
   "source": [
    "if pm['inline_firefly']:\n",
    "    reader.sendDataViaFlask(9299)"
   ]
  },
  {
   "cell_type": "code",
   "execution_count": null,
   "metadata": {},
   "outputs": [],
   "source": [
    "if pm['inline_firefly']:\n",
    "    killAllFireflyServers()"
   ]
  },
  {
   "cell_type": "code",
   "execution_count": null,
   "metadata": {},
   "outputs": [],
   "source": []
  }
 ],
 "metadata": {
  "kernelspec": {
   "display_name": "Python 3",
   "language": "python",
   "name": "python3"
  },
  "language_info": {
   "codemirror_mode": {
    "name": "ipython",
    "version": 3
   },
   "file_extension": ".py",
   "mimetype": "text/x-python",
   "name": "python",
   "nbconvert_exporter": "python",
   "pygments_lexer": "ipython3",
   "version": "3.9.1"
  }
 },
 "nbformat": 4,
 "nbformat_minor": 4
}
