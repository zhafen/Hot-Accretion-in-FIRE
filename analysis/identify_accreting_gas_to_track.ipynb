{
 "cells": [
  {
   "cell_type": "code",
   "execution_count": 1,
   "metadata": {
    "collapsed": true
   },
   "outputs": [],
   "source": [
    "import copy\n",
    "import h5py\n",
    "import numpy as np\n",
    "import os\n",
    "import pandas as pd\n",
    "import sys"
   ]
  },
  {
   "cell_type": "code",
   "execution_count": 2,
   "metadata": {},
   "outputs": [],
   "source": [
    "import analysis_config"
   ]
  },
  {
   "cell_type": "code",
   "execution_count": 3,
   "metadata": {},
   "outputs": [],
   "source": [
    "import matplotlib\n",
    "import matplotlib.pyplot as plt\n",
    "import matplotlib.patches as mpatches\n",
    "import matplotlib.cm as cm\n",
    "import matplotlib.colors as plt_colors\n",
    "import palettable"
   ]
  },
  {
   "cell_type": "code",
   "execution_count": 4,
   "metadata": {},
   "outputs": [],
   "source": [
    "import linefinder.analyze_data.worldlines as a_worldlines\n",
    "import linefinder.analyze_data.plot_worldlines as p_worldlines\n",
    "import linefinder.utils.presentation_constants as p_constants"
   ]
  },
  {
   "cell_type": "code",
   "execution_count": null,
   "metadata": {},
   "outputs": [],
   "source": [
    "import galaxy_dive.analyze_data.halo_data as halo_data\n",
    "import galaxy_dive.analyze_data.particle_data as particle_data\n",
    "import galaxy_dive.plot_data.generic_plotter as generic_plotter\n",
    "import galaxy_dive.plot_data.plotting as plotting\n",
    "import galaxy_dive.utils.data_operations as data_operations\n",
    "import galaxy_dive.utils.astro as astro_tools"
   ]
  },
  {
   "cell_type": "code",
   "execution_count": null,
   "metadata": {
    "collapsed": true
   },
   "outputs": [],
   "source": [
    "import linefinder.utils.file_management as file_management_old\n",
    "import linefinder.utils.file_management_new as file_management\n",
    "import linefinder.config as config"
   ]
  },
  {
   "cell_type": "markdown",
   "metadata": {},
   "source": [
    "# Load Data"
   ]
  },
  {
   "cell_type": "markdown",
   "metadata": {},
   "source": [
    "### Parameters"
   ]
  },
  {
   "cell_type": "code",
   "execution_count": null,
   "metadata": {},
   "outputs": [],
   "source": [
    "# Sim params\n",
    "default_sim = 'm12i'\n",
    "default_snum = 600\n",
    "resolution = 7100\n",
    "physics = 'metal_diffusion'\n",
    "subsubdir = None"
   ]
  },
  {
   "cell_type": "code",
   "execution_count": null,
   "metadata": {},
   "outputs": [],
   "source": [
    "# Halo file params\n",
    "mt_kwargs = {\n",
    "    'tag': 'smooth',\n",
    "}"
   ]
  },
  {
   "cell_type": "code",
   "execution_count": null,
   "metadata": {},
   "outputs": [],
   "source": [
    "# Data selection params\n",
    "t_window = 1. # In Gyr\n",
    "galdef = ''\n",
    "galaxy_cut = 0.1\n",
    "length_scale = 'Rvir'"
   ]
  },
  {
   "cell_type": "code",
   "execution_count": null,
   "metadata": {},
   "outputs": [],
   "source": [
    "store_child_ids = True"
   ]
  },
  {
   "cell_type": "markdown",
   "metadata": {},
   "source": [
    "### Get Data Structures"
   ]
  },
  {
   "cell_type": "code",
   "execution_count": null,
   "metadata": {},
   "outputs": [],
   "source": [
    "if len( sys.argv ) == 2:\n",
    "    sim_name = sys.argv[1]\n",
    "else:\n",
    "    sim_name = default_sim"
   ]
  },
  {
   "cell_type": "code",
   "execution_count": null,
   "metadata": {
    "collapsed": true
   },
   "outputs": [],
   "source": [
    "# Automatically set or retrieve args\n",
    "if len( sys.argv ) == 3:\n",
    "    try:\n",
    "        snum = int( sys.argv[2] )\n",
    "    except ValueError:\n",
    "        snum = default_snum\n",
    "else:\n",
    "    snum = default_snum"
   ]
  },
  {
   "cell_type": "code",
   "execution_count": null,
   "metadata": {},
   "outputs": [],
   "source": [
    "sim_kwargs = dict(\n",
    "    sim_name = sim_name,\n",
    "    resolution = resolution,\n",
    "    physics = physics,\n",
    "    subsubdir = subsubdir,\n",
    ")"
   ]
  },
  {
   "cell_type": "code",
   "execution_count": null,
   "metadata": {
    "collapsed": true
   },
   "outputs": [],
   "source": [
    "fm = file_management.FileManager( 'hot_accretion' )\n",
    "fm_old = file_management_old.FileManager( 'hot_accretion' )"
   ]
  },
  {
   "cell_type": "code",
   "execution_count": null,
   "metadata": {
    "collapsed": true
   },
   "outputs": [],
   "source": [
    "ind = 600 - snum"
   ]
  },
  {
   "cell_type": "code",
   "execution_count": null,
   "metadata": {},
   "outputs": [],
   "source": [
    "g_data = particle_data.ParticleData(\n",
    "    sdir = fm.get_sim_dir( **sim_kwargs ),\n",
    "    snum = snum,\n",
    "    ptype = config.PTYPE_GAS,\n",
    "    halo_data_dir = fm.get_halo_dir( **sim_kwargs, halo_subdir='' ),\n",
    "    main_halo_id = config.MAIN_MT_HALO_ID[sim_name],\n",
    "    load_additional_ids = store_child_ids,\n",
    ")"
   ]
  },
  {
   "cell_type": "code",
   "execution_count": null,
   "metadata": {},
   "outputs": [],
   "source": [
    "s_data = particle_data.ParticleData(\n",
    "    sdir = fm.get_sim_dir( **sim_kwargs ),\n",
    "    snum = snum,\n",
    "    ptype = config.PTYPE_STAR,\n",
    "    halo_data_dir = fm.get_halo_dir( **sim_kwargs, halo_subdir='' ),\n",
    "    main_halo_id = config.MAIN_MT_HALO_ID[sim_name],\n",
    "    load_additional_ids = store_child_ids,\n",
    ")"
   ]
  },
  {
   "cell_type": "code",
   "execution_count": null,
   "metadata": {},
   "outputs": [],
   "source": [
    "# Load a time data array\n",
    "time = astro_tools.age_of_universe(\n",
    "    g_data.halo_data.get_mt_data( 'redshift', ),\n",
    "    h = g_data.data_attrs['hubble'],\n",
    "    omega_matter = g_data.data_attrs['omega_matter'],\n",
    ")"
   ]
  },
  {
   "cell_type": "code",
   "execution_count": null,
   "metadata": {},
   "outputs": [],
   "source": [
    "# Find the time\n",
    "prev_time_inds = np.arange(time.size)[np.isclose( time[ind] - t_window, time, atol=0.012 )]\n",
    "assert prev_time_inds.size == 1\n",
    "prev_time_ind = prev_time_inds[0]\n",
    "snum_prior = 600 - prev_time_ind"
   ]
  },
  {
   "cell_type": "code",
   "execution_count": null,
   "metadata": {},
   "outputs": [],
   "source": [
    "g_data_prior = particle_data.ParticleData(\n",
    "    sdir = fm.get_sim_dir( **sim_kwargs ),\n",
    "    snum = snum_prior,\n",
    "    ptype = config.PTYPE_GAS,\n",
    "    halo_data_dir = fm.get_halo_dir( **sim_kwargs, halo_subdir='' ),\n",
    "    main_halo_id = config.MAIN_MT_HALO_ID[sim_name],\n",
    "    load_additional_ids = store_child_ids,\n",
    ")"
   ]
  },
  {
   "cell_type": "markdown",
   "metadata": {},
   "source": [
    "# Select Data"
   ]
  },
  {
   "cell_type": "markdown",
   "metadata": {},
   "source": [
    "### Particles in the Galaxy Later"
   ]
  },
  {
   "cell_type": "code",
   "execution_count": null,
   "metadata": {},
   "outputs": [],
   "source": [
    "# Find characteristic length scale of the galaxy\n",
    "len_scale = g_data.halo_data.get_mt_data(\n",
    "    length_scale,\n",
    "    snums=[snum,],\n",
    "    mt_halo_id=g_data.main_halo_id\n",
    ")\n",
    "r_gal = galaxy_cut * len_scale"
   ]
  },
  {
   "cell_type": "code",
   "execution_count": null,
   "metadata": {},
   "outputs": [],
   "source": [
    "# Find gas particles in the main galaxy\n",
    "is_in_gal_gas = (\n",
    "    ( g_data.get_data( 'R' ) < r_gal ) &\n",
    "    ( g_data.get_data( 'Den' ) > config.GALAXY_DENSITY_CUT )\n",
    ")"
   ]
  },
  {
   "cell_type": "code",
   "execution_count": null,
   "metadata": {},
   "outputs": [],
   "source": [
    "# Find star particles in the main galaxy\n",
    "is_in_gal_star = s_data.get_data( 'R' ) < r_gal"
   ]
  },
  {
   "cell_type": "code",
   "execution_count": null,
   "metadata": {},
   "outputs": [],
   "source": [
    "# Retrieve the relevant IDs\n",
    "ids_gal = np.concatenate(\n",
    "    (\n",
    "        g_data.get_data( 'ID' )[is_in_gal_gas],\n",
    "        s_data.get_data( 'ID' )[is_in_gal_star]\n",
    "    )\n",
    ")"
   ]
  },
  {
   "cell_type": "code",
   "execution_count": null,
   "metadata": {},
   "outputs": [],
   "source": [
    "if store_child_ids:\n",
    "    child_ids_gal = np.concatenate(\n",
    "        (\n",
    "            g_data.get_data( 'ChildID' )[is_in_gal_gas],\n",
    "            s_data.get_data( 'ChildID' )[is_in_gal_star]\n",
    "        )\n",
    "    )"
   ]
  },
  {
   "cell_type": "markdown",
   "metadata": {},
   "source": [
    "### Particles in the CGM Earlier"
   ]
  },
  {
   "cell_type": "code",
   "execution_count": null,
   "metadata": {},
   "outputs": [],
   "source": [
    "# Find the CGM inner edge\n",
    "len_scale_prior = g_data_prior.halo_data.get_mt_data(\n",
    "    config.LENGTH_SCALE,\n",
    "    snums=[snum_prior,],\n",
    "    mt_halo_id=g_data.main_halo_id\n",
    ")\n",
    "cgm_inner_scale = 1.2 * config.GALAXY_CUT * len_scale_prior\n",
    "cgm_inner_rvir = config.INNER_CGM_BOUNDARY * g_data_prior.r_vir\n",
    "cgm_inner = max( cgm_inner_scale, cgm_inner_rvir )"
   ]
  },
  {
   "cell_type": "code",
   "execution_count": null,
   "metadata": {},
   "outputs": [],
   "source": [
    "is_in_CGM = g_data_prior.get_data( 'R' ) > cgm_inner"
   ]
  },
  {
   "cell_type": "code",
   "execution_count": null,
   "metadata": {},
   "outputs": [],
   "source": [
    "ids_cgm = g_data_prior.get_data( 'ID' )[is_in_CGM]"
   ]
  },
  {
   "cell_type": "code",
   "execution_count": null,
   "metadata": {},
   "outputs": [],
   "source": [
    "if store_child_ids:\n",
    "    child_ids_cgm = g_data_prior.get_data( 'ChildID' )[is_in_CGM]"
   ]
  },
  {
   "cell_type": "markdown",
   "metadata": {},
   "source": [
    "### Particles that Accreted"
   ]
  },
  {
   "cell_type": "code",
   "execution_count": null,
   "metadata": {},
   "outputs": [],
   "source": [
    "ids_accreted = np.intersect1d( ids_gal, ids_cgm )"
   ]
  },
  {
   "cell_type": "code",
   "execution_count": null,
   "metadata": {},
   "outputs": [],
   "source": [
    "if store_child_ids:\n",
    "    ids_str_gal = [ '{}_{}'.format( ids_gal[i], child_ids_gal[i] ) for i in range( ids_gal.size ) ]\n",
    "    ids_str_cgm = [ '{}_{}'.format( ids_cgm[i], child_ids_cgm[i] ) for i in range( ids_cgm.size ) ]\n",
    "    ids_str_accreted = np.intersect1d( ids_str_gal, ids_str_cgm )\n",
    "    ids_accreted, child_ids_accreted = np.array( [ _.split( '_' ) for _ in ids_str_accreted ] ).astype( int ).transpose()"
   ]
  },
  {
   "cell_type": "code",
   "execution_count": null,
   "metadata": {},
   "outputs": [],
   "source": [
    "ids_gal_gas = g_data.get_data( 'ID' )[is_in_gal_gas]\n",
    "ids_accreted_gas = np.intersect1d( ids_gal_gas, ids_cgm )"
   ]
  },
  {
   "cell_type": "code",
   "execution_count": null,
   "metadata": {},
   "outputs": [],
   "source": [
    "ids_gal_star = s_data.get_data( 'ID' )[is_in_gal_star]\n",
    "ids_accreted_star = np.intersect1d( ids_gal_star, ids_cgm )"
   ]
  },
  {
   "cell_type": "markdown",
   "metadata": {},
   "source": [
    "# Plot Selected Data"
   ]
  },
  {
   "cell_type": "markdown",
   "metadata": {},
   "source": [
    "## After"
   ]
  },
  {
   "cell_type": "markdown",
   "metadata": {},
   "source": [
    "### Get Spatial Data"
   ]
  },
  {
   "cell_type": "code",
   "execution_count": null,
   "metadata": {},
   "outputs": [],
   "source": [
    "# Format Gas Data\n",
    "data = {}\n",
    "for key in [ 'ID', 'Rx', 'Ry', 'Rz' ]:\n",
    "    data[key] = g_data.get_data( key )\n",
    "df = pd.DataFrame( data )\n",
    "\n",
    "# Get rid of duplicates\n",
    "df = df.drop_duplicates( 'ID', keep=False )\n",
    "\n",
    "df = df.set_index( 'ID' )"
   ]
  },
  {
   "cell_type": "code",
   "execution_count": null,
   "metadata": {},
   "outputs": [],
   "source": [
    "df_acc = df.loc[ids_accreted_gas]"
   ]
  },
  {
   "cell_type": "code",
   "execution_count": null,
   "metadata": {},
   "outputs": [],
   "source": [
    "# Format Star Data\n",
    "data = {}\n",
    "for key in [ 'ID', 'Rx', 'Ry', 'Rz' ]:\n",
    "    data[key] = s_data.get_data( key )\n",
    "df = pd.DataFrame( data )\n",
    "\n",
    "# Get rid of duplicates\n",
    "df = df.drop_duplicates( 'ID', keep=False )\n",
    "\n",
    "df = df.set_index( 'ID' )"
   ]
  },
  {
   "cell_type": "code",
   "execution_count": null,
   "metadata": {},
   "outputs": [],
   "source": [
    "df_acc_star = df.loc[ids_accreted_star]"
   ]
  },
  {
   "cell_type": "markdown",
   "metadata": {},
   "source": [
    "### Plot After"
   ]
  },
  {
   "cell_type": "code",
   "execution_count": null,
   "metadata": {},
   "outputs": [],
   "source": [
    "fig = plt.figure( figsize=(12, 12), facecolor='white' )\n",
    "ax = plt.gca()\n",
    "\n",
    "ax.hist2d(\n",
    "    df_acc['Rx'],\n",
    "    df_acc['Ry'],\n",
    "    bins = 256,\n",
    "    range = 1.5 * r_gal * np.array( [ [ -1., 1. ], [ -1., 1. ], ] ),\n",
    "    cmap = palettable.cubehelix.classic_16_r.get_mpl_colormap(),\n",
    "    norm = plt_colors.LogNorm(),\n",
    ")\n",
    "\n",
    "fig"
   ]
  },
  {
   "cell_type": "code",
   "execution_count": null,
   "metadata": {},
   "outputs": [],
   "source": [
    "fig = plt.figure( figsize=(12, 12), facecolor='white' )\n",
    "ax = plt.gca()\n",
    "\n",
    "ax.scatter(\n",
    "    df_acc_star['Rx'],\n",
    "    df_acc_star['Ry'],\n",
    "    color = palettable.cartocolors.qualitative.Vivid_2.mpl_colors[0],\n",
    "    s = 5,\n",
    "    label = 'stars',\n",
    ")\n",
    "\n",
    "ax.scatter(\n",
    "    df_acc['Rx'],\n",
    "    df_acc['Ry'],\n",
    "    color = palettable.cartocolors.qualitative.Vivid_2.mpl_colors[1],\n",
    "    s = 20,\n",
    "    label = 'gas',\n",
    ")\n",
    "\n",
    "\n",
    "ax.set_xlabel( 'X (pkpc)', fontsize=22, )\n",
    "ax.set_ylabel( 'Y (pkpc)', fontsize=22, )\n",
    "\n",
    "ax.set_xlim( -1. * r_gal, 1. * r_gal )\n",
    "ax.set_ylim( -1. * r_gal, 1. * r_gal )\n",
    "\n",
    "ax.legend()\n",
    "\n",
    "fig"
   ]
  },
  {
   "cell_type": "markdown",
   "metadata": {},
   "source": [
    "## Before"
   ]
  },
  {
   "cell_type": "markdown",
   "metadata": {},
   "source": [
    "### Get Spatial Data"
   ]
  },
  {
   "cell_type": "code",
   "execution_count": null,
   "metadata": {},
   "outputs": [],
   "source": [
    "# Format Data\n",
    "data = {}\n",
    "for key in [ 'ID', 'Rx', 'Ry', 'Rz' ]:\n",
    "    data[key] = g_data_prior.get_data( key )\n",
    "df_prior = pd.DataFrame( data )\n",
    "\n",
    "# Get rid of duplicates\n",
    "df_prior = df_prior.drop_duplicates( 'ID', keep=False )\n",
    "\n",
    "df_prior = df_prior.set_index( 'ID' )"
   ]
  },
  {
   "cell_type": "code",
   "execution_count": null,
   "metadata": {},
   "outputs": [],
   "source": [
    "df_acc_prior = df_prior.loc[ids_accreted]"
   ]
  },
  {
   "cell_type": "markdown",
   "metadata": {},
   "source": [
    "### Plot Before"
   ]
  },
  {
   "cell_type": "code",
   "execution_count": null,
   "metadata": {},
   "outputs": [],
   "source": [
    "fig = plt.figure( figsize=(12, 12), facecolor='white' )\n",
    "ax = plt.gca()\n",
    "\n",
    "ax.hist2d(\n",
    "    df_acc_prior['Rx'],\n",
    "    df_acc_prior['Ry'],\n",
    "    bins = 256,\n",
    "    range = 0.3 * g_data_prior.r_vir * np.array( [ [ -1., 1. ], [ -1., 1. ], ] ),\n",
    "    cmap = palettable.cubehelix.classic_16_r.get_mpl_colormap(),\n",
    "    norm = plt_colors.LogNorm(),\n",
    ")\n",
    "\n",
    "fig"
   ]
  },
  {
   "cell_type": "code",
   "execution_count": null,
   "metadata": {},
   "outputs": [],
   "source": [
    "fig = plt.figure( figsize=(12, 12), facecolor='white' )\n",
    "ax = plt.gca()\n",
    "\n",
    "ax.scatter(\n",
    "    df_acc_prior['Rx'],\n",
    "    df_acc_prior['Ry'],\n",
    "    color = palettable.cartocolors.qualitative.Vivid_2.mpl_colors[1],\n",
    "    s = 1,\n",
    ")\n",
    "\n",
    "ax.set_xlabel( 'X (pkpc)', fontsize=22, )\n",
    "ax.set_ylabel( 'Y (pkpc)', fontsize=22, )\n",
    "\n",
    "ax.set_xlim( -0.5 * g_data_prior.r_vir, 0.5 * g_data_prior.r_vir )\n",
    "ax.set_ylim( -0.5 * g_data_prior.r_vir, 0.5 * g_data_prior.r_vir )\n",
    "\n",
    "fig"
   ]
  },
  {
   "cell_type": "markdown",
   "metadata": {},
   "source": [
    "# Save Data"
   ]
  },
  {
   "cell_type": "code",
   "execution_count": null,
   "metadata": {},
   "outputs": [],
   "source": [
    "child_ids_str = {\n",
    "    True: '_split',\n",
    "    False: '',\n",
    "}[store_child_ids]"
   ]
  },
  {
   "cell_type": "code",
   "execution_count": null,
   "metadata": {},
   "outputs": [],
   "source": [
    "file_name = 'ids_full_{}_hothaloacc{}.hdf5'.format( sim_name, child_ids_str )\n",
    "data_dir = fm.get_linefinder_dir( **sim_kwargs )\n",
    "file_path = os.path.join( data_dir, file_name )\n",
    "g = h5py.File( file_path, 'w' )"
   ]
  },
  {
   "cell_type": "code",
   "execution_count": null,
   "metadata": {},
   "outputs": [],
   "source": [
    "g.create_dataset( 'target_ids', data=ids_accreted )"
   ]
  },
  {
   "cell_type": "code",
   "execution_count": null,
   "metadata": {},
   "outputs": [],
   "source": [
    "if store_child_ids:\n",
    "    g.create_dataset( 'target_child_ids', data=child_ids_accreted )"
   ]
  },
  {
   "cell_type": "code",
   "execution_count": null,
   "metadata": {},
   "outputs": [],
   "source": [
    "g.close()"
   ]
  },
  {
   "cell_type": "code",
   "execution_count": null,
   "metadata": {},
   "outputs": [],
   "source": []
  }
 ],
 "metadata": {
  "kernelspec": {
   "display_name": "Python 3",
   "language": "python",
   "name": "python3"
  },
  "language_info": {
   "codemirror_mode": {
    "name": "ipython",
    "version": 3
   },
   "file_extension": ".py",
   "mimetype": "text/x-python",
   "name": "python",
   "nbconvert_exporter": "python",
   "pygments_lexer": "ipython3",
   "version": "3.7.1"
  }
 },
 "nbformat": 4,
 "nbformat_minor": 2
}
