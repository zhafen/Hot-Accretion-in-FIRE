{
 "cells": [
  {
   "cell_type": "code",
   "execution_count": 1,
   "id": "0332aa71-eef7-4544-af8f-790f1439da10",
   "metadata": {},
   "outputs": [],
   "source": [
    "import copy\n",
    "import time, importlib\n",
    "import h5py\n",
    "import numpy as np\n",
    "import os\n",
    "import pandas as pd\n",
    "import scipy, scipy.ndimage\n",
    "import tqdm\n",
    "import unyt"
   ]
  },
  {
   "cell_type": "code",
   "execution_count": 2,
   "id": "672acede-5c74-4f34-ae95-ca57006955e2",
   "metadata": {},
   "outputs": [],
   "source": [
    "import kalepy as kale"
   ]
  },
  {
   "cell_type": "code",
   "execution_count": 3,
   "id": "bd0e110a-954a-430b-a31c-41679605f74c",
   "metadata": {},
   "outputs": [],
   "source": [
    "import matplotlib\n",
    "import matplotlib.gridspec as gridspec\n",
    "import matplotlib.patheffects as patheffects"
   ]
  },
  {
   "cell_type": "code",
   "execution_count": 4,
   "id": "7b75858b-6973-4147-9ca9-ece7e96acfa8",
   "metadata": {},
   "outputs": [],
   "source": [
    "import palettable"
   ]
  },
  {
   "cell_type": "code",
   "execution_count": 41,
   "id": "df82f5a3-a36a-4cb1-a786-44b037b5e6f4",
   "metadata": {},
   "outputs": [],
   "source": [
    "import linefinder.analyze_data.worldlines as a_worldlines\n",
    "import linefinder.analyze_data.plot_worldlines as p_worldlines\n",
    "import linefinder.config as l_config"
   ]
  },
  {
   "cell_type": "code",
   "execution_count": 6,
   "id": "66780ee7-7ce5-4668-94bd-ef687687f272",
   "metadata": {},
   "outputs": [],
   "source": [
    "import galaxy_dive.plot_data.plotting as plotting"
   ]
  },
  {
   "cell_type": "code",
   "execution_count": 7,
   "id": "8e0755f1-88f5-4997-b824-094d3b3bced2",
   "metadata": {},
   "outputs": [],
   "source": [
    "import coolingFunction"
   ]
  },
  {
   "cell_type": "code",
   "execution_count": 8,
   "id": "8b5cae1b-4a2f-44a0-b1d0-c87d770ef827",
   "metadata": {},
   "outputs": [],
   "source": [
    "import trove\n",
    "import verdict\n",
    "from py2tex import py2tex"
   ]
  },
  {
   "cell_type": "code",
   "execution_count": 9,
   "id": "9398c552-8829-488e-a8a7-7beb20e5b37b",
   "metadata": {},
   "outputs": [],
   "source": [
    "%matplotlib inline"
   ]
  },
  {
   "cell_type": "markdown",
   "id": "109e316c-2785-498c-8746-4f951ff3b95b",
   "metadata": {},
   "source": [
    "# Parameters"
   ]
  },
  {
   "cell_type": "code",
   "execution_count": 10,
   "id": "69e9ba0c-a70e-463e-a7b7-6991663694fe",
   "metadata": {},
   "outputs": [],
   "source": [
    "pm = dict(\n",
    "    snum = 600,\n",
    "    ahf_index = 600,\n",
    ")"
   ]
  },
  {
   "cell_type": "code",
   "execution_count": 11,
   "id": "e230ae99-29cc-43e6-9199-fef6cdc4918c",
   "metadata": {},
   "outputs": [],
   "source": [
    "pm = trove.link_params_to_config(\n",
    "    '/home1/03057/zhafen/papers/Hot-Accretion-in-FIRE/analysis/hot_accretion.trove',\n",
    "    script_id = 'nb.8',\n",
    "    variation = 'm12i_md',\n",
    "    global_variation = 'track_all_thin_disk_stars',\n",
    "    **pm\n",
    ")"
   ]
  },
  {
   "cell_type": "code",
   "execution_count": 12,
   "id": "512f36a1-ca82-42c6-beac-73e1f7f46fac",
   "metadata": {},
   "outputs": [],
   "source": [
    "snum = pm['snum']\n",
    "sim_name = pm['variation']"
   ]
  },
  {
   "cell_type": "code",
   "execution_count": 13,
   "id": "7eccefa1-83a0-4808-8817-1307ebdbbb47",
   "metadata": {},
   "outputs": [
    {
     "name": "stdout",
     "output_type": "stream",
     "text": [
      "m12i_md track_all_thin_disk_stars\n"
     ]
    }
   ],
   "source": [
    "print( sim_name, pm['global_variation'] )"
   ]
  },
  {
   "cell_type": "markdown",
   "id": "605865f1-6790-4ce0-a7a3-8e08641afbf2",
   "metadata": {},
   "source": [
    "# Load Data"
   ]
  },
  {
   "cell_type": "code",
   "execution_count": 14,
   "id": "e8acd865-18c0-4168-a7fb-96eef46ce1b9",
   "metadata": {},
   "outputs": [],
   "source": [
    "w = a_worldlines.Worldlines(\n",
    "    tag = pm['tag'],\n",
    "    data_dir = pm['data_dirs']['jug.4'],\n",
    "    halo_data_dir = pm['halo_data_dir'],\n",
    "    ahf_index = pm['ahf_index'],\n",
    ")"
   ]
  },
  {
   "cell_type": "code",
   "execution_count": 15,
   "id": "91827272-fbdd-4eba-84c2-bdf5450debd9",
   "metadata": {},
   "outputs": [
    {
     "data": {
      "text/plain": [
       "'/scratch/03057/zhafen/hot_accretion_data/more_variations/track_all_thin_disk_stars/m12i_md'"
      ]
     },
     "execution_count": 15,
     "metadata": {},
     "output_type": "execute_result"
    }
   ],
   "source": [
    "w.data_dir"
   ]
  },
  {
   "cell_type": "code",
   "execution_count": 16,
   "id": "7b3222af-cc4e-40aa-9b03-3f67d5447c84",
   "metadata": {},
   "outputs": [],
   "source": [
    "data_fp = os.path.join( pm['processed_data_dir'], 'summary.hdf5' )\n",
    "data = verdict.Dict.from_hdf5( data_fp, create_nonexistent=True )"
   ]
  },
  {
   "cell_type": "code",
   "execution_count": 17,
   "id": "a7a9f163-c1ee-405a-8971-d848c9957fad",
   "metadata": {},
   "outputs": [],
   "source": [
    "base_processed_data_dir = pm['config_parser'].get( 'DEFAULT', 'processed_data_dir' )\n",
    "default_data_fp = os.path.join( base_processed_data_dir, 'summary.hdf5' )\n",
    "default_data = verdict.Dict.from_hdf5( default_data_fp, create_nonexistent=True )"
   ]
  },
  {
   "cell_type": "markdown",
   "id": "ee626356-a2bd-48e7-8cdc-302642c93927",
   "metadata": {},
   "source": [
    "# Analyze"
   ]
  },
  {
   "cell_type": "markdown",
   "id": "f6ec63a2-3593-4a18-ac3d-57579ab6fa01",
   "metadata": {},
   "source": [
    "## Calculate Central Indices"
   ]
  },
  {
   "cell_type": "code",
   "execution_count": 39,
   "id": "244900c7-991f-4deb-ae94-da0c7fb7394e",
   "metadata": {},
   "outputs": [
    {
     "name": "stderr",
     "output_type": "stream",
     "text": [
      "100%|██████████| 100000/100000 [00:02<00:00, 43158.16it/s]\n"
     ]
    }
   ],
   "source": [
    "calc_fn = getattr( w, 'calc_{}'.format( pm['central_indices'] ) )\n",
    "inds = calc_fn(\n",
    "    lookback_time_max = pm['lookback_time_max'],\n",
    "    choose_first = pm['choose_first'],\n",
    ")\n",
    "valid = inds!=-99999\n",
    "valid_inds = inds[valid]\n",
    "particle_inds = np.arange( w.n_particles )[valid]"
   ]
  },
  {
   "cell_type": "code",
   "execution_count": 19,
   "id": "a4726a6f-cd93-423a-986d-137ed591d85a",
   "metadata": {},
   "outputs": [],
   "source": [
    "t_tchange_key = pm['central_indices'].split( '_' )[0]\n",
    "tchange = w.get_data( t_tchange_key )"
   ]
  },
  {
   "cell_type": "code",
   "execution_count": 20,
   "id": "0a1817e2-9a2e-4c27-abc3-8bb1f41a2a6e",
   "metadata": {},
   "outputs": [
    {
     "data": {
      "text/plain": [
       "<matplotlib.lines.Line2D at 0x2b905db83e50>"
      ]
     },
     "execution_count": 20,
     "metadata": {},
     "output_type": "execute_result"
    },
    {
     "data": {
      "image/png": "[encoded data removed]",
      "text/plain": [
       "<Figure size 432x288 with 1 Axes>"
      ]
     },
     "metadata": {
      "needs_background": "light"
     },
     "output_type": "display_data"
    }
   ],
   "source": [
    "fig = plt.figure()\n",
    "ax = plt.gca()\n",
    "\n",
    "_ = ax.hist(\n",
    "    tchange,\n",
    "    bins = 64,\n",
    ")\n",
    "\n",
    "ax.axvline(\n",
    "    w.get_data( 'time' )[0] - 1.,\n",
    "    color = pm['background_linecolor'],\n",
    "    linewidth = 1,\n",
    ")"
   ]
  },
  {
   "cell_type": "code",
   "execution_count": 21,
   "id": "aba98821-4c4d-4122-982a-9e3a80c49b2c",
   "metadata": {},
   "outputs": [],
   "source": [
    "tot_momentum_fp = os.path.join( base_processed_data_dir, 'tot_momentums.hdf5' )\n",
    "tot_ang_momentum = verdict.Dict.from_hdf5( tot_momentum_fp )[pm['variation']]['snum{:03d}'.format( snum )]\n",
    "tot_ang_momentum_normed = tot_ang_momentum / np.linalg.norm( tot_ang_momentum )\n",
    "w.total_ang_momentum = tot_ang_momentum_normed"
   ]
  },
  {
   "cell_type": "code",
   "execution_count": 24,
   "id": "ded9ce9f-368b-430f-a116-380a504bd203",
   "metadata": {},
   "outputs": [
    {
     "data": {
      "text/plain": [
       "array([[0.94345598, 0.94946868, 0.9555146 , ...,        nan,        nan,\n",
       "               nan],\n",
       "       [0.85115127, 0.85787497, 0.86563276, ...,        nan,        nan,\n",
       "               nan],\n",
       "       [0.95870917, 0.62344337, 0.50070404, ...,        nan,        nan,\n",
       "               nan],\n",
       "       ...,\n",
       "       [0.88747474, 0.89961881, 0.91427607, ...,        nan,        nan,\n",
       "               nan],\n",
       "       [0.92421697, 0.92739149, 0.93119211, ...,        nan,        nan,\n",
       "               nan],\n",
       "       [0.92602043, 0.93146551, 0.93740753, ...,        nan,        nan,\n",
       "               nan]])"
      ]
     },
     "execution_count": 24,
     "metadata": {},
     "output_type": "execute_result"
    }
   ],
   "source": [
    "w.get_data( 'Jz/Jcirc' )"
   ]
  },
  {
   "cell_type": "code",
   "execution_count": 31,
   "id": "30760156-a30e-4ecb-85c8-27bf974add2d",
   "metadata": {},
   "outputs": [
    {
     "data": {
      "text/plain": [
       "(array([2.688e+03, 5.362e+03, 5.400e+03, 5.494e+03, 5.726e+03, 5.781e+03,\n",
       "        5.844e+03, 5.863e+03, 5.954e+03, 5.991e+03, 5.775e+03, 5.816e+03,\n",
       "        5.695e+03, 5.432e+03, 5.169e+03, 4.766e+03, 4.403e+03, 3.742e+03,\n",
       "        2.878e+03, 1.842e+03, 3.230e+02, 1.200e+01, 6.000e+00, 1.400e+01,\n",
       "        5.000e+00, 6.000e+00, 3.000e+00, 3.000e+00, 1.000e+00, 2.000e+00,\n",
       "        1.000e+00, 2.000e+00]),\n",
       " array([0.79502138, 0.80499252, 0.81496366, 0.8249348 , 0.83490594,\n",
       "        0.84487709, 0.85484823, 0.86481937, 0.87479051, 0.88476165,\n",
       "        0.8947328 , 0.90470394, 0.91467508, 0.92464622, 0.93461736,\n",
       "        0.9445885 , 0.95455965, 0.96453079, 0.97450193, 0.98447307,\n",
       "        0.99444421, 1.00441536, 1.0143865 , 1.02435764, 1.03432878,\n",
       "        1.04429992, 1.05427107, 1.06424221, 1.07421335, 1.08418449,\n",
       "        1.09415563, 1.10412678, 1.11409792]),\n",
       " <BarContainer object of 32 artists>)"
      ]
     },
     "execution_count": 31,
     "metadata": {},
     "output_type": "execute_result"
    },
    {
     "data": {
      "image/png": "[encoded data removed]",
      "text/plain": [
       "<Figure size 432x288 with 1 Axes>"
      ]
     },
     "metadata": {
      "needs_background": "light"
     },
     "output_type": "display_data"
    }
   ],
   "source": [
    "plt.hist(\n",
    "    w.get_data( 'Jz/Jcirc' )[:,0],\n",
    "    bins = 32,\n",
    ")"
   ]
  },
  {
   "cell_type": "code",
   "execution_count": 32,
   "id": "96cc794a-038d-4fde-b136-ad0ccaf73a64",
   "metadata": {},
   "outputs": [
    {
     "data": {
      "text/plain": [
       "(array([1.0000e+00, 2.0000e+00, 0.0000e+00, 0.0000e+00, 1.0000e+00,\n",
       "        4.0000e+00, 3.0000e+00, 2.0000e+00, 4.0000e+00, 7.0000e+00,\n",
       "        2.0000e+01, 7.5000e+01, 1.4600e+02, 2.2500e+02, 3.2100e+02,\n",
       "        4.3800e+02, 5.9000e+02, 6.9800e+02, 8.6200e+02, 1.0120e+03,\n",
       "        1.2340e+03, 1.6080e+03, 1.8200e+03, 2.1670e+03, 2.5870e+03,\n",
       "        3.0350e+03, 3.8150e+03, 5.0250e+03, 6.9480e+03, 1.0592e+04,\n",
       "        1.7715e+04, 3.9043e+04]),\n",
       " array([0.70247535, 0.71177299, 0.72107063, 0.73036827, 0.73966592,\n",
       "        0.74896356, 0.7582612 , 0.76755885, 0.77685649, 0.78615413,\n",
       "        0.79545177, 0.80474942, 0.81404706, 0.8233447 , 0.83264234,\n",
       "        0.84193999, 0.85123763, 0.86053527, 0.86983291, 0.87913056,\n",
       "        0.8884282 , 0.89772584, 0.90702348, 0.91632113, 0.92561877,\n",
       "        0.93491641, 0.94421406, 0.9535117 , 0.96280934, 0.97210698,\n",
       "        0.98140463, 0.99070227, 0.99999991]),\n",
       " <BarContainer object of 32 artists>)"
      ]
     },
     "execution_count": 32,
     "metadata": {},
     "output_type": "execute_result"
    },
    {
     "data": {
      "image/png": "[encoded data removed]",
      "text/plain": [
       "<Figure size 432x288 with 1 Axes>"
      ]
     },
     "metadata": {
      "needs_background": "light"
     },
     "output_type": "display_data"
    }
   ],
   "source": [
    "plt.hist(\n",
    "    w.get_data( 'Jz/Jmag' )[:,0],\n",
    "    bins = 32,\n",
    ")"
   ]
  },
  {
   "cell_type": "code",
   "execution_count": 44,
   "id": "8152ffba-af46-4840-bb3e-799367011a55",
   "metadata": {},
   "outputs": [],
   "source": [
    "r_rolled = np.roll( w.get_data( 'R' )[particle_inds], valid_inds )"
   ]
  },
  {
   "cell_type": "code",
   "execution_count": 48,
   "id": "66e7d61a-3eb0-4004-99b7-83ebde7afffc",
   "metadata": {},
   "outputs": [],
   "source": [
    "i = 0"
   ]
  },
  {
   "cell_type": "code",
   "execution_count": 47,
   "id": "aac20b3d-8092-4e78-b303-2f5773d3c800",
   "metadata": {},
   "outputs": [
    {
     "data": {
      "text/plain": [
       "[<matplotlib.lines.Line2D at 0x2b925e5cfc40>]"
      ]
     },
     "execution_count": 47,
     "metadata": {},
     "output_type": "execute_result"
    },
    {
     "data": {
      "image/png": "[encoded data removed]",
      "text/plain": [
       "<Figure size 432x288 with 1 Axes>"
      ]
     },
     "metadata": {
      "needs_background": "light"
     },
     "output_type": "display_data"
    }
   ],
   "source": [
    "\n",
    "plt.plot(\n",
    "    w.get_data( 'time' ),\n",
    "    w.get_data( 'R' )[i],\n",
    ")\n",
    "\n",
    "\n"
   ]
  },
  {
   "cell_type": "code",
   "execution_count": null,
   "id": "a5d3ef69-646d-4a74-87f9-94f52b61e043",
   "metadata": {},
   "outputs": [],
   "source": []
  }
 ],
 "metadata": {
  "kernelspec": {
   "display_name": "Python 3",
   "language": "python",
   "name": "python3"
  },
  "language_info": {
   "codemirror_mode": {
    "name": "ipython",
    "version": 3
   },
   "file_extension": ".py",
   "mimetype": "text/x-python",
   "name": "python",
   "nbconvert_exporter": "python",
   "pygments_lexer": "ipython3",
   "version": "3.9.1"
  }
 },
 "nbformat": 4,
 "nbformat_minor": 5
}
