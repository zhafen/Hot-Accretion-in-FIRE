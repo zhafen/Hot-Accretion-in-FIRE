{
 "cells": [
  {
   "cell_type": "code",
   "execution_count": null,
   "id": "0332aa71-eef7-4544-af8f-790f1439da10",
   "metadata": {},
   "outputs": [],
   "source": [
    "import copy\n",
    "import time, importlib\n",
    "import h5py\n",
    "import numpy as np\n",
    "import os\n",
    "import pandas as pd\n",
    "import scipy, scipy.ndimage\n",
    "import tqdm\n",
    "import unyt"
   ]
  },
  {
   "cell_type": "code",
   "execution_count": null,
   "id": "672acede-5c74-4f34-ae95-ca57006955e2",
   "metadata": {},
   "outputs": [],
   "source": [
    "import kalepy as kale"
   ]
  },
  {
   "cell_type": "code",
   "execution_count": null,
   "id": "bd0e110a-954a-430b-a31c-41679605f74c",
   "metadata": {},
   "outputs": [],
   "source": [
    "import matplotlib\n",
    "import matplotlib.colors\n",
    "import matplotlib.gridspec as gridspec\n",
    "import matplotlib.patheffects as patheffects"
   ]
  },
  {
   "cell_type": "code",
   "execution_count": null,
   "id": "7b75858b-6973-4147-9ca9-ece7e96acfa8",
   "metadata": {},
   "outputs": [],
   "source": [
    "import palettable"
   ]
  },
  {
   "cell_type": "code",
   "execution_count": null,
   "id": "df82f5a3-a36a-4cb1-a786-44b037b5e6f4",
   "metadata": {},
   "outputs": [],
   "source": [
    "import linefinder.analyze_data.worldlines as a_worldlines\n",
    "import linefinder.analyze_data.plot_worldlines as p_worldlines\n",
    "import linefinder.config as l_config"
   ]
  },
  {
   "cell_type": "code",
   "execution_count": null,
   "id": "66780ee7-7ce5-4668-94bd-ef687687f272",
   "metadata": {},
   "outputs": [],
   "source": [
    "import galaxy_dive.plot_data.plotting as plotting"
   ]
  },
  {
   "cell_type": "code",
   "execution_count": null,
   "id": "8e0755f1-88f5-4997-b824-094d3b3bced2",
   "metadata": {},
   "outputs": [],
   "source": [
    "import coolingFunction"
   ]
  },
  {
   "cell_type": "code",
   "execution_count": null,
   "id": "8b5cae1b-4a2f-44a0-b1d0-c87d770ef827",
   "metadata": {},
   "outputs": [],
   "source": [
    "import trove\n",
    "import verdict\n",
    "from py2tex import py2tex"
   ]
  },
  {
   "cell_type": "code",
   "execution_count": null,
   "id": "89d37438-95ff-4797-afb9-3b807be468cd",
   "metadata": {},
   "outputs": [],
   "source": [
    "import helpers"
   ]
  },
  {
   "cell_type": "code",
   "execution_count": null,
   "id": "9398c552-8829-488e-a8a7-7beb20e5b37b",
   "metadata": {},
   "outputs": [],
   "source": [
    "%matplotlib inline\n",
    "matplotlib.style.use( '~/repos/clean-bold/clean-bold.mplstyle' )"
   ]
  },
  {
   "cell_type": "markdown",
   "id": "109e316c-2785-498c-8746-4f951ff3b95b",
   "metadata": {},
   "source": [
    "# Parameters"
   ]
  },
  {
   "cell_type": "markdown",
   "id": "0f04f4f0-3c81-4bfa-8475-feadccbe3d28",
   "metadata": {},
   "source": [
    "## Manual"
   ]
  },
  {
   "cell_type": "code",
   "execution_count": null,
   "id": "69e9ba0c-a70e-463e-a7b7-6991663694fe",
   "metadata": {},
   "outputs": [],
   "source": [
    "pm = dict(\n",
    "    snum = 600,\n",
    "    ahf_index = 600,\n",
    ")"
   ]
  },
  {
   "cell_type": "code",
   "execution_count": null,
   "id": "39ed2f49-db0c-4bae-b0ba-0458944c426d",
   "metadata": {},
   "outputs": [],
   "source": [
    "global_variations = [\n",
    "    '',\n",
    "    'track_all_thin_disk_stars',\n",
    "    'track_all_recent_stars',\n",
    "]"
   ]
  },
  {
   "cell_type": "code",
   "execution_count": null,
   "id": "78209e4a-9f49-465f-bb7d-fffae818c379",
   "metadata": {},
   "outputs": [],
   "source": [
    "labels = [\n",
    "    'main sample',\n",
    "    r'all stars with $j_z/j_c(E) > 0.8$',\n",
    "    r'all stars with age $<1$ Gyr',\n",
    "    r'all stars with $j_z/j_c(E) > 0.9$',\n",
    "]"
   ]
  },
  {
   "cell_type": "code",
   "execution_count": null,
   "id": "be083514-349a-40c4-b06c-bafb910107fd",
   "metadata": {},
   "outputs": [],
   "source": [
    "cmap = palettable.cartocolors.qualitative.Pastel_10.mpl_colors\n",
    "colors = [ cmap[0], cmap[1], cmap[3], cmap[5] ]"
   ]
  },
  {
   "cell_type": "markdown",
   "id": "40e210c7-ce10-45d9-baf0-0fd8a4cb35ec",
   "metadata": {},
   "source": [
    "# Load Data"
   ]
  },
  {
   "cell_type": "code",
   "execution_count": null,
   "id": "e019fd7a-1ff8-4a0e-9203-f834d37216ed",
   "metadata": {},
   "outputs": [],
   "source": [
    "pms = []\n",
    "ws = []\n",
    "for gv in global_variations:\n",
    "    pm = copy.deepcopy( pm )\n",
    "    if gv != '':\n",
    "        pm['global_variation'] = gv\n",
    "    pm_i = trove.link_params_to_config(\n",
    "        '/home1/03057/zhafen/papers/Hot-Accretion-in-FIRE/analysis/hot_accretion.trove',\n",
    "        script_id = 'nb.8',\n",
    "        **pm\n",
    "    )\n",
    "    ws_i = a_worldlines.Worldlines(\n",
    "        tag = pm_i['tag'],\n",
    "        data_dir = pm_i['data_dirs']['jug.4'],\n",
    "        halo_data_dir = pm_i['halo_data_dir'],\n",
    "        ahf_index = pm_i['ahf_index'],\n",
    "    )\n",
    "    try:\n",
    "        ws_i.n_particles\n",
    "    except FileNotFoundError:\n",
    "        continue\n",
    "    pms.append( pm_i )\n",
    "    ws.append( ws_i )"
   ]
  },
  {
   "cell_type": "markdown",
   "id": "13aa9346-2d30-4da9-88c2-d31b5acea05f",
   "metadata": {},
   "source": [
    "# Calculate Accretion and cooling time"
   ]
  },
  {
   "cell_type": "markdown",
   "id": "17264743-0478-40aa-8223-ff853b84656a",
   "metadata": {},
   "source": [
    "## Times"
   ]
  },
  {
   "cell_type": "code",
   "execution_count": null,
   "id": "6afc2824-5ea2-491e-87d9-789bafcbb069",
   "metadata": {},
   "outputs": [],
   "source": [
    "taccs = []\n",
    "tcoolss = []\n",
    "is_hot_accs = []\n",
    "particle_indss = []\n",
    "n_accreted = []\n",
    "for i, pm in enumerate( pms ):\n",
    "    \n",
    "    print(  'Global variation: {}'.format( global_variations[i] ) )\n",
    "\n",
    "    tacc_inds = ws[i].calc_tacc_inds(\n",
    "        lookback_time_max = pm['lookback_time_max'],\n",
    "        choose_first = pm['choose_first'],\n",
    "    )\n",
    "\n",
    "    tcools_inds = ws[i].calc_tcools_inds(\n",
    "        lookback_time_max = pm['lookback_time_max'],\n",
    "        choose_first = pm['choose_first'],\n",
    "        B = pm['logTcools'],\n",
    "    )\n",
    "    \n",
    "    is_hot_accretion = ws[i].calc_is_hot_accretion(\n",
    "        lookback_time_max = pm['lookback_time_max'],\n",
    "        choose_first = pm['choose_first'],\n",
    "        B = pm['logTcools'],\n",
    "    )\n",
    "\n",
    "    is_accreted = tacc_inds != l_config.INT_FILL_VALUE\n",
    "    valid = is_accreted & ( tcools_inds != l_config.INT_FILL_VALUE )\n",
    "    tacc_inds = tacc_inds[valid]\n",
    "    tcools_inds = tcools_inds[valid]\n",
    "    particle_inds = np.arange( ws[i].n_particles )[valid]\n",
    "\n",
    "    tacc = ws[i].get_data( 'tacc' )[particle_inds]\n",
    "    tcools = ws[i].get_data( 'tcools' )[particle_inds]\n",
    "    \n",
    "    taccs.append( tacc )\n",
    "    tcoolss.append( tcools )\n",
    "    is_hot_accs.append( is_hot_accretion )\n",
    "    particle_indss.append( particle_inds )\n",
    "    n_accreted.append( is_accreted.sum() )"
   ]
  },
  {
   "cell_type": "markdown",
   "id": "0b259d04-7140-4316-b016-024713d59108",
   "metadata": {},
   "source": [
    "### Special Case\n",
    "For the \"all thin disk stars\" case we also want the times for the most eccentric of stars."
   ]
  },
  {
   "cell_type": "code",
   "execution_count": null,
   "id": "d2ed6d00-d7c8-44c0-9d4d-f8824b6bbfa6",
   "metadata": {},
   "outputs": [],
   "source": [
    "if False:\n",
    "    pm = pms[1]\n",
    "    w = ws[1]\n",
    "    particle_inds = particle_indss[1]\n",
    "\n",
    "    # Get total angular momentum vector\n",
    "    base_processed_data_dir = pm['config_parser'].get( 'DEFAULT', 'processed_data_dir' )\n",
    "    tot_momentum_fp = os.path.join( base_processed_data_dir, 'tot_momentums.hdf5' )\n",
    "    tot_ang_momentum = verdict.Dict.from_hdf5( tot_momentum_fp )[pm['variation']]['snum{:03d}'.format( 600 )]\n",
    "    tot_ang_momentum_normed = tot_ang_momentum / np.linalg.norm( tot_ang_momentum )\n",
    "\n",
    "    # Calculate superthin stars\n",
    "    w.total_ang_momentum = tot_ang_momentum_normed\n",
    "    c = w.get_data( 'Jz/Jcirc' )\n",
    "    is_superthin = c[:,0][particle_inds] > 0.9\n",
    "\n",
    "    # Store\n",
    "    taccs.append( taccs[1][is_superthin] )\n",
    "    tcoolss.append( tcoolss[1][is_superthin] )\n",
    "    pms.append( pm )"
   ]
  },
  {
   "cell_type": "markdown",
   "id": "b70e3773-f02e-401a-845a-189e133e841f",
   "metadata": {},
   "source": [
    "## Time distributions"
   ]
  },
  {
   "cell_type": "markdown",
   "id": "808caee7-a22d-4e36-8ca9-4358343aae1d",
   "metadata": {},
   "source": [
    "### General"
   ]
  },
  {
   "cell_type": "code",
   "execution_count": null,
   "id": "d8a9a798-84b8-468c-98b8-6d8582ffe1a2",
   "metadata": {},
   "outputs": [],
   "source": [
    "t_z0 = ws[0].get_data( 'time' )[0]\n",
    "t_zi = ws[0].get_data( 'lookback_time' )[-1]\n",
    "t_min = np.nanmin([ np.nanpercentile( np.hstack( taccs ), 1. ), np.nanpercentile( np.hstack( tcoolss ), 1. ) ])\n",
    "t_range = [ t_min, t_z0 ]\n",
    "t_bins = np.arange( t_range[0], t_range[1], 0.065 )\n",
    "t_centers = 0.5 * ( t_bins[:-1] + t_bins[1:] )"
   ]
  },
  {
   "cell_type": "code",
   "execution_count": null,
   "id": "afa401b5-e89b-4202-9015-0d41e5f1f15f",
   "metadata": {},
   "outputs": [],
   "source": [
    "pdfs = {\n",
    "    'tacc': [],\n",
    "    'tcools': [],\n",
    "}\n",
    "cdfs = {\n",
    "    'tacc': [],\n",
    "    'tcools': [],\n",
    "}\n",
    "kdes = {\n",
    "    'tacc': [],\n",
    "    'tcools': [],    \n",
    "}\n",
    "for i, pm in enumerate( tqdm.tqdm( pms ) ):\n",
    "    keys = [ 'tacc', 'tcools' ]\n",
    "    for j, tchange in enumerate([ taccs, tcoolss ]):\n",
    "    \n",
    "        pdf, bins = np.histogram(\n",
    "            tchange[i],\n",
    "            bins = t_bins,\n",
    "            density = True,\n",
    "        )\n",
    "        pdfs[keys[j]].append( pdf )\n",
    "\n",
    "        cdf = np.cumsum( pdf )\n",
    "        cdf /= cdf[-1]\n",
    "        cdfs[keys[j]].append( cdf )\n",
    "        \n",
    "        points, kde = kale.density(\n",
    "            tchange[i],\n",
    "            points = t_centers,\n",
    "            reflect = [ 0, t_z0 ],\n",
    "            probability = True,\n",
    "        )\n",
    "        kdes[keys[j]].append( kde )"
   ]
  },
  {
   "cell_type": "markdown",
   "id": "0e09a35e-175b-4a34-b8bf-edb37b1cefae",
   "metadata": {},
   "source": [
    "# Plot time distributions"
   ]
  },
  {
   "cell_type": "markdown",
   "id": "62d263c5-f44c-47fa-b589-2977de50f5ae",
   "metadata": {},
   "source": [
    "## Settings"
   ]
  },
  {
   "cell_type": "code",
   "execution_count": null,
   "id": "9f013326-dbe0-4ef1-bbf2-1a96b9f55ef4",
   "metadata": {},
   "outputs": [],
   "source": [
    "x_annots = {\n",
    "    'tacc': [ 13.05, 11, 12.6, 12. ],\n",
    "    'tcools': [ 12.9, 9.2, 12, 12. ],\n",
    "}"
   ]
  },
  {
   "cell_type": "markdown",
   "id": "a34b5473-3214-4421-9bb1-b6aef5db1fca",
   "metadata": {},
   "source": [
    "## Plot"
   ]
  },
  {
   "cell_type": "code",
   "execution_count": null,
   "id": "c0fefa79-6fb3-4470-94c8-6ef58d74c55e",
   "metadata": {},
   "outputs": [],
   "source": [
    "for k, t_key in enumerate([ 'tacc', 'tcools' ]):\n",
    "\n",
    "    fig = plt.figure( figsize=(7, 5.25/2) )\n",
    "    ax = plt.gca()\n",
    "\n",
    "    for i, pm in enumerate( pms ):\n",
    "        ax.plot(\n",
    "            t_centers,\n",
    "            kdes[t_key][i],\n",
    "            c = colors[i],\n",
    "            zorder = -i,\n",
    "        )\n",
    "\n",
    "        x_annot = x_annots[t_key][i]\n",
    "        if x_annot is None:\n",
    "            x_annot = scipy.interpolate.interp1d( cdfs[t_key][i], t_centers )( 0.5 )\n",
    "        y_annot = scipy.interpolate.interp1d( t_centers, kdes[t_key][i] )( x_annot )\n",
    "        text = ax.annotate(\n",
    "            text = labels[i],\n",
    "            xy = ( x_annot, y_annot ),\n",
    "            xytext = ( -5, 5 ),\n",
    "            textcoords = 'offset points',\n",
    "            ha = 'right',\n",
    "            va = 'bottom',\n",
    "            fontsize = 20,\n",
    "            c = colors[i],\n",
    "        )\n",
    "        text.set_path_effects([ patheffects.Stroke(linewidth=4, foreground='white'), patheffects.Normal() ])\n",
    "\n",
    "    ax.set_xticks( np.arange( 0, t_z0, 1. ) )\n",
    "    ax.set_yticks( np.arange( 0, 5, 0.5 ) )\n",
    "\n",
    "    ax.set_xlim( 6, t_centers[-1] )\n",
    "    ax.set_ylim( 0, np.nanmax( kdes[t_key] )*1.05 )\n",
    "    \n",
    "    ax.axvline(\n",
    "        t_z0 - 1.,\n",
    "        c = pm['background_linecolor'],\n",
    "        linewidth = 1,\n",
    "        zorder = -100,\n",
    "    )\n",
    "\n",
    "    x_label = (\n",
    "        helpers.get_tchange_label( pm, central_indices='{}_inds'.format( t_key ) ) +\n",
    "        ' [Gyr]'\n",
    "    )\n",
    "    ax.set_xlabel( x_label, fontsize=22 )\n",
    "    ax.set_ylabel( 'PDF', fontsize=22 )\n",
    "\n",
    "    plotting.save_fig(\n",
    "        out_dir = os.path.join( pms[0]['figure_dir'], 'selected_to_all_comparison' ),\n",
    "        save_file = '{}_{}.pdf'.format( t_key, pm['variation'] ),\n",
    "        fig = fig,\n",
    "    )"
   ]
  },
  {
   "cell_type": "markdown",
   "id": "b7c8b376-1464-49ca-ab1d-7904bb292f04",
   "metadata": {},
   "source": [
    "# Store General Properties\n",
    "\n",
    "Number of tracked particles, number of those that reach T>Tcools prior to accretion, number of those that are hot accretion, and the fraction that is hot."
   ]
  },
  {
   "cell_type": "code",
   "execution_count": null,
   "id": "0a90f068-5cae-4fa6-97c3-c49520246dde",
   "metadata": {},
   "outputs": [],
   "source": [
    "for i, is_hot_accretion in enumerate( is_hot_accs ):\n",
    "    \n",
    "    if i > 2:\n",
    "        continue\n",
    "\n",
    "    data_fp = os.path.join( pms[i]['processed_data_dir'], 'summary.hdf5' )\n",
    "    print( 'Updating data at {}'.format( data_fp ) )\n",
    "    data = verdict.Dict.from_hdf5( data_fp, create_nonexistent=True )\n",
    "\n",
    "    # Store quantities\n",
    "    n_hot = is_hot_accretion.sum()\n",
    "    keys = [ 'n_tracked', 'n_valid', 'n_hot', 'n_accreted', 'f_hot' ]\n",
    "    quantities = [ ws[i].n_particles, tcoolss[i].size, n_hot, n_accreted[i], n_hot / n_accreted[i] ]\n",
    "    for j, key in enumerate( keys ):\n",
    "        print( '    {}: {:.5g}'.format( key, quantities[j] ) )\n",
    "        if key not in data:\n",
    "            data[key] = { pms[i]['variation']: quantities[j] }\n",
    "        else:\n",
    "            data[key][pms[i]['variation']] = quantities[j]\n",
    "\n",
    "    data.to_hdf5( data_fp, handle_jagged_arrs='row datasets' )"
   ]
  },
  {
   "cell_type": "code",
   "execution_count": null,
   "id": "7415de1a-4c03-4c74-99a0-4b410ad9f5a3",
   "metadata": {},
   "outputs": [],
   "source": []
  }
 ],
 "metadata": {
  "kernelspec": {
   "display_name": "Python 3",
   "language": "python",
   "name": "python3"
  },
  "language_info": {
   "codemirror_mode": {
    "name": "ipython",
    "version": 3
   },
   "file_extension": ".py",
   "mimetype": "text/x-python",
   "name": "python",
   "nbconvert_exporter": "python",
   "pygments_lexer": "ipython3",
   "version": "3.9.1"
  }
 },
 "nbformat": 4,
 "nbformat_minor": 5
}
