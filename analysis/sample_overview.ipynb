{
 "cells": [
  {
   "cell_type": "code",
   "execution_count": null,
   "id": "0332aa71-eef7-4544-af8f-790f1439da10",
   "metadata": {},
   "outputs": [],
   "source": [
    "import copy\n",
    "import time, importlib\n",
    "import h5py\n",
    "import numpy as np\n",
    "import os\n",
    "import pandas as pd\n",
    "import scipy, scipy.ndimage\n",
    "import tqdm\n",
    "import unyt"
   ]
  },
  {
   "cell_type": "code",
   "execution_count": null,
   "id": "672acede-5c74-4f34-ae95-ca57006955e2",
   "metadata": {},
   "outputs": [],
   "source": [
    "import kalepy as kale"
   ]
  },
  {
   "cell_type": "code",
   "execution_count": null,
   "id": "bd0e110a-954a-430b-a31c-41679605f74c",
   "metadata": {},
   "outputs": [],
   "source": [
    "import matplotlib\n",
    "import matplotlib.gridspec as gridspec\n",
    "import matplotlib.patheffects as patheffects"
   ]
  },
  {
   "cell_type": "code",
   "execution_count": null,
   "id": "7b75858b-6973-4147-9ca9-ece7e96acfa8",
   "metadata": {},
   "outputs": [],
   "source": [
    "import palettable"
   ]
  },
  {
   "cell_type": "code",
   "execution_count": null,
   "id": "df82f5a3-a36a-4cb1-a786-44b037b5e6f4",
   "metadata": {},
   "outputs": [],
   "source": [
    "import linefinder.analyze_data.worldlines as a_worldlines\n",
    "import linefinder.config as l_config"
   ]
  },
  {
   "cell_type": "code",
   "execution_count": null,
   "id": "66780ee7-7ce5-4668-94bd-ef687687f272",
   "metadata": {},
   "outputs": [],
   "source": [
    "import galaxy_dive.plot_data.plotting as plotting"
   ]
  },
  {
   "cell_type": "code",
   "execution_count": null,
   "id": "8e0755f1-88f5-4997-b824-094d3b3bced2",
   "metadata": {},
   "outputs": [],
   "source": [
    "import coolingFunction"
   ]
  },
  {
   "cell_type": "code",
   "execution_count": null,
   "id": "8b5cae1b-4a2f-44a0-b1d0-c87d770ef827",
   "metadata": {},
   "outputs": [],
   "source": [
    "import trove\n",
    "import verdict\n",
    "from py2tex import py2tex"
   ]
  },
  {
   "cell_type": "code",
   "execution_count": null,
   "id": "9398c552-8829-488e-a8a7-7beb20e5b37b",
   "metadata": {},
   "outputs": [],
   "source": [
    "%matplotlib inline"
   ]
  },
  {
   "cell_type": "markdown",
   "id": "109e316c-2785-498c-8746-4f951ff3b95b",
   "metadata": {},
   "source": [
    "# Parameters"
   ]
  },
  {
   "cell_type": "code",
   "execution_count": null,
   "id": "69e9ba0c-a70e-463e-a7b7-6991663694fe",
   "metadata": {},
   "outputs": [],
   "source": [
    "pm = dict(\n",
    "    snum = 600,\n",
    "    ahf_index = 600,\n",
    ")"
   ]
  },
  {
   "cell_type": "code",
   "execution_count": null,
   "id": "e230ae99-29cc-43e6-9199-fef6cdc4918c",
   "metadata": {},
   "outputs": [],
   "source": [
    "pm = trove.link_params_to_config(\n",
    "    '/home1/03057/zhafen/papers/Hot-Accretion-in-FIRE/analysis/hot_accretion.trove',\n",
    "    script_id = 'nb.8',\n",
    "    variation = 'm12i_md',\n",
    "    global_variation = 'track_all_recent_stars',\n",
    "    **pm\n",
    ")"
   ]
  },
  {
   "cell_type": "code",
   "execution_count": null,
   "id": "512f36a1-ca82-42c6-beac-73e1f7f46fac",
   "metadata": {},
   "outputs": [],
   "source": [
    "sim_name = pm['variation']"
   ]
  },
  {
   "cell_type": "code",
   "execution_count": null,
   "id": "7eccefa1-83a0-4808-8817-1307ebdbbb47",
   "metadata": {},
   "outputs": [],
   "source": [
    "print( sim_name, pm['global_variation'] )"
   ]
  },
  {
   "cell_type": "markdown",
   "id": "605865f1-6790-4ce0-a7a3-8e08641afbf2",
   "metadata": {},
   "source": [
    "# Load Data"
   ]
  },
  {
   "cell_type": "code",
   "execution_count": null,
   "id": "e8acd865-18c0-4168-a7fb-96eef46ce1b9",
   "metadata": {},
   "outputs": [],
   "source": [
    "w = a_worldlines.Worldlines(\n",
    "    tag = pm['tag'],\n",
    "    data_dir = pm['data_dirs']['jug.4'],\n",
    "    halo_data_dir = pm['halo_data_dir'],\n",
    "    ahf_index = pm['ahf_index'],\n",
    ")"
   ]
  },
  {
   "cell_type": "code",
   "execution_count": null,
   "id": "91827272-fbdd-4eba-84c2-bdf5450debd9",
   "metadata": {},
   "outputs": [],
   "source": [
    "w.data_dir"
   ]
  },
  {
   "cell_type": "code",
   "execution_count": null,
   "id": "7b3222af-cc4e-40aa-9b03-3f67d5447c84",
   "metadata": {},
   "outputs": [],
   "source": [
    "data_fp = os.path.join( pm['processed_data_dir'], 'summary.hdf5' )\n",
    "data = verdict.Dict.from_hdf5( data_fp, create_nonexistent=True )"
   ]
  },
  {
   "cell_type": "markdown",
   "id": "ee626356-a2bd-48e7-8cdc-302642c93927",
   "metadata": {},
   "source": [
    "# Analyze"
   ]
  },
  {
   "cell_type": "markdown",
   "id": "f6ec63a2-3593-4a18-ac3d-57579ab6fa01",
   "metadata": {},
   "source": [
    "## Calculate Central Indices"
   ]
  },
  {
   "cell_type": "code",
   "execution_count": null,
   "id": "244900c7-991f-4deb-ae94-da0c7fb7394e",
   "metadata": {},
   "outputs": [],
   "source": [
    "calc_fn = getattr( w, 'calc_{}'.format( pm['central_indices'] ) )\n",
    "inds = calc_fn(\n",
    "    lookback_time_max = pm['lookback_time_max'],\n",
    "    choose_first = pm['choose_first'],\n",
    ")\n"
   ]
  },
  {
   "cell_type": "code",
   "execution_count": null,
   "id": "a4726a6f-cd93-423a-986d-137ed591d85a",
   "metadata": {},
   "outputs": [],
   "source": [
    "t_tchange_key = pm['central_indices'].split( '_' )[0]\n",
    "tchange = w.get_data( t_tchange_key )"
   ]
  },
  {
   "cell_type": "code",
   "execution_count": null,
   "id": "0a1817e2-9a2e-4c27-abc3-8bb1f41a2a6e",
   "metadata": {},
   "outputs": [],
   "source": [
    "fig = plt.figure()\n",
    "ax = plt.gca()\n",
    "\n",
    "_ = ax.hist(\n",
    "    tchange,\n",
    "    bins = 64,\n",
    ")\n",
    "\n",
    "ax.axvline(\n",
    "    w.get_data( 'time' )[0] - 1.,\n",
    "    color = pm['background_linecolor'],\n",
    "    linewidth = 1,\n",
    ")"
   ]
  }
 ],
 "metadata": {
  "kernelspec": {
   "display_name": "Python 3",
   "language": "python",
   "name": "python3"
  },
  "language_info": {
   "codemirror_mode": {
    "name": "ipython",
    "version": 3
   },
   "file_extension": ".py",
   "mimetype": "text/x-python",
   "name": "python",
   "nbconvert_exporter": "python",
   "pygments_lexer": "ipython3",
   "version": "3.9.1"
  }
 },
 "nbformat": 4,
 "nbformat_minor": 5
}
