{
 "cells": [
  {
   "cell_type": "code",
   "execution_count": null,
   "id": "3fe410d4-5a61-4c15-9c14-7e8f6f460c87",
   "metadata": {},
   "outputs": [],
   "source": [
    "import coolingFunction"
   ]
  },
  {
   "cell_type": "code",
   "execution_count": null,
   "id": "a7efaa97-e526-49e9-b858-9525e5de4343",
   "metadata": {},
   "outputs": [],
   "source": [
    "import copy\n",
    "import numpy as np\n",
    "import h5py\n",
    "import scipy\n",
    "import scipy.special\n",
    "import sys\n",
    "import verdict\n",
    "import os\n",
    "import tqdm\n",
    "import unyt"
   ]
  },
  {
   "cell_type": "code",
   "execution_count": null,
   "id": "c7914bce-6970-426d-8ef2-af020adcc2c5",
   "metadata": {},
   "outputs": [],
   "source": [
    "import kalepy as kale"
   ]
  },
  {
   "cell_type": "code",
   "execution_count": null,
   "id": "1188a346-3b9f-4817-abc7-0df36c5c2827",
   "metadata": {},
   "outputs": [],
   "source": [
    "import matplotlib\n",
    "import matplotlib.pyplot as plt\n",
    "import matplotlib.patches as mpatches\n",
    "import matplotlib.patheffects as path_effects\n",
    "import matplotlib.cm as cm\n",
    "import matplotlib.colors as plt_colors\n",
    "import matplotlib.gridspec as gridspec\n",
    "import matplotlib.transforms\n",
    "import palettable"
   ]
  },
  {
   "cell_type": "code",
   "execution_count": null,
   "id": "29d98968-77d3-493e-854e-a87c63c3fb22",
   "metadata": {},
   "outputs": [],
   "source": [
    "import linefinder.analyze_data.worldlines as a_worldlines\n",
    "import linefinder.analyze_data.worldline_set as worldline_set\n",
    "import linefinder.analyze_data.plot_worldlines as p_worldlines\n",
    "import linefinder.utils.presentation_constants as p_constants"
   ]
  },
  {
   "cell_type": "code",
   "execution_count": null,
   "id": "f709c3df-68ae-47a0-a2a9-8d07181cd72a",
   "metadata": {},
   "outputs": [],
   "source": [
    "import galaxy_dive.analyze_data.ahf as analyze_ahf\n",
    "import galaxy_dive.plot_data.ahf as plot_ahf\n",
    "import galaxy_dive.analyze_data.particle_data as particle_data\n",
    "import galaxy_dive.plot_data.generic_plotter as generic_plotter\n",
    "import galaxy_dive.plot_data.plotting as plotting\n",
    "import galaxy_dive.utils.data_operations as data_operations\n",
    "import galaxy_dive.utils.executable_helpers as exec_helpers"
   ]
  },
  {
   "cell_type": "code",
   "execution_count": null,
   "id": "d0ef9df8-8c9a-478d-b244-88e9cd2f8ae8",
   "metadata": {},
   "outputs": [],
   "source": [
    "import linefinder.utils.file_management as file_management\n",
    "import linefinder.config as config"
   ]
  },
  {
   "cell_type": "code",
   "execution_count": null,
   "id": "522efa11-b384-4553-80b2-849a94228080",
   "metadata": {},
   "outputs": [],
   "source": [
    "import trove"
   ]
  },
  {
   "cell_type": "code",
   "execution_count": null,
   "id": "9c5520e6-e7ef-42d3-8273-af4b6f4a2557",
   "metadata": {},
   "outputs": [],
   "source": [
    "from py2tex import py2tex"
   ]
  },
  {
   "cell_type": "code",
   "execution_count": null,
   "id": "f8f1bba6-2e57-46f3-b69b-ff55b00022eb",
   "metadata": {},
   "outputs": [],
   "source": [
    "import helpers"
   ]
  },
  {
   "cell_type": "code",
   "execution_count": null,
   "id": "75e76e6d-b58c-459d-ba40-282272d7f525",
   "metadata": {},
   "outputs": [],
   "source": [
    "%matplotlib inline"
   ]
  },
  {
   "cell_type": "markdown",
   "id": "01954858-85e0-4508-a575-1bd40385ee1c",
   "metadata": {},
   "source": [
    "# Load Data"
   ]
  },
  {
   "cell_type": "code",
   "execution_count": null,
   "id": "832c3a15-94a2-4c0b-bba3-ca0b0b7813d6",
   "metadata": {},
   "outputs": [],
   "source": [
    "pm = dict(\n",
    "    snum = 600,\n",
    "    tables_dir = '/work/03057/zhafen/CoolingTables/',\n",
    "    study_duplicates = False,\n",
    "    ahf_index = 600,\n",
    "    \n",
    "    # If we want to ensure some minimum number of snapshots in the galaxy after accreting\n",
    "    # (remember to account for the last 10 snapshots with small dt)\n",
    "    minInd = 0,\n",
    "    maxInd = 54, # Corresponds to 1 Gyr. We don't look at accretion prior.\n",
    "    \n",
    "    # For the fancy scatter plot we're visualizing.\n",
    "    variable_alpha = True,\n",
    ")"
   ]
  },
  {
   "cell_type": "code",
   "execution_count": null,
   "id": "4de5db3e-f6f6-4b89-b741-9b7ba7e664af",
   "metadata": {},
   "outputs": [],
   "source": [
    "pm = trove.link_params_to_config(\n",
    "    '/home1/03057/zhafen/papers/Hot-Accretion-in-FIRE/analysis/hot_accretion.trove',\n",
    "    script_id = 'nb.11',\n",
    "    **pm\n",
    ")"
   ]
  },
  {
   "cell_type": "code",
   "execution_count": null,
   "id": "7ba3edd4-2991-4cb5-b5fe-4097e86cca8d",
   "metadata": {},
   "outputs": [],
   "source": [
    "# Used so often it's nice to not enclose\n",
    "snum = pm['snum']\n",
    "ind = pm['ahf_index'] - snum"
   ]
  },
  {
   "cell_type": "code",
   "execution_count": null,
   "id": "dfd9d5bb-f785-42ba-b495-84dacd7c1f62",
   "metadata": {},
   "outputs": [],
   "source": [
    "w = a_worldlines.Worldlines(\n",
    "    tag = pm['tag'],\n",
    "    data_dir = pm['base_data_dir'],\n",
    "    halo_data_dir = pm['halo_data_dir'],\n",
    "    ahf_index = pm['ahf_index'],\n",
    ")"
   ]
  },
  {
   "cell_type": "code",
   "execution_count": null,
   "id": "3a3ca4f8-da7c-4263-9d82-fa68f6e41f2f",
   "metadata": {},
   "outputs": [],
   "source": [
    "w.retrieve_halo_data()"
   ]
  },
  {
   "cell_type": "code",
   "execution_count": null,
   "id": "9c25be2b-f640-48c0-8e54-da396d3b8194",
   "metadata": {},
   "outputs": [],
   "source": [
    "m_plot_label  = r'$M_{\\rm h} = 10^{' + '{:.02g}'.format( np.log10( w.m_vir[snum] ) )\n",
    "m_plot_label += '} M_\\odot$'\n",
    "plot_label = m_plot_label + ', z={:.02}'.format( w.redshift[snum] )\n",
    "print( plot_label )"
   ]
  },
  {
   "cell_type": "code",
   "execution_count": null,
   "id": "ae3ed628-fd5f-498a-8fa4-de64d1b61471",
   "metadata": {},
   "outputs": [],
   "source": [
    "base_processed_data_dir = pm['config_parser'].get( 'DEFAULT', 'processed_data_dir' )\n",
    "default_data_fp = os.path.join( base_processed_data_dir, 'summary.hdf5' )\n",
    "default_data = verdict.Dict.from_hdf5( default_data_fp, create_nonexistent=True )"
   ]
  },
  {
   "cell_type": "code",
   "execution_count": null,
   "id": "a2a58acc-0582-418c-8169-5250870f22c2",
   "metadata": {},
   "outputs": [],
   "source": [
    "data_fp = os.path.join( pm['processed_data_dir'], 'summary.hdf5' )\n",
    "data = verdict.Dict.from_hdf5( data_fp, create_nonexistent=True )"
   ]
  },
  {
   "cell_type": "markdown",
   "id": "029c3ddc-5be8-466b-a448-b2c97cb40ad6",
   "metadata": {},
   "source": [
    "## Labels"
   ]
  },
  {
   "cell_type": "code",
   "execution_count": null,
   "id": "d99f2624-8528-4779-bcc6-dc60883c781e",
   "metadata": {},
   "outputs": [],
   "source": [
    "tchange_key = pm['central_indices'].split( '_' )[0]\n",
    "t_tchange_key = 't_' + tchange_key"
   ]
  },
  {
   "cell_type": "code",
   "execution_count": null,
   "id": "4561cefd-4712-450a-a856-305ef02ee266",
   "metadata": {},
   "outputs": [],
   "source": [
    "t_tchange_label = helpers.get_t_tchange_label( pm )"
   ]
  },
  {
   "cell_type": "markdown",
   "id": "9914189d-994e-448e-a4ea-d91ecbe53aef",
   "metadata": {},
   "source": [
    "## Calculate Central Indices"
   ]
  },
  {
   "cell_type": "code",
   "execution_count": null,
   "id": "adc37076-0694-420c-b87f-370362b812ea",
   "metadata": {},
   "outputs": [],
   "source": [
    "if pm['central_indices'] == 'tcools_inds':\n",
    "    inds = w.calc_tcools_inds(\n",
    "        lookback_time_max = pm['lookback_time_max'],\n",
    "        choose_first = pm['choose_first'],\n",
    "        B = pm['logTcools'],\n",
    "    )\n",
    "else:\n",
    "    calc_fn = getattr( w, 'calc_{}'.format( pm['central_indices'] ) )\n",
    "    inds = calc_fn(\n",
    "        lookback_time_max = pm['lookback_time_max'],\n",
    "        choose_first = pm['choose_first'],\n",
    "    )"
   ]
  },
  {
   "cell_type": "code",
   "execution_count": null,
   "id": "162c151b-ee99-4ef8-a5ec-75ee83788459",
   "metadata": {},
   "outputs": [],
   "source": [
    "valid = inds != config.INT_FILL_VALUE\n",
    "valid_inds = inds[valid]\n",
    "particle_inds = np.arange( w.n_particles )[valid]"
   ]
  },
  {
   "cell_type": "markdown",
   "id": "067be01f-dc6b-41b9-b951-c1835228cb7c",
   "metadata": {},
   "source": [
    "## Calculate $\\vec j$"
   ]
  },
  {
   "cell_type": "code",
   "execution_count": null,
   "id": "e8017c23-ab07-4ffb-aa86-bb29efe87d31",
   "metadata": {},
   "outputs": [],
   "source": [
    "specific_mom = w.get_data( 'J' )\n",
    "w.data['Jmag'] = w.get_data( 'Jmag' )"
   ]
  },
  {
   "cell_type": "code",
   "execution_count": null,
   "id": "240422e1-6a86-48df-9f97-aa33dce38d67",
   "metadata": {},
   "outputs": [],
   "source": [
    "tot_momentum_fp = os.path.join( base_processed_data_dir, 'tot_momentums.hdf5' )\n",
    "tot_ang_momentum = verdict.Dict.from_hdf5( tot_momentum_fp )[pm['variation']]['snum{:03d}'.format( snum )]"
   ]
  },
  {
   "cell_type": "code",
   "execution_count": null,
   "id": "5ab11ba1-fa22-41f6-a9a4-f9e57f1b0c1e",
   "metadata": {},
   "outputs": [],
   "source": [
    "tot_ang_momentum_normed = tot_ang_momentum / np.linalg.norm( tot_ang_momentum )\n",
    "w.data['Jz'] = np.array([ np.dot( specific_mom[:,:,i].transpose(), tot_ang_momentum_normed ) for i in range( w.snums.size ) ]).transpose()"
   ]
  },
  {
   "cell_type": "code",
   "execution_count": null,
   "id": "9f4dc421-d6fb-4fc6-88be-8b8f6b57eba5",
   "metadata": {},
   "outputs": [],
   "source": [
    "w.data['Jz/J'] = w.data['Jz'] / w.data['Jmag']"
   ]
  },
  {
   "cell_type": "markdown",
   "id": "65c0216a-ecca-45eb-82a5-b67ab63da78d",
   "metadata": {},
   "source": [
    "# Plot"
   ]
  },
  {
   "cell_type": "markdown",
   "id": "550f2179-fdcd-42a9-b494-b0634f43a672",
   "metadata": {},
   "source": [
    "## Settings"
   ]
  },
  {
   "cell_type": "code",
   "execution_count": null,
   "id": "c09f1bdc-8f03-43c4-86b0-3db41d227f56",
   "metadata": {},
   "outputs": [],
   "source": [
    "def get_cmap_and_norm( data_key ):\n",
    "\n",
    "    if data_key == 'T':\n",
    "        cmap = matplotlib.colors.LinearSegmentedColormap.from_list(\n",
    "            'berlin_white',\n",
    "            [\n",
    "                palettable.scientific.diverging.Berlin_3.mpl_colors[0],\n",
    "                'w',\n",
    "                palettable.scientific.diverging.Berlin_3.mpl_colors[-1],\n",
    "            ],\n",
    "        )\n",
    "        norm = plt_colors.LogNorm( vmin=1e4, vmax=1e6 )\n",
    "    elif data_key == 'Jz/J':\n",
    "        cmap = matplotlib.colors.LinearSegmentedColormap.from_list(\n",
    "            'tofino_white',\n",
    "            [\n",
    "                palettable.cartocolors.diverging.Tropic_7.mpl_colors[-2],\n",
    "                'w',\n",
    "                palettable.cartocolors.diverging.Tropic_7.mpl_colors[1],\n",
    "            ],\n",
    "        )\n",
    "        norm = plt_colors.Normalize( vmin=-1, vmax=1 )\n",
    "\n",
    "    return cmap, norm"
   ]
  },
  {
   "cell_type": "code",
   "execution_count": null,
   "id": "7b40e4f9-e5c3-41c0-95e2-fcd7136d4c90",
   "metadata": {},
   "outputs": [],
   "source": [
    "cmap, norm = get_cmap_and_norm( 'T' )"
   ]
  },
  {
   "cell_type": "code",
   "execution_count": null,
   "id": "4c53d66a-0e64-49b8-a854-dcaa6685bd5b",
   "metadata": {},
   "outputs": [],
   "source": [
    "# Setup time steps\n",
    "delta_t = 0.01\n",
    "t_movie_after = np.arange( 0., 0.5 + delta_t, delta_t )\n",
    "t_movie_before = -1. * np.arange( 0., 1.5 + delta_t, delta_t )[1:][::-1]\n",
    "t_movie = np.concatenate( [ t_movie_before, t_movie_after ]  )"
   ]
  },
  {
   "cell_type": "markdown",
   "id": "d4fb0805-8f64-49b6-a0c2-700067b4327d",
   "metadata": {},
   "source": [
    "## Get Time Offset\n",
    "Find offset for each worldline (to account for t_tchange occuring between snapshots)"
   ]
  },
  {
   "cell_type": "code",
   "execution_count": null,
   "id": "0370399d-be59-49b0-84fa-fa2b7c0277b6",
   "metadata": {},
   "outputs": [],
   "source": [
    "# Mask Data\n",
    "w.data_masker.clear_masks()\n",
    "w.data_masker.mask_data( 'n_out', -1, 1 ) # Only include particles that have never left the main galaxy\n",
    "w.data_masker.mask_data( 'PType', data_value=0 )"
   ]
  },
  {
   "cell_type": "code",
   "execution_count": null,
   "id": "fd8b321e-a24a-4108-a1c7-95848a456409",
   "metadata": {},
   "outputs": [],
   "source": [
    "# Find particles that are valid near tchange\n",
    "mask_overall = w.data_masker.get_mask()\n",
    "mask_at_tchange = mask_overall[particle_inds,valid_inds]\n",
    "mask_after_tchange = mask_overall[particle_inds,valid_inds-1]\n",
    "masked_near_tchange = np.logical_and( mask_at_tchange, mask_after_tchange )\n",
    "valid_near_tchange = np.invert( masked_near_tchange )"
   ]
  },
  {
   "cell_type": "code",
   "execution_count": null,
   "id": "89506d54-6835-4426-8ef0-e7603434f641",
   "metadata": {},
   "outputs": [],
   "source": [
    "# Find the temperatures to interpolate to get the offset\n",
    "T_at_tchange = w.get_data( 'T' )[particle_inds,valid_inds][valid_near_tchange]\n",
    "T_after_tchange = w.get_data( 'T' )[particle_inds,valid_inds-1][valid_near_tchange]\n",
    "logT_interp = np.log10( np.array([ T_at_tchange, T_after_tchange ]).transpose() )"
   ]
  },
  {
   "cell_type": "code",
   "execution_count": null,
   "id": "34c5af5d-3a9e-4034-8ac7-a310edfe750a",
   "metadata": {},
   "outputs": [],
   "source": [
    "# Find the times to interpolate to get the offset\n",
    "t_tchange = w.get_data( t_tchange_key )\n",
    "t_tchange_at_tchange = t_tchange[particle_inds,valid_inds][valid_near_tchange]\n",
    "t_tchange_after_tchange = t_tchange[particle_inds,valid_inds-1][valid_near_tchange]\n",
    "t_tchange_interp = np.array([ t_tchange_at_tchange, t_tchange_after_tchange ]).transpose()\n",
    "t_tchange = w.get_data( t_tchange_key )[valid_inds]"
   ]
  },
  {
   "cell_type": "code",
   "execution_count": null,
   "id": "a574f70f-882c-4e32-8c0d-7f467cdbe514",
   "metadata": {},
   "outputs": [],
   "source": [
    "# Get the offset\n",
    "time_offsets = []\n",
    "n_wrong = 0\n",
    "for i, tchange_interp_i in enumerate( tqdm.tqdm( t_tchange_interp ) ):\n",
    "    interp_fn = scipy.interpolate.interp1d( logT_interp[i], t_tchange_interp[i],  )\n",
    "    try:\n",
    "        time_offsets.append( interp_fn( pm['logTcools'] ) )\n",
    "    except ValueError:\n",
    "        time_offsets.append( np.nan )\n",
    "        n_wrong += 1\n",
    "\n",
    "time_offsets = np.array( time_offsets )\n",
    "print( n_wrong, n_wrong / t_tchange_interp.shape[0] )\n",
    "\n",
    "time_offsets_all = np.full( particle_inds.size, np.nan )\n",
    "time_offsets_all[valid_near_tchange] = time_offsets\n",
    "\n",
    "t_tchange_corrected = t_tchange - time_offsets_all[:,np.newaxis]\n",
    "\n",
    "# The below code shows individual cases where tchange appears to be calculated wrong\n",
    "if np.isnan( time_offsets ).sum() > 0:\n",
    "    i = np.argmax( time_offsets )\n",
    "    weird_original_ind = particle_inds[valid_near_tchange][i]\n",
    "    print( np.log10( w.get_data( 'T' )[weird_original_ind] )[inds[weird_original_ind]-2:inds[weird_original_ind]+1] )"
   ]
  },
  {
   "cell_type": "markdown",
   "id": "4fd221db-1f03-4231-985d-2b9b326ffd19",
   "metadata": {},
   "source": [
    "## Get Data"
   ]
  },
  {
   "cell_type": "code",
   "execution_count": null,
   "id": "06bd3305-a123-4d34-8ed2-845e3864089a",
   "metadata": {},
   "outputs": [],
   "source": [
    "w.data_masker.clear_masks()\n",
    "w.data_masker.mask_data( 'n_out', -1, 1 ) # Only include particles that have never left the main galaxy\n",
    "w.data_masker.mask_data( 'PType', data_value=0 )"
   ]
  },
  {
   "cell_type": "code",
   "execution_count": null,
   "id": "ab79983a-de9e-4e2c-a4b0-6c241db624b5",
   "metadata": {},
   "outputs": [],
   "source": [
    "ds = []\n",
    "for i, t_frame in enumerate( tqdm.tqdm( t_movie ) ):\n",
    "\n",
    "    t_frame_inds = np.argmin( np.abs( t_tchange_corrected - t_frame ), axis=1 )\n",
    "\n",
    "    # Prepare to mask\n",
    "    if len( w.data_masker.masks ) == 3:\n",
    "        del w.data_masker.masks[2]\n",
    "\n",
    "    # Mask data that's out of bounds\n",
    "    out_of_bounds = t_frame_inds == 0\n",
    "    out_of_bounds_full = np.zeros( w.n_particles ).astype( 'bool' )\n",
    "    out_of_bounds_full[particle_inds] = out_of_bounds\n",
    "    out_of_bounds_mask = np.tile( out_of_bounds_full, ( w.n_snaps, 1 ) ).transpose()\n",
    "    w.data_masker.mask_data( 'out_of_bounds', custom_mask=out_of_bounds_mask,  )\n",
    "\n",
    "    # Base parameters\n",
    "    d = {}\n",
    "    for key in [ 'Rx', 'Ry', 'Rz', 'M', 'Den', 'T', 'Jz/J' ]:\n",
    "        d[key] = w.get_selected_data( key, compress=False )[particle_inds,t_frame_inds].compressed()\n",
    "\n",
    "    # Volume and smoothing length\n",
    "    den_msunkpc3 = ( d['Den']*unyt.mp/unyt.cm**3  ).to( 'Msun/kpc**3' )\n",
    "    d['Vol'] = d['M'] * unyt.Msun / den_msunkpc3\n",
    "    d['h'] = ( 3. * d['Vol'] / 4. / np.pi )**(1./3.)\n",
    "\n",
    "    ds.append( d )"
   ]
  },
  {
   "cell_type": "markdown",
   "id": "9e134428-582d-493f-b81d-f0b12c037f3e",
   "metadata": {},
   "source": [
    "## Make Frames"
   ]
  },
  {
   "cell_type": "code",
   "execution_count": null,
   "id": "9b6e66c2-76dd-45f1-98d3-d7d1505bb465",
   "metadata": {},
   "outputs": [],
   "source": [
    "# Frame and scalebar size objects\n",
    "def round_down(num, divisor):\n",
    "    return num - (num%divisor)"
   ]
  },
  {
   "cell_type": "code",
   "execution_count": null,
   "id": "62b0420c-14d7-4181-8ae1-84a772eb2d0f",
   "metadata": {},
   "outputs": [],
   "source": [
    "# The t_movie cut is set to be useless by default.\n",
    "lim = np.max( [ np.nanpercentile( np.abs( ds[i]['Rx'] ), 95 ) for i in np.arange(len(ds))[t_movie >= -0.5] ] )"
   ]
  },
  {
   "cell_type": "code",
   "execution_count": null,
   "id": "83cc19c7-c453-4987-a5e0-cf502101cb38",
   "metadata": {},
   "outputs": [],
   "source": [
    "for data_key in [ 'Jz/J', 'T' ]:\n",
    "\n",
    "    cmap, norm = get_cmap_and_norm( data_key )\n",
    "\n",
    "    i_focused = 0\n",
    "\n",
    "    for i, d in enumerate( tqdm.tqdm( ds ) ):\n",
    "        \n",
    "        # DEBUG\n",
    "        if i not in [ 100, 150, 200 ]:\n",
    "            continue\n",
    "\n",
    "        fig = plt.figure( figsize=(12,10), facecolor='k' )\n",
    "        ax = plt.gca()\n",
    "\n",
    "        # Point size\n",
    "        width_in_data = 2 * lim\n",
    "        width_in_pixels = ax.get_window_extent().width\n",
    "        pixels_to_points = fig.dpi / 72.\n",
    "        scale = 10.\n",
    "        radius = d['h'] * ( width_in_pixels / width_in_data ) * pixels_to_points * scale\n",
    "        s = ( radius )**2.\n",
    "\n",
    "        # Colors\n",
    "        colors = cmap( norm( d[data_key] ) )\n",
    "\n",
    "        # Alpha\n",
    "        if pm['variable_alpha']:\n",
    "            column_den = d['M'] / d['h']**2.\n",
    "            alpha = plt_colors.LogNorm( vmin=np.nanmin( column_den ), vmax=np.nanmax( column_den ) )( column_den ) * 0.065 * ( 50000 / w.n_particles)\n",
    "            alpha[alpha>1.] = 1.\n",
    "            alpha[alpha<0.] = 0.\n",
    "            colors[:,3] = alpha\n",
    "        else:\n",
    "            colors[:,3] = 0.01\n",
    "\n",
    "        # Plot itself\n",
    "        ax.scatter(\n",
    "            d['Rx'],\n",
    "            d['Rz'],\n",
    "            s = s,\n",
    "            c = colors,\n",
    "            edgecolors = 'none',\n",
    "        )\n",
    "\n",
    "        # Scale bar\n",
    "        size = round_down( min( 30., 0.95 * lim ), 10 )\n",
    "        if np.isclose( size, 0. ):\n",
    "            size = 10.\n",
    "        xy = ( -size, -0.95*lim )\n",
    "        line = ax.plot(\n",
    "            xy[0] + np.array([ 0., size ]),\n",
    "            [ xy[1], xy[1] ],\n",
    "            linewidth = 10,\n",
    "            color = 'w',\n",
    "            path_effects = [\n",
    "                path_effects.Stroke(linewidth=12, foreground='black'),\n",
    "                path_effects.Normal()\n",
    "            ]\n",
    "        )\n",
    "        text = ax.annotate(\n",
    "            text = '{:.2g} kpc'.format( size ),\n",
    "            xy = xy,\n",
    "            xycoords = 'data',\n",
    "            xytext = ( 5, 10 ),\n",
    "            textcoords = 'offset points',\n",
    "            va = 'bottom',\n",
    "            ha = 'left',\n",
    "            color = 'w',\n",
    "            fontsize = 42,\n",
    "        )\n",
    "        text.set_path_effects([\n",
    "            path_effects.Stroke(linewidth=2.5, foreground='black'),\n",
    "            path_effects.Normal()\n",
    "        ])\n",
    "\n",
    "        # Plot label\n",
    "        annotate_label = (\n",
    "            r'$t - ' +\n",
    "            helpers.get_tchange_label( pm )[1:] +\n",
    "            '= {} Myrs'.format( int( t_movie[i]*1e3 ) )\n",
    "        )\n",
    "        text = ax.annotate(\n",
    "            text = annotate_label,\n",
    "            xy = ( 1, 1 ),\n",
    "            xycoords = 'axes fraction',\n",
    "            xytext = ( -10, -10 ),\n",
    "            textcoords = 'offset points',\n",
    "            va = 'top',\n",
    "            ha = 'right',\n",
    "            color = 'w',\n",
    "            fontsize = 42,\n",
    "        )\n",
    "        text.set_path_effects([\n",
    "            path_effects.Stroke(linewidth=2.5, foreground='black'),\n",
    "            path_effects.Normal()\n",
    "        ])\n",
    "        \n",
    "        # Temperature\n",
    "        temp_label = r'$\\langle T \\rangle =' + py2tex.to_tex_scientific_notation( np.nanmedian( d['T'] ), sig_figs=2 ) + r'$ K'\n",
    "        text = ax.annotate(\n",
    "            text = temp_label,\n",
    "            xy = ( 1, 0 ),\n",
    "            xycoords = 'axes fraction',\n",
    "            xytext = ( -10, 10 ),\n",
    "            textcoords = 'offset points',\n",
    "            va = 'bottom',\n",
    "            ha = 'right',\n",
    "            color = 'w',\n",
    "            fontsize = 34,\n",
    "        )\n",
    "        text.set_path_effects([\n",
    "            path_effects.Stroke(linewidth=2, foreground='black'),\n",
    "            path_effects.Normal()\n",
    "        ])\n",
    "\n",
    "        # Limits\n",
    "        ax.set_xlim( -lim, lim )\n",
    "        ax.set_ylim( -lim, lim )\n",
    "        ax.set_aspect( 'equal' )\n",
    "\n",
    "        # Ticks\n",
    "        plt.tick_params(\n",
    "            which = 'both',\n",
    "            left = False,\n",
    "            labelleft = False,\n",
    "            bottom = False,\n",
    "            labelbottom = False,\n",
    "        )\n",
    "\n",
    "        # Change colors\n",
    "        ax.set_facecolor( 'k' )\n",
    "        plt.setp( ax.spines.values(), color='w' )\n",
    "        [m.set_linewidth(3) for m in ax.spines.values()]\n",
    "\n",
    "        save_file_tag = {\n",
    "            'T': '',\n",
    "            'Jz/J': '_alignment',\n",
    "        }[data_key]\n",
    "        plotting.save_fig(\n",
    "            out_dir = os.path.join( pm['data_dir'], 'projected_frames' ),\n",
    "            save_file = '{}{}_{:0>3d}.png'.format( pm['variation'], save_file_tag, i ),\n",
    "            fig = fig,\n",
    "            resolution = 150.,\n",
    "        )\n",
    "\n",
    "        # Save movie focused on time of cooling or accreting\n",
    "        if np.abs( t_movie[i] ) <= 0.150:\n",
    "            plotting.save_fig(\n",
    "                out_dir = os.path.join( pm['data_dir'], 'projected_frames' ),\n",
    "                save_file = '{}{}_focused_{:0>3d}.png'.format( pm['variation'], save_file_tag, i_focused ),\n",
    "                fig = fig,\n",
    "                resolution = 150.,\n",
    "            )\n",
    "            i_focused += 1\n",
    "\n",
    "#         plt.close()"
   ]
  },
  {
   "cell_type": "code",
   "execution_count": null,
   "id": "d1543bcc-f903-4eb2-b5ad-473d2ba10dac",
   "metadata": {},
   "outputs": [],
   "source": []
  }
 ],
 "metadata": {
  "kernelspec": {
   "display_name": "Python 3",
   "language": "python",
   "name": "python3"
  },
  "language_info": {
   "codemirror_mode": {
    "name": "ipython",
    "version": 3
   },
   "file_extension": ".py",
   "mimetype": "text/x-python",
   "name": "python",
   "nbconvert_exporter": "python",
   "pygments_lexer": "ipython3",
   "version": "3.9.1"
  }
 },
 "nbformat": 4,
 "nbformat_minor": 5
}
