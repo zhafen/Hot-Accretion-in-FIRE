{
 "cells": [
  {
   "cell_type": "code",
   "execution_count": null,
   "id": "3fe410d4-5a61-4c15-9c14-7e8f6f460c87",
   "metadata": {},
   "outputs": [],
   "source": [
    "import coolingFunction"
   ]
  },
  {
   "cell_type": "code",
   "execution_count": null,
   "id": "a7efaa97-e526-49e9-b858-9525e5de4343",
   "metadata": {},
   "outputs": [],
   "source": [
    "import copy\n",
    "import numpy as np\n",
    "import h5py\n",
    "import pandas as pd\n",
    "import scipy\n",
    "import scipy.special\n",
    "import sys\n",
    "import verdict\n",
    "import os\n",
    "import tqdm\n",
    "import unyt"
   ]
  },
  {
   "cell_type": "code",
   "execution_count": null,
   "id": "c7914bce-6970-426d-8ef2-af020adcc2c5",
   "metadata": {},
   "outputs": [],
   "source": [
    "import kalepy as kale"
   ]
  },
  {
   "cell_type": "code",
   "execution_count": null,
   "id": "1188a346-3b9f-4817-abc7-0df36c5c2827",
   "metadata": {},
   "outputs": [],
   "source": [
    "import matplotlib\n",
    "import matplotlib.pyplot as plt\n",
    "import matplotlib.patches as mpatches\n",
    "import matplotlib.patheffects as path_effects\n",
    "import matplotlib.cm as cm\n",
    "import matplotlib.colors as plt_colors\n",
    "import matplotlib.gridspec as gridspec\n",
    "import matplotlib.transforms\n",
    "import palettable"
   ]
  },
  {
   "cell_type": "code",
   "execution_count": null,
   "id": "0aa0c8b9-63db-41b6-ba14-59fcced2d8e3",
   "metadata": {},
   "outputs": [],
   "source": [
    "import cartopy.crs as ccrs"
   ]
  },
  {
   "cell_type": "code",
   "execution_count": null,
   "id": "29d98968-77d3-493e-854e-a87c63c3fb22",
   "metadata": {},
   "outputs": [],
   "source": [
    "import linefinder.analyze_data.worldlines as a_worldlines\n",
    "import linefinder.analyze_data.worldline_set as worldline_set\n",
    "import linefinder.analyze_data.plot_worldlines as p_worldlines\n",
    "import linefinder.utils.presentation_constants as p_constants"
   ]
  },
  {
   "cell_type": "code",
   "execution_count": null,
   "id": "f709c3df-68ae-47a0-a2a9-8d07181cd72a",
   "metadata": {},
   "outputs": [],
   "source": [
    "import galaxy_dive.analyze_data.ahf as analyze_ahf\n",
    "import galaxy_dive.plot_data.ahf as plot_ahf\n",
    "import galaxy_dive.analyze_data.particle_data as particle_data\n",
    "import galaxy_dive.plot_data.generic_plotter as generic_plotter\n",
    "import galaxy_dive.plot_data.plotting as plotting\n",
    "import galaxy_dive.utils.data_operations as data_operations\n",
    "import galaxy_dive.utils.executable_helpers as exec_helpers"
   ]
  },
  {
   "cell_type": "code",
   "execution_count": null,
   "id": "d0ef9df8-8c9a-478d-b244-88e9cd2f8ae8",
   "metadata": {},
   "outputs": [],
   "source": [
    "import linefinder.utils.file_management as file_management\n",
    "import linefinder.config as config"
   ]
  },
  {
   "cell_type": "code",
   "execution_count": null,
   "id": "522efa11-b384-4553-80b2-849a94228080",
   "metadata": {},
   "outputs": [],
   "source": [
    "import trove"
   ]
  },
  {
   "cell_type": "code",
   "execution_count": null,
   "id": "9c5520e6-e7ef-42d3-8273-af4b6f4a2557",
   "metadata": {},
   "outputs": [],
   "source": [
    "from py2tex import py2tex"
   ]
  },
  {
   "cell_type": "code",
   "execution_count": null,
   "id": "f8f1bba6-2e57-46f3-b69b-ff55b00022eb",
   "metadata": {},
   "outputs": [],
   "source": [
    "import helpers"
   ]
  },
  {
   "cell_type": "code",
   "execution_count": null,
   "id": "75e76e6d-b58c-459d-ba40-282272d7f525",
   "metadata": {},
   "outputs": [],
   "source": [
    "%matplotlib inline"
   ]
  },
  {
   "cell_type": "markdown",
   "id": "01954858-85e0-4508-a575-1bd40385ee1c",
   "metadata": {},
   "source": [
    "# Load Data"
   ]
  },
  {
   "cell_type": "code",
   "execution_count": null,
   "id": "832c3a15-94a2-4c0b-bba3-ca0b0b7813d6",
   "metadata": {},
   "outputs": [],
   "source": [
    "pm = dict(\n",
    "    snum = 600,\n",
    "    tables_dir = '/work/03057/zhafen/CoolingTables/',\n",
    "    study_duplicates = False,\n",
    "    ahf_index = 600,\n",
    "    \n",
    "    # For the fancy scatter plot we're visualizing.\n",
    "    variable_alpha = True,\n",
    ")"
   ]
  },
  {
   "cell_type": "code",
   "execution_count": null,
   "id": "4de5db3e-f6f6-4b89-b741-9b7ba7e664af",
   "metadata": {},
   "outputs": [],
   "source": [
    "pm = trove.link_params_to_config(\n",
    "    '/home1/03057/zhafen/papers/Hot-Accretion-in-FIRE/analysis/hot_accretion.trove',\n",
    "    script_id = 'nb.11',\n",
    "    variation = 'm12i_md',\n",
    "    global_variation = '',\n",
    "    **pm\n",
    ")"
   ]
  },
  {
   "cell_type": "code",
   "execution_count": null,
   "id": "7ba3edd4-2991-4cb5-b5fe-4097e86cca8d",
   "metadata": {},
   "outputs": [],
   "source": [
    "# Used so often it's nice to not enclose\n",
    "snum = pm['snum']\n",
    "ind = pm['ahf_index'] - snum"
   ]
  },
  {
   "cell_type": "code",
   "execution_count": null,
   "id": "dfd9d5bb-f785-42ba-b495-84dacd7c1f62",
   "metadata": {},
   "outputs": [],
   "source": [
    "w = a_worldlines.Worldlines(\n",
    "    tag = pm['tag'],\n",
    "    data_dir = pm['base_data_dir'],\n",
    "    halo_data_dir = pm['halo_data_dir'],\n",
    "    ahf_index = pm['ahf_index'],\n",
    ")"
   ]
  },
  {
   "cell_type": "code",
   "execution_count": null,
   "id": "3a3ca4f8-da7c-4263-9d82-fa68f6e41f2f",
   "metadata": {},
   "outputs": [],
   "source": [
    "w.retrieve_halo_data()"
   ]
  },
  {
   "cell_type": "code",
   "execution_count": null,
   "id": "9c25be2b-f640-48c0-8e54-da396d3b8194",
   "metadata": {},
   "outputs": [],
   "source": [
    "m_plot_label  = r'$M_{\\rm h} = 10^{' + '{:.02g}'.format( np.log10( w.m_vir[snum] ) )\n",
    "m_plot_label += '} M_\\odot$'\n",
    "plot_label = m_plot_label + ', z={:.02}'.format( w.redshift[snum] )\n",
    "print( plot_label )"
   ]
  },
  {
   "cell_type": "code",
   "execution_count": null,
   "id": "ae3ed628-fd5f-498a-8fa4-de64d1b61471",
   "metadata": {},
   "outputs": [],
   "source": [
    "base_processed_data_dir = pm['config_parser'].get( 'DEFAULT', 'processed_data_dir' )\n",
    "default_data_fp = os.path.join( base_processed_data_dir, 'summary.hdf5' )\n",
    "default_data = verdict.Dict.from_hdf5( default_data_fp, create_nonexistent=True )"
   ]
  },
  {
   "cell_type": "code",
   "execution_count": null,
   "id": "a2a58acc-0582-418c-8169-5250870f22c2",
   "metadata": {},
   "outputs": [],
   "source": [
    "data_fp = os.path.join( pm['processed_data_dir'], 'summary.hdf5' )\n",
    "data = verdict.Dict.from_hdf5( data_fp, create_nonexistent=True )"
   ]
  },
  {
   "cell_type": "code",
   "execution_count": null,
   "id": "f796c17b-8551-463e-a3b0-ce43c03e612a",
   "metadata": {},
   "outputs": [],
   "source": [
    "if pm['plt_style'] is not None:\n",
    "    plt.style.use( pm['plt_style'] )"
   ]
  },
  {
   "cell_type": "markdown",
   "id": "029c3ddc-5be8-466b-a448-b2c97cb40ad6",
   "metadata": {},
   "source": [
    "## Labels"
   ]
  },
  {
   "cell_type": "code",
   "execution_count": null,
   "id": "d99f2624-8528-4779-bcc6-dc60883c781e",
   "metadata": {},
   "outputs": [],
   "source": [
    "tchange_key = pm['central_indices'].split( '_' )[0]\n",
    "t_tchange_key = 't_' + tchange_key"
   ]
  },
  {
   "cell_type": "code",
   "execution_count": null,
   "id": "4561cefd-4712-450a-a856-305ef02ee266",
   "metadata": {},
   "outputs": [],
   "source": [
    "t_tchange_label = helpers.get_t_tchange_label( pm )"
   ]
  },
  {
   "cell_type": "markdown",
   "id": "9914189d-994e-448e-a4ea-d91ecbe53aef",
   "metadata": {},
   "source": [
    "## Calculate Central Indices"
   ]
  },
  {
   "cell_type": "code",
   "execution_count": null,
   "id": "adc37076-0694-420c-b87f-370362b812ea",
   "metadata": {},
   "outputs": [],
   "source": [
    "if pm['central_indices'] == 'tcools_inds':\n",
    "    inds = w.calc_tcools_inds(\n",
    "        lookback_time_max = pm['lookback_time_max'],\n",
    "        choose_first = pm['choose_first'],\n",
    "        B = pm['logTcools'],\n",
    "    )\n",
    "else:\n",
    "    calc_fn = getattr( w, 'calc_{}'.format( pm['central_indices'] ) )\n",
    "    inds = calc_fn(\n",
    "        lookback_time_max = pm['lookback_time_max'],\n",
    "        choose_first = pm['choose_first'],\n",
    "    )"
   ]
  },
  {
   "cell_type": "code",
   "execution_count": null,
   "id": "162c151b-ee99-4ef8-a5ec-75ee83788459",
   "metadata": {},
   "outputs": [],
   "source": [
    "# valid = inds > pm['minInd']\n",
    "valid = inds != config.INT_FILL_VALUE\n",
    "valid_inds = inds[valid]\n",
    "particle_inds = np.arange( w.n_particles )[valid]"
   ]
  },
  {
   "cell_type": "markdown",
   "id": "067be01f-dc6b-41b9-b951-c1835228cb7c",
   "metadata": {},
   "source": [
    "## Calculate $\\vec j$"
   ]
  },
  {
   "cell_type": "code",
   "execution_count": null,
   "id": "e8017c23-ab07-4ffb-aa86-bb29efe87d31",
   "metadata": {},
   "outputs": [],
   "source": [
    "specific_mom = w.get_data( 'J' )\n",
    "w.data['Jmag'] = w.get_data( 'Jmag' )"
   ]
  },
  {
   "cell_type": "code",
   "execution_count": null,
   "id": "240422e1-6a86-48df-9f97-aa33dce38d67",
   "metadata": {},
   "outputs": [],
   "source": [
    "tot_momentum_fp = os.path.join( base_processed_data_dir, 'tot_momentums.hdf5' )\n",
    "tot_ang_momentum = verdict.Dict.from_hdf5( tot_momentum_fp )[pm['variation']]['snum{:03d}'.format( snum )]"
   ]
  },
  {
   "cell_type": "code",
   "execution_count": null,
   "id": "5ab11ba1-fa22-41f6-a9a4-f9e57f1b0c1e",
   "metadata": {},
   "outputs": [],
   "source": [
    "tot_ang_momentum_normed = tot_ang_momentum / np.linalg.norm( tot_ang_momentum )\n",
    "_ = w.calc_ang_momentum_alignment( tot_ang_momentum_normed )"
   ]
  },
  {
   "cell_type": "code",
   "execution_count": null,
   "id": "a2718294-def2-42b7-97f7-ff2153f81cfc",
   "metadata": {},
   "outputs": [],
   "source": [
    "# Setup coordinate system\n",
    "z_hat = tot_ang_momentum_normed\n",
    "x_hat = np.cross( z_hat, np.array([ 0., 1., 0. ]) )\n",
    "x_hat /= np.linalg.norm( x_hat )\n",
    "y_hat = np.cross( z_hat, x_hat )"
   ]
  },
  {
   "cell_type": "code",
   "execution_count": null,
   "id": "77860108-4392-4521-9449-aeb0f94b47f2",
   "metadata": {},
   "outputs": [],
   "source": [
    "# Calculate on-sky coordinates\n",
    "theta = []\n",
    "phi = []\n",
    "jx = []\n",
    "jy = []\n",
    "jz = []\n",
    "for i, jmag_i in enumerate( tqdm.tqdm( w.get_data( 'Jmag' ).transpose() ) ):\n",
    "\n",
    "    # Calculate angular momentum components\n",
    "    j_i = w.get_data( 'J' )[:,:,i].transpose()\n",
    "    jz_i = w.get_data( 'Jz' )[:,i]\n",
    "    jperp_i = j_i - z_hat * jz_i[:,np.newaxis]\n",
    "    jx_i = np.dot( x_hat, jperp_i.transpose() )\n",
    "    jy_i = np.dot( y_hat, jperp_i.transpose() )\n",
    "\n",
    "    # Theta and phi\n",
    "    theta_i = np.arccos( jz_i / jmag_i )\n",
    "    phi_i = np.arctan2( jy_i, jx_i )\n",
    "    \n",
    "    jx.append( jx_i )\n",
    "    jy.append( jy_i )\n",
    "    jz.append( jz_i )\n",
    "    theta.append( theta_i )\n",
    "    phi.append( phi_i )\n",
    "    \n",
    "w.data['Jx'] = np.array( jx ).transpose()\n",
    "w.data['Jy'] = np.array( jy ).transpose()\n",
    "w.data['Jz'] = np.array( jz ).transpose()\n",
    "w.data['ThetaJ'] = np.array( theta ).transpose()\n",
    "w.data['PhiJ'] = np.array( phi ).transpose()"
   ]
  },
  {
   "cell_type": "markdown",
   "id": "65c0216a-ecca-45eb-82a5-b67ab63da78d",
   "metadata": {},
   "source": [
    "# Plot"
   ]
  },
  {
   "cell_type": "markdown",
   "id": "550f2179-fdcd-42a9-b494-b0634f43a672",
   "metadata": {},
   "source": [
    "## Settings"
   ]
  },
  {
   "cell_type": "code",
   "execution_count": null,
   "id": "c09f1bdc-8f03-43c4-86b0-3db41d227f56",
   "metadata": {},
   "outputs": [],
   "source": [
    "def get_cmap_and_norm( data_key ):\n",
    "\n",
    "    if data_key == 'T':\n",
    "        cmap = matplotlib.colors.LinearSegmentedColormap.from_list(\n",
    "            'berlin_white',\n",
    "            [\n",
    "                palettable.scientific.diverging.Berlin_3.mpl_colors[0],\n",
    "                'w',\n",
    "                palettable.scientific.diverging.Berlin_3.mpl_colors[-1],\n",
    "            ],\n",
    "        )\n",
    "        norm = plt_colors.LogNorm( vmin=1e4, vmax=1e6 )\n",
    "    elif data_key == 'Jz/Jmag':\n",
    "        cmap = matplotlib.colors.LinearSegmentedColormap.from_list(\n",
    "            'tofino_white',\n",
    "            [\n",
    "                palettable.cartocolors.diverging.Tropic_7.mpl_colors[-2],\n",
    "                'w',\n",
    "                palettable.cartocolors.diverging.Tropic_7.mpl_colors[1],\n",
    "            ],\n",
    "        )\n",
    "        norm = plt_colors.Normalize( vmin=-1, vmax=1 )\n",
    "\n",
    "    return cmap, norm"
   ]
  },
  {
   "cell_type": "code",
   "execution_count": null,
   "id": "7b40e4f9-e5c3-41c0-95e2-fcd7136d4c90",
   "metadata": {},
   "outputs": [],
   "source": [
    "cmap, norm = get_cmap_and_norm( 'T' )"
   ]
  },
  {
   "cell_type": "code",
   "execution_count": null,
   "id": "4c53d66a-0e64-49b8-a854-dcaa6685bd5b",
   "metadata": {},
   "outputs": [],
   "source": [
    "# Setup time steps\n",
    "delta_t = 0.01\n",
    "t_movie_after = np.arange( 0., 0.5 + delta_t, delta_t )\n",
    "t_movie_before = -1. * np.arange( 0., 1.5 + delta_t, delta_t )[1:][::-1]\n",
    "t_movie = np.concatenate( [ t_movie_before, t_movie_after ]  )"
   ]
  },
  {
   "cell_type": "code",
   "execution_count": null,
   "id": "04cf28b0-01c2-49fc-8a37-6c9c6317733c",
   "metadata": {},
   "outputs": [],
   "source": [
    "class ContourCalc( object ):\n",
    "    \n",
    "    def __init__( self, arr ):\n",
    "        \n",
    "        is_not_nan = np.invert( np.isnan( arr ) )\n",
    "        is_finite = np.invert( np.isinf( arr ) )\n",
    "        is_valid = is_not_nan & is_finite\n",
    "        self.values_sorted = np.sort( arr[is_valid] )[::-1]\n",
    "        \n",
    "        self.values_fraction = np.cumsum( self.values_sorted )\n",
    "        self.values_fraction /= self.values_fraction[-1]\n",
    "        \n",
    "        self.interp_fn = scipy.interpolate.interp1d( self.values_fraction, self.values_sorted )\n",
    "        \n",
    "    def get_level( self, q, f_min_is_average=True ):\n",
    "        \n",
    "        f = np.array( q ) / 100.\n",
    "        \n",
    "        if f_min_is_average:\n",
    "            f_min = 0.5 * ( self.values_fraction[0] + self.values_fraction[1] )\n",
    "        else:\n",
    "            f_min = self.values_fraction[0]\n",
    "        \n",
    "        if pd.api.types.is_list_like( f ):\n",
    "            f = np.array( f )\n",
    "            f[f<f_min] = f_min\n",
    "        else:\n",
    "            if f < f_min:\n",
    "                f = f_min\n",
    "\n",
    "        return self.interp_fn( f ) "
   ]
  },
  {
   "cell_type": "markdown",
   "id": "d4fb0805-8f64-49b6-a0c2-700067b4327d",
   "metadata": {},
   "source": [
    "## Get Time Offset\n",
    "Find offset for each worldline (to account for t_tchange occuring between snapshots)"
   ]
  },
  {
   "cell_type": "code",
   "execution_count": null,
   "id": "0370399d-be59-49b0-84fa-fa2b7c0277b6",
   "metadata": {},
   "outputs": [],
   "source": [
    "# Mask Data\n",
    "w.data_masker.clear_masks()\n",
    "w.data_masker.mask_data( 'n_out', -1, 1 ) # Only include particles that have never left the main galaxy\n",
    "w.data_masker.mask_data( 'PType', data_value=0 )"
   ]
  },
  {
   "cell_type": "code",
   "execution_count": null,
   "id": "fd8b321e-a24a-4108-a1c7-95848a456409",
   "metadata": {},
   "outputs": [],
   "source": [
    "# Find particles that are valid near tchange\n",
    "mask_overall = w.data_masker.get_mask()\n",
    "mask_at_tchange = mask_overall[particle_inds,valid_inds]\n",
    "mask_after_tchange = mask_overall[particle_inds,valid_inds-1]\n",
    "masked_near_tchange = np.logical_and( mask_at_tchange, mask_after_tchange )\n",
    "valid_near_tchange = np.invert( masked_near_tchange )"
   ]
  },
  {
   "cell_type": "code",
   "execution_count": null,
   "id": "89506d54-6835-4426-8ef0-e7603434f641",
   "metadata": {},
   "outputs": [],
   "source": [
    "# Find the temperatures to interpolate to get the offset\n",
    "T_at_tchange = w.get_data( 'T' )[particle_inds,valid_inds][valid_near_tchange]\n",
    "T_after_tchange = w.get_data( 'T' )[particle_inds,valid_inds-1][valid_near_tchange]\n",
    "logT_interp = np.log10( np.array([ T_at_tchange, T_after_tchange ]).transpose() )"
   ]
  },
  {
   "cell_type": "code",
   "execution_count": null,
   "id": "34c5af5d-3a9e-4034-8ac7-a310edfe750a",
   "metadata": {},
   "outputs": [],
   "source": [
    "# Find the times to interpolate to get the offset\n",
    "t_tchange = w.get_data( t_tchange_key )\n",
    "t_tchange_at_tchange = t_tchange[particle_inds,valid_inds][valid_near_tchange]\n",
    "t_tchange_after_tchange = t_tchange[particle_inds,valid_inds-1][valid_near_tchange]\n",
    "t_tchange_interp = np.array([ t_tchange_at_tchange, t_tchange_after_tchange ]).transpose()\n",
    "t_tchange = w.get_data( t_tchange_key )[particle_inds]"
   ]
  },
  {
   "cell_type": "code",
   "execution_count": null,
   "id": "a574f70f-882c-4e32-8c0d-7f467cdbe514",
   "metadata": {},
   "outputs": [],
   "source": [
    "if pm['central_indices'] == 'tcools_inds':\n",
    "    # Get the offset\n",
    "    time_offsets = []\n",
    "    n_wrong = 0\n",
    "    for i, tchange_interp_i in enumerate( tqdm.tqdm( t_tchange_interp ) ):\n",
    "        interp_fn = scipy.interpolate.interp1d( logT_interp[i], t_tchange_interp[i],  )\n",
    "        try:\n",
    "            time_offsets.append( interp_fn( pm['logTcools'] ) )\n",
    "        except ValueError:\n",
    "            time_offsets.append( np.nan )\n",
    "            n_wrong += 1\n",
    "\n",
    "    time_offsets = np.array( time_offsets )\n",
    "    print( n_wrong, n_wrong / t_tchange_interp.shape[0] )\n",
    "\n",
    "    time_offsets_all = np.full( particle_inds.size, np.nan )\n",
    "    time_offsets_all[valid_near_tchange] = time_offsets\n",
    "\n",
    "    t_tchange_corrected = t_tchange - time_offsets_all[:,np.newaxis]\n",
    "\n",
    "    # The below code shows individual cases where tchange appears to be calculated wrong\n",
    "    if np.isnan( time_offsets ).sum() > 0:\n",
    "        i = np.argmax( time_offsets )\n",
    "        weird_original_ind = particle_inds[valid_near_tchange][i]\n",
    "        print( np.log10( w.get_data( 'T' )[weird_original_ind] )[inds[weird_original_ind]-2:inds[weird_original_ind]+1] )\n",
    "else:\n",
    "    t_tchange_corrected = t_tchange"
   ]
  },
  {
   "cell_type": "markdown",
   "id": "4fd221db-1f03-4231-985d-2b9b326ffd19",
   "metadata": {},
   "source": [
    "## Get Data"
   ]
  },
  {
   "cell_type": "code",
   "execution_count": null,
   "id": "06bd3305-a123-4d34-8ed2-845e3864089a",
   "metadata": {},
   "outputs": [],
   "source": [
    "w.data_masker.clear_masks()\n",
    "w.data_masker.mask_data( 'n_out', -1, 1 ) # Only include particles that have never left the main galaxy\n",
    "w.data_masker.mask_data( 'PType', data_value=0 )"
   ]
  },
  {
   "cell_type": "code",
   "execution_count": null,
   "id": "ab79983a-de9e-4e2c-a4b0-6c241db624b5",
   "metadata": {},
   "outputs": [],
   "source": [
    "ds = []\n",
    "for i, t_frame in enumerate( tqdm.tqdm( t_movie ) ):\n",
    "\n",
    "    t_frame_inds = np.argmin( np.abs( t_tchange_corrected - t_frame ), axis=1 )\n",
    "\n",
    "    # Prepare to mask\n",
    "    if len( w.data_masker.masks ) == 3:\n",
    "        del w.data_masker.masks[2]\n",
    "\n",
    "    # Mask data that's out of bounds\n",
    "    out_of_bounds = t_frame_inds <= 0\n",
    "    out_of_bounds_full = np.zeros( w.n_particles ).astype( 'bool' )\n",
    "    out_of_bounds_full[particle_inds] = out_of_bounds\n",
    "    out_of_bounds_mask = np.tile( out_of_bounds_full, ( w.n_snaps, 1 ) ).transpose()\n",
    "    w.data_masker.mask_data( 'out_of_bounds', custom_mask=out_of_bounds_mask,  )\n",
    "\n",
    "    # Base parameters\n",
    "    d = {}\n",
    "    for key in [ 'Rx', 'Ry', 'Rz', 'M', 'Den', 'T', 'Jz/Jmag', 'ThetaJ', 'PhiJ', 'Jmag', 'Jx', 'Jy', 'Jz' ]:\n",
    "        d[key] = w.get_selected_data( key, compress=False )[particle_inds,t_frame_inds].compressed()\n",
    "\n",
    "    # Volume and smoothing length\n",
    "    den_msunkpc3 = ( d['Den']*unyt.mp/unyt.cm**3  ).to( 'Msun/kpc**3' )\n",
    "    d['Vol'] = d['M'] * unyt.Msun / den_msunkpc3\n",
    "    d['h'] = ( 3. * d['Vol'] / 4. / np.pi )**(1./3.)\n",
    "\n",
    "    ds.append( d )"
   ]
  },
  {
   "cell_type": "markdown",
   "id": "9e134428-582d-493f-b81d-f0b12c037f3e",
   "metadata": {},
   "source": [
    "## Make Frames"
   ]
  },
  {
   "cell_type": "code",
   "execution_count": null,
   "id": "9b6e66c2-76dd-45f1-98d3-d7d1505bb465",
   "metadata": {},
   "outputs": [],
   "source": [
    "# Frame and scalebar size objects\n",
    "def round_down(num, divisor):\n",
    "    return num - (num%divisor)"
   ]
  },
  {
   "cell_type": "code",
   "execution_count": null,
   "id": "62b0420c-14d7-4181-8ae1-84a772eb2d0f",
   "metadata": {},
   "outputs": [],
   "source": [
    "# The t_movie cut is set to be useless by default.\n",
    "lim = np.max( [ np.nanpercentile( np.abs( ds[i]['Rx'] ), 95 ) for i in np.arange(len(ds))[(t_movie >= -0.5)&(t_movie <=0.2)] ] )"
   ]
  },
  {
   "cell_type": "code",
   "execution_count": null,
   "id": "83cc19c7-c453-4987-a5e0-cf502101cb38",
   "metadata": {},
   "outputs": [],
   "source": [
    "for data_key in [ 'Jz/Jmag', 'T' ]:\n",
    "\n",
    "    cmap, norm = get_cmap_and_norm( data_key )\n",
    "\n",
    "    i_focused = 0\n",
    "\n",
    "    for i, d in enumerate( tqdm.tqdm( ds ) ):\n",
    "        \n",
    "        # DEBUG\n",
    "        if i not in [ 150, ]:\n",
    "            continue\n",
    "\n",
    "        fig = plt.figure( figsize=(12,10), facecolor='k' )\n",
    "        ax = plt.gca()\n",
    "\n",
    "        # Point size\n",
    "        if len( d['M'] ) > 0:\n",
    "            width_in_data = 2 * lim\n",
    "            width_in_pixels = ax.get_window_extent().width\n",
    "            pixels_to_points = fig.dpi / 72.\n",
    "            scale = 10.\n",
    "            radius = d['h'] * ( width_in_pixels / width_in_data ) * pixels_to_points * scale\n",
    "            s = ( radius )**2.\n",
    "\n",
    "            # Colors\n",
    "            colors = cmap( norm( d[data_key] ) )\n",
    "\n",
    "            # Alpha\n",
    "            if pm['variable_alpha']:\n",
    "                column_den = d['M'] / d['h']**2.\n",
    "                alpha = plt_colors.LogNorm( vmin=np.nanmin( column_den ), vmax=np.nanmax( column_den ) )( column_den ) * 0.065 * ( 50000 / w.n_particles)\n",
    "                alpha[alpha>1.] = 1.\n",
    "                alpha[alpha<0.] = 0.\n",
    "                colors[:,3] = alpha\n",
    "            else:\n",
    "                colors[:,3] = 0.01\n",
    "\n",
    "            # Plot itself\n",
    "            ax.scatter(\n",
    "                d['Rx'],\n",
    "                d['Rz'],\n",
    "                s = s,\n",
    "                c = colors,\n",
    "                edgecolors = 'none',\n",
    "            )\n",
    "\n",
    "        # Scale bar\n",
    "        size = round_down( min( 30., 0.95 * lim ), 10 )\n",
    "        if np.isclose( size, 0. ):\n",
    "            size = 10.\n",
    "        xy = ( -size, -0.95*lim )\n",
    "        line = ax.plot(\n",
    "            xy[0] + np.array([ 0., size ]),\n",
    "            [ xy[1], xy[1] ],\n",
    "            linewidth = 10,\n",
    "            color = 'w',\n",
    "            path_effects = [\n",
    "                path_effects.Stroke(linewidth=12, foreground='black'),\n",
    "                path_effects.Normal()\n",
    "            ]\n",
    "        )\n",
    "        text = ax.annotate(\n",
    "            text = '{:.2g} kpc'.format( size ),\n",
    "            xy = xy,\n",
    "            xycoords = 'data',\n",
    "            xytext = ( 5, 10 ),\n",
    "            textcoords = 'offset points',\n",
    "            va = 'bottom',\n",
    "            ha = 'left',\n",
    "            color = 'w',\n",
    "            fontsize = 42,\n",
    "        )\n",
    "        text.set_path_effects([\n",
    "            path_effects.Stroke(linewidth=2.5, foreground='black'),\n",
    "            path_effects.Normal()\n",
    "        ])\n",
    "\n",
    "        # Plot label\n",
    "        annotate_label = (\n",
    "            r'$t - ' +\n",
    "            helpers.get_tchange_label( pm )[1:] +\n",
    "            '= {} Myrs'.format( int( t_movie[i]*1e3 ) )\n",
    "        )\n",
    "        text = ax.annotate(\n",
    "            text = annotate_label,\n",
    "            xy = ( 1, 1 ),\n",
    "            xycoords = 'axes fraction',\n",
    "            xytext = ( -10, -10 ),\n",
    "            textcoords = 'offset points',\n",
    "            va = 'top',\n",
    "            ha = 'right',\n",
    "            color = 'w',\n",
    "            fontsize = 42,\n",
    "        )\n",
    "        text.set_path_effects([\n",
    "            path_effects.Stroke(linewidth=2.5, foreground='black'),\n",
    "            path_effects.Normal()\n",
    "        ])\n",
    "        \n",
    "        # Temperature\n",
    "        if len( d['T'] ) > 0:\n",
    "            temp_label = r'$\\langle \\log (T/{\\rm K}) \\rangle =' + py2tex.to_tex_scientific_notation( np.nanmedian( np.log10( d['T'] ) ), sig_figs=2 ) + r'$'\n",
    "            text = ax.annotate(\n",
    "                text = temp_label,\n",
    "                xy = ( 1, 0 ),\n",
    "                xycoords = 'axes fraction',\n",
    "                xytext = ( -10, 10 ),\n",
    "                textcoords = 'offset points',\n",
    "                va = 'bottom',\n",
    "                ha = 'right',\n",
    "                color = 'w',\n",
    "                fontsize = 34,\n",
    "            )\n",
    "            text.set_path_effects([\n",
    "                path_effects.Stroke(linewidth=2, foreground='black'),\n",
    "                path_effects.Normal()\n",
    "            ])\n",
    "\n",
    "        # Limits\n",
    "        ax.set_xlim( -lim, lim )\n",
    "        ax.set_ylim( -lim, lim )\n",
    "        ax.set_aspect( 'equal' )\n",
    "\n",
    "        # Ticks\n",
    "        plt.tick_params(\n",
    "            which = 'both',\n",
    "            left = False,\n",
    "            labelleft = False,\n",
    "            bottom = False,\n",
    "            labelbottom = False,\n",
    "        )\n",
    "\n",
    "        # Change colors\n",
    "        ax.set_facecolor( 'k' )\n",
    "        plt.setp( ax.spines.values(), color='w' )\n",
    "        [m.set_linewidth(3) for m in ax.spines.values()]\n",
    "\n",
    "        save_file_tag = {\n",
    "            'T': '',\n",
    "            'Jz/Jmag': '_alignment',\n",
    "        }[data_key]\n",
    "        plotting.save_fig(\n",
    "            out_dir = os.path.join( pm['data_dir'], 'projected_frames' ),\n",
    "            save_file = '{}{}_{:0>3d}.png'.format( pm['variation'], save_file_tag, i ),\n",
    "            fig = fig,\n",
    "            resolution = 150.,\n",
    "        )\n",
    "\n",
    "        # Save movie focused on time of cooling or accreting\n",
    "        if np.abs( t_movie[i] ) <= 0.150:\n",
    "            plotting.save_fig(\n",
    "                out_dir = os.path.join( pm['data_dir'], 'projected_frames' ),\n",
    "                save_file = '{}{}_focused_{:0>3d}.png'.format( pm['variation'], save_file_tag, i_focused ),\n",
    "                fig = fig,\n",
    "                resolution = 150.,\n",
    "            )\n",
    "            i_focused += 1\n",
    "\n",
    "        plt.close()"
   ]
  },
  {
   "cell_type": "markdown",
   "id": "e0230cb8-0d5d-43f0-ab72-742dbe91ee5d",
   "metadata": {},
   "source": [
    "## On-Sky Projection"
   ]
  },
  {
   "cell_type": "code",
   "execution_count": null,
   "id": "05c160db-79f0-46c1-80bd-8e689fc63658",
   "metadata": {},
   "outputs": [],
   "source": [
    "def angular_momentum_projection( ax, d, img_proj, vmin=None, vmax=None, n_bins=50, img=True, contour=False, q_levels=[ 50, ], colors=[ 'k', ], upsample=None, smooth=None, outline=False, outline_linewidth=5.5, norm=None ):\n",
    "    \n",
    "    ra_edges = np.linspace( -np.pi, np.pi, n_bins )\n",
    "    cosdec_edges = np.linspace( -1, 1, n_bins )\n",
    "\n",
    "    # Make the histogram\n",
    "    hist2d, ra_edges, da_edges = np.histogram2d(\n",
    "        d['PhiJ'],\n",
    "        np.cos( d['ThetaJ'] ),\n",
    "        bins = [ ra_edges, cosdec_edges ],\n",
    "        weights = d['M'],\n",
    "    )\n",
    "    \n",
    "    # Upsample and smooth\n",
    "    if upsample is not None:\n",
    "        hist2d = scipy.ndimage.zoom( hist2d, upsample )\n",
    "        ra_edges = np.linspace( -np.pi, np.pi, ( n_bins - 1)*upsample + 1 )\n",
    "        cosdec_edges = np.linspace( -1, 1, ( n_bins - 1)*upsample + 1 )\n",
    "    if smooth is not None:\n",
    "        if upsample is not None:                                                   \n",
    "            sigma = upsample * smooth\n",
    "        else:\n",
    "            sigma = smooth\n",
    "        hist2d = scipy.ndimage.filters.gaussian_filter( hist2d, sigma )\n",
    "        \n",
    "    # Get centers\n",
    "    ra_centers = 0.5 * ( ra_edges[1:] + ra_edges[:-1] ) * 180. / np.pi\n",
    "    dec_edges = np.pi / 2. - np.arccos( cosdec_edges )\n",
    "    dec_edges *= 180. / np.pi\n",
    "    dec_centers = 0.5 * ( dec_edges[1:] + dec_edges[:-1] )\n",
    "\n",
    "    # Plot it\n",
    "    if img:\n",
    "        ax.pcolormesh(\n",
    "            ra_centers,\n",
    "            dec_centers,\n",
    "            hist2d.transpose(),\n",
    "            transform = img_proj,\n",
    "            cmap = matplotlib.cm.cubehelix_r,\n",
    "            shading = 'nearest',\n",
    "            vmin = vmin,\n",
    "            vmax = vmax,\n",
    "            norm = norm,\n",
    "        )\n",
    "    if contour:\n",
    "        \n",
    "        if q_levels is not None:\n",
    "            c_calc = ContourCalc( hist2d )\n",
    "            levels = c_calc.get_level( q_levels )\n",
    "        else:\n",
    "            levels = None\n",
    "            \n",
    "        contour = ax.contour(\n",
    "            ra_centers,\n",
    "            dec_centers,\n",
    "            hist2d.transpose(),\n",
    "            transform = img_proj,\n",
    "            colors = colors,\n",
    "            levels = levels,\n",
    "            linewidths = 3,\n",
    "        )\n",
    "                \n",
    "        if outline:\n",
    "            contour.collections[0].set_path_effects([\n",
    "                path_effects.Stroke(linewidth=outline_linewidth, foreground='k'),\n",
    "                path_effects.Normal()\n",
    "            ])\n",
    "            \n",
    "    return hist2d"
   ]
  },
  {
   "cell_type": "code",
   "execution_count": null,
   "id": "73ec3bf5-87a2-4686-ac34-267885c86077",
   "metadata": {},
   "outputs": [],
   "source": [
    "def plot_total_angular_momentum( ax, d, img_proj, color='k', edgecolor='k', linewidth=7, marker='x', s=100, zorder=100, **kwargs ):\n",
    "    \n",
    "    # Plot the direction of the total angular momentum of the infalling gas\n",
    "    jvec = np.array([\n",
    "        d['Jx'],\n",
    "        d['Jy'],\n",
    "        d['Jz'],\n",
    "    ])\n",
    "    jvec = jvec.transpose()\n",
    "    jmean = ( jvec * d['M'][:,np.newaxis] ).sum( axis=0 ) / d['M'].sum()\n",
    "    jmean /= np.linalg.norm( jmean )\n",
    "    phi_mean = np.arctan2( jmean[1], jmean[0] )\n",
    "    theta_mean = np.arccos( jmean[2] )\n",
    "    ra_mean = phi_mean * 180. / np.pi\n",
    "    dec_mean = ( np.pi / 2. - theta_mean ) * 180. / np.pi\n",
    "    totmarker = ax.scatter(\n",
    "        [ ra_mean, ],\n",
    "        [ dec_mean, ],\n",
    "        transform = img_proj,\n",
    "        zorder = zorder,\n",
    "        color = color,\n",
    "        marker = marker,\n",
    "        s = s,\n",
    "        edgecolor = edgecolor,\n",
    "        linewidth = linewidth,\n",
    "        **kwargs\n",
    "    )"
   ]
  },
  {
   "cell_type": "code",
   "execution_count": null,
   "id": "61ca049e-7176-45ce-9751-c9d83c1698d1",
   "metadata": {},
   "outputs": [],
   "source": [
    "def onsky_plot_auxilliaries( i, d, proj, img_proj, ax=None, label=True, label_color='k', label_outline_color='w', label_outline_linewidth=3.5 ):\n",
    "    \n",
    "    if ax is None:\n",
    "        fig = plt.figure( figsize=(12,12), facecolor='w' )\n",
    "        ax = plt.axes( projection=proj )\n",
    "\n",
    "    # Gridlines\n",
    "    ra_gridlines = np.arange( -1., 1., 0.25 ) * 180.\n",
    "    jzj_gridlines = np.arange(-1., 1.01, 0.5 )\n",
    "    dec_gridlines = ( np.pi/2. - np.arccos( jzj_gridlines ) ) * 180. / np.pi\n",
    "    ax.gridlines( crs=img_proj, color='k', xlocs=ra_gridlines, ylocs=dec_gridlines, )\n",
    "    gl = ax._gridliners[0].n_steps = 10000\n",
    "\n",
    "    # Gridline labels\n",
    "    # DEC\n",
    "    for j, dec_gridline in enumerate( dec_gridlines ):\n",
    "        \n",
    "        # jz/j labels\n",
    "        text = '{:.1f}'.format( jzj_gridlines[j] )\n",
    "        va = 'top'\n",
    "        yoffset = -5\n",
    "        ha = 'left'\n",
    "        xoffset = 5\n",
    "        if j == 0:\n",
    "            text = r'$j_z / \\vert j \\vert$ = ' + text\n",
    "            va = 'bottom'\n",
    "            yoffset = 5\n",
    "            ha = 'center'\n",
    "            xoffset = 3\n",
    "        text = ax.annotate(\n",
    "            text = text,\n",
    "            xy = ( 180., dec_gridline ),\n",
    "            xycoords = img_proj._as_mpl_transform( ax ),\n",
    "            xytext = ( xoffset, yoffset ),\n",
    "            textcoords = 'offset points',\n",
    "            fontsize = 18,\n",
    "            va = va,\n",
    "            ha = ha,\n",
    "        )\n",
    "        text.set_path_effects([\n",
    "            path_effects.Stroke(linewidth=3, foreground='w'),\n",
    "            path_effects.Normal()\n",
    "        ])\n",
    "        \n",
    "        # theta labels\n",
    "        theta = np.arccos( jzj_gridlines[j] ) * 180. / np.pi\n",
    "        text = '{:.0f}'.format( theta ) + r'$\\degree$'\n",
    "        va = 'bottom'\n",
    "        yoffset = 5\n",
    "        ha = 'left'\n",
    "        xoffset = 5\n",
    "        if j == 0:\n",
    "            text = r'$\\theta$ = ' + text\n",
    "            va = 'top'\n",
    "            yoffset = -5\n",
    "            ha = 'center'\n",
    "            xoffset = 13\n",
    "        elif j == len( jzj_gridlines ) - 1:\n",
    "            continue\n",
    "        text = ax.annotate(\n",
    "            text = text,\n",
    "            xy = ( 0., dec_gridline ),\n",
    "            xycoords = img_proj._as_mpl_transform( ax ),\n",
    "            xytext = ( xoffset, yoffset ),\n",
    "            textcoords = 'offset points',\n",
    "            fontsize = 18,\n",
    "            va = va,\n",
    "            ha = ha,\n",
    "        )\n",
    "        \n",
    "    # RA\n",
    "    for j, ra_gridline in enumerate( ra_gridlines ):\n",
    "        ra_label = ra_gridline\n",
    "        if ra_label < 0.:\n",
    "            ra_label += 360.\n",
    "        text = '{:.0f}'.format( ra_label ) + r'$\\degree$'\n",
    "        if np.isclose( ra_gridline, 0. ):\n",
    "            text = r'$\\phi$ = ' + text\n",
    "        if j in [ 1, 5, 6 ]:\n",
    "            ha = 'left'\n",
    "            xoffset = 5\n",
    "        else:\n",
    "            ha = 'right'\n",
    "            xoffset = -5\n",
    "        if j in [ 0, 4 ]:\n",
    "            va = 'center'\n",
    "            yoffset = 0\n",
    "        else:\n",
    "            va = 'bottom'\n",
    "            yoffset = 5\n",
    "        text = ax.annotate(\n",
    "            text = text,\n",
    "            xy = ( ra_gridline, -0.65 * 90. ),\n",
    "            xycoords = img_proj._as_mpl_transform( ax ),\n",
    "            xytext = ( xoffset, yoffset ),\n",
    "            textcoords = 'offset points',\n",
    "            fontsize = 18,\n",
    "            ha = ha,\n",
    "            va = va,\n",
    "        )\n",
    "\n",
    "    # Fill in the empty spot in the center\n",
    "    ax.scatter(\n",
    "        [ 0., ],\n",
    "        [ 90. ],\n",
    "        color = 'k',\n",
    "        transform = img_proj,\n",
    "    )\n"
   ]
  },
  {
   "cell_type": "code",
   "execution_count": null,
   "id": "ea185a9b-9d3e-405c-9d47-22420666fc02",
   "metadata": {},
   "outputs": [],
   "source": [
    "def angular_momentum_projection_plot( i, proj_str='AzimuthalEquidistant', img_proj='rotated', ax=None, vmin=None, vmax=None, n_bins=50, norm=None, ):\n",
    "    \n",
    "    d = ds[i]\n",
    "\n",
    "    # Set up coordinates\n",
    "    proj = getattr( ccrs, proj_str )()\n",
    "    if img_proj == 'rotated':\n",
    "        img_proj = ccrs.RotatedPole(pole_longitude=0., pole_latitude=0.)\n",
    "    else:\n",
    "        img_proj = ccrs.PlateCarree()\n",
    "     \n",
    "    # Data itself\n",
    "    hist2d = angular_momentum_projection( ax, d, img_proj, vmin, vmax, n_bins, norm=norm )\n",
    "    \n",
    "    onsky_plot_auxilliaries( i, d, proj, img_proj, ax )\n",
    "\n",
    "    return hist2d\n",
    "    "
   ]
  },
  {
   "cell_type": "code",
   "execution_count": null,
   "id": "b87e1845-5299-409f-9c1c-eb3f0c53a431",
   "metadata": {},
   "outputs": [],
   "source": [
    "# Set up coordinates\n",
    "proj = ccrs.AzimuthalEquidistant()\n",
    "img_proj = ccrs.RotatedPole(pole_longitude=0., pole_latitude=0.)"
   ]
  },
  {
   "cell_type": "markdown",
   "id": "c1adb608-ce68-4658-8ccb-ce34ef601f58",
   "metadata": {},
   "source": [
    "### Multipanel"
   ]
  },
  {
   "cell_type": "code",
   "execution_count": null,
   "id": "b6651dcd-0a35-41f7-9ed4-248240ffe65f",
   "metadata": {},
   "outputs": [],
   "source": [
    "# For colormap\n",
    "z_min = -1.\n",
    "z_max = -z_min\n",
    "z_width = z_max - z_min"
   ]
  },
  {
   "cell_type": "code",
   "execution_count": null,
   "id": "9fcc08b4-883e-45b8-9952-1bf37c37cdab",
   "metadata": {},
   "outputs": [],
   "source": [
    "fig, axs = plt.subplots(\n",
    "    nrows = 3,\n",
    "    ncols = 2,\n",
    "    subplot_kw = { 'projection': ccrs.AzimuthalEquidistant() },\n",
    "    figsize = (15.75, 22.75),\n",
    "    facecolor = 'w',\n",
    ")\n",
    "fig.tight_layout()\n",
    "\n",
    "# vmin = None\n",
    "vmin = 7000\n",
    "# vmax = None\n",
    "vmax = 4.7e6\n",
    "axs_list = [\n",
    "    axs[0][0],\n",
    "    axs[0][1],\n",
    "    axs[1][0],\n",
    "    axs[1][1],\n",
    "    axs[2][0],\n",
    "    axs[2][1],\n",
    "]\n",
    "hist2ds = []\n",
    "for j, i in enumerate( tqdm.tqdm([ 50, 100, 135, 145, 150, 165 ]) ):\n",
    "    \n",
    "    ax = axs_list[j]\n",
    "    \n",
    "    hist2d_i = angular_momentum_projection( ax, ds[i], img_proj=img_proj, n_bins=64, norm=matplotlib.colors.LogNorm( vmin=vmin, vmax=vmax ) )\n",
    "    hist2ds.append( hist2d_i )\n",
    "\n",
    "    onsky_plot_auxilliaries( i, ds[i], proj, img_proj, axs_list[j], )\n",
    "    \n",
    "    # Plot label\n",
    "    annotate_label = (\n",
    "        r'$t - ' +\n",
    "        helpers.get_tchange_label( pm )[1:] +\n",
    "        '= {} Myrs'.format( int( t_movie[i]*1e3 ) )\n",
    "    )\n",
    "    text = axs_list[j].annotate(\n",
    "        text = annotate_label,\n",
    "        xy = ( 0, 1 ),\n",
    "        xycoords = 'axes fraction',\n",
    "        xytext = ( 5, -5 ),\n",
    "        textcoords = 'offset points',\n",
    "        va = 'top',\n",
    "        ha = 'left',\n",
    "        color = 'k',\n",
    "        fontsize = 19,\n",
    "    )\n",
    "    text.set_path_effects([\n",
    "        path_effects.Stroke(linewidth=3.5, foreground='w'),\n",
    "        path_effects.Normal()\n",
    "    ])\n",
    "    \n",
    "#     # Add an underline\n",
    "#     text_extent = text.get_window_extent( fig.canvas.renderer )\n",
    "#     text_extent = text_extent.transformed( ax.transData )\n",
    "#     axs_list[j].plot(\n",
    "#         [ text_extent.xmin, text_extent.xmax ],\n",
    "#         [ text_extent.ymin, text_extent.ymin ],\n",
    "#         transform = ax.transData,\n",
    "#         linewidth = 5,\n",
    "#         color = 'k',\n",
    "#     )\n",
    "    \n",
    "    plot_total_angular_momentum( axs_list[j], ds[i], img_proj, edgecolor='w', linewidth=2, marker='o', s=150, )\n",
    "    \n",
    "plotting.save_fig(\n",
    "    out_dir = os.path.join( pm['figure_dir'], 'on_sky' ),\n",
    "    save_file = 'angular_momentum.png',\n",
    "    fig = fig,\n",
    "    resolution = 150.,\n",
    ")"
   ]
  },
  {
   "cell_type": "code",
   "execution_count": null,
   "id": "becebc7b-d410-49eb-a565-0370066c0d13",
   "metadata": {},
   "outputs": [],
   "source": [
    "np.nanmin( [ _[_>0].min() for _ in hist2ds] )"
   ]
  },
  {
   "cell_type": "code",
   "execution_count": null,
   "id": "2bacd569-256e-47aa-80be-e650cf526f1c",
   "metadata": {},
   "outputs": [],
   "source": [
    "np.nanmax( hist2ds ) "
   ]
  },
  {
   "cell_type": "markdown",
   "id": "e3997118-45e5-4b66-9e3c-e73d87787448",
   "metadata": {},
   "source": [
    "### Contour"
   ]
  },
  {
   "cell_type": "code",
   "execution_count": null,
   "id": "fb7d32c2-3b3e-42e2-a39f-5609c519822f",
   "metadata": {},
   "outputs": [],
   "source": [
    "# For colormap\n",
    "z_min = -0.5\n",
    "z_max = -z_min\n",
    "z_width = z_max - z_min"
   ]
  },
  {
   "cell_type": "code",
   "execution_count": null,
   "id": "52d599d7-7eaa-42b3-91f4-98850972358a",
   "metadata": {},
   "outputs": [],
   "source": [
    "# Plot itself\n",
    "fig = plt.figure( figsize=(16,16), facecolor='w' )\n",
    "ax = plt.axes( projection=proj )\n",
    "\n",
    "t_min = -0.5\n",
    "t_max = 0.2\n",
    "interval = 1\n",
    "for i, t_i in enumerate( tqdm.tqdm( t_movie ) ):\n",
    "    \n",
    "    # Skip some contours\n",
    "    if i % interval != 0:\n",
    "        continue\n",
    "    if t_i < t_min or t_i > t_max:\n",
    "        continue\n",
    "\n",
    "    d = ds[i]\n",
    "    \n",
    "    color_value = ( t_movie[i] - z_min )/z_width\n",
    "    color_i = palettable.scientific.diverging.Roma_9.mpl_colormap( color_value )\n",
    "    \n",
    "    outline = i in [ 135, 150, 165 ]\n",
    "\n",
    "    hist2d_i = angular_momentum_projection( ax, d, img_proj, img=False, contour=True, q_levels=[ 50, ], colors=[ color_i, ], n_bins=128, upsample=3, smooth=2, outline=outline )\n",
    "    \n",
    "    if outline:\n",
    "        edgecolor = 'k'\n",
    "        zorder = 101\n",
    "    else:\n",
    "        edgecolor = 'none'\n",
    "        zorder = 100\n",
    "    plot_total_angular_momentum( ax, d, img_proj, color=color_i, marker='o', linewidth=1, edgecolor=edgecolor, s=200, zorder=zorder )\n",
    "\n",
    "onsky_plot_auxilliaries( i, d, proj, img_proj, ax, label=False )"
   ]
  },
  {
   "cell_type": "markdown",
   "id": "103531d5-c7c0-4edb-89ea-996b24b07365",
   "metadata": {},
   "source": [
    "If I wanted to focus on improving this plot, I would vary these.\n",
    "n_bins, upsample, smooth, t_min, t_max, z_min, interval"
   ]
  },
  {
   "cell_type": "code",
   "execution_count": null,
   "id": "39befc3e-f5df-4183-98a2-19e100b1ef09",
   "metadata": {},
   "outputs": [],
   "source": []
  }
 ],
 "metadata": {
  "kernelspec": {
   "display_name": "Python 3",
   "language": "python",
   "name": "python3"
  },
  "language_info": {
   "codemirror_mode": {
    "name": "ipython",
    "version": 3
   },
   "file_extension": ".py",
   "mimetype": "text/x-python",
   "name": "python",
   "nbconvert_exporter": "python",
   "pygments_lexer": "ipython3",
   "version": "3.9.1"
  }
 },
 "nbformat": 4,
 "nbformat_minor": 5
}
