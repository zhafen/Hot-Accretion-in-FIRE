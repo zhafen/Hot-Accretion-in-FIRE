{
 "cells": [
  {
   "cell_type": "code",
   "execution_count": 1,
   "metadata": {},
   "outputs": [],
   "source": [
    "import copy\n",
    "import numpy as np\n",
    "import sys"
   ]
  },
  {
   "cell_type": "code",
   "execution_count": 2,
   "metadata": {},
   "outputs": [],
   "source": [
    "import analysis_config"
   ]
  },
  {
   "cell_type": "code",
   "execution_count": 3,
   "metadata": {},
   "outputs": [],
   "source": [
    "import matplotlib\n",
    "import matplotlib.pyplot as plt\n",
    "import matplotlib.patches as mpatches\n",
    "import matplotlib.patheffects as path_effects\n",
    "import matplotlib.cm as cm"
   ]
  },
  {
   "cell_type": "code",
   "execution_count": 4,
   "metadata": {},
   "outputs": [],
   "source": [
    "import linefinder.analyze_data.worldlines as a_worldlines\n",
    "import linefinder.analyze_data.plot_worldlines as p_worldlines\n",
    "import linefinder.utils.presentation_constants as p_constants"
   ]
  },
  {
   "cell_type": "code",
   "execution_count": 5,
   "metadata": {},
   "outputs": [],
   "source": [
    "import galaxy_dive.analyze_data.ahf as analyze_ahf\n",
    "import galaxy_dive.plot_data.ahf as plot_ahf\n",
    "import galaxy_dive.analyze_data.particle_data as particle_data\n",
    "import galaxy_dive.plot_data.generic_plotter as generic_plotter\n",
    "import galaxy_dive.plot_data.plotting as plotting\n",
    "import galaxy_dive.utils.data_operations as data_operations\n",
    "import galaxy_dive.utils.executable_helpers as exec_helpers"
   ]
  },
  {
   "cell_type": "code",
   "execution_count": 6,
   "metadata": {},
   "outputs": [],
   "source": [
    "import linefinder.utils.file_management as file_management\n",
    "import linefinder.config as config"
   ]
  },
  {
   "cell_type": "markdown",
   "metadata": {},
   "source": [
    "# Load Data"
   ]
  },
  {
   "cell_type": "code",
   "execution_count": 14,
   "metadata": {},
   "outputs": [],
   "source": [
    "default_sim = 'm12i'\n",
    "default_snum = 600"
   ]
  },
  {
   "cell_type": "code",
   "execution_count": 15,
   "metadata": {},
   "outputs": [
    {
     "name": "stdout",
     "output_type": "stream",
     "text": [
      "Using sim m12i, snum 600\n"
     ]
    }
   ],
   "source": [
    "sim_name, snum = exec_helpers.choose_config_or_commandline(\n",
    "    [ default_sim, default_snum ]\n",
    ")\n",
    "print( 'Using sim {}, snum {}'.format( sim_name, snum ) )"
   ]
  },
  {
   "cell_type": "code",
   "execution_count": 16,
   "metadata": {},
   "outputs": [],
   "source": [
    "galdef = ''"
   ]
  },
  {
   "cell_type": "code",
   "execution_count": 17,
   "metadata": {},
   "outputs": [],
   "source": [
    "file_manager = file_management.FileManager( 'CGM_fate' )"
   ]
  },
  {
   "cell_type": "code",
   "execution_count": 18,
   "metadata": {},
   "outputs": [],
   "source": [
    "defaults = file_manager.get_linefinder_analysis_defaults(\n",
    "    '_hothaloacc',\n",
    "    sim_name = sim_name,\n",
    "    galdef = galdef\n",
    ")"
   ]
  },
  {
   "cell_type": "code",
   "execution_count": 19,
   "metadata": {},
   "outputs": [],
   "source": [
    "ind = defaults['ahf_index'] - snum"
   ]
  },
  {
   "cell_type": "code",
   "execution_count": 20,
   "metadata": {},
   "outputs": [
    {
     "data": {
      "text/plain": [
       "{'data_dir': '/scratch/03057/zhafen/linefinder_data/core/m12i_res7100/data',\n",
       " 'tag': 'm12i_hothaloacc',\n",
       " 'halo_data_dir': '/scratch/03057/zhafen/core/m12i_res7100/halo',\n",
       " 'ahf_index': 600,\n",
       " 'main_halo_id': 0}"
      ]
     },
     "execution_count": 20,
     "metadata": {},
     "output_type": "execute_result"
    }
   ],
   "source": [
    "defaults"
   ]
  },
  {
   "cell_type": "code",
   "execution_count": 21,
   "metadata": {},
   "outputs": [],
   "source": [
    "w = a_worldlines.Worldlines( **defaults )"
   ]
  },
  {
   "cell_type": "code",
   "execution_count": 22,
   "metadata": {},
   "outputs": [
    {
     "name": "stderr",
     "output_type": "stream",
     "text": [
      "FutureWarning: \n",
      "Passing list-likes to .loc or [] with any missing label will raise\n",
      "KeyError in the future, you can use .reindex() as an alternative.\n",
      "\n",
      "See the documentation here:\n",
      "https://pandas.pydata.org/pandas-docs/stable/indexing.html#deprecate-loc-reindex-listlike\n"
     ]
    }
   ],
   "source": [
    "w.retrieve_halo_data()"
   ]
  },
  {
   "cell_type": "code",
   "execution_count": 23,
   "metadata": {},
   "outputs": [
    {
     "name": "stdout",
     "output_type": "stream",
     "text": [
      "m12i_hothaloacc\n"
     ]
    }
   ],
   "source": [
    "print( w.tag )"
   ]
  },
  {
   "cell_type": "code",
   "execution_count": 24,
   "metadata": {},
   "outputs": [
    {
     "name": "stdout",
     "output_type": "stream",
     "text": [
      "$M_{\\rm h} = 10^{12} M_\\odot$, z=0.0\n"
     ]
    }
   ],
   "source": [
    "m_plot_label  = r'$M_{\\rm h} = 10^{' + '{:.02g}'.format( np.log10( w.m_vir[snum] ) )\n",
    "m_plot_label += '} M_\\odot$'\n",
    "plot_label = m_plot_label + ', z={:.02}'.format( w.redshift[snum] )\n",
    "print( plot_label )"
   ]
  },
  {
   "cell_type": "code",
   "execution_count": 25,
   "metadata": {},
   "outputs": [],
   "source": [
    "classification_list = copy.copy( p_constants.CLASSIFICATIONS_CGM_FATE )"
   ]
  },
  {
   "cell_type": "code",
   "execution_count": 26,
   "metadata": {},
   "outputs": [],
   "source": [
    "w_plotter = p_worldlines.WorldlinesPlotter( w, label=plot_label )"
   ]
  },
  {
   "cell_type": "code",
   "execution_count": 28,
   "metadata": {},
   "outputs": [],
   "source": [
    "s_data = particle_data.ParticleData(\n",
    "    sdir = file_manager.get_sim_dir( sim_name ),\n",
    "    snum = snum,\n",
    "    ptype = config.PTYPE_STAR,\n",
    "    halo_data_dir = file_manager.get_halo_dir( sim_name ),\n",
    "    main_halo_id = config.MAIN_MT_HALO_ID[sim_name],    \n",
    ")"
   ]
  },
  {
   "cell_type": "code",
   "execution_count": 29,
   "metadata": {},
   "outputs": [],
   "source": [
    "s_plotter = generic_plotter.GenericPlotter( s_data )"
   ]
  },
  {
   "cell_type": "markdown",
   "metadata": {},
   "source": [
    "### Create a circle to plot"
   ]
  },
  {
   "cell_type": "code",
   "execution_count": 30,
   "metadata": {},
   "outputs": [],
   "source": [
    "r_gal = w.r_gal[ind]"
   ]
  },
  {
   "cell_type": "code",
   "execution_count": 31,
   "metadata": {},
   "outputs": [],
   "source": [
    "circle = []\n",
    "for phi in np.linspace( 0., 2.*np.pi, 256 ):\n",
    "    \n",
    "    circle.append(\n",
    "        [ r_gal*np.cos(phi), r_gal*np.sin(phi), 0. ]\n",
    "    )\n",
    "    \n",
    "circle = np.array( circle )\n",
    "\n",
    "rotated_circle = data_operations.align_axes( circle, s_data.total_ang_momentum, )"
   ]
  },
  {
   "cell_type": "markdown",
   "metadata": {},
   "source": [
    "# Plot Setup"
   ]
  },
  {
   "cell_type": "code",
   "execution_count": 32,
   "metadata": {},
   "outputs": [],
   "source": [
    "r_vir = w.r_vir.values[ind]"
   ]
  },
  {
   "cell_type": "code",
   "execution_count": 33,
   "metadata": {},
   "outputs": [],
   "source": [
    "t_show_min = {\n",
    "    465 : 0.5,\n",
    "    172 : 0.25,\n",
    "    214 : 0.25,\n",
    "}\n",
    "t_show_max = {\n",
    "    465 : 1.0,\n",
    "    172 : 0.5,\n",
    "    214 : 0.5,\n",
    "}"
   ]
  },
  {
   "cell_type": "code",
   "execution_count": 34,
   "metadata": {},
   "outputs": [],
   "source": [
    "data_args = {\n",
    "    465 : { 'smooth_data' : True, 'smoothing_window_length' : 21 },\n",
    "    172 : { 'smooth_data' : True, 'smoothing_window_length' : 11 },\n",
    "    214 : { 'smooth_data' : True, 'smoothing_window_length' : 21 },\n",
    "}"
   ]
  },
  {
   "cell_type": "markdown",
   "metadata": {},
   "source": [
    "# Plot vs Time"
   ]
  },
  {
   "cell_type": "code",
   "execution_count": 35,
   "metadata": {},
   "outputs": [],
   "source": [
    "w.data_masker.clear_masks()"
   ]
  },
  {
   "cell_type": "code",
   "execution_count": 36,
   "metadata": {},
   "outputs": [
    {
     "name": "stderr",
     "output_type": "stream",
     "text": [
      "RuntimeWarning: Mean of empty slice\n"
     ]
    }
   ],
   "source": [
    "# Set limits\n",
    "y_max = np.nanpercentile( w.get_selected_data_over_time(\n",
    "    data_key = 'R',\n",
    "    snum = snum,\n",
    "    classification = 'is_CGM_IGM_accretion',\n",
    ")[:,0], 80. )*1.1\n",
    "y_max = w.r_vir.values[0]*1.5"
   ]
  },
  {
   "cell_type": "markdown",
   "metadata": {},
   "source": [
    "# Cooling Flow Investigation"
   ]
  },
  {
   "cell_type": "code",
   "execution_count": 37,
   "metadata": {},
   "outputs": [],
   "source": [
    "w.data_masker.clear_masks( True )"
   ]
  },
  {
   "cell_type": "code",
   "execution_count": 38,
   "metadata": {},
   "outputs": [],
   "source": [
    "w.data_masker.mask_data( 'PType', data_value=0 )"
   ]
  },
  {
   "cell_type": "code",
   "execution_count": 39,
   "metadata": {},
   "outputs": [
    {
     "name": "stderr",
     "output_type": "stream",
     "text": [
      "FutureWarning: \n",
      "Passing list-likes to .loc or [] with any missing label will raise\n",
      "KeyError in the future, you can use .reindex() as an alternative.\n",
      "\n",
      "See the documentation here:\n",
      "https://pandas.pydata.org/pandas-docs/stable/indexing.html#deprecate-loc-reindex-listlike\n"
     ]
    },
    {
     "ename": "KeyError",
     "evalue": "600",
     "output_type": "error",
     "traceback": [
      "\u001b[0;31m---------------------------------------------------------------------------\u001b[0m",
      "\u001b[0;31mKeyError\u001b[0m                                  Traceback (most recent call last)",
      "\u001b[0;32m<ipython-input-39-6600300da8a0>\u001b[0m in \u001b[0;36m<module>\u001b[0;34m\u001b[0m\n\u001b[1;32m     10\u001b[0m }\n\u001b[1;32m     11\u001b[0m \u001b[0;34m\u001b[0m\u001b[0m\n\u001b[0;32m---> 12\u001b[0;31m \u001b[0min_region_at_ind_tiled\u001b[0m \u001b[0;34m=\u001b[0m \u001b[0mnp\u001b[0m\u001b[0;34m.\u001b[0m\u001b[0mtile\u001b[0m\u001b[0;34m(\u001b[0m \u001b[0min_region_at_ind\u001b[0m\u001b[0;34m[\u001b[0m\u001b[0msnum\u001b[0m\u001b[0;34m]\u001b[0m\u001b[0;34m,\u001b[0m \u001b[0;34m(\u001b[0m \u001b[0mw\u001b[0m\u001b[0;34m.\u001b[0m\u001b[0mn_snaps\u001b[0m\u001b[0;34m,\u001b[0m \u001b[0;36m1\u001b[0m \u001b[0;34m)\u001b[0m \u001b[0;34m)\u001b[0m\u001b[0;34m.\u001b[0m\u001b[0mtranspose\u001b[0m\u001b[0;34m(\u001b[0m\u001b[0;34m)\u001b[0m\u001b[0;34m\u001b[0m\u001b[0;34m\u001b[0m\u001b[0m\n\u001b[0m\u001b[1;32m     13\u001b[0m \u001b[0mw\u001b[0m\u001b[0;34m.\u001b[0m\u001b[0mdata_masker\u001b[0m\u001b[0;34m.\u001b[0m\u001b[0mmask_data\u001b[0m\u001b[0;34m(\u001b[0m \u001b[0;34m'in_region'\u001b[0m\u001b[0;34m,\u001b[0m \u001b[0mcustom_mask\u001b[0m\u001b[0;34m=\u001b[0m\u001b[0mnp\u001b[0m\u001b[0;34m.\u001b[0m\u001b[0minvert\u001b[0m\u001b[0;34m(\u001b[0m \u001b[0min_region_at_ind_tiled\u001b[0m \u001b[0;34m)\u001b[0m \u001b[0;34m)\u001b[0m\u001b[0;34m\u001b[0m\u001b[0;34m\u001b[0m\u001b[0m\n",
      "\u001b[0;31mKeyError\u001b[0m: 600"
     ]
    }
   ],
   "source": [
    "r_rvir = w.get_processed_data(\n",
    "    'R',\n",
    "    scale_key = 'Rvir',\n",
    "    scale_a_power = 1.,\n",
    "    scale_h_power = -1.,\n",
    ")\n",
    "in_region_at_ind = {\n",
    "    465: np.logical_and( ( 0.2 < r_rvir[:,ind] ), ( r_rvir[:,ind] < 0.3 ) ),\n",
    "    172: np.logical_and( ( 0.4 < r_rvir[:,ind] ), ( r_rvir[:,ind] < 0.5 ) ),\n",
    "}\n",
    "\n",
    "in_region_at_ind_tiled = np.tile( in_region_at_ind[snum], ( w.n_snaps, 1 ) ).transpose()\n",
    "w.data_masker.mask_data( 'in_region', custom_mask=np.invert( in_region_at_ind_tiled ) )"
   ]
  },
  {
   "cell_type": "code",
   "execution_count": null,
   "metadata": {},
   "outputs": [],
   "source": [
    "import matplotlib.cm as cm\n",
    "import matplotlib.colors as plt_colors"
   ]
  },
  {
   "cell_type": "code",
   "execution_count": null,
   "metadata": {},
   "outputs": [],
   "source": [
    "import galaxy_dive.plot_data.pu_colormaps as pu_cm  "
   ]
  },
  {
   "cell_type": "code",
   "execution_count": null,
   "metadata": {},
   "outputs": [],
   "source": [
    "t = w.get_data( 'time' )"
   ]
  },
  {
   "cell_type": "code",
   "execution_count": null,
   "metadata": {},
   "outputs": [],
   "source": [
    "x_min = t[ind]\n",
    "x_maxes = {\n",
    "    465: 12.5,\n",
    "    172: 5,\n",
    "}\n",
    "x_max = x_maxes[snum]\n",
    "x_range = [ x_min, x_max ]"
   ]
  },
  {
   "cell_type": "code",
   "execution_count": null,
   "metadata": {},
   "outputs": [],
   "source": [
    "w.data_masker.mask_data( 'time', x_min, x_max, tile_data=True )"
   ]
  },
  {
   "cell_type": "code",
   "execution_count": null,
   "metadata": {},
   "outputs": [],
   "source": [
    "n_snaps = ( ( t > x_min ) & ( t < x_max ) ).sum()"
   ]
  },
  {
   "cell_type": "code",
   "execution_count": null,
   "metadata": {},
   "outputs": [],
   "source": [
    "w.calc_phi( s_data.total_ang_momentum )"
   ]
  },
  {
   "cell_type": "code",
   "execution_count": null,
   "metadata": {},
   "outputs": [],
   "source": [
    "ts = w.get_data('time')\n",
    "Rs = w.data_masker.get_selected_data_over_time('R',snum=465)\n",
    "Ts = w.data_masker.get_selected_data_over_time('T',snum=465)\n",
    "Ms = w.data_masker.get_selected_data_over_time('M',snum=465)\n",
    "Phis = w.data_masker.get_selected_data_over_time('Phi',snum=465)"
   ]
  },
  {
   "cell_type": "code",
   "execution_count": null,
   "metadata": {},
   "outputs": [],
   "source": [
    "tmin = 10.8; tmax = 13.\n",
    "t_inds = ((ts > tmin)*(ts<tmax)).nonzero()[0]"
   ]
  },
  {
   "cell_type": "code",
   "execution_count": null,
   "metadata": {},
   "outputs": [],
   "source": [
    "t_fracs = (new_ts-tmin)/(tmax-tmin)\n",
    "oversample = lambda y,dt,tmin=tmin,tmax=tmax,ts=ts[t_inds]: np.interp(np.arange(tmin,tmax,dt),ts[::-1],y[::-1])"
   ]
  },
  {
   "cell_type": "code",
   "execution_count": null,
   "metadata": {},
   "outputs": [],
   "source": [
    "#Ls = w.data_masker.get_selected_data_over_time('Lmag',snum=465)"
   ]
  },
  {
   "cell_type": "code",
   "execution_count": null,
   "metadata": {},
   "outputs": [],
   "source": [
    "import numpy as np\n",
    "import pylab as pl\n",
    "import pdb\n",
    "from numpy import log10 as log\n",
    "cmap = matplotlib.cm.viridis"
   ]
  },
  {
   "cell_type": "code",
   "execution_count": null,
   "metadata": {},
   "outputs": [],
   "source": [
    "inds = np.random.randint(Rs.shape[0],size=20)\n",
    "fig = pl.figure(figsize=(12,5))\n",
    "for ind in inds:\n",
    "    pl.scatter(new_ts, oversample(Rs[ind,t_inds]),c=cmap(t_fracs),s=1)\n",
    "pl.ylim(0,100)\n",
    "pl.xlabel(r'time [Gyr]')\n",
    "pl.ylabel(r'radius [kpc]')\n",
    "pl.savefig('../figures/r_vs_t.pdf',bbox_inches='tight')"
   ]
  },
  {
   "cell_type": "code",
   "execution_count": null,
   "metadata": {},
   "outputs": [],
   "source": [
    "inds = np.random.randint(Rs.shape[0],size=10)\n",
    "fig = pl.figure(figsize=(12,5))\n",
    "for ind in inds:\n",
    "    pl.scatter(oversample(Rs[ind,t_inds]),log(oversample(Ts[ind,t_inds])),c=cmap(t_fracs),s=1)\n",
    "pl.ylim(3,7)\n",
    "pl.xlim(5,100)\n",
    "pl.semilogx()\n",
    "pl.ylabel(r'log temperature [K]')\n",
    "pl.xlabel(r'radius [kpc]')\n",
    "pl.savefig('../figures/T_vs_r.pdf',bbox_inches='tight')\n",
    "fig"
   ]
  },
  {
   "cell_type": "code",
   "execution_count": null,
   "metadata": {},
   "outputs": [],
   "source": [
    "inds = np.random.randint(Rs.shape[0],size=30)\n",
    "fig = pl.figure(figsize=(12,5))\n",
    "new_ts = np.arange(tmin,tmax,0.001)\n",
    "t_fracs = (new_ts-tmin)/(tmax-tmin)\n",
    "for ind in inds:\n",
    "    pl.scatter(new_ts,log(oversample(Ts[ind,t_inds],dt=0.001)),c=cmap(t_fracs),s=1)\n",
    "pl.ylim(3,7)\n",
    "# pl.xlim(5,100)\n",
    "# pl.semilogx()\n",
    "pl.ylabel(r'log temperature [K]')\n",
    "pl.xlabel(r'time [Gyr]')\n",
    "pl.savefig('../figures/T_vs_t.pdf',bbox_inches='tight')\n",
    "fig"
   ]
  },
  {
   "cell_type": "code",
   "execution_count": null,
   "metadata": {},
   "outputs": [],
   "source": [
    "inds = np.random.randint(Rs.shape[0],size=30)\n",
    "fig = pl.figure(figsize=(12,5))\n",
    "for ind in inds:\n",
    "    pl.scatter(oversample(Rs[ind,t_inds]),np.cos(oversample(Phis[ind,t_inds])/180.*np.pi),c=cmap(t_fracs),s=1)\n",
    "# pl.ylim(3,7)\n",
    "pl.xlim(5,100)\n",
    "pl.semilogx()\n",
    "pl.ylabel(r'cos $\\theta$')\n",
    "pl.xlabel(r'radius [kpc]')\n",
    "pl.savefig('../figures/theta_vs_r.pdf',bbox_inches='tight')\n",
    "fig"
   ]
  },
  {
   "cell_type": "code",
   "execution_count": null,
   "metadata": {},
   "outputs": [],
   "source": [
    "inds = np.random.randint(Rs.shape[0],size=30)\n",
    "fig = pl.figure(figsize=(12,5))\n",
    "new_ts = np.arange(tmin,tmax,0.01)\n",
    "t_fracs = (new_ts-tmin)/(tmax-tmin)\n",
    "for ind in inds:\n",
    "    pl.scatter(new_ts,np.cos(oversample(Phis[ind,t_inds],dt=0.01)/180.*np.pi),c=cmap(t_fracs),s=1)\n",
    "# pl.ylim(3,7)\n",
    "# pl.xlim(5,100)\n",
    "# pl.semilogx()\n",
    "pl.ylabel(r'cos $\\theta$')\n",
    "pl.xlabel(r'time [Gyr]')\n",
    "pl.savefig('../figures/theta_vs_t.pdf',bbox_inches='tight')\n",
    "fig"
   ]
  },
  {
   "cell_type": "code",
   "execution_count": 110,
   "metadata": {},
   "outputs": [],
   "source": [
    "pl.close('all')"
   ]
  },
  {
   "cell_type": "code",
   "execution_count": null,
   "metadata": {},
   "outputs": [],
   "source": []
  },
  {
   "cell_type": "code",
   "execution_count": null,
   "metadata": {},
   "outputs": [],
   "source": []
  },
  {
   "cell_type": "code",
   "execution_count": null,
   "metadata": {},
   "outputs": [],
   "source": []
  },
  {
   "cell_type": "code",
   "execution_count": 55,
   "metadata": {},
   "outputs": [
    {
     "data": {
      "text/plain": [
       "<matplotlib.lines.Line2D at 0x2b1a23662588>"
      ]
     },
     "execution_count": 55,
     "metadata": {},
     "output_type": "execute_result"
    },
    {
     "data": {
      "image/png": "[encoded data removed]",
      "text/plain": [
       "<Figure size 864x360 with 2 Axes>"
      ]
     },
     "metadata": {},
     "output_type": "display_data"
    }
   ],
   "source": [
    "fig = plt.figure( figsize=(12, 5), facecolor='white' )\n",
    "ax = plt.gca()\n",
    "\n",
    "y_data = w.get_selected_data( 'Lmag' ) / w.get_selected_data( 'M' )\n",
    "\n",
    "w_plotter.histogram2d(\n",
    "    'R',\n",
    "    'Lmag',\n",
    "    y_data = y_data,\n",
    "    ax = ax,\n",
    "    x_data_args = { 'tile_data': True },\n",
    "    z_scale = plt_colors.Normalize( vmin=3, vmax=500 ),\n",
    "#     y_scale = 'log',\n",
    "    y_range = [ 0, 10000 ],\n",
    "    x_range = [ 0, 70 ],\n",
    "    n_bins_x = 64,\n",
    "    cmap = cm.cubehelix_r,\n",
    ")\n",
    "\n",
    "ax.axvline(\n",
    "    13,\n",
    "    linewidth = 4,\n",
    ")"
   ]
  },
  {
   "cell_type": "code",
   "execution_count": 56,
   "metadata": {},
   "outputs": [
    {
     "data": {
      "text/plain": [
       "<matplotlib.lines.Line2D at 0x2b1a23712240>"
      ]
     },
     "execution_count": 56,
     "metadata": {},
     "output_type": "execute_result"
    },
    {
     "data": {
      "image/png": "[encoded data removed]",
      "text/plain": [
       "<Figure size 864x360 with 2 Axes>"
      ]
     },
     "metadata": {},
     "output_type": "display_data"
    }
   ],
   "source": [
    "fig = plt.figure( figsize=(12, 5), facecolor='white' )\n",
    "ax = plt.gca()\n",
    "\n",
    "w_plotter.histogram2d(\n",
    "    'R',\n",
    "    'Vr',\n",
    "    ax = ax,\n",
    "    x_data_args = { 'tile_data': True },\n",
    "    z_scale = plt_colors.Normalize( vmin=3, vmax=400 ),\n",
    "    y_scale = 'log',\n",
    "    y_range = [ 1., 300 ],\n",
    "    x_range = [ 0, 70 ],\n",
    "    n_bins_x = 64,\n",
    "    cmap = cm.cubehelix_r,\n",
    ")\n",
    "\n",
    "ax.axvline(\n",
    "    13,\n",
    "    linewidth = 4,\n",
    ")"
   ]
  },
  {
   "cell_type": "code",
   "execution_count": 122,
   "metadata": {},
   "outputs": [
    {
     "ename": "TypeError",
     "evalue": "get_data() got an unexpected keyword argument 'weight_data'",
     "output_type": "error",
     "traceback": [
      "\u001b[0;31m---------------------------------------------------------------------------\u001b[0m",
      "\u001b[0;31mTypeError\u001b[0m                                 Traceback (most recent call last)",
      "\u001b[0;32m<ipython-input-122-ed77e658f16e>\u001b[0m in \u001b[0;36m<module>\u001b[0;34m\u001b[0m\n\u001b[1;32m     17\u001b[0m     \u001b[0mn_bins_x\u001b[0m \u001b[0;34m=\u001b[0m \u001b[0mn_snaps\u001b[0m \u001b[0;34m+\u001b[0m \u001b[0;36m1\u001b[0m\u001b[0;34m,\u001b[0m\u001b[0;34m\u001b[0m\u001b[0;34m\u001b[0m\u001b[0m\n\u001b[1;32m     18\u001b[0m \u001b[0;31m#     n_bins = 16,\u001b[0m\u001b[0;34m\u001b[0m\u001b[0;34m\u001b[0m\u001b[0;34m\u001b[0m\u001b[0m\n\u001b[0;32m---> 19\u001b[0;31m     \u001b[0mcmap\u001b[0m \u001b[0;34m=\u001b[0m \u001b[0mcm\u001b[0m\u001b[0;34m.\u001b[0m\u001b[0mcubehelix_r\u001b[0m\u001b[0;34m,\u001b[0m\u001b[0;34m\u001b[0m\u001b[0;34m\u001b[0m\u001b[0m\n\u001b[0m\u001b[1;32m     20\u001b[0m )\n",
      "\u001b[0;32m~/miniconda3/lib/python3.7/site-packages/galaxy_dive/plot_data/generic_plotter.py\u001b[0m in \u001b[0;36mhistogram2d\u001b[0;34m(self, x_key, y_key, x_data, y_data, weight_key, x_data_args, y_data_args, weight_data_args, slices, ax, x_range, y_range, x_scale, y_scale, z_scale, n_bins, average, normed, hist_div_arr, conditional_y, y_div_function, vmin, vmax, min_bin_value_displayed, zorder, add_colorbar, cmap, colorbar_args, x_label, y_label, add_x_label, add_y_label, plot_label, outline_plot_label, label_galaxy_cut, label_redshift, label_fontsize, tick_param_args, out_dir, save_file, close_plot_after_saving, fix_invalid, line_slope, cdf, horizontal_line, vertical_line, horizontal_line_kwargs, vertical_line_kwargs, return_dist, *args, **kwargs)\u001b[0m\n\u001b[1;32m    473\u001b[0m                 \u001b[0msl\u001b[0m\u001b[0;34m=\u001b[0m\u001b[0msl\u001b[0m\u001b[0;34m,\u001b[0m\u001b[0;34m\u001b[0m\u001b[0;34m\u001b[0m\u001b[0m\n\u001b[1;32m    474\u001b[0m                 \u001b[0;34m*\u001b[0m\u001b[0margs\u001b[0m\u001b[0;34m,\u001b[0m\u001b[0;34m\u001b[0m\u001b[0;34m\u001b[0m\u001b[0m\n\u001b[0;32m--> 475\u001b[0;31m                 \u001b[0;34m**\u001b[0m\u001b[0mdata_kwargs\u001b[0m\u001b[0;34m[\u001b[0m\u001b[0;34m'weight'\u001b[0m\u001b[0;34m]\u001b[0m\u001b[0;34m\u001b[0m\u001b[0;34m\u001b[0m\u001b[0m\n\u001b[0m\u001b[1;32m    476\u001b[0m             ).flatten()\n\u001b[1;32m    477\u001b[0m \u001b[0;34m\u001b[0m\u001b[0m\n",
      "\u001b[0;32m~/miniconda3/lib/python3.7/site-packages/galaxy_dive/analyze_data/generic_data.py\u001b[0m in \u001b[0;36mget_selected_data\u001b[0;34m(self, *args, **kwargs)\u001b[0m\n\u001b[1;32m    229\u001b[0m     \u001b[0;34m'''Wrapper for getting masked data.'''\u001b[0m\u001b[0;34m\u001b[0m\u001b[0;34m\u001b[0m\u001b[0m\n\u001b[1;32m    230\u001b[0m \u001b[0;34m\u001b[0m\u001b[0m\n\u001b[0;32m--> 231\u001b[0;31m     \u001b[0;32mreturn\u001b[0m \u001b[0mself\u001b[0m\u001b[0;34m.\u001b[0m\u001b[0mdata_masker\u001b[0m\u001b[0;34m.\u001b[0m\u001b[0mget_selected_data\u001b[0m\u001b[0;34m(\u001b[0m \u001b[0;34m*\u001b[0m\u001b[0margs\u001b[0m\u001b[0;34m,\u001b[0m \u001b[0;34m**\u001b[0m\u001b[0mkwargs\u001b[0m \u001b[0;34m)\u001b[0m\u001b[0;34m\u001b[0m\u001b[0;34m\u001b[0m\u001b[0m\n\u001b[0m\u001b[1;32m    232\u001b[0m \u001b[0;34m\u001b[0m\u001b[0m\n\u001b[1;32m    233\u001b[0m   \u001b[0;32mdef\u001b[0m \u001b[0mmask_data\u001b[0m\u001b[0;34m(\u001b[0m \u001b[0mself\u001b[0m\u001b[0;34m,\u001b[0m \u001b[0;34m*\u001b[0m\u001b[0margs\u001b[0m\u001b[0;34m,\u001b[0m \u001b[0;34m**\u001b[0m\u001b[0mkwargs\u001b[0m \u001b[0;34m)\u001b[0m\u001b[0;34m:\u001b[0m\u001b[0;34m\u001b[0m\u001b[0;34m\u001b[0m\u001b[0m\n",
      "\u001b[0;32m~/miniconda3/lib/python3.7/site-packages/linefinder/analyze_data/worldlines.py\u001b[0m in \u001b[0;36mget_selected_data\u001b[0;34m(self, data_key, mask, classification, mask_after_first_acc, mask_before_first_acc, preserve_mask_shape, optional_masks, *args, **kwargs)\u001b[0m\n\u001b[1;32m   2898\u001b[0m         )\n\u001b[1;32m   2899\u001b[0m \u001b[0;34m\u001b[0m\u001b[0m\n\u001b[0;32m-> 2900\u001b[0;31m         \u001b[0mmasked_data\u001b[0m \u001b[0;34m=\u001b[0m \u001b[0msuper\u001b[0m\u001b[0;34m(\u001b[0m \u001b[0mWorldlineDataMasker\u001b[0m\u001b[0;34m,\u001b[0m \u001b[0mself\u001b[0m \u001b[0;34m)\u001b[0m\u001b[0;34m.\u001b[0m\u001b[0mget_selected_data\u001b[0m\u001b[0;34m(\u001b[0m \u001b[0mdata_key\u001b[0m\u001b[0;34m,\u001b[0m \u001b[0mmask\u001b[0m\u001b[0;34m=\u001b[0m\u001b[0mused_mask\u001b[0m\u001b[0;34m,\u001b[0m \u001b[0;34m*\u001b[0m\u001b[0margs\u001b[0m\u001b[0;34m,\u001b[0m \u001b[0;34m**\u001b[0m\u001b[0mkwargs\u001b[0m \u001b[0;34m)\u001b[0m\u001b[0;34m\u001b[0m\u001b[0;34m\u001b[0m\u001b[0m\n\u001b[0m\u001b[1;32m   2901\u001b[0m \u001b[0;34m\u001b[0m\u001b[0m\n\u001b[1;32m   2902\u001b[0m         \u001b[0;32mreturn\u001b[0m \u001b[0mmasked_data\u001b[0m\u001b[0;34m\u001b[0m\u001b[0;34m\u001b[0m\u001b[0m\n",
      "\u001b[0;32m~/miniconda3/lib/python3.7/site-packages/galaxy_dive/analyze_data/generic_data.py\u001b[0m in \u001b[0;36mget_selected_data\u001b[0;34m(self, data_key, mask, optional_masks, sl, apply_slice_to_mask, fix_invalid, compress, mask_multidim_data, *args, **kwargs)\u001b[0m\n\u001b[1;32m    560\u001b[0m     '''\n\u001b[1;32m    561\u001b[0m \u001b[0;34m\u001b[0m\u001b[0m\n\u001b[0;32m--> 562\u001b[0;31m     \u001b[0mdata\u001b[0m \u001b[0;34m=\u001b[0m \u001b[0mself\u001b[0m\u001b[0;34m.\u001b[0m\u001b[0mdata_object\u001b[0m\u001b[0;34m.\u001b[0m\u001b[0mget_processed_data\u001b[0m\u001b[0;34m(\u001b[0m \u001b[0mdata_key\u001b[0m\u001b[0;34m,\u001b[0m \u001b[0msl\u001b[0m\u001b[0;34m=\u001b[0m\u001b[0msl\u001b[0m\u001b[0;34m,\u001b[0m \u001b[0;34m*\u001b[0m\u001b[0margs\u001b[0m\u001b[0;34m,\u001b[0m \u001b[0;34m**\u001b[0m\u001b[0mkwargs\u001b[0m \u001b[0;34m)\u001b[0m\u001b[0;34m\u001b[0m\u001b[0;34m\u001b[0m\u001b[0m\n\u001b[0m\u001b[1;32m    563\u001b[0m \u001b[0;34m\u001b[0m\u001b[0m\n\u001b[1;32m    564\u001b[0m     \u001b[0;31m# Get the appropriate mask\u001b[0m\u001b[0;34m\u001b[0m\u001b[0;34m\u001b[0m\u001b[0;34m\u001b[0m\u001b[0m\n",
      "\u001b[0;32m~/miniconda3/lib/python3.7/site-packages/linefinder/analyze_data/worldlines.py\u001b[0m in \u001b[0;36mget_processed_data\u001b[0;34m(self, data_key, tile_data, *args, **kwargs)\u001b[0m\n\u001b[1;32m    619\u001b[0m             \u001b[0mdata_key\u001b[0m\u001b[0;34m,\u001b[0m\u001b[0;34m\u001b[0m\u001b[0;34m\u001b[0m\u001b[0m\n\u001b[1;32m    620\u001b[0m             \u001b[0mtile_data\u001b[0m \u001b[0;34m=\u001b[0m \u001b[0mtile_data\u001b[0m\u001b[0;34m,\u001b[0m\u001b[0;34m\u001b[0m\u001b[0;34m\u001b[0m\u001b[0m\n\u001b[0;32m--> 621\u001b[0;31m             \u001b[0;34m*\u001b[0m\u001b[0margs\u001b[0m\u001b[0;34m,\u001b[0m \u001b[0;34m**\u001b[0m\u001b[0mkwargs\u001b[0m\u001b[0;34m\u001b[0m\u001b[0;34m\u001b[0m\u001b[0m\n\u001b[0m\u001b[1;32m    622\u001b[0m         )\n\u001b[1;32m    623\u001b[0m \u001b[0;34m\u001b[0m\u001b[0m\n",
      "\u001b[0;32m~/miniconda3/lib/python3.7/site-packages/galaxy_dive/analyze_data/simulation_data.py\u001b[0m in \u001b[0;36mget_processed_data\u001b[0;34m(self, data_key, sl, smooth_data, smoothing_window_length, smoothing_polyorder, a_power, scale_key, scale_a_power, scale_h_power, tile_data, tile_dim, *args, **kwargs)\u001b[0m\n\u001b[1;32m   1223\u001b[0m             \u001b[0mdata_key\u001b[0m\u001b[0;34m,\u001b[0m\u001b[0;34m\u001b[0m\u001b[0;34m\u001b[0m\u001b[0m\n\u001b[1;32m   1224\u001b[0m             \u001b[0msl\u001b[0m \u001b[0;34m=\u001b[0m \u001b[0mused_sl\u001b[0m\u001b[0;34m,\u001b[0m\u001b[0;34m\u001b[0m\u001b[0;34m\u001b[0m\u001b[0m\n\u001b[0;32m-> 1225\u001b[0;31m             \u001b[0;34m*\u001b[0m\u001b[0margs\u001b[0m\u001b[0;34m,\u001b[0m \u001b[0;34m**\u001b[0m\u001b[0mkwargs\u001b[0m\u001b[0;34m\u001b[0m\u001b[0;34m\u001b[0m\u001b[0m\n\u001b[0m\u001b[1;32m   1226\u001b[0m         )\n\u001b[1;32m   1227\u001b[0m \u001b[0;34m\u001b[0m\u001b[0m\n",
      "\u001b[0;32m~/miniconda3/lib/python3.7/site-packages/galaxy_dive/analyze_data/generic_data.py\u001b[0m in \u001b[0;36mget_processed_data\u001b[0;34m(self, data_key, data_method, *args, **kwargs)\u001b[0m\n\u001b[1;32m    197\u001b[0m \u001b[0;34m\u001b[0m\u001b[0m\n\u001b[1;32m    198\u001b[0m     \u001b[0;31m# Get the data and make a copy to avoid altering\u001b[0m\u001b[0;34m\u001b[0m\u001b[0;34m\u001b[0m\u001b[0;34m\u001b[0m\u001b[0m\n\u001b[0;32m--> 199\u001b[0;31m     \u001b[0mdata\u001b[0m \u001b[0;34m=\u001b[0m \u001b[0mcopy\u001b[0m\u001b[0;34m.\u001b[0m\u001b[0mdeepcopy\u001b[0m\u001b[0;34m(\u001b[0m \u001b[0mget_data_method\u001b[0m\u001b[0;34m(\u001b[0m \u001b[0mdata_key\u001b[0m\u001b[0;34m,\u001b[0m \u001b[0;34m*\u001b[0m\u001b[0margs\u001b[0m\u001b[0;34m,\u001b[0m \u001b[0;34m**\u001b[0m\u001b[0mkwargs\u001b[0m \u001b[0;34m)\u001b[0m \u001b[0;34m)\u001b[0m\u001b[0;34m\u001b[0m\u001b[0;34m\u001b[0m\u001b[0m\n\u001b[0m\u001b[1;32m    200\u001b[0m \u001b[0;34m\u001b[0m\u001b[0m\n\u001b[1;32m    201\u001b[0m     \u001b[0;31m# Actually calculate the fractional data\u001b[0m\u001b[0;34m\u001b[0m\u001b[0;34m\u001b[0m\u001b[0;34m\u001b[0m\u001b[0m\n",
      "\u001b[0;32m~/miniconda3/lib/python3.7/site-packages/linefinder/analyze_data/worldlines.py\u001b[0m in \u001b[0;36mget_data\u001b[0;34m(self, data_key, *args, **kwargs)\u001b[0m\n\u001b[1;32m    573\u001b[0m \u001b[0;34m\u001b[0m\u001b[0m\n\u001b[1;32m    574\u001b[0m         \u001b[0;32mtry\u001b[0m\u001b[0;34m:\u001b[0m\u001b[0;34m\u001b[0m\u001b[0;34m\u001b[0m\u001b[0m\n\u001b[0;32m--> 575\u001b[0;31m             \u001b[0mdata\u001b[0m \u001b[0;34m=\u001b[0m \u001b[0msuper\u001b[0m\u001b[0;34m(\u001b[0m \u001b[0mWorldlines\u001b[0m\u001b[0;34m,\u001b[0m \u001b[0mself\u001b[0m \u001b[0;34m)\u001b[0m\u001b[0;34m.\u001b[0m\u001b[0mget_data\u001b[0m\u001b[0;34m(\u001b[0m \u001b[0mdata_key\u001b[0m\u001b[0;34m,\u001b[0m \u001b[0;34m*\u001b[0m\u001b[0margs\u001b[0m\u001b[0;34m,\u001b[0m \u001b[0;34m**\u001b[0m\u001b[0mkwargs\u001b[0m \u001b[0;34m)\u001b[0m\u001b[0;34m\u001b[0m\u001b[0;34m\u001b[0m\u001b[0m\n\u001b[0m\u001b[1;32m    576\u001b[0m             \u001b[0;32mreturn\u001b[0m \u001b[0mdata\u001b[0m\u001b[0;34m\u001b[0m\u001b[0;34m\u001b[0m\u001b[0m\n\u001b[1;32m    577\u001b[0m \u001b[0;34m\u001b[0m\u001b[0m\n",
      "\u001b[0;31mTypeError\u001b[0m: get_data() got an unexpected keyword argument 'weight_data'"
     ]
    },
    {
     "data": {
      "image/png": "[encoded data removed]",
      "text/plain": [
       "<Figure size 864x360 with 1 Axes>"
      ]
     },
     "metadata": {},
     "output_type": "display_data"
    }
   ],
   "source": [
    "fig = plt.figure( figsize=(12, 5), facecolor='white' )\n",
    "ax = plt.gca()\n",
    "\n",
    "w.calc_phi( s_data.total_ang_momentum )\n",
    "\n",
    "w_plotter.histogram2d(\n",
    "    'time',\n",
    "    'Phi',\n",
    "    weight_key = '1/sin',\n",
    "    weight_data = 1. / np.sin( w.get_selected_data( 'Phi')*np.pi/180. ),\n",
    "    ax = ax,\n",
    "    x_data_args = { 'tile_data': True },\n",
    "    z_scale = plt_colors.Normalize( vmin=3, vmax=400 ),\n",
    "#     y_scale = 'log',\n",
    "#     y_range = [ 1e3, 1e7 ],\n",
    "    x_range = x_range,\n",
    "    n_bins_x = n_snaps + 1,\n",
    "#     n_bins = 16,\n",
    "    cmap = cm.cubehelix_r,\n",
    ")"
   ]
  },
  {
   "cell_type": "code",
   "execution_count": 58,
   "metadata": {},
   "outputs": [
    {
     "data": {
      "image/png": "[encoded data removed]",
      "text/plain": [
       "<Figure size 864x360 with 2 Axes>"
      ]
     },
     "metadata": {},
     "output_type": "display_data"
    }
   ],
   "source": [
    "fig = plt.figure( figsize=(12, 5), facecolor='white' )\n",
    "ax = plt.gca()\n",
    "\n",
    "w.calc_phi( s_data.total_ang_momentum )\n",
    "\n",
    "w_plotter.histogram2d(\n",
    "    'R',\n",
    "    'Phi',\n",
    "    weight_key = '1/sin',\n",
    "    weight_data = 1. / np.sin( w.get_selected_data( 'Phi')*np.pi/180. ),\n",
    "    ax = ax,\n",
    "    x_data_args = { 'tile_data': True },\n",
    "    z_scale = plt_colors.Normalize( vmin=3, vmax=400 ),\n",
    "#     y_scale = 'log',\n",
    "#     y_range = [ 1e3, 1e7 ],\n",
    "    x_range = [ 0, 70 ],\n",
    "    n_bins_x = 64,\n",
    "#     n_bins = 16,\n",
    "    cmap = cm.cubehelix_r,\n",
    ")"
   ]
  },
  {
   "cell_type": "code",
   "execution_count": null,
   "metadata": {},
   "outputs": [],
   "source": []
  },
  {
   "cell_type": "code",
   "execution_count": null,
   "metadata": {},
   "outputs": [],
   "source": []
  }
 ],
 "metadata": {
  "kernelspec": {
   "display_name": "Python 3",
   "language": "python",
   "name": "python3"
  },
  "language_info": {
   "codemirror_mode": {
    "name": "ipython",
    "version": 3
   },
   "file_extension": ".py",
   "mimetype": "text/x-python",
   "name": "python",
   "nbconvert_exporter": "python",
   "pygments_lexer": "ipython3",
   "version": "3.7.1"
  }
 },
 "nbformat": 4,
 "nbformat_minor": 2
}
