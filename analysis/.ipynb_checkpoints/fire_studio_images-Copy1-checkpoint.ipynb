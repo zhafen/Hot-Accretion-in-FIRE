{
 "cells": [
  {
   "cell_type": "code",
   "execution_count": 1,
   "metadata": {},
   "outputs": [],
   "source": [
    "import copy\n",
    "import numpy as np\n",
    "import os\n",
    "import time\n",
    "import palettable\n",
    "import h5py"
   ]
  },
  {
   "cell_type": "code",
   "execution_count": 2,
   "metadata": {},
   "outputs": [],
   "source": [
    "import yt\n",
    "import trident\n",
    "import trident.line_database as line_database\n",
    "import unyt"
   ]
  },
  {
   "cell_type": "code",
   "execution_count": 3,
   "metadata": {},
   "outputs": [],
   "source": [
    "import matplotlib.colors as plt_colors\n",
    "import matplotlib.gridspec as gridspec\n",
    "from matplotlib.transforms import blended_transform_factory\n",
    "import matplotlib.patheffects as path_effects"
   ]
  },
  {
   "cell_type": "code",
   "execution_count": 4,
   "metadata": {},
   "outputs": [
    {
     "name": "stdout",
     "output_type": "stream",
     "text": [
      "don't have phil's colormaps\n"
     ]
    }
   ],
   "source": [
    "import firestudio.studios.gas_studio as gas_studio\n",
    "from abg_python.snapshot_utils import openSnapshot\n",
    "from abg_python.cosmoExtractor import extractDiskFromSnapdict,offsetRotateSnapshot"
   ]
  },
  {
   "cell_type": "code",
   "execution_count": 5,
   "metadata": {},
   "outputs": [],
   "source": [
    "import stained_glass.utils.file_management as file_management"
   ]
  },
  {
   "cell_type": "code",
   "execution_count": 6,
   "metadata": {},
   "outputs": [],
   "source": [
    "import verdict\n",
    "import galaxy_dive.analyze_data.halo_data as halo_data\n",
    "import galaxy_dive.plot_data.plotting as plotting"
   ]
  },
  {
   "cell_type": "markdown",
   "metadata": {},
   "source": [
    "# Setup"
   ]
  },
  {
   "cell_type": "code",
   "execution_count": 7,
   "metadata": {},
   "outputs": [],
   "source": [
    "sim_name = 'm12i'\n",
    "snum = 600\n",
    "resolution = 7100\n",
    "physics = 'core'\n",
    "subsubdir = None\n",
    "mt_halo_id = 0\n",
    "mt_kwargs = {\n",
    "    'tag': 'smooth',\n",
    "}"
   ]
  },
  {
   "cell_type": "code",
   "execution_count": 8,
   "metadata": {},
   "outputs": [],
   "source": [
    "sim_kwargs = dict(\n",
    "    sim_name = sim_name,\n",
    "    resolution = resolution,\n",
    "    physics = physics,\n",
    "    subsubdir = subsubdir,\n",
    ")"
   ]
  },
  {
   "cell_type": "code",
   "execution_count": 9,
   "metadata": {},
   "outputs": [],
   "source": [
    "line_list = ['H', 'C', 'N', 'O', 'Mg', 'Si']\n",
    "sidelength = 600. # in kpc\n",
    "sightline_len = 1e3 # in kpc\n",
    "species_list = [\n",
    "#     'H I',\n",
    "#     'Mg II',\n",
    "    'Si II', \n",
    "#     'Si III',\n",
    "#     'Si IV',\n",
    "#     'C II',\n",
    "#     'C III',\n",
    "    'C IV',\n",
    "    'O VI',\n",
    "#     'O VIII',\n",
    "]\n",
    "use_stored_projections = False"
   ]
  },
  {
   "cell_type": "code",
   "execution_count": 10,
   "metadata": {},
   "outputs": [],
   "source": [
    "fm = file_management.FileManager( 'mock_obs' )"
   ]
  },
  {
   "cell_type": "markdown",
   "metadata": {},
   "source": [
    "### YT Data"
   ]
  },
  {
   "cell_type": "code",
   "execution_count": 11,
   "metadata": {},
   "outputs": [
    {
     "name": "stderr",
     "output_type": "stream",
     "text": [
      "yt : [INFO     ] 2020-09-16 19:42:34,498 Calculating time from 1.000e+00 to be 4.355e+17 seconds\n",
      "yt : [INFO     ] 2020-09-16 19:42:34,499 Assuming length units are in kpc/h (comoving)\n",
      "yt : [INFO     ] 2020-09-16 19:42:34,527 Parameters: current_time              = 4.3545571088051405e+17 s\n",
      "yt : [INFO     ] 2020-09-16 19:42:34,528 Parameters: domain_dimensions         = [1 1 1]\n",
      "yt : [INFO     ] 2020-09-16 19:42:34,528 Parameters: domain_left_edge          = [0. 0. 0.]\n",
      "yt : [INFO     ] 2020-09-16 19:42:34,529 Parameters: domain_right_edge         = [60000. 60000. 60000.]\n",
      "yt : [INFO     ] 2020-09-16 19:42:34,529 Parameters: cosmological_simulation   = 1\n",
      "yt : [INFO     ] 2020-09-16 19:42:34,530 Parameters: current_redshift          = 0.0\n",
      "yt : [INFO     ] 2020-09-16 19:42:34,530 Parameters: omega_lambda              = 0.728\n",
      "yt : [INFO     ] 2020-09-16 19:42:34,530 Parameters: omega_matter              = 0.272\n",
      "yt : [INFO     ] 2020-09-16 19:42:34,531 Parameters: omega_radiation           = 0.0\n",
      "yt : [INFO     ] 2020-09-16 19:42:34,531 Parameters: hubble_constant           = 0.702\n"
     ]
    },
    {
     "name": "stdout",
     "output_type": "stream",
     "text": [
      "Loading took 0.348 seconds\n"
     ]
    }
   ],
   "source": [
    "time_start = time.time()\n",
    "\n",
    "ds = yt.load( fm.get_yt_filepath(\n",
    "    sim_name,\n",
    "    snum,\n",
    "    resolution=resolution,\n",
    "    physics=physics,\n",
    "    subsubdir=subsubdir\n",
    ") )\n",
    "\n",
    "time_end = time.time()\n",
    "\n",
    "print( 'Loading took {:.3g} seconds'.format( time_end - time_start ) )"
   ]
  },
  {
   "cell_type": "markdown",
   "metadata": {},
   "source": [
    "### Halo Data"
   ]
  },
  {
   "cell_type": "code",
   "execution_count": 12,
   "metadata": {},
   "outputs": [],
   "source": [
    "hd = halo_data.HaloData(\n",
    "    data_dir = fm.get_halo_dir( **sim_kwargs ),\n",
    "    mt_kwargs = mt_kwargs,\n",
    ")"
   ]
  },
  {
   "cell_type": "markdown",
   "metadata": {},
   "source": [
    "### Alex Data"
   ]
  },
  {
   "cell_type": "code",
   "execution_count": 13,
   "metadata": {},
   "outputs": [
    {
     "name": "stdout",
     "output_type": "stream",
     "text": [
      "This is a cosmological snapshot... converting to physical units\n",
      "This is a cosmological snapshot... converting to physical units\n"
     ]
    }
   ],
   "source": [
    "sim_dir = fm.get_sim_dir( **sim_kwargs )\n",
    "gas_snap = openSnapshot( sim_dir, snum, 0 )\n",
    "star_snap = openSnapshot( sim_dir, snum, 4 )"
   ]
  },
  {
   "cell_type": "markdown",
   "metadata": {},
   "source": [
    "## Add Ion Fields"
   ]
  },
  {
   "cell_type": "code",
   "execution_count": 14,
   "metadata": {},
   "outputs": [
    {
     "name": "stderr",
     "output_type": "stream",
     "text": [
      "yt : [INFO     ] 2020-09-16 19:43:54,125 Allocating for 1.470e+08 particles\n",
      "Loading particle index: 100%|██████████| 270/270 [00:00<00:00, 3586.90it/s]\n"
     ]
    }
   ],
   "source": [
    "trident.add_ion_fields(ds, ions=species_list, ftype=\"PartType0\")"
   ]
  },
  {
   "cell_type": "code",
   "execution_count": 15,
   "metadata": {},
   "outputs": [],
   "source": [
    "# Get the line data filepath\n",
    "trident_dir = os.path.dirname( trident.__file__ )\n",
    "linedb_fp = os.path.join( trident_dir, 'data', 'line_lists', 'lines.txt' )\n",
    "\n",
    "ldb = line_database.LineDatabase( linedb_fp )\n",
    "\n",
    "ion_tuples = ldb.parse_subset_to_ions( species_list )"
   ]
  },
  {
   "cell_type": "code",
   "execution_count": 16,
   "metadata": {},
   "outputs": [],
   "source": [
    "# Get names used by the code\n",
    "density_names = []\n",
    "den_name_dict = {}\n",
    "for i, ( atom, ion) in enumerate( ion_tuples ):\n",
    "    \n",
    "    den_name = '{}_p{}_density'.format( atom, ion-1 )\n",
    "    \n",
    "    density_names.append( den_name )\n",
    "        \n",
    "    den_name_dict[species_list[i]] = den_name"
   ]
  },
  {
   "cell_type": "markdown",
   "metadata": {},
   "source": [
    "## Center, rotate, etc"
   ]
  },
  {
   "cell_type": "code",
   "execution_count": 17,
   "metadata": {},
   "outputs": [
    {
     "name": "stderr",
     "output_type": "stream",
     "text": [
      "yt : [INFO     ] 2020-09-16 19:44:13,380 Max Value is 1.39394e-20 at 29376.1624294746179658 30966.6151484254696697 32490.6046232758017140\n"
     ]
    }
   ],
   "source": [
    "# Retrieve the center\n",
    "try:\n",
    "    c = []\n",
    "    for coord_name in [ 'Xc', 'Yc', 'Zc' ]:\n",
    "        c.append(\n",
    "            hd.get_mt_data(\n",
    "                coord_name,\n",
    "                mt_halo_id = mt_halo_id,\n",
    "                snums = [ snum ],\n",
    "            )[0]\n",
    "        )\n",
    "    c = np.array( c ) * ds.quan( 1, 'kpccm/h' ) # Center in co-moving kpc/h\n",
    "except NameError:\n",
    "    _, c = ds.find_max( ('gas', 'density') )\n",
    "\n",
    "c = c.to( 'kpc' ).value"
   ]
  },
  {
   "cell_type": "code",
   "execution_count": 18,
   "metadata": {},
   "outputs": [],
   "source": [
    "thetay, thetaz, scom, vscom, gindices, sindices = extractDiskFromSnapdict(\n",
    "    star_snap,\n",
    "    gas_snap,\n",
    "    25,\n",
    "    scom = c,\n",
    ")"
   ]
  },
  {
   "cell_type": "code",
   "execution_count": 19,
   "metadata": {},
   "outputs": [],
   "source": [
    "rot_gas_snap = offsetRotateSnapshot(\n",
    "    gas_snap,\n",
    "    scom,\n",
    "    vscom,\n",
    "    thetay,\n",
    "    thetaz,\n",
    "    orient_stars = 1,\n",
    ")"
   ]
  },
  {
   "cell_type": "code",
   "execution_count": 20,
   "metadata": {},
   "outputs": [
    {
     "name": "stderr",
     "output_type": "stream",
     "text": [
      "/work/03057/zhafen/stampede2/miniconda3/lib/python3.7/site-packages/unyt/array.py:1693: RuntimeWarning: overflow encountered in multiply\n",
      "  inp0.view(np.ndarray), inp1.view(np.ndarray), out=out_func, **kwargs\n"
     ]
    }
   ],
   "source": [
    "fiducial_masses = copy.deepcopy( rot_gas_snap['Masses'] )\n",
    "fiducial_density = gas_snap['Density'] * 1e10 * unyt.msun / unyt.kpc**3."
   ]
  },
  {
   "cell_type": "code",
   "execution_count": 21,
   "metadata": {},
   "outputs": [],
   "source": [
    "min_dens = {\n",
    "    'C II': 13.,\n",
    "    'Si II': 12,\n",
    "    'Si III': 12,\n",
    "    'Si IV': 12.5,\n",
    "    'C IV': 13.,\n",
    "    'O VI': 12,\n",
    "}\n",
    "max_dens = {\n",
    "    'C II': 14.5,\n",
    "    'Si II': 14.7,\n",
    "    'Si III': 13.5,\n",
    "    'Si IV': 14.5,\n",
    "    'C IV': 14.5,\n",
    "    'O VI': 15,\n",
    "}"
   ]
  },
  {
   "cell_type": "code",
   "execution_count": 22,
   "metadata": {},
   "outputs": [
    {
     "name": "stdout",
     "output_type": "stream",
     "text": [
      "Computing Si II densities\n",
      "Computing C IV densities\n",
      "Computing O VI densities\n"
     ]
    }
   ],
   "source": [
    "abundances = {}\n",
    "for i, species in enumerate( species_list ):\n",
    "    \n",
    "    if use_stored_projections:\n",
    "        print( 'Using stored {} densities'.format( species ) )\n",
    "        # Unused abundances\n",
    "        abundances[species] = np.ones( fiducial_density.shape )\n",
    "        continue\n",
    "\n",
    "    print( 'Computing {} densities'.format( species ) )\n",
    "    \n",
    "    abundances[species] = ds.all_data()[density_names[i]] / fiducial_density"
   ]
  },
  {
   "cell_type": "code",
   "execution_count": 23,
   "metadata": {},
   "outputs": [
    {
     "name": "stdout",
     "output_type": "stream",
     "text": [
      "Projecting Si II densities\n",
      "extra kwargs:\n",
      " []\n",
      "Drawing /scratch/projects/xsede/GalaxiesOnFIRE/cr_suite/m12i_res7100/mhdcv/output:600 to:/scratch/03057/zhafen/stained_glass_data/cr_suite/m12i_res7100/mhdcv/\n",
      "extracting cube\n",
      "-done\n",
      "Using provided smoothing lengths\n",
      "------------------------------------------\n",
      "------------------------------------------\n",
      "log10 minmax(columnDensityMap) -inf 20.04486\n",
      "log10 minmax(massWeightedQuantityMap) -inf -inf\n",
      "min_rho =  12\n",
      "max_rho =  18\n",
      "Image range (rho):  -inf 20.04486\n",
      "Image range (8bit):  0.0 255.0\n"
     ]
    },
    {
     "name": "stderr",
     "output_type": "stream",
     "text": [
      "/home1/03057/zhafen/repos/FIRE_studio/firestudio/studios/gas_studio.py:340: RuntimeWarning: divide by zero encountered in log10\n",
      "  columnDensityMap = np.log10(columnDensityMap)\n",
      "/home1/03057/zhafen/repos/FIRE_studio/firestudio/studios/gas_studio.py:348: RuntimeWarning: divide by zero encountered in log10\n",
      "  massWeightedQuantityMap = np.log10(massWeightedQuantityMap)\n"
     ]
    },
    {
     "name": "stdout",
     "output_type": "stream",
     "text": [
      "Image saved at /scratch/03057/zhafen/stained_glass_data/cr_suite/m12i_res7100/mhdcv/Plots/GasTwoColour/Si_p1_density_600_600kpc.png\n",
      "Image generation took 171 seconds\n",
      "Projecting C IV densities\n",
      "extra kwargs:\n",
      " []\n",
      "Drawing /scratch/projects/xsede/GalaxiesOnFIRE/cr_suite/m12i_res7100/mhdcv/output:600 to:/scratch/03057/zhafen/stained_glass_data/cr_suite/m12i_res7100/mhdcv/\n",
      "extracting cube\n",
      "-done\n",
      "Using provided smoothing lengths\n",
      "------------------------------------------\n",
      "------------------------------------------\n",
      "log10 minmax(columnDensityMap) 10.930087 17.053972\n",
      "log10 minmax(massWeightedQuantityMap) 4.1080027 4.1080027\n",
      "min_rho =  12\n",
      "max_rho =  18\n",
      "Image range (rho):  10.930087 17.053972\n",
      "Image range (8bit):  0.0 214.79382\n",
      "Image saved at /scratch/03057/zhafen/stained_glass_data/cr_suite/m12i_res7100/mhdcv/Plots/GasTwoColour/C_p3_density_600_600kpc.png\n",
      "Image generation took 169 seconds\n",
      "Projecting O VI densities\n",
      "extra kwargs:\n",
      " []\n",
      "Drawing /scratch/projects/xsede/GalaxiesOnFIRE/cr_suite/m12i_res7100/mhdcv/output:600 to:/scratch/03057/zhafen/stained_glass_data/cr_suite/m12i_res7100/mhdcv/\n",
      "extracting cube\n",
      "-done\n",
      "Using provided smoothing lengths\n",
      "------------------------------------------\n",
      "------------------------------------------\n",
      "log10 minmax(columnDensityMap) 12.746318 16.911388\n",
      "log10 minmax(massWeightedQuantityMap) 4.5092206 4.5092206\n",
      "min_rho =  12\n",
      "max_rho =  18\n",
      "Image range (rho):  12.746318 16.911388\n",
      "Image range (8bit):  31.71851 208.73401\n",
      "Image saved at /scratch/03057/zhafen/stained_glass_data/cr_suite/m12i_res7100/mhdcv/Plots/GasTwoColour/O_p5_density_600_600kpc.png\n",
      "Image generation took 166 seconds\n"
     ]
    }
   ],
   "source": [
    "for i, species in enumerate( species_list ):\n",
    "\n",
    "    print( 'Projecting {} densities'.format( species ) )\n",
    "\n",
    "    abundance = abundances[species]\n",
    "\n",
    "    rot_gas_snap['Masses'] = abundance * fiducial_masses\n",
    "\n",
    "    my_studio = gas_studio.GasStudio(\n",
    "        sim_dir,\n",
    "        snum,\n",
    "        fm.get_stained_glass_dir( **sim_kwargs ),\n",
    "        frame_half_width = sidelength/2.,\n",
    "        frame_depth = sightline_len,\n",
    "        snapdict = rot_gas_snap,\n",
    "        overwrite = not use_stored_projections,\n",
    "        single_image = 'Density',\n",
    "        use_colorbar = True,\n",
    "        conv_fac = ( 1e10 * unyt.Msun / unyt.kpc**2. ).to( 'mp/cm**2').value,\n",
    "        cmap = 'magma',\n",
    "        min_den = 12,\n",
    "        max_den = 18,\n",
    "        scale_bar_length = 10.,\n",
    "        intermediate_file_name = density_names[i],\n",
    "        cbar_label = species_list[i] + r' column density (cm$^{-2}$)',\n",
    "        theta = 90,\n",
    "    )\n",
    "\n",
    "    start_time = time.time()\n",
    "\n",
    "    fig = plt.figure( figsize=(5, 5), facecolor='w' )\n",
    "    ax = plt.gca()\n",
    "\n",
    "    my_studio.render(\n",
    "        ax,\n",
    "        [ 'columnDensityMap', density_names[i] ],\n",
    "        assert_cached = use_stored_projections,\n",
    "    )\n",
    "\n",
    "    print( 'Image generation took {:.3g} seconds'.format( time.time() - start_time ) )\n",
    "\n",
    "    fig"
   ]
  },
  {
   "cell_type": "code",
   "execution_count": null,
   "metadata": {},
   "outputs": [],
   "source": []
  }
 ],
 "metadata": {
  "kernelspec": {
   "display_name": "Python 3",
   "language": "python",
   "name": "python3"
  },
  "language_info": {
   "codemirror_mode": {
    "name": "ipython",
    "version": 3
   },
   "file_extension": ".py",
   "mimetype": "text/x-python",
   "name": "python",
   "nbconvert_exporter": "python",
   "pygments_lexer": "ipython3",
   "version": "3.7.1"
  }
 },
 "nbformat": 4,
 "nbformat_minor": 2
}
