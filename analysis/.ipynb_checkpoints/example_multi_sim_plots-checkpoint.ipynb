{
 "cells": [
  {
   "cell_type": "code",
   "execution_count": 1,
   "metadata": {},
   "outputs": [],
   "source": [
    "import copy\n",
    "import numpy as np\n",
    "import os\n",
    "import verdict\n",
    "import sys"
   ]
  },
  {
   "cell_type": "code",
   "execution_count": 2,
   "metadata": {},
   "outputs": [],
   "source": [
    "import matplotlib\n",
    "import matplotlib.pyplot as plt\n",
    "import matplotlib.patheffects as path_effects\n",
    "import matplotlib.lines as plt_lines\n",
    "%matplotlib inline"
   ]
  },
  {
   "cell_type": "code",
   "execution_count": 3,
   "metadata": {},
   "outputs": [],
   "source": [
    "import galaxy_dive.read_data.metafile as read_metafile\n",
    "import galaxy_dive.plot_data.plotting as plotting\n",
    "import galaxy_dive.utils.utilities as utilities\n",
    "import galaxy_dive.utils.executable_helpers as exec_helpers"
   ]
  },
  {
   "cell_type": "code",
   "execution_count": 4,
   "metadata": {},
   "outputs": [],
   "source": [
    "import linefinder.utils.file_management as file_management\n",
    "import linefinder.analyze_data.worldline_set as worldline_set\n",
    "import linefinder.analyze_data.worldlines as worldlines\n",
    "import linefinder.utils.presentation_constants as p_constants\n",
    "import linefinder.config as l_config"
   ]
  },
  {
   "cell_type": "code",
   "execution_count": 5,
   "metadata": {},
   "outputs": [],
   "source": [
    "import analysis_config"
   ]
  },
  {
   "cell_type": "markdown",
   "metadata": {},
   "source": [
    "# Load Data"
   ]
  },
  {
   "cell_type": "code",
   "execution_count": 6,
   "metadata": {},
   "outputs": [],
   "source": [
    "do_calculation = False"
   ]
  },
  {
   "cell_type": "code",
   "execution_count": 7,
   "metadata": {},
   "outputs": [
    {
     "name": "stdout",
     "output_type": "stream",
     "text": [
      "Using snum 172, galdef \n"
     ]
    }
   ],
   "source": [
    "snum, galdef = exec_helpers.choose_config_or_commandline(\n",
    "    [ analysis_config.SNUM, analysis_config.GALDEF ]\n",
    ")\n",
    "print( 'Using snum {}, galdef {}'.format( snum, galdef ) )"
   ]
  },
  {
   "cell_type": "code",
   "execution_count": 8,
   "metadata": {},
   "outputs": [],
   "source": [
    "presentation_figure = False"
   ]
  },
  {
   "cell_type": "code",
   "execution_count": 9,
   "metadata": {},
   "outputs": [],
   "source": [
    "mass_key = 'M'"
   ]
  },
  {
   "cell_type": "code",
   "execution_count": 10,
   "metadata": {},
   "outputs": [],
   "source": [
    "save_file_tags = {\n",
    "    'M' : 'mass',\n",
    "    'metal_mass' : 'metalmass',\n",
    "    'enriched_metal_mass' : 'enrichedmetalmass',\n",
    "}"
   ]
  },
  {
   "cell_type": "code",
   "execution_count": 11,
   "metadata": {},
   "outputs": [],
   "source": [
    "axes_labels = {\n",
    "    'M' : 'Mass',\n",
    "    'metal_mass' : 'Metal Mass',\n",
    "    'enriched_metal_mass' : 'Metal Mass',\n",
    "}"
   ]
  },
  {
   "cell_type": "code",
   "execution_count": 12,
   "metadata": {},
   "outputs": [],
   "source": [
    "file_manager = file_management.FileManager( project='CGM_fate' )"
   ]
  },
  {
   "cell_type": "code",
   "execution_count": 13,
   "metadata": {},
   "outputs": [],
   "source": [
    "ind = 600 - snum"
   ]
  },
  {
   "cell_type": "code",
   "execution_count": 14,
   "metadata": {},
   "outputs": [],
   "source": [
    "tag_tail = '_CGM_snum{}'.format( snum )"
   ]
  },
  {
   "cell_type": "code",
   "execution_count": 15,
   "metadata": {},
   "outputs": [
    {
     "data": {
      "text/plain": [
       "({'data_dir': '/scratch/03057/zhafen/linefinder_data/core/m12i_res7100/data',\n",
       "  'tag': 'm12i_CGM_snum172',\n",
       "  'halo_data_dir': '/scratch/03057/zhafen/core/m12i_res7100/halo',\n",
       "  'ahf_index': 600,\n",
       "  'main_halo_id': 0},\n",
       " {'m10q': {'data_dir': '/scratch/03057/zhafen/linefinder_data/core/m10q_res250/data',\n",
       "   'tag': 'm10q_CGM_snum172',\n",
       "   'halo_data_dir': '/scratch/03057/zhafen/core/m10q_res250/halo',\n",
       "   'ahf_index': 600,\n",
       "   'main_halo_id': 0},\n",
       "  'm10y': {'data_dir': '/scratch/03057/zhafen/linefinder_data/core/m10y_res250/data',\n",
       "   'tag': 'm10y_CGM_snum172',\n",
       "   'halo_data_dir': '/scratch/03057/zhafen/core/m10y_res250/halo',\n",
       "   'ahf_index': 600,\n",
       "   'main_halo_id': 0},\n",
       "  'm10z': {'data_dir': '/scratch/03057/zhafen/linefinder_data/core/m10z_res250/data',\n",
       "   'tag': 'm10z_CGM_snum172',\n",
       "   'halo_data_dir': '/scratch/03057/zhafen/core/m10z_res250/halo',\n",
       "   'ahf_index': 600,\n",
       "   'main_halo_id': 0},\n",
       "  'm11q': {'data_dir': '/scratch/03057/zhafen/linefinder_data/core/m11q_res7100/data',\n",
       "   'tag': 'm11q_CGM_snum172',\n",
       "   'halo_data_dir': '/scratch/03057/zhafen/core/m11q_res7100/halo',\n",
       "   'ahf_index': 600,\n",
       "   'main_halo_id': 0},\n",
       "  'm11v': {'data_dir': '/scratch/03057/zhafen/linefinder_data/core/m11v_res7100/data',\n",
       "   'tag': 'm11v_CGM_snum172',\n",
       "   'halo_data_dir': '/scratch/03057/zhafen/core/m11v_res7100/halo',\n",
       "   'ahf_index': 600,\n",
       "   'main_halo_id': 0},\n",
       "  'm11a': {'data_dir': '/scratch/03057/zhafen/linefinder_data/core/m11a_res2100/data',\n",
       "   'tag': 'm11a_CGM_snum172',\n",
       "   'halo_data_dir': '/scratch/03057/zhafen/core/m11a_res2100/halo',\n",
       "   'ahf_index': 600,\n",
       "   'main_halo_id': 0},\n",
       "  'm11b': {'data_dir': '/scratch/03057/zhafen/linefinder_data/core/m11b_res2100/data',\n",
       "   'tag': 'm11b_CGM_snum172',\n",
       "   'halo_data_dir': '/scratch/03057/zhafen/core/m11b_res2100/halo',\n",
       "   'ahf_index': 600,\n",
       "   'main_halo_id': 0},\n",
       "  'm11c': {'data_dir': '/scratch/03057/zhafen/linefinder_data/core/m11c_res2100/data',\n",
       "   'tag': 'm11c_CGM_snum172',\n",
       "   'halo_data_dir': '/scratch/03057/zhafen/core/m11c_res2100/halo',\n",
       "   'ahf_index': 600,\n",
       "   'main_halo_id': 0},\n",
       "  'm12i': {},\n",
       "  'm12f': {'data_dir': '/scratch/03057/zhafen/linefinder_data/core/m12f_res7100/data',\n",
       "   'tag': 'm12f_CGM_snum172',\n",
       "   'halo_data_dir': '/scratch/03057/zhafen/core/m12f_res7100/halo',\n",
       "   'ahf_index': 600,\n",
       "   'main_halo_id': 0},\n",
       "  'm12m': {'data_dir': '/scratch/03057/zhafen/linefinder_data/core/m12m_res7100/data',\n",
       "   'tag': 'm12m_CGM_snum172',\n",
       "   'halo_data_dir': '/scratch/03057/zhafen/core/m12m_res7100/halo',\n",
       "   'ahf_index': 600,\n",
       "   'main_halo_id': 0},\n",
       "  'm11d_md': {'data_dir': '/scratch/03057/zhafen/linefinder_data/metal_diffusion/m11d_res7100/data',\n",
       "   'tag': 'm11d_md_CGM_snum172',\n",
       "   'halo_data_dir': '/scratch/03057/zhafen/metal_diffusion/m11d_res7100/halo',\n",
       "   'ahf_index': 600,\n",
       "   'main_halo_id': 0},\n",
       "  'm11e_md': {'data_dir': '/scratch/03057/zhafen/linefinder_data/metal_diffusion/m11e_res7100/data',\n",
       "   'tag': 'm11e_md_CGM_snum172',\n",
       "   'halo_data_dir': '/scratch/03057/zhafen/metal_diffusion/m11e_res7100/halo',\n",
       "   'ahf_index': 600,\n",
       "   'main_halo_id': 0},\n",
       "  'm11h_md': {'data_dir': '/scratch/03057/zhafen/linefinder_data/metal_diffusion/m11h_res7100/data',\n",
       "   'tag': 'm11h_md_CGM_snum172',\n",
       "   'halo_data_dir': '/scratch/03057/zhafen/metal_diffusion/m11h_res7100/halo',\n",
       "   'ahf_index': 600,\n",
       "   'main_halo_id': 0},\n",
       "  'm11i_md': {'data_dir': '/scratch/03057/zhafen/linefinder_data/metal_diffusion/m11i_res7100/data',\n",
       "   'tag': 'm11i_md_CGM_snum172',\n",
       "   'halo_data_dir': '/scratch/03057/zhafen/metal_diffusion/m11i_res7100/halo',\n",
       "   'ahf_index': 600,\n",
       "   'main_halo_id': 0},\n",
       "  'm12b_md': {'data_dir': '/scratch/03057/zhafen/linefinder_data/metal_diffusion/m12b_res7100/data',\n",
       "   'tag': 'm12b_md_CGM_snum172',\n",
       "   'halo_data_dir': '/scratch/03057/zhafen/metal_diffusion/m12b_res7100/halo',\n",
       "   'ahf_index': 600,\n",
       "   'main_halo_id': 0},\n",
       "  'm12c_md': {'data_dir': '/scratch/03057/zhafen/linefinder_data/metal_diffusion/m12c_res7100/data',\n",
       "   'tag': 'm12c_md_CGM_snum172',\n",
       "   'halo_data_dir': '/scratch/03057/zhafen/metal_diffusion/m12c_res7100/halo',\n",
       "   'ahf_index': 600,\n",
       "   'main_halo_id': 0},\n",
       "  'm12z_md': {'data_dir': '/scratch/03057/zhafen/linefinder_data/metal_diffusion/m12z_res4200/data',\n",
       "   'tag': 'm12z_md_CGM_snum172',\n",
       "   'halo_data_dir': '/scratch/03057/zhafen/metal_diffusion/m12z_res4200/halo',\n",
       "   'ahf_index': 600,\n",
       "   'main_halo_id': 0},\n",
       "  'm12r_md': {'data_dir': '/scratch/03057/zhafen/linefinder_data/metal_diffusion/m12r_res7100/data',\n",
       "   'tag': 'm12r_md_CGM_snum172',\n",
       "   'halo_data_dir': '/scratch/03057/zhafen/metal_diffusion/m12r_res7100/halo',\n",
       "   'ahf_index': 600,\n",
       "   'main_halo_id': 0},\n",
       "  'm12w_md': {'data_dir': '/scratch/03057/zhafen/linefinder_data/metal_diffusion/m12w_res7100/data',\n",
       "   'tag': 'm12w_md_CGM_snum172',\n",
       "   'halo_data_dir': '/scratch/03057/zhafen/metal_diffusion/m12w_res7100/halo',\n",
       "   'ahf_index': 600,\n",
       "   'main_halo_id': 0}})"
      ]
     },
     "execution_count": 15,
     "metadata": {},
     "output_type": "execute_result"
    }
   ],
   "source": [
    "defaults, variations = file_manager.get_linefinder_analysis_defaults_and_variations(\n",
    "    tag_tail,\n",
    "    sim_names = analysis_config.SIM_NAMES,\n",
    "    galdef = galdef,\n",
    ")\n",
    "defaults, variations"
   ]
  },
  {
   "cell_type": "code",
   "execution_count": 16,
   "metadata": {},
   "outputs": [],
   "source": [
    "w_set = worldline_set.WorldlineSet( defaults, variations )"
   ]
  },
  {
   "cell_type": "code",
   "execution_count": 17,
   "metadata": {},
   "outputs": [],
   "source": [
    "default_sim_name = list( w_set.keys() )[0]"
   ]
  },
  {
   "cell_type": "code",
   "execution_count": 18,
   "metadata": {},
   "outputs": [],
   "source": [
    "w = w_set[default_sim_name]"
   ]
  },
  {
   "cell_type": "code",
   "execution_count": 19,
   "metadata": {},
   "outputs": [],
   "source": [
    "classifications = copy.deepcopy( p_constants.CLASSIFICATIONS_CGM_FATE )\n",
    "classifications.append( 'is_in_CGM_not_sat' )\n",
    "classifications.append( 'is_CGM_fate_unclassified' )\n",
    "classifications += p_constants.CLASSIFICATIONS_LOCATION"
   ]
  },
  {
   "cell_type": "code",
   "execution_count": 20,
   "metadata": {},
   "outputs": [],
   "source": [
    "metafile_reader = read_metafile.MetafileReader(\n",
    "    file_manager.get_metafile_dir( default_sim_name )\n",
    ")"
   ]
  },
  {
   "cell_type": "code",
   "execution_count": 21,
   "metadata": {},
   "outputs": [
    {
     "data": {
      "text/plain": [
       "['is_in_main_gal',\n",
       " 'is_in_galaxy_halo_interface',\n",
       " 'is_in_CGM',\n",
       " 'is_in_IGM',\n",
       " 'is_in_other_gal_outside_CGM',\n",
       " 'is_in_other_CGM_not_main']"
      ]
     },
     "execution_count": 21,
     "metadata": {},
     "output_type": "execute_result"
    }
   ],
   "source": [
    "p_constants.CLASSIFICATIONS_LOCATION"
   ]
  },
  {
   "cell_type": "code",
   "execution_count": 22,
   "metadata": {},
   "outputs": [
    {
     "data": {
      "text/plain": [
       "['is_CGM_still',\n",
       " 'is_CGM_accreted',\n",
       " 'is_CGM_accreted_to_satellite',\n",
       " 'is_CGM_ejected',\n",
       " 'is_CGM_halo_transfer',\n",
       " 'is_in_CGM_not_sat',\n",
       " 'is_CGM_fate_unclassified',\n",
       " 'is_in_main_gal',\n",
       " 'is_in_galaxy_halo_interface',\n",
       " 'is_in_CGM',\n",
       " 'is_in_IGM',\n",
       " 'is_in_other_gal_outside_CGM',\n",
       " 'is_in_other_CGM_not_main']"
      ]
     },
     "execution_count": 22,
     "metadata": {},
     "output_type": "execute_result"
    }
   ],
   "source": [
    "classifications"
   ]
  },
  {
   "cell_type": "markdown",
   "metadata": {},
   "source": [
    "# Analyze Data"
   ]
  },
  {
   "cell_type": "markdown",
   "metadata": {},
   "source": [
    "### Get masses out"
   ]
  },
  {
   "cell_type": "markdown",
   "metadata": {},
   "source": [
    "#### Mass Fractions"
   ]
  },
  {
   "cell_type": "code",
   "execution_count": 23,
   "metadata": {},
   "outputs": [],
   "source": [
    "def choose_slice( classification ):\n",
    "        \n",
    "    if classification in p_constants.CLASSIFICATIONS_LOCATION:\n",
    "        i_ind = 0\n",
    "    else:\n",
    "        i_ind = ind\n",
    "        \n",
    "    return ( slice(None), i_ind )"
   ]
  },
  {
   "cell_type": "code",
   "execution_count": 24,
   "metadata": {},
   "outputs": [],
   "source": [
    "if do_calculation:\n",
    "    \n",
    "    CGM_selection = 'is_in_CGM'\n",
    "#     CGM_selection = 'is_in_CGM_not_sat'\n",
    "    \n",
    "    CGM_mass_fractions_fate = {}\n",
    "    CGM_mass_fractions_joint = {}\n",
    "\n",
    "    for sim_name in w_set.keys():\n",
    "        \n",
    "        print( sim_name )\n",
    "        \n",
    "        w = w_set[sim_name].data_object\n",
    "        \n",
    "        # Make a mask for gas (not stars) that is in the CGM\n",
    "        is_in_CGM_at_target = w.get_processed_data( 'is_in_CGM', sl=(slice(None),ind), )\n",
    "        is_gas_at_target = w.get_processed_data( 'PType', sl=(slice(None),ind) ) == l_config.PTYPE_GAS\n",
    "        is_in_CGM_at_target = is_in_CGM_at_target & is_gas_at_target\n",
    "        is_in_CGM_at_target_tiled = np.tile( is_in_CGM_at_target, ( w.n_snaps, 1 ) ).transpose()\n",
    "        w.data_masker.mask_data(\n",
    "            'is_in_CGM',\n",
    "            custom_mask = np.invert( is_in_CGM_at_target_tiled ),\n",
    "            optional_mask = True,\n",
    "            mask_name = 'in_CGM',\n",
    "        )\n",
    "        \n",
    "        # Make temperature masks\n",
    "        w.data_masker.mask_data(\n",
    "            'T',\n",
    "            0.,\n",
    "            10.**5.3,\n",
    "            optional_mask = True,\n",
    "            mask_name = 'cool',\n",
    "        )\n",
    "        w.data_masker.mask_data(\n",
    "            'T',\n",
    "            10.**5.3,\n",
    "            np.inf,\n",
    "            optional_mask = True,\n",
    "            mask_name = 'hot',\n",
    "        )\n",
    "        optional_masks = {\n",
    "            'all': [ 'in_CGM', ],\n",
    "            'cool': [ 'in_CGM', 'cool', ],\n",
    "            'hot': [ 'in_CGM', 'hot', ],\n",
    "        }\n",
    "        \n",
    "        for temp_cut in [ 'all', 'cool', 'hot' ]:\n",
    "            try:\n",
    "                CGM_mass_fractions_fate[temp_cut]\n",
    "                CGM_mass_fractions_joint[temp_cut]\n",
    "            except KeyError:\n",
    "                CGM_mass_fractions_fate[temp_cut] = {}\n",
    "                CGM_mass_fractions_joint[temp_cut] = {}\n",
    "\n",
    "            normalization_mass = w.get_selected_quantity(\n",
    "                selection_routine = CGM_selection,\n",
    "                ptype = None,\n",
    "                sl = (slice(None),ind),\n",
    "                selected_quantity_data_key = mass_key,\n",
    "                optional_masks = [ 'in_CGM' ],\n",
    "            )\n",
    "\n",
    "            # See what different fates consist of\n",
    "            for classification in classifications:\n",
    "                \n",
    "                # Choose what gas to select\n",
    "                if classification in p_constants.CLASSIFICATIONS_LOCATION:\n",
    "                    c_selection_routine = classification\n",
    "                else:\n",
    "                    c_selection_routine = [ classification, CGM_selection ]\n",
    "\n",
    "                # Get mass fraction\n",
    "                mass = w.get_selected_quantity(\n",
    "                    selection_routine = c_selection_routine,\n",
    "                    ptype = None,\n",
    "                    sl = choose_slice( classification ),\n",
    "                    selected_quantity_data_key = mass_key,\n",
    "                    optional_masks = optional_masks[temp_cut],\n",
    "                )\n",
    "                try:\n",
    "                    mass_frac = mass / normalization_mass\n",
    "                except ZeroDivisionError:\n",
    "                    np.testing.assert_allclose( mass, 0. )\n",
    "                    mass_frac = 0.0\n",
    "\n",
    "                # Store the data\n",
    "                try:\n",
    "                    CGM_mass_fractions_fate[temp_cut][classification]\n",
    "                    CGM_mass_fractions_joint[temp_cut][classification]\n",
    "                except KeyError:\n",
    "                    CGM_mass_fractions_fate[temp_cut][classification] = verdict.Dict( {} )\n",
    "                    CGM_mass_fractions_joint[temp_cut][classification] = verdict.Dict( {} )\n",
    "                CGM_mass_fractions_fate[temp_cut][classification][sim_name] = mass_frac\n",
    "\n",
    "                # Look at relationship between origin and fate\n",
    "                inner_classifications = (\n",
    "                    p_constants.CLASSIFICATIONS_CGM_ORIGIN +\n",
    "                    p_constants.CLASSIFICATIONS_LOCATION\n",
    "                )\n",
    "                for i_c in p_constants.CLASSIFICATIONS_CGM_ORIGIN:\n",
    "                    \n",
    "                                    \n",
    "                # Choose what gas to select\n",
    "                    if i_c in p_constants.CLASSIFICATIONS_LOCATION:\n",
    "                        i_c_selection_routine = [ classification, i_c, ]\n",
    "                    else:\n",
    "                        i_c_selection_routine = [ classification, i_c, CGM_selection ]\n",
    "\n",
    "                    # Get mass fraction\n",
    "                    mass = w.get_selected_quantity(\n",
    "                        selection_routine = [ classification, i_c, CGM_selection ],\n",
    "                        ptype = None,\n",
    "                        sl = choose_slice( classification ),\n",
    "                        selected_quantity_data_key = mass_key,\n",
    "                        optional_masks = optional_masks[temp_cut],\n",
    "                    )\n",
    "                    try:\n",
    "                        mass_frac = mass / normalization_mass\n",
    "                    except ZeroDivisionError:\n",
    "                        np.testing.assert_allclose( mass, 0. )\n",
    "                        mass_frac = 0.0\n",
    "\n",
    "                    # Store the data\n",
    "                    try:\n",
    "                        CGM_mass_fractions_joint[temp_cut][classification][i_c]\n",
    "                    except KeyError:\n",
    "                        CGM_mass_fractions_joint[temp_cut][classification][i_c] = verdict.Dict( {} )\n",
    "                    CGM_mass_fractions_joint[temp_cut][classification][i_c][sim_name] = mass_frac\n",
    "\n",
    "        w.clear_data()"
   ]
  },
  {
   "cell_type": "code",
   "execution_count": 25,
   "metadata": {},
   "outputs": [],
   "source": [
    "if do_calculation:\n",
    "    # Wrap up\n",
    "    CGM_mass_fractions = {}\n",
    "    CGM_mass_fractions['fate'] = CGM_mass_fractions_fate\n",
    "    CGM_mass_fractions['joint'] = CGM_mass_fractions_joint\n",
    "    CGM_mass_fractions = verdict.Dict( CGM_mass_fractions )"
   ]
  },
  {
   "cell_type": "markdown",
   "metadata": {},
   "source": [
    "#### Halo Masses"
   ]
  },
  {
   "cell_type": "code",
   "execution_count": 26,
   "metadata": {},
   "outputs": [],
   "source": [
    "if do_calculation:\n",
    "    w_set.data_object.retrieve_halo_data()\n",
    "    halo_masses = w_set.m_vir.inner_item( snum )"
   ]
  },
  {
   "cell_type": "markdown",
   "metadata": {},
   "source": [
    "#### Save and load results"
   ]
  },
  {
   "cell_type": "code",
   "execution_count": 27,
   "metadata": {},
   "outputs": [],
   "source": [
    "savefile = os.path.join(\n",
    "    file_manager.project_parameters['output_data_dir'],\n",
    "    'cgm_fates_{}_frac_snum{}.hdf5'.format( save_file_tags[mass_key], snum ),\n",
    ")"
   ]
  },
  {
   "cell_type": "code",
   "execution_count": 28,
   "metadata": {},
   "outputs": [],
   "source": [
    "if do_calculation:\n",
    "\n",
    "    # Format results to save\n",
    "    results_to_save = copy.deepcopy( CGM_mass_fractions )\n",
    "    results_to_save['m_vir'] = halo_masses\n",
    "\n",
    "    results_to_save.to_hdf5(\n",
    "        savefile, \n",
    "        condensed = True, \n",
    "        attributes = { 'redshift': w.redshift.values[ind] },\n",
    "    )\n",
    "    \n",
    "    redshift = w.redshift.values[ind]"
   ]
  },
  {
   "cell_type": "code",
   "execution_count": 29,
   "metadata": {},
   "outputs": [],
   "source": [
    "if not do_calculation:\n",
    "    results_to_load, attributes = verdict.Dict.from_hdf5( savefile, unpack=True )\n",
    "    \n",
    "    halo_masses = results_to_load['m_vir']\n",
    "    CGM_mass_fractions = copy.deepcopy( results_to_load )\n",
    "    del CGM_mass_fractions['m_vir']\n",
    "    \n",
    "    redshift = attributes['redshift']"
   ]
  },
  {
   "cell_type": "markdown",
   "metadata": {},
   "source": [
    "# Plot Data"
   ]
  },
  {
   "cell_type": "markdown",
   "metadata": {},
   "source": [
    "## Sanity Check"
   ]
  },
  {
   "cell_type": "code",
   "execution_count": 30,
   "metadata": {},
   "outputs": [
    {
     "data": {
      "text/plain": [
       "KeysView(Dict, {\n",
       "'m10q' : 0.0,\n",
       "'m10y' : 0.0,\n",
       "'m10z' : 0.0,\n",
       "'m11q' : 0.0,\n",
       "'m11v' : 0.00031533389119431376,\n",
       "'m11a' : 0.0,\n",
       "'m11b' : 0.0,\n",
       "'m11c' : 2.227674121968448e-05,\n",
       "'m12i' : 2.7861888156621717e-05,\n",
       "'m12f' : 9.455226063437294e-06,\n",
       "'m12m' : 5.483738277689554e-05,\n",
       "'m11d_md' : 0.0006314285565167665,\n",
       "'m11e_md' : 0.0,\n",
       "'m11h_md' : 0.0,\n",
       "'m11i_md' : 0.0,\n",
       "'m12b_md' : 1.8662023649085313e-05,\n",
       "'m12c_md' : 0.0001589046441949904,\n",
       "'m12z_md' : 0.0011066284496337175,\n",
       "'m12r_md' : 0.0006052989047020674,\n",
       "'m12w_md' : 0.0005893108318559825,\n",
       "}\n",
       ")"
      ]
     },
     "execution_count": 30,
     "metadata": {},
     "output_type": "execute_result"
    }
   ],
   "source": [
    "CGM_mass_fractions['joint']['all']['is_in_CGM']['is_CGM_satellite_ISM'].keys()"
   ]
  },
  {
   "cell_type": "code",
   "execution_count": 31,
   "metadata": {},
   "outputs": [
    {
     "data": {
      "text/plain": [
       "Dict, {\n",
       "'m10q' : 1.000000067127985,\n",
       "'m10y' : 1.0000000146683306,\n",
       "'m10z' : 0.9999999546562321,\n",
       "'m11q' : 0.9692915478808573,\n",
       "'m11v' : 1.000282533132122,\n",
       "'m11a' : 0.9999997245613486,\n",
       "'m11b' : 0.9999999753053999,\n",
       "'m11c' : 0.9665597091661766,\n",
       "'m12i' : 0.9736483195792971,\n",
       "'m12f' : 0.981365785325579,\n",
       "'m12m' : 0.845699323243025,\n",
       "'m11d_md' : 1.0005514199729078,\n",
       "'m11e_md' : 0.9999999859719537,\n",
       "'m11h_md' : 0.9929299495415762,\n",
       "'m11i_md' : 0.9981925357424188,\n",
       "'m12b_md' : 0.9897919683789951,\n",
       "'m12c_md' : 1.0001588797167642,\n",
       "'m12z_md' : 0.9593150313503429,\n",
       "'m12r_md' : 1.0006052097887732,\n",
       "'m12w_md' : 1.000377260003006,\n",
       "}"
      ]
     },
     "execution_count": 31,
     "metadata": {},
     "output_type": "execute_result"
    }
   ],
   "source": [
    "close_to_one = (\n",
    "    CGM_mass_fractions['fate']['all']['is_CGM_accreted'] +\n",
    "    CGM_mass_fractions['fate']['all']['is_CGM_accreted_to_satellite'] +\n",
    "    CGM_mass_fractions['fate']['all']['is_CGM_ejected'] +\n",
    "    CGM_mass_fractions['fate']['all']['is_CGM_still'] + \n",
    "    CGM_mass_fractions['fate']['all']['is_CGM_halo_transfer'] +\n",
    "    CGM_mass_fractions['joint']['all']['is_in_CGM']['is_CGM_satellite_ISM']\n",
    ")\n",
    "close_to_one"
   ]
  },
  {
   "cell_type": "markdown",
   "metadata": {},
   "source": [
    "# Test that all the fates are close to one, within 1%\n",
    "np.testing.assert_allclose( close_to_one.array(), 1., atol=0.05 )"
   ]
  },
  {
   "cell_type": "code",
   "execution_count": 32,
   "metadata": {},
   "outputs": [
    {
     "data": {
      "text/plain": [
       "Dict, {\n",
       "'m10q' : 1.0013306625187397,\n",
       "'m10y' : 1.000705972313881,\n",
       "'m10z' : 1.0010021411653724,\n",
       "'m11q' : 0.9991996437311172,\n",
       "'m11v' : 1.006406576372683,\n",
       "'m11a' : 1.0010740399884526,\n",
       "'m11b' : 1.0021745041012764,\n",
       "'m11c' : 1.000858980929479,\n",
       "'m12i' : 0.962584386128583,\n",
       "'m12f' : 0.9791444236470852,\n",
       "'m12m' : 0.919976775359828,\n",
       "'m11d_md' : 0.999231519876048,\n",
       "'m11e_md' : 0.9979732147767209,\n",
       "'m11h_md' : 0.9950268641114235,\n",
       "'m11i_md' : 0.999986771519616,\n",
       "'m12b_md' : 0.8952354071952868,\n",
       "'m12c_md' : 0.9294795956811868,\n",
       "'m12z_md' : 0.9703553455183282,\n",
       "'m12r_md' : 0.9834991875686683,\n",
       "'m12w_md' : 0.9146392844086222,\n",
       "}"
      ]
     },
     "execution_count": 32,
     "metadata": {},
     "output_type": "execute_result"
    }
   ],
   "source": [
    "close_to_one = (\n",
    "    CGM_mass_fractions['fate']['all']['is_in_CGM'] +\n",
    "    CGM_mass_fractions['fate']['all']['is_in_main_gal'] +\n",
    "    CGM_mass_fractions['fate']['all']['is_in_IGM'] +\n",
    "    CGM_mass_fractions['fate']['all']['is_in_galaxy_halo_interface'] + \n",
    "    CGM_mass_fractions['fate']['all']['is_in_other_gal_outside_CGM'] + \n",
    "    CGM_mass_fractions['fate']['all']['is_in_other_CGM_not_main']\n",
    ")\n",
    "close_to_one"
   ]
  },
  {
   "cell_type": "markdown",
   "metadata": {},
   "source": [
    "# Test that all the fates are close to one, within 1%\n",
    "np.testing.assert_allclose( close_to_one.array(), 1., atol=0.05 )"
   ]
  },
  {
   "cell_type": "markdown",
   "metadata": {},
   "source": [
    "## Setup"
   ]
  },
  {
   "cell_type": "code",
   "execution_count": 33,
   "metadata": {},
   "outputs": [
    {
     "data": {
      "text/plain": [
       "[2128955365.6220324, 816350427350.4275]"
      ]
     },
     "execution_count": 33,
     "metadata": {},
     "output_type": "execute_result"
    }
   ],
   "source": [
    "mass_range = [ halo_masses.array().min()/1.5, halo_masses.array().max()*1.5 ]\n",
    "mass_range"
   ]
  },
  {
   "cell_type": "code",
   "execution_count": 34,
   "metadata": {},
   "outputs": [],
   "source": [
    "m_vir_md_split = halo_masses.split_by_key_slice( slice(4,10), '_md' )\n",
    "m_vir_fiducials = m_vir_md_split[False]\n",
    "m_vir_mds = m_vir_md_split[True]"
   ]
  },
  {
   "cell_type": "code",
   "execution_count": 35,
   "metadata": {},
   "outputs": [],
   "source": [
    "def save_plot_stage( fig, base_save_file, index ):\n",
    "\n",
    "    save_file = '{}.{}.pdf'.format( base_save_file, index )\n",
    "    \n",
    "    plotting.save_fig(\n",
    "        out_dir = file_manager.project_parameters['extras_dir'],\n",
    "        save_file = save_file,\n",
    "        fig = fig,\n",
    "    )\n",
    "    \n",
    "    return index + 1"
   ]
  },
  {
   "cell_type": "markdown",
   "metadata": {},
   "source": [
    "## Mass Fraction Plot"
   ]
  },
  {
   "cell_type": "markdown",
   "metadata": {},
   "source": [
    "### Load the opposite of the primary data set\n",
    "For comparison."
   ]
  },
  {
   "cell_type": "code",
   "execution_count": 36,
   "metadata": {},
   "outputs": [],
   "source": [
    "opp_key = {\n",
    "    'M': 'enriched_metal_mass',\n",
    "    'enriched_metal_mass': 'M',\n",
    "}\n",
    "\n",
    "savefile = os.path.join(\n",
    "    file_manager.project_parameters['output_data_dir'],\n",
    "    'cgm_fates_{}_frac_snum{}.hdf5'.format( save_file_tags[opp_key[mass_key]], snum ),\n",
    ")\n",
    "\n",
    "results_to_load, attributes = verdict.Dict.from_hdf5( savefile, unpack=True )\n",
    "\n",
    "b_CGM_mass_fractions = copy.deepcopy( results_to_load )\n",
    "del b_CGM_mass_fractions['m_vir']"
   ]
  },
  {
   "cell_type": "markdown",
   "metadata": {},
   "source": [
    "## Fiducial"
   ]
  },
  {
   "cell_type": "code",
   "execution_count": 37,
   "metadata": {
    "slideshow": {
     "slide_type": "-"
    }
   },
   "outputs": [
    {
     "data": {
      "image/png": "[encoded data removed]",
      "text/plain": [
       "<Figure size 720x576 with 1 Axes>"
      ]
     },
     "execution_count": 37,
     "metadata": {},
     "output_type": "execute_result"
    }
   ],
   "source": [
    "if presentation_figure:\n",
    "    plt.style.use('dark_background')\n",
    "    \n",
    "    # Make the satellite accretion easier to see on a dark background\n",
    "    l_config.COLORSCHEME['is_CGM_accreted_to_satellite'] = matplotlib.colors.hsv_to_rgb(\n",
    "        np.array([ 250./360., 0.65, 1. ]),\n",
    "    )\n",
    "        \n",
    "    \n",
    "fig_facecolor = {\n",
    "    True: 'k',\n",
    "    False: 'w',\n",
    "}\n",
    "\n",
    "fig = plt.figure( figsize=(10,8), facecolor=fig_facecolor[presentation_figure] )\n",
    "ax = plt.gca()\n",
    "\n",
    "# Some plot settings\n",
    "y_min = 1e-4\n",
    "y_max = 1\n",
    "alpha = 1.0\n",
    "\n",
    "# Plot data points\n",
    "color_objects = []\n",
    "labels = []\n",
    "j = 0\n",
    "for k, classification in enumerate( p_constants.CLASSIFICATIONS_CGM_FATE ):\n",
    "        \n",
    "    if presentation_figure:\n",
    "                \n",
    "        j = save_plot_stage( fig, 'CGM_{}_frac_vs_Mh{}'.format( save_file_tags[mass_key], tag_tail ), j )\n",
    "    \n",
    "    if classification in [ 'is_in_CGM', 'is_CGM_halo_transfer' ]:\n",
    "        continue\n",
    "        \n",
    "    item = CGM_mass_fractions['fate']['all'][classification]\n",
    "    \n",
    "    md_split = item.split_by_key_slice( slice(4,10), '_md' )\n",
    "    fiducials = md_split[False]\n",
    "    mds = md_split[True]\n",
    "    \n",
    "    edgecolor = np.array( matplotlib.colors.colorConverter.to_rgba(\n",
    "        l_config.COLORSCHEME[classification]\n",
    "    ) )\n",
    "    edgecolor[-1] = alpha\n",
    "    \n",
    "    # Default points\n",
    "    ax.scatter(\n",
    "        m_vir_fiducials.array(),\n",
    "        fiducials.array(),\n",
    "        s = 130,\n",
    "        color = None,\n",
    "        zorder = 100 - k,\n",
    "        linewidth = 0,\n",
    "        facecolors = l_config.COLORSCHEME[classification],\n",
    "        alpha = alpha,\n",
    "    )\n",
    "    \n",
    "    if mass_key != 'M':\n",
    "        facecolors = 'none'\n",
    "        color = edgecolor\n",
    "    else:\n",
    "        facecolors = l_config.COLORSCHEME[classification]\n",
    "        color = 'none'\n",
    "        \n",
    "    # Turbulent metal diffusion\n",
    "    ax.scatter(\n",
    "        m_vir_mds.array(),\n",
    "        mds.array(),\n",
    "        s = 120,\n",
    "        color = color,\n",
    "        marker = 'o',\n",
    "        zorder = 100 - k,\n",
    "        facecolors = facecolors,\n",
    "        linewidth = 3.5,\n",
    "        alpha = alpha,\n",
    "    )\n",
    "    \n",
    "    # Box plot\n",
    "    if mass_key != 'M':\n",
    "        x_data_list = [ m_vir_mds, m_vir_fiducials, ]\n",
    "        y_data_list = [ mds, fiducials, ]\n",
    "        linestyles = [ '--', '-', ]\n",
    "    else:\n",
    "        x_data_list = [ halo_masses, ]\n",
    "        y_data_list = [ item, ]\n",
    "        linestyles = [ '-', ]\n",
    "    for x_data, y_data, linestyle in zip( x_data_list, y_data_list, linestyles ):\n",
    "        x_datas = x_data.split_by_dict( l_config.MASS_BINS, return_list=True )\n",
    "        y_datas = y_data.split_by_dict( l_config.MASS_BINS, return_list=True )\n",
    "        means = plotting.box_plot(\n",
    "            x_datas,\n",
    "            y_datas,\n",
    "            ax = ax,\n",
    "            color = l_config.COLORSCHEME[classification],\n",
    "            box_zorder = 50 - k,\n",
    "            blank_zorder = 30 - k,\n",
    "            line_zorder = 10 - k,\n",
    "    #         linewidth = 7 - k,\n",
    "            linewidth = 5,\n",
    "            linestyle = linestyle,\n",
    "            y_floor = 1e-5,\n",
    "            plot_boxes = False,\n",
    "            line_x_min = x_data.array().min(),\n",
    "            line_x_max = x_data.array().max(),\n",
    "            y_mean_statistic = np.median,\n",
    "            return_means = True,\n",
    "        )\n",
    "        \n",
    "    if classification is not None:\n",
    "        # Make virtual artists to allow a legend to appear\n",
    "        color_object = matplotlib.patches.Rectangle(                         \n",
    "            (0, 0),                                                          \n",
    "            1,                                                               \n",
    "            1,                                                               \n",
    "            fc = l_config.COLORSCHEME[classification],                                 \n",
    "            ec = l_config.COLORSCHEME[classification],                                 \n",
    "            alpha = p_constants.CLASSIFICATION_ALPHA,                        \n",
    "        )\n",
    "        color_objects.append( color_object )                                 \n",
    "        labels.append( p_constants.CLASSIFICATION_LABELS[classification] )\n",
    "        \n",
    "    ################################################################################\n",
    "    # Annotate lines   \n",
    "\n",
    "    if mass_key != 'M':\n",
    "        # Default args\n",
    "        if snum == 465:\n",
    "            xy = [ 0.91*x_data.array().min(), means['y'][np.argmin( means['x'] )] ]\n",
    "            ha = 'right'\n",
    "        elif snum == 172:\n",
    "            xy = [ 1.1*x_data.array().max(), means['y'][np.argmax( means['x'] )] ]\n",
    "            ha = 'left'\n",
    "        label_args = {\n",
    "            's' : p_constants.CLASSIFICATION_LABELS[classification],\n",
    "            'xy' : xy,\n",
    "            'fontsize' : 22,\n",
    "            'color' : 'k',\n",
    "            'va': 'center',\n",
    "            'ha': ha,\n",
    "        }\n",
    "\n",
    "        # Customization\n",
    "        if classification == 'is_CGM_accreted':\n",
    "            if snum == 172:\n",
    "                label_args['xy'][1] *= 1.2\n",
    "            elif snum == 465:\n",
    "                label_args['xy'][1] *= 1.4\n",
    "        elif classification == 'is_CGM_accreted_to_satellite':\n",
    "            label_args['s'] = 'accreted -\\nsatellite'\n",
    "            if snum == 465:\n",
    "                label_args['xy'] = [ 1.5*1e11, 7e-3]\n",
    "                label_args['ha'] = 'left'\n",
    "        elif classification == 'is_CGM_still':\n",
    "            label_args['s'] = 'remains\\nCGM'\n",
    "            if snum == 465:\n",
    "                label_args['xy'][1] *= 1./1.2\n",
    "        elif classification == 'is_CGM_ejected':\n",
    "            if snum == 172:\n",
    "                label_args['xy'][1] *= 1./1.2\n",
    "            elif snum == 465:\n",
    "                label_args['xy'][1] *= 1./1.4\n",
    "\n",
    "        text = ax.annotate( **label_args )\n",
    "\n",
    "        text.set_path_effects([\n",
    "            path_effects.Stroke(\n",
    "                linewidth=3, \n",
    "                foreground=l_config.COLORSCHEME[classification],\n",
    "                alpha = 0.5,\n",
    "            ),\n",
    "            path_effects.Normal(),\n",
    "        ])\n",
    "        \n",
    "    # Add a redshift label\n",
    "    if k == 0:\n",
    "        redshift_label = r'$z=' + '{:.02g}'.format( redshift ) + '$'\n",
    "        ax.annotate( s=redshift_label, xy=(0.05,1.0125), xycoords='axes fraction', fontsize=22 )\n",
    "\n",
    "    if snum == 172 or presentation_figure:\n",
    "        ax.set_xlabel( r'$M_{\\rm h}$ ($M_{\\odot}$)', fontsize=24 )\n",
    "    ax.set_ylabel( r'CGM {} Fraction'.format( axes_labels[mass_key] ), fontsize=24 )\n",
    "\n",
    "    ax.set_xlim( 2e9, 2e12 )\n",
    "    ax.set_ylim( y_min, y_max )\n",
    "\n",
    "    ax.set_xscale( 'log' )\n",
    "    ax.set_yscale( 'log' )\n",
    "    \n",
    "    # Add ticks to the righ\n",
    "    ax.yaxis.set_ticks_position( 'both' )\n",
    "\n",
    "    if snum == 465:\n",
    "        legend = ax.legend(\n",
    "            color_objects,\n",
    "            labels,\n",
    "            prop={'size': 17.5},\n",
    "            ncol=1,\n",
    "            loc='lower left',\n",
    "            fontsize=24,\n",
    "            framealpha = 0.8,\n",
    "        )\n",
    "        legend.set_zorder( 120 )\n",
    "\n",
    "# if presentation_figure:\n",
    "    \n",
    "#     save_file = 'CGM_{}_frac_vs_Mh{}.{}.pdf'.format( save_file_tags[mass_key], tag_tail )\n",
    "\n",
    "#     plotting.save_fig(\n",
    "#         out_dir = file_manager.project_parameters['extras_dir'],\n",
    "#         save_file = save_file,\n",
    "#         fig = fig,\n",
    "#     )\n",
    "\n",
    "fig"
   ]
  },
  {
   "cell_type": "markdown",
   "metadata": {},
   "source": [
    "## Metal Mass Version"
   ]
  },
  {
   "cell_type": "code",
   "execution_count": 38,
   "metadata": {
    "slideshow": {
     "slide_type": "-"
    }
   },
   "outputs": [
    {
     "data": {
      "image/png": "[encoded data removed]",
      "text/plain": [
       "<Figure size 720x576 with 1 Axes>"
      ]
     },
     "execution_count": 38,
     "metadata": {},
     "output_type": "execute_result"
    }
   ],
   "source": [
    "fig = plt.figure( figsize=(10,8), facecolor='w' )\n",
    "ax = plt.gca()\n",
    "\n",
    "# Some plot settings\n",
    "y_min = 1e-4\n",
    "y_max = 1\n",
    "alpha = 1.0\n",
    "\n",
    "# Plot data points\n",
    "color_objects = []\n",
    "labels = []\n",
    "j = 0\n",
    "for k, classification in enumerate( p_constants.CLASSIFICATIONS_CGM_FATE ):\n",
    "    \n",
    "    if presentation_figure:\n",
    "                \n",
    "        j = save_plot_stage( fig, 'CGM_{}_frac_vs_Mh{}'.format( save_file_tags[mass_key], tag_tail ), j )\n",
    "    \n",
    "    if classification in [ 'is_in_CGM', 'is_CGM_halo_transfer' ]:\n",
    "        continue\n",
    "        \n",
    "    item = CGM_mass_fractions['fate']['all'][classification]\n",
    "    \n",
    "    md_split = item.split_by_key_slice( slice(4,10), '_md' )\n",
    "    fiducials = md_split[False]\n",
    "    mds = md_split[True]\n",
    "    \n",
    "    edgecolor = np.array( matplotlib.colors.colorConverter.to_rgba(\n",
    "        l_config.COLORSCHEME[classification]\n",
    "    ) )\n",
    "    edgecolor[-1] = alpha\n",
    "        \n",
    "    # Default points\n",
    "    ax.scatter(\n",
    "        m_vir_fiducials.array(),\n",
    "        fiducials.array(),\n",
    "        s = 130,\n",
    "        color = None,\n",
    "        zorder = 100 - k,\n",
    "        linewidth = 0,\n",
    "        facecolors = l_config.COLORSCHEME[classification],\n",
    "        alpha = alpha,\n",
    "    )\n",
    "    \n",
    "    if mass_key != 'M':\n",
    "        facecolors = 'none'\n",
    "        color = edgecolor\n",
    "    else:\n",
    "        facecolors = l_config.COLORSCHEME[classification]\n",
    "        color = 'none'\n",
    "        \n",
    "    # Turbulent metal diffusion\n",
    "    ax.scatter(\n",
    "        m_vir_mds.array(),\n",
    "        mds.array(),\n",
    "        s = 120,\n",
    "        color = color,\n",
    "        marker = 'o',\n",
    "        zorder = 100 - k,\n",
    "        facecolors = facecolors,\n",
    "        linewidth = 3.5,\n",
    "        alpha = alpha,\n",
    "    )\n",
    "    \n",
    "#     # Box plot\n",
    "#     if mass_key != 'M':\n",
    "#         x_data_list = [ m_vir_mds, m_vir_fiducials, ]\n",
    "#         y_data_list = [ mds, fiducials, ]\n",
    "#         linestyles = [ '--', '-', ]\n",
    "#     else:\n",
    "    item_b = b_CGM_mass_fractions['fate']['all'][classification]\n",
    "    x_data_list = [ halo_masses, halo_masses ]\n",
    "    y_data_list = [ item, item_b ]\n",
    "    linewidths = [ 5, 2.5 ]\n",
    "    for x_data, y_data, linewidth in zip( x_data_list, y_data_list, linewidths ):        \n",
    "        x_datas = x_data.split_by_dict( l_config.MASS_BINS, return_list=True )\n",
    "        y_datas = y_data.split_by_dict( l_config.MASS_BINS, return_list=True )\n",
    "        means = plotting.box_plot(\n",
    "            x_datas,\n",
    "            y_datas,\n",
    "            ax = ax,\n",
    "            color = l_config.COLORSCHEME[classification],\n",
    "            box_zorder = 50 - k,\n",
    "            blank_zorder = 30 - k,\n",
    "            line_zorder = 10 - k,\n",
    "    #         linewidth = 7 - k,\n",
    "            linewidth = linewidth,\n",
    "            linestyle = '-',\n",
    "            y_floor = 1e-5,\n",
    "            plot_boxes = False,\n",
    "            line_x_min = x_data.array().min(),\n",
    "            line_x_max = x_data.array().max(),\n",
    "            y_mean_statistic = np.median,\n",
    "            return_means = True,\n",
    "        )\n",
    "        \n",
    "    if classification is not None:\n",
    "        # Make virtual artists to allow a legend to appear\n",
    "        color_object = matplotlib.patches.Rectangle(                         \n",
    "            (0, 0),                                                          \n",
    "            1,                                                               \n",
    "            1,                                                               \n",
    "            fc = l_config.COLORSCHEME[classification],                                 \n",
    "            ec = l_config.COLORSCHEME[classification],                                 \n",
    "            alpha = p_constants.CLASSIFICATION_ALPHA,                        \n",
    "        )\n",
    "        color_objects.append( color_object )                                 \n",
    "        labels.append( p_constants.CLASSIFICATION_LABELS[classification] )\n",
    "        \n",
    "    ################################################################################\n",
    "    # Annotate lines   \n",
    "\n",
    "    if mass_key != 'M':\n",
    "        # Default args\n",
    "        if snum == 465:\n",
    "            xy = [ 0.91*x_data.array().min(), means['y'][np.argmin( means['x'] )] ]\n",
    "            ha = 'right'\n",
    "        elif snum == 172:\n",
    "            xy = [ 1.1*x_data.array().max(), means['y'][np.argmax( means['x'] )] ]\n",
    "            ha = 'left'\n",
    "        label_args = {\n",
    "            's' : p_constants.CLASSIFICATION_LABELS[classification],\n",
    "            'xy' : xy,\n",
    "            'fontsize' : 22,\n",
    "            'color' : 'k',\n",
    "            'va': 'center',\n",
    "            'ha': ha,\n",
    "        }\n",
    "\n",
    "        # Customization\n",
    "        if classification == 'is_CGM_accreted':\n",
    "            if snum == 172:\n",
    "                label_args['xy'][1] *= 1.2\n",
    "            elif snum == 465:\n",
    "                label_args['xy'][1] *= 1.4\n",
    "        elif classification == 'is_CGM_accreted_to_satellite':\n",
    "            label_args['s'] = 'accreted -\\nsatellite'\n",
    "            if snum == 465:\n",
    "                label_args['xy'] = [ 1.5*1e11, 7e-3]\n",
    "                label_args['ha'] = 'left'\n",
    "        elif classification == 'is_CGM_still':\n",
    "            label_args['s'] = 'remains\\nCGM'\n",
    "            if snum == 465:\n",
    "                label_args['xy'][1] *= 1./1.2\n",
    "        elif classification == 'is_CGM_ejected':\n",
    "            if snum == 172:\n",
    "                label_args['xy'][1] *= 1./1.2\n",
    "            elif snum == 465:\n",
    "                label_args['xy'][1] *= 1./1.4\n",
    "\n",
    "#         text = ax.annotate( **label_args )\n",
    "\n",
    "#         text.set_path_effects([\n",
    "#             path_effects.Stroke(\n",
    "#                 linewidth=3, \n",
    "#                 foreground=l_config.COLORSCHEME[classification],\n",
    "#                 alpha = 0.5,\n",
    "#             ),\n",
    "#             path_effects.Normal(),\n",
    "#         ])\n",
    "        \n",
    "    # Add a redshift label\n",
    "    if k == 0:\n",
    "        redshift_label = r'$z=' + '{:.02g}'.format( redshift ) + '$'\n",
    "        ax.annotate( s=redshift_label, xy=(0.05,1.0125), xycoords='axes fraction', fontsize=22 )\n",
    "\n",
    "    if snum == 172:\n",
    "        ax.set_xlabel( r'$M_{\\rm h}$ ($M_{\\odot}$)', fontsize=24 )\n",
    "    ax.set_ylabel( r'CGM {} Fraction'.format( axes_labels[mass_key] ), fontsize=24 )\n",
    "\n",
    "    ax.set_xlim( 2e9, 2e12 )\n",
    "    ax.set_ylim( y_min, y_max )\n",
    "\n",
    "    ax.set_xscale( 'log' )\n",
    "    ax.set_yscale( 'log' )\n",
    "    \n",
    "    # Add ticks to the righ\n",
    "    ax.yaxis.set_ticks_position( 'both' )\n",
    "\n",
    "    if snum == 465:\n",
    "        legend = ax.legend(\n",
    "            color_objects,\n",
    "            labels,\n",
    "            prop={'size': 17.5},\n",
    "            ncol=1,\n",
    "            loc='lower left',\n",
    "            fontsize=24,\n",
    "            framealpha = 0.8,\n",
    "        )\n",
    "        legend.set_zorder( 120 )\n",
    "\n",
    "save_file = 'CGM_{}_frac_vs_Mh{}.pdf'.format( save_file_tags[mass_key], tag_tail )\n",
    "\n",
    "if mass_key != 'M':\n",
    "    plotting.save_fig(\n",
    "        out_dir = file_manager.get_project_figure_dir(),\n",
    "        save_file = save_file,\n",
    "        fig = fig,\n",
    "    )\n",
    "\n",
    "fig"
   ]
  },
  {
   "cell_type": "markdown",
   "metadata": {},
   "source": [
    "## Multi-panel"
   ]
  },
  {
   "cell_type": "code",
   "execution_count": 39,
   "metadata": {
    "slideshow": {
     "slide_type": "-"
    }
   },
   "outputs": [
    {
     "name": "stdout",
     "output_type": "stream",
     "text": [
      "File saved at /home1/03057/zhafen/papers/CGM_fate/figures/CGM_mass_frac_vs_Mh_CGM_snum172.pdf\n"
     ]
    },
    {
     "data": {
      "image/png": "[encoded data removed]",
      "text/plain": [
       "<Figure size 1440x576 with 2 Axes>"
      ]
     },
     "execution_count": 39,
     "metadata": {},
     "output_type": "execute_result"
    }
   ],
   "source": [
    "fig = plt.figure( figsize=(20,8), facecolor='w' )\n",
    "main_ax = plt.gca()\n",
    "\n",
    "gs = matplotlib.gridspec.GridSpec( 1, 2, )\n",
    "gs.update( hspace=0.00001 )\n",
    "\n",
    "ax = plt.subplot( gs[0,0] )\n",
    "\n",
    "# Some plot settings\n",
    "y_min = 1e-4\n",
    "y_max = 1\n",
    "alpha = 1.0\n",
    "\n",
    "# Plot data points\n",
    "color_objects = []\n",
    "labels = []\n",
    "j = 0\n",
    "for k, classification in enumerate( p_constants.CLASSIFICATIONS_CGM_FATE ):\n",
    "    \n",
    "    if presentation_figure:\n",
    "                \n",
    "        j = save_plot_stage( fig, 'CGM_{}_frac_vs_Mh{}'.format( save_file_tags[mass_key], tag_tail ), j )\n",
    "    \n",
    "    if classification in [ 'is_in_CGM', 'is_CGM_halo_transfer' ]:\n",
    "        continue\n",
    "        \n",
    "    fid_linestyle = {\n",
    "        'all': '-',\n",
    "        'cool': '--',\n",
    "        'hot': ':',\n",
    "    }\n",
    "    fid_marker = {\n",
    "        'all': 'o',\n",
    "        'cool': 6,\n",
    "        'hot': 7,\n",
    "    }\n",
    "    \n",
    "    for t_cut in [ 'all', ]:\n",
    "        item = CGM_mass_fractions['fate'][t_cut][classification]\n",
    "\n",
    "        md_split = item.split_by_key_slice( slice(4,10), '_md' )\n",
    "        fiducials = md_split[False]\n",
    "        mds = md_split[True]\n",
    "\n",
    "        edgecolor = np.array( matplotlib.colors.colorConverter.to_rgba(\n",
    "            l_config.COLORSCHEME[classification]\n",
    "        ) )\n",
    "        edgecolor[-1] = alpha\n",
    "\n",
    "        if t_cut == 'all':\n",
    "\n",
    "            # Default points\n",
    "            ax.scatter(\n",
    "                m_vir_fiducials.array(),\n",
    "                fiducials.array(),\n",
    "                marker=fid_marker[t_cut],\n",
    "                s = 130,\n",
    "                color = None,\n",
    "                zorder = 100 - k,\n",
    "                linewidth = 0,\n",
    "                facecolors = l_config.COLORSCHEME[classification],\n",
    "                alpha = alpha,\n",
    "            )\n",
    "\n",
    "            if mass_key != 'M':\n",
    "                facecolors = 'none'\n",
    "                color = edgecolor\n",
    "            else:\n",
    "                facecolors = l_config.COLORSCHEME[classification]\n",
    "                color = 'none'\n",
    "\n",
    "            # Turbulent metal diffusion\n",
    "            ax.scatter(\n",
    "                m_vir_mds.array(),\n",
    "                mds.array(),\n",
    "                marker=fid_marker[t_cut],\n",
    "                s = 120,\n",
    "                color = color,\n",
    "                zorder = 100 - k,\n",
    "                facecolors = facecolors,\n",
    "                linewidth = 3.5,\n",
    "                alpha = alpha,\n",
    "            )\n",
    "\n",
    "        # Box plot\n",
    "        if mass_key != 'M':\n",
    "            x_data_list = [ m_vir_fiducials, m_vir_mds, ]\n",
    "            y_data_list = [ fiducials, mds, ]\n",
    "            linestyles = [ '-', '--', ]\n",
    "        else:\n",
    "            x_data_list = [ halo_masses, ]\n",
    "            y_data_list = [ item, ]\n",
    "            linestyles = [ fid_linestyle[t_cut], ]\n",
    "        for x_data, y_data, linestyle in zip( x_data_list, y_data_list, linestyles ):\n",
    "            x_datas = x_data.split_by_dict( l_config.MASS_BINS, return_list=True )\n",
    "            y_datas = y_data.split_by_dict( l_config.MASS_BINS, return_list=True )\n",
    "            means = plotting.box_plot(\n",
    "                x_datas,\n",
    "                y_datas,\n",
    "                ax = ax,\n",
    "                color = l_config.COLORSCHEME[classification],\n",
    "                box_zorder = 50 - k,\n",
    "                blank_zorder = 30 - k,\n",
    "                line_zorder = 10 - k,\n",
    "        #         linewidth = 7 - k,\n",
    "                linewidth = 5,\n",
    "                linestyle = linestyle,\n",
    "                y_floor = 1e-5,\n",
    "                plot_boxes = False,\n",
    "                line_x_min = x_data.array().min(),\n",
    "                line_x_max = x_data.array().max(),\n",
    "                y_mean_statistic = np.median,\n",
    "                return_means = True,\n",
    "            )\n",
    "            \n",
    "        # Make lines for metal masses\n",
    "        item_b = b_CGM_mass_fractions['fate']['all'][classification]\n",
    "        x_datas = halo_masses.split_by_dict( l_config.MASS_BINS, return_list=True )\n",
    "        y_datas = item_b.split_by_dict( l_config.MASS_BINS, return_list=True )\n",
    "        means = plotting.box_plot(\n",
    "            x_datas,\n",
    "            y_datas,\n",
    "            ax = ax,\n",
    "            color = l_config.COLORSCHEME[classification],\n",
    "            box_zorder = 50 - k,\n",
    "            blank_zorder = 30 - k,\n",
    "            line_zorder = 10 - k,\n",
    "    #         linewidth = 7 - k,\n",
    "            linewidth = 3.5,\n",
    "            linestyle = '--',\n",
    "            y_floor = 1e-5,\n",
    "            plot_boxes = False,\n",
    "            line_x_min = x_data.array().min(),\n",
    "            line_x_max = x_data.array().max(),\n",
    "            y_mean_statistic = np.median,\n",
    "            return_means = True,\n",
    "        )\n",
    "            \n",
    "        if classification is not None:\n",
    "            # Make virtual artists to allow a legend to appear\n",
    "            color_object = matplotlib.patches.Rectangle(                         \n",
    "                (0, 0),                                                          \n",
    "                1,                                                               \n",
    "                1,                                                               \n",
    "                fc = l_config.COLORSCHEME[classification],                                 \n",
    "                ec = l_config.COLORSCHEME[classification],                                 \n",
    "                alpha = p_constants.CLASSIFICATION_ALPHA,                        \n",
    "            )\n",
    "            color_objects.append( color_object )                                 \n",
    "            labels.append( p_constants.CLASSIFICATION_LABELS[classification] )\n",
    "        \n",
    "        if t_cut == 'all':\n",
    "            \n",
    "            ################################################################################\n",
    "            # Annotate lines   \n",
    "\n",
    "            # Default args\n",
    "            if snum == 465:\n",
    "                xy = [ 0.91*x_data.array().min(), means['y'][np.argmin( means['x'] )] ]\n",
    "                ha = 'right'\n",
    "            elif snum == 172:\n",
    "                xy = [ 1.1*x_data.array().max(), means['y'][np.argmax( means['x'] )] ]\n",
    "                ha = 'left'\n",
    "            label_args = {\n",
    "                's' : p_constants.CLASSIFICATION_LABELS[classification],\n",
    "                'xy' : xy,\n",
    "                'fontsize' : 22,\n",
    "                'color' : 'k',\n",
    "                'va': 'center',\n",
    "                'ha': ha,\n",
    "            }\n",
    "\n",
    "            # Customization\n",
    "            if classification == 'is_in_main_gal':\n",
    "                label_args['s'] = 'main\\ngalaxy'\n",
    "                if snum == 465:\n",
    "                    label_args['xy'][1] *= 0.9\n",
    "                elif snum == 172:\n",
    "                    label_args['xy'][1] *= 1.2\n",
    "            elif classification == 'is_in_galaxy_halo_interface':\n",
    "                label_args['s'] = 'galaxy-\\nhalo\\ninterface'\n",
    "                if snum == 465:\n",
    "                    label_args['xy'][1] *= 0.15\n",
    "                elif snum == 172:\n",
    "                    label_args['xy'][1] *= 0.5\n",
    "            elif classification == 'is_in_IGM' and snum == 465:\n",
    "                    label_args['xy'][1] *= 1.2\n",
    "            elif classification == 'is_in_other_CGM_not_main':\n",
    "                label_args['s'] = 'external\\nCGM'\n",
    "                if snum == 465:\n",
    "                    label_args['xy'] = [ 5e11, 1e-3 ]\n",
    "            elif classification == 'is_CGM_accreted' and snum == 465:\n",
    "                label_args['xy'][1] *= 0.9\n",
    "            elif classification == 'is_CGM_accreted_to_satellite':\n",
    "                label_args['s'] = 'accreted -\\nsatellite'\n",
    "                if snum == 465:\n",
    "                    label_args['xy'] = [ 1.5*1e11, 1e-2 ]\n",
    "                    label_args['ha'] = 'left'\n",
    "            elif classification == 'is_CGM_still':\n",
    "                label_args['s'] = 'remains\\nCGM'\n",
    "                if snum == 465:\n",
    "                    label_args['xy'][1] *= 1.1\n",
    "            elif classification == 'is_CGM_ejected' and snum == 465:\n",
    "                label_args['xy'][1] *= 0.7\n",
    "\n",
    "#             text = ax.annotate( **label_args )\n",
    "\n",
    "#             text.set_path_effects([\n",
    "#                 path_effects.Stroke(\n",
    "#                     linewidth=3, \n",
    "#                     foreground=l_config.COLORSCHEME[classification],\n",
    "#                     alpha = 0.5,\n",
    "#                 ),\n",
    "#                 path_effects.Normal(),\n",
    "#             ])\n",
    "\n",
    "# Add a redshift label\n",
    "redshift_label = r'$z=' + '{:.02g}'.format( redshift ) + '$'\n",
    "ax.annotate( s=redshift_label, xy=(0.05,1.0125), xycoords='axes fraction', fontsize=22 )\n",
    "\n",
    "if snum == 172:\n",
    "    ax.set_xlabel( r'$M_{\\rm h}$ ($M_{\\odot}$)', fontsize=24 )\n",
    "ax.set_ylabel( r'CGM Baryon (Metal) {} Fraction'.format( axes_labels[mass_key] ), fontsize=24 )\n",
    "\n",
    "ax.set_xlim( 2e9, 2e12 )\n",
    "ax.set_ylim( y_min, y_max )\n",
    "\n",
    "ax.set_xscale( 'log' )\n",
    "ax.set_yscale( 'log' )\n",
    "\n",
    "# Add ticks to the righ\n",
    "ax.yaxis.set_ticks_position( 'both' )\n",
    "\n",
    "if snum == 465:\n",
    "    ax.annotate(\n",
    "        s = 'Proximate Fate',\n",
    "        xy = ( 0.5, 1. ),\n",
    "        va = 'bottom',\n",
    "        ha = 'center',\n",
    "        xycoords = 'axes fraction',\n",
    "        fontsize = 28,\n",
    "    )\n",
    "    \n",
    "if snum == 465:\n",
    "    legend = ax.legend(\n",
    "        color_objects,\n",
    "        labels,\n",
    "        prop={'size': 17.5},\n",
    "        ncol=1,\n",
    "        loc='lower left',\n",
    "        fontsize=24,\n",
    "        framealpha = 0.8,\n",
    "    )\n",
    "    legend.set_zorder( 120 )\n",
    "\n",
    "\n",
    "\n",
    "fig\n",
    "\n",
    "ax = plt.subplot( gs[0,1] )\n",
    "\n",
    "# Some plot settings\n",
    "y_min = 1e-4\n",
    "y_max = 1\n",
    "alpha = 1.0\n",
    "\n",
    "# Plot data points\n",
    "color_objects = []\n",
    "labels = []\n",
    "j = 0\n",
    "for k, classification in enumerate( p_constants.CLASSIFICATIONS_LOCATION ):\n",
    "    \n",
    "    if presentation_figure:\n",
    "                \n",
    "        j = save_plot_stage( fig, 'CGM_{}_frac_vs_Mh{}'.format( save_file_tags[mass_key], tag_tail ), j )\n",
    "        \n",
    "    t_cut = 'all'\n",
    "        \n",
    "    item = CGM_mass_fractions['fate'][t_cut][classification]\n",
    "    \n",
    "    md_split = item.split_by_key_slice( slice(4,10), '_md' )\n",
    "    fiducials = md_split[False]\n",
    "    mds = md_split[True]\n",
    "    \n",
    "    edgecolor = np.array( matplotlib.colors.colorConverter.to_rgba(\n",
    "        l_config.COLORSCHEME[classification]\n",
    "    ) )\n",
    "    edgecolor[-1] = alpha\n",
    "        \n",
    "    # Default points\n",
    "    ax.scatter(\n",
    "        m_vir_fiducials.array(),\n",
    "        fiducials.array(),\n",
    "        s = 130,\n",
    "        color = None,\n",
    "        zorder = 100 - k,\n",
    "        linewidth = 0,\n",
    "        facecolors = l_config.COLORSCHEME[classification],\n",
    "        alpha = alpha,\n",
    "    )\n",
    "    \n",
    "    if mass_key != 'M':\n",
    "        facecolors = 'none'\n",
    "        color = edgecolor\n",
    "    else:\n",
    "        facecolors = l_config.COLORSCHEME[classification]\n",
    "        color = 'none'\n",
    "        \n",
    "    # Turbulent metal diffusion\n",
    "    ax.scatter(\n",
    "        m_vir_mds.array(),\n",
    "        mds.array(),\n",
    "        s = 120,\n",
    "        color = color,\n",
    "        marker = 'o',\n",
    "        zorder = 100 - k,\n",
    "        facecolors = facecolors,\n",
    "        linewidth = 3.5,\n",
    "        alpha = alpha,\n",
    "    )\n",
    "    \n",
    "    # Box plot\n",
    "    if mass_key != 'M':\n",
    "        x_data_list = [ m_vir_fiducials, m_vir_mds, ]\n",
    "        y_data_list = [ fiducials, mds, ]\n",
    "        linestyles = [ '-', '--', ]\n",
    "    else:\n",
    "        x_data_list = [ halo_masses, ]\n",
    "        y_data_list = [ item, ]\n",
    "        linestyles = [ '-', ]\n",
    "    for x_data, y_data, linestyle in zip( x_data_list, y_data_list, linestyles ):\n",
    "        x_datas = x_data.split_by_dict( l_config.MASS_BINS, return_list=True )\n",
    "        y_datas = y_data.split_by_dict( l_config.MASS_BINS, return_list=True )\n",
    "        means = plotting.box_plot(\n",
    "            x_datas,\n",
    "            y_datas,\n",
    "            ax = ax,\n",
    "            color = l_config.COLORSCHEME[classification],\n",
    "            box_zorder = 50 - k,\n",
    "            blank_zorder = 30 - k,\n",
    "            line_zorder = 10 - k,\n",
    "    #         linewidth = 7 - k,\n",
    "            linewidth = 5,\n",
    "            linestyle = linestyle,\n",
    "            y_floor = 1e-5,\n",
    "            plot_boxes = False,\n",
    "            line_x_min = x_data.array().min(),\n",
    "            line_x_max = x_data.array().max(),\n",
    "            y_mean_statistic = np.median,\n",
    "            return_means = True,\n",
    "        )\n",
    "        \n",
    "#     # Make lines for metal masses\n",
    "#     item_b = b_CGM_mass_fractions['fate']['all'][classification]\n",
    "#     x_datas = halo_masses.split_by_dict( l_config.MASS_BINS, return_list=True )\n",
    "#     y_datas = item_b.split_by_dict( l_config.MASS_BINS, return_list=True )\n",
    "#     means = plotting.box_plot(\n",
    "#         x_datas,\n",
    "#         y_datas,\n",
    "#         ax = ax,\n",
    "#         color = l_config.COLORSCHEME[classification],\n",
    "#         box_zorder = 50 - k,\n",
    "#         blank_zorder = 30 - k,\n",
    "#         line_zorder = 10 - k,\n",
    "# #         linewidth = 7 - k,\n",
    "#         linewidth = 2,\n",
    "#         linestyle = '-',\n",
    "#         y_floor = 1e-5,\n",
    "#         plot_boxes = False,\n",
    "#         line_x_min = x_data.array().min(),\n",
    "#         line_x_max = x_data.array().max(),\n",
    "#         y_mean_statistic = np.median,\n",
    "#         return_means = True,\n",
    "#     )\n",
    "    \n",
    "    if classification is not None:\n",
    "        # Make virtual artists to allow a legend to appear\n",
    "        color_object = matplotlib.patches.Rectangle(                         \n",
    "            (0, 0),                                                          \n",
    "            1,                                                               \n",
    "            1,                                                               \n",
    "            fc = l_config.COLORSCHEME[classification],                                 \n",
    "            ec = l_config.COLORSCHEME[classification],                                 \n",
    "            alpha = p_constants.CLASSIFICATION_ALPHA,                        \n",
    "        )\n",
    "        color_objects.append( color_object )                                 \n",
    "        labels.append( p_constants.CLASSIFICATION_LABELS[classification] )\n",
    "        \n",
    "        ## Annotate lines   \n",
    "        \n",
    "        # Default args\n",
    "        if snum == 465:\n",
    "            xy = [ 0.91*x_data.array().min(), means['y'][np.argmin( means['x'] )] ]\n",
    "            ha = 'right'\n",
    "        elif snum == 172:\n",
    "            xy = [ 1.1*x_data.array().max(), means['y'][np.argmax( means['x'] )] ]\n",
    "            ha = 'left'\n",
    "        label_args = {\n",
    "            's' : p_constants.CLASSIFICATION_LABELS[classification],\n",
    "            'xy' : xy,\n",
    "            'fontsize' : 22,\n",
    "            'color' : 'k',\n",
    "            'va': 'center',\n",
    "            'ha': ha,\n",
    "        }\n",
    "\n",
    "        # Customization\n",
    "        if classification == 'is_in_main_gal':\n",
    "            label_args['s'] = 'main\\ngalaxy'\n",
    "            if snum == 465:\n",
    "                label_args['xy'][1] *= 0.9\n",
    "            elif snum == 172:\n",
    "                label_args['xy'][1] *= 1.2\n",
    "        elif classification == 'is_in_galaxy_halo_interface':\n",
    "            label_args['s'] = 'galaxy-\\nhalo\\ninterface'\n",
    "            if snum == 465:\n",
    "                label_args['xy'][1] *= 0.15\n",
    "            elif snum == 172:\n",
    "                label_args['xy'][1] *= 0.6\n",
    "        elif classification == 'is_in_IGM':\n",
    "                if snum == 465:\n",
    "                    label_args['xy'][1] *= 1.2\n",
    "                elif snum == 172:\n",
    "                    label_args['xy'][1] *= 0.6\n",
    "        elif classification == 'is_in_other_CGM_not_main':\n",
    "            label_args['s'] = 'external\\nCGM'\n",
    "            if snum == 465:\n",
    "                label_args['xy'] = [ 5e11, 1e-3 ]\n",
    "        elif classification == 'is_CGM_accreted' and snum == 465:\n",
    "            label_args['xy'][1] *= 0.9\n",
    "        elif classification == 'is_CGM_accreted_to_satellite':\n",
    "            label_args['s'] = 'accreted -\\nsatellite'\n",
    "            if snum == 465:\n",
    "                label_args['xy'] = [ 1.5*1e11, 1e-2 ]\n",
    "                label_args['ha'] = 'left'\n",
    "        elif classification == 'is_CGM_still':\n",
    "            label_args['s'] = 'remains\\nCGM'\n",
    "            if snum == 465:\n",
    "                label_args['xy'][1] *= 1.1\n",
    "        elif classification == 'is_CGM_ejected' and snum == 465:\n",
    "            label_args['xy'][1] *= 0.7\n",
    "\n",
    "#         text = ax.annotate( **label_args )\n",
    "\n",
    "#         text.set_path_effects([\n",
    "#             path_effects.Stroke(\n",
    "#                 linewidth=3, \n",
    "#                 foreground=l_config.COLORSCHEME[classification],\n",
    "#                 alpha = 0.45,\n",
    "#             ),\n",
    "#             path_effects.Normal(),\n",
    "#         ])\n",
    "\n",
    "# Add a redshift label\n",
    "redshift_label = r'$z=' + '{:.02g}'.format( redshift ) + '$'\n",
    "ax.annotate( s=redshift_label, xy=(0.05,1.0125), xycoords='axes fraction', fontsize=22 )\n",
    "\n",
    "if snum == 172:\n",
    "    ax.set_xlabel( r'$M_{\\rm h}$ ($M_{\\odot}$)', fontsize=24 )\n",
    "ax.set_ylabel( r'CGM Baryon {} Fraction'.format( axes_labels[mass_key] ), fontsize=24 )\n",
    "\n",
    "ax.set_xlim( 2e9, 2e12 )\n",
    "ax.set_ylim( y_min, y_max )\n",
    "\n",
    "ax.set_xscale( 'log' )\n",
    "ax.set_yscale( 'log' )\n",
    "\n",
    "# Add ticks to the right\n",
    "ax.yaxis.set_ticks_position( 'both' )\n",
    "        \n",
    "if snum == 465:\n",
    "    ax.annotate(\n",
    "        s = 'Ultimate Fate',\n",
    "        xy = ( 0.5, 1. ),\n",
    "        va = 'bottom',\n",
    "        ha = 'center',\n",
    "        xycoords = 'axes fraction',\n",
    "        fontsize = 28,\n",
    "    )\n",
    "    \n",
    "if snum == 465:\n",
    "    legend = ax.legend(\n",
    "        color_objects,\n",
    "        labels,\n",
    "        prop={'size': 17.5},\n",
    "        ncol=1,\n",
    "        loc='lower left',\n",
    "        fontsize=24,\n",
    "        framealpha = 0.8,\n",
    "    )\n",
    "    legend.set_zorder( 120 )\n",
    "\n",
    "save_file = 'CGM_{}_frac_vs_Mh{}.pdf'.format( save_file_tags[mass_key], tag_tail )\n",
    "\n",
    "if mass_key == 'M':\n",
    "    plotting.save_fig(\n",
    "        out_dir = file_manager.get_project_figure_dir(),\n",
    "        save_file = save_file,\n",
    "        fig = fig,\n",
    "    )\n",
    "    \n",
    "fig"
   ]
  },
  {
   "cell_type": "markdown",
   "metadata": {},
   "source": [
    "# Connection Between Origin and Fate"
   ]
  },
  {
   "cell_type": "code",
   "execution_count": 40,
   "metadata": {},
   "outputs": [
    {
     "name": "stdout",
     "output_type": "stream",
     "text": [
      "File saved at /home1/03057/zhafen/papers/CGM_fate/figures/originfate_mass_frac_vs_Mh_CGM_snum172.pdf\n"
     ]
    },
    {
     "data": {
      "image/png": "[encoded data removed]",
      "text/plain": [
       "<Figure size 720x1152 with 4 Axes>"
      ]
     },
     "execution_count": 40,
     "metadata": {},
     "output_type": "execute_result"
    }
   ],
   "source": [
    "outer_classifications = [ 'is_CGM_accreted', 'is_CGM_accreted_to_satellite', 'is_CGM_ejected', 'is_CGM_still' ]\n",
    "inner_classifications = p_constants.CLASSIFICATIONS_CGM_ORIGIN\n",
    "\n",
    "n_rows = len( outer_classifications )\n",
    "\n",
    "fig = plt.figure( figsize=(10,n_rows*4), facecolor='w' )\n",
    "main_ax = plt.gca()\n",
    "\n",
    "gs = matplotlib.gridspec.GridSpec( n_rows, 1, )\n",
    "gs.update( hspace=0.00001 )\n",
    "\n",
    "color_objects = []\n",
    "labels = []\n",
    "for i, outer_classification in enumerate( outer_classifications ):\n",
    "    \n",
    "    ax = plt.subplot( gs[i,0] )\n",
    "    \n",
    "    for j, classification in enumerate( inner_classifications ):\n",
    "        \n",
    "        item = CGM_mass_fractions['joint']['all'][outer_classification][classification]\n",
    "\n",
    "        md_split = item.split_by_key_slice( slice(4,10), '_md' )\n",
    "        fiducials = md_split[False]\n",
    "        mds = md_split[True]\n",
    "\n",
    "        edgecolor = np.array( matplotlib.colors.colorConverter.to_rgba(\n",
    "            l_config.COLORSCHEME[classification]\n",
    "        ) )\n",
    "        edgecolor[-1] = alpha\n",
    "\n",
    "        # Default points\n",
    "        ax.scatter(\n",
    "            m_vir_fiducials.array(),\n",
    "            fiducials.array(),\n",
    "            s = 130,\n",
    "            color = None,\n",
    "            zorder = 100 - k,\n",
    "            linewidth = 0,\n",
    "            facecolors = l_config.COLORSCHEME[classification],\n",
    "            alpha = alpha,\n",
    "        )\n",
    "\n",
    "        if mass_key != 'M':\n",
    "            facecolors = 'none'\n",
    "            color = edgecolor\n",
    "        else:\n",
    "            facecolors = l_config.COLORSCHEME[classification]\n",
    "            color = 'none'\n",
    "\n",
    "        # Turbulent metal diffusion\n",
    "        ax.scatter(\n",
    "            m_vir_mds.array(),\n",
    "            mds.array(),\n",
    "            s = 120,\n",
    "            color = color,\n",
    "            marker = 'o',\n",
    "            zorder = 100 - k,\n",
    "            facecolors = facecolors,\n",
    "            linewidth = 3.5,\n",
    "            alpha = alpha,\n",
    "        )\n",
    "\n",
    "        # Box plot\n",
    "        if mass_key != 'M':\n",
    "            x_data_list = [ m_vir_fiducials, m_vir_mds, ]\n",
    "            y_data_list = [ fiducials, mds, ]\n",
    "            linestyles = [ '-', '--', ]\n",
    "        else:\n",
    "            x_data_list = [ halo_masses, ]\n",
    "            y_data_list = [ item, ]\n",
    "            linestyles = [ '-', ]\n",
    "        for x_data, y_data, linestyle in zip( x_data_list, y_data_list, linestyles ):\n",
    "            x_datas = x_data.split_by_dict( l_config.MASS_BINS, return_list=True )\n",
    "            y_datas = y_data.split_by_dict( l_config.MASS_BINS, return_list=True )\n",
    "            means = plotting.box_plot(\n",
    "                x_datas,\n",
    "                y_datas,\n",
    "                ax = ax,\n",
    "                color = l_config.COLORSCHEME[classification],\n",
    "                box_zorder = 50 - k,\n",
    "                blank_zorder = 30 - k,\n",
    "                line_zorder = 10 - k,\n",
    "        #         linewidth = 7 - k,\n",
    "                linewidth = 5,\n",
    "                linestyle = linestyle,\n",
    "                y_floor = 1e-5,\n",
    "                plot_boxes = False,\n",
    "                line_x_min = x_data.array().min(),\n",
    "                line_x_max = x_data.array().max(),\n",
    "                y_mean_statistic = np.median,\n",
    "                return_means = True\n",
    "            )\n",
    "            \n",
    "        if classification is not None and classification in inner_classifications and ax.is_first_row():\n",
    "            \n",
    "            if classification == 'is_CGM_satellite_ISM':\n",
    "                continue\n",
    "            \n",
    "            # Make virtual artists to allow a legend to appear\n",
    "            color_object = matplotlib.patches.Rectangle(                         \n",
    "                (0, 0),                                                          \n",
    "                1,                                                               \n",
    "                1,                                                               \n",
    "                fc = l_config.COLORSCHEME[classification],                                 \n",
    "                ec = l_config.COLORSCHEME[classification],                                 \n",
    "                alpha = p_constants.CLASSIFICATION_ALPHA,                        \n",
    "            )\n",
    "            color_objects.append( color_object )                                 \n",
    "            labels.append( p_constants.CLASSIFICATION_LABELS[classification] )\n",
    "            \n",
    "        ### Line labels\n",
    "\n",
    "        # Default args\n",
    "        if snum == 465:\n",
    "            xy = [ 0.91*x_data.array().min(), means['y'][np.argmin( means['x'] )] ]\n",
    "            ha = 'right'\n",
    "        elif snum == 172:\n",
    "            xy = [ 1.1*x_data.array().max(), means['y'][np.argmax( means['x'] )] ]\n",
    "            ha = 'left'\n",
    "        label_args = {\n",
    "            's' : p_constants.CLASSIFICATION_LABELS[classification],\n",
    "            'xy' : xy,\n",
    "            'fontsize' : 22,\n",
    "            'color' : 'k',\n",
    "            'va': 'center',\n",
    "            'ha': ha,\n",
    "        }\n",
    "\n",
    "        # Customization\n",
    "        if classification == 'is_CGM_accreted':\n",
    "            if outer_classification == 'is_CGM_IGM_accretion' and snum == 465:\n",
    "                label_args['xy'][0] *= 1.7\n",
    "                label_args['xy'][1] *= 0.3\n",
    "            elif outer_classification == 'is_CGM_wind' and snum == 465:\n",
    "                label_args['xy'] = [ 1.5*1e11, 0.4 ]\n",
    "                label_args['ha'] = 'left'\n",
    "            elif outer_classification == 'is_CGM_satellite_wind':\n",
    "                if snum == 172:\n",
    "                    label_args['xy'][1] *= 1.1\n",
    "                elif snum == 465:\n",
    "                    label_args['xy'] = [ 2e11, 0.15 ]\n",
    "                    label_args['ha'] = 'left'\n",
    "        elif classification == 'is_CGM_accreted_to_satellite':\n",
    "            label_args['s'] = 'accreted -\\nsatellite'\n",
    "            if snum == 465:\n",
    "                label_args['xy'] = [ 1.5*1e11, 1.5*1e-3 ]\n",
    "                if outer_classification == 'is_CGM_wind':\n",
    "                    label_args['xy'] = [ 1.5*1e11, 5e-4 ]\n",
    "                elif outer_classification == 'is_CGM_satellite_wind':\n",
    "                    label_args['xy'] = [ 1.2*1e11, 2.2*1e-3 ]\n",
    "                label_args['ha'] = 'left'\n",
    "        elif classification == 'is_CGM_still':\n",
    "            label_args['s'] = 'remains\\nCGM'\n",
    "            if snum == 465:\n",
    "                if outer_classification == 'is_CGM_wind':\n",
    "                    label_args['xy'][1] *= 1.75\n",
    "            if snum == 172:\n",
    "                label_args['xy'][1] = 3e-4\n",
    "        elif classification == 'is_CGM_ejected':\n",
    "            if outer_classification == 'is_CGM_IGM_accretion' and snum == 465:\n",
    "                label_args['xy'][1] *= 0.6\n",
    "            elif outer_classification == 'is_CGM_wind':\n",
    "                if snum == 465:\n",
    "                    label_args['xy'][1] *= 0.6\n",
    "                elif snum == 172:\n",
    "                    label_args['xy'][1] *= 0.7\n",
    "            elif outer_classification == 'is_CGM_satellite_wind' and snum == 465:\n",
    "                label_args['xy'][1] *= 0.3\n",
    "        elif classification == 'is_CGM_IGM_accretion':\n",
    "            label_args['s'] = 'IGM\\naccretion'\n",
    "        elif classification == 'is_CGM_wind':\n",
    "            if snum == 465:\n",
    "                label_args['xy'][1] *= 0.75\n",
    "            elif snum == 172:\n",
    "                label_args['xy'][1] *= 0.35\n",
    "        elif classification == 'is_CGM_satellite_wind':\n",
    "            label_args['s'] = 'satellite\\nwind'\n",
    "            if snum == 172:\n",
    "                label_args['xy'][0] *= 0.35\n",
    "                label_args['xy'][1] *= 0.175\n",
    "\n",
    "        add_line_labels = ( snum == 465 and ax.is_last_row() ) or ( snum == 172 and ax.is_first_row() )\n",
    "        if not add_line_labels:\n",
    "            continue\n",
    "\n",
    "#         text = ax.annotate( **label_args )\n",
    "\n",
    "#         text.set_path_effects([\n",
    "#             path_effects.Stroke(\n",
    "#                 linewidth=3, \n",
    "#                 foreground=l_config.COLORSCHEME[classification],\n",
    "#                 alpha = 0.45,\n",
    "#             ),\n",
    "#             path_effects.Normal(),\n",
    "#         ])\n",
    "\n",
    "    # Add a redshift label\n",
    "    if ax.is_first_row():\n",
    "        redshift_label = r'$z=' + '{:.02g}'.format( redshift ) + '$'\n",
    "        ax.annotate( s=redshift_label, xy=(0.0,1.), xycoords='axes fraction', va='bottom', fontsize=22 )\n",
    "\n",
    "    # Classification Labels\n",
    "    outer_c_label = p_constants.CLASSIFICATION_LABELS[outer_classification]\n",
    "    if snum == 465:\n",
    "        outer_c_label = 'proximate fate: ' + outer_c_label\n",
    "    bbox_props = dict( fc=\"w\", alpha=0.75, lw=0 )\n",
    "    ax.annotate(\n",
    "        s = outer_c_label,\n",
    "        xy = ( 0.05, 0.05 ),\n",
    "        xycoords = 'axes fraction',\n",
    "        fontsize = 21,\n",
    "        ha = 'left',\n",
    "        va = 'bottom',\n",
    "        zorder = 200,\n",
    "        bbox = bbox_props,\n",
    "    )\n",
    "    \n",
    "    # Axes Labels\n",
    "    if ax.is_last_row():\n",
    "        ax.set_xlabel( r'$M_{\\rm h}$ ($M_{\\odot}$)', fontsize=24 )\n",
    "    ax.set_ylabel( r'$f(M_{\\rm CGM})$', fontsize=24 )\n",
    "    \n",
    "    # Add a colored line for visual signature\n",
    "    ax.axvline(\n",
    "        2e9,\n",
    "        color = l_config.COLORSCHEME[outer_classification],\n",
    "        linewidth = 15,\n",
    "    )\n",
    "\n",
    "    ax.set_xlim( 2e9, 2e12 )\n",
    "    ax.set_ylim( 1e-4, 1 )\n",
    "\n",
    "    ax.set_xscale( 'log' )\n",
    "    ax.set_yscale( 'log' )\n",
    "\n",
    "    # Avoid overlapping ticks\n",
    "    ax.get_yticklabels()[1].set_verticalalignment( 'bottom' )\n",
    "    ax.get_yticklabels()[-2].set_verticalalignment( 'top' )\n",
    "    \n",
    "    # Add ticks to the right\n",
    "    ax.yaxis.set_ticks_position( 'both' )\n",
    "\n",
    "    if ax.is_first_row():\n",
    "        ax.annotate(\n",
    "            s = 'Origin of Gas per Proximate Fate',\n",
    "            xy = ( 0.5, 1. ),\n",
    "            va = 'bottom',\n",
    "            ha = 'center',\n",
    "            xycoords = 'axes fraction',\n",
    "            fontsize = 28,\n",
    "        )\n",
    "        \n",
    "\n",
    "    if ( snum == 172 and ax.is_first_row() ) or ( snum == 465 and ax.is_last_row() ):\n",
    "        legend = ax.legend(\n",
    "            color_objects,\n",
    "            labels,\n",
    "            prop={'size': 17.5},\n",
    "            ncol=1,\n",
    "            loc='lower right',\n",
    "            fontsize=24,\n",
    "            framealpha = 0.8,\n",
    "        )\n",
    "        legend.set_zorder( 120 )\n",
    "        \n",
    "save_file = 'originfate_{}_frac_vs_Mh{}.pdf'.format( save_file_tags[mass_key], tag_tail )\n",
    "\n",
    "plotting.save_fig(\n",
    "    out_dir = file_manager.get_project_figure_dir(),\n",
    "    save_file = save_file,\n",
    "    fig = fig,\n",
    ")\n",
    "\n",
    "fig"
   ]
  },
  {
   "cell_type": "code",
   "execution_count": 41,
   "metadata": {},
   "outputs": [
    {
     "data": {
      "image/png": "[encoded data removed]",
      "text/plain": [
       "<Figure size 720x864 with 3 Axes>"
      ]
     },
     "execution_count": 41,
     "metadata": {},
     "output_type": "execute_result"
    }
   ],
   "source": [
    "inner_classifications = p_constants.CLASSIFICATIONS_CGM_FATE\n",
    "outer_classifications = copy.deepcopy( p_constants.CLASSIFICATIONS_CGM_ORIGIN )\n",
    "outer_classifications.remove( 'is_CGM_satellite_ISM' )\n",
    "\n",
    "n_rows = len( outer_classifications )\n",
    "\n",
    "fig = plt.figure( figsize=(10,n_rows*4), facecolor='w' )\n",
    "main_ax = plt.gca()\n",
    "\n",
    "gs = matplotlib.gridspec.GridSpec( n_rows, 1, )\n",
    "gs.update( hspace=0.00001 )\n",
    "\n",
    "color_objects = []\n",
    "for i, outer_classification in enumerate( outer_classifications ):\n",
    "    \n",
    "    ax = plt.subplot( gs[i,0] )\n",
    "    \n",
    "    for j, classification in enumerate( inner_classifications ):\n",
    "        \n",
    "        if classification in [ 'is_in_CGM', 'is_CGM_halo_transfer' ]:\n",
    "            continue\n",
    "        \n",
    "        item = CGM_mass_fractions['joint']['all'][classification][outer_classification]\n",
    "\n",
    "        md_split = item.split_by_key_slice( slice(4,10), '_md' )\n",
    "        fiducials = md_split[False]\n",
    "        mds = md_split[True]\n",
    "\n",
    "        edgecolor = np.array( matplotlib.colors.colorConverter.to_rgba(\n",
    "            l_config.COLORSCHEME[classification]\n",
    "        ) )\n",
    "        edgecolor[-1] = alpha\n",
    "\n",
    "        # Default points\n",
    "        ax.scatter(\n",
    "            m_vir_fiducials.array(),\n",
    "            fiducials.array(),\n",
    "            s = 130,\n",
    "            color = None,\n",
    "            zorder = 100 - k,\n",
    "            linewidth = 0,\n",
    "            facecolors = l_config.COLORSCHEME[classification],\n",
    "            alpha = alpha,\n",
    "        )\n",
    "\n",
    "        if mass_key != 'M':\n",
    "            facecolors = 'none'\n",
    "            color = edgecolor\n",
    "        else:\n",
    "            facecolors = l_config.COLORSCHEME[classification]\n",
    "            color = 'none'\n",
    "\n",
    "        # Turbulent metal diffusion\n",
    "        ax.scatter(\n",
    "            m_vir_mds.array(),\n",
    "            mds.array(),\n",
    "            s = 120,\n",
    "            color = color,\n",
    "            marker = 'o',\n",
    "            zorder = 100 - k,\n",
    "            facecolors = facecolors,\n",
    "            linewidth = 3.5,\n",
    "            alpha = alpha,\n",
    "        )\n",
    "\n",
    "        # Box plot\n",
    "        if mass_key != 'M':\n",
    "            x_data_list = [ m_vir_fiducials, m_vir_mds, ]\n",
    "            y_data_list = [ fiducials, mds, ]\n",
    "            linestyles = [ '-', '--', ]\n",
    "        else:\n",
    "            x_data_list = [ halo_masses, ]\n",
    "            y_data_list = [ item, ]\n",
    "            linestyles = [ '-', ]\n",
    "        for x_data, y_data, linestyle in zip( x_data_list, y_data_list, linestyles ):\n",
    "            x_datas = x_data.split_by_dict( l_config.MASS_BINS, return_list=True )\n",
    "            y_datas = y_data.split_by_dict( l_config.MASS_BINS, return_list=True )\n",
    "            means = plotting.box_plot(\n",
    "                x_datas,\n",
    "                y_datas,\n",
    "                ax = ax,\n",
    "                color = l_config.COLORSCHEME[classification],\n",
    "                box_zorder = 50 - k,\n",
    "                blank_zorder = 30 - k,\n",
    "                line_zorder = 10 - k,\n",
    "        #         linewidth = 7 - k,\n",
    "                linewidth = 5,\n",
    "                linestyle = linestyle,\n",
    "                y_floor = 1e-5,\n",
    "                plot_boxes = False,\n",
    "                line_x_min = x_data.array().min(),\n",
    "                line_x_max = x_data.array().max(),\n",
    "                y_mean_statistic = np.median,\n",
    "                return_means = True\n",
    "            )\n",
    "\n",
    "        if classification is not None and classification in inner_classifications and ax.is_first_row():\n",
    "            # Make virtual artists to allow a legend to appear\n",
    "            color_object = matplotlib.patches.Rectangle(                         \n",
    "                (0, 0),                                                          \n",
    "                1,                                                               \n",
    "                1,                                                               \n",
    "                fc = l_config.COLORSCHEME[classification],                                 \n",
    "                ec = l_config.COLORSCHEME[classification],                                 \n",
    "                alpha = p_constants.CLASSIFICATION_ALPHA,                        \n",
    "            )\n",
    "            color_objects.append( color_object )                                 \n",
    "            labels.append( p_constants.CLASSIFICATION_LABELS[classification] )\n",
    "            \n",
    "        ## Annotate lines   \n",
    "        \n",
    "        # Default args\n",
    "        if snum == 465:\n",
    "            xy = [ 0.91*x_data.array().min(), means['y'][np.argmin( means['x'] )] ]\n",
    "            ha = 'right'\n",
    "        elif snum == 172:\n",
    "            xy = [ 1.1*x_data.array().max(), means['y'][np.argmax( means['x'] )] ]\n",
    "            ha = 'left'\n",
    "        label_args = {\n",
    "            's' : p_constants.CLASSIFICATION_LABELS[classification],\n",
    "            'xy' : xy,\n",
    "            'fontsize' : 22,\n",
    "            'color' : 'k',\n",
    "            'va': 'center',\n",
    "            'ha': ha,\n",
    "        }\n",
    "\n",
    "        # Customization\n",
    "        if classification == 'is_CGM_accreted':\n",
    "            if outer_classification == 'is_CGM_IGM_accretion' and snum == 465:\n",
    "                label_args['xy'][0] *= 1.7\n",
    "                label_args['xy'][1] *= 0.3\n",
    "            elif outer_classification == 'is_CGM_wind' and snum == 465:\n",
    "                label_args['xy'] = [ 1.5*1e11, 0.4 ]\n",
    "                label_args['ha'] = 'left'\n",
    "            elif outer_classification == 'is_CGM_satellite_wind':\n",
    "                if snum == 172:\n",
    "                    label_args['xy'][1] *= 1.1\n",
    "                elif snum == 465:\n",
    "                    label_args['xy'] = [ 2e11, 0.15 ]\n",
    "                    label_args['ha'] = 'left'\n",
    "        elif classification == 'is_CGM_accreted_to_satellite':\n",
    "            label_args['s'] = 'accreted -\\nsatellite'\n",
    "            if snum == 465:\n",
    "                label_args['xy'] = [ 1.5*1e11, 1.5*1e-3 ]\n",
    "                if outer_classification == 'is_CGM_wind':\n",
    "                    label_args['xy'] = [ 1.5*1e11, 5e-4 ]\n",
    "                elif outer_classification == 'is_CGM_satellite_wind':\n",
    "                    label_args['xy'] = [ 1.2*1e11, 2.2*1e-3 ]\n",
    "                label_args['ha'] = 'left'\n",
    "        elif classification == 'is_CGM_still':\n",
    "            label_args['s'] = 'remains\\nCGM'\n",
    "            if snum == 465:\n",
    "                if outer_classification == 'is_CGM_wind':\n",
    "                    label_args['xy'][1] *= 1.75\n",
    "            if snum == 172:\n",
    "                label_args['xy'][1] = 3e-4\n",
    "        elif classification == 'is_CGM_ejected':\n",
    "            if outer_classification == 'is_CGM_IGM_accretion' and snum == 465:\n",
    "                label_args['xy'][1] *= 0.6\n",
    "            elif outer_classification == 'is_CGM_wind':\n",
    "                if snum == 465:\n",
    "                    label_args['xy'][1] *= 0.6\n",
    "                elif snum == 172:\n",
    "                    label_args['xy'][1] *= 0.7\n",
    "            elif outer_classification == 'is_CGM_satellite_wind' and snum == 465:\n",
    "                label_args['xy'][1] *= 0.3\n",
    "                \n",
    "        if not ax.is_first_row():\n",
    "            continue\n",
    "\n",
    "        text = ax.annotate( **label_args )\n",
    "\n",
    "        text.set_path_effects([\n",
    "            path_effects.Stroke(\n",
    "                linewidth=3, \n",
    "                foreground=l_config.COLORSCHEME[classification],\n",
    "                alpha = 0.45,\n",
    "            ),\n",
    "            path_effects.Normal(),\n",
    "        ])\n",
    "\n",
    "    # Add a redshift label\n",
    "    if ax.is_first_row():\n",
    "        redshift_label = r'$z=' + '{:.02g}'.format( redshift ) + '$'\n",
    "        ax.annotate( s=redshift_label, xy=(0.05,1.), xycoords='axes fraction', va='bottom', fontsize=22 )\n",
    "\n",
    "    # Classification Labels\n",
    "    outer_c_label = p_constants.CLASSIFICATION_LABELS[outer_classification]\n",
    "    if snum == 465:\n",
    "        outer_c_label = 'Origin: ' + outer_c_label\n",
    "    bbox_props = dict( fc=\"w\", alpha=0.75, lw=0 )\n",
    "    ax.annotate(\n",
    "        s = outer_c_label,\n",
    "        xy = ( 0.05, 0.05 ),\n",
    "        xycoords = 'axes fraction',\n",
    "        fontsize = 21,\n",
    "        ha = 'left',\n",
    "        va = 'bottom',\n",
    "        zorder = 200,\n",
    "        bbox = bbox_props,\n",
    "    )\n",
    "    \n",
    "    # Axes Labels\n",
    "    if ax.is_last_row():\n",
    "        ax.set_xlabel( r'$M_{\\rm h}$ ($M_{\\odot}$)', fontsize=24 )\n",
    "    ax.set_ylabel( r'$f(M_{\\rm CGM})$', fontsize=24 )\n",
    "\n",
    "    ax.set_xlim( 2e9, 2e12 )\n",
    "    ax.set_ylim( 1e-4, 1 )\n",
    "\n",
    "    ax.set_xscale( 'log' )\n",
    "    ax.set_yscale( 'log' )\n",
    "\n",
    "    # Avoid overlapping ticks\n",
    "    ax.get_yticklabels()[1].set_verticalalignment( 'bottom' )\n",
    "    ax.get_yticklabels()[-2].set_verticalalignment( 'top' )\n",
    "    \n",
    "    # Add ticks to the right\n",
    "    ax.yaxis.set_ticks_position( 'both' )\n",
    "\n",
    "    if ax.is_first_row():\n",
    "        ax.annotate(\n",
    "            s = 'Proximate Fate',\n",
    "            xy = ( 1., 1. ),\n",
    "            va = 'bottom',\n",
    "            ha = 'right',\n",
    "            xycoords = 'axes fraction',\n",
    "            fontsize = 22,\n",
    "        )\n",
    "        \n",
    "# save_file = 'originfate_{}_frac_vs_Mh{}.pdf'.format( save_file_tags[mass_key], tag_tail )\n",
    "\n",
    "# plotting.save_fig(\n",
    "#     out_dir = file_manager.get_project_figure_dir(),\n",
    "#     save_file = save_file,\n",
    "#     fig = fig,\n",
    "# )\n",
    "\n",
    "fig"
   ]
  },
  {
   "cell_type": "markdown",
   "metadata": {},
   "source": [
    "# Quantitative Values for the Paper"
   ]
  },
  {
   "cell_type": "code",
   "execution_count": 42,
   "metadata": {},
   "outputs": [],
   "source": [
    "import os\n",
    "\n",
    "import py2tex.py2tex as py2tex"
   ]
  },
  {
   "cell_type": "code",
   "execution_count": 43,
   "metadata": {},
   "outputs": [],
   "source": [
    "tex_filepath = os.path.join( file_manager.project_parameters['project_dir'], 'variables.tex' )"
   ]
  },
  {
   "cell_type": "code",
   "execution_count": 44,
   "metadata": {},
   "outputs": [],
   "source": [
    "tex_file = py2tex.TeXVariableFile( tex_filepath )"
   ]
  },
  {
   "cell_type": "code",
   "execution_count": 45,
   "metadata": {},
   "outputs": [],
   "source": [
    "# Used for variable names\n",
    "tex_redshift = {\n",
    "    465: 'low',\n",
    "    172: 'high',\n",
    "}"
   ]
  },
  {
   "cell_type": "code",
   "execution_count": 46,
   "metadata": {},
   "outputs": [],
   "source": [
    "tex_mass = {\n",
    "    'M': 'mass',\n",
    "    'enriched_metal_mass': 'metalmass',\n",
    "}"
   ]
  },
  {
   "cell_type": "code",
   "execution_count": 47,
   "metadata": {},
   "outputs": [
    {
     "data": {
      "text/plain": [
       "'masshigh'"
      ]
     },
     "execution_count": 47,
     "metadata": {},
     "output_type": "execute_result"
    }
   ],
   "source": [
    "tex_tag = '{}{}'.format( tex_mass[mass_key], tex_redshift[snum] )\n",
    "tex_tag"
   ]
  },
  {
   "cell_type": "markdown",
   "metadata": {},
   "source": [
    "## Load the Origins Data"
   ]
  },
  {
   "cell_type": "code",
   "execution_count": 48,
   "metadata": {},
   "outputs": [],
   "source": [
    "origins_file_manager = file_management.FileManager( project='CGM_origin' )\n",
    "mass_budget_data_filepath = os.path.join(\n",
    "    origins_file_manager.project_parameters['output_data_dir'],\n",
    "    'halo_mass_content_FIRE2_snum{}.hdf5'.format( snum ),\n",
    ")\n",
    "origins_mass_frac_data_filepath = os.path.join(\n",
    "    origins_file_manager.project_parameters['output_data_dir'],\n",
    "    'cgm_origins_mass_frac_snum{}.hdf5'.format( snum ),\n",
    ")"
   ]
  },
  {
   "cell_type": "code",
   "execution_count": 49,
   "metadata": {},
   "outputs": [],
   "source": [
    "mass_budgets, attributes = verdict.Dict.from_hdf5(\n",
    "    mass_budget_data_filepath,\n",
    "    unpack = True,\n",
    ")\n",
    "CGM_mass_fracs_origins, attributes = verdict.Dict.from_hdf5(\n",
    "    origins_mass_frac_data_filepath,\n",
    "    unpack = True,\n",
    ")\n",
    "\n",
    "# Make sure we're not using bytes...\n",
    "for key, item in CGM_mass_fracs_origins.items():\n",
    "    \n",
    "    new_item = {}\n",
    "    for i_key, i_item in item.items():\n",
    "        new_item[i_key.decode('utf-8')] = i_item\n",
    "    \n",
    "    CGM_mass_fracs_origins[str(key)] = new_item\n",
    "    \n",
    "CGM_mass_fracs_origins = verdict.Dict( CGM_mass_fracs_origins )"
   ]
  },
  {
   "cell_type": "markdown",
   "metadata": {},
   "source": [
    "## Ejected"
   ]
  },
  {
   "cell_type": "code",
   "execution_count": 50,
   "metadata": {},
   "outputs": [
    {
     "name": "stdout",
     "output_type": "stream",
     "text": [
      "Saving 30\\% as percentejectedMWmasshigh\n"
     ]
    }
   ],
   "source": [
    "med_mass_frac = np.median(\n",
    "    CGM_mass_fractions['fate']['all']['is_CGM_ejected'].split_by_dict( l_config.MASS_BINS )['m12'].array()\n",
    ")\n",
    "tex_file.save_variable(\n",
    "    'percentejectedMW{}'.format( tex_tag ),\n",
    "    py2tex.to_tex_percentage( med_mass_frac, 5, nearest_base=True )\n",
    ")"
   ]
  },
  {
   "cell_type": "markdown",
   "metadata": {},
   "source": [
    "### Dependence on Origins"
   ]
  },
  {
   "cell_type": "code",
   "execution_count": 51,
   "metadata": {},
   "outputs": [
    {
     "name": "stdout",
     "output_type": "stream",
     "text": [
      "Saving 20 as percentIGMaccejectedminustwosigmamasshigh\n",
      "Saving 60\\% as percentIGMaccejectedplustwosigmamasshigh\n"
     ]
    }
   ],
   "source": [
    "frac_cat = (\n",
    "    CGM_mass_fractions['joint']['all']['is_CGM_ejected']['is_CGM_IGM_accretion'] /\n",
    "    CGM_mass_fractions['joint']['all']['is_in_CGM_not_sat']['is_CGM_IGM_accretion']\n",
    ")\n",
    "tex_file.save_variable(\n",
    "    'percentIGMaccejectedminustwosigma{}'.format( tex_tag ),\n",
    "    py2tex.to_tex_percentage( frac_cat.nanpercentile( 16. ), 5, nearest_base=True, include_percent=False )\n",
    ")\n",
    "tex_file.save_variable(\n",
    "    'percentIGMaccejectedplustwosigma{}'.format( tex_tag ),\n",
    "    py2tex.to_tex_percentage( frac_cat.nanpercentile( 84. ), 5, nearest_base=True )\n",
    ")"
   ]
  },
  {
   "cell_type": "markdown",
   "metadata": {},
   "source": [
    "## Accreted"
   ]
  },
  {
   "cell_type": "code",
   "execution_count": 52,
   "metadata": {},
   "outputs": [
    {
     "name": "stdout",
     "output_type": "stream",
     "text": [
      "Saving 25\\% as percentaccretedminmasshigh\n"
     ]
    }
   ],
   "source": [
    "minish_mass_low = np.percentile( CGM_mass_fractions['fate']['all']['is_CGM_accreted'].array(), 10 )\n",
    "\n",
    "tex_file.save_variable(\n",
    "    'percentaccretedmin{}'.format( tex_tag ),\n",
    "    py2tex.to_tex_percentage( minish_mass_low, 5, nearest_base=True )\n",
    ")"
   ]
  },
  {
   "cell_type": "code",
   "execution_count": 53,
   "metadata": {},
   "outputs": [
    {
     "data": {
      "text/plain": [
       "0.59412881731987"
      ]
     },
     "execution_count": 53,
     "metadata": {},
     "output_type": "execute_result"
    }
   ],
   "source": [
    "CGM_mass_fractions['fate']['all']['is_CGM_accreted'].split_by_dict(\n",
    "    l_config.MASS_BINS\n",
    ")['m11'].nanmedian()"
   ]
  },
  {
   "cell_type": "code",
   "execution_count": 54,
   "metadata": {},
   "outputs": [
    {
     "data": {
      "text/plain": [
       "0.6631634533405304"
      ]
     },
     "execution_count": 54,
     "metadata": {},
     "output_type": "execute_result"
    }
   ],
   "source": [
    "CGM_mass_fractions['fate']['all']['is_in_IGM'].split_by_dict(\n",
    "    l_config.MASS_BINS\n",
    ")['m11'].nanmedian()"
   ]
  },
  {
   "cell_type": "code",
   "execution_count": 55,
   "metadata": {},
   "outputs": [
    {
     "data": {
      "text/plain": [
       "0.48310990631580353"
      ]
     },
     "execution_count": 55,
     "metadata": {},
     "output_type": "execute_result"
    }
   ],
   "source": [
    "CGM_mass_fractions['fate']['all']['is_in_main_gal'].split_by_dict(\n",
    "    l_config.MASS_BINS\n",
    ")['m12'].nanmedian()"
   ]
  },
  {
   "cell_type": "code",
   "execution_count": 56,
   "metadata": {},
   "outputs": [
    {
     "data": {
      "text/plain": [
       "172"
      ]
     },
     "execution_count": 56,
     "metadata": {},
     "output_type": "execute_result"
    }
   ],
   "source": [
    "snum"
   ]
  },
  {
   "cell_type": "code",
   "execution_count": 57,
   "metadata": {},
   "outputs": [
    {
     "data": {
      "text/plain": [
       "0.7101567104821318"
      ]
     },
     "execution_count": 57,
     "metadata": {},
     "output_type": "execute_result"
    }
   ],
   "source": [
    "(\n",
    "    CGM_mass_fractions['fate']['all']['is_in_main_gal'] /\n",
    "    CGM_mass_fractions['fate']['all']['is_CGM_accreted']\n",
    ").split_by_dict(\n",
    "    l_config.MASS_BINS\n",
    ")['m12'].nanmedian()"
   ]
  },
  {
   "cell_type": "code",
   "execution_count": 58,
   "metadata": {},
   "outputs": [
    {
     "name": "stdout",
     "output_type": "stream",
     "text": [
      "Saving 25\\% as percentaccretedminmasshigh\n"
     ]
    }
   ],
   "source": [
    "minish_mass_low = np.percentile( CGM_mass_fractions['fate']['all']['is_CGM_accreted'].array(), 10 )\n",
    "\n",
    "tex_file.save_variable(\n",
    "    'percentaccretedmin{}'.format( tex_tag ),\n",
    "    py2tex.to_tex_percentage( minish_mass_low, 5, nearest_base=True )\n",
    ")"
   ]
  },
  {
   "cell_type": "markdown",
   "metadata": {},
   "source": [
    "### Compare Accreted Mass to Galaxy Mass"
   ]
  },
  {
   "cell_type": "code",
   "execution_count": 59,
   "metadata": {},
   "outputs": [],
   "source": [
    "accreted_mass = CGM_mass_fractions['fate']['all']['is_CGM_accreted'] * mass_budgets['M']['gas']['m_cgm']\n",
    "acc_div_gal = accreted_mass / mass_budgets['M']['total']['m_gal']"
   ]
  },
  {
   "cell_type": "code",
   "execution_count": 60,
   "metadata": {},
   "outputs": [
    {
     "data": {
      "image/png": "[encoded data removed]",
      "text/plain": [
       "<Figure size 864x360 with 1 Axes>"
      ]
     },
     "execution_count": 60,
     "metadata": {},
     "output_type": "execute_result"
    }
   ],
   "source": [
    "fig = plt.figure( figsize=(12,5), facecolor='w' )\n",
    "ax = plt.gca()\n",
    "\n",
    "ax.scatter(\n",
    "    halo_masses.array(),\n",
    "    acc_div_gal.array(),\n",
    ")\n",
    "\n",
    "ax.set_xscale( 'log' )\n",
    "ax.set_yscale( 'log' )\n",
    "\n",
    "fig"
   ]
  },
  {
   "cell_type": "code",
   "execution_count": 61,
   "metadata": {},
   "outputs": [
    {
     "name": "stdout",
     "output_type": "stream",
     "text": [
      "Saving 1.6 as accdivgalmedianmasshigh\n"
     ]
    }
   ],
   "source": [
    "tex_file.save_variable(\n",
    "    'accdivgalmedian{}'.format( tex_tag ),\n",
    "    '{:.2g}'.format( np.median( acc_div_gal.array() ) ),\n",
    ")"
   ]
  },
  {
   "cell_type": "markdown",
   "metadata": {},
   "source": [
    "### Dependence on Origins"
   ]
  },
  {
   "cell_type": "markdown",
   "metadata": {},
   "source": [
    "#### Fraction of different origins accreted"
   ]
  },
  {
   "cell_type": "code",
   "execution_count": 62,
   "metadata": {},
   "outputs": [
    {
     "name": "stdout",
     "output_type": "stream",
     "text": [
      "Saving 25 as percentIGMaccaccretedminustwosigmamasshigh\n",
      "Saving 75\\% as percentIGMaccaccretedplustwosigmamasshigh\n"
     ]
    }
   ],
   "source": [
    "frac_cat_accreted = (\n",
    "    CGM_mass_fractions['joint']['all']['is_CGM_accreted']['is_CGM_IGM_accretion'] /\n",
    "    CGM_mass_fractions['joint']['all']['is_in_CGM_not_sat']['is_CGM_IGM_accretion']\n",
    ")\n",
    "tex_file.save_variable(\n",
    "    'percentIGMaccaccretedminustwosigma{}'.format( tex_tag ),\n",
    "    py2tex.to_tex_percentage( frac_cat_accreted.nanpercentile( 16. ), 5, nearest_base=True, include_percent=False )\n",
    ")\n",
    "tex_file.save_variable(\n",
    "    'percentIGMaccaccretedplustwosigma{}'.format( tex_tag ),\n",
    "    py2tex.to_tex_percentage( frac_cat_accreted.nanpercentile( 84. ), 5, nearest_base=True )\n",
    ")"
   ]
  },
  {
   "cell_type": "code",
   "execution_count": 63,
   "metadata": {},
   "outputs": [
    {
     "name": "stdout",
     "output_type": "stream",
     "text": [
      "Saving 40 as percentwindaccretedminustwosigmamasshigh\n",
      "Saving 65\\% as percentwindaccretedplustwosigmamasshigh\n"
     ]
    }
   ],
   "source": [
    "frac_cat_accreted = (\n",
    "    CGM_mass_fractions['joint']['all']['is_CGM_accreted']['is_CGM_wind'] /\n",
    "    CGM_mass_fractions['joint']['all']['is_in_CGM_not_sat']['is_CGM_wind']\n",
    ")\n",
    "tex_file.save_variable(\n",
    "    'percentwindaccretedminustwosigma{}'.format( tex_tag ),\n",
    "    py2tex.to_tex_percentage( frac_cat_accreted.nanpercentile( 16. ), 5, nearest_base=True, include_percent=False )\n",
    ")\n",
    "tex_file.save_variable(\n",
    "    'percentwindaccretedplustwosigma{}'.format( tex_tag ),\n",
    "    py2tex.to_tex_percentage( frac_cat_accreted.nanpercentile( 84. ), 5, nearest_base=True )\n",
    ")"
   ]
  },
  {
   "cell_type": "code",
   "execution_count": 64,
   "metadata": {},
   "outputs": [
    {
     "name": "stdout",
     "output_type": "stream",
     "text": [
      "Saving 30 as percentsatwindaccretedminustwosigmamasshigh\n",
      "Saving 80\\% as percentsatwindaccretedplustwosigmamasshigh\n"
     ]
    }
   ],
   "source": [
    "frac_cat_accreted = (\n",
    "    CGM_mass_fractions['joint']['all']['is_CGM_accreted']['is_CGM_satellite_wind'] /\n",
    "    CGM_mass_fractions['joint']['all']['is_in_CGM_not_sat']['is_CGM_satellite_wind']\n",
    ")\n",
    "tex_file.save_variable(\n",
    "    'percentsatwindaccretedminustwosigma{}'.format( tex_tag ),\n",
    "    py2tex.to_tex_percentage( frac_cat_accreted.nanpercentile( 16. ), 5, nearest_base=True, include_percent=False )\n",
    ")\n",
    "tex_file.save_variable(\n",
    "    'percentsatwindaccretedplustwosigma{}'.format( tex_tag ),\n",
    "    py2tex.to_tex_percentage( frac_cat_accreted.nanpercentile( 84. ), 5, nearest_base=True )\n",
    ")"
   ]
  },
  {
   "cell_type": "markdown",
   "metadata": {},
   "source": [
    "#### Fraction of accreted from different origins"
   ]
  },
  {
   "cell_type": "code",
   "execution_count": 65,
   "metadata": {},
   "outputs": [
    {
     "name": "stdout",
     "output_type": "stream",
     "text": [
      "Saving 45 as percentaccretedIGMaccminustwosigmamasshigh\n",
      "Saving 55\\% as percentaccretedIGMaccplustwosigmamasshigh\n"
     ]
    }
   ],
   "source": [
    "frac_acc_IGM_acc = (\n",
    "    CGM_mass_fractions['joint']['all']['is_CGM_accreted']['is_CGM_IGM_accretion'] /\n",
    "    CGM_mass_fractions['fate']['all']['is_CGM_accreted']\n",
    ")\n",
    "\n",
    "tex_file.save_variable(\n",
    "    'percentaccretedIGMaccminustwosigma{}'.format( tex_tag ),\n",
    "    py2tex.to_tex_percentage( frac_acc_IGM_acc.nanpercentile( 16. ), 5, nearest_base=True, include_percent=False )\n",
    ")\n",
    "tex_file.save_variable(\n",
    "    'percentaccretedIGMaccplustwosigma{}'.format( tex_tag ),\n",
    "    py2tex.to_tex_percentage( frac_acc_IGM_acc.nanpercentile( 84. ), 5, nearest_base=True )\n",
    ")"
   ]
  },
  {
   "cell_type": "markdown",
   "metadata": {},
   "source": [
    "## Accreted to Satellite"
   ]
  },
  {
   "cell_type": "code",
   "execution_count": 66,
   "metadata": {},
   "outputs": [
    {
     "data": {
      "text/plain": [
       "('m12m', 0.24467463791370392)"
      ]
     },
     "execution_count": 66,
     "metadata": {},
     "output_type": "execute_result"
    }
   ],
   "source": [
    "max_acc_sat = CGM_mass_fractions['fate']['all']['is_CGM_accreted_to_satellite'].keymax()\n",
    "max_acc_sat"
   ]
  },
  {
   "cell_type": "code",
   "execution_count": 67,
   "metadata": {},
   "outputs": [
    {
     "name": "stdout",
     "output_type": "stream",
     "text": [
      "Saving 25\\% as accsatmaxmasshigh\n"
     ]
    }
   ],
   "source": [
    "tex_file.save_variable(\n",
    "    'accsatmax{}'.format( tex_tag ),\n",
    "    py2tex.to_tex_percentage( max_acc_sat[1], 5, nearest_base=True )\n",
    ")"
   ]
  },
  {
   "cell_type": "markdown",
   "metadata": {},
   "source": [
    "### Dependence on Origins"
   ]
  },
  {
   "cell_type": "code",
   "execution_count": 68,
   "metadata": {},
   "outputs": [
    {
     "name": "stdout",
     "output_type": "stream",
     "text": [
      "Saving 5 as percentaccsatsatwindminustwosigmamasshigh\n",
      "Saving 50\\% as percentaccsatsatwindplustwosigmamasshigh\n",
      "Saving 15\\% as percentaccsatsatwindmedmasshigh\n"
     ]
    },
    {
     "name": "stderr",
     "output_type": "stream",
     "text": [
      "RuntimeWarning: invalid value encountered in double_scalars\n"
     ]
    }
   ],
   "source": [
    "frac = (\n",
    "    CGM_mass_fractions['joint']['all']['is_CGM_accreted_to_satellite']['is_CGM_satellite_wind'] /\n",
    "    CGM_mass_fractions['fate']['all']['is_CGM_accreted_to_satellite']\n",
    ")\n",
    "\n",
    "tex_file.save_variable(\n",
    "    'percentaccsatsatwindminustwosigma{}'.format( tex_tag ),\n",
    "    py2tex.to_tex_percentage( frac.nanpercentile( 16. ), 5, nearest_base=True, include_percent=False )\n",
    ")\n",
    "tex_file.save_variable(\n",
    "    'percentaccsatsatwindplustwosigma{}'.format( tex_tag ),\n",
    "    py2tex.to_tex_percentage( frac.nanpercentile( 84. ), 5, nearest_base=True )\n",
    ")\n",
    "tex_file.save_variable(\n",
    "    'percentaccsatsatwindmed{}'.format( tex_tag ),\n",
    "    py2tex.to_tex_percentage( frac.nanmedian(), 5, nearest_base=True )\n",
    ")"
   ]
  },
  {
   "cell_type": "markdown",
   "metadata": {},
   "source": [
    "### Comparison to Satellite Mass"
   ]
  },
  {
   "cell_type": "code",
   "execution_count": 69,
   "metadata": {},
   "outputs": [
    {
     "name": "stderr",
     "output_type": "stream",
     "text": [
      "RuntimeWarning: divide by zero encountered in double_scalars\n"
     ]
    },
    {
     "data": {
      "text/plain": [
       "Dict, {\n",
       "'m10q' : nan,\n",
       "'m10y' : inf,\n",
       "'m10z' : inf,\n",
       "'m11q' : 0.6010287040633512,\n",
       "'m11v' : inf,\n",
       "'m11a' : inf,\n",
       "'m11b' : inf,\n",
       "'m11c' : 0.6909520982349006,\n",
       "'m12i' : 1.161297269875303,\n",
       "'m12f' : 3.359989297239253,\n",
       "'m12m' : 1.6508117459739449,\n",
       "'m11d_md' : 647.7211099840803,\n",
       "'m11e_md' : inf,\n",
       "'m11h_md' : 9.311453281028502,\n",
       "'m11i_md' : 76.73758993888049,\n",
       "'m12b_md' : 4.271626162471549,\n",
       "'m12c_md' : inf,\n",
       "'m12z_md' : 0.6620143378105072,\n",
       "'m12r_md' : inf,\n",
       "'m12w_md' : 63.7369984054263,\n",
       "}"
      ]
     },
     "execution_count": 69,
     "metadata": {},
     "output_type": "execute_result"
    }
   ],
   "source": [
    "acc_sat_to_sat = (\n",
    "    CGM_mass_fractions['fate']['all']['is_CGM_accreted_to_satellite'] /\n",
    "    CGM_mass_fracs_origins['is_CGM_satellite_ISM']\n",
    ")\n",
    "acc_sat_to_sat"
   ]
  },
  {
   "cell_type": "code",
   "execution_count": 70,
   "metadata": {},
   "outputs": [
    {
     "data": {
      "image/png": "[encoded data removed]",
      "text/plain": [
       "<Figure size 864x360 with 1 Axes>"
      ]
     },
     "execution_count": 70,
     "metadata": {},
     "output_type": "execute_result"
    }
   ],
   "source": [
    "fig = plt.figure( figsize=(12,5), facecolor='w' )\n",
    "ax = plt.gca()\n",
    "\n",
    "ax.scatter(\n",
    "    CGM_mass_fracs_origins['is_CGM_satellite_ISM'].array(),\n",
    "    CGM_mass_fractions['fate']['all']['is_CGM_accreted_to_satellite'].array(),\n",
    ")\n",
    "\n",
    "# Line\n",
    "sat_masses = np.logspace( -4., 1., 256 )\n",
    "possible_slope = np.nanmedian(\n",
    "    (\n",
    "        CGM_mass_fractions['fate']['all']['is_CGM_accreted_to_satellite'] /\n",
    "        CGM_mass_fracs_origins['is_CGM_satellite_ISM']\n",
    "    ).array()\n",
    ")\n",
    "acc_sat_masses = (\n",
    "    possible_slope * (\n",
    "        sat_masses - np.median( CGM_mass_fracs_origins['is_CGM_satellite_ISM'].array() )\n",
    "    ) +\n",
    "    np.median( CGM_mass_fractions['fate']['all']['is_CGM_accreted_to_satellite'].array() )\n",
    ")\n",
    "\n",
    "ax.plot(\n",
    "    sat_masses,\n",
    "    acc_sat_masses\n",
    ")\n",
    "\n",
    "ax.set_xscale( 'log' )\n",
    "ax.set_yscale( 'log' )\n",
    "\n",
    "arr = CGM_mass_fracs_origins['is_CGM_satellite_ISM'].array()\n",
    "x_min = np.nanmin( arr[arr>0.] )*0.9\n",
    "arr = CGM_mass_fractions['fate']['all']['is_CGM_accreted_to_satellite'].array()\n",
    "y_min = np.nanmin( arr[arr>0.] )*0.9\n",
    "\n",
    "ax.set_xlim( x_min, 1., )\n",
    "ax.set_ylim( y_min, 1., )\n",
    "\n",
    "fig"
   ]
  },
  {
   "cell_type": "markdown",
   "metadata": {},
   "source": [
    "## Halo Transfer"
   ]
  },
  {
   "cell_type": "code",
   "execution_count": 71,
   "metadata": {},
   "outputs": [
    {
     "data": {
      "text/plain": [
       "('m11h_md', 0.03217199072241783)"
      ]
     },
     "execution_count": 71,
     "metadata": {},
     "output_type": "execute_result"
    }
   ],
   "source": [
    "CGM_mass_fractions['fate']['all']['is_CGM_halo_transfer'].keymax()"
   ]
  },
  {
   "cell_type": "markdown",
   "metadata": {},
   "source": [
    "## Still CGM"
   ]
  },
  {
   "cell_type": "code",
   "execution_count": 72,
   "metadata": {},
   "outputs": [
    {
     "name": "stdout",
     "output_type": "stream",
     "text": [
      "Saving 0\\% as stillCGMmedmasshigh\n"
     ]
    }
   ],
   "source": [
    "p = CGM_mass_fractions['fate']['all']['is_CGM_still'].nanpercentile( 16 )\n",
    "\n",
    "tex_file.save_variable(\n",
    "    'stillCGMmed{}'.format( tex_tag ),\n",
    "    py2tex.to_tex_percentage( p, 10, nearest_base=True )\n",
    ")"
   ]
  },
  {
   "cell_type": "markdown",
   "metadata": {},
   "source": [
    "# In CGM"
   ]
  },
  {
   "cell_type": "markdown",
   "metadata": {},
   "source": [
    "## Relative to fraction that stays in the CGM continuously"
   ]
  },
  {
   "cell_type": "code",
   "execution_count": 73,
   "metadata": {},
   "outputs": [
    {
     "data": {
      "text/plain": [
       "0.9970898578159734"
      ]
     },
     "execution_count": 73,
     "metadata": {},
     "output_type": "execute_result"
    }
   ],
   "source": [
    "cgm_min_cgm_still = (\n",
    "    CGM_mass_fractions['fate']['all']['is_CGM_still'] /\n",
    "    CGM_mass_fractions['fate']['all']['is_in_CGM']\n",
    ")\n",
    "( 1. - cgm_min_cgm_still ).median()"
   ]
  },
  {
   "cell_type": "code",
   "execution_count": 74,
   "metadata": {},
   "outputs": [
    {
     "name": "stdout",
     "output_type": "stream",
     "text": [
      "Saving 11\\% as inCGMtoCGMstillmedmasshigh\n"
     ]
    }
   ],
   "source": [
    "cgm_min_cgm_still = (\n",
    "    CGM_mass_fractions['fate']['all']['is_in_CGM'] -\n",
    "    CGM_mass_fractions['fate']['all']['is_CGM_still']\n",
    ")\n",
    "\n",
    "tex_file.save_variable(\n",
    "    'inCGMtoCGMstillmed{}'.format( tex_tag ),\n",
    "py2tex.to_tex_percentage( cgm_min_cgm_still.median() )\n",
    ")"
   ]
  },
  {
   "cell_type": "markdown",
   "metadata": {},
   "source": [
    "## Destination of gas that doesn't end up in the CGM"
   ]
  },
  {
   "cell_type": "code",
   "execution_count": 75,
   "metadata": {},
   "outputs": [],
   "source": [
    "not_in_CGM = 1. - CGM_mass_fractions['fate']['all']['is_in_CGM']"
   ]
  },
  {
   "cell_type": "code",
   "execution_count": 76,
   "metadata": {},
   "outputs": [
    {
     "data": {
      "text/plain": [
       "0.2983814961988146"
      ]
     },
     "execution_count": 76,
     "metadata": {},
     "output_type": "execute_result"
    }
   ],
   "source": [
    "( CGM_mass_fractions['fate']['all']['is_in_main_gal'] / not_in_CGM ).nanmedian()"
   ]
  },
  {
   "cell_type": "code",
   "execution_count": 77,
   "metadata": {},
   "outputs": [
    {
     "data": {
      "text/plain": [
       "0.1731849831143889"
      ]
     },
     "execution_count": 77,
     "metadata": {},
     "output_type": "execute_result"
    }
   ],
   "source": [
    "( CGM_mass_fractions['fate']['all']['is_in_main_gal'] / not_in_CGM ).split_by_dict(\n",
    "    l_config.MASS_BINS\n",
    ")['m11'].nanpercentile( 50 )"
   ]
  },
  {
   "cell_type": "code",
   "execution_count": 78,
   "metadata": {},
   "outputs": [
    {
     "data": {
      "text/plain": [
       "0.5855947087441593"
      ]
     },
     "execution_count": 78,
     "metadata": {},
     "output_type": "execute_result"
    }
   ],
   "source": [
    "( CGM_mass_fractions['fate']['all']['is_in_IGM'] / not_in_CGM ).nanmedian()"
   ]
  },
  {
   "cell_type": "code",
   "execution_count": 79,
   "metadata": {},
   "outputs": [
    {
     "data": {
      "text/plain": [
       "0.056018248971765355"
      ]
     },
     "execution_count": 79,
     "metadata": {},
     "output_type": "execute_result"
    }
   ],
   "source": [
    "( CGM_mass_fractions['fate']['all']['is_in_galaxy_halo_interface'] / not_in_CGM ).nanmedian()"
   ]
  },
  {
   "cell_type": "code",
   "execution_count": 80,
   "metadata": {},
   "outputs": [],
   "source": [
    "not_remains_CGM = 1. - CGM_mass_fractions['fate']['all']['is_CGM_still']"
   ]
  },
  {
   "cell_type": "code",
   "execution_count": 81,
   "metadata": {},
   "outputs": [
    {
     "data": {
      "text/plain": [
       "0.6029572303544422"
      ]
     },
     "execution_count": 81,
     "metadata": {},
     "output_type": "execute_result"
    }
   ],
   "source": [
    "( CGM_mass_fractions['fate']['all']['is_CGM_accreted'] / not_remains_CGM ).split_by_dict(\n",
    "    l_config.MASS_BINS\n",
    ")['m12'].nanpercentile( 50 )"
   ]
  },
  {
   "cell_type": "markdown",
   "metadata": {},
   "source": [
    "## Comparison to Ford+2014"
   ]
  },
  {
   "cell_type": "code",
   "execution_count": 82,
   "metadata": {},
   "outputs": [],
   "source": [
    "result = {\n",
    "    True: {},\n",
    "    False: {},\n",
    "}\n",
    "for key, acc in CGM_mass_fractions['fate']['all']['is_CGM_accreted'].items():\n",
    "    big_mass = halo_masses[key] > 10**11.5\n",
    "    result[big_mass][key] = acc + CGM_mass_fractions['fate']['all']['is_CGM_accreted_to_satellite'][key]\n",
    "result = verdict.Dict( result )"
   ]
  },
  {
   "cell_type": "code",
   "execution_count": 83,
   "metadata": {},
   "outputs": [
    {
     "name": "stdout",
     "output_type": "stream",
     "text": [
      "Saving 60\\% as Fordcomphighmassmasshigh\n",
      "Saving 60\\% as Fordcomplowmassmasshigh\n"
     ]
    }
   ],
   "source": [
    "tex_file.save_variable(\n",
    "    'Fordcomphighmass{}'.format( tex_tag ),\n",
    "    py2tex.to_tex_percentage( result[True].median(), 10, nearest_base=True )\n",
    ")\n",
    "\n",
    "tex_file.save_variable(\n",
    "    'Fordcomplowmass{}'.format( tex_tag ),\n",
    "    py2tex.to_tex_percentage( result[False].median(), 10, nearest_base=True )\n",
    ")"
   ]
  },
  {
   "cell_type": "code",
   "execution_count": 84,
   "metadata": {},
   "outputs": [
    {
     "data": {
      "text/plain": [
       "'10^{10}'"
      ]
     },
     "execution_count": 84,
     "metadata": {},
     "output_type": "execute_result"
    }
   ],
   "source": [
    "py2tex.to_tex_scientific_notation(\n",
    "    mass_budgets['M']['gas']['m_cgm'].split_by_dict( l_config.MASS_BINS )['m12'].nanmedian() * 0.8\n",
    ")"
   ]
  },
  {
   "cell_type": "code",
   "execution_count": 85,
   "metadata": {},
   "outputs": [
    {
     "data": {
      "text/plain": [
       "'4\\\\times10^{9}'"
      ]
     },
     "execution_count": 85,
     "metadata": {},
     "output_type": "execute_result"
    }
   ],
   "source": [
    "py2tex.to_tex_scientific_notation(\n",
    "    mass_budgets['M']['gas']['m_cgm'].split_by_dict( l_config.MASS_BINS )['m12'].nanmedian() * 0.8 * 0.3\n",
    ")"
   ]
  },
  {
   "cell_type": "code",
   "execution_count": null,
   "metadata": {},
   "outputs": [],
   "source": []
  }
 ],
 "metadata": {
  "kernelspec": {
   "display_name": "Python 3",
   "language": "python",
   "name": "python3"
  },
  "language_info": {
   "codemirror_mode": {
    "name": "ipython",
    "version": 3
   },
   "file_extension": ".py",
   "mimetype": "text/x-python",
   "name": "python",
   "nbconvert_exporter": "python",
   "pygments_lexer": "ipython3",
   "version": "3.7.1"
  }
 },
 "nbformat": 4,
 "nbformat_minor": 2
}
