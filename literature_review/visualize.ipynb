{
 "cells": [
  {
   "cell_type": "code",
   "execution_count": 1,
   "id": "0b8a7f80-617d-4116-a701-f93b58ccb4c6",
   "metadata": {},
   "outputs": [],
   "source": [
    "import ast\n",
    "import copy\n",
    "import numpy as np\n",
    "import os"
   ]
  },
  {
   "cell_type": "code",
   "execution_count": 2,
   "id": "b0f06ffa-e898-461d-ba50-e6da0b7ee7af",
   "metadata": {},
   "outputs": [],
   "source": [
    "import cc.atlas as atlas\n",
    "import cc.cartography as cartography\n",
    "import cc.publication as publication\n",
    "import cc.utils as utils\n",
    "import cc.tex as tex"
   ]
  },
  {
   "cell_type": "code",
   "execution_count": 3,
   "id": "30de674d-3ee2-41c5-a4c3-c7375eff1a19",
   "metadata": {},
   "outputs": [],
   "source": [
    "import trove\n",
    "import verdict"
   ]
  },
  {
   "cell_type": "code",
   "execution_count": 4,
   "id": "1d42279c-92b6-4663-91e3-a95139947ab0",
   "metadata": {},
   "outputs": [],
   "source": [
    "import matplotlib\n",
    "import matplotlib.pyplot as plt\n",
    "plt.style.use( '/Users/zhafen/repos/clean-bold/clean-bold.mplstyle' )"
   ]
  },
  {
   "cell_type": "markdown",
   "id": "6400a20b-b1a0-475b-a936-4b34182e9e1d",
   "metadata": {
    "tags": []
   },
   "source": [
    "# Literature Review\n",
    "\n",
    "This notebook contains a record of how I performed the literature review for this work."
   ]
  },
  {
   "cell_type": "markdown",
   "id": "66467026-882f-4b43-8c13-b794ff9713ef",
   "metadata": {},
   "source": [
    "# Parameters"
   ]
  },
  {
   "cell_type": "code",
   "execution_count": 5,
   "id": "136174d7-1435-4dac-9210-49878dc959e6",
   "metadata": {},
   "outputs": [],
   "source": [
    "config_fp = '/Users/zhafen/paper_repos/multidimensional_imaging/literature_review/literature_review.trove'\n",
    "cp = trove.config_parser.ConfigParser( config_fp )\n",
    "pm = trove.link_params_to_config(\n",
    "    config_fp,\n",
    "    variation = 'lyman_alpha_halos',\n",
    ")"
   ]
  },
  {
   "cell_type": "code",
   "execution_count": 6,
   "id": "0bf04aa7-dbbc-4113-aa6f-a379d34b31a8",
   "metadata": {},
   "outputs": [],
   "source": [
    "atlas_dir = pm['root_data_dir']"
   ]
  },
  {
   "cell_type": "code",
   "execution_count": 7,
   "id": "2bfbeb9c-cd0c-4dd1-86af-3b679cba58c2",
   "metadata": {},
   "outputs": [],
   "source": [
    "topics = {}\n",
    "for variation in cp.variations:\n",
    "    topics[variation] = ast.literal_eval( cp.get( variation, 'publications' ) )"
   ]
  },
  {
   "cell_type": "code",
   "execution_count": 8,
   "id": "ec8a34d4-16d4-48b7-b7e0-a8c491dfc3ac",
   "metadata": {},
   "outputs": [],
   "source": [
    "pm['target_key'] = 'Hafen2021'"
   ]
  },
  {
   "cell_type": "markdown",
   "id": "d9b2f644-79d2-409d-80d3-0942fdaa8423",
   "metadata": {
    "tags": []
   },
   "source": [
    "# Load Data"
   ]
  },
  {
   "cell_type": "markdown",
   "id": "8ee25456-1cd5-4192-8cc8-3a6607197437",
   "metadata": {},
   "source": [
    "## Topics Data"
   ]
  },
  {
   "cell_type": "code",
   "execution_count": 9,
   "id": "78e418ed-5eb7-4739-93a8-77234adaeb1b",
   "metadata": {},
   "outputs": [],
   "source": [
    "topics_fp = os.path.join( pm['root_data_dir'], 'topics.json' )\n",
    "topics_data = verdict.Dict.from_json( topics_fp, create_nonexisting=True )\n",
    "if 'not_included' not in topics_data:\n",
    "    topics_data['not_included'] = {}\n",
    "if 'intended_to_include' not in topics_data:\n",
    "    topics_data['intended_to_include'] = {}"
   ]
  },
  {
   "cell_type": "markdown",
   "id": "2b8be4f1-86d3-46a2-ae08-13b9ea5f9d2a",
   "metadata": {
    "tags": []
   },
   "source": [
    "## Zotero Atlas"
   ]
  },
  {
   "cell_type": "code",
   "execution_count": 10,
   "id": "c4a2cc5b-8450-4a49-8c69-bdb54cb078f1",
   "metadata": {},
   "outputs": [
    {
     "name": "stdout",
     "output_type": "stream",
     "text": [
      "Loading saved atlas data.\n"
     ]
    },
    {
     "name": "stderr",
     "output_type": "stream",
     "text": [
      "0it [00:00, ?it/s]\n",
      "100%|██████████| 2041/2041 [00:00<00:00, 17804.63it/s]\n"
     ]
    }
   ],
   "source": [
    "# Larger atlas\n",
    "a_zotero = atlas.Atlas( atlas_dir, load_bibtex=False, data_fp=pm['zotero_atlas_fp'] )"
   ]
  },
  {
   "cell_type": "code",
   "execution_count": 11,
   "id": "2a8f05a5-deba-4b29-980c-42ae816795a4",
   "metadata": {},
   "outputs": [
    {
     "name": "stdout",
     "output_type": "stream",
     "text": [
      "Vectorizing text...\n",
      "Using saved vectorized text...\n"
     ]
    },
    {
     "name": "stderr",
     "output_type": "stream",
     "text": [
      "/Users/zhafen/repos/verdict/verdict.py:1404: FutureWarning: Using a non-tuple sequence for multidimensional indexing is deprecated; use `arr[tuple(seq)]` instead of `arr[seq]`. In the future this will be interpreted as an array index, `arr[np.array(seq)]`, which will result either in an error or a different result.\n",
      "  if hasattr( a[first_element_index][0], 'decode' ):\n"
     ]
    }
   ],
   "source": [
    "# Vectorization\n",
    "vp_dict = a_zotero.vectorize( projection_fp=pm['zotero_projection_fp'], )\n",
    "c_zotero = cartography.Cartographer( **vp_dict )"
   ]
  },
  {
   "cell_type": "markdown",
   "id": "1239f6f0-9bbb-4745-b60a-7f06714ac5ed",
   "metadata": {
    "tags": []
   },
   "source": [
    "## Large Atlas"
   ]
  },
  {
   "cell_type": "code",
   "execution_count": 12,
   "id": "9b179493-3001-4ca3-bb2d-2db2bd6465f1",
   "metadata": {},
   "outputs": [
    {
     "name": "stdout",
     "output_type": "stream",
     "text": [
      "Loading saved atlas data.\n"
     ]
    },
    {
     "name": "stderr",
     "output_type": "stream",
     "text": [
      "0it [00:00, ?it/s]\n",
      "100%|██████████| 31026/31026 [00:01<00:00, 26515.98it/s]\n"
     ]
    }
   ],
   "source": [
    "# Larger atlas\n",
    "a = atlas.Atlas( atlas_dir, load_bibtex=False, )"
   ]
  },
  {
   "cell_type": "code",
   "execution_count": 13,
   "id": "4e218007-68c1-43f3-a2c1-4d9677a8f9a4",
   "metadata": {},
   "outputs": [
    {
     "name": "stderr",
     "output_type": "stream",
     "text": [
      "100%|██████████| 2041/2041 [00:00<00:00, 46291.64it/s]\n",
      "100%|██████████| 29012/29012 [00:00<00:00, 119905.16it/s]\n"
     ]
    }
   ],
   "source": [
    "# Update with zotero atlas (in case there are changes to the zotero data,\n",
    "# which may occur during the review process as we download and look over papers).\n",
    "a.update( a_zotero )"
   ]
  },
  {
   "cell_type": "code",
   "execution_count": 14,
   "id": "416b0020-2d8a-4df2-842a-a3f4b67a4fc8",
   "metadata": {},
   "outputs": [
    {
     "name": "stdout",
     "output_type": "stream",
     "text": [
      "Vectorizing text...\n",
      "    Retrieving publication data...\n"
     ]
    },
    {
     "name": "stderr",
     "output_type": "stream",
     "text": [
      " 92%|█████████▏| 26703/29109 [00:00<00:00, 267016.89it/s]/Users/zhafen/repos/cc/cc/publication.py:800: UserWarning: Hafen2021 is unofficial and has no publication date.\n",
      "  warnings.warn( warning_msg )\n",
      "100%|██████████| 29109/29109 [00:00<00:00, 123698.09it/s]\n"
     ]
    },
    {
     "name": "stdout",
     "output_type": "stream",
     "text": [
      "    Calculating vectorization...\n"
     ]
    }
   ],
   "source": [
    "# Vectorization\n",
    "vp_dict = a.vectorize( overwrite=True )\n",
    "c = cartography.Cartographer( **vp_dict )"
   ]
  },
  {
   "cell_type": "markdown",
   "id": "600e6d55-3406-483c-ae01-5c07db0c9c7b",
   "metadata": {
    "tags": []
   },
   "source": [
    "## Tex Draft"
   ]
  },
  {
   "cell_type": "code",
   "execution_count": 15,
   "id": "27dd835e-82aa-4343-b5ad-304b705def45",
   "metadata": {},
   "outputs": [],
   "source": [
    "pub_doc = tex.Tex( filepath=pm['tex_fp'] )"
   ]
  },
  {
   "cell_type": "markdown",
   "id": "6cd05ad7-3801-41c9-9fc4-1589d94858f2",
   "metadata": {},
   "source": [
    "# Visualize"
   ]
  },
  {
   "cell_type": "code",
   "execution_count": 32,
   "id": "8938fcac-4391-4b91-9106-c06d68a7b204",
   "metadata": {},
   "outputs": [
    {
     "name": "stderr",
     "output_type": "stream",
     "text": [
      "  0%|          | 12/28596 [00:00<00:34, 837.45it/s]\n"
     ]
    },
    {
     "ename": "IndexError",
     "evalue": "index 9 is out of bounds for axis 0 with size 9",
     "output_type": "error",
     "traceback": [
      "\u001b[0;31m---------------------------------------------------------------------------\u001b[0m",
      "\u001b[0;31mIndexError\u001b[0m                                Traceback (most recent call last)",
      "\u001b[0;32m<ipython-input-32-c84c6f65e65e>\u001b[0m in \u001b[0;36m<module>\u001b[0;34m\u001b[0m\n\u001b[0;32m----> 1\u001b[0;31m \u001b[0mcoords\u001b[0m\u001b[0;34m,\u001b[0m \u001b[0minds\u001b[0m\u001b[0;34m,\u001b[0m \u001b[0mpairs\u001b[0m \u001b[0;34m=\u001b[0m \u001b[0mc\u001b[0m\u001b[0;34m.\u001b[0m\u001b[0mmap\u001b[0m\u001b[0;34m(\u001b[0m \u001b[0mpm\u001b[0m\u001b[0;34m[\u001b[0m\u001b[0;34m'target_key'\u001b[0m\u001b[0;34m]\u001b[0m\u001b[0;34m,\u001b[0m \u001b[0mmax_links\u001b[0m\u001b[0;34m=\u001b[0m\u001b[0;36m6\u001b[0m \u001b[0;34m)\u001b[0m\u001b[0;34m\u001b[0m\u001b[0;34m\u001b[0m\u001b[0m\n\u001b[0m",
      "\u001b[0;32m~/repos/cc/cc/cartography.py\u001b[0m in \u001b[0;36mmap\u001b[0;34m(self, center, distance_transformation, max_links)\u001b[0m\n\u001b[1;32m   1250\u001b[0m             \u001b[0;32mwhile\u001b[0m \u001b[0;32mTrue\u001b[0m\u001b[0;34m:\u001b[0m\u001b[0;34m\u001b[0m\u001b[0;34m\u001b[0m\u001b[0m\n\u001b[1;32m   1251\u001b[0m                 \u001b[0mk\u001b[0m \u001b[0;34m=\u001b[0m \u001b[0msort_inds_0\u001b[0m\u001b[0;34m[\u001b[0m\u001b[0mm_k\u001b[0m\u001b[0;34m]\u001b[0m\u001b[0;34m\u001b[0m\u001b[0;34m\u001b[0m\u001b[0m\n\u001b[0;32m-> 1252\u001b[0;31m                 \u001b[0mj\u001b[0m \u001b[0;34m=\u001b[0m \u001b[0msort_inds_i\u001b[0m\u001b[0;34m[\u001b[0m\u001b[0mm_j\u001b[0m\u001b[0;34m]\u001b[0m\u001b[0;34m\u001b[0m\u001b[0;34m\u001b[0m\u001b[0m\n\u001b[0m\u001b[1;32m   1253\u001b[0m \u001b[0;34m\u001b[0m\u001b[0m\n\u001b[1;32m   1254\u001b[0m                 \u001b[0;31m# Avoid duplicates\u001b[0m\u001b[0;34m\u001b[0m\u001b[0;34m\u001b[0m\u001b[0;34m\u001b[0m\u001b[0m\n",
      "\u001b[0;31mIndexError\u001b[0m: index 9 is out of bounds for axis 0 with size 9"
     ]
    }
   ],
   "source": [
    "coords, inds, pairs = c.map( pm['target_key'], max_links=6 )"
   ]
  },
  {
   "cell_type": "code",
   "execution_count": null,
   "id": "99b2b39b-de1b-42a7-8a22-0fbb1491fc5c",
   "metadata": {},
   "outputs": [],
   "source": [
    "fig = plt.figure()\n",
    "ax = plt.gca()\n",
    "\n",
    "ax.scatter(\n",
    "    coords[:,0],\n",
    "    coords[:,1],\n",
    "    alpha = 0.2,\n",
    "    s = 20,\n",
    ")\n",
    "\n",
    "ax.set_aspect( 'equal' )\n",
    "# ax.set_xlim( -0.3, 1 )\n",
    "# ax.set_ylim( -0.3, 1 )\n",
    "# ax.set_xlim( 0.2, 0.8 )\n",
    "# ax.set_ylim( 0.2, 0.8 )\n",
    "ax.set_xlim( -0.05, 0.15 )\n",
    "ax.set_ylim( -0.15, 0.15 )"
   ]
  },
  {
   "cell_type": "code",
   "execution_count": null,
   "id": "0171ee87-21ce-4cd8-8623-57011b88492c",
   "metadata": {},
   "outputs": [],
   "source": []
  }
 ],
 "metadata": {
  "kernelspec": {
   "display_name": "Python 3",
   "language": "python",
   "name": "python3"
  },
  "language_info": {
   "codemirror_mode": {
    "name": "ipython",
    "version": 3
   },
   "file_extension": ".py",
   "mimetype": "text/x-python",
   "name": "python",
   "nbconvert_exporter": "python",
   "pygments_lexer": "ipython3",
   "version": "3.9.6"
  }
 },
 "nbformat": 4,
 "nbformat_minor": 5
}
