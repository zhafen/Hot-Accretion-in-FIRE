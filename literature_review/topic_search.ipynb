{
 "cells": [
  {
   "cell_type": "code",
   "execution_count": 1,
   "id": "7d6727b6-2305-4680-b0af-502a6785f392",
   "metadata": {},
   "outputs": [],
   "source": [
    "import ast\n",
    "import copy\n",
    "import numpy as np\n",
    "import os"
   ]
  },
  {
   "cell_type": "code",
   "execution_count": 2,
   "id": "8164e154-7e05-4f14-a3e4-97196f0896b3",
   "metadata": {},
   "outputs": [],
   "source": [
    "import cc.atlas as atlas\n",
    "import cc.cartography as cartography\n",
    "import cc.publication as publication\n",
    "import cc.utils as utils\n",
    "import cc.tex as tex"
   ]
  },
  {
   "cell_type": "code",
   "execution_count": 3,
   "id": "e4a7a811-60c6-4cb3-ae42-5ca234ff818b",
   "metadata": {},
   "outputs": [],
   "source": [
    "import trove"
   ]
  },
  {
   "cell_type": "markdown",
   "id": "ea554b41-e650-44c5-810d-abc2fd666cfa",
   "metadata": {},
   "source": [
    "# Parameters"
   ]
  },
  {
   "cell_type": "code",
   "execution_count": 8,
   "id": "bac5e07d-7a2f-4de9-925b-3df8f2a6a6d6",
   "metadata": {},
   "outputs": [],
   "source": [
    "config_fp = '/Users/zhafen/paper_repos/Hot-Accretion-in-FIRE/literature_review/literature_review.trove'\n",
    "cp = trove.config_parser.ConfigParser( config_fp )\n",
    "pm = trove.link_params_to_config(\n",
    "    config_fp,\n",
    "    variation = 'angular_momentum_cancellation',\n",
    ")"
   ]
  },
  {
   "cell_type": "code",
   "execution_count": 9,
   "id": "1f173ae5-afec-4e2d-9c0c-f9abed4d84ba",
   "metadata": {},
   "outputs": [],
   "source": [
    "atlas_dir = pm['root_data_dir']"
   ]
  },
  {
   "cell_type": "code",
   "execution_count": 10,
   "id": "576e7d94-11c0-47e5-b3e4-8d74849e447b",
   "metadata": {},
   "outputs": [],
   "source": [
    "topics = {}\n",
    "search_strs = {}\n",
    "for variation in cp.variations:\n",
    "    topics[variation] = ast.literal_eval( cp.get( variation, 'publications' ) )\n",
    "    try:\n",
    "        search_strs[variation] = ast.literal_eval( cp.get( variation, 'search_str' ) )\n",
    "    except:\n",
    "        continue"
   ]
  },
  {
   "cell_type": "markdown",
   "id": "70b8426b-3ca7-49d5-b759-463be0ca4721",
   "metadata": {},
   "source": [
    "## Load"
   ]
  },
  {
   "cell_type": "markdown",
   "id": "1d2d0d61-d9c7-49a3-8c6f-ee0044fc5c2d",
   "metadata": {
    "tags": []
   },
   "source": [
    "### Zotero Atlas"
   ]
  },
  {
   "cell_type": "code",
   "execution_count": 11,
   "id": "4a4402f0-d02e-412d-81ce-cb1b70b4e74b",
   "metadata": {},
   "outputs": [
    {
     "name": "stdout",
     "output_type": "stream",
     "text": [
      "Loading saved atlas data.\n"
     ]
    },
    {
     "name": "stderr",
     "output_type": "stream",
     "text": [
      "0it [00:00, ?it/s]\n",
      "100%|██████████| 1904/1904 [00:00<00:00, 17049.00it/s]\n"
     ]
    }
   ],
   "source": [
    "a_zotero = atlas.Atlas( atlas_dir, data_fp=pm['zotero_atlas_fp'], load_bibtex=False, )"
   ]
  },
  {
   "cell_type": "code",
   "execution_count": 12,
   "id": "cfbb4b5f-19fa-45c9-b85b-d0f36159b9bc",
   "metadata": {
    "tags": []
   },
   "outputs": [
    {
     "name": "stdout",
     "output_type": "stream",
     "text": [
      "Loading bibliography entries.\n"
     ]
    },
    {
     "name": "stderr",
     "output_type": "stream",
     "text": [
      "Entry type thesis not standard. Not considered.\n",
      "Entry type online not standard. Not considered.\n",
      "Entry type online not standard. Not considered.\n",
      "Entry type online not standard. Not considered.\n",
      "Entry type online not standard. Not considered.\n",
      "Entry type online not standard. Not considered.\n",
      "Entry type online not standard. Not considered.\n",
      "Entry type online not standard. Not considered.\n",
      "Entry type online not standard. Not considered.\n",
      "Entry type online not standard. Not considered.\n",
      "Entry type online not standard. Not considered.\n",
      "Entry type online not standard. Not considered.\n",
      "Entry type report not standard. Not considered.\n",
      "Entry type online not standard. Not considered.\n",
      "Entry type thesis not standard. Not considered.\n"
     ]
    },
    {
     "name": "stdout",
     "output_type": "stream",
     "text": [
      "Storing bibliography entries.\n"
     ]
    },
    {
     "name": "stderr",
     "output_type": "stream",
     "text": [
      "100%|██████████| 1889/1889 [00:00<00:00, 94667.90it/s]\n"
     ]
    }
   ],
   "source": [
    "a_zotero.import_bibtex( pm['zotero_bibtex_fp'] )"
   ]
  },
  {
   "cell_type": "code",
   "execution_count": 13,
   "id": "8adf54f7-89dd-4fd4-8b6b-e7044f0efece",
   "metadata": {
    "tags": []
   },
   "outputs": [
    {
     "name": "stdout",
     "output_type": "stream",
     "text": [
      "    Making 1 ADS calls...\n"
     ]
    },
    {
     "name": "stderr",
     "output_type": "stream",
     "text": [
      "  0%|          | 0/1 [00:00<?, ?it/s]/Users/zhafen/repos/cc/cc/atlas.py:999: UserWarning: No publications found for Riedl2006. Skipping.\n",
      "  warnings.warn(\n",
      "/Users/zhafen/repos/cc/cc/atlas.py:999: UserWarning: No publications found for Hartigan1985. Skipping.\n",
      "  warnings.warn(\n",
      "/Users/zhafen/repos/cc/cc/atlas.py:999: UserWarning: No publications found for Chan2017. Skipping.\n",
      "  warnings.warn(\n",
      "/Users/zhafen/repos/cc/cc/atlas.py:999: UserWarning: No publications found for Scheufele1999. Skipping.\n",
      "  warnings.warn(\n",
      "/Users/zhafen/repos/cc/cc/atlas.py:999: UserWarning: No publications found for Anderson2016. Skipping.\n",
      "  warnings.warn(\n",
      "/Users/zhafen/repos/cc/cc/atlas.py:999: UserWarning: No publications found for Kaplan1958. Skipping.\n",
      "  warnings.warn(\n",
      "/Users/zhafen/repos/cc/cc/atlas.py:999: UserWarning: No publications found for Turnbull1976. Skipping.\n",
      "  warnings.warn(\n",
      "/Users/zhafen/repos/cc/cc/atlas.py:999: UserWarning: No publications found for Smagorinsky1963. Skipping.\n",
      "  warnings.warn(\n",
      "/Users/zhafen/repos/cc/cc/atlas.py:999: UserWarning: No publications found for Whittaker2000. Skipping.\n",
      "  warnings.warn(\n",
      "/Users/zhafen/repos/cc/cc/atlas.py:999: UserWarning: No publications found for Runeson2006. Skipping.\n",
      "  warnings.warn(\n",
      "/Users/zhafen/repos/cc/cc/atlas.py:999: UserWarning: No publications found for Coelho2017. Skipping.\n",
      "  warnings.warn(\n",
      "/Users/zhafen/repos/cc/cc/atlas.py:999: UserWarning: No publications found for Varotsis2018. Skipping.\n",
      "  warnings.warn(\n",
      "/Users/zhafen/repos/cc/cc/atlas.py:999: UserWarning: No publications found for Pirker2015. Skipping.\n",
      "  warnings.warn(\n",
      "/Users/zhafen/repos/cc/cc/atlas.py:999: UserWarning: No publications found for Deterding2011. Skipping.\n",
      "  warnings.warn(\n",
      "/Users/zhafen/repos/cc/cc/atlas.py:999: UserWarning: No publications found for Reiners2015. Skipping.\n",
      "  warnings.warn(\n",
      "/Users/zhafen/repos/cc/cc/atlas.py:999: UserWarning: No publications found for Yarkoni2019. Skipping.\n",
      "  warnings.warn(\n",
      "/Users/zhafen/repos/cc/cc/atlas.py:999: UserWarning: No publications found for Hanes1940. Skipping.\n",
      "  warnings.warn(\n",
      "/Users/zhafen/repos/cc/cc/atlas.py:999: UserWarning: No publications found for Schilling2005. Skipping.\n",
      "  warnings.warn(\n",
      "/Users/zhafen/repos/cc/cc/atlas.py:999: UserWarning: No publications found for Price1976. Skipping.\n",
      "  warnings.warn(\n",
      "/Users/zhafen/repos/cc/cc/atlas.py:999: UserWarning: No publications found for Kluyver2016. Skipping.\n",
      "  warnings.warn(\n",
      "/Users/zhafen/repos/cc/cc/atlas.py:999: UserWarning: No publications found for DeSollaPrice1989. Skipping.\n",
      "  warnings.warn(\n",
      "/Users/zhafen/repos/cc/cc/atlas.py:999: UserWarning: No publications found for Vinkers2015. Skipping.\n",
      "  warnings.warn(\n",
      "/Users/zhafen/repos/cc/cc/atlas.py:999: UserWarning: No publications found for Fortunato2018. Skipping.\n",
      "  warnings.warn(\n",
      "/Users/zhafen/repos/cc/cc/atlas.py:999: UserWarning: No publications found for Sinatra2016. Skipping.\n",
      "  warnings.warn(\n",
      "/Users/zhafen/repos/cc/cc/atlas.py:999: UserWarning: No publications found for Strevens2003. Skipping.\n",
      "  warnings.warn(\n",
      "/Users/zhafen/repos/cc/cc/atlas.py:999: UserWarning: No publications found for Kitcher1990. Skipping.\n",
      "  warnings.warn(\n",
      "/Users/zhafen/repos/cc/cc/atlas.py:999: UserWarning: No publications found for Steegen2016. Skipping.\n",
      "  warnings.warn(\n",
      "/Users/zhafen/repos/cc/cc/atlas.py:999: UserWarning: No publications found for Shockley1957. Skipping.\n",
      "  warnings.warn(\n",
      "/Users/zhafen/repos/cc/cc/atlas.py:999: UserWarning: No publications found for Azoulay2011. Skipping.\n",
      "  warnings.warn(\n",
      "/Users/zhafen/repos/cc/cc/atlas.py:999: UserWarning: No publications found for Small1973. Skipping.\n",
      "  warnings.warn(\n",
      "/Users/zhafen/repos/cc/cc/atlas.py:999: UserWarning: No publications found for Stringer2010. Skipping.\n",
      "  warnings.warn(\n",
      "/Users/zhafen/repos/cc/cc/atlas.py:999: UserWarning: No publications found for Liu2013. Skipping.\n",
      "  warnings.warn(\n",
      "/Users/zhafen/repos/cc/cc/atlas.py:999: UserWarning: No publications found for Uzzi2005. Skipping.\n",
      "  warnings.warn(\n",
      "/Users/zhafen/repos/cc/cc/atlas.py:999: UserWarning: No publications found for Falk-Krzesinski2011. Skipping.\n",
      "  warnings.warn(\n",
      "/Users/zhafen/repos/cc/cc/atlas.py:999: UserWarning: No publications found for Stokols2008. Skipping.\n",
      "  warnings.warn(\n",
      "/Users/zhafen/repos/cc/cc/atlas.py:999: UserWarning: No publications found for Fiore2008. Skipping.\n",
      "  warnings.warn(\n",
      "/Users/zhafen/repos/cc/cc/atlas.py:999: UserWarning: No publications found for Research2004. Skipping.\n",
      "  warnings.warn(\n",
      "/Users/zhafen/repos/cc/cc/atlas.py:999: UserWarning: No publications found for Fleming2001. Skipping.\n",
      "  warnings.warn(\n",
      "/Users/zhafen/repos/cc/cc/atlas.py:999: UserWarning: No publications found for Schilling2011. Skipping.\n",
      "  warnings.warn(\n",
      "/Users/zhafen/repos/cc/cc/atlas.py:999: UserWarning: No publications found for Cluley2012. Skipping.\n",
      "  warnings.warn(\n",
      "/Users/zhafen/repos/cc/cc/atlas.py:999: UserWarning: No publications found for JONES2009. Skipping.\n",
      "  warnings.warn(\n",
      "/Users/zhafen/repos/cc/cc/atlas.py:999: UserWarning: No publications found for Weitzman1998. Skipping.\n",
      "  warnings.warn(\n",
      "/Users/zhafen/repos/cc/cc/atlas.py:999: UserWarning: No publications found for West2021. Skipping.\n",
      "  warnings.warn(\n",
      "/Users/zhafen/repos/cc/cc/atlas.py:999: UserWarning: No publications found for Weis2021. Skipping.\n",
      "  warnings.warn(\n",
      "/Users/zhafen/repos/cc/cc/atlas.py:999: UserWarning: No publications found for Collins2021. Skipping.\n",
      "  warnings.warn(\n",
      "/Users/zhafen/repos/cc/cc/atlas.py:999: UserWarning: No publications found for Haven2021. Skipping.\n",
      "  warnings.warn(\n",
      "/Users/zhafen/repos/cc/cc/atlas.py:999: UserWarning: No publications found for VanNoorden2014. Skipping.\n",
      "  warnings.warn(\n",
      "/Users/zhafen/repos/cc/cc/atlas.py:999: UserWarning: No publications found for VanNoorden2013. Skipping.\n",
      "  warnings.warn(\n",
      "/Users/zhafen/repos/cc/cc/atlas.py:999: UserWarning: No publications found for Chawla2021. Skipping.\n",
      "  warnings.warn(\n",
      "/Users/zhafen/repos/cc/cc/atlas.py:999: UserWarning: No publications found for Wang2016a. Skipping.\n",
      "  warnings.warn(\n",
      "/Users/zhafen/repos/cc/cc/atlas.py:999: UserWarning: No publications found for Etemadpour2016. Skipping.\n",
      "  warnings.warn(\n",
      "/Users/zhafen/repos/cc/cc/atlas.py:999: UserWarning: No publications found for Paulovich2008. Skipping.\n",
      "  warnings.warn(\n",
      "100%|██████████| 1/1 [00:01<00:00,  1.47s/it]\n"
     ]
    },
    {
     "name": "stdout",
     "output_type": "stream",
     "text": [
      "    Making 25 ADS calls for publications without IDs...\n"
     ]
    },
    {
     "name": "stderr",
     "output_type": "stream",
     "text": [
      "  0%|          | 0/25 [00:00<?, ?it/s]/Users/zhafen/repos/cc/cc/atlas.py:1035: UserWarning: No publications found for Lanson2008. Skipping.\n",
      "  warnings.warn(\n",
      "  4%|▍         | 1/25 [00:00<00:11,  2.08it/s]/Users/zhafen/repos/cc/cc/atlas.py:1035: UserWarning: No publications found for Feige2011. Skipping.\n",
      "  warnings.warn(\n",
      "  8%|▊         | 2/25 [00:00<00:10,  2.13it/s]/Users/zhafen/repos/cc/cc/atlas.py:1035: UserWarning: No publications found for Zanotti2010. Skipping.\n",
      "  warnings.warn(\n",
      " 12%|█▏        | 3/25 [00:01<00:10,  2.18it/s]/Users/zhafen/repos/cc/cc/atlas.py:1035: UserWarning: No publications found for Harrus. Skipping.\n",
      "  warnings.warn(\n",
      " 16%|█▌        | 4/25 [00:01<00:09,  2.13it/s]/Users/zhafen/repos/cc/cc/atlas.py:1035: UserWarning: No publications found for Siekmann1991. Skipping.\n",
      "  warnings.warn(\n",
      " 20%|██        | 5/25 [00:02<00:09,  2.16it/s]/Users/zhafen/repos/cc/cc/atlas.py:1035: UserWarning: No publications found for Kepler2016. Skipping.\n",
      "  warnings.warn(\n",
      " 24%|██▍       | 6/25 [00:02<00:09,  2.08it/s]/Users/zhafen/repos/cc/cc/atlas.py:1035: UserWarning: No publications found for VanDeVoort2017a. Skipping.\n",
      "  warnings.warn(\n",
      " 28%|██▊       | 7/25 [00:03<00:08,  2.18it/s]/Users/zhafen/repos/cc/cc/atlas.py:1029: UserWarning: Multiple publications possible for Parker1965. Skipping.\n",
      "  warnings.warn(\n",
      " 32%|███▏      | 8/25 [00:04<00:14,  1.20it/s]/Users/zhafen/repos/cc/cc/atlas.py:1035: UserWarning: No publications found for Klein2003. Skipping.\n",
      "  warnings.warn(\n",
      " 36%|███▌      | 9/25 [00:05<00:11,  1.41it/s]/Users/zhafen/repos/cc/cc/atlas.py:1035: UserWarning: No publications found for Pillepich2017. Skipping.\n",
      "  warnings.warn(\n",
      " 40%|████      | 10/25 [00:05<00:09,  1.57it/s]/Users/zhafen/repos/cc/cc/atlas.py:1035: UserWarning: No publications found for Cen2001. Skipping.\n",
      "  warnings.warn(\n",
      " 44%|████▍     | 11/25 [00:06<00:08,  1.65it/s]/Users/zhafen/repos/cc/cc/atlas.py:1029: UserWarning: Multiple publications possible for Draine2011. Skipping.\n",
      "  warnings.warn(\n",
      " 48%|████▊     | 12/25 [00:07<00:11,  1.09it/s]/Users/zhafen/repos/cc/cc/atlas.py:1035: UserWarning: No publications found for Li2020. Skipping.\n",
      "  warnings.warn(\n",
      " 52%|█████▏    | 13/25 [00:08<00:09,  1.24it/s]/Users/zhafen/repos/cc/cc/atlas.py:1035: UserWarning: No publications found for Lam2015. Skipping.\n",
      "  warnings.warn(\n",
      " 56%|█████▌    | 14/25 [00:08<00:07,  1.41it/s]/Users/zhafen/repos/cc/cc/atlas.py:1035: UserWarning: No publications found for Young2020. Skipping.\n",
      "  warnings.warn(\n",
      " 60%|██████    | 15/25 [00:09<00:06,  1.48it/s]/Users/zhafen/repos/cc/cc/atlas.py:1035: UserWarning: No publications found for Henderson1990. Skipping.\n",
      "  warnings.warn(\n",
      " 64%|██████▍   | 16/25 [00:10<00:05,  1.66it/s]/Users/zhafen/repos/cc/cc/atlas.py:1035: UserWarning: No publications found for Kimm2011b. Skipping.\n",
      "  warnings.warn(\n",
      " 68%|██████▊   | 17/25 [00:10<00:04,  1.77it/s]/Users/zhafen/repos/cc/cc/atlas.py:1035: UserWarning: No publications found for Rennehan2021. Skipping.\n",
      "  warnings.warn(\n",
      " 72%|███████▏  | 18/25 [00:10<00:03,  1.84it/s]/Users/zhafen/repos/cc/cc/atlas.py:1029: UserWarning: Multiple publications possible for Whitcomb2013. Skipping.\n",
      "  warnings.warn(\n",
      " 76%|███████▌  | 19/25 [00:11<00:03,  1.64it/s]/Users/zhafen/repos/cc/cc/atlas.py:1035: UserWarning: No publications found for CANaturalResourcesAgency. Skipping.\n",
      "  warnings.warn(\n",
      " 80%|████████  | 20/25 [00:12<00:02,  1.80it/s]/Users/zhafen/repos/cc/cc/atlas.py:1029: UserWarning: Multiple publications possible for HarmsworthAssociates2010. Skipping.\n",
      "  warnings.warn(\n",
      " 84%|████████▍ | 21/25 [00:12<00:02,  1.94it/s]/Users/zhafen/repos/cc/cc/atlas.py:1035: UserWarning: No publications found for Sanchez2020. Skipping.\n",
      "  warnings.warn(\n",
      " 88%|████████▊ | 22/25 [00:13<00:01,  1.89it/s]/Users/zhafen/repos/cc/cc/atlas.py:1035: UserWarning: No publications found for Yu2021. Skipping.\n",
      "  warnings.warn(\n",
      " 92%|█████████▏| 23/25 [00:13<00:01,  1.81it/s]/Users/zhafen/repos/cc/cc/atlas.py:1035: UserWarning: No publications found for Richings2020. Skipping.\n",
      "  warnings.warn(\n",
      " 96%|█████████▌| 24/25 [00:14<00:00,  1.80it/s]/Users/zhafen/repos/cc/cc/atlas.py:1035: UserWarning: No publications found for Lim2020a. Skipping.\n",
      "  warnings.warn(\n",
      "100%|██████████| 25/25 [00:14<00:00,  1.68it/s]\n"
     ]
    },
    {
     "name": "stdout",
     "output_type": "stream",
     "text": [
      "    Doing NLP...\n"
     ]
    },
    {
     "name": "stderr",
     "output_type": "stream",
     "text": [
      "100%|██████████| 1904/1904 [00:00<00:00, 742879.52it/s]\n"
     ]
    }
   ],
   "source": [
    "a_zotero.process_abstracts( identifier='from_citation' )"
   ]
  },
  {
   "cell_type": "code",
   "execution_count": 14,
   "id": "bf799f2b-53c9-4820-87cd-b94e47afe3b6",
   "metadata": {},
   "outputs": [
    {
     "name": "stdout",
     "output_type": "stream",
     "text": [
      "Preparing to save data.\n"
     ]
    },
    {
     "name": "stderr",
     "output_type": "stream",
     "text": [
      "100%|██████████| 1904/1904 [00:00<00:00, 5559.58it/s]\n"
     ]
    },
    {
     "name": "stdout",
     "output_type": "stream",
     "text": [
      "Saving to /Users/zhafen/Data/hot_halo_accretion/literature_review/atlas_zotero.json\n"
     ]
    }
   ],
   "source": [
    "a_zotero.save_data( fp=pm['zotero_atlas_fp'] )"
   ]
  },
  {
   "cell_type": "code",
   "execution_count": 15,
   "id": "d2b98e0e-caa1-4670-95f0-af5d8fe0e39e",
   "metadata": {},
   "outputs": [
    {
     "name": "stdout",
     "output_type": "stream",
     "text": [
      "Vectorizing text...\n",
      "    Retrieving publication data...\n"
     ]
    },
    {
     "name": "stderr",
     "output_type": "stream",
     "text": [
      "100%|██████████| 1904/1904 [00:00<00:00, 257852.66it/s]"
     ]
    },
    {
     "name": "stdout",
     "output_type": "stream",
     "text": [
      "    Calculating vectorization...\n"
     ]
    },
    {
     "name": "stderr",
     "output_type": "stream",
     "text": [
      "\n"
     ]
    }
   ],
   "source": [
    "# Vectorize\n",
    "vp_dict = a_zotero.vectorize( projection_fp=pm['zotero_projection_fp'], overwrite=True )\n",
    "c_zotero = cartography.Cartographer( **vp_dict )"
   ]
  },
  {
   "cell_type": "markdown",
   "id": "3d1fb778-89fa-42f3-a935-8c66e55e70ab",
   "metadata": {
    "tags": []
   },
   "source": [
    "### Large Atlas"
   ]
  },
  {
   "cell_type": "code",
   "execution_count": 16,
   "id": "3f169083-0fd4-4c92-9469-12b54013880b",
   "metadata": {},
   "outputs": [
    {
     "name": "stdout",
     "output_type": "stream",
     "text": [
      "Loading saved atlas data.\n"
     ]
    },
    {
     "name": "stderr",
     "output_type": "stream",
     "text": [
      "0it [00:00, ?it/s]\n",
      "100%|██████████| 19540/19540 [00:00<00:00, 25575.25it/s]\n"
     ]
    }
   ],
   "source": [
    "# Larger atlas\n",
    "a = atlas.Atlas( atlas_dir, load_bibtex=False, )"
   ]
  },
  {
   "cell_type": "code",
   "execution_count": 17,
   "id": "1f3fad5e-415d-44d5-8da0-2cf400f2743b",
   "metadata": {},
   "outputs": [
    {
     "name": "stderr",
     "output_type": "stream",
     "text": [
      "100%|██████████| 1904/1904 [00:00<00:00, 162197.47it/s]\n",
      "100%|██████████| 17719/17719 [00:00<00:00, 126572.38it/s]\n"
     ]
    }
   ],
   "source": [
    "a.update( a_zotero )"
   ]
  },
  {
   "cell_type": "code",
   "execution_count": 18,
   "id": "507affc4-5fa6-47ce-9faa-610b0d7f8685",
   "metadata": {},
   "outputs": [
    {
     "name": "stdout",
     "output_type": "stream",
     "text": [
      "    Making 1 ADS calls...\n"
     ]
    },
    {
     "name": "stderr",
     "output_type": "stream",
     "text": [
      "100%|██████████| 1/1 [00:00<00:00,  1.78it/s]\n"
     ]
    },
    {
     "name": "stdout",
     "output_type": "stream",
     "text": [
      "    Making 23 ADS calls for publications without IDs...\n"
     ]
    },
    {
     "name": "stderr",
     "output_type": "stream",
     "text": [
      "100%|██████████| 23/23 [00:11<00:00,  1.92it/s]\n"
     ]
    },
    {
     "name": "stdout",
     "output_type": "stream",
     "text": [
      "    Doing NLP...\n"
     ]
    },
    {
     "name": "stderr",
     "output_type": "stream",
     "text": [
      "100%|██████████| 18368/18368 [00:00<00:00, 753589.64it/s]\n"
     ]
    }
   ],
   "source": [
    "a.process_abstracts( identifier='from_citation' )"
   ]
  },
  {
   "cell_type": "code",
   "execution_count": 19,
   "id": "c0d5e229-9711-4732-ae80-8b327252cb3b",
   "metadata": {},
   "outputs": [
    {
     "name": "stdout",
     "output_type": "stream",
     "text": [
      "Vectorizing text...\n",
      "    Retrieving publication data...\n"
     ]
    },
    {
     "name": "stderr",
     "output_type": "stream",
     "text": [
      "  0%|          | 0/18368 [00:00<?, ?it/s]/Users/zhafen/repos/cc/cc/publication.py:800: UserWarning: Hafen2021 is unofficial and has no publication date.\n",
      "  warnings.warn( warning_msg )\n",
      " 99%|█████████▉| 18271/18368 [00:00<00:00, 101223.29it/s]/Users/zhafen/repos/cc/cc/publication.py:800: UserWarning: thin_disk_galaxies is unofficial and has no publication date.\n",
      "  warnings.warn( warning_msg )\n",
      "100%|██████████| 18368/18368 [00:00<00:00, 100167.43it/s]\n"
     ]
    },
    {
     "name": "stdout",
     "output_type": "stream",
     "text": [
      "    Calculating vectorization...\n"
     ]
    }
   ],
   "source": [
    "# Vectorization\n",
    "vp_dict = a.vectorize( overwrite=True )\n",
    "c = cartography.Cartographer( **vp_dict )"
   ]
  },
  {
   "cell_type": "markdown",
   "id": "d8bfeb3d-5e21-4fd7-b10d-af2803a17e3a",
   "metadata": {},
   "source": [
    "# Search"
   ]
  },
  {
   "cell_type": "code",
   "execution_count": 20,
   "id": "183b4c5a-2004-4c40-8c95-37e60d588ad5",
   "metadata": {
    "tags": []
   },
   "outputs": [
    {
     "name": "stdout",
     "output_type": "stream",
     "text": [
      "Expanding for topics...\n",
      "\n",
      "================================================================\n",
      "Iteration 0\n",
      "\n",
      "================================================================\n",
      "coronal_mixing_accretion\n",
      "Expansion will include 164 new publications.\n",
      "Loading bibliography entries.\n",
      "Storing bibliography entries.\n"
     ]
    },
    {
     "name": "stderr",
     "output_type": "stream",
     "text": [
      "100%|██████████| 18767/18767 [00:00<00:00, 29928.08it/s]\n"
     ]
    },
    {
     "name": "stdout",
     "output_type": "stream",
     "text": [
      "    Making 14 ADS calls...\n"
     ]
    },
    {
     "name": "stderr",
     "output_type": "stream",
     "text": [
      "  0%|          | 0/14 [00:00<?, ?it/s]/Users/zhafen/repos/cc/cc/atlas.py:999: UserWarning: No publications found for 2021arXiv210808320R. Skipping.\n",
      "  warnings.warn(\n",
      "/Users/zhafen/repos/cc/cc/atlas.py:999: UserWarning: No publications found for 2021arXiv210506489S. Skipping.\n",
      "  warnings.warn(\n",
      " 29%|██▊       | 4/14 [00:04<00:10,  1.08s/it]/Users/zhafen/repos/cc/cc/atlas.py:999: UserWarning: No publications found for 2021MNRAS.tmp.2085A. Skipping.\n",
      "  warnings.warn(\n",
      "/Users/zhafen/repos/cc/cc/atlas.py:999: UserWarning: No publications found for 2020arXiv200613976S. Skipping.\n",
      "  warnings.warn(\n",
      " 43%|████▎     | 6/14 [00:06<00:08,  1.06s/it]/Users/zhafen/repos/cc/cc/atlas.py:999: UserWarning: No publications found for 2021arXiv210601378D. Skipping.\n",
      "  warnings.warn(\n",
      " 64%|██████▍   | 9/14 [00:09<00:05,  1.06s/it]/Users/zhafen/repos/cc/cc/atlas.py:999: UserWarning: No publications found for 2021arXiv210305008C. Skipping.\n",
      "  warnings.warn(\n",
      " 93%|█████████▎| 13/14 [01:29<00:08,  8.93s/it]/Users/zhafen/repos/cc/cc/atlas.py:999: UserWarning: No publications found for Lanson2008. Skipping.\n",
      "  warnings.warn(\n",
      "/Users/zhafen/repos/cc/cc/atlas.py:999: UserWarning: No publications found for Feige2011. Skipping.\n",
      "  warnings.warn(\n",
      "/Users/zhafen/repos/cc/cc/atlas.py:999: UserWarning: No publications found for Zanotti2010. Skipping.\n",
      "  warnings.warn(\n",
      "/Users/zhafen/repos/cc/cc/atlas.py:999: UserWarning: No publications found for Siekmann1991. Skipping.\n",
      "  warnings.warn(\n",
      "/Users/zhafen/repos/cc/cc/atlas.py:999: UserWarning: No publications found for Kepler2016. Skipping.\n",
      "  warnings.warn(\n",
      "/Users/zhafen/repos/cc/cc/atlas.py:999: UserWarning: No publications found for VanDeVoort2017a. Skipping.\n",
      "  warnings.warn(\n",
      "/Users/zhafen/repos/cc/cc/atlas.py:999: UserWarning: No publications found for Parker1965. Skipping.\n",
      "  warnings.warn(\n",
      "/Users/zhafen/repos/cc/cc/atlas.py:999: UserWarning: No publications found for Klein2003. Skipping.\n",
      "  warnings.warn(\n",
      "/Users/zhafen/repos/cc/cc/atlas.py:999: UserWarning: No publications found for Pillepich2017. Skipping.\n",
      "  warnings.warn(\n",
      "/Users/zhafen/repos/cc/cc/atlas.py:999: UserWarning: No publications found for Cen2001. Skipping.\n",
      "  warnings.warn(\n",
      "/Users/zhafen/repos/cc/cc/atlas.py:999: UserWarning: No publications found for Draine2011. Skipping.\n",
      "  warnings.warn(\n",
      "/Users/zhafen/repos/cc/cc/atlas.py:999: UserWarning: No publications found for Lam2015. Skipping.\n",
      "  warnings.warn(\n",
      "/Users/zhafen/repos/cc/cc/atlas.py:999: UserWarning: No publications found for Young2020. Skipping.\n",
      "  warnings.warn(\n",
      "/Users/zhafen/repos/cc/cc/atlas.py:999: UserWarning: No publications found for Henderson1990. Skipping.\n",
      "  warnings.warn(\n",
      "/Users/zhafen/repos/cc/cc/atlas.py:999: UserWarning: No publications found for Kimm2011b. Skipping.\n",
      "  warnings.warn(\n",
      "/Users/zhafen/repos/cc/cc/atlas.py:999: UserWarning: No publications found for Rennehan2021. Skipping.\n",
      "  warnings.warn(\n",
      "/Users/zhafen/repos/cc/cc/atlas.py:999: UserWarning: No publications found for Whitcomb2013. Skipping.\n",
      "  warnings.warn(\n",
      "/Users/zhafen/repos/cc/cc/atlas.py:999: UserWarning: No publications found for CANaturalResourcesAgency. Skipping.\n",
      "  warnings.warn(\n",
      "/Users/zhafen/repos/cc/cc/atlas.py:999: UserWarning: No publications found for HarmsworthAssociates2010. Skipping.\n",
      "  warnings.warn(\n",
      "/Users/zhafen/repos/cc/cc/atlas.py:999: UserWarning: No publications found for Sanchez2020. Skipping.\n",
      "  warnings.warn(\n",
      "/Users/zhafen/repos/cc/cc/atlas.py:999: UserWarning: No publications found for Yu2021. Skipping.\n",
      "  warnings.warn(\n",
      "/Users/zhafen/repos/cc/cc/atlas.py:999: UserWarning: No publications found for Richings2020. Skipping.\n",
      "  warnings.warn(\n",
      "/Users/zhafen/repos/cc/cc/atlas.py:999: UserWarning: No publications found for Lim2020a. Skipping.\n",
      "  warnings.warn(\n",
      "100%|██████████| 14/14 [01:30<00:00,  6.44s/it]\n"
     ]
    },
    {
     "name": "stdout",
     "output_type": "stream",
     "text": [
      "    Making 0 ADS calls for publications without IDs...\n"
     ]
    },
    {
     "name": "stderr",
     "output_type": "stream",
     "text": [
      "0it [00:00, ?it/s]\n"
     ]
    },
    {
     "name": "stdout",
     "output_type": "stream",
     "text": [
      "    Doing NLP...\n"
     ]
    },
    {
     "name": "stderr",
     "output_type": "stream",
     "text": [
      "100%|██████████| 19542/19542 [00:58<00:00, 335.89it/s] \n"
     ]
    },
    {
     "name": "stdout",
     "output_type": "stream",
     "text": [
      "Expansion will include 1 new publications.\n",
      "Loading bibliography entries.\n",
      "Storing bibliography entries.\n"
     ]
    },
    {
     "name": "stderr",
     "output_type": "stream",
     "text": [
      "100%|██████████| 18768/18768 [00:00<00:00, 20447.97it/s]\n"
     ]
    },
    {
     "name": "stdout",
     "output_type": "stream",
     "text": [
      "    Making 1 ADS calls...\n"
     ]
    },
    {
     "name": "stderr",
     "output_type": "stream",
     "text": [
      "  0%|          | 0/1 [00:00<?, ?it/s]\n"
     ]
    },
    {
     "ename": "ConnectionError",
     "evalue": "HTTPSConnectionPool(host='api.adsabs.harvard.edu', port=443): Max retries exceeded with url: /v1/search/query/?q=bibcode%3A%222018MNRAS.477.2716K%22+OR+bibcode%3A%22Lanson2008%22+OR+bibcode%3A%22Feige2011%22+OR+bibcode%3A%22Zanotti2010%22+OR+bibcode%3A%22Riedl2006%22+OR+bibcode%3A%22Siekmann1991%22+OR+bibcode%3A%22Hartigan1985%22+OR+bibcode%3A%22Kepler2016%22+OR+bibcode%3A%22Chan2017%22+OR+bibcode%3A%22Scheufele1999%22+OR+bibcode%3A%22Anderson2016%22+OR+bibcode%3A%22VanDeVoort2017a%22+OR+bibcode%3A%22Parker1965%22+OR+bibcode%3A%22Klein2003%22+OR+bibcode%3A%22Kaplan1958%22+OR+bibcode%3A%22Turnbull1976%22+OR+bibcode%3A%22Pillepich2017%22+OR+bibcode%3A%22Smagorinsky1963%22+OR+bibcode%3A%22Whittaker2000%22+OR+bibcode%3A%22Runeson2006%22+OR+bibcode%3A%22Coelho2017%22+OR+bibcode%3A%22Cen2001%22+OR+bibcode%3A%22Varotsis2018%22+OR+bibcode%3A%22Draine2011%22+OR+bibcode%3A%22Pirker2015%22+OR+bibcode%3A%22Deterding2011%22+OR+bibcode%3A%22Reiners2015%22+OR+bibcode%3A%22Yarkoni2019%22+OR+bibcode%3A%22Hanes1940%22+OR+bibcode%3A%22Schilling2005%22+OR+bibcode%3A%22Price1976%22+OR+bibcode%3A%22Lam2015%22+OR+bibcode%3A%22Kluyver2016%22+OR+bibcode%3A%22DeSollaPrice1989%22+OR+bibcode%3A%22Vinkers2015%22+OR+bibcode%3A%22Fortunato2018%22+OR+bibcode%3A%22Sinatra2016%22+OR+bibcode%3A%22Strevens2003%22+OR+bibcode%3A%22Kitcher1990%22+OR+bibcode%3A%22Young2020%22+OR+bibcode%3A%22Steegen2016%22+OR+bibcode%3A%22Shockley1957%22+OR+bibcode%3A%22Henderson1990%22+OR+bibcode%3A%22Azoulay2011%22+OR+bibcode%3A%22Small1973%22+OR+bibcode%3A%22Uzzi2005%22+OR+bibcode%3A%22Falk-Krzesinski2011%22+OR+bibcode%3A%22Stokols2008%22+OR+bibcode%3A%22Fiore2008%22+OR+bibcode%3A%22Research2004%22+OR+bibcode%3A%22Fleming2001%22+OR+bibcode%3A%22Schilling2011%22+OR+bibcode%3A%22Cluley2012%22+OR+bibcode%3A%22JONES2009%22+OR+bibcode%3A%22Weitzman1998%22+OR+bibcode%3A%22West2021%22+OR+bibcode%3A%22Kimm2011b%22+OR+bibcode%3A%22Rennehan2021%22+OR+bibcode%3A%22Whitcomb2013%22+OR+bibcode%3A%22CANaturalResourcesAgency%22+OR+bibcode%3A%22HarmsworthAssociates2010%22+OR+bibcode%3A%22Weis2021%22+OR+bibcode%3A%22Sanchez2020%22+OR+bibcode%3A%22Yu2021%22+OR+bibcode%3A%22Richings2020%22+OR+bibcode%3A%22Lim2020a%22+OR+bibcode%3A%22Collins2021%22+OR+bibcode%3A%22Haven2021%22+OR+bibcode%3A%22Wang2016a%22+OR+bibcode%3A%22Etemadpour2016%22+OR+bibcode%3A%22Paulovich2008%22+OR+bibcode%3A%22Chawla2021%22+OR+bibcode%3A%22Stringer2010%22&fl=abstract&fl=citation&fl=reference&fl=entry_date&fl=author&fl=volume&fl=page&fl=identifier&fl=bibcode&rows=300&cursorMark=%2A&sort=score+desc%2Cid+desc (Caused by NewConnectionError('<urllib3.connection.HTTPSConnection object at 0x7f80084ba370>: Failed to establish a new connection: [Errno 8] nodename nor servname provided, or not known'))",
     "output_type": "error",
     "traceback": [
      "\u001b[0;31m---------------------------------------------------------------------------\u001b[0m",
      "\u001b[0;31mgaierror\u001b[0m                                  Traceback (most recent call last)",
      "\u001b[0;32m~/miniconda3/envs/cc/lib/python3.9/site-packages/urllib3/connection.py\u001b[0m in \u001b[0;36m_new_conn\u001b[0;34m(self)\u001b[0m\n\u001b[1;32m    168\u001b[0m         \u001b[0;32mtry\u001b[0m\u001b[0;34m:\u001b[0m\u001b[0;34m\u001b[0m\u001b[0;34m\u001b[0m\u001b[0m\n\u001b[0;32m--> 169\u001b[0;31m             conn = connection.create_connection(\n\u001b[0m\u001b[1;32m    170\u001b[0m                 \u001b[0;34m(\u001b[0m\u001b[0mself\u001b[0m\u001b[0;34m.\u001b[0m\u001b[0m_dns_host\u001b[0m\u001b[0;34m,\u001b[0m \u001b[0mself\u001b[0m\u001b[0;34m.\u001b[0m\u001b[0mport\u001b[0m\u001b[0;34m)\u001b[0m\u001b[0;34m,\u001b[0m \u001b[0mself\u001b[0m\u001b[0;34m.\u001b[0m\u001b[0mtimeout\u001b[0m\u001b[0;34m,\u001b[0m \u001b[0;34m**\u001b[0m\u001b[0mextra_kw\u001b[0m\u001b[0;34m\u001b[0m\u001b[0;34m\u001b[0m\u001b[0m\n",
      "\u001b[0;32m~/miniconda3/envs/cc/lib/python3.9/site-packages/urllib3/util/connection.py\u001b[0m in \u001b[0;36mcreate_connection\u001b[0;34m(address, timeout, source_address, socket_options)\u001b[0m\n\u001b[1;32m     72\u001b[0m \u001b[0;34m\u001b[0m\u001b[0m\n\u001b[0;32m---> 73\u001b[0;31m     \u001b[0;32mfor\u001b[0m \u001b[0mres\u001b[0m \u001b[0;32min\u001b[0m \u001b[0msocket\u001b[0m\u001b[0;34m.\u001b[0m\u001b[0mgetaddrinfo\u001b[0m\u001b[0;34m(\u001b[0m\u001b[0mhost\u001b[0m\u001b[0;34m,\u001b[0m \u001b[0mport\u001b[0m\u001b[0;34m,\u001b[0m \u001b[0mfamily\u001b[0m\u001b[0;34m,\u001b[0m \u001b[0msocket\u001b[0m\u001b[0;34m.\u001b[0m\u001b[0mSOCK_STREAM\u001b[0m\u001b[0;34m)\u001b[0m\u001b[0;34m:\u001b[0m\u001b[0;34m\u001b[0m\u001b[0;34m\u001b[0m\u001b[0m\n\u001b[0m\u001b[1;32m     74\u001b[0m         \u001b[0maf\u001b[0m\u001b[0;34m,\u001b[0m \u001b[0msocktype\u001b[0m\u001b[0;34m,\u001b[0m \u001b[0mproto\u001b[0m\u001b[0;34m,\u001b[0m \u001b[0mcanonname\u001b[0m\u001b[0;34m,\u001b[0m \u001b[0msa\u001b[0m \u001b[0;34m=\u001b[0m \u001b[0mres\u001b[0m\u001b[0;34m\u001b[0m\u001b[0;34m\u001b[0m\u001b[0m\n",
      "\u001b[0;32m~/miniconda3/envs/cc/lib/python3.9/socket.py\u001b[0m in \u001b[0;36mgetaddrinfo\u001b[0;34m(host, port, family, type, proto, flags)\u001b[0m\n\u001b[1;32m    952\u001b[0m     \u001b[0maddrlist\u001b[0m \u001b[0;34m=\u001b[0m \u001b[0;34m[\u001b[0m\u001b[0;34m]\u001b[0m\u001b[0;34m\u001b[0m\u001b[0;34m\u001b[0m\u001b[0m\n\u001b[0;32m--> 953\u001b[0;31m     \u001b[0;32mfor\u001b[0m \u001b[0mres\u001b[0m \u001b[0;32min\u001b[0m \u001b[0m_socket\u001b[0m\u001b[0;34m.\u001b[0m\u001b[0mgetaddrinfo\u001b[0m\u001b[0;34m(\u001b[0m\u001b[0mhost\u001b[0m\u001b[0;34m,\u001b[0m \u001b[0mport\u001b[0m\u001b[0;34m,\u001b[0m \u001b[0mfamily\u001b[0m\u001b[0;34m,\u001b[0m \u001b[0mtype\u001b[0m\u001b[0;34m,\u001b[0m \u001b[0mproto\u001b[0m\u001b[0;34m,\u001b[0m \u001b[0mflags\u001b[0m\u001b[0;34m)\u001b[0m\u001b[0;34m:\u001b[0m\u001b[0;34m\u001b[0m\u001b[0;34m\u001b[0m\u001b[0m\n\u001b[0m\u001b[1;32m    954\u001b[0m         \u001b[0maf\u001b[0m\u001b[0;34m,\u001b[0m \u001b[0msocktype\u001b[0m\u001b[0;34m,\u001b[0m \u001b[0mproto\u001b[0m\u001b[0;34m,\u001b[0m \u001b[0mcanonname\u001b[0m\u001b[0;34m,\u001b[0m \u001b[0msa\u001b[0m \u001b[0;34m=\u001b[0m \u001b[0mres\u001b[0m\u001b[0;34m\u001b[0m\u001b[0;34m\u001b[0m\u001b[0m\n",
      "\u001b[0;31mgaierror\u001b[0m: [Errno 8] nodename nor servname provided, or not known",
      "\nDuring handling of the above exception, another exception occurred:\n",
      "\u001b[0;31mNewConnectionError\u001b[0m                        Traceback (most recent call last)",
      "\u001b[0;32m~/miniconda3/envs/cc/lib/python3.9/site-packages/urllib3/connectionpool.py\u001b[0m in \u001b[0;36murlopen\u001b[0;34m(self, method, url, body, headers, retries, redirect, assert_same_host, timeout, pool_timeout, release_conn, chunked, body_pos, **response_kw)\u001b[0m\n\u001b[1;32m    698\u001b[0m             \u001b[0;31m# Make the request on the httplib connection object.\u001b[0m\u001b[0;34m\u001b[0m\u001b[0;34m\u001b[0m\u001b[0;34m\u001b[0m\u001b[0m\n\u001b[0;32m--> 699\u001b[0;31m             httplib_response = self._make_request(\n\u001b[0m\u001b[1;32m    700\u001b[0m                 \u001b[0mconn\u001b[0m\u001b[0;34m,\u001b[0m\u001b[0;34m\u001b[0m\u001b[0;34m\u001b[0m\u001b[0m\n",
      "\u001b[0;32m~/miniconda3/envs/cc/lib/python3.9/site-packages/urllib3/connectionpool.py\u001b[0m in \u001b[0;36m_make_request\u001b[0;34m(self, conn, method, url, timeout, chunked, **httplib_request_kw)\u001b[0m\n\u001b[1;32m    381\u001b[0m         \u001b[0;32mtry\u001b[0m\u001b[0;34m:\u001b[0m\u001b[0;34m\u001b[0m\u001b[0;34m\u001b[0m\u001b[0m\n\u001b[0;32m--> 382\u001b[0;31m             \u001b[0mself\u001b[0m\u001b[0;34m.\u001b[0m\u001b[0m_validate_conn\u001b[0m\u001b[0;34m(\u001b[0m\u001b[0mconn\u001b[0m\u001b[0;34m)\u001b[0m\u001b[0;34m\u001b[0m\u001b[0;34m\u001b[0m\u001b[0m\n\u001b[0m\u001b[1;32m    383\u001b[0m         \u001b[0;32mexcept\u001b[0m \u001b[0;34m(\u001b[0m\u001b[0mSocketTimeout\u001b[0m\u001b[0;34m,\u001b[0m \u001b[0mBaseSSLError\u001b[0m\u001b[0;34m)\u001b[0m \u001b[0;32mas\u001b[0m \u001b[0me\u001b[0m\u001b[0;34m:\u001b[0m\u001b[0;34m\u001b[0m\u001b[0;34m\u001b[0m\u001b[0m\n",
      "\u001b[0;32m~/miniconda3/envs/cc/lib/python3.9/site-packages/urllib3/connectionpool.py\u001b[0m in \u001b[0;36m_validate_conn\u001b[0;34m(self, conn)\u001b[0m\n\u001b[1;32m   1009\u001b[0m         \u001b[0;32mif\u001b[0m \u001b[0;32mnot\u001b[0m \u001b[0mgetattr\u001b[0m\u001b[0;34m(\u001b[0m\u001b[0mconn\u001b[0m\u001b[0;34m,\u001b[0m \u001b[0;34m\"sock\"\u001b[0m\u001b[0;34m,\u001b[0m \u001b[0;32mNone\u001b[0m\u001b[0;34m)\u001b[0m\u001b[0;34m:\u001b[0m  \u001b[0;31m# AppEngine might not have  `.sock`\u001b[0m\u001b[0;34m\u001b[0m\u001b[0;34m\u001b[0m\u001b[0m\n\u001b[0;32m-> 1010\u001b[0;31m             \u001b[0mconn\u001b[0m\u001b[0;34m.\u001b[0m\u001b[0mconnect\u001b[0m\u001b[0;34m(\u001b[0m\u001b[0;34m)\u001b[0m\u001b[0;34m\u001b[0m\u001b[0;34m\u001b[0m\u001b[0m\n\u001b[0m\u001b[1;32m   1011\u001b[0m \u001b[0;34m\u001b[0m\u001b[0m\n",
      "\u001b[0;32m~/miniconda3/envs/cc/lib/python3.9/site-packages/urllib3/connection.py\u001b[0m in \u001b[0;36mconnect\u001b[0;34m(self)\u001b[0m\n\u001b[1;32m    352\u001b[0m         \u001b[0;31m# Add certificate verification\u001b[0m\u001b[0;34m\u001b[0m\u001b[0;34m\u001b[0m\u001b[0;34m\u001b[0m\u001b[0m\n\u001b[0;32m--> 353\u001b[0;31m         \u001b[0mconn\u001b[0m \u001b[0;34m=\u001b[0m \u001b[0mself\u001b[0m\u001b[0;34m.\u001b[0m\u001b[0m_new_conn\u001b[0m\u001b[0;34m(\u001b[0m\u001b[0;34m)\u001b[0m\u001b[0;34m\u001b[0m\u001b[0;34m\u001b[0m\u001b[0m\n\u001b[0m\u001b[1;32m    354\u001b[0m         \u001b[0mhostname\u001b[0m \u001b[0;34m=\u001b[0m \u001b[0mself\u001b[0m\u001b[0;34m.\u001b[0m\u001b[0mhost\u001b[0m\u001b[0;34m\u001b[0m\u001b[0;34m\u001b[0m\u001b[0m\n",
      "\u001b[0;32m~/miniconda3/envs/cc/lib/python3.9/site-packages/urllib3/connection.py\u001b[0m in \u001b[0;36m_new_conn\u001b[0;34m(self)\u001b[0m\n\u001b[1;32m    180\u001b[0m         \u001b[0;32mexcept\u001b[0m \u001b[0mSocketError\u001b[0m \u001b[0;32mas\u001b[0m \u001b[0me\u001b[0m\u001b[0;34m:\u001b[0m\u001b[0;34m\u001b[0m\u001b[0;34m\u001b[0m\u001b[0m\n\u001b[0;32m--> 181\u001b[0;31m             raise NewConnectionError(\n\u001b[0m\u001b[1;32m    182\u001b[0m                 \u001b[0mself\u001b[0m\u001b[0;34m,\u001b[0m \u001b[0;34m\"Failed to establish a new connection: %s\"\u001b[0m \u001b[0;34m%\u001b[0m \u001b[0me\u001b[0m\u001b[0;34m\u001b[0m\u001b[0;34m\u001b[0m\u001b[0m\n",
      "\u001b[0;31mNewConnectionError\u001b[0m: <urllib3.connection.HTTPSConnection object at 0x7f80084ba370>: Failed to establish a new connection: [Errno 8] nodename nor servname provided, or not known",
      "\nDuring handling of the above exception, another exception occurred:\n",
      "\u001b[0;31mMaxRetryError\u001b[0m                             Traceback (most recent call last)",
      "\u001b[0;32m~/miniconda3/envs/cc/lib/python3.9/site-packages/requests/adapters.py\u001b[0m in \u001b[0;36msend\u001b[0;34m(self, request, stream, timeout, verify, cert, proxies)\u001b[0m\n\u001b[1;32m    438\u001b[0m             \u001b[0;32mif\u001b[0m \u001b[0;32mnot\u001b[0m \u001b[0mchunked\u001b[0m\u001b[0;34m:\u001b[0m\u001b[0;34m\u001b[0m\u001b[0;34m\u001b[0m\u001b[0m\n\u001b[0;32m--> 439\u001b[0;31m                 resp = conn.urlopen(\n\u001b[0m\u001b[1;32m    440\u001b[0m                     \u001b[0mmethod\u001b[0m\u001b[0;34m=\u001b[0m\u001b[0mrequest\u001b[0m\u001b[0;34m.\u001b[0m\u001b[0mmethod\u001b[0m\u001b[0;34m,\u001b[0m\u001b[0;34m\u001b[0m\u001b[0;34m\u001b[0m\u001b[0m\n",
      "\u001b[0;32m~/miniconda3/envs/cc/lib/python3.9/site-packages/urllib3/connectionpool.py\u001b[0m in \u001b[0;36murlopen\u001b[0;34m(self, method, url, body, headers, retries, redirect, assert_same_host, timeout, pool_timeout, release_conn, chunked, body_pos, **response_kw)\u001b[0m\n\u001b[1;32m    754\u001b[0m \u001b[0;34m\u001b[0m\u001b[0m\n\u001b[0;32m--> 755\u001b[0;31m             retries = retries.increment(\n\u001b[0m\u001b[1;32m    756\u001b[0m                 \u001b[0mmethod\u001b[0m\u001b[0;34m,\u001b[0m \u001b[0murl\u001b[0m\u001b[0;34m,\u001b[0m \u001b[0merror\u001b[0m\u001b[0;34m=\u001b[0m\u001b[0me\u001b[0m\u001b[0;34m,\u001b[0m \u001b[0m_pool\u001b[0m\u001b[0;34m=\u001b[0m\u001b[0mself\u001b[0m\u001b[0;34m,\u001b[0m \u001b[0m_stacktrace\u001b[0m\u001b[0;34m=\u001b[0m\u001b[0msys\u001b[0m\u001b[0;34m.\u001b[0m\u001b[0mexc_info\u001b[0m\u001b[0;34m(\u001b[0m\u001b[0;34m)\u001b[0m\u001b[0;34m[\u001b[0m\u001b[0;36m2\u001b[0m\u001b[0;34m]\u001b[0m\u001b[0;34m\u001b[0m\u001b[0;34m\u001b[0m\u001b[0m\n",
      "\u001b[0;32m~/miniconda3/envs/cc/lib/python3.9/site-packages/urllib3/util/retry.py\u001b[0m in \u001b[0;36mincrement\u001b[0;34m(self, method, url, response, error, _pool, _stacktrace)\u001b[0m\n\u001b[1;32m    573\u001b[0m         \u001b[0;32mif\u001b[0m \u001b[0mnew_retry\u001b[0m\u001b[0;34m.\u001b[0m\u001b[0mis_exhausted\u001b[0m\u001b[0;34m(\u001b[0m\u001b[0;34m)\u001b[0m\u001b[0;34m:\u001b[0m\u001b[0;34m\u001b[0m\u001b[0;34m\u001b[0m\u001b[0m\n\u001b[0;32m--> 574\u001b[0;31m             \u001b[0;32mraise\u001b[0m \u001b[0mMaxRetryError\u001b[0m\u001b[0;34m(\u001b[0m\u001b[0m_pool\u001b[0m\u001b[0;34m,\u001b[0m \u001b[0murl\u001b[0m\u001b[0;34m,\u001b[0m \u001b[0merror\u001b[0m \u001b[0;32mor\u001b[0m \u001b[0mResponseError\u001b[0m\u001b[0;34m(\u001b[0m\u001b[0mcause\u001b[0m\u001b[0;34m)\u001b[0m\u001b[0;34m)\u001b[0m\u001b[0;34m\u001b[0m\u001b[0;34m\u001b[0m\u001b[0m\n\u001b[0m\u001b[1;32m    575\u001b[0m \u001b[0;34m\u001b[0m\u001b[0m\n",
      "\u001b[0;31mMaxRetryError\u001b[0m: HTTPSConnectionPool(host='api.adsabs.harvard.edu', port=443): Max retries exceeded with url: /v1/search/query/?q=bibcode%3A%222018MNRAS.477.2716K%22+OR+bibcode%3A%22Lanson2008%22+OR+bibcode%3A%22Feige2011%22+OR+bibcode%3A%22Zanotti2010%22+OR+bibcode%3A%22Riedl2006%22+OR+bibcode%3A%22Siekmann1991%22+OR+bibcode%3A%22Hartigan1985%22+OR+bibcode%3A%22Kepler2016%22+OR+bibcode%3A%22Chan2017%22+OR+bibcode%3A%22Scheufele1999%22+OR+bibcode%3A%22Anderson2016%22+OR+bibcode%3A%22VanDeVoort2017a%22+OR+bibcode%3A%22Parker1965%22+OR+bibcode%3A%22Klein2003%22+OR+bibcode%3A%22Kaplan1958%22+OR+bibcode%3A%22Turnbull1976%22+OR+bibcode%3A%22Pillepich2017%22+OR+bibcode%3A%22Smagorinsky1963%22+OR+bibcode%3A%22Whittaker2000%22+OR+bibcode%3A%22Runeson2006%22+OR+bibcode%3A%22Coelho2017%22+OR+bibcode%3A%22Cen2001%22+OR+bibcode%3A%22Varotsis2018%22+OR+bibcode%3A%22Draine2011%22+OR+bibcode%3A%22Pirker2015%22+OR+bibcode%3A%22Deterding2011%22+OR+bibcode%3A%22Reiners2015%22+OR+bibcode%3A%22Yarkoni2019%22+OR+bibcode%3A%22Hanes1940%22+OR+bibcode%3A%22Schilling2005%22+OR+bibcode%3A%22Price1976%22+OR+bibcode%3A%22Lam2015%22+OR+bibcode%3A%22Kluyver2016%22+OR+bibcode%3A%22DeSollaPrice1989%22+OR+bibcode%3A%22Vinkers2015%22+OR+bibcode%3A%22Fortunato2018%22+OR+bibcode%3A%22Sinatra2016%22+OR+bibcode%3A%22Strevens2003%22+OR+bibcode%3A%22Kitcher1990%22+OR+bibcode%3A%22Young2020%22+OR+bibcode%3A%22Steegen2016%22+OR+bibcode%3A%22Shockley1957%22+OR+bibcode%3A%22Henderson1990%22+OR+bibcode%3A%22Azoulay2011%22+OR+bibcode%3A%22Small1973%22+OR+bibcode%3A%22Uzzi2005%22+OR+bibcode%3A%22Falk-Krzesinski2011%22+OR+bibcode%3A%22Stokols2008%22+OR+bibcode%3A%22Fiore2008%22+OR+bibcode%3A%22Research2004%22+OR+bibcode%3A%22Fleming2001%22+OR+bibcode%3A%22Schilling2011%22+OR+bibcode%3A%22Cluley2012%22+OR+bibcode%3A%22JONES2009%22+OR+bibcode%3A%22Weitzman1998%22+OR+bibcode%3A%22West2021%22+OR+bibcode%3A%22Kimm2011b%22+OR+bibcode%3A%22Rennehan2021%22+OR+bibcode%3A%22Whitcomb2013%22+OR+bibcode%3A%22CANaturalResourcesAgency%22+OR+bibcode%3A%22HarmsworthAssociates2010%22+OR+bibcode%3A%22Weis2021%22+OR+bibcode%3A%22Sanchez2020%22+OR+bibcode%3A%22Yu2021%22+OR+bibcode%3A%22Richings2020%22+OR+bibcode%3A%22Lim2020a%22+OR+bibcode%3A%22Collins2021%22+OR+bibcode%3A%22Haven2021%22+OR+bibcode%3A%22Wang2016a%22+OR+bibcode%3A%22Etemadpour2016%22+OR+bibcode%3A%22Paulovich2008%22+OR+bibcode%3A%22Chawla2021%22+OR+bibcode%3A%22Stringer2010%22&fl=abstract&fl=citation&fl=reference&fl=entry_date&fl=author&fl=volume&fl=page&fl=identifier&fl=bibcode&rows=300&cursorMark=%2A&sort=score+desc%2Cid+desc (Caused by NewConnectionError('<urllib3.connection.HTTPSConnection object at 0x7f80084ba370>: Failed to establish a new connection: [Errno 8] nodename nor servname provided, or not known'))",
      "\nDuring handling of the above exception, another exception occurred:\n",
      "\u001b[0;31mConnectionError\u001b[0m                           Traceback (most recent call last)",
      "\u001b[0;32m<ipython-input-20-5685ab4970ea>\u001b[0m in \u001b[0;36m<module>\u001b[0;34m\u001b[0m\n\u001b[1;32m      8\u001b[0m             \u001b[0;32mtry\u001b[0m\u001b[0;34m:\u001b[0m\u001b[0;34m\u001b[0m\u001b[0;34m\u001b[0m\u001b[0m\n\u001b[1;32m      9\u001b[0m                 \u001b[0ma\u001b[0m \u001b[0;34m=\u001b[0m \u001b[0mc\u001b[0m\u001b[0;34m.\u001b[0m\u001b[0mexpand\u001b[0m\u001b[0;34m(\u001b[0m \u001b[0ma\u001b[0m\u001b[0;34m,\u001b[0m \u001b[0mcenter\u001b[0m\u001b[0;34m=\u001b[0m\u001b[0mp_i\u001b[0m\u001b[0;34m,\u001b[0m \u001b[0mn_sources_max\u001b[0m\u001b[0;34m=\u001b[0m\u001b[0mpm\u001b[0m\u001b[0;34m[\u001b[0m\u001b[0;34m'kernel_size'\u001b[0m\u001b[0;34m]\u001b[0m \u001b[0;34m)\u001b[0m\u001b[0;34m\u001b[0m\u001b[0;34m\u001b[0m\u001b[0m\n\u001b[0;32m---> 10\u001b[0;31m                 \u001b[0ma\u001b[0m\u001b[0;34m.\u001b[0m\u001b[0mprocess_abstracts\u001b[0m\u001b[0;34m(\u001b[0m\u001b[0;34m)\u001b[0m\u001b[0;34m\u001b[0m\u001b[0;34m\u001b[0m\u001b[0m\n\u001b[0m\u001b[1;32m     11\u001b[0m             \u001b[0;32mexcept\u001b[0m \u001b[0;34m(\u001b[0m \u001b[0mValueError\u001b[0m\u001b[0;34m,\u001b[0m \u001b[0mAssertionError\u001b[0m \u001b[0;34m)\u001b[0m \u001b[0;32mas\u001b[0m \u001b[0me\u001b[0m\u001b[0;34m:\u001b[0m\u001b[0;34m\u001b[0m\u001b[0;34m\u001b[0m\u001b[0m\n\u001b[1;32m     12\u001b[0m                 \u001b[0;32mif\u001b[0m \u001b[0misinstance\u001b[0m\u001b[0;34m(\u001b[0m \u001b[0me\u001b[0m\u001b[0;34m,\u001b[0m \u001b[0mValueError\u001b[0m \u001b[0;34m)\u001b[0m\u001b[0;34m:\u001b[0m\u001b[0;34m\u001b[0m\u001b[0;34m\u001b[0m\u001b[0m\n",
      "\u001b[0;32m~/repos/cc/cc/atlas.py\u001b[0m in \u001b[0;36mprocess_abstracts\u001b[0;34m(self, process_stemmed_content_words, *args, **kwargs)\u001b[0m\n\u001b[1;32m   1058\u001b[0m         '''\n\u001b[1;32m   1059\u001b[0m \u001b[0;34m\u001b[0m\u001b[0m\n\u001b[0;32m-> 1060\u001b[0;31m         \u001b[0mself\u001b[0m\u001b[0;34m.\u001b[0m\u001b[0mget_ads_data\u001b[0m\u001b[0;34m(\u001b[0m \u001b[0;34m*\u001b[0m\u001b[0margs\u001b[0m\u001b[0;34m,\u001b[0m \u001b[0;34m**\u001b[0m\u001b[0mkwargs\u001b[0m \u001b[0;34m)\u001b[0m\u001b[0;34m\u001b[0m\u001b[0;34m\u001b[0m\u001b[0m\n\u001b[0m\u001b[1;32m   1061\u001b[0m \u001b[0;34m\u001b[0m\u001b[0m\n\u001b[1;32m   1062\u001b[0m         \u001b[0mprint\u001b[0m\u001b[0;34m(\u001b[0m \u001b[0;34m'    Doing NLP...'\u001b[0m \u001b[0;34m)\u001b[0m\u001b[0;34m\u001b[0m\u001b[0;34m\u001b[0m\u001b[0m\n",
      "\u001b[0;32m~/repos/cc/cc/atlas.py\u001b[0m in \u001b[0;36mget_ads_data\u001b[0;34m(self, fl, publications_per_request, characters_per_request, identifier, skip_unofficial, perform_noid_queries)\u001b[0m\n\u001b[1;32m    971\u001b[0m                 },\n\u001b[1;32m    972\u001b[0m             )\n\u001b[0;32m--> 973\u001b[0;31m             \u001b[0mpubs\u001b[0m \u001b[0;34m=\u001b[0m \u001b[0mlist\u001b[0m\u001b[0;34m(\u001b[0m \u001b[0mads_query\u001b[0m \u001b[0;34m)\u001b[0m\u001b[0;34m\u001b[0m\u001b[0;34m\u001b[0m\u001b[0m\n\u001b[0m\u001b[1;32m    974\u001b[0m \u001b[0;34m\u001b[0m\u001b[0m\n\u001b[1;32m    975\u001b[0m             \u001b[0;31m# Identify and update\u001b[0m\u001b[0;34m\u001b[0m\u001b[0;34m\u001b[0m\u001b[0;34m\u001b[0m\u001b[0m\n",
      "\u001b[0;32m~/miniconda3/envs/cc/lib/python3.9/site-packages/ads/search.py\u001b[0m in \u001b[0;36m__next__\u001b[0;34m(self)\u001b[0m\n\u001b[1;32m    499\u001b[0m         \u001b[0;31m# explicitly\u001b[0m\u001b[0;34m\u001b[0m\u001b[0;34m\u001b[0m\u001b[0;34m\u001b[0m\u001b[0m\n\u001b[1;32m    500\u001b[0m         \u001b[0;32mif\u001b[0m \u001b[0mself\u001b[0m\u001b[0;34m.\u001b[0m\u001b[0mresponse\u001b[0m \u001b[0;32mis\u001b[0m \u001b[0;32mNone\u001b[0m\u001b[0;34m:\u001b[0m\u001b[0;34m\u001b[0m\u001b[0;34m\u001b[0m\u001b[0m\n\u001b[0;32m--> 501\u001b[0;31m             \u001b[0mself\u001b[0m\u001b[0;34m.\u001b[0m\u001b[0mexecute\u001b[0m\u001b[0;34m(\u001b[0m\u001b[0;34m)\u001b[0m\u001b[0;34m\u001b[0m\u001b[0;34m\u001b[0m\u001b[0m\n\u001b[0m\u001b[1;32m    502\u001b[0m \u001b[0;34m\u001b[0m\u001b[0m\n\u001b[1;32m    503\u001b[0m         \u001b[0;32mtry\u001b[0m\u001b[0;34m:\u001b[0m\u001b[0;34m\u001b[0m\u001b[0;34m\u001b[0m\u001b[0m\n",
      "\u001b[0;32m~/miniconda3/envs/cc/lib/python3.9/site-packages/ads/search.py\u001b[0m in \u001b[0;36mexecute\u001b[0;34m(self)\u001b[0m\n\u001b[1;32m    531\u001b[0m         \"\"\"\n\u001b[1;32m    532\u001b[0m         self.response = SolrResponse.load_http_response(\n\u001b[0;32m--> 533\u001b[0;31m             \u001b[0mself\u001b[0m\u001b[0;34m.\u001b[0m\u001b[0msession\u001b[0m\u001b[0;34m.\u001b[0m\u001b[0mget\u001b[0m\u001b[0;34m(\u001b[0m\u001b[0mself\u001b[0m\u001b[0;34m.\u001b[0m\u001b[0mHTTP_ENDPOINT\u001b[0m\u001b[0;34m,\u001b[0m \u001b[0mparams\u001b[0m\u001b[0;34m=\u001b[0m\u001b[0mself\u001b[0m\u001b[0;34m.\u001b[0m\u001b[0mquery\u001b[0m\u001b[0;34m)\u001b[0m\u001b[0;34m\u001b[0m\u001b[0;34m\u001b[0m\u001b[0m\n\u001b[0m\u001b[1;32m    534\u001b[0m         )\n\u001b[1;32m    535\u001b[0m \u001b[0;34m\u001b[0m\u001b[0m\n",
      "\u001b[0;32m~/miniconda3/envs/cc/lib/python3.9/site-packages/requests/sessions.py\u001b[0m in \u001b[0;36mget\u001b[0;34m(self, url, **kwargs)\u001b[0m\n\u001b[1;32m    553\u001b[0m \u001b[0;34m\u001b[0m\u001b[0m\n\u001b[1;32m    554\u001b[0m         \u001b[0mkwargs\u001b[0m\u001b[0;34m.\u001b[0m\u001b[0msetdefault\u001b[0m\u001b[0;34m(\u001b[0m\u001b[0;34m'allow_redirects'\u001b[0m\u001b[0;34m,\u001b[0m \u001b[0;32mTrue\u001b[0m\u001b[0;34m)\u001b[0m\u001b[0;34m\u001b[0m\u001b[0;34m\u001b[0m\u001b[0m\n\u001b[0;32m--> 555\u001b[0;31m         \u001b[0;32mreturn\u001b[0m \u001b[0mself\u001b[0m\u001b[0;34m.\u001b[0m\u001b[0mrequest\u001b[0m\u001b[0;34m(\u001b[0m\u001b[0;34m'GET'\u001b[0m\u001b[0;34m,\u001b[0m \u001b[0murl\u001b[0m\u001b[0;34m,\u001b[0m \u001b[0;34m**\u001b[0m\u001b[0mkwargs\u001b[0m\u001b[0;34m)\u001b[0m\u001b[0;34m\u001b[0m\u001b[0;34m\u001b[0m\u001b[0m\n\u001b[0m\u001b[1;32m    556\u001b[0m \u001b[0;34m\u001b[0m\u001b[0m\n\u001b[1;32m    557\u001b[0m     \u001b[0;32mdef\u001b[0m \u001b[0moptions\u001b[0m\u001b[0;34m(\u001b[0m\u001b[0mself\u001b[0m\u001b[0;34m,\u001b[0m \u001b[0murl\u001b[0m\u001b[0;34m,\u001b[0m \u001b[0;34m**\u001b[0m\u001b[0mkwargs\u001b[0m\u001b[0;34m)\u001b[0m\u001b[0;34m:\u001b[0m\u001b[0;34m\u001b[0m\u001b[0;34m\u001b[0m\u001b[0m\n",
      "\u001b[0;32m~/miniconda3/envs/cc/lib/python3.9/site-packages/requests/sessions.py\u001b[0m in \u001b[0;36mrequest\u001b[0;34m(self, method, url, params, data, headers, cookies, files, auth, timeout, allow_redirects, proxies, hooks, stream, verify, cert, json)\u001b[0m\n\u001b[1;32m    540\u001b[0m         }\n\u001b[1;32m    541\u001b[0m         \u001b[0msend_kwargs\u001b[0m\u001b[0;34m.\u001b[0m\u001b[0mupdate\u001b[0m\u001b[0;34m(\u001b[0m\u001b[0msettings\u001b[0m\u001b[0;34m)\u001b[0m\u001b[0;34m\u001b[0m\u001b[0;34m\u001b[0m\u001b[0m\n\u001b[0;32m--> 542\u001b[0;31m         \u001b[0mresp\u001b[0m \u001b[0;34m=\u001b[0m \u001b[0mself\u001b[0m\u001b[0;34m.\u001b[0m\u001b[0msend\u001b[0m\u001b[0;34m(\u001b[0m\u001b[0mprep\u001b[0m\u001b[0;34m,\u001b[0m \u001b[0;34m**\u001b[0m\u001b[0msend_kwargs\u001b[0m\u001b[0;34m)\u001b[0m\u001b[0;34m\u001b[0m\u001b[0;34m\u001b[0m\u001b[0m\n\u001b[0m\u001b[1;32m    543\u001b[0m \u001b[0;34m\u001b[0m\u001b[0m\n\u001b[1;32m    544\u001b[0m         \u001b[0;32mreturn\u001b[0m \u001b[0mresp\u001b[0m\u001b[0;34m\u001b[0m\u001b[0;34m\u001b[0m\u001b[0m\n",
      "\u001b[0;32m~/miniconda3/envs/cc/lib/python3.9/site-packages/requests/sessions.py\u001b[0m in \u001b[0;36msend\u001b[0;34m(self, request, **kwargs)\u001b[0m\n\u001b[1;32m    653\u001b[0m \u001b[0;34m\u001b[0m\u001b[0m\n\u001b[1;32m    654\u001b[0m         \u001b[0;31m# Send the request\u001b[0m\u001b[0;34m\u001b[0m\u001b[0;34m\u001b[0m\u001b[0;34m\u001b[0m\u001b[0m\n\u001b[0;32m--> 655\u001b[0;31m         \u001b[0mr\u001b[0m \u001b[0;34m=\u001b[0m \u001b[0madapter\u001b[0m\u001b[0;34m.\u001b[0m\u001b[0msend\u001b[0m\u001b[0;34m(\u001b[0m\u001b[0mrequest\u001b[0m\u001b[0;34m,\u001b[0m \u001b[0;34m**\u001b[0m\u001b[0mkwargs\u001b[0m\u001b[0;34m)\u001b[0m\u001b[0;34m\u001b[0m\u001b[0;34m\u001b[0m\u001b[0m\n\u001b[0m\u001b[1;32m    656\u001b[0m \u001b[0;34m\u001b[0m\u001b[0m\n\u001b[1;32m    657\u001b[0m         \u001b[0;31m# Total elapsed time of the request (approximately)\u001b[0m\u001b[0;34m\u001b[0m\u001b[0;34m\u001b[0m\u001b[0;34m\u001b[0m\u001b[0m\n",
      "\u001b[0;32m~/miniconda3/envs/cc/lib/python3.9/site-packages/requests/adapters.py\u001b[0m in \u001b[0;36msend\u001b[0;34m(self, request, stream, timeout, verify, cert, proxies)\u001b[0m\n\u001b[1;32m    514\u001b[0m                 \u001b[0;32mraise\u001b[0m \u001b[0mSSLError\u001b[0m\u001b[0;34m(\u001b[0m\u001b[0me\u001b[0m\u001b[0;34m,\u001b[0m \u001b[0mrequest\u001b[0m\u001b[0;34m=\u001b[0m\u001b[0mrequest\u001b[0m\u001b[0;34m)\u001b[0m\u001b[0;34m\u001b[0m\u001b[0;34m\u001b[0m\u001b[0m\n\u001b[1;32m    515\u001b[0m \u001b[0;34m\u001b[0m\u001b[0m\n\u001b[0;32m--> 516\u001b[0;31m             \u001b[0;32mraise\u001b[0m \u001b[0mConnectionError\u001b[0m\u001b[0;34m(\u001b[0m\u001b[0me\u001b[0m\u001b[0;34m,\u001b[0m \u001b[0mrequest\u001b[0m\u001b[0;34m=\u001b[0m\u001b[0mrequest\u001b[0m\u001b[0;34m)\u001b[0m\u001b[0;34m\u001b[0m\u001b[0;34m\u001b[0m\u001b[0m\n\u001b[0m\u001b[1;32m    517\u001b[0m \u001b[0;34m\u001b[0m\u001b[0m\n\u001b[1;32m    518\u001b[0m         \u001b[0;32mexcept\u001b[0m \u001b[0mClosedPoolError\u001b[0m \u001b[0;32mas\u001b[0m \u001b[0me\u001b[0m\u001b[0;34m:\u001b[0m\u001b[0;34m\u001b[0m\u001b[0;34m\u001b[0m\u001b[0m\n",
      "\u001b[0;31mConnectionError\u001b[0m: HTTPSConnectionPool(host='api.adsabs.harvard.edu', port=443): Max retries exceeded with url: /v1/search/query/?q=bibcode%3A%222018MNRAS.477.2716K%22+OR+bibcode%3A%22Lanson2008%22+OR+bibcode%3A%22Feige2011%22+OR+bibcode%3A%22Zanotti2010%22+OR+bibcode%3A%22Riedl2006%22+OR+bibcode%3A%22Siekmann1991%22+OR+bibcode%3A%22Hartigan1985%22+OR+bibcode%3A%22Kepler2016%22+OR+bibcode%3A%22Chan2017%22+OR+bibcode%3A%22Scheufele1999%22+OR+bibcode%3A%22Anderson2016%22+OR+bibcode%3A%22VanDeVoort2017a%22+OR+bibcode%3A%22Parker1965%22+OR+bibcode%3A%22Klein2003%22+OR+bibcode%3A%22Kaplan1958%22+OR+bibcode%3A%22Turnbull1976%22+OR+bibcode%3A%22Pillepich2017%22+OR+bibcode%3A%22Smagorinsky1963%22+OR+bibcode%3A%22Whittaker2000%22+OR+bibcode%3A%22Runeson2006%22+OR+bibcode%3A%22Coelho2017%22+OR+bibcode%3A%22Cen2001%22+OR+bibcode%3A%22Varotsis2018%22+OR+bibcode%3A%22Draine2011%22+OR+bibcode%3A%22Pirker2015%22+OR+bibcode%3A%22Deterding2011%22+OR+bibcode%3A%22Reiners2015%22+OR+bibcode%3A%22Yarkoni2019%22+OR+bibcode%3A%22Hanes1940%22+OR+bibcode%3A%22Schilling2005%22+OR+bibcode%3A%22Price1976%22+OR+bibcode%3A%22Lam2015%22+OR+bibcode%3A%22Kluyver2016%22+OR+bibcode%3A%22DeSollaPrice1989%22+OR+bibcode%3A%22Vinkers2015%22+OR+bibcode%3A%22Fortunato2018%22+OR+bibcode%3A%22Sinatra2016%22+OR+bibcode%3A%22Strevens2003%22+OR+bibcode%3A%22Kitcher1990%22+OR+bibcode%3A%22Young2020%22+OR+bibcode%3A%22Steegen2016%22+OR+bibcode%3A%22Shockley1957%22+OR+bibcode%3A%22Henderson1990%22+OR+bibcode%3A%22Azoulay2011%22+OR+bibcode%3A%22Small1973%22+OR+bibcode%3A%22Uzzi2005%22+OR+bibcode%3A%22Falk-Krzesinski2011%22+OR+bibcode%3A%22Stokols2008%22+OR+bibcode%3A%22Fiore2008%22+OR+bibcode%3A%22Research2004%22+OR+bibcode%3A%22Fleming2001%22+OR+bibcode%3A%22Schilling2011%22+OR+bibcode%3A%22Cluley2012%22+OR+bibcode%3A%22JONES2009%22+OR+bibcode%3A%22Weitzman1998%22+OR+bibcode%3A%22West2021%22+OR+bibcode%3A%22Kimm2011b%22+OR+bibcode%3A%22Rennehan2021%22+OR+bibcode%3A%22Whitcomb2013%22+OR+bibcode%3A%22CANaturalResourcesAgency%22+OR+bibcode%3A%22HarmsworthAssociates2010%22+OR+bibcode%3A%22Weis2021%22+OR+bibcode%3A%22Sanchez2020%22+OR+bibcode%3A%22Yu2021%22+OR+bibcode%3A%22Richings2020%22+OR+bibcode%3A%22Lim2020a%22+OR+bibcode%3A%22Collins2021%22+OR+bibcode%3A%22Haven2021%22+OR+bibcode%3A%22Wang2016a%22+OR+bibcode%3A%22Etemadpour2016%22+OR+bibcode%3A%22Paulovich2008%22+OR+bibcode%3A%22Chawla2021%22+OR+bibcode%3A%22Stringer2010%22&fl=abstract&fl=citation&fl=reference&fl=entry_date&fl=author&fl=volume&fl=page&fl=identifier&fl=bibcode&rows=300&cursorMark=%2A&sort=score+desc%2Cid+desc (Caused by NewConnectionError('<urllib3.connection.HTTPSConnection object at 0x7f80084ba370>: Failed to establish a new connection: [Errno 8] nodename nor servname provided, or not known'))"
     ]
    }
   ],
   "source": [
    "print( 'Expanding for topics...' )\n",
    "for i in range( 3 ):\n",
    "    print( '\\n================================================================\\nIteration {}'.format( i ) )\n",
    "    broken = []\n",
    "    for topic, pubs_i in topics.items():\n",
    "        print( '\\n================================================================\\n{}'.format( topic ) )\n",
    "        for p_i in pubs_i:\n",
    "            try:\n",
    "                a = c.expand( a, center=p_i, n_sources_max=pm['kernel_size'] )\n",
    "                a.process_abstracts()\n",
    "            except ( ValueError, AssertionError ) as e:\n",
    "                if isinstance( e, ValueError ):\n",
    "                    broken.append( p_i )\n",
    "\n",
    "        if topic not in search_strs:\n",
    "            continue\n",
    "\n",
    "        # Search string\n",
    "        print( 'Searching for {}'.format( search_strs[topic] ) )\n",
    "        p = publication.UnofficialPublication( topic )\n",
    "        p.process_abstract( abstract_str=search_strs[topic] )\n",
    "        a.data[topic] = p\n",
    "\n",
    "        vp_dict = a.vectorize( overwrite=True, projection_fp='pass' )\n",
    "        c = cartography.Cartographer( **vp_dict )\n",
    "        try:\n",
    "            a = c.expand( a, center=p_i, n_sources_max=pm['kernel_size'] )\n",
    "            a.process_abstracts()\n",
    "        except ( ValueError, AssertionError ) as e:\n",
    "            print( 'Search complete for search_str' )"
   ]
  },
  {
   "cell_type": "code",
   "execution_count": null,
   "id": "3eb82142-e05a-4b50-90fb-4f1dc676d3c5",
   "metadata": {
    "tags": []
   },
   "outputs": [],
   "source": [
    "a.save_data()"
   ]
  },
  {
   "cell_type": "code",
   "execution_count": null,
   "id": "c382b5d7-ca2e-459a-b7b4-1ccc1f9c43c7",
   "metadata": {},
   "outputs": [],
   "source": []
  }
 ],
 "metadata": {
  "kernelspec": {
   "display_name": "Python 3",
   "language": "python",
   "name": "python3"
  },
  "language_info": {
   "codemirror_mode": {
    "name": "ipython",
    "version": 3
   },
   "file_extension": ".py",
   "mimetype": "text/x-python",
   "name": "python",
   "nbconvert_exporter": "python",
   "pygments_lexer": "ipython3",
   "version": "3.9.6"
  }
 },
 "nbformat": 4,
 "nbformat_minor": 5
}
