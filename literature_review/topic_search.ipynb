{
 "cells": [
  {
   "cell_type": "code",
   "execution_count": 1,
   "id": "7d6727b6-2305-4680-b0af-502a6785f392",
   "metadata": {},
   "outputs": [],
   "source": [
    "import ast\n",
    "import copy\n",
    "import numpy as np\n",
    "import os"
   ]
  },
  {
   "cell_type": "code",
   "execution_count": 2,
   "id": "8164e154-7e05-4f14-a3e4-97196f0896b3",
   "metadata": {},
   "outputs": [],
   "source": [
    "import cc.atlas as atlas\n",
    "import cc.cartography as cartography\n",
    "import cc.publication as publication\n",
    "import cc.utils as utils\n",
    "import cc.tex as tex"
   ]
  },
  {
   "cell_type": "code",
   "execution_count": 3,
   "id": "e4a7a811-60c6-4cb3-ae42-5ca234ff818b",
   "metadata": {},
   "outputs": [],
   "source": [
    "import trove"
   ]
  },
  {
   "cell_type": "markdown",
   "id": "ea554b41-e650-44c5-810d-abc2fd666cfa",
   "metadata": {},
   "source": [
    "# Parameters"
   ]
  },
  {
   "cell_type": "code",
   "execution_count": 4,
   "id": "bac5e07d-7a2f-4de9-925b-3df8f2a6a6d6",
   "metadata": {},
   "outputs": [],
   "source": [
    "config_fp = '/Users/zhafen/paper_repos/Hot-Accretion-in-FIRE/literature_review/literature_review.trove'\n",
    "cp = trove.config_parser.ConfigParser( config_fp )\n",
    "pm = trove.link_params_to_config(\n",
    "    config_fp,\n",
    "    variation = 'coronal_mixing_accretion',\n",
    ")"
   ]
  },
  {
   "cell_type": "code",
   "execution_count": 5,
   "id": "1f173ae5-afec-4e2d-9c0c-f9abed4d84ba",
   "metadata": {},
   "outputs": [],
   "source": [
    "atlas_dir = pm['root_data_dir']"
   ]
  },
  {
   "cell_type": "code",
   "execution_count": 6,
   "id": "576e7d94-11c0-47e5-b3e4-8d74849e447b",
   "metadata": {},
   "outputs": [],
   "source": [
    "topics = {}\n",
    "for variation in cp.variations:\n",
    "    topics[variation] = ast.literal_eval( cp.get( variation, 'publications' ) )"
   ]
  },
  {
   "cell_type": "markdown",
   "id": "70b8426b-3ca7-49d5-b759-463be0ca4721",
   "metadata": {},
   "source": [
    "## Load"
   ]
  },
  {
   "cell_type": "markdown",
   "id": "1d2d0d61-d9c7-49a3-8c6f-ee0044fc5c2d",
   "metadata": {
    "tags": []
   },
   "source": [
    "### Zotero Atlas"
   ]
  },
  {
   "cell_type": "code",
   "execution_count": 7,
   "id": "4a4402f0-d02e-412d-81ce-cb1b70b4e74b",
   "metadata": {},
   "outputs": [
    {
     "name": "stdout",
     "output_type": "stream",
     "text": [
      "Loading saved atlas data.\n"
     ]
    },
    {
     "name": "stderr",
     "output_type": "stream",
     "text": [
      "0it [00:00, ?it/s]\n",
      "100%|██████████| 1870/1870 [00:00<00:00, 15406.18it/s]\n"
     ]
    }
   ],
   "source": [
    "a_zotero = atlas.Atlas( atlas_dir, data_fp=pm['zotero_atlas_fp'], load_bibtex=False, )"
   ]
  },
  {
   "cell_type": "code",
   "execution_count": 8,
   "id": "cfbb4b5f-19fa-45c9-b85b-d0f36159b9bc",
   "metadata": {
    "tags": []
   },
   "outputs": [
    {
     "name": "stdout",
     "output_type": "stream",
     "text": [
      "Loading bibliography entries.\n"
     ]
    },
    {
     "name": "stderr",
     "output_type": "stream",
     "text": [
      "Entry type thesis not standard. Not considered.\n",
      "Entry type online not standard. Not considered.\n",
      "Entry type online not standard. Not considered.\n",
      "Entry type online not standard. Not considered.\n",
      "Entry type online not standard. Not considered.\n",
      "Entry type online not standard. Not considered.\n",
      "Entry type online not standard. Not considered.\n",
      "Entry type online not standard. Not considered.\n",
      "Entry type online not standard. Not considered.\n",
      "Entry type online not standard. Not considered.\n",
      "Entry type online not standard. Not considered.\n",
      "Entry type online not standard. Not considered.\n",
      "Entry type report not standard. Not considered.\n",
      "Entry type online not standard. Not considered.\n"
     ]
    },
    {
     "name": "stdout",
     "output_type": "stream",
     "text": [
      "Storing bibliography entries.\n"
     ]
    },
    {
     "name": "stderr",
     "output_type": "stream",
     "text": [
      "100%|██████████| 1855/1855 [00:00<00:00, 94474.34it/s]\n"
     ]
    }
   ],
   "source": [
    "a_zotero.import_bibtex( pm['zotero_bibtex_fp'] )"
   ]
  },
  {
   "cell_type": "code",
   "execution_count": 9,
   "id": "8adf54f7-89dd-4fd4-8b6b-e7044f0efece",
   "metadata": {
    "tags": []
   },
   "outputs": [
    {
     "name": "stdout",
     "output_type": "stream",
     "text": [
      "    Making 1 ADS calls...\n"
     ]
    },
    {
     "name": "stderr",
     "output_type": "stream",
     "text": [
      "  0%|          | 0/1 [00:00<?, ?it/s]/Users/zhafen/repos/cc/cc/atlas.py:999: UserWarning: No publications found for Riedl2006. Skipping.\n",
      "  warnings.warn(\n",
      "/Users/zhafen/repos/cc/cc/atlas.py:999: UserWarning: No publications found for Hartigan1985. Skipping.\n",
      "  warnings.warn(\n",
      "/Users/zhafen/repos/cc/cc/atlas.py:999: UserWarning: No publications found for Chan2017. Skipping.\n",
      "  warnings.warn(\n",
      "/Users/zhafen/repos/cc/cc/atlas.py:999: UserWarning: No publications found for Scheufele1999. Skipping.\n",
      "  warnings.warn(\n",
      "/Users/zhafen/repos/cc/cc/atlas.py:999: UserWarning: No publications found for Anderson2016. Skipping.\n",
      "  warnings.warn(\n",
      "/Users/zhafen/repos/cc/cc/atlas.py:999: UserWarning: No publications found for Kaplan1958. Skipping.\n",
      "  warnings.warn(\n",
      "/Users/zhafen/repos/cc/cc/atlas.py:999: UserWarning: No publications found for Turnbull1976. Skipping.\n",
      "  warnings.warn(\n",
      "/Users/zhafen/repos/cc/cc/atlas.py:999: UserWarning: No publications found for Smagorinsky1963. Skipping.\n",
      "  warnings.warn(\n",
      "/Users/zhafen/repos/cc/cc/atlas.py:999: UserWarning: No publications found for Whittaker2000. Skipping.\n",
      "  warnings.warn(\n",
      "/Users/zhafen/repos/cc/cc/atlas.py:999: UserWarning: No publications found for Runeson2006. Skipping.\n",
      "  warnings.warn(\n",
      "/Users/zhafen/repos/cc/cc/atlas.py:999: UserWarning: No publications found for Coelho2017. Skipping.\n",
      "  warnings.warn(\n",
      "/Users/zhafen/repos/cc/cc/atlas.py:999: UserWarning: No publications found for Varotsis2018. Skipping.\n",
      "  warnings.warn(\n",
      "/Users/zhafen/repos/cc/cc/atlas.py:999: UserWarning: No publications found for Pirker2015. Skipping.\n",
      "  warnings.warn(\n",
      "/Users/zhafen/repos/cc/cc/atlas.py:999: UserWarning: No publications found for Deterding2011. Skipping.\n",
      "  warnings.warn(\n",
      "/Users/zhafen/repos/cc/cc/atlas.py:999: UserWarning: No publications found for Reiners2015. Skipping.\n",
      "  warnings.warn(\n",
      "/Users/zhafen/repos/cc/cc/atlas.py:999: UserWarning: No publications found for Yarkoni2019. Skipping.\n",
      "  warnings.warn(\n",
      "/Users/zhafen/repos/cc/cc/atlas.py:999: UserWarning: No publications found for Hanes1940. Skipping.\n",
      "  warnings.warn(\n",
      "/Users/zhafen/repos/cc/cc/atlas.py:999: UserWarning: No publications found for Schilling2005. Skipping.\n",
      "  warnings.warn(\n",
      "/Users/zhafen/repos/cc/cc/atlas.py:999: UserWarning: No publications found for Price1976. Skipping.\n",
      "  warnings.warn(\n",
      "/Users/zhafen/repos/cc/cc/atlas.py:999: UserWarning: No publications found for Kluyver2016. Skipping.\n",
      "  warnings.warn(\n",
      "/Users/zhafen/repos/cc/cc/atlas.py:999: UserWarning: No publications found for DeSollaPrice1989. Skipping.\n",
      "  warnings.warn(\n",
      "/Users/zhafen/repos/cc/cc/atlas.py:999: UserWarning: No publications found for Vinkers2015. Skipping.\n",
      "  warnings.warn(\n",
      "/Users/zhafen/repos/cc/cc/atlas.py:999: UserWarning: No publications found for Fortunato2018. Skipping.\n",
      "  warnings.warn(\n",
      "/Users/zhafen/repos/cc/cc/atlas.py:999: UserWarning: No publications found for Sinatra2016. Skipping.\n",
      "  warnings.warn(\n",
      "/Users/zhafen/repos/cc/cc/atlas.py:999: UserWarning: No publications found for Strevens2003. Skipping.\n",
      "  warnings.warn(\n",
      "/Users/zhafen/repos/cc/cc/atlas.py:999: UserWarning: No publications found for Kitcher1990. Skipping.\n",
      "  warnings.warn(\n",
      "/Users/zhafen/repos/cc/cc/atlas.py:999: UserWarning: No publications found for Steegen2016. Skipping.\n",
      "  warnings.warn(\n",
      "/Users/zhafen/repos/cc/cc/atlas.py:999: UserWarning: No publications found for Shockley1957. Skipping.\n",
      "  warnings.warn(\n",
      "/Users/zhafen/repos/cc/cc/atlas.py:999: UserWarning: No publications found for Azoulay2011. Skipping.\n",
      "  warnings.warn(\n",
      "/Users/zhafen/repos/cc/cc/atlas.py:999: UserWarning: No publications found for Small1973. Skipping.\n",
      "  warnings.warn(\n",
      "/Users/zhafen/repos/cc/cc/atlas.py:999: UserWarning: No publications found for Stringer2010. Skipping.\n",
      "  warnings.warn(\n",
      "/Users/zhafen/repos/cc/cc/atlas.py:999: UserWarning: No publications found for Liu2013. Skipping.\n",
      "  warnings.warn(\n",
      "/Users/zhafen/repos/cc/cc/atlas.py:999: UserWarning: No publications found for Uzzi2005. Skipping.\n",
      "  warnings.warn(\n",
      "/Users/zhafen/repos/cc/cc/atlas.py:999: UserWarning: No publications found for Falk-Krzesinski2011. Skipping.\n",
      "  warnings.warn(\n",
      "/Users/zhafen/repos/cc/cc/atlas.py:999: UserWarning: No publications found for Stokols2008. Skipping.\n",
      "  warnings.warn(\n",
      "/Users/zhafen/repos/cc/cc/atlas.py:999: UserWarning: No publications found for Fiore2008. Skipping.\n",
      "  warnings.warn(\n",
      "/Users/zhafen/repos/cc/cc/atlas.py:999: UserWarning: No publications found for Research2004. Skipping.\n",
      "  warnings.warn(\n",
      "/Users/zhafen/repos/cc/cc/atlas.py:999: UserWarning: No publications found for Fleming2001. Skipping.\n",
      "  warnings.warn(\n",
      "/Users/zhafen/repos/cc/cc/atlas.py:999: UserWarning: No publications found for Schilling2011. Skipping.\n",
      "  warnings.warn(\n",
      "/Users/zhafen/repos/cc/cc/atlas.py:999: UserWarning: No publications found for Cluley2012. Skipping.\n",
      "  warnings.warn(\n",
      "/Users/zhafen/repos/cc/cc/atlas.py:999: UserWarning: No publications found for JONES2009. Skipping.\n",
      "  warnings.warn(\n",
      "/Users/zhafen/repos/cc/cc/atlas.py:999: UserWarning: No publications found for Weitzman1998. Skipping.\n",
      "  warnings.warn(\n",
      "/Users/zhafen/repos/cc/cc/atlas.py:999: UserWarning: No publications found for West2021. Skipping.\n",
      "  warnings.warn(\n",
      "/Users/zhafen/repos/cc/cc/atlas.py:999: UserWarning: No publications found for Weis2021. Skipping.\n",
      "  warnings.warn(\n",
      "/Users/zhafen/repos/cc/cc/atlas.py:999: UserWarning: No publications found for Collins2021. Skipping.\n",
      "  warnings.warn(\n",
      "/Users/zhafen/repos/cc/cc/atlas.py:999: UserWarning: No publications found for Haven2021. Skipping.\n",
      "  warnings.warn(\n",
      "/Users/zhafen/repos/cc/cc/atlas.py:999: UserWarning: No publications found for VanNoorden2014. Skipping.\n",
      "  warnings.warn(\n",
      "/Users/zhafen/repos/cc/cc/atlas.py:999: UserWarning: No publications found for VanNoorden2013. Skipping.\n",
      "  warnings.warn(\n",
      "/Users/zhafen/repos/cc/cc/atlas.py:999: UserWarning: No publications found for Chawla2021. Skipping.\n",
      "  warnings.warn(\n",
      "/Users/zhafen/repos/cc/cc/atlas.py:999: UserWarning: No publications found for Wang2016a. Skipping.\n",
      "  warnings.warn(\n",
      "/Users/zhafen/repos/cc/cc/atlas.py:999: UserWarning: No publications found for Etemadpour2016. Skipping.\n",
      "  warnings.warn(\n",
      "/Users/zhafen/repos/cc/cc/atlas.py:999: UserWarning: No publications found for Paulovich2008. Skipping.\n",
      "  warnings.warn(\n",
      "100%|██████████| 1/1 [00:00<00:00,  1.52it/s]\n"
     ]
    },
    {
     "name": "stdout",
     "output_type": "stream",
     "text": [
      "    Making 25 ADS calls for publications without IDs...\n"
     ]
    },
    {
     "name": "stderr",
     "output_type": "stream",
     "text": [
      "  0%|          | 0/25 [00:00<?, ?it/s]/Users/zhafen/repos/cc/cc/atlas.py:1035: UserWarning: No publications found for Lanson2008. Skipping.\n",
      "  warnings.warn(\n",
      "  4%|▍         | 1/25 [00:00<00:10,  2.26it/s]/Users/zhafen/repos/cc/cc/atlas.py:1035: UserWarning: No publications found for Feige2011. Skipping.\n",
      "  warnings.warn(\n",
      "  8%|▊         | 2/25 [00:00<00:10,  2.23it/s]/Users/zhafen/repos/cc/cc/atlas.py:1035: UserWarning: No publications found for Zanotti2010. Skipping.\n",
      "  warnings.warn(\n",
      " 12%|█▏        | 3/25 [00:01<00:10,  2.15it/s]/Users/zhafen/repos/cc/cc/atlas.py:1035: UserWarning: No publications found for Harrus. Skipping.\n",
      "  warnings.warn(\n",
      " 16%|█▌        | 4/25 [00:01<00:09,  2.25it/s]/Users/zhafen/repos/cc/cc/atlas.py:1035: UserWarning: No publications found for Siekmann1991. Skipping.\n",
      "  warnings.warn(\n",
      " 20%|██        | 5/25 [00:02<00:08,  2.30it/s]/Users/zhafen/repos/cc/cc/atlas.py:1035: UserWarning: No publications found for Kepler2016. Skipping.\n",
      "  warnings.warn(\n",
      " 24%|██▍       | 6/25 [00:02<00:08,  2.14it/s]/Users/zhafen/repos/cc/cc/atlas.py:1035: UserWarning: No publications found for VanDeVoort2017a. Skipping.\n",
      "  warnings.warn(\n",
      " 28%|██▊       | 7/25 [00:03<00:08,  2.20it/s]/Users/zhafen/repos/cc/cc/atlas.py:1029: UserWarning: Multiple publications possible for Parker1965. Skipping.\n",
      "  warnings.warn(\n",
      " 32%|███▏      | 8/25 [00:05<00:19,  1.15s/it]/Users/zhafen/repos/cc/cc/atlas.py:1035: UserWarning: No publications found for Klein2003. Skipping.\n",
      "  warnings.warn(\n",
      " 36%|███▌      | 9/25 [00:06<00:15,  1.06it/s]/Users/zhafen/repos/cc/cc/atlas.py:1035: UserWarning: No publications found for Pillepich2017. Skipping.\n",
      "  warnings.warn(\n",
      " 40%|████      | 10/25 [00:07<00:14,  1.06it/s]/Users/zhafen/repos/cc/cc/atlas.py:1035: UserWarning: No publications found for Cen2001. Skipping.\n",
      "  warnings.warn(\n",
      " 44%|████▍     | 11/25 [00:07<00:11,  1.23it/s]/Users/zhafen/repos/cc/cc/atlas.py:1029: UserWarning: Multiple publications possible for Draine2011. Skipping.\n",
      "  warnings.warn(\n",
      " 48%|████▊     | 12/25 [00:10<00:18,  1.43s/it]/Users/zhafen/repos/cc/cc/atlas.py:1035: UserWarning: No publications found for Li2020. Skipping.\n",
      "  warnings.warn(\n",
      " 52%|█████▏    | 13/25 [00:11<00:13,  1.15s/it]/Users/zhafen/repos/cc/cc/atlas.py:1035: UserWarning: No publications found for Lam2015. Skipping.\n",
      "  warnings.warn(\n",
      " 56%|█████▌    | 14/25 [00:11<00:10,  1.06it/s]/Users/zhafen/repos/cc/cc/atlas.py:1035: UserWarning: No publications found for Young2020. Skipping.\n",
      "  warnings.warn(\n",
      " 60%|██████    | 15/25 [00:12<00:07,  1.26it/s]/Users/zhafen/repos/cc/cc/atlas.py:1035: UserWarning: No publications found for Henderson1990. Skipping.\n",
      "  warnings.warn(\n",
      " 64%|██████▍   | 16/25 [00:12<00:06,  1.40it/s]/Users/zhafen/repos/cc/cc/atlas.py:1035: UserWarning: No publications found for Kimm2011b. Skipping.\n",
      "  warnings.warn(\n",
      " 68%|██████▊   | 17/25 [00:13<00:05,  1.52it/s]/Users/zhafen/repos/cc/cc/atlas.py:1035: UserWarning: No publications found for Rennehan2021. Skipping.\n",
      "  warnings.warn(\n",
      " 72%|███████▏  | 18/25 [00:13<00:04,  1.71it/s]/Users/zhafen/repos/cc/cc/atlas.py:1029: UserWarning: Multiple publications possible for Whitcomb2013. Skipping.\n",
      "  warnings.warn(\n",
      " 76%|███████▌  | 19/25 [00:14<00:03,  1.67it/s]/Users/zhafen/repos/cc/cc/atlas.py:1035: UserWarning: No publications found for CANaturalResourcesAgency. Skipping.\n",
      "  warnings.warn(\n",
      " 80%|████████  | 20/25 [00:14<00:02,  1.80it/s]/Users/zhafen/repos/cc/cc/atlas.py:1029: UserWarning: Multiple publications possible for HarmsworthAssociates2010. Skipping.\n",
      "  warnings.warn(\n",
      " 84%|████████▍ | 21/25 [00:14<00:02,  1.95it/s]/Users/zhafen/repos/cc/cc/atlas.py:1035: UserWarning: No publications found for Sanchez2020. Skipping.\n",
      "  warnings.warn(\n",
      " 88%|████████▊ | 22/25 [00:15<00:01,  1.99it/s]/Users/zhafen/repos/cc/cc/atlas.py:1035: UserWarning: No publications found for Yu2021. Skipping.\n",
      "  warnings.warn(\n",
      " 92%|█████████▏| 23/25 [00:16<00:01,  1.68it/s]/Users/zhafen/repos/cc/cc/atlas.py:1035: UserWarning: No publications found for Richings2020. Skipping.\n",
      "  warnings.warn(\n",
      " 96%|█████████▌| 24/25 [00:16<00:00,  1.81it/s]/Users/zhafen/repos/cc/cc/atlas.py:1035: UserWarning: No publications found for Lim2020a. Skipping.\n",
      "  warnings.warn(\n",
      "100%|██████████| 25/25 [00:17<00:00,  1.45it/s]\n"
     ]
    },
    {
     "name": "stdout",
     "output_type": "stream",
     "text": [
      "    Doing NLP...\n"
     ]
    },
    {
     "name": "stderr",
     "output_type": "stream",
     "text": [
      "100%|██████████| 1870/1870 [00:00<00:00, 677728.20it/s]\n"
     ]
    }
   ],
   "source": [
    "a_zotero.process_abstracts( identifier='from_citation' )"
   ]
  },
  {
   "cell_type": "code",
   "execution_count": 10,
   "id": "bf799f2b-53c9-4820-87cd-b94e47afe3b6",
   "metadata": {},
   "outputs": [
    {
     "name": "stdout",
     "output_type": "stream",
     "text": [
      "Preparing to save data.\n"
     ]
    },
    {
     "name": "stderr",
     "output_type": "stream",
     "text": [
      "100%|██████████| 1870/1870 [00:00<00:00, 126401.65it/s]\n"
     ]
    },
    {
     "name": "stdout",
     "output_type": "stream",
     "text": [
      "Saving to /Users/zhafen/Data/hot_halo_accretion/literature_review/atlas_zotero.json\n"
     ]
    }
   ],
   "source": [
    "a_zotero.save_data( fp=pm['zotero_atlas_fp'] )"
   ]
  },
  {
   "cell_type": "code",
   "execution_count": 11,
   "id": "d2b98e0e-caa1-4670-95f0-af5d8fe0e39e",
   "metadata": {},
   "outputs": [
    {
     "name": "stdout",
     "output_type": "stream",
     "text": [
      "Vectorizing text...\n",
      "    Retrieving publication data...\n"
     ]
    },
    {
     "name": "stderr",
     "output_type": "stream",
     "text": [
      "100%|██████████| 1870/1870 [00:00<00:00, 192168.28it/s]"
     ]
    },
    {
     "name": "stdout",
     "output_type": "stream",
     "text": [
      "    Calculating vectorization...\n"
     ]
    },
    {
     "name": "stderr",
     "output_type": "stream",
     "text": [
      "\n"
     ]
    }
   ],
   "source": [
    "# Vectorize\n",
    "vp_dict = a_zotero.vectorize( projection_fp=pm['zotero_projection_fp'], overwrite=True )\n",
    "c_zotero = cartography.Cartographer( **vp_dict )"
   ]
  },
  {
   "cell_type": "markdown",
   "id": "3d1fb778-89fa-42f3-a935-8c66e55e70ab",
   "metadata": {
    "tags": []
   },
   "source": [
    "### Large Atlas"
   ]
  },
  {
   "cell_type": "code",
   "execution_count": 12,
   "id": "3f169083-0fd4-4c92-9469-12b54013880b",
   "metadata": {},
   "outputs": [
    {
     "name": "stdout",
     "output_type": "stream",
     "text": [
      "Loading saved atlas data.\n"
     ]
    },
    {
     "name": "stderr",
     "output_type": "stream",
     "text": [
      "0it [00:00, ?it/s]\n",
      "100%|██████████| 15315/15315 [00:00<00:00, 25871.98it/s]\n"
     ]
    }
   ],
   "source": [
    "# Larger atlas\n",
    "a = atlas.Atlas( atlas_dir, load_bibtex=False, )"
   ]
  },
  {
   "cell_type": "code",
   "execution_count": 13,
   "id": "1f3fad5e-415d-44d5-8da0-2cf400f2743b",
   "metadata": {},
   "outputs": [
    {
     "name": "stderr",
     "output_type": "stream",
     "text": [
      "100%|██████████| 1870/1870 [00:00<00:00, 160143.51it/s]\n",
      "100%|██████████| 13524/13524 [00:00<00:00, 115475.52it/s]\n"
     ]
    }
   ],
   "source": [
    "a.update( a_zotero )"
   ]
  },
  {
   "cell_type": "code",
   "execution_count": 14,
   "id": "507affc4-5fa6-47ce-9faa-610b0d7f8685",
   "metadata": {},
   "outputs": [
    {
     "name": "stdout",
     "output_type": "stream",
     "text": [
      "    Making 1 ADS calls...\n"
     ]
    },
    {
     "name": "stderr",
     "output_type": "stream",
     "text": [
      "100%|██████████| 1/1 [00:00<00:00,  1.55it/s]\n"
     ]
    },
    {
     "name": "stdout",
     "output_type": "stream",
     "text": [
      "    Making 24 ADS calls for publications without IDs...\n"
     ]
    },
    {
     "name": "stderr",
     "output_type": "stream",
     "text": [
      "100%|██████████| 24/24 [00:16<00:00,  1.48it/s]\n"
     ]
    },
    {
     "name": "stdout",
     "output_type": "stream",
     "text": [
      "    Doing NLP...\n"
     ]
    },
    {
     "name": "stderr",
     "output_type": "stream",
     "text": [
      "100%|██████████| 14254/14254 [00:00<00:00, 706769.23it/s]\n"
     ]
    }
   ],
   "source": [
    "a.process_abstracts( identifier='from_citation' )"
   ]
  },
  {
   "cell_type": "code",
   "execution_count": 15,
   "id": "c0d5e229-9711-4732-ae80-8b327252cb3b",
   "metadata": {},
   "outputs": [
    {
     "name": "stdout",
     "output_type": "stream",
     "text": [
      "Vectorizing text...\n",
      "    Retrieving publication data...\n"
     ]
    },
    {
     "name": "stderr",
     "output_type": "stream",
     "text": [
      "  0%|          | 0/14254 [00:00<?, ?it/s]/Users/zhafen/repos/cc/cc/publication.py:800: UserWarning: Hafen2021 is unofficial and has no publication date.\n",
      "  warnings.warn( warning_msg )\n",
      "100%|██████████| 14254/14254 [00:00<00:00, 91251.36it/s]\n"
     ]
    },
    {
     "name": "stdout",
     "output_type": "stream",
     "text": [
      "    Calculating vectorization...\n"
     ]
    }
   ],
   "source": [
    "# Vectorization\n",
    "vp_dict = a.vectorize( overwrite=True )\n",
    "c = cartography.Cartographer( **vp_dict )"
   ]
  },
  {
   "cell_type": "markdown",
   "id": "d8bfeb3d-5e21-4fd7-b10d-af2803a17e3a",
   "metadata": {},
   "source": [
    "# Search"
   ]
  },
  {
   "cell_type": "code",
   "execution_count": 21,
   "id": "183b4c5a-2004-4c40-8c95-37e60d588ad5",
   "metadata": {
    "tags": []
   },
   "outputs": [
    {
     "name": "stdout",
     "output_type": "stream",
     "text": [
      "Expanding for topics...\n",
      "\n",
      "================================================================\n",
      "coronal_mixing_accretion\n",
      "\n",
      "================================================================\n",
      "angular_momentum_offset\n",
      "\n",
      "================================================================\n",
      "galaxy_halo_interface_observations\n",
      "Expansion will include 81 new publications.\n",
      "Loading bibliography entries.\n",
      "Storing bibliography entries.\n"
     ]
    },
    {
     "name": "stderr",
     "output_type": "stream",
     "text": [
      "100%|██████████| 14741/14741 [00:00<00:00, 37704.33it/s]\n"
     ]
    },
    {
     "name": "stdout",
     "output_type": "stream",
     "text": [
      "    Making 2 ADS calls...\n"
     ]
    },
    {
     "name": "stderr",
     "output_type": "stream",
     "text": [
      "100%|██████████| 2/2 [00:02<00:00,  1.03s/it]\n"
     ]
    },
    {
     "name": "stdout",
     "output_type": "stream",
     "text": [
      "    Making 0 ADS calls for publications without IDs...\n"
     ]
    },
    {
     "name": "stderr",
     "output_type": "stream",
     "text": [
      "0it [00:00, ?it/s]\n"
     ]
    },
    {
     "name": "stdout",
     "output_type": "stream",
     "text": [
      "    Doing NLP...\n"
     ]
    },
    {
     "name": "stderr",
     "output_type": "stream",
     "text": [
      "100%|██████████| 16186/16186 [00:03<00:00, 5383.40it/s]  \n"
     ]
    },
    {
     "name": "stdout",
     "output_type": "stream",
     "text": [
      "Expansion will include 357 new publications.\n",
      "--Call--\n",
      "> \u001b[0;32m/Users/zhafen/miniconda3/envs/cc/lib/python3.9/site-packages/urllib3/response.py\u001b[0m(635)\u001b[0;36mclosed\u001b[0;34m()\u001b[0m\n",
      "\u001b[0;32m    633 \u001b[0;31m            \u001b[0mio\u001b[0m\u001b[0;34m.\u001b[0m\u001b[0mIOBase\u001b[0m\u001b[0;34m.\u001b[0m\u001b[0mclose\u001b[0m\u001b[0;34m(\u001b[0m\u001b[0mself\u001b[0m\u001b[0;34m)\u001b[0m\u001b[0;34m\u001b[0m\u001b[0;34m\u001b[0m\u001b[0m\n",
      "\u001b[0m\u001b[0;32m    634 \u001b[0;31m\u001b[0;34m\u001b[0m\u001b[0m\n",
      "\u001b[0m\u001b[0;32m--> 635 \u001b[0;31m    \u001b[0;34m@\u001b[0m\u001b[0mproperty\u001b[0m\u001b[0;34m\u001b[0m\u001b[0;34m\u001b[0m\u001b[0m\n",
      "\u001b[0m\u001b[0;32m    636 \u001b[0;31m    \u001b[0;32mdef\u001b[0m \u001b[0mclosed\u001b[0m\u001b[0;34m(\u001b[0m\u001b[0mself\u001b[0m\u001b[0;34m)\u001b[0m\u001b[0;34m:\u001b[0m\u001b[0;34m\u001b[0m\u001b[0;34m\u001b[0m\u001b[0m\n",
      "\u001b[0m\u001b[0;32m    637 \u001b[0;31m        \u001b[0;32mif\u001b[0m \u001b[0;32mnot\u001b[0m \u001b[0mself\u001b[0m\u001b[0;34m.\u001b[0m\u001b[0mauto_close\u001b[0m\u001b[0;34m:\u001b[0m\u001b[0;34m\u001b[0m\u001b[0;34m\u001b[0m\u001b[0m\n",
      "\u001b[0m\n"
     ]
    },
    {
     "name": "stdin",
     "output_type": "stream",
     "text": [
      "ipdb>  l\n"
     ]
    },
    {
     "name": "stdout",
     "output_type": "stream",
     "text": [
      "\u001b[1;32m    630 \u001b[0m            \u001b[0mself\u001b[0m\u001b[0;34m.\u001b[0m\u001b[0m_connection\u001b[0m\u001b[0;34m.\u001b[0m\u001b[0mclose\u001b[0m\u001b[0;34m(\u001b[0m\u001b[0;34m)\u001b[0m\u001b[0;34m\u001b[0m\u001b[0;34m\u001b[0m\u001b[0m\n",
      "\u001b[1;32m    631 \u001b[0m\u001b[0;34m\u001b[0m\u001b[0m\n",
      "\u001b[1;32m    632 \u001b[0m        \u001b[0;32mif\u001b[0m \u001b[0;32mnot\u001b[0m \u001b[0mself\u001b[0m\u001b[0;34m.\u001b[0m\u001b[0mauto_close\u001b[0m\u001b[0;34m:\u001b[0m\u001b[0;34m\u001b[0m\u001b[0;34m\u001b[0m\u001b[0m\n",
      "\u001b[1;32m    633 \u001b[0m            \u001b[0mio\u001b[0m\u001b[0;34m.\u001b[0m\u001b[0mIOBase\u001b[0m\u001b[0;34m.\u001b[0m\u001b[0mclose\u001b[0m\u001b[0;34m(\u001b[0m\u001b[0mself\u001b[0m\u001b[0;34m)\u001b[0m\u001b[0;34m\u001b[0m\u001b[0;34m\u001b[0m\u001b[0m\n",
      "\u001b[1;32m    634 \u001b[0m\u001b[0;34m\u001b[0m\u001b[0m\n",
      "\u001b[0;32m--> 635 \u001b[0;31m    \u001b[0;34m@\u001b[0m\u001b[0mproperty\u001b[0m\u001b[0;34m\u001b[0m\u001b[0;34m\u001b[0m\u001b[0m\n",
      "\u001b[0m\u001b[1;32m    636 \u001b[0m    \u001b[0;32mdef\u001b[0m \u001b[0mclosed\u001b[0m\u001b[0;34m(\u001b[0m\u001b[0mself\u001b[0m\u001b[0;34m)\u001b[0m\u001b[0;34m:\u001b[0m\u001b[0;34m\u001b[0m\u001b[0;34m\u001b[0m\u001b[0m\n",
      "\u001b[1;32m    637 \u001b[0m        \u001b[0;32mif\u001b[0m \u001b[0;32mnot\u001b[0m \u001b[0mself\u001b[0m\u001b[0;34m.\u001b[0m\u001b[0mauto_close\u001b[0m\u001b[0;34m:\u001b[0m\u001b[0;34m\u001b[0m\u001b[0;34m\u001b[0m\u001b[0m\n",
      "\u001b[1;32m    638 \u001b[0m            \u001b[0;32mreturn\u001b[0m \u001b[0mio\u001b[0m\u001b[0;34m.\u001b[0m\u001b[0mIOBase\u001b[0m\u001b[0;34m.\u001b[0m\u001b[0mclosed\u001b[0m\u001b[0;34m.\u001b[0m\u001b[0m__get__\u001b[0m\u001b[0;34m(\u001b[0m\u001b[0mself\u001b[0m\u001b[0;34m)\u001b[0m\u001b[0;34m\u001b[0m\u001b[0;34m\u001b[0m\u001b[0m\n",
      "\u001b[1;32m    639 \u001b[0m        \u001b[0;32melif\u001b[0m \u001b[0mself\u001b[0m\u001b[0;34m.\u001b[0m\u001b[0m_fp\u001b[0m \u001b[0;32mis\u001b[0m \u001b[0;32mNone\u001b[0m\u001b[0;34m:\u001b[0m\u001b[0;34m\u001b[0m\u001b[0;34m\u001b[0m\u001b[0m\n",
      "\u001b[1;32m    640 \u001b[0m            \u001b[0;32mreturn\u001b[0m \u001b[0;32mTrue\u001b[0m\u001b[0;34m\u001b[0m\u001b[0;34m\u001b[0m\u001b[0m\n",
      "\n"
     ]
    },
    {
     "name": "stdin",
     "output_type": "stream",
     "text": [
      "ipdb>  p\n"
     ]
    },
    {
     "name": "stdout",
     "output_type": "stream",
     "text": [
      "*** SyntaxError: unexpected EOF while parsing\n"
     ]
    },
    {
     "name": "stdin",
     "output_type": "stream",
     "text": [
      "ipdb>  c\n"
     ]
    },
    {
     "ename": "UnboundLocalError",
     "evalue": "local variable 'bibtex_str_i' referenced before assignment",
     "output_type": "error",
     "traceback": [
      "\u001b[0;31m---------------------------------------------------------------------------\u001b[0m",
      "\u001b[0;31mUnboundLocalError\u001b[0m                         Traceback (most recent call last)",
      "\u001b[0;32m<ipython-input-21-e6a9c86c9f11>\u001b[0m in \u001b[0;36m<module>\u001b[0;34m\u001b[0m\n\u001b[1;32m      5\u001b[0m     \u001b[0;32mfor\u001b[0m \u001b[0mp_i\u001b[0m \u001b[0;32min\u001b[0m \u001b[0mpubs_i\u001b[0m\u001b[0;34m:\u001b[0m\u001b[0;34m\u001b[0m\u001b[0;34m\u001b[0m\u001b[0m\n\u001b[1;32m      6\u001b[0m         \u001b[0;32mtry\u001b[0m\u001b[0;34m:\u001b[0m\u001b[0;34m\u001b[0m\u001b[0;34m\u001b[0m\u001b[0m\n\u001b[0;32m----> 7\u001b[0;31m             \u001b[0ma\u001b[0m \u001b[0;34m=\u001b[0m \u001b[0mc\u001b[0m\u001b[0;34m.\u001b[0m\u001b[0mexpand\u001b[0m\u001b[0;34m(\u001b[0m \u001b[0ma\u001b[0m\u001b[0;34m,\u001b[0m \u001b[0mcenter\u001b[0m\u001b[0;34m=\u001b[0m\u001b[0mp_i\u001b[0m\u001b[0;34m,\u001b[0m \u001b[0mn_sources_max\u001b[0m\u001b[0;34m=\u001b[0m\u001b[0mpm\u001b[0m\u001b[0;34m[\u001b[0m\u001b[0;34m'kernel_size'\u001b[0m\u001b[0;34m]\u001b[0m \u001b[0;34m)\u001b[0m\u001b[0;34m\u001b[0m\u001b[0;34m\u001b[0m\u001b[0m\n\u001b[0m\u001b[1;32m      8\u001b[0m             \u001b[0ma\u001b[0m\u001b[0;34m.\u001b[0m\u001b[0mprocess_abstracts\u001b[0m\u001b[0;34m(\u001b[0m\u001b[0;34m)\u001b[0m\u001b[0;34m\u001b[0m\u001b[0;34m\u001b[0m\u001b[0m\n\u001b[1;32m      9\u001b[0m         \u001b[0;32mexcept\u001b[0m \u001b[0;34m(\u001b[0m \u001b[0mValueError\u001b[0m\u001b[0;34m,\u001b[0m \u001b[0mAssertionError\u001b[0m \u001b[0;34m)\u001b[0m \u001b[0;32mas\u001b[0m \u001b[0me\u001b[0m\u001b[0;34m:\u001b[0m\u001b[0;34m\u001b[0m\u001b[0;34m\u001b[0m\u001b[0m\n",
      "\u001b[0;32m~/repos/cc/cc/cartography.py\u001b[0m in \u001b[0;36mexpand\u001b[0;34m(self, a, center, n_pubs_max, n_sources_max)\u001b[0m\n\u001b[1;32m    743\u001b[0m \u001b[0;34m\u001b[0m\u001b[0m\n\u001b[1;32m    744\u001b[0m         \u001b[0;31m# New atlas\u001b[0m\u001b[0;34m\u001b[0m\u001b[0;34m\u001b[0m\u001b[0;34m\u001b[0m\u001b[0m\n\u001b[0;32m--> 745\u001b[0;31m         \u001b[0ma_exp\u001b[0m \u001b[0;34m=\u001b[0m \u001b[0matlas\u001b[0m\u001b[0;34m.\u001b[0m\u001b[0mAtlas\u001b[0m\u001b[0;34m.\u001b[0m\u001b[0mfrom_bibcodes\u001b[0m\u001b[0;34m(\u001b[0m \u001b[0ma\u001b[0m\u001b[0;34m.\u001b[0m\u001b[0matlas_dir\u001b[0m\u001b[0;34m,\u001b[0m \u001b[0mbibcodes\u001b[0m \u001b[0;34m)\u001b[0m\u001b[0;34m\u001b[0m\u001b[0;34m\u001b[0m\u001b[0m\n\u001b[0m\u001b[1;32m    746\u001b[0m \u001b[0;34m\u001b[0m\u001b[0m\n\u001b[1;32m    747\u001b[0m         \u001b[0;31m# Update the new atlas\u001b[0m\u001b[0;34m\u001b[0m\u001b[0;34m\u001b[0m\u001b[0;34m\u001b[0m\u001b[0m\n",
      "\u001b[0;32m~/repos/cc/cc/atlas.py\u001b[0m in \u001b[0;36mfrom_bibcodes\u001b[0;34m(cls, atlas_dir, bibcodes, bibtex_fp, data_fp, load_atlas_data, **kwargs)\u001b[0m\n\u001b[1;32m    244\u001b[0m         \u001b[0;32mif\u001b[0m \u001b[0mbibtex_fp\u001b[0m \u001b[0;32mis\u001b[0m \u001b[0;32mNone\u001b[0m\u001b[0;34m:\u001b[0m\u001b[0;34m\u001b[0m\u001b[0;34m\u001b[0m\u001b[0m\n\u001b[1;32m    245\u001b[0m             \u001b[0mbibtex_fp\u001b[0m \u001b[0;34m=\u001b[0m \u001b[0mos\u001b[0m\u001b[0;34m.\u001b[0m\u001b[0mpath\u001b[0m\u001b[0;34m.\u001b[0m\u001b[0mjoin\u001b[0m\u001b[0;34m(\u001b[0m \u001b[0matlas_dir\u001b[0m\u001b[0;34m,\u001b[0m \u001b[0;34m'cc_ads.bib'\u001b[0m \u001b[0;34m)\u001b[0m\u001b[0;34m\u001b[0m\u001b[0;34m\u001b[0m\u001b[0m\n\u001b[0;32m--> 246\u001b[0;31m         \u001b[0msave_bibcodes_to_bibtex\u001b[0m\u001b[0;34m(\u001b[0m \u001b[0mbibcodes\u001b[0m\u001b[0;34m,\u001b[0m \u001b[0mbibtex_fp\u001b[0m \u001b[0;34m)\u001b[0m\u001b[0;34m\u001b[0m\u001b[0;34m\u001b[0m\u001b[0m\n\u001b[0m\u001b[1;32m    247\u001b[0m \u001b[0;34m\u001b[0m\u001b[0m\n\u001b[1;32m    248\u001b[0m         result = Atlas(\n",
      "\u001b[0;32m~/repos/cc/cc/atlas.py\u001b[0m in \u001b[0;36msave_bibcodes_to_bibtex\u001b[0;34m(bibcodes, bibtex_fp, call_size)\u001b[0m\n\u001b[1;32m   1560\u001b[0m         \u001b[0;31m# This is not optimized.\u001b[0m\u001b[0;34m\u001b[0m\u001b[0;34m\u001b[0m\u001b[0;34m\u001b[0m\u001b[0m\n\u001b[1;32m   1561\u001b[0m         \u001b[0ml\u001b[0m \u001b[0;34m=\u001b[0m \u001b[0;34m[\u001b[0m\u001b[0;34m]\u001b[0m\u001b[0;34m\u001b[0m\u001b[0;34m\u001b[0m\u001b[0m\n\u001b[0;32m-> 1562\u001b[0;31m         \u001b[0;32mfor\u001b[0m \u001b[0mline\u001b[0m \u001b[0;32min\u001b[0m \u001b[0mbibtex_str_i\u001b[0m\u001b[0;34m.\u001b[0m\u001b[0msplit\u001b[0m\u001b[0;34m(\u001b[0m \u001b[0;34m'\\n'\u001b[0m \u001b[0;34m)\u001b[0m\u001b[0;34m:\u001b[0m\u001b[0;34m\u001b[0m\u001b[0;34m\u001b[0m\u001b[0m\n\u001b[0m\u001b[1;32m   1563\u001b[0m             \u001b[0;31m# ADS puts quotes instead of double brackes around the title\u001b[0m\u001b[0;34m\u001b[0m\u001b[0;34m\u001b[0m\u001b[0;34m\u001b[0m\u001b[0m\n\u001b[1;32m   1564\u001b[0m             \u001b[0;32mif\u001b[0m \u001b[0;34m'title ='\u001b[0m \u001b[0;32min\u001b[0m \u001b[0mline\u001b[0m\u001b[0;34m:\u001b[0m\u001b[0;34m\u001b[0m\u001b[0;34m\u001b[0m\u001b[0m\n",
      "\u001b[0;31mUnboundLocalError\u001b[0m: local variable 'bibtex_str_i' referenced before assignment"
     ]
    }
   ],
   "source": [
    "print( 'Expanding for topics...' )\n",
    "broken = []\n",
    "for topic, pubs_i in topics.items():\n",
    "    print( '\\n================================================================\\n{}'.format( topic ) )\n",
    "    for p_i in pubs_i:\n",
    "        try:\n",
    "            a = c.expand( a, center=p_i, n_sources_max=pm['kernel_size'] )\n",
    "            a.process_abstracts()\n",
    "        except ( ValueError, AssertionError ) as e:\n",
    "            if isinstance( e, ValueError ):\n",
    "                broken.append( p_i )"
   ]
  },
  {
   "cell_type": "code",
   "execution_count": 33,
   "id": "3eb82142-e05a-4b50-90fb-4f1dc676d3c5",
   "metadata": {
    "tags": []
   },
   "outputs": [
    {
     "name": "stdout",
     "output_type": "stream",
     "text": [
      "Preparing to save data.\n"
     ]
    },
    {
     "name": "stderr",
     "output_type": "stream",
     "text": [
      "100%|██████████| 16186/16186 [00:00<00:00, 134419.30it/s]"
     ]
    },
    {
     "name": "stdout",
     "output_type": "stream",
     "text": [
      "Saving to /Users/zhafen/Data/hot_halo_accretion/literature_review/atlas_data.json\n"
     ]
    },
    {
     "name": "stderr",
     "output_type": "stream",
     "text": [
      "\n"
     ]
    }
   ],
   "source": [
    "a.save_data()"
   ]
  },
  {
   "cell_type": "code",
   "execution_count": null,
   "id": "c382b5d7-ca2e-459a-b7b4-1ccc1f9c43c7",
   "metadata": {},
   "outputs": [],
   "source": []
  }
 ],
 "metadata": {
  "kernelspec": {
   "display_name": "Python 3",
   "language": "python",
   "name": "python3"
  },
  "language_info": {
   "codemirror_mode": {
    "name": "ipython",
    "version": 3
   },
   "file_extension": ".py",
   "mimetype": "text/x-python",
   "name": "python",
   "nbconvert_exporter": "python",
   "pygments_lexer": "ipython3",
   "version": "3.9.6"
  }
 },
 "nbformat": 4,
 "nbformat_minor": 5
}
