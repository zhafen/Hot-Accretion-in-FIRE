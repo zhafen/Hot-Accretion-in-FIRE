{
 "cells": [
  {
   "cell_type": "code",
   "execution_count": 1,
   "id": "3eef3471-0d5b-4829-bb49-93d9a1bf03cd",
   "metadata": {},
   "outputs": [],
   "source": [
    "import ast\n",
    "import copy\n",
    "import numpy as np\n",
    "import os"
   ]
  },
  {
   "cell_type": "code",
   "execution_count": 2,
   "id": "1b45a75a-49af-4a69-8e52-f22df0af0d96",
   "metadata": {},
   "outputs": [],
   "source": [
    "import cc.atlas as atlas\n",
    "import cc.cartography as cartography\n",
    "import cc.publication as publication\n",
    "import cc.utils as utils\n",
    "import cc.tex as tex"
   ]
  },
  {
   "cell_type": "code",
   "execution_count": 3,
   "id": "9742dac7-df12-4f7f-9035-106fd5c8bd36",
   "metadata": {},
   "outputs": [],
   "source": [
    "import trove\n",
    "import verdict"
   ]
  },
  {
   "cell_type": "markdown",
   "id": "01455185-77b9-4443-9e4c-ec55289c1324",
   "metadata": {
    "tags": []
   },
   "source": [
    "# Literature Review\n",
    "\n",
    "This notebook contains a record of how I performed the literature review for this work."
   ]
  },
  {
   "cell_type": "markdown",
   "id": "2d02929c-d4b0-4c95-94b6-3f7613d4f77c",
   "metadata": {},
   "source": [
    "# Parameters"
   ]
  },
  {
   "cell_type": "code",
   "execution_count": 4,
   "id": "cbaf46ef-ed61-445e-91ce-905784206dbb",
   "metadata": {},
   "outputs": [],
   "source": [
    "config_fp = '/Users/zhafen/paper_repos/Hot-Accretion-in-FIRE/literature_review/literature_review.trove'\n",
    "cp = trove.config_parser.ConfigParser( config_fp )\n",
    "pm = trove.link_params_to_config(\n",
    "    config_fp,\n",
    "    variation = 'thin_disk_galaxies',\n",
    ")"
   ]
  },
  {
   "cell_type": "code",
   "execution_count": 5,
   "id": "55a891a7-35cb-4237-989f-3c2dec90d3f2",
   "metadata": {},
   "outputs": [],
   "source": [
    "atlas_dir = pm['root_data_dir']"
   ]
  },
  {
   "cell_type": "code",
   "execution_count": 6,
   "id": "663da3b0-c3f6-4df3-900b-2a904c40047b",
   "metadata": {},
   "outputs": [],
   "source": [
    "topics = {}\n",
    "for variation in cp.variations:\n",
    "    topics[variation] = ast.literal_eval( cp.get( variation, 'publications' ) )"
   ]
  },
  {
   "cell_type": "markdown",
   "id": "f6489937-4f3a-4358-b99c-0255cff2effa",
   "metadata": {
    "tags": []
   },
   "source": [
    "# Load Data"
   ]
  },
  {
   "cell_type": "markdown",
   "id": "346234c8-e5bb-4023-a5cf-cfddec7a8b0e",
   "metadata": {},
   "source": [
    "## Topics Data"
   ]
  },
  {
   "cell_type": "code",
   "execution_count": 7,
   "id": "16e275ac-00ca-4ade-9f4a-2423980be847",
   "metadata": {},
   "outputs": [],
   "source": [
    "topics_fp = os.path.join( pm['root_data_dir'], 'topics.json' )\n",
    "topics_data = verdict.Dict.from_json( topics_fp, create_nonexisting=True )\n",
    "if 'not_included' not in topics_data:\n",
    "    topics_data['not_included'] = {}"
   ]
  },
  {
   "cell_type": "markdown",
   "id": "98f0e0a0-7ed9-41ad-a8bb-af5651b41e81",
   "metadata": {
    "tags": []
   },
   "source": [
    "## Zotero Atlas"
   ]
  },
  {
   "cell_type": "code",
   "execution_count": 8,
   "id": "94785674-430a-42e4-8411-690472baca03",
   "metadata": {},
   "outputs": [
    {
     "name": "stdout",
     "output_type": "stream",
     "text": [
      "Loading saved atlas data.\n"
     ]
    },
    {
     "name": "stderr",
     "output_type": "stream",
     "text": [
      "0it [00:00, ?it/s]\n",
      "100%|██████████| 1904/1904 [00:00<00:00, 14352.72it/s]\n"
     ]
    }
   ],
   "source": [
    "# Larger atlas\n",
    "a_zotero = atlas.Atlas( atlas_dir, load_bibtex=False, data_fp=pm['zotero_atlas_fp'] )"
   ]
  },
  {
   "cell_type": "code",
   "execution_count": 9,
   "id": "8e4e9beb-6be2-45af-9268-c5c01aa9b709",
   "metadata": {},
   "outputs": [
    {
     "name": "stdout",
     "output_type": "stream",
     "text": [
      "Vectorizing text...\n",
      "Using saved vectorized text...\n"
     ]
    },
    {
     "name": "stderr",
     "output_type": "stream",
     "text": [
      "/Users/zhafen/repos/verdict/verdict.py:1404: FutureWarning: Using a non-tuple sequence for multidimensional indexing is deprecated; use `arr[tuple(seq)]` instead of `arr[seq]`. In the future this will be interpreted as an array index, `arr[np.array(seq)]`, which will result either in an error or a different result.\n",
      "  if hasattr( a[first_element_index][0], 'decode' ):\n"
     ]
    }
   ],
   "source": [
    "# Vectorization\n",
    "vp_dict = a_zotero.vectorize( projection_fp=pm['zotero_projection_fp'] )\n",
    "c_zotero = cartography.Cartographer( **vp_dict )"
   ]
  },
  {
   "cell_type": "markdown",
   "id": "82099566-7642-4b5b-bb0b-ea425253c6ce",
   "metadata": {
    "tags": []
   },
   "source": [
    "## Large Atlas"
   ]
  },
  {
   "cell_type": "code",
   "execution_count": 10,
   "id": "1e0fb8bb-5ccb-4773-94d8-665322bd7b86",
   "metadata": {},
   "outputs": [
    {
     "name": "stdout",
     "output_type": "stream",
     "text": [
      "Loading saved atlas data.\n"
     ]
    },
    {
     "name": "stderr",
     "output_type": "stream",
     "text": [
      "0it [00:00, ?it/s]\n",
      "100%|██████████| 19540/19540 [00:03<00:00, 5713.64it/s]\n"
     ]
    }
   ],
   "source": [
    "# Larger atlas\n",
    "a = atlas.Atlas( atlas_dir, load_bibtex=False, )"
   ]
  },
  {
   "cell_type": "code",
   "execution_count": 11,
   "id": "86ce9cb5-252d-4330-8b98-0698e7715260",
   "metadata": {},
   "outputs": [
    {
     "name": "stdout",
     "output_type": "stream",
     "text": [
      "Vectorizing text...\n",
      "Using saved vectorized text...\n"
     ]
    }
   ],
   "source": [
    "# Vectorization\n",
    "vp_dict = a.vectorize()\n",
    "c = cartography.Cartographer( **vp_dict )"
   ]
  },
  {
   "cell_type": "markdown",
   "id": "52c58dce-de2c-435e-b3e8-2bf578b67252",
   "metadata": {
    "tags": []
   },
   "source": [
    "## Tex Draft"
   ]
  },
  {
   "cell_type": "code",
   "execution_count": 12,
   "id": "4e141504-33ba-4d25-859f-04491a04ffbb",
   "metadata": {},
   "outputs": [],
   "source": [
    "pub_doc = tex.Tex( filepath=pm['tex_fp'] )"
   ]
  },
  {
   "cell_type": "markdown",
   "id": "eb7b7feb-e476-4751-a996-8e39f7397915",
   "metadata": {},
   "source": [
    "# Create a Reading List"
   ]
  },
  {
   "cell_type": "markdown",
   "id": "72171ba6-e9f6-4093-bbc5-18a0fce62e9f",
   "metadata": {
    "tags": []
   },
   "source": [
    "## Setup"
   ]
  },
  {
   "cell_type": "code",
   "execution_count": 13,
   "id": "350b7cab-e610-4c22-ab66-4dbb78693e81",
   "metadata": {},
   "outputs": [],
   "source": [
    "if pm['variation'] not in topics_data['not_included']:\n",
    "    topics_data['not_included'][pm['variation']] = []"
   ]
  },
  {
   "cell_type": "code",
   "execution_count": 14,
   "id": "df100dc0-878d-4722-b6a8-947712d771db",
   "metadata": {},
   "outputs": [],
   "source": [
    "def sort_by_similarity( target_key, c ):\n",
    "    \n",
    "    cospsi = c.cospsi( target_key, 'all' )\n",
    "    sort_inds = np.argsort(cospsi)[::-1]\n",
    "    sorted_cospsi = cospsi[sort_inds]\n",
    "    sorted_publications = c.publications[sort_inds]\n",
    "    \n",
    "    return sorted_cospsi, sorted_publications"
   ]
  },
  {
   "cell_type": "code",
   "execution_count": 62,
   "id": "f62a2bbd-aa39-421b-baef-f3f7ee2d0a51",
   "metadata": {},
   "outputs": [],
   "source": [
    "def print_sorted_publications(\n",
    "    sorted_cospsi,\n",
    "    sorted_publications,\n",
    "    kernel_size,\n",
    "    a,\n",
    "    show_unread_only = False,\n",
    "    do_not_show_included = True,\n",
    "    do_not_show_not_included = True,\n",
    "    central_publication = '',\n",
    "):\n",
    "\n",
    "#     print( 'The {} most related publications are...\\n'.format( kernel_size ) )\n",
    "\n",
    "    n_shown = 0\n",
    "    for i, key_i in enumerate( sorted_publications ):\n",
    "                \n",
    "        if i > kernel_size:\n",
    "            break\n",
    "                \n",
    "        if key_i not in a.data:\n",
    "            continue\n",
    "        \n",
    "        p_i = a[key_i]\n",
    "\n",
    "        if 'read' in p_i.notes:\n",
    "            read_flag = p_i.notes['read']\n",
    "        else:\n",
    "            read_flag = 'UNREAD'\n",
    "        if show_unread_only and read_flag != 'UNREAD':\n",
    "            continue\n",
    "            \n",
    "        included_flag = key_i in pub_doc.string           \n",
    "        deliberately_not_included = key_i in topics_data['not_included'][pm['variation']]\n",
    "        \n",
    "        if do_not_show_included and included_flag:\n",
    "            continue\n",
    "        if do_not_show_not_included and deliberately_not_included:\n",
    "            continue\n",
    "\n",
    "        if not isinstance( p_i, publication.UnofficialPublication ):\n",
    "            print( '{} -- {}'.format( n_shown, key_i, ) )\n",
    "            print( p_i.citation['title'] )\n",
    "            print( p_i.citation['author'] )\n",
    "            print( 'Related rank: {}.{}'.format( i, central_publication ) ) \n",
    "            print( 'Read: {}'.format( ''.join( read_flag ) ) )\n",
    "            print( 'Included: {}'.format( included_flag ) )\n",
    "            print( p_i.citation['ENTRYTYPE'] + '\\n' )\n",
    "            print( p_i.points_str() + '\\n\\n' )\n",
    "        else:\n",
    "            pass\n",
    "#             print( '{} -- {}'.format( n_shown, key_i, ) )\n",
    "#             print( 'Related rank: {}.{}'.format( i, central_publication ) ) \n",
    "        \n",
    "        n_shown += 1\n",
    "\n"
   ]
  },
  {
   "cell_type": "markdown",
   "id": "8b95166c-ee92-480c-bf78-e7f06011617b",
   "metadata": {
    "tags": []
   },
   "source": [
    "## Conservative Reading List\n",
    "For the average abstract in combination with chosen words."
   ]
  },
  {
   "cell_type": "markdown",
   "id": "c2836f21-2b6b-4274-a601-c06420706687",
   "metadata": {
    "tags": []
   },
   "source": [
    "### Create and add average vector"
   ]
  },
  {
   "cell_type": "code",
   "execution_count": 16,
   "id": "6911d5f5-2138-49e5-ac50-fc4171a20206",
   "metadata": {},
   "outputs": [],
   "source": [
    "# Can add chosen words if so wished.\n",
    "search_str = ''"
   ]
  },
  {
   "cell_type": "code",
   "execution_count": 17,
   "id": "0b9e5e45-ed74-4e52-8de0-69ffd33671ff",
   "metadata": {},
   "outputs": [],
   "source": [
    "for i, key_i in enumerate( pm['publications'] ):\n",
    "    search_str += a[key_i].points_str()"
   ]
  },
  {
   "cell_type": "code",
   "execution_count": 18,
   "id": "d5e1912c-9b6b-41f4-af32-e4021e73e325",
   "metadata": {},
   "outputs": [],
   "source": [
    "if 'search_str' in pm:\n",
    "    search_str += pm['search_str']"
   ]
  },
  {
   "cell_type": "code",
   "execution_count": 19,
   "id": "a7a7370f-aa5d-4e34-a149-668e487cf417",
   "metadata": {},
   "outputs": [],
   "source": [
    "p = publication.UnofficialPublication( pm['variation'] )"
   ]
  },
  {
   "cell_type": "code",
   "execution_count": 20,
   "id": "6d1df85a-d995-4e0d-a627-3f34037598df",
   "metadata": {},
   "outputs": [],
   "source": [
    "p.process_abstract( abstract_str=search_str )"
   ]
  },
  {
   "cell_type": "code",
   "execution_count": 21,
   "id": "996deefd-d226-4656-b251-a4f5bd8a22e6",
   "metadata": {},
   "outputs": [],
   "source": [
    "a.data[pm['variation']] = p"
   ]
  },
  {
   "cell_type": "code",
   "execution_count": 22,
   "id": "a9d980d8-3e62-4cea-a18b-a6fdfadbfbd9",
   "metadata": {},
   "outputs": [
    {
     "name": "stderr",
     "output_type": "stream",
     "text": [
      "100%|██████████| 1904/1904 [00:00<00:00, 84002.55it/s]\n",
      "100%|██████████| 17719/17719 [00:00<00:00, 112620.22it/s]\n",
      "100%|██████████| 1816/1816 [00:00<00:00, 113941.21it/s]\n",
      "100%|██████████| 16553/16553 [00:00<00:00, 111680.87it/s]\n"
     ]
    }
   ],
   "source": [
    "a.update( a_zotero )\n",
    "a.prune_duplicates(preferred=list(a_zotero.data.keys()))"
   ]
  },
  {
   "cell_type": "code",
   "execution_count": 23,
   "id": "e93f9c6a-12ed-493d-be58-025f3aac8805",
   "metadata": {},
   "outputs": [
    {
     "name": "stdout",
     "output_type": "stream",
     "text": [
      "Vectorizing text...\n",
      "    Retrieving publication data...\n"
     ]
    },
    {
     "name": "stderr",
     "output_type": "stream",
     "text": [
      "  0%|          | 0/18369 [00:00<?, ?it/s]/Users/zhafen/repos/cc/cc/publication.py:800: UserWarning: Hafen2021 is unofficial and has no publication date.\n",
      "  warnings.warn( warning_msg )\n",
      " 99%|█████████▉| 18270/18369 [00:00<00:00, 171526.40it/s]/Users/zhafen/repos/cc/cc/publication.py:800: UserWarning: thin_disk_galaxies is unofficial and has no publication date.\n",
      "  warnings.warn( warning_msg )\n",
      "100%|██████████| 18369/18369 [00:00<00:00, 126403.85it/s]"
     ]
    },
    {
     "name": "stdout",
     "output_type": "stream",
     "text": [
      "    Calculating vectorization...\n"
     ]
    },
    {
     "name": "stderr",
     "output_type": "stream",
     "text": [
      "\n"
     ]
    }
   ],
   "source": [
    "# Vectorize\n",
    "vp_dict = a.vectorize( overwrite=True, projection_fp='pass', )\n",
    "c = cartography.Cartographer( **vp_dict )"
   ]
  },
  {
   "cell_type": "markdown",
   "id": "7539c0ce-9cf7-413d-b7d0-c2484c4593d8",
   "metadata": {},
   "source": [
    "### Produce reading list"
   ]
  },
  {
   "cell_type": "code",
   "execution_count": 89,
   "id": "d8d7cfbb-3bac-42e0-96dd-73bf563d8e4d",
   "metadata": {},
   "outputs": [],
   "source": [
    "sorted_cospsi, sorted_publications = sort_by_similarity( pm['variation'], c )"
   ]
  },
  {
   "cell_type": "code",
   "execution_count": 90,
   "id": "a6f4bb4c-d122-464d-8864-e8be784d8fc7",
   "metadata": {},
   "outputs": [],
   "source": [
    "pub_doc = tex.Tex( filepath=pm['tex_fp'] )"
   ]
  },
  {
   "cell_type": "code",
   "execution_count": 109,
   "id": "d9060286-5c6e-4870-a5e2-e0ccad9221dc",
   "metadata": {},
   "outputs": [],
   "source": [
    "topics_data['not_included'][pm['variation']].append( '2012ApJ...750...10S' )\n",
    "topics_data['not_included'][pm['variation']] = list( set( topics_data['not_included'][pm['variation']] ) )\n",
    "topics_data.to_json( topics_fp )"
   ]
  },
  {
   "cell_type": "code",
   "execution_count": 110,
   "id": "3cf21c12-3844-4883-9d56-a36b4a3a888c",
   "metadata": {},
   "outputs": [],
   "source": [
    "print_sorted_publications(\n",
    "    sorted_cospsi,\n",
    "    sorted_publications,\n",
    "    pm['kernel_size'] * 2,\n",
    "    a,\n",
    "    do_not_show_included = True,\n",
    "    do_not_show_not_included = True,\n",
    "    central_publication = pm['variation'],\n",
    ")"
   ]
  },
  {
   "cell_type": "markdown",
   "id": "9507048e-125d-40b8-98fd-baf426e484c5",
   "metadata": {
    "tags": []
   },
   "source": [
    "## Extensive Reading List\n",
    "For each and everyone of the publications."
   ]
  },
  {
   "cell_type": "code",
   "execution_count": 28,
   "id": "380a9b9d-8255-4dfe-a5c9-e9d0bfcb99a6",
   "metadata": {},
   "outputs": [
    {
     "name": "stderr",
     "output_type": "stream",
     "text": [
      "100%|██████████| 1794/1794 [00:00<00:00, 112724.43it/s]\n",
      "100%|██████████| 16199/16199 [00:00<00:00, 109801.87it/s]\n"
     ]
    }
   ],
   "source": [
    "a_pubs = []\n",
    "sorted_cospsis = []\n",
    "sorted_publications = []\n",
    "for i, key_i in enumerate( pm['publications'] ):\n",
    "    a_i = atlas.Atlas(atlas_dir, load_bibtex=False, load_atlas_data=False )\n",
    "    a_i.data[key_i] = a[key_i]\n",
    "    \n",
    "    # Identify relevant publications\n",
    "    sorted_cospsi_i, sorted_publications_i = sort_by_similarity( key_i, c )\n",
    "    sorted_cospsis.append( sorted_cospsi_i )\n",
    "    sorted_publications.append( sorted_publications_i )\n",
    "\n",
    "    for key in sorted_publications_i:\n",
    "\n",
    "        # Get missing publications\n",
    "        if key in a_zotero.data:\n",
    "            a_i.data[key] = a_zotero.data[key]\n",
    "        elif key in a.data:\n",
    "            a_i.data[key] = a.data[key]\n",
    "\n",
    "    a_i.prune_duplicates(preferred=list(a_zotero.data.keys()))\n",
    "    \n",
    "    a_pubs.append( a_i )"
   ]
  },
  {
   "cell_type": "code",
   "execution_count": 29,
   "id": "16294c59-cbf4-47c6-8f1a-4696735d5800",
   "metadata": {},
   "outputs": [],
   "source": [
    "pub_doc = tex.Tex( filepath=pm['tex_fp'] )"
   ]
  },
  {
   "cell_type": "code",
   "execution_count": 30,
   "id": "9d228b81-e1f1-44f9-8688-37dfab0117ae",
   "metadata": {},
   "outputs": [],
   "source": [
    "topics_data['not_included'][pm['variation']].append( '2017MNRAS.466.3460V' )\n",
    "topics_data.to_json( topics_fp )"
   ]
  },
  {
   "cell_type": "code",
   "execution_count": 31,
   "id": "f1655fce-ac25-4091-974a-3bbf5579124f",
   "metadata": {
    "tags": []
   },
   "outputs": [
    {
     "name": "stdout",
     "output_type": "stream",
     "text": [
      "0 -- Bizyaev2021\n",
      "Spectral Observations of Superthin Galaxies\n",
      "Bizyaev, Dmitry and Makarov, D. I. and Reshetnikov, V. P. and Mosenkov, A. V. and Kautsch, S. J. and Antipova, A. V.\n",
      "Related rank: 0.Bizyaev2021\n",
      "Read: UNREAD\n",
      "Included: False\n",
      "article\n",
      "\n",
      "Comment: 28 pages, 14 figures, accepted by {ApJ} Comment: 28 pages, 14 figures, accepted by {ApJ} Comment: 28 pages, 14 figures, accepted by {ApJ} Comment: 28 pages, 14 figures, accepted by {ApJ} Comment: 28 pages, 14 figures, accepted by {ApJ} We conduct spectral observations of 138 superthin galaxies (STGs) with high radial-to-vertical stellar disk scale ratios with the Dual Imaging Spectrograph on the 3.5 m telescope at the Apache Point Observatory (APO) to obtain the ionized gas rotation curves with R ~5000 resolution. We also performed near-infrared (NIR) H and Ks photometry for 18 galaxies with the NICFPS camera on the 3.5 m telescope. The spectra, the NIR photometry, and published optical and NIR photometry are used for modeling that utilizes the thickness of the stellar disk and rotation curves simultaneously. The projection and dust extinction effects are taken into account. We evaluate eight models that differ in their free parameters and constraints. As a result, we estimated the masses and scale lengths of the galactic dark halos. We find systematic differences between the properties of our red and blue STGs. The blue STGs have a large fraction of dynamically underevolved galaxies whose vertical velocity dispersion is low in both gas and stellar disks. The dark halo-to-disk scale ratio is shorter in the red STGs than in the blue ones, but in a majority of all STGs, this ratio is under 2. The optical color (r - i) of the STGs correlates with their rotation curve maximum, vertical velocity dispersion in stellar disks, and mass of the dark halo. We conclude that there is a threshold central surface density of 50 M<SUB>⊙</SUB> pc<SUP>-2</SUP> below which we do not observe very thin, rotationally supported galactic disks.\n",
      "\n",
      "\n",
      "1 -- thin_disk_galaxies\n",
      "Related rank: 1.Bizyaev2021\n",
      "2 -- 2003ApJ...586..143K\n",
      "{Dark Matter within High Surface Brightness Spiral Galaxies}\n",
      "{Kranz}, Thilo and {Slyz}, Adrianne and {Rix}, Hans-Walter\n",
      "Related rank: 2.Bizyaev2021\n",
      "Read: UNREAD\n",
      "Included: False\n",
      "article\n",
      "\n",
      "We present results from a detailed dynamical analysis of five high surface brightness, late-type spiral galaxies, NGC 3810, NGC 3893, NGC 4254, NGC 5676, and NGC 6643, which were studied with the aim of quantifying the luminous-to-dark matter ratio inside their optical radii. The galaxies' stellar light distribution and gas kinematics have been observed and compared to hydrodynamic gas simulations that predict the gasdynamics arising in response to empirical gravitational potentials, which are combinations of differing stellar disk and dark halo contributions. The gravitational potential of the stellar disk was derived from near-infrared photometry, color corrected to yield a constant stellar mass-to-light ratio (M/L); for the dark halo, the mass density distribution of an axisymmetric isothermal sphere with a core was chosen. Hydrodynamic gas simulations were performed for each galaxy for a sequence of five different mass fractions of the stellar disk and for a wide range of spiral pattern speeds. These two parameters mainly determine the modeled gas distribution and kinematics. The agreement between the simulated and observed gas kinematics permitted us to conclude that the galaxies with the highest rotation velocities tend to possess very massive stellar disks that dominate the gasdynamics within the optical radius. In less massive galaxies, with a maximal rotation velocity of less than 200 km s<SUP>-1</SUP>, the mass of the dark halo at least equals the stellar mass within 2-3 disk scale lengths. The maximal disk stellar mass-to-light ratio in the K band was found to lie at about M/L<SUB>K</SUB>~0.6. Furthermore, the gasdynamic simulations provide a powerful tool for accurately determining the dominant spiral pattern speed for galaxies, independent of a specific density wave theory. It was found that the location of the corotation resonance falls into a narrow range of around three exponential disk scale lengths for all galaxies from the sample. The corotation resonance encloses the strong part of the stellar spiral in all cases. Based on the experience gained from this project, the use of a color correction to account for local stellar population differences is strongly encouraged when properties of galactic disks are studied that rely on their stellar mass distributions.\n",
      "\n",
      "\n",
      "3 -- 2001ApJ...546..931W\n",
      "{The Disk and Dark Halo Mass of the Barred Galaxy NGC 4123. II. Fluid-Dynamical Models}\n",
      "{Weiner}, Benjamin J. and {Sellwood}, J.~A. and {Williams}, T.~B.\n",
      "Related rank: 3.Bizyaev2021\n",
      "Read: UNREAD\n",
      "Included: False\n",
      "article\n",
      "\n",
      "We report a dynamical determination of the separate contributions of disk and dark halo masses to the rotation curve of a spiral galaxy. We use fluid-dynamical models of gas flow in the barred galaxy NGC 4123 to constrain the dynamical properties of the galaxy: disk M/L, bar pattern speed, and the central density and scale radius of the dark halo. We derive a realistic barred potential directly from the light distribution. For each model we assume a value of the stellar M/L and a bar pattern speed Ω<SUB>p</SUB> and add a dark halo to fit the rotation curve. We then compute the gas flow velocities with a two-dimensional gasdynamical code and compare the model flow patterns to a two-dimensional velocity field derived from Fabry-Perot observations. The strong shocks and noncircular motions in the observed gas flow require a high stellar M/L and a fast-rotating bar. Models with I-band disk M/L of 2.0-2.5 h<SUB>75</SUB>, or 80%-100% of the maximum disk value, are highly favored. The corotation radius of the bar must be &lt;=1.5 times the bar semimajor axis. These results contradict some recent claimed ``universal'' galaxy disk/halo relations, since NGC 4123 is of modest size (rotation curve maximum 145 km s<SUP>-1</SUP> and V<SUB>flat</SUB>=130 km s<SUP>-1</SUP>) yet quite disk-dominated. The dark halo of NGC 4123 is less concentrated than favored by current models of dark halos based on cosmological simulations. Since some 30% of bright disk galaxies are strongly barred and have dust lanes indicating shock morphology similar to that of NGC 4123, it is likely that they also have high stellar M/L and low-density halos. We suggest that luminous matter dominates inside the optical radius R<SUB>25</SUB> of high surface brightness disk galaxies.\n",
      "\n",
      "\n",
      "4 -- 1989ApJ...347..760C\n",
      "{Optical and H i Studies of the ``Gas-rich'' Dwarf Irregular Galaxy DDO 154}\n",
      "{Carignan}, Claude and {Beaulieu}, Sylvie\n",
      "Related rank: 4.Bizyaev2021\n",
      "Read: UNREAD\n",
      "Included: False\n",
      "article\n",
      "\n",
      "A study of the luminous and dark components of the dwarf irregular galaxy DDO 154 is presented. From the surface photometry, a scale length α^-1^ = 0.5 kpc and a central surface brightness B(0)_c_ = 23.17 are derived for the stellar disk with mean colors typical of Im galaxies. The photometry of the brightest blue stars, combined with the likely association with the CVn I cloud, suggest a distance {DELTA} &lt;= 4.0 Mpc. DDO 154 is one of the most gas-rich galaxy known with (M_HI_/L_B_) = 5.4. The H I disk reaches nearly 5 Holmberg diameters (D_H0_). From the very regular velocity field, the rotation curve is derived unambiguously out to 15 optical scale lengths. There is a clear flattening of the rotation curve for r &gt; 4' and an indication that it may be declining in the very outer parts. The shape of the rotation curve, and the fact that for r &gt; 2 kpc it is completely dominated by the dark component, allow one to constrain almost uniquely the parameters of the mass model. The final model has (M/L_B_)_*_ = 1.0 (M_sun_/L_sun_) for the stellar disk, a core radius r_c_ = 3.0 kpc, and a central density ρ_0_ = 0.015 M_sun_ pc^-3^ for the dark isothermal halo. At the last observed point (r = 7.6 kpc), more than 90% of the mass is dark.\n",
      "\n",
      "\n",
      "5 -- 1997AJ....113.1591W\n",
      "{The Giant, Gas-Rich, Low-Surface-Brightness Galaxy NGC 289}\n",
      "{Walsh}, Wilfred and {Staveley-Smith}, Lister and {Oosterloo}, Tom\n",
      "Related rank: 5.Bizyaev2021\n",
      "Read: UNREAD\n",
      "Included: False\n",
      "article\n",
      "\n",
      "Using Australia Telescope Compact Array neutral hydrogen and Anglo-Australian Telescope optical observations, we investigate the distribution of luminous and dark matter in the giant, gas-rich, low-surface-brightness galaxy NGC 289. The observations show NGC 289 to have a high H 1-to-stellar mass ratio (M_HI/M_* ~ 0.4), and an extremely large H 1 radius (70 kpc, or ~ 13 disk scale-lengths), making the H 1 velocity field an excellent probe of a galaxy dark halo to an unusually large radius. Between ~ 10 kpc and 30 kpc the rotation curve dips by 14% of the maximum velocity. Warped disk and spiral density wave models are investigated to explain this dip and to determine the cause of significant velocity deviations in the vicinity of the H 1 spiral arms. The best-fit kinematic model has M / L_I = 2.1 M<SUB>sun</SUB>/L<SUB>sun</SUB> for the stellar disk, only slightly lower than the maximum disk value of 2.3. A dark matter halo of 3.5x 10(11) M<SUB>sun</SUB> is present, which is ~ 3.5 times as massive as the combined stellar and gaseous components at the last measured point on the rotation curve.\n",
      "\n",
      "\n",
      "6 -- 2002PhDT.........1K\n",
      "{Dark matter in spiral galaxies}\n",
      "{Kranz}, Thilo\n",
      "Related rank: 6.Bizyaev2021\n",
      "Read: UNREAD\n",
      "Included: False\n",
      "phdthesis\n",
      "\n",
      "This thesis presents a detailed dynamic analysis of five high surface brightness, late type spiral galaxies NGC 3810, NGC 3893, NGC 4254, NGC 5676 and NGC 6643, which were studied with the aim to quantify the luminous-to-dark matter ratio inside their optical radii. In order to meet this goal, the galaxies' morphology and gas kinematics have been observed and compared to hydrodynamic gas simulations which were performed to predict the gas dynamics arising in response to realistic two dimensional gravitational potentials, combined from stellar disk and dark halo contributions. The gravitational potential of the stellar disk was derived from color-corrected NIR photometry and for the dark halo, the mass density distribution of an axisymmetric isothermal sphere with a core was chosen. The rather good agreement between the simulated and observed gas kinematics permitted to conclude that the most massive galaxies tend to possess also very massive stellar disks, dominating the gas dynamics within the optical radius. In less massive galaxies with a maximal rotation velocity of &lt;200 km s<SUP>-1</SUP>, the mass of the dark halo already equals the stellar mass. The maximal disk stellar mass-to-light ratio in the K-band was found to lie at about M/L<SUB>K</SUB> ≍ 0.6. Furthermore, the gas dynamic simulations provide a powerful tool to accurately determine the spiral pattern speed for galaxies, independent of a specific density wave theory. It was found that the location of the corotation resonance falls into a narrow range of around three exponential disk scale lengths for all galaxies from the sample. The corotation resonance encloses the strong part of the stellar spiral in all cases. Based on the experience gained from this project, the use of a color-correction to account for local stellar population differences is strongly encouraged when properties of galactic disks are studied which rely on their stellar mass distributions.\n",
      "\n",
      "\n",
      "7 -- 2002AstL...28..527Z\n",
      "{Relationship between the Thickness of Stellar Disks and the Relative Mass of a DarkGalactic Halo}\n",
      "{Zasov}, A.~V. and {Bizyaev}, D.~V. and {Makarov}, D.~I. and {Tyurina}, N.~V.\n",
      "Related rank: 7.Bizyaev2021\n",
      "Read: UNREAD\n",
      "Included: False\n",
      "article\n",
      "\n",
      "We consider a thickness of stellar disks of late-type galaxies by analyzing the R and K_s band photometric profiles for two independent samples of edge-on galaxies. The main goal is to verify a hypotesis that a thickness of old stellar disks is related to the relative masses of the spherical and disk components of galaxies. We confirm that the radial-to-vertical scale length ratio for galactic disks increases (the disks become thinner) with the increasing of total mass-to-light ratio of the galaxies, which characterize the contribution of dark halo to the total mass, and with the decreasing of central deprojected disk brightness (surface density). Our results are in good agreement with numerical models of collisionless disks evolved from subcritical velocity dispersion state to a marginally stable equilibrium state. This suggests that in most galaxies the vertical stellar velocity dispersion, which determine the equilibrium disk thickness, is close to the minimum value, that ensures disk stability. The thinnest edge-on disks appear to be low brightness galaxies (after deprojection) in which a dark halo mass far exceeds a mass of the stellar disk.\n",
      "\n",
      "\n",
      "8 -- 2020AN....341..314B\n",
      "{Near-infrared photometry of superthin edge-on galaxies}\n",
      "{Bizyaev}, Dmitry and {Tatarnikov}, Andrey and {Shatsky}, Nikolai and {Najip}, Aurik and {Birlak}, Marina and {Voziakova}, Olga\n",
      "Related rank: 8.Bizyaev2021\n",
      "Read: UNREAD\n",
      "Included: False\n",
      "article\n",
      "\n",
      "We perform near-infrared photometry of a large sample of 49 superthin edge-on galaxies. These galaxies are selected based on optical photometry because of high radial-to-vertical scale ratio in their stellar disks. The near infrared (NIR) H and K observations were conducted with the cryogenic-cooled camera ASTRONIRCAM on the 2.5 m telescope at the Caucasus Mountain Observatory of Lomonosov Moscow State University. A majority of galaxies in our sample show comparable or better photometric depth than the Sloan Digital Sky Survey (SDSS) optical images. We estimate the structural parameters of stellar disks in the galaxies and find that the NIR scale height of stellar disks is comparable to that estimated from the optical, SDSS g, r and i, whereas the H and K scale length of the stellar disks is significantly shorter than in the g, r, and i. We investigate if a realistic distribution of dust alone can explain the difference in the scale length and find that in the majority of the galaxies the radial variation of the stellar population is actually responsible for the color distribution. The latter suggests a younger age of the disks periphery, and the inside out building up of stellar disks in the superthin galaxies.\n",
      "\n",
      "\n",
      "9 -- 2014A&A...572A..23C\n",
      "{Dynamical signatures of a {\\ensuremath{\\Lambda}}CDM-halo and the distribution of the baryons in M 33}\n",
      "{Corbelli}, Edvige and {Thilker}, David and {Zibetti}, Stefano and {Giovanardi}, Carlo and {Salucci}, Paolo\n",
      "Related rank: 9.Bizyaev2021\n",
      "Read: UNREAD\n",
      "Included: False\n",
      "article\n",
      "\n",
      "<BR /> Aims: We determine the mass distribution of stars, gas, and dark matter in M 33 to test cosmological models of galaxy formation and evolution. <BR /> Methods: We map the neutral atomic gas content of M 33 using high resolution Very Large Array and Green Bank Telescope observations of the 21 cm HI line emission. A tilted ring model is fitted to the HI datacube to determine the varying spatial orientation of the extended gaseous disk and the rotation curve. We derive the stellar mass surface density map of M 33's optical disk via pixel-SED fitting methods based on population synthesis models that allow for positional changes in star formation history. Stellar and gas maps are used in the dynamical analysis of the rotation curve to constrain the dark halo properties. <BR /> Results: The disk of M 33 warps from 8 kpc outward without substantial change of its inclination with respect to the line of sight; the line of nodes rotates clockwise toward the direction of M 31. Rotational velocities rise steeply with radius in the inner disk, reaching 100 km s<SUP>-1</SUP> in 4 kpc, then the rotation curve becomes more perturbed and flatter with velocities as high as 120-130 km s<SUP>-1</SUP> out to 2.7 R<SUB>25</SUB>. The stellar surface density map highlights a star-forming disk with a varying mass-to-light ratio. At larger radii, a dynamically relevant fraction of the baryons are in gaseous form. A dark matter halo with a Navarro-Frenk-White density profile, as predicted by hierarchical clustering and structure formation in a ΛCDM cosmology, provides the best fits to the rotation curve. Dark matter is relevant at all radii in shaping the rotation curve and the most likely dark halo has a concentration C ≃ 9.5 and a total mass of 4.3(±1.0) × 10<SUP>11</SUP> M<SUB>⊙</SUB>. This imples a baryonic fraction of order 0.02 and the evolutionary history of this galaxy should therefore account for loss of a large fraction of its original baryonic content. <P />Appendices are available in electronic form at <A href=\"http://www.aanda.org/10.1051/0004-6361/201424033/olm\">http://www.aanda.org</A>\n",
      "\n",
      "\n",
      "10 -- 2008ARep...52...79Z\n",
      "{Early-type disk galaxies: Structure and kinematics}\n",
      "{Zasov}, A.~V. and {Moiseev}, A.~V. and {Khoperskov}, A.~V. and {Sidorova}, E.~A.\n",
      "Related rank: 10.Bizyaev2021\n",
      "Read: UNREAD\n",
      "Included: False\n",
      "article\n",
      "\n",
      "Spectroscopic observations of three lenticular (S0) galaxies (NGC 1167, NGC 4150, and NGC 6340) and one SBa galaxy (NGC 2273) have been taken with the 6-m telescope of the Special Astrophysical Observatory of the Russian Academy of Sciences aimed to study the structure and kinematic properties of early-type disk galaxies. The radial profiles of the stellar radial velocities and the velocity dispersion are measured. N-body simulations are used to construct dynamical models of galaxies containing a stellar disk, bulge, and halo. The masses of individual components are estimated formaximum-mass disk models. A comparison of models with estimated rotational velocities and the stellar velocity dispersion suggests that the stellar disks in lenticular galaxies are \"overheated\"; i.e., there is a significant excess velocity dispersion over the minimum level required to maintain the stability of the disk. This supports the hypothesis that the stellar disks of S0 galaxies were subject to strong gravitational perturbations. The relative thickness of the stellar disks in the S0 galaxies considered substantially exceed the typical disk thickness of spiral galaxies.\n",
      "\n",
      "\n",
      "11 -- 2005ApJ...619..218D\n",
      "{Mass Modeling of Disk Galaxies: Degeneracies, Constraints, and Adiabatic Contraction}\n",
      "{Dutton}, Aaron A. and {Courteau}, St{\\'e}phane and {de Jong}, Roelof and {Carignan}, Claude\n",
      "Related rank: 11.Bizyaev2021\n",
      "Read: UNREAD\n",
      "Included: False\n",
      "article\n",
      "\n",
      "This paper addresses available constraints on mass models fitted to rotation curves. Mass models of disk galaxies have well-known degeneracies that prevent a unique mass decomposition. The most notable is due to the unknown value of the stellar mass-to-light ratio (the disk-halo degeneracy); even with this known, degeneracies between the halo parameters themselves may prevent an unambiguous determination of the shape of the dark halo profile, which includes the inner density slope of the dark matter halo. The latter is often referred to as the ``cusp-core degeneracy.'' We explore constraints on the disk and halo parameters and apply these to four mock and six observed disk galaxies with high resolution and extended rotation curves. Our full set of constraints consists of mass-to-light (M/L) ratios from stellar population synthesis models based on B-R colors, constraints on halo parameters from N-body simulations, and constraining the halo virial velocity to be less than the maximum observed velocity. These constraints are only partially successful in lifting the cusp-core degeneracy. The effect of adiabatic contraction of the halo by the disk is to steepen cores into cusps and reduce the best-fit halo concentration and M/L values (often significantly). We also discuss the effect of disk thickness, halo flattening, distance errors, and rotation curve error values on mass modeling. Increasing the imposed minimum rotation curve error from typically low, underestimated values to more realistic estimates decreases the χ<SUP>2</SUP> substantially and makes distinguishing between a cuspy or cored halo profile even more difficult. In spite of the degeneracies and uncertainties present, our constrained mass modeling favors submaximal disks (i.e., a dominant halo) at 2.2 disk scale lengths, with V<SUB>disk</SUB>/V<SUB>tot</SUB>&lt;~0.6. This result holds for both the unbarred and weakly barred galaxies in our sample.\n",
      "\n",
      "\n",
      "12 -- 2010A&A...519A..47A\n",
      "{Self-consistent nonspherical isothermal halos embedding zero-thickness disks}\n",
      "{Amorisco}, N.~C. and {Bertin}, G.\n",
      "Related rank: 12.Bizyaev2021\n",
      "Read: UNREAD\n",
      "Included: False\n",
      "article\n",
      "\n",
      "Context. That the rotation curves of spiral galaxies are generally flat in the outer regions is commonly considered an indication that galaxy disks are embedded in quasi-isothermal halos. In practice, disk-halo decompositions of galaxy rotation curves are performed in a parametric way by modeling the halo force contribution by means of expressions that approximately describe the properties of the regular isothermal sphere or other spherical density distributions suggested by cosmological simulations. <BR /> Aims: In this paper we construct self-consistent models of nonspherical isothermal halos embedding a zero-thickness disk, by assuming that the halo distribution function is a Maxwellian. The general method developed here can also be used to study the properties of other physically-based choices for the halo distribution function and to the case of a disk accompanied by a bulge. <BR /> Methods: The construction was performed by means of an iterative procedure that generalizes a method introduced in the past to construct spheroidal models of rotating elliptical galaxies. In a preliminary investigation, which set the empirical framework to study the self-consistent models developed in this paper, we note the existence of a fine tuning between the scalelengths R<SUB>Ω</SUB> and h, respectively characterizing the rise of the rotation curve and the luminosity profile of the disk, which surprisingly applies to both high surface brightness and low surface brightness galaxies in similar ways. We show that this empirical correlation identifies a much stronger conspiracy than the one required by the smoothness and flatness of the rotation curve and often referred to as disk-halo conspiracy. <BR /> Results: As a natural property, the self-consistent models presented in this paper are found to be characterized by smooth and flat rotation curves for very different disk-to-halo mass ratios, hence suggesting that conspiracy is not as dramatic as often imagined. For a typical, observed rotation curve, with asymptotically flat rotation curve at V<SUB>∞</SUB> (the precise value of which can also be treated as a free parameter), and a typical density profile of the disk, the relevant self-consistent models are characterized by two dimensionless parameters, which correspond to the dimensional scales (the disk mass-to-light ratio M/L and the halo central density) of standard disk-halo decompositions. We find that, if the rotation curve is decomposed by means of our self-consistent models, the disk-halo degeneracy is removed and that typical rotation curves are fitted by models that are below the maximum-disk prescription. Similar results are obtained from a study of NGC 3198. Finally, we quantify the flattening of the spheroidal halo, which is significant, especially on the scale of the visible disk. <P />Appendices A and B are only available in electronic form at <A href=\"http://www.aanda.org\">http://www.aanda.org</A>\n",
      "\n",
      "\n",
      "13 -- 2000AJ....120.2884P\n",
      "{Maximum Disk Mass Models for Spiral Galaxies}\n",
      "{Palunas}, Povilas and {Williams}, T.~B.\n",
      "Related rank: 13.Bizyaev2021\n",
      "Read: UNREAD\n",
      "Included: False\n",
      "article\n",
      "\n",
      "We present axisymmetric maximum disk mass models for a sample of 74 spiral galaxies taken from the southern sky Fabry-Perot Tully-Fisher survey by Schommer et al. The sample contains galaxies spanning a large range of morphologies and having rotation widths from 180 km s<SUP> -1</SUP> to 680 km s<SUP> -1</SUP>. For each galaxy we have an I-band image and a two-dimensional Hα velocity field. We decompose the disk and bulge by fitting models directly to the I-band image. This method utilizes both the distinct surface brightness profiles and shapes of the projected disk and bulge in the galaxy images. The luminosity profiles and rotation curves are derived using consistent centers, position angles, and inclinations derived from the photometry and velocity maps. The distribution of mass is modeled as a sum of disk and bulge components with distinct, constant mass-to-light ratios. No dark matter halo is included in the fits. The models reproduce the overall structure of the rotation curves in the majority of galaxies, providing good fits to galaxies that exhibit pronounced structural differences in their surface brightness profiles. Of galaxies for which the rotation curve is measured to R<SUB>23.5</SUB> or beyond 75% are well fitted by a mass-traces-light model for the entire region within R<SUB>23.5</SUB>. The models for about 20% of the galaxies do not fit well; the failure of most of these models is traced directly to nonaxisymmetric structures, primarily bars but also strong spiral arms. The median I-band M/L of the disk plus bulge is 2.4+/-0.9 h<SUB>75</SUB> in solar units, consistent with normal stellar populations. These results require either that the mass of dark matter within the optical disk of spiral galaxies is small or that its distribution is very precisely coupled to the distribution of luminous matter.\n",
      "\n",
      "\n",
      "14 -- 1991A&A...242..334G\n",
      "{A rotation curve study of the dwarf SC galaxy UGC 2259.}\n",
      "{Gonzalez-Serrano}, J.~I. and {Valentijn}, E.~A.\n",
      "Related rank: 14.Bizyaev2021\n",
      "Read: UNREAD\n",
      "Included: False\n",
      "article\n",
      "\n",
      "Scanning Fabry-Perot interferometry of the dwarf galaxy UGC 2259 in the [OIII] λ5007 A line is presented. The velocities of twenty [OIII] emission regions belonging to the galaxy were measured. From two separate data cubes, we obtained the rotation curve of the galaxy in the radial range 0.25 - 2.5 kpc. The velocity field is regular and does not show large deviations from pure circular motion. The new high spatial resolution data of the central part of the galaxy, together with previous HI measurements of the outer parts, are used to analyse the detailed mass distribution in the system. A disk model, with mass following the radial luminosity profile, can not produce the observed rotation curve. A satisfactory fit is obtained by adding a dark halo component. At the Holmberg radius, the amount of dark matter in UGC 2259 then would be between 0.7 and 0.8 times the luminous mass in the disk. This value is in the range of the dark-to-luminous mass ratios in brighter galaxies. The mass-to-light ratio obtained for the disk is 5.6-5.7. An alternative two component mass model is presented, without a halo, but containing two separate disk components, one conforming the stellar distribution, the second meant to represent the distribution of visual light obscuring material. A satisfactory fit to the observed rotation curve has been obtained straightforwardly, with both the inter-relation between the two components and the resulting extinction properties in agreement with recent constraints, as obtained from the analysis of the optical properties of ESO-LV disks (Valentijn 1990a,b). As an example, we also present a similar two-disk fit to the Sc galaxy NGC 3198. The evidence for opaque disks, also in dwarf Sc's and the avoidance of the \"disk-halo conspiracy\", seem to favour the two-disk solution over the disk-halo solution. We also determine the size distribution of the HII regions in UGC 2259 and obtained a scale diameter of 26 pc in agreement with the value expected for low luminosity spiral galaxies.\n",
      "\n",
      "\n",
      "15 -- 1987AJ.....93..816K\n",
      "{Dark Matter in Spiral Galaxies. II. Galaxies with H I Rotation Curves}\n",
      "{Kent}, Stephen M.\n",
      "Related rank: 15.Bizyaev2021\n",
      "Read: UNREAD\n",
      "Included: False\n",
      "article\n",
      "\n",
      "Luminosity profiles and rotation curves for 16 galaxies are analyzed to study the light and mass distribution in each galaxy. The mass distribution is modeled as the sum of bulge and disk stellar components and a dark halo. Mass/light ratios of the bulge and disk and two parameters to describe the halo are derived for each galaxy. In contrast to the situation where only optical rotation curves are available, all galaxies with H I rotation curves show evidence for dark matter. Although the relative contributions of stellar and dark matter are not well determined, the stellar component is usually close (70% or more) to its maximum possible value (the maximum-disk solution). The shapes of the luminosity profiles and rotation curves are correlated. The nature of the disk-halo conspiracy required to produce the rather featureless rotation curves is examined. As an alternative to the dark matter hypothesis, Milgrom's theory of modified Newtonian dynamics is also used to analyze the rotation curves.\n",
      "\n",
      "\n",
      "16 -- 1990AJ....100..648J\n",
      "{The Dark Side of NGC 3109}\n",
      "{Jobin}, Marc and {Carignan}, Claude\n",
      "Related rank: 16.Bizyaev2021\n",
      "Read: UNREAD\n",
      "Included: False\n",
      "article\n",
      "\n",
      "New optical and radio observations of NGC 3109 (DDO 236) are presented. From the surface photometry in the I band, a scale length a^-1^ = 3.11' is found for the exponential disk. Comparison with previously published B photometry shows that the surface color remains nearly constant with radius out to 11'. Radio synthesis imaging in the H I spectral line reveals a gaseous envelope 40' X 12' in size. The H I distribution is severely warped in the outer parts, with a ~5-kpc-long appendage on the southwest side. A tilted ring model of the observed velocity field yields a slowly rising rotation curve; neither the turnover point nor the flat portion are reached with the present observations. The maximum rotational velocity is only ~-67 km s^-1^ at the last measured point of the rotation curve. Studying the mass distribution, a \"no dark-matter\" model with constant maximum (M/L_B_)= 1.1 for the stellar disk and including the distribution of the H I fails to reproduce the observed rotation curve. Combining the luminous matter with a dark, isothermal halo, gives (M/L_B_) = 0.5+0.2 for the disk, and a core radius r_c_ = 6.7 +/- 0.7 kpc with a one-dimensional velocity dispersion σ = 47.0 +/- 2.0 kms^-1^ for the halo component. While those two parameters are not well constrained, the central density of the halo ρ_0_~/- 0.008 +/- 0.001 M_sun_pc^-3^ is much better defined. At the last measured point of the rotation curve, NGC 3109 is entirely dominated by dark matter. In fact, the contribution from the dark component dominates at nearly all radii; for this system, there is clearly no \"disk-halo conspiracy.\" Finally, it is shown that for NGC 3109, the H I gas traces the dark matter distribution very well.\n",
      "\n",
      "\n"
     ]
    }
   ],
   "source": [
    "for i, a_i in enumerate( a_pubs ):\n",
    "    \n",
    "#     print( '===============================================================================' )\n",
    "#     print( pm['publications'][i] + '\\n' )\n",
    "    \n",
    "    print_sorted_publications(\n",
    "        sorted_cospsis[i],\n",
    "        sorted_publications[i],\n",
    "        pm['kernel_size'],\n",
    "        a_i,\n",
    "        do_not_show_included = True,\n",
    "        do_not_show_not_included = True,\n",
    "        central_publication = pm['publications'][i],\n",
    "    )"
   ]
  },
  {
   "cell_type": "code",
   "execution_count": null,
   "id": "d3db88ab-3ae3-4490-9329-a6c3785d0e1e",
   "metadata": {},
   "outputs": [],
   "source": []
  },
  {
   "cell_type": "code",
   "execution_count": null,
   "id": "721bec52-5366-4639-887c-3ae4a1807269",
   "metadata": {},
   "outputs": [],
   "source": []
  }
 ],
 "metadata": {
  "kernelspec": {
   "display_name": "Python 3",
   "language": "python",
   "name": "python3"
  },
  "language_info": {
   "codemirror_mode": {
    "name": "ipython",
    "version": 3
   },
   "file_extension": ".py",
   "mimetype": "text/x-python",
   "name": "python",
   "nbconvert_exporter": "python",
   "pygments_lexer": "ipython3",
   "version": "3.9.6"
  }
 },
 "nbformat": 4,
 "nbformat_minor": 5
}
