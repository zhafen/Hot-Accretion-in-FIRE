{
 "cells": [
  {
   "cell_type": "code",
   "execution_count": 1,
   "id": "3eef3471-0d5b-4829-bb49-93d9a1bf03cd",
   "metadata": {},
   "outputs": [],
   "source": [
    "import ast\n",
    "import copy\n",
    "import numpy as np\n",
    "import os"
   ]
  },
  {
   "cell_type": "code",
   "execution_count": 2,
   "id": "1b45a75a-49af-4a69-8e52-f22df0af0d96",
   "metadata": {},
   "outputs": [],
   "source": [
    "import cc.atlas as atlas\n",
    "import cc.cartography as cartography\n",
    "import cc.publication as publication\n",
    "import cc.utils as utils\n",
    "import cc.tex as tex"
   ]
  },
  {
   "cell_type": "code",
   "execution_count": 3,
   "id": "9742dac7-df12-4f7f-9035-106fd5c8bd36",
   "metadata": {},
   "outputs": [],
   "source": [
    "import trove\n",
    "import verdict"
   ]
  },
  {
   "cell_type": "markdown",
   "id": "01455185-77b9-4443-9e4c-ec55289c1324",
   "metadata": {
    "tags": []
   },
   "source": [
    "# Literature Review\n",
    "\n",
    "This notebook contains a record of how I performed the literature review for this work."
   ]
  },
  {
   "cell_type": "markdown",
   "id": "2d02929c-d4b0-4c95-94b6-3f7613d4f77c",
   "metadata": {},
   "source": [
    "# Parameters"
   ]
  },
  {
   "cell_type": "code",
   "execution_count": 4,
   "id": "cbaf46ef-ed61-445e-91ce-905784206dbb",
   "metadata": {},
   "outputs": [],
   "source": [
    "config_fp = '/Users/zhafen/paper_repos/Hot-Accretion-in-FIRE/literature_review/literature_review.trove'\n",
    "cp = trove.config_parser.ConfigParser( config_fp )\n",
    "pm = trove.link_params_to_config(\n",
    "    config_fp,\n",
    "    variation = 'coronal_mixing_accretion',\n",
    ")"
   ]
  },
  {
   "cell_type": "code",
   "execution_count": 5,
   "id": "55a891a7-35cb-4237-989f-3c2dec90d3f2",
   "metadata": {},
   "outputs": [],
   "source": [
    "atlas_dir = pm['root_data_dir']"
   ]
  },
  {
   "cell_type": "code",
   "execution_count": 6,
   "id": "663da3b0-c3f6-4df3-900b-2a904c40047b",
   "metadata": {},
   "outputs": [],
   "source": [
    "topics = {}\n",
    "for variation in cp.variations:\n",
    "    topics[variation] = ast.literal_eval( cp.get( variation, 'publications' ) )"
   ]
  },
  {
   "cell_type": "markdown",
   "id": "f6489937-4f3a-4358-b99c-0255cff2effa",
   "metadata": {
    "tags": []
   },
   "source": [
    "# Load Data"
   ]
  },
  {
   "cell_type": "markdown",
   "id": "346234c8-e5bb-4023-a5cf-cfddec7a8b0e",
   "metadata": {},
   "source": [
    "## Topics Data"
   ]
  },
  {
   "cell_type": "code",
   "execution_count": 7,
   "id": "16e275ac-00ca-4ade-9f4a-2423980be847",
   "metadata": {},
   "outputs": [],
   "source": [
    "topics_fp = os.path.join( pm['root_data_dir'], 'topics.json' )\n",
    "topics_data = verdict.Dict.from_json( topics_fp, create_nonexisting=True )\n",
    "if 'not_included' not in topics_data:\n",
    "    topics_data['not_included'] = {}"
   ]
  },
  {
   "cell_type": "markdown",
   "id": "98f0e0a0-7ed9-41ad-a8bb-af5651b41e81",
   "metadata": {
    "tags": []
   },
   "source": [
    "## Zotero Atlas"
   ]
  },
  {
   "cell_type": "code",
   "execution_count": 8,
   "id": "94785674-430a-42e4-8411-690472baca03",
   "metadata": {},
   "outputs": [
    {
     "name": "stdout",
     "output_type": "stream",
     "text": [
      "Loading saved atlas data.\n"
     ]
    },
    {
     "name": "stderr",
     "output_type": "stream",
     "text": [
      "0it [00:00, ?it/s]\n",
      "100%|██████████| 1870/1870 [00:00<00:00, 17024.59it/s]\n"
     ]
    }
   ],
   "source": [
    "# Larger atlas\n",
    "a_zotero = atlas.Atlas( atlas_dir, load_bibtex=False, data_fp=pm['zotero_atlas_fp'] )"
   ]
  },
  {
   "cell_type": "code",
   "execution_count": 9,
   "id": "8e4e9beb-6be2-45af-9268-c5c01aa9b709",
   "metadata": {},
   "outputs": [
    {
     "name": "stdout",
     "output_type": "stream",
     "text": [
      "Vectorizing text...\n",
      "Using saved vectorized text...\n"
     ]
    },
    {
     "name": "stderr",
     "output_type": "stream",
     "text": [
      "/Users/zhafen/repos/verdict/verdict.py:1404: FutureWarning: Using a non-tuple sequence for multidimensional indexing is deprecated; use `arr[tuple(seq)]` instead of `arr[seq]`. In the future this will be interpreted as an array index, `arr[np.array(seq)]`, which will result either in an error or a different result.\n",
      "  if hasattr( a[first_element_index][0], 'decode' ):\n"
     ]
    }
   ],
   "source": [
    "# Vectorization\n",
    "vp_dict = a_zotero.vectorize( projection_fp=pm['zotero_projection_fp'] )\n",
    "c_zotero = cartography.Cartographer( **vp_dict )"
   ]
  },
  {
   "cell_type": "markdown",
   "id": "82099566-7642-4b5b-bb0b-ea425253c6ce",
   "metadata": {
    "tags": []
   },
   "source": [
    "## Large Atlas"
   ]
  },
  {
   "cell_type": "code",
   "execution_count": 10,
   "id": "1e0fb8bb-5ccb-4773-94d8-665322bd7b86",
   "metadata": {},
   "outputs": [
    {
     "name": "stdout",
     "output_type": "stream",
     "text": [
      "Loading saved atlas data.\n"
     ]
    },
    {
     "name": "stderr",
     "output_type": "stream",
     "text": [
      "0it [00:00, ?it/s]\n",
      "100%|██████████| 16186/16186 [00:00<00:00, 25996.39it/s]\n"
     ]
    }
   ],
   "source": [
    "# Larger atlas\n",
    "a = atlas.Atlas( atlas_dir, load_bibtex=False, )"
   ]
  },
  {
   "cell_type": "code",
   "execution_count": 11,
   "id": "86ce9cb5-252d-4330-8b98-0698e7715260",
   "metadata": {},
   "outputs": [
    {
     "name": "stdout",
     "output_type": "stream",
     "text": [
      "Vectorizing text...\n",
      "Using saved vectorized text...\n"
     ]
    }
   ],
   "source": [
    "# Vectorization\n",
    "vp_dict = a.vectorize()\n",
    "c = cartography.Cartographer( **vp_dict )"
   ]
  },
  {
   "cell_type": "markdown",
   "id": "52c58dce-de2c-435e-b3e8-2bf578b67252",
   "metadata": {
    "tags": []
   },
   "source": [
    "## Tex Draft"
   ]
  },
  {
   "cell_type": "code",
   "execution_count": 12,
   "id": "4e141504-33ba-4d25-859f-04491a04ffbb",
   "metadata": {},
   "outputs": [],
   "source": [
    "pub_doc = tex.Tex( filepath=pm['tex_fp'] )"
   ]
  },
  {
   "cell_type": "markdown",
   "id": "eb7b7feb-e476-4751-a996-8e39f7397915",
   "metadata": {},
   "source": [
    "# Create a Reading List"
   ]
  },
  {
   "cell_type": "markdown",
   "id": "72171ba6-e9f6-4093-bbc5-18a0fce62e9f",
   "metadata": {
    "tags": []
   },
   "source": [
    "## Setup"
   ]
  },
  {
   "cell_type": "code",
   "execution_count": 13,
   "id": "350b7cab-e610-4c22-ab66-4dbb78693e81",
   "metadata": {},
   "outputs": [],
   "source": [
    "if pm['variation'] not in topics_data['not_included']:\n",
    "    topics_data['not_included'][pm['variation']] = []"
   ]
  },
  {
   "cell_type": "code",
   "execution_count": 14,
   "id": "df100dc0-878d-4722-b6a8-947712d771db",
   "metadata": {},
   "outputs": [],
   "source": [
    "def sort_by_similarity( target_key, c ):\n",
    "    \n",
    "    cospsi = c.cospsi( target_key, 'all' )\n",
    "    sort_inds = np.argsort(cospsi)[::-1]\n",
    "    sorted_cospsi = cospsi[sort_inds]\n",
    "    sorted_publications = c.publications[sort_inds]\n",
    "    \n",
    "    return sorted_cospsi, sorted_publications"
   ]
  },
  {
   "cell_type": "code",
   "execution_count": 29,
   "id": "f62a2bbd-aa39-421b-baef-f3f7ee2d0a51",
   "metadata": {},
   "outputs": [],
   "source": [
    "def print_sorted_publications(\n",
    "    sorted_cospsi,\n",
    "    sorted_publications,\n",
    "    kernel_size,\n",
    "    a,\n",
    "    show_unread_only = False,\n",
    "    do_not_show_included = True,\n",
    "    do_not_show_not_included = True,\n",
    "    central_publication = '',\n",
    "):\n",
    "\n",
    "#     print( 'The {} most related publications are...\\n'.format( kernel_size ) )\n",
    "\n",
    "    n_shown = 0\n",
    "    for i, key_i in enumerate( sorted_publications ):\n",
    "                \n",
    "        if i > kernel_size:\n",
    "            break\n",
    "                \n",
    "        if key_i not in a.data:\n",
    "            continue\n",
    "        \n",
    "        p_i = a[key_i]\n",
    "\n",
    "        if 'read' in p_i.notes:\n",
    "            read_flag = p_i.notes['read']\n",
    "        else:\n",
    "            read_flag = 'UNREAD'\n",
    "        if show_unread_only and read_flag != 'UNREAD':\n",
    "            continue\n",
    "            \n",
    "        included_flag = key_i in pub_doc.string           \n",
    "        deliberately_not_included = key_i in topics_data['not_included'][pm['variation']]\n",
    "        \n",
    "        if do_not_show_included and included_flag:\n",
    "            continue\n",
    "        if do_not_show_not_included and deliberately_not_included:\n",
    "            continue\n",
    "\n",
    "        if not isinstance( p_i, publication.UnofficialPublication ):\n",
    "            print( '{} -- {}'.format( n_shown, key_i, ) )\n",
    "            print( p_i.citation['title'] )\n",
    "            print( p_i.citation['author'] )\n",
    "            print( 'Related rank: {}.{}'.format( i, central_publication ) ) \n",
    "            print( 'Read: {}'.format( ''.join( read_flag ) ) )\n",
    "            print( 'Included: {}'.format( included_flag ) )\n",
    "            print( p_i.citation['ENTRYTYPE'] + '\\n' )\n",
    "            print( p_i.points_str() + '\\n\\n' )\n",
    "        else:\n",
    "            print( '{} -- {}'.format( n_shown, key_i, ) )\n",
    "            print( 'Related rank: {}.{}'.format( i, central_publication ) ) \n",
    "        \n",
    "        n_shown += 1\n",
    "\n"
   ]
  },
  {
   "cell_type": "markdown",
   "id": "8b95166c-ee92-480c-bf78-e7f06011617b",
   "metadata": {
    "tags": []
   },
   "source": [
    "## Conservative Reading List\n",
    "For the average abstract in combination with chosen words."
   ]
  },
  {
   "cell_type": "markdown",
   "id": "c2836f21-2b6b-4274-a601-c06420706687",
   "metadata": {
    "tags": []
   },
   "source": [
    "### Create and add average vector"
   ]
  },
  {
   "cell_type": "code",
   "execution_count": 16,
   "id": "6911d5f5-2138-49e5-ac50-fc4171a20206",
   "metadata": {},
   "outputs": [],
   "source": [
    "# Can add chosen words if so wished.\n",
    "search_str = ''"
   ]
  },
  {
   "cell_type": "code",
   "execution_count": 17,
   "id": "0b9e5e45-ed74-4e52-8de0-69ffd33671ff",
   "metadata": {},
   "outputs": [],
   "source": [
    "for i, key_i in enumerate( pm['publications'] ):\n",
    "    search_str += a[key_i].points_str()"
   ]
  },
  {
   "cell_type": "code",
   "execution_count": 18,
   "id": "a7a7370f-aa5d-4e34-a149-668e487cf417",
   "metadata": {},
   "outputs": [],
   "source": [
    "p = publication.UnofficialPublication( pm['variation'] )"
   ]
  },
  {
   "cell_type": "code",
   "execution_count": 19,
   "id": "6d1df85a-d995-4e0d-a627-3f34037598df",
   "metadata": {},
   "outputs": [],
   "source": [
    "p.process_abstract( abstract_str=search_str )"
   ]
  },
  {
   "cell_type": "code",
   "execution_count": 20,
   "id": "996deefd-d226-4656-b251-a4f5bd8a22e6",
   "metadata": {},
   "outputs": [],
   "source": [
    "a.data[pm['variation']] = p"
   ]
  },
  {
   "cell_type": "code",
   "execution_count": 22,
   "id": "a9d980d8-3e62-4cea-a18b-a6fdfadbfbd9",
   "metadata": {},
   "outputs": [
    {
     "name": "stderr",
     "output_type": "stream",
     "text": [
      "100%|██████████| 1870/1870 [00:00<00:00, 114688.96it/s]\n",
      "100%|██████████| 13320/13320 [00:00<00:00, 112074.95it/s]\n",
      "100%|██████████| 1783/1783 [00:00<00:00, 119281.04it/s]\n",
      "100%|██████████| 13320/13320 [00:00<00:00, 116316.57it/s]\n"
     ]
    }
   ],
   "source": [
    "a.update( a_zotero )\n",
    "a.prune_duplicates(preferred=list(a_zotero.data.keys()))"
   ]
  },
  {
   "cell_type": "code",
   "execution_count": 23,
   "id": "e93f9c6a-12ed-493d-be58-025f3aac8805",
   "metadata": {},
   "outputs": [
    {
     "name": "stdout",
     "output_type": "stream",
     "text": [
      "Vectorizing text...\n",
      "    Retrieving publication data...\n"
     ]
    },
    {
     "name": "stderr",
     "output_type": "stream",
     "text": [
      "  0%|          | 0/15103 [00:00<?, ?it/s]/Users/zhafen/repos/cc/cc/publication.py:800: UserWarning: Hafen2021 is unofficial and has no publication date.\n",
      "  warnings.warn( warning_msg )\n",
      "/Users/zhafen/repos/cc/cc/publication.py:800: UserWarning: coronal_mixing_accretion is unofficial and has no publication date.\n",
      "  warnings.warn( warning_msg )\n",
      "100%|██████████| 15103/15103 [00:00<00:00, 54512.59it/s]\n"
     ]
    },
    {
     "name": "stdout",
     "output_type": "stream",
     "text": [
      "    Calculating vectorization...\n"
     ]
    }
   ],
   "source": [
    "# Vectorize\n",
    "vp_dict = a.vectorize( overwrite=True, projection_fp='pass', )\n",
    "c = cartography.Cartographer( **vp_dict )"
   ]
  },
  {
   "cell_type": "markdown",
   "id": "7539c0ce-9cf7-413d-b7d0-c2484c4593d8",
   "metadata": {},
   "source": [
    "### Produce reading list"
   ]
  },
  {
   "cell_type": "code",
   "execution_count": 25,
   "id": "d8d7cfbb-3bac-42e0-96dd-73bf563d8e4d",
   "metadata": {},
   "outputs": [],
   "source": [
    "sorted_cospsi, sorted_publications = sort_by_similarity( pm['variation'], c )"
   ]
  },
  {
   "cell_type": "code",
   "execution_count": 64,
   "id": "a6f4bb4c-d122-464d-8864-e8be784d8fc7",
   "metadata": {},
   "outputs": [],
   "source": [
    "pub_doc = tex.Tex( filepath=pm['tex_fp'] )"
   ]
  },
  {
   "cell_type": "code",
   "execution_count": 78,
   "id": "d9060286-5c6e-4870-a5e2-e0ccad9221dc",
   "metadata": {},
   "outputs": [],
   "source": [
    "topics_data['not_included'][pm['variation']].append( 'Sancisi2008' )\n",
    "topics_data.to_json( topics_fp )"
   ]
  },
  {
   "cell_type": "code",
   "execution_count": 81,
   "id": "3cf21c12-3844-4883-9d56-a36b4a3a888c",
   "metadata": {},
   "outputs": [],
   "source": [
    "print_sorted_publications(\n",
    "    sorted_cospsi,\n",
    "    sorted_publications,\n",
    "    pm['kernel_size'] * 2,\n",
    "    a,\n",
    "    do_not_show_included = True,\n",
    "    do_not_show_not_included = True,\n",
    "    central_publication = pm['variation'],\n",
    ")"
   ]
  },
  {
   "cell_type": "markdown",
   "id": "9507048e-125d-40b8-98fd-baf426e484c5",
   "metadata": {
    "tags": []
   },
   "source": [
    "## Extensive Reading List\n",
    "For each and everyone of the publications."
   ]
  },
  {
   "cell_type": "code",
   "execution_count": null,
   "id": "380a9b9d-8255-4dfe-a5c9-e9d0bfcb99a6",
   "metadata": {},
   "outputs": [],
   "source": [
    "a_pubs = []\n",
    "sorted_cospsis = []\n",
    "sorted_publications = []\n",
    "for i, key_i in enumerate( pm['publications'] ):\n",
    "    a_i = atlas.Atlas(atlas_dir, load_bibtex=False, load_atlas_data=False )\n",
    "    a_i.data[key_i] = a[key_i]\n",
    "    \n",
    "    # Identify relevant publications\n",
    "    sorted_cospsi_i, sorted_publications_i = sort_by_similarity( key_i, c )\n",
    "    sorted_cospsis.append( sorted_cospsi_i )\n",
    "    sorted_publications.append( sorted_publications_i )\n",
    "\n",
    "    for key in sorted_publications_i:\n",
    "\n",
    "        # Get missing publications\n",
    "        if key in a_zotero.data:\n",
    "            a_i.data[key] = a_zotero.data[key]\n",
    "        elif key in a.data:\n",
    "            a_i.data[key] = a.data[key]\n",
    "\n",
    "    a_i.prune_duplicates(preferred=list(a_zotero.data.keys()))\n",
    "    \n",
    "    a_pubs.append( a_i )"
   ]
  },
  {
   "cell_type": "code",
   "execution_count": null,
   "id": "16294c59-cbf4-47c6-8f1a-4696735d5800",
   "metadata": {},
   "outputs": [],
   "source": [
    "pub_doc = tex.Tex( filepath=pm['tex_fp'] )"
   ]
  },
  {
   "cell_type": "code",
   "execution_count": null,
   "id": "9d228b81-e1f1-44f9-8688-37dfab0117ae",
   "metadata": {},
   "outputs": [],
   "source": [
    "topics_data['not_included'][pm['variation']].append( '2017MNRAS.466.3460V' )\n",
    "topics_data.to_json( topics_fp )"
   ]
  },
  {
   "cell_type": "code",
   "execution_count": null,
   "id": "f1655fce-ac25-4091-974a-3bbf5579124f",
   "metadata": {
    "tags": []
   },
   "outputs": [],
   "source": [
    "for i, a_i in enumerate( a_pubs ):\n",
    "    \n",
    "#     print( '===============================================================================' )\n",
    "#     print( pm['publications'][i] + '\\n' )\n",
    "    \n",
    "    print_sorted_publications(\n",
    "        sorted_cospsis[i],\n",
    "        sorted_publications[i],\n",
    "        pm['kernel_size'],\n",
    "        a_i,\n",
    "        do_not_show_included = True,\n",
    "        do_not_show_not_included = True,\n",
    "        central_publication = pm['publications'][i],\n",
    "    )"
   ]
  },
  {
   "cell_type": "code",
   "execution_count": null,
   "id": "d3db88ab-3ae3-4490-9329-a6c3785d0e1e",
   "metadata": {},
   "outputs": [],
   "source": []
  },
  {
   "cell_type": "code",
   "execution_count": null,
   "id": "721bec52-5366-4639-887c-3ae4a1807269",
   "metadata": {},
   "outputs": [],
   "source": []
  }
 ],
 "metadata": {
  "kernelspec": {
   "display_name": "Python 3",
   "language": "python",
   "name": "python3"
  },
  "language_info": {
   "codemirror_mode": {
    "name": "ipython",
    "version": 3
   },
   "file_extension": ".py",
   "mimetype": "text/x-python",
   "name": "python",
   "nbconvert_exporter": "python",
   "pygments_lexer": "ipython3",
   "version": "3.9.6"
  }
 },
 "nbformat": 4,
 "nbformat_minor": 5
}
