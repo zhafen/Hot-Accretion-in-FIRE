{
 "cells": [
  {
   "cell_type": "code",
   "execution_count": 1,
   "id": "3eef3471-0d5b-4829-bb49-93d9a1bf03cd",
   "metadata": {},
   "outputs": [],
   "source": [
    "import ast\n",
    "import copy\n",
    "import numpy as np\n",
    "import os"
   ]
  },
  {
   "cell_type": "code",
   "execution_count": 2,
   "id": "1b45a75a-49af-4a69-8e52-f22df0af0d96",
   "metadata": {},
   "outputs": [],
   "source": [
    "import cc.atlas as atlas\n",
    "import cc.cartography as cartography\n",
    "import cc.publication as publication\n",
    "import cc.utils as utils\n",
    "import cc.tex as tex"
   ]
  },
  {
   "cell_type": "code",
   "execution_count": 3,
   "id": "9742dac7-df12-4f7f-9035-106fd5c8bd36",
   "metadata": {},
   "outputs": [],
   "source": [
    "import trove\n",
    "import verdict"
   ]
  },
  {
   "cell_type": "markdown",
   "id": "01455185-77b9-4443-9e4c-ec55289c1324",
   "metadata": {
    "tags": []
   },
   "source": [
    "# Literature Review\n",
    "\n",
    "This notebook contains a record of how I performed the literature review for this work."
   ]
  },
  {
   "cell_type": "markdown",
   "id": "2d02929c-d4b0-4c95-94b6-3f7613d4f77c",
   "metadata": {},
   "source": [
    "# Parameters"
   ]
  },
  {
   "cell_type": "code",
   "execution_count": 4,
   "id": "cbaf46ef-ed61-445e-91ce-905784206dbb",
   "metadata": {},
   "outputs": [],
   "source": [
    "config_fp = '/Users/zhafen/paper_repos/multidimensional_imaging/literature_review/literature_review.trove'\n",
    "cp = trove.config_parser.ConfigParser( config_fp )\n",
    "pm = trove.link_params_to_config(\n",
    "    config_fp,\n",
    "    variation = 'lyman_alpha_halos',\n",
    ")"
   ]
  },
  {
   "cell_type": "code",
   "execution_count": 5,
   "id": "55a891a7-35cb-4237-989f-3c2dec90d3f2",
   "metadata": {},
   "outputs": [],
   "source": [
    "atlas_dir = pm['root_data_dir']"
   ]
  },
  {
   "cell_type": "code",
   "execution_count": 6,
   "id": "663da3b0-c3f6-4df3-900b-2a904c40047b",
   "metadata": {},
   "outputs": [],
   "source": [
    "topics = {}\n",
    "for variation in cp.variations:\n",
    "    topics[variation] = ast.literal_eval( cp.get( variation, 'publications' ) )"
   ]
  },
  {
   "cell_type": "markdown",
   "id": "f6489937-4f3a-4358-b99c-0255cff2effa",
   "metadata": {
    "tags": []
   },
   "source": [
    "# Load Data"
   ]
  },
  {
   "cell_type": "markdown",
   "id": "346234c8-e5bb-4023-a5cf-cfddec7a8b0e",
   "metadata": {},
   "source": [
    "## Topics Data"
   ]
  },
  {
   "cell_type": "code",
   "execution_count": 7,
   "id": "16e275ac-00ca-4ade-9f4a-2423980be847",
   "metadata": {},
   "outputs": [],
   "source": [
    "topics_fp = os.path.join( pm['root_data_dir'], 'topics.json' )\n",
    "topics_data = verdict.Dict.from_json( topics_fp, create_nonexisting=True )\n",
    "if 'not_included' not in topics_data:\n",
    "    topics_data['not_included'] = {}\n",
    "if 'intended_to_include' not in topics_data:\n",
    "    topics_data['intended_to_include'] = {}"
   ]
  },
  {
   "cell_type": "markdown",
   "id": "98f0e0a0-7ed9-41ad-a8bb-af5651b41e81",
   "metadata": {
    "tags": []
   },
   "source": [
    "## Zotero Atlas"
   ]
  },
  {
   "cell_type": "code",
   "execution_count": 8,
   "id": "94785674-430a-42e4-8411-690472baca03",
   "metadata": {},
   "outputs": [
    {
     "name": "stdout",
     "output_type": "stream",
     "text": [
      "Loading saved atlas data.\n"
     ]
    },
    {
     "name": "stderr",
     "output_type": "stream",
     "text": [
      "0it [00:00, ?it/s]\n",
      "100%|██████████| 2041/2041 [00:00<00:00, 16918.67it/s]\n"
     ]
    }
   ],
   "source": [
    "# Larger atlas\n",
    "a_zotero = atlas.Atlas( atlas_dir, load_bibtex=False, data_fp=pm['zotero_atlas_fp'] )"
   ]
  },
  {
   "cell_type": "code",
   "execution_count": 9,
   "id": "8e4e9beb-6be2-45af-9268-c5c01aa9b709",
   "metadata": {},
   "outputs": [
    {
     "name": "stdout",
     "output_type": "stream",
     "text": [
      "Vectorizing text...\n",
      "Using saved vectorized text...\n"
     ]
    },
    {
     "name": "stderr",
     "output_type": "stream",
     "text": [
      "/Users/zhafen/repos/verdict/verdict.py:1404: FutureWarning: Using a non-tuple sequence for multidimensional indexing is deprecated; use `arr[tuple(seq)]` instead of `arr[seq]`. In the future this will be interpreted as an array index, `arr[np.array(seq)]`, which will result either in an error or a different result.\n",
      "  if hasattr( a[first_element_index][0], 'decode' ):\n"
     ]
    }
   ],
   "source": [
    "# Vectorization\n",
    "vp_dict = a_zotero.vectorize( projection_fp=pm['zotero_projection_fp'], )\n",
    "c_zotero = cartography.Cartographer( **vp_dict )"
   ]
  },
  {
   "cell_type": "markdown",
   "id": "82099566-7642-4b5b-bb0b-ea425253c6ce",
   "metadata": {
    "tags": []
   },
   "source": [
    "## Large Atlas"
   ]
  },
  {
   "cell_type": "code",
   "execution_count": 10,
   "id": "1e0fb8bb-5ccb-4773-94d8-665322bd7b86",
   "metadata": {},
   "outputs": [
    {
     "name": "stdout",
     "output_type": "stream",
     "text": [
      "Loading saved atlas data.\n"
     ]
    },
    {
     "name": "stderr",
     "output_type": "stream",
     "text": [
      "0it [00:00, ?it/s]\n",
      "100%|██████████| 31026/31026 [00:01<00:00, 24746.30it/s]\n"
     ]
    }
   ],
   "source": [
    "# Larger atlas\n",
    "a = atlas.Atlas( atlas_dir, load_bibtex=False, )"
   ]
  },
  {
   "cell_type": "code",
   "execution_count": 11,
   "id": "3b52d825-5fed-439b-b9ef-141f8a8244ac",
   "metadata": {},
   "outputs": [
    {
     "name": "stderr",
     "output_type": "stream",
     "text": [
      "100%|██████████| 2041/2041 [00:00<00:00, 79391.75it/s]\n",
      "100%|██████████| 29012/29012 [00:00<00:00, 128923.97it/s]\n"
     ]
    }
   ],
   "source": [
    "# Update with zotero atlas (in case there are changes to the zotero data,\n",
    "# which may occur during the review process as we download and look over papers).\n",
    "a.update( a_zotero )"
   ]
  },
  {
   "cell_type": "code",
   "execution_count": 12,
   "id": "86ce9cb5-252d-4330-8b98-0698e7715260",
   "metadata": {},
   "outputs": [
    {
     "name": "stdout",
     "output_type": "stream",
     "text": [
      "Vectorizing text...\n",
      "Using saved vectorized text...\n"
     ]
    }
   ],
   "source": [
    "# Vectorization\n",
    "vp_dict = a.vectorize()\n",
    "c = cartography.Cartographer( **vp_dict )"
   ]
  },
  {
   "cell_type": "markdown",
   "id": "52c58dce-de2c-435e-b3e8-2bf578b67252",
   "metadata": {
    "tags": []
   },
   "source": [
    "## Tex Draft"
   ]
  },
  {
   "cell_type": "code",
   "execution_count": 13,
   "id": "4e141504-33ba-4d25-859f-04491a04ffbb",
   "metadata": {},
   "outputs": [],
   "source": [
    "pub_doc = tex.Tex( filepath=pm['tex_fp'] )"
   ]
  },
  {
   "cell_type": "markdown",
   "id": "eb7b7feb-e476-4751-a996-8e39f7397915",
   "metadata": {},
   "source": [
    "# Create a Reading List"
   ]
  },
  {
   "cell_type": "markdown",
   "id": "72171ba6-e9f6-4093-bbc5-18a0fce62e9f",
   "metadata": {
    "tags": []
   },
   "source": [
    "## Setup"
   ]
  },
  {
   "cell_type": "code",
   "execution_count": 14,
   "id": "350b7cab-e610-4c22-ab66-4dbb78693e81",
   "metadata": {},
   "outputs": [],
   "source": [
    "if pm['variation'] not in topics_data['not_included']:\n",
    "    topics_data['not_included'][pm['variation']] = []\n",
    "if 'global' not in topics_data['not_included']:\n",
    "    topics_data['not_included']['global'] = []"
   ]
  },
  {
   "cell_type": "code",
   "execution_count": 15,
   "id": "d3774bd9-7e2a-4b77-ba95-955434bc8589",
   "metadata": {},
   "outputs": [],
   "source": [
    "if pm['variation'] not in topics_data['intended_to_include']:\n",
    "    topics_data['intended_to_include'][pm['variation']] = []"
   ]
  },
  {
   "cell_type": "code",
   "execution_count": 16,
   "id": "df100dc0-878d-4722-b6a8-947712d771db",
   "metadata": {},
   "outputs": [],
   "source": [
    "def sort_by_similarity( target_key, c ):\n",
    "    \n",
    "    cospsi = c.cospsi( target_key, 'all' )\n",
    "    sort_inds = np.argsort(cospsi)[::-1]\n",
    "    sorted_cospsi = cospsi[sort_inds]\n",
    "    sorted_publications = c.publications[sort_inds]\n",
    "    \n",
    "    return sorted_cospsi, sorted_publications"
   ]
  },
  {
   "cell_type": "code",
   "execution_count": 17,
   "id": "f62a2bbd-aa39-421b-baef-f3f7ee2d0a51",
   "metadata": {},
   "outputs": [],
   "source": [
    "def print_sorted_publications(\n",
    "    sorted_cospsi,\n",
    "    sorted_publications,\n",
    "    kernel_size,\n",
    "    a,\n",
    "    show_unread_only = False,\n",
    "    do_not_show_included = True,\n",
    "    do_not_show_not_included = True,\n",
    "    do_not_show_intended_to_include = True,\n",
    "    central_publication = '',\n",
    "):\n",
    "\n",
    "#     print( 'The {} most related publications are...\\n'.format( kernel_size ) )\n",
    "\n",
    "    n_shown = 0\n",
    "    for i, key_i in enumerate( sorted_publications ):\n",
    "                \n",
    "        if i > kernel_size:\n",
    "            break\n",
    "                \n",
    "        if key_i not in a.data:\n",
    "            continue\n",
    "        \n",
    "        p_i = a[key_i]\n",
    "\n",
    "        if 'read' in p_i.notes:\n",
    "            read_flag = p_i.notes['read']\n",
    "        else:\n",
    "            read_flag = 'UNREAD'\n",
    "        if show_unread_only and read_flag != 'UNREAD':\n",
    "            continue\n",
    "            \n",
    "        included_flag = key_i in pub_doc.string           \n",
    "        deliberately_not_included = ( key_i in topics_data['not_included'][pm['variation']] ) or ( key_i in topics_data['not_included']['global'] )\n",
    "        intended_to_include = key_i in topics_data['intended_to_include'][pm['variation']]\n",
    "        \n",
    "        if do_not_show_included and included_flag:\n",
    "            continue\n",
    "        if do_not_show_not_included and deliberately_not_included:\n",
    "            continue\n",
    "        if do_not_show_intended_to_include and intended_to_include:\n",
    "            continue\n",
    "\n",
    "        if not isinstance( p_i, publication.UnofficialPublication ):\n",
    "            print( '{} -- {}'.format( n_shown, key_i, ) )\n",
    "            print( p_i.citation['title'] )\n",
    "            print( p_i.citation['author'] )\n",
    "            print( 'Related rank: {}.{}'.format( i, central_publication ) ) \n",
    "            print( 'Read: {}'.format( ''.join( read_flag ) ) )\n",
    "            print( 'Included: {}'.format( included_flag ) )\n",
    "            print( p_i.citation['ENTRYTYPE'] + '\\n' )\n",
    "            print( p_i.points_str() + '\\n\\n' )\n",
    "        else:\n",
    "            pass\n",
    "#             print( '{} -- {}'.format( n_shown, key_i, ) )\n",
    "#             print( 'Related rank: {}.{}'.format( i, central_publication ) ) \n",
    "        \n",
    "        n_shown += 1\n"
   ]
  },
  {
   "cell_type": "markdown",
   "id": "8b95166c-ee92-480c-bf78-e7f06011617b",
   "metadata": {
    "tags": []
   },
   "source": [
    "## Conservative Reading List\n",
    "For the average abstract in combination with chosen words."
   ]
  },
  {
   "cell_type": "markdown",
   "id": "c2836f21-2b6b-4274-a601-c06420706687",
   "metadata": {
    "tags": []
   },
   "source": [
    "### Create and add average vector"
   ]
  },
  {
   "cell_type": "code",
   "execution_count": 18,
   "id": "6911d5f5-2138-49e5-ac50-fc4171a20206",
   "metadata": {},
   "outputs": [],
   "source": [
    "# Can add chosen words if so wished.\n",
    "search_str = ''"
   ]
  },
  {
   "cell_type": "code",
   "execution_count": 19,
   "id": "0b9e5e45-ed74-4e52-8de0-69ffd33671ff",
   "metadata": {},
   "outputs": [],
   "source": [
    "for i, key_i in enumerate( pm['publications'] ):\n",
    "    search_str += a[key_i].points_str()"
   ]
  },
  {
   "cell_type": "code",
   "execution_count": 20,
   "id": "d5e1912c-9b6b-41f4-af32-e4021e73e325",
   "metadata": {},
   "outputs": [],
   "source": [
    "if 'search_str' in pm:\n",
    "    search_str += pm['search_str']"
   ]
  },
  {
   "cell_type": "code",
   "execution_count": 21,
   "id": "a7a7370f-aa5d-4e34-a149-668e487cf417",
   "metadata": {},
   "outputs": [],
   "source": [
    "p = publication.UnofficialPublication( pm['variation'] )"
   ]
  },
  {
   "cell_type": "code",
   "execution_count": 22,
   "id": "6d1df85a-d995-4e0d-a627-3f34037598df",
   "metadata": {},
   "outputs": [],
   "source": [
    "p.process_abstract( abstract_str=search_str )"
   ]
  },
  {
   "cell_type": "code",
   "execution_count": 23,
   "id": "996deefd-d226-4656-b251-a4f5bd8a22e6",
   "metadata": {},
   "outputs": [],
   "source": [
    "a.data[pm['variation']] = p"
   ]
  },
  {
   "cell_type": "code",
   "execution_count": 24,
   "id": "a9d980d8-3e62-4cea-a18b-a6fdfadbfbd9",
   "metadata": {},
   "outputs": [
    {
     "name": "stderr",
     "output_type": "stream",
     "text": [
      "100%|██████████| 2041/2041 [00:00<00:00, 116901.43it/s]\n",
      "100%|██████████| 27147/27147 [00:00<00:00, 117585.65it/s]\n",
      "100%|██████████| 1960/1960 [00:00<00:00, 119716.84it/s]\n",
      "100%|██████████| 27147/27147 [00:00<00:00, 110187.36it/s]\n"
     ]
    }
   ],
   "source": [
    "a.update( a_zotero )\n",
    "a.prune_duplicates(preferred=list(a_zotero.data.keys()))"
   ]
  },
  {
   "cell_type": "code",
   "execution_count": 25,
   "id": "e93f9c6a-12ed-493d-be58-025f3aac8805",
   "metadata": {},
   "outputs": [
    {
     "name": "stdout",
     "output_type": "stream",
     "text": [
      "Vectorizing text...\n",
      "    Retrieving publication data...\n"
     ]
    },
    {
     "name": "stderr",
     "output_type": "stream",
     "text": [
      " 93%|█████████▎| 26934/29107 [00:00<00:00, 269329.34it/s]/Users/zhafen/repos/cc/cc/publication.py:800: UserWarning: Hafen2021 is unofficial and has no publication date.\n",
      "  warnings.warn( warning_msg )\n",
      "/Users/zhafen/repos/cc/cc/publication.py:800: UserWarning: lyman_alpha_halos is unofficial and has no publication date.\n",
      "  warnings.warn( warning_msg )\n",
      "100%|██████████| 29107/29107 [00:00<00:00, 135283.79it/s]\n"
     ]
    },
    {
     "name": "stdout",
     "output_type": "stream",
     "text": [
      "    Calculating vectorization...\n"
     ]
    }
   ],
   "source": [
    "# Vectorize\n",
    "vp_dict = a.vectorize( overwrite=True, projection_fp='pass', )\n",
    "c = cartography.Cartographer( **vp_dict )"
   ]
  },
  {
   "cell_type": "markdown",
   "id": "7539c0ce-9cf7-413d-b7d0-c2484c4593d8",
   "metadata": {},
   "source": [
    "### Produce reading list"
   ]
  },
  {
   "cell_type": "code",
   "execution_count": 26,
   "id": "d8d7cfbb-3bac-42e0-96dd-73bf563d8e4d",
   "metadata": {},
   "outputs": [],
   "source": [
    "sorted_cospsi, sorted_publications = sort_by_similarity( pm['variation'], c )"
   ]
  },
  {
   "cell_type": "code",
   "execution_count": 27,
   "id": "a6f4bb4c-d122-464d-8864-e8be784d8fc7",
   "metadata": {},
   "outputs": [],
   "source": [
    "pub_doc = tex.Tex( filepath=pm['tex_fp'] )"
   ]
  },
  {
   "cell_type": "code",
   "execution_count": 28,
   "id": "ee8539e7-ec2e-43f5-b540-a0a2437c6707",
   "metadata": {},
   "outputs": [],
   "source": [
    "def update_topics_data( key, list_name, topic=pm['variation'] ):\n",
    "    \n",
    "    if topic not in topics_data[list_name]:\n",
    "        topics_data[list_name][topic] = [ key, ]\n",
    "    else:\n",
    "        topics_data[list_name][topic].append( key )\n",
    "        topics_data[list_name][topic] = list( set( topics_data[list_name][topic] ) )\n",
    "        \n",
    "    topics_data.to_json( topics_fp )"
   ]
  },
  {
   "cell_type": "markdown",
   "id": "d3dbdd79-4157-406a-aebe-e3804808aed7",
   "metadata": {},
   "source": [
    "update_topics_data( '2018Natur.562..229W', 'not_included' )"
   ]
  },
  {
   "cell_type": "code",
   "execution_count": 32,
   "id": "a105efa1-2d3f-4c01-b770-360dd8ca0498",
   "metadata": {},
   "outputs": [],
   "source": [
    "update_topics_data( 'VanDeVoort2012', 'not_included', 'global' )"
   ]
  },
  {
   "cell_type": "code",
   "execution_count": 34,
   "id": "3e75df5d-97e2-4955-9c23-e647e8e25dff",
   "metadata": {},
   "outputs": [],
   "source": [
    "update_topics_data( '2009ApJ...694..314A', 'intended_to_include' )"
   ]
  },
  {
   "cell_type": "markdown",
   "id": "e66c671c-2c54-4c6c-a6c8-5e2b9c182f5a",
   "metadata": {},
   "source": [
    "update_topics_data( 'Wisotzki2018', 'intended_to_include', 'lyman_alpha_halos' )"
   ]
  },
  {
   "cell_type": "code",
   "execution_count": 35,
   "id": "3cf21c12-3844-4883-9d56-a36b4a3a888c",
   "metadata": {},
   "outputs": [
    {
     "name": "stdout",
     "output_type": "stream",
     "text": [
      "1 -- 2012MNRAS.426.1073H\n",
      "{Energetic galaxy-wide outflows in high-redshift ultraluminous infrared galaxies hosting AGN activity}\n",
      "{Harrison}, C.~M. and {Alexander}, D.~M. and {Swinbank}, A.~M. and {Smail}, Ian and {Alaghband-Zadeh}, S. and {Bauer}, F.~E. and {Chapman}, S.~C. and {Del Moro}, A. and {Hickox}, R.~C. and {Ivison}, R.~J. and {Men{\\'e}ndez-Delmestre}, Kar{\\'\\i}n. and {Mullaney}, J.~R. and {Nesvadba}, N.~P.~H.\n",
      "Related rank: 6.lyman_alpha_halos\n",
      "Read: UNREAD\n",
      "Included: False\n",
      "article\n",
      "\n",
      "We present integral field spectroscopy observations, covering the [O III] λλ4959, 5007 emission-line doublet of eight high-redshift (z = 1.4-3.4) ultraluminous infrared galaxies (ULIRGs) that host active galactic nucleus (AGN) activity, including known submillimetre luminous galaxies. The targets have moderate radio luminosities that are typical of high-redshift ULIRGs (L<SUB>1.4 GHz</SUB> = 10<SUP>24</SUP>-10<SUP>25</SUP> W Hz<SUP>-1</SUP>) and therefore are not radio-loud AGNs. We decouple kinematic components due to the galaxy dynamics and mergers from those due to outflows. We find evidence in the four most luminous systems (L[O III ]≳1043 erg s<SUP>-1</SUP>) for the signatures of large-scale energetic outflows: extremely broad [O III] emission (full width at half-maximum ≈ 700-1400 km s<SUP>-;1</SUP>) across ≈4-15 kpc, with high velocity offsets from the systemic redshifts (up to ≈850 km s<SUP>-1</SUP>). The four less luminous systems have lower quality data displaying weaker evidence for spatially extended outflows. We estimate that these outflows are potentially depositing energy into their host galaxies at considerable rates (E\\dot;≈1043-10<SUP>45</SUP> erg s<SUP>-1</SUP>); however, due to the lack of constraints on the density of the outflowing material and the structure of the outflow, these estimates should be taken as illustrative only. Based on the measured maximum velocities (v<SUB>max</SUB> ≈ 400-1400 km s<SUP>-1</SUP>) the outflows observed are likely to unbind some fraction of the gas from their host galaxies, but are unlikely to completely remove gas from the galaxy haloes. By using a combination of energetic arguments and a comparison to ULIRGs without clear evidence for AGN activity, we show that the AGN activity could be the dominant power source for driving all of the observed outflows, although star formation may also play a significant role in some of the sources.\n",
      "\n",
      "\n",
      "2 -- 2015MNRAS.448..328S\n",
      "{Long way to go: how outflows from large galaxies propagate through the hot halo gas}\n",
      "{Sarkar}, Kartick Chandra and {Nath}, Biman B. and {Sharma}, Prateek and {Shchekinov}, Yuri\n",
      "Related rank: 7.lyman_alpha_halos\n",
      "Read: UNREAD\n",
      "Included: False\n",
      "article\n",
      "\n",
      "Using hydrodynamic simulations, we study the mass-loss due to supernova-driven outflows from Milky Way type disc galaxies, paying particular attention to the effect of the extended hot halo gas. We find that the total mass-loss at inner radii scales roughly linearly with total mass of stars formed, and that the mass loading factor at the virial radius can be several times its value at inner radii because of the swept up hot halo gas. The temperature distribution of the outflowing material in the inner region (∼10 kpc) is bimodal in nature, peaking at 10<SUP>5</SUP> K and 10<SUP>6.5</SUP> K, responsible for optical and X-ray emission, respectively. The contribution of cold/warm gas with temperature ≤10<SUP>5.5</SUP> K to the outflow rate within 10 kpc is ≈0.3-0.5. The warm mass loading factor, η<SUB>3e5</SUB> (T ≤ 3 × 10<SUP>5</SUP> K) is related to the mass loading factor at the virial radius (η<SUB>v</SUB>) as η<SUB>v</SUB> ≈ 25 η<SUB>3e5</SUB> (SFR/M<SUB>⊙</SUB> yr<SUP>-1</SUP>)<SUP>-0.15</SUP> for a baryon fraction of 0.1 and a starburst period of 50 Myr. We also discuss the effect of multiple bursts that are separated by both short and long periods. The outflow speed at the virial radius is close to the sound speed in the hot halo, ≲ 200 km s<SUP>-1</SUP>. We identify two `sequences' of outflowing cold gas at small scales: a fast (≈500 km s<SUP>-1</SUP>) sequence, driven by the unshocked free-wind; and a slow sequence (≈± 100 km s<SUP>-1</SUP>) at the conical interface of the superwind and the hot halo.\n",
      "\n",
      "\n",
      "3 -- 2001MNRAS.327..895S\n",
      "{The host haloes of Lyman-break galaxies and submillimetre sources}\n",
      "{Shu}, Chenggang and {Mao}, Shude and {Mo}, H.~J.\n",
      "Related rank: 8.lyman_alpha_halos\n",
      "Read: UNREAD\n",
      "Included: False\n",
      "article\n",
      "\n",
      "We use the observed sizes and star formation rates of Lyman-break galaxies (LBGs) to understand their properties expected in the hierarchical scenario of galaxy formation. The observed size distribution constrains the masses (or circular velocities) of the host haloes of LBGs from below, because small haloes can only host galaxies with small sizes. The observed star formation distribution constrains the masses from above, because the number density of massive haloes in duty cycle is too low to host all the observed galaxies. Assuming a flat CDM model with a cosmological constant (Ω<SUB>Λ</SUB>=0.7), we find that consistency with observations requires the circular velocities of LBG host haloes to be in the range 100-300kms<SUP>-1</SUP>. The star formation in these haloes is efficient; a large fraction of all the gas in them can form stars on a time-scale of about 10-20 per cent of the Hubble time at redshift of 3. The predicted comoving correlation length of these objects is ~3h<SUP>-1</SUP>Mpc, and the predicted velocity dispersion of their stellar contents is typically 70kms<SUP>-1</SUP>. The same prescription applied to larger haloes in the CDM cosmogony predicts the existence of galaxies with star formation rates of ~1000M<SUB>solar</SUB>yr<SUP>-1</SUP> at redshift z~3. We explore the possibility of identifying these galaxies to be the bright submillimetre (submm) sources detected by SCUBA. The model predicts that the host haloes of these submm sources are massive, with typical circular velocity of ~350kms<SUP>-1</SUP>. The typical star formation time-scale in these systems is about 10 per cent of the Hubble time at redshift 3, and the comoving number density of galaxies (in their duty cycle) is 10<SUP>-5</SUP>-10<SUP>-4</SUP>h<SUP>3</SUP>Mpc<SUP>-3</SUP>. These galaxies are predicted to be strongly correlated, with a comoving correlation length of ~7h<SUP>-1</SUP>Mpc. They are also predicted to be strongly correlated with LBG population at the same redshift, with a cross-correlation length of 4-5h<SUP>-1</SUP>Mpc. The descendants of the bright submm sources should reside in clusters of galaxies at the present time, and it is likely that these objects are the progenitors of giant ellipticals.\n",
      "\n",
      "\n",
      "4 -- Bland1988\n",
      "Large-scale bipolar wind in M82\n",
      "Bland, Jonathan and Tully, R. Brent\n",
      "Related rank: 10.lyman_alpha_halos\n",
      "Read: UNREAD\n",
      "Included: False\n",
      "article\n",
      "\n",
      "In 1963 it was reported<SUP>1</SUP> that an enormous explosion (~10<SUP>55</SUP> erg) had occurred about one million years ago in the nuclear region of the nearby irregular galaxy M82. Deep photographic plates showed a spectacular filamentary system extending to 200 arc s (~3 kpc) along the minor axis of the galaxy and Hα spectroscopy revealed a steep velocity gradient in this direction, suggesting expulsion of the ionized gas from the core of the galaxy<SUP>1,2</SUP>. Thereafter, broadband polarimetry showed the filaments to be linearly polarized (15-30%) at optical wavelengths, with electric vectors generally perpendicular to the radius vector from the centre<SUP>3,4</SUP>, indicating that the light has been scattered by particles into our line of sight<SUP>5</SUP>. The explosion hypothesis<SUP>6</SUP> was questionable in that the observed blueshifts and redshifts cannot arise from explusion or infall, as the particles would scatter only redshifted or blueshifted light respectively on both sides of the galaxy. Although the nature of M82 remains a mystery, two significant observations have been largely overlooked. From imaging polarimetry, Schmidt et al<SUP>7</SUP>. demonstrated that most of the visual polarized flux arises from a smooth component which is symmetric over the main body of the galaxy. Axon and Taylor found well organized Hα line-splitting over ~60 arc s at two long-slit positions south of the galaxy and parallel to the major axis<SUP>8</SUP>. Here we present new imaging Fabry-Perot observations of M82 for the Hα and [N II] λ6,583 spectral lines<SUP>9</SUP>. Our observations show for the first time that the line and continuum emission above and below the galactic disk arise from two morphologically and kinematically distinct components. The first component consists of filamentary, narrow-line emission (full width at half maximum, FWHM &lt;200 km s<SUP>-1</SUP>) organized into a bipolar outflow over the surfaces of two elongated bubbles. We present direct evidence for a second component of broad-line (at FWHM 300 km s<SUP>-1</SUP>) and continuum emission arising from a faint exponential halo that rotates slowly with the disk.\n",
      "\n",
      "\n",
      "5 -- 2016ApJS..226...25L\n",
      "{Quasars Probing Quasars. VIII. The Physical Properties of the Cool Circumgalactic Medium Surrounding z \\raisebox{-0.5ex}\\textasciitilde 2-3 Massive Galaxies Hosting Quasars}\n",
      "{Lau}, Marie Wingyee and {Prochaska}, J. Xavier and {Hennawi}, Joseph F.\n",
      "Related rank: 11.lyman_alpha_halos\n",
      "Read: UNREAD\n",
      "Included: False\n",
      "article\n",
      "\n",
      "We characterize the physical properties of the cool T ∼ 10<SUP>4</SUP> K circumgalactic medium (CGM) surrounding z ∼ 2-3 quasar host galaxies, which are predicted to evolve into present-day massive ellipticals. Using a statistical sample of 14 quasar pairs with projected separation &lt;300 kpc and spectra of high dispersion and high signal-to-noise ratio, we find extreme kinematics with low metal ion lines typically spanning ≈500 km s<SUP>-1</SUP>, exceeding any previously studied galactic population. The CGM is significantly enriched, even beyond the virial radius, with a median metallicity [M/H] ≈ -0.6. The α/Fe abundance ratio is enhanced, suggesting that halo gas is primarily enriched by core-collapse supernovae. The projected cool gas mass within the virial radius is estimated to be 1.9 × 10<SUP>11</SUP> M<SUB>⊙</SUB> (R<SUB>⊥</SUB>/160 kpc)<SUP>2</SUP>, accounting for ≈1/3 of the baryonic budget of the galaxy halo. The ionization state of CGM gas increases with projected distance from the foreground quasars, contrary to expectation if the quasar dominates the ionizing radiation flux. However, we also found peculiarities not exhibited in the CGM of other galaxy populations. In one absorption system, we may be detecting unresolved fluorescent Lyα emission, and another system shows strong N V lines. Taken together, these anomalies suggest that transverse sightlines are—at least in some cases—possibly illuminated. We also discovered a peculiar case where detection of the C II fine-structure line implies an electron density &gt;100 cm<SUP>-3</SUP> and sub-parsec-scale gas clumps.\n",
      "\n",
      "\n",
      "6 -- 2015ApJ...811..132M\n",
      "{An Extreme Metallicity, Large-scale Outflow from a Star-forming Galaxy at z \\raisebox{-0.5ex}\\textasciitilde 0.4}\n",
      "{Muzahid}, Sowgat and {Kacprzak}, Glenn G. and {Churchill}, Christopher W. and {Charlton}, Jane C. and {Nielsen}, Nikole M. and {Mathes}, Nigel L. and {Trujillo-Gomez}, Sebastian\n",
      "Related rank: 12.lyman_alpha_halos\n",
      "Read: UNREAD\n",
      "Included: False\n",
      "article\n",
      "\n",
      "We present a detailed analysis of a large-scale galactic outflow in the circumgalactic medium of a massive ({M}<SUB>{{h</SUB>}}∼ {10}<SUP>12.5</SUP> {M}<SUB>⊙ </SUB>), star-forming (∼ 6.9 {M}<SUB>⊙ </SUB> yr<SUP>-1</SUP>), sub-L<SUB>*</SUB> (∼ 0.5{L}<SUB>B</SUB><SUP>*</SUP>) galaxy at z = 0.39853 that exhibits a wealth of metal-line absorption in the spectra of the background quasar Q 0122-003 at an impact parameter of 163 kpc. The galaxy inclination angle (i=63^\\circ ) and the azimuthal angle ({{Φ }}=73^\\circ ) imply that the QSO sightline is passing through the projected minor-axis of the galaxy. The absorption system shows a multiphase, multicomponent structure with ultra-strong, wide velocity spread {{O}} {{VI}} ({log}N=15.16+/- 0.04, {{Δ }}{v}<SUB>90</SUB> = 419 km s<SUP>-1</SUP>) and {{N}} {{V}} ({log}N=14.69+/- 0.07, {{Δ }}{v}<SUB>90</SUB> = 285 km s<SUP>-1</SUP>) lines that are extremely rare in the literature. The highly ionized absorption components are well explained as arising in a low density (∼ {10}<SUP>-4.2</SUP> cm<SUP>-3</SUP>), diffuse (∼10 kpc), cool (∼10<SUP>4</SUP> K) photoionized gas with a super-solar metallicity ([{{X}}/{{H}}]≳ 0.3). From the observed narrowness of the Lyβ profile, the non-detection of {{S}} {{IV}} absorption, and the presence of strong {{C}} {{IV}} absorption in the low-resolution FOS spectrum, we rule out equilibrium/non-equilibrium collisional ionization models. The low-ionization photoionized gas with a density of ∼ {10}<SUP>-2.5</SUP> cm<SUP>-3</SUP> and a metallicity of [{{X}}/{{H}}]≳ -1.4 is possibly tracing recycled halo gas. We estimate an outflow mass of ∼ 2× {10}<SUP>10</SUP> {M}<SUB>⊙ </SUB>, a mass-flow rate of ∼ 54 {M}<SUB>⊙ </SUB> {{yr}}<SUP>-1</SUP>, a kinetic luminosity of ∼ 9× {10}<SUP>41</SUP> erg s<SUP>-1</SUP>, and a mass loading factor of ∼8 for the outflowing high-ionization gas. These are consistent with the properties of “down-the-barrel” outflows from infrared-luminous starbursts as studied by Rupke et al. Such powerful, large-scale, metal-rich outflows are the primary means of sufficient mechanical and chemical feedback as invoked in theoretical models of galaxy formation and evolution.\n",
      "\n",
      "\n",
      "7 -- 2018MNRAS.473.4003B\n",
      "{Quasar outflows at z {\\ensuremath{\\geq}} 6: the impact on the host galaxies}\n",
      "{Barai}, Paramita and {Gallerani}, Simona and {Pallottini}, Andrea and {Ferrara}, Andrea and {Marconi}, Alessandro and {Cicone}, Claudia and {Maiolino}, Roberto and {Carniani}, Stefano\n",
      "Related rank: 13.lyman_alpha_halos\n",
      "Read: UNREAD\n",
      "Included: False\n",
      "article\n",
      "\n",
      "We investigate quasar outflows at z ≥ 6 by performing zoom-in cosmological hydrodynamical simulations. By employing the smoothed particle hydrodynamics code GADGET-3, we zoom in the 2R<SUB>200</SUB> region around a 2 × 10<SUP>12</SUP> M<SUB>⊙</SUB> halo at z = 6, inside a (500 Mpc)<SUP>3</SUP> comoving volume. We compare the results of our active galactic nuclei (AGN) runs with a control simulation in which only stellar/SN feedback is considered. Seeding 10<SUP>5</SUP> M<SUB>⊙</SUB> black holes (BHs) at the centres of 10<SUP>9</SUP> M<SUB>⊙</SUB> haloes, we find the following results. BHs accrete gas at the Eddington rate over z = 9-6. At z = 6, our most-massive BH has grown to M<SUB>BH</SUB> = 4 × 10<SUP>9</SUP> M<SUB>⊙</SUB>. Fast (v<SUB>r</SUB> &gt; 1000 km s<SUP>-1</SUP>), powerful (\\dot{M}_out ∼ 2000 M_{⊙} yr<SUP>-1</SUP>) outflows of shock-heated low-density gas form at z ∼ 7, and propagate up to hundreds kpc. Star formation is quenched over z = 8-6, and the total star formation rate (SFR surface density near the galaxy centre) is reduced by a factor of 5 (1000). We analyse the relative contribution of multiple physical process: (i) disrupting cosmic filamentary cold gas inflows, (ii) reducing central gas density, (iii) ejecting gas outside the galaxy; and find that AGN feedback has the following effects at z = 6. The inflowing gas mass fraction is reduced by ∼ 12 per cent, the high-density gas fraction is lowered by ∼ 13 per cent, and ∼ 20 per cent of the gas outflows at a speed larger than the escape velocity (500 km s<SUP>-1</SUP>). We conclude that quasar-host galaxies at z ≥ 6 are accreting non-negligible amount of cosmic gas, nevertheless AGN feedback quenches their star formation dominantly by powerful outflows ejecting gas out of the host galaxy halo.\n",
      "\n",
      "\n",
      "8 -- 2007MNRAS.376..479S\n",
      "{Resolved spectroscopy of a gravitationally lensed L* Lyman-break galaxy at z \\raisebox{-0.5ex}\\textasciitilde 5}\n",
      "{Swinbank}, A.~M. and {Bower}, R.~G. and {Smith}, Graham P. and {Wilman}, R.~J. and {Smail}, Ian and {Ellis}, R.~S. and {Morris}, S.~L. and {Kneib}, J. -P.\n",
      "Related rank: 14.lyman_alpha_halos\n",
      "Read: UNREAD\n",
      "Included: False\n",
      "article\n",
      "\n",
      "We exploit the gravitational potential of a massive, rich cluster at z = 0.77 to study the internal properties of a gravitationally lensed galaxy at z = 4.88. Using high-resolution Hubble Space Telescope imaging together with optical (VIMOS) and near-infrared (SINFONI) integral field spectroscopy, we have studied the rest-frame ultraviolet and optical properties of the lensed galaxy seen through the cluster RCS0224-002. Using a detailed gravitational lens model of the cluster, we reconstruct the source-frame morphology on 200 pc scales and find an ~L* Lyman-break galaxy with an intrinsic size of only 2.0 × 0.8 kpc, a velocity gradient of &lt;~60kms<SUP>-1</SUP> and an implied dynamical mass of 1.0 × 10<SUP>10</SUP>M<SUB>solar</SUB> within 2 kpc. We infer an integrated star formation rate of just 12 +/- 2M<SUB>solar</SUB>yr<SUP>-1</SUP> from the intrinsic [OII]λ3727 emission-line flux. The Lyα emission appears redshifted by +200 +/- 40kms<SUP>-1</SUP> with respect to the [OII] emission. The Lyα is also significantly more extended than the nebular emission, extending over 11.9 × 2.4 kpc. Over this area, the Lyα centroid varies by less than 10kms<SUP>-1</SUP>. We model the asymmetric Lyα emission with an underlying Gaussian profile with an absorber in the blue wing and find that the underlying Lyα emission-line centroid is in excellent agreement with the [OII] emission-line redshift. By examining the spatially resolved structure of the [OII] and Lyα emission lines, we investigate the nature of this system. The model for local starburst galaxies suggested by Mas-Hesse et al. provides a good description of our data, and suggests that the galaxy is surrounded by a galactic-scale bipolar outflow which has recently bursted out of the system. The outflow, which appears to be currently located &gt;~30 kpc from the galaxy, is escaping at a speed of upto ~500kms<SUP>-1</SUP>. Although the mass of the outflow is uncertain, the geometry and velocity of the outflow suggests that the ejected material is travelling far faster than escape velocity and will travel more than 1 Mpc (comoving) before eventually stalling.\n",
      "\n",
      "\n",
      "9 -- Prochaska2011a\n",
      "Probing the intergalactic medium/galaxy connection. V. on the origin of Lyα and O {VI} absorption at z {\\textless} 0.2\n",
      "Prochaska, J. Xavier and Weiner, B. and Chen, H. W. and Mulchaey, J. and Cooksey, K.\n",
      "Related rank: 15.lyman_alpha_halos\n",
      "Read: UNREAD\n",
      "Included: False\n",
      "article\n",
      "\n",
      "We analyze the association of galaxies with Lyα and O VI absorption, the most commonly detected transitions of the low-z intergalactic medium (IGM), in the fields of 14 quasars with z <SUB>em</SUB> = 0.06-0.57. Confirming previous studies, we observe a high covering fraction for Lyα absorption to impact parameter ρ = 300 h <SUP>-1</SUP> <SUB>72</SUB> kpc: 33/37 of our L &gt; 0.01 L* galaxies show Lyα equivalent width W <SUP>Lyα</SUP> &gt;= 50 mÅ. Galaxies of all luminosity L &gt; 0.01 L* and spectral type are surrounded by a diffuse and ionized circumgalactic medium (CGM), whose baryonic mass is estimated at ~10<SUP>10.5 ± 0.3</SUP> M <SUB>sun</SUB> for a constant N <SUB>H</SUB> = 10<SUP>19</SUP> cm<SUP>-2</SUP>. The virialized halos and extended CGM of present-day galaxies are responsible for most strong Lyα absorbers (W <SUP>Lyα</SUP> &gt; 300 mÅ) but cannot reproduce the majority of observed lines in the Lyα forest. We conclude that the majority of Lyα absorption with W <SUP>Lyα</SUP> = 30-300 mÅ occurs in the cosmic web predicted by cosmological simulations and estimate a characteristic width for these filaments of ≈400 h <SUP>-1</SUP> <SUB>72</SUB> kpc. Regarding O VI, we observe a near unity covering fraction to ρ = 200 h <SUP>-1</SUP> <SUB>72</SUB> kpc for L &gt; 0.1 L* galaxies and to ρ = 300 h <SUP>-1</SUP> <SUB>72</SUB> kpc for sub-L* (0.1 L* &lt; L &lt; L*) galaxies. Similar to our Lyα results, stronger O VI systems (W <SUP>1031</SUP> &gt; 70 mÅ) arise in the virialized halos of L &gt; 0.1 L* galaxies. Unlike Lyα, the weaker O VI systems (W <SUP>1031</SUP> ≈ 30 mÅ) arise in the extended CGM of sub-L* galaxies. The majority of O VI gas observed in the low-z IGM is associated with a diffuse medium surrounding individual galaxies with L ≈ 0.3 L* and rarely originates in the so-called warm-hot IGM (predicted by cosmological simulations.\n",
      "\n",
      "\n",
      "10 -- 2003MNRAS.346..273V\n",
      "{Kinematically quiet haloes around z\\raisebox{-0.5ex}\\textasciitilde 2.5 radio galaxies. Keck spectroscopy}\n",
      "{Villar-Mart{\\'\\i}n}, M. and {Vernet}, J. and {di Serego Alighieri}, S. and {Fosbury}, R. and {Humphrey}, A. and {Pentericci}, L.\n",
      "Related rank: 17.lyman_alpha_halos\n",
      "Read: UNREAD\n",
      "Included: False\n",
      "article\n",
      "\n",
      "We present the results of the kinematic study of the extended gas in a sample of 10 high-redshift radio galaxies (z~ 2.5) based on high signal-to-noise ratio Keck II and Very Large Telescope (VLT) long-slit spectroscopy. In addition to the typical high surface brightness kinematically perturbed regions (FWHM and velocity shifts &gt;1000 km s<SUP>-1</SUP>), we find in all objects giant low surface brightness haloes that show quieter kinematics with typical emission-line FWHM and velocity shifts of ~several hundred km s<SUP>-1</SUP>. <P />The giant haloes often extend for more than 100 kpc and sometimes beyond the radio structures. They emit lines other than Lyα (CIV, HeII and NV in some cases), typically found in the spectra of high-redshift active galaxies. Continuum is also often detected. The haloes are enriched with heavy elements at tens of kpc from the active nucleus. Typical Lyα luminosities and surface brightness (within the slit) are in the range 10<SUP>43-44</SUP> erg s<SUP>-1</SUP> and several × 10<SUP>-17 to -16</SUP> erg cm<SUP>-2</SUP> s<SUP>-1</SUP> arcsec<SUP>-2</SUP>, respectively. Estimated densities are in the range ~17-150 cm<SUP>-3</SUP>. The quasar continuum is the dominant source of ionization of the quiescent haloes along the radio axis. The implied total quasar ionizing luminosities are in the range ~several × 10<SUP>45</SUP>-10<SUP>47</SUP> erg s<SUP>-1</SUP>, in the same range as radio-loud quasars at comparable redshift. <P />The detection of giant quiescent haloes in all objects suggests that they could be a common ingredient of high-redshift radio galaxies. The radio galaxies seem to be embedded within the haloes. The nature and the origin of the haloes, together with the cosmological implications, are also discussed.\n",
      "\n",
      "\n",
      "11 -- 2019MNRAS.489..681L\n",
      "{A multiwavelength study of a massive, active galaxy at z {\\ensuremath{\\sim}} 2: coupling the kinematics of the ionized and molecular gas}\n",
      "{Loiacono}, Federica and {Talia}, Margherita and {Fraternali}, Filippo and {Cimatti}, Andrea and {Di Teodoro}, Enrico M. and {Caminha}, Gabriel B.\n",
      "Related rank: 18.lyman_alpha_halos\n",
      "Read: UNREAD\n",
      "Included: False\n",
      "article\n",
      "\n",
      "We report a multiwavelength study of the massive (M_{\\star } ≳ 10^{11} {M}_{\\odot }), z ∼ 2 star-forming galaxy GMASS 0953, which hosts an obscured AGN. We combined near-infrared observations of the GNIRS, SINFONI and KMOS spectrographs to study the kinematics of the [O III] λ5007 and H α emission lines. Our analysis shows that GMASS 0953 may host an ionized disc extending up to 13 kpc, which rotates at a velocity of V_{ion} = 203^{+17}_{-20} km s<SUP>-1</SUP> at the outermost radius. Evidence of rotation on a smaller scale (R ∼ 1 kpc) arises from the CO(J = 6-5) line. The central velocity V_{CO} = 320^{+ 92}_{-53} km s<SUP>-1</SUP> traced by the molecular gas is higher than V<SUB>ion</SUB>, suggesting that the galaxy harbours a multiphase disc with a rotation curve that peaks in the very central regions. The galaxy appears well located on the z = 0 baryonic Tully-Fisher relation. We also discuss the possibility that the [O III] λ5007 and H α velocity gradients are due to a galactic-scale wind. Besides, we found evidence of an AGN-driven outflow traced by a broad blueshifted wing affecting the [O III] λ5007 line, which presents a velocity offset Δv = -535 ± 152 km s<SUP>-1</SUP> from the systemic velocity. Because of the short depletion time-scale (τ<SUB>dep</SUB> ∼ 10<SUP>8</SUP> yr) due to gas ejection and gas consumption by star formation activity, GMASS 0953 may likely evolve into a passive galaxy. However, the role of the AGN in depleting the gas reservoir of the galaxy is quite unclear because of the uncertainties affecting the outflow rate.\n",
      "\n",
      "\n",
      "12 -- 2005MNRAS.360.1455B\n",
      "{Unusual high-redshift radio broad absorption-line quasar 1624+3758}\n",
      "{Benn}, C.~R. and {Carballo}, R. and {Holt}, J. and {Vigotti}, M. and {Gonz{\\'a}lez-Serrano}, J.~I. and {Mack}, K. -H. and {Perley}, R.~A.\n",
      "Related rank: 19.lyman_alpha_halos\n",
      "Read: UNREAD\n",
      "Included: False\n",
      "article\n",
      "\n",
      "We present observations of the most radio-luminous broad absorption-line (BAL) quasar known, 1624+3758, at redshift z= 3.377. The quasar has several unusual properties. (1) The FeII UV191 1787-Åemission line is very prominent. (2) The BAL trough (BALnicity index 2990 km s<SUP>-1</SUP>) is detached by 21000 km s<SUP>-1</SUP> and extends to velocity v=-29000 km s<SUP>-1</SUP>. There are additional intrinsic absorbers at -1900 and -2800 km s<SUP>-1</SUP>. (3) The radio rotation measure of the quasar, 18350 rad m<SUP>-2</SUP>, is the second highest known. The radio luminosity is P<SUB>1.4GHz</SUB>= 4.3 × 10<SUP>27</SUP> W Hz<SUP>-1</SUP> (H<SUB>0</SUB>= 50 km s<SUP>-1</SUP> Mpc<SUP>-1</SUP>, q<SUB>0</SUB>= 0.5) and the radio loudness is R*= 260. The radio source is compact and the radio spectrum is GHz-peaked, consistent with it being relatively young. The width of the CIV emission line, in conjunction with the total optical luminosity, implies a black hole mass M<SUB>BH</SUB>~ 10<SUP>9</SUP>M<SUB>solar</SUB>, L/L<SUB>Eddington</SUB>~ 2. The high Eddington ratio and the radio-loudness place this quasar in one corner of Boroson's two-component scheme for the classification of active galactic nuclei, implying a very high accretion rate, and this may account for some of the unusual observed properties. The v=-1900km s<SUP>-1</SUP> absorber is a possible Lyman-limit system, with N(HI) = 4 × 10<SUP>18</SUP> cm<SUP>-2</SUP>, and a covering factor of 0.7. A complex mini-BAL absorber at v=-2200 to -3400 km s<SUP>-1</SUP> is detected in each of CIV, NV and OVI. The blue and red components of the CIV doublet happen to be unblended, allowing both the covering factor and optical depth to be determined as a function of velocity. Variation of the covering factor with velocity dominates the form of the mini-BAL, with the absorption being saturated (e<SUP>-τ</SUP>~ 0) over most of the velocity range. The velocity dependence of the covering factor and the large velocity width imply that the mini-BAL is intrinsic to the quasar. There is some evidence of line-locking between velocity components in the CIV mini-BAL, suggesting that radiation pressure plays a role in accelerating the outflow.\n",
      "\n",
      "\n",
      "13 -- 2008A&A...491..407N\n",
      "{Evidence for powerful AGN winds at high redshift: dynamics of galactic outflows in radio galaxies during the ``Quasar Era''}\n",
      "{Nesvadba}, N.~P.~H. and {Lehnert}, M.~D. and {De Breuck}, C. and {Gilbert}, A.~M. and {van Breugel}, W.\n",
      "Related rank: 20.lyman_alpha_halos\n",
      "Read: UNREAD\n",
      "Included: False\n",
      "article\n",
      "\n",
      "AGN feedback now appears as an attractive mechanism to resolve some of the outstanding problems with the “standard” cosmological models, in particular those related to massive galaxies. At low redshift, evidence is growing that gas cooling and star formation may be efficiently suppressed by mechanical energy input from radio sources. To directly constrain how this may influence the formation of massive galaxies near the peak in the redshift distribution of powerful quasars, z∼ 2, we present an analysis of the emission-line kinematics of 3 powerful radio galaxies at z∼ 2-3 (HzRGs) based on rest-frame optical integral-field spectroscopy obtained with SINFONI on the VLT. The host galaxies of powerful radio-loud AGN are among the most massive galaxies, and thus AGN feedback may have a particularly clear signature in these galaxies. We find evidence for bipolar outflows in all HzRGs, with kinetic energies that are equivalent to 0.2% of the rest-mass of the supermassive black hole. Observed total velocity offsets in the outflows are ~800-1000 km s<SUP>-1</SUP> between the blueshifted and redshifted line emission, and FWHMs ~ 1000 km s<SUP>-1</SUP> suggest strong turbulence. Line ratios allow to measure electron temperatures, ~10<SUP>4</SUP> K from [OIII]λλλ4363, 4959, 5007 at z∼ 2, electron densities (~500 cm<SUP>-3</SUP>) and extinction (A_V∼ 1-4 mag). Ionized gas masses estimated from the Hα luminosity are of order 10<SUP>10</SUP>~M<SUB>⊙</SUB>, similar to the molecular gas content of HzRGs, underlining that these outflows may indicate a significant phase in the evolution of the host galaxy. The total energy release of ~10<SUP>60</SUP> erg during a dynamical time of ~10<SUP>7</SUP> yrs corresponds to about the binding energy of a massive galaxy, similar to the prescriptions adopted in galaxy evolution models. Geometry, timescales and energy injection rates of order 10% of the kinetic energy flux of the jet suggest that the outflows are most likely driven by the radio source. The global energy density release of ~10<SUP>57</SUP> erg s<SUP>-1</SUP> Mpc<SUP>-3</SUP> may also influence the subsequent evolution of the HzRG by enhancing the entropy and pressure in the surrounding halo and facilitating ram-pressure stripping of gas in satellite galaxies that may contribute to the subsequent mass assembly of the HzRG through low-dissipation “dry” mergers. <P />Based on observations collected at the European Southern Observatory, Very Large Telescope Array, Cerro Paranal, Chile (076.A-0684(A)).\n",
      "\n",
      "\n",
      "14 -- 2006MNRAS.367..139A\n",
      "{High-metallicity, photoionized gas in intergalactic large-scale filaments}\n",
      "{Aracil}, Bastien and {Tripp}, Todd M. and {Bowen}, David V. and {Prochaska}, Jason X. and {Chen}, Hsiao-Wen and {Frye}, Brenda L.\n",
      "Related rank: 21.lyman_alpha_halos\n",
      "Read: UNREAD\n",
      "Included: False\n",
      "article\n",
      "\n",
      "We present high-resolution ultraviolet spectra of absorption-line systems towards the low-z quasi-stellar object (QSO) HS 0624+6907 (z<SUB>QSO</SUB>= 0.3700). Coupled with ground-based imaging and spectroscopic galaxy redshifts, we find evidence that many of these absorbers do not arise in galaxy haloes but rather are truly intergalactic gas clouds distributed within large-scale structures, and moreover, the gas is cool (T &lt; 10<SUP>5</SUP> K) and has relatively high metallicity (Z &gt; 0.9Z<SUB>solar</SUB>). Hubble Space Telescope (HST) Space Telescope Imaging Spectrograph (STIS) data reveal a dramatic cluster of 13 HI Lyman α (Lyα) lines within a 1000 km s<SUP>-1</SUP> interval at z<SUB>abs</SUB>= 0.0635. We find 10 galaxies at this redshift with impact parameters ranging from ρ= 135h<SUP>-1</SUP><SUB>70</SUB> kpc to 1.37h<SUP>-1</SUP><SUB>70</SUB> Mpc. The velocities and velocity spread of the Lyα lines in this complex are unlikely to arise in the individual haloes of the nearby galaxies; instead, we attribute the absorption to intragroup medium gas, possibly from a large-scale filament viewed along its long axis. Contrary to theoretical expectations, this gas is not the shock-heated warm-hot intergalactic medium (WHIM); the width of the Lyα lines all indicate a gas temperature T&lt;&lt; 10<SUP>5</SUP> K, and metal lines detected in the Lyα complex also favour photoionized, cool gas. No OVI absorption lines are evident, which is consistent with photoionization models. Remarkably, the metallicity is near-solar, [M/H]=-0.05 +/- 0.4 (2σ uncertainty), yet the nearest galaxy which might pollute the intergalactic medium is at least 135h<SUP>-1</SUP><SUB>70</SUB> kpc away. Tidal stripping from nearby galaxies appears to be the most likely origin of this highly enriched, cool gas. More than six Abell galaxy clusters are found within 4° of the sight line suggesting that the QSO line of sight passes near a node in the cosmic web. At z~ 0.077, we find absorption systems as well as galaxies at the redshift of the nearby clusters Abell 564 and Abell 559. We conclude that the sight line pierces a filament of gas and galaxies feeding into these clusters. The absorber at z<SUB>abs</SUB>= 0.07573 associated with Abell 564/559 also has a high metallicity with [C/H] &gt; -0.6, but again the closest galaxy is relatively far from the sight line (ρ= 293h<SUP>-1</SUP><SUB>70</SUB> kpc). The Doppler parameters and HI column densities of the Lyα lines observed along the entire sight line are consistent with those measured towards other low-z QSOs, including a number of broad (b &gt; 40kms<SUP>-1</SUP>) Lyα lines.\n",
      "\n",
      "\n",
      "15 -- Tescari2017\n",
      "The {SAMI} Galaxy Survey: understanding observations of large-scale outflows at low redshift with {EAGLE} simulations\n",
      "Tescari, E. and Cortese, L. and Power, C. and Wyithe, J. S. B. and Ho, I. -T. and Crain, R. A. and Bland-Hawthorn, J. and Croom, S. M. and Kewley, L. J. and Schaye, J. and Bower, R. G. and Theuns, T. and Schaller, M. and Barnes, L. and Brough, S. and Bryant, J. J. and Goodwin, M. and Gunawardhana, M. L. P. and Lawrence, J. S. and Leslie, S. K. and López-Sánchez, Á. R. and Lorente, N. P. F. and Medling, A. M. and Richards, S. N. and Sweet, S. M. and Tonini, C.\n",
      "Related rank: 22.lyman_alpha_halos\n",
      "Read: UNREAD\n",
      "Included: False\n",
      "article\n",
      "\n",
      "This work presents a study of galactic outflows driven by stellar feedback. We extract main-sequence disc galaxies with stellar mass 10<SUP>9</SUP> ≤ M<SUB>⋆</SUB>/ M<SUB>⊙</SUB> ≤ 5.7 × 10<SUP>10</SUP> at redshift z = 0 from the highest resolution cosmological simulation of the Evolution and Assembly of GaLaxies and their Environments (EAGLE) set. Synthetic gas rotation velocity and velocity dispersion (σ) maps are created and compared to observations of disc galaxies obtained with the Sydney-AAO (Australian Astronomical Observatory) Multi-object Integral field spectrograph (SAMI), where σ-values greater than 150 km s<SUP>-1</SUP> are most naturally explained by bipolar outflows powered by starburst activity. We find that the extension of the simulated edge-on (pixelated) velocity dispersion probability distribution depends on stellar mass and star formation rate surface density (Σ<SUB>SFR</SUB>), with low-M<SUB>⋆</SUB>/low-Σ<SUB>SFR</SUB> galaxies showing a narrow peak at low σ (∼30 km s<SUP>-1</SUP>) and more active, high-M<SUB>⋆</SUB>/high-Σ<SUB>SFR</SUB> galaxies reaching σ &gt; 150 km s<SUP>-1</SUP>. Although supernova-driven galactic winds in the EAGLE simulations may not entrain enough gas with T &lt;10<SUP>5</SUP> K compared to observed galaxies, we find that gas temperature is a good proxy for the presence of outflows. There is a direct correlation between the thermal state of the gas and its state of motion as described by the σ-distribution. The following equivalence relations hold in EAGLE: (i) low-σ peak ⇔ disc of the galaxy ⇔ gas with T &lt;10<SUP>5</SUP> K; (ii) high-σ tail ⇔ galactic winds ⇔ gas with T ≥10<SUP>5</SUP> K.\n",
      "\n",
      "\n",
      "16 -- 2000ApJ...543L...9C\n",
      "{The Origin of a Chemically Enriched Ly{\\ensuremath{\\alpha}} Absorption System at Z = 0.167}\n",
      "{Chen}, Hsiao-Wen and {Prochaska}, Jason X.\n",
      "Related rank: 23.lyman_alpha_halos\n",
      "Read: UNREAD\n",
      "Included: False\n",
      "article\n",
      "\n",
      "We present the first detailed analysis of the chemical abundances, ionization state, and origin of a partial Lyman limit system [N(H I)~10<SUP>16</SUP> cm<SUP>-2</SUP>] at low redshift (z=0.167 toward PKS 0405-1219). Two galaxies at an ~70 h<SUP>-1</SUP> kpc projected distance to the QSO have been identified at the absorber redshift. We analyze an echelle spectrum of the QSO obtained with the Space Telescope Imaging Spectrograph and find that this absorption system exhibits associated lines produced by C<SUP>+</SUP>, N<SUP>+</SUP>, O<SUP>0</SUP>, Si<SUP>+</SUP>, Si<SUP>++</SUP>, Si<SUP>+3</SUP>, Fe<SUP>+</SUP>, and Fe<SUP>++</SUP> and, most interestingly, O<SUP>+5</SUP> and N<SUP>+4</SUP>. The results of our analysis show that the partial Lyman limit system traced by various ions is likely to be embedded in a collisionally ionized O VI gas of larger spatial extent. Furthermore, the partial Lyman limit system appears to have a metallicity of at least 1/10 solar and is most likely solar or supersolar despite the fact that no luminous galaxies are seen within a projected distance ρ=60 h<SUP>-1</SUP> kpc to the QSO. Finally, adopting the temperature estimated for the hot gas (T~2.5×10<SUP>5</SUP> K) and assuming a simple isothermal halo, we estimate that the galaxy or galaxy group that supports the extended gas may have a total mass ~1.5×10<SUP>12</SUP> M<SUB>solar</SUB> and a gas number density &lt;~3×10<SUP>-5</SUP> cm<SUP>-3</SUP>. Based on observations with the NASA/ESA Hubble Space Telescope, obtained at the Space Telescope Science Institute, which is operated by the Association of Universities for Research in Astronomy, Inc., under NASA contract NAS5-26555.\n",
      "\n",
      "\n",
      "17 -- 2002ApJ...569L..11V\n",
      "{The Most Distant Structure of Galaxies Known: A Protocluster at z=4.1}\n",
      "{Venemans}, B.~P. and {Kurk}, J.~D. and {Miley}, G.~K. and {R{\\\"o}ttgering}, H.~J.~A. and {van Breugel}, W. and {Carilli}, C.~L. and {De Breuck}, C. and {Ford}, H. and {Heckman}, T. and {McCarthy}, P. and {Pentericci}, L.\n",
      "Related rank: 24.lyman_alpha_halos\n",
      "Read: UNREAD\n",
      "Included: False\n",
      "article\n",
      "\n",
      "Imaging and spectroscopy with the Very Large Telescope have revealed 20 Lyα emitters within a projected distance of 1.3 Mpc and 600 km s<SUP>-1</SUP> of the luminous radio galaxy TN J1338-1942 at z=4.1. Compared to the field density of Lyα emitters, this implies an overdensity on the order of 15. The structure has a projected size of at least 2.7×1.8 Mpc and a velocity dispersion of 325 km s<SUP>-1</SUP>, which makes it the most distant structure known. Using the galaxy overdensity and assuming a bias parameter b=3-5, the mass is estimated to be ~10<SUP>15</SUP> M<SUB>solar</SUB>. The radio galaxy itself is surrounded by an uniquely asymmetric Lyα halo. Taken together with our previous data on PKS 1138-262 at z~2.16, these results suggest that luminous radio sources are excellent tracers of high-density regions in the early universe, which evolve into present-day clusters. The statistics of bright radio sources and of concentrations in the Lyman break galaxy population are consistent with the picture that each of those concentrations harbors an active or passive luminous radio source. Based on observations carried out at the European Southern Observatory, Paranal, Chile; program LP167.A-0409.\n",
      "\n",
      "\n",
      "18 -- 2010MNRAS.407..613G\n",
      "{Gravity-driven Ly{\\ensuremath{\\alpha}} blobs from cold streams into galaxies}\n",
      "{Goerdt}, Tobias and {Dekel}, A. and {Sternberg}, A. and {Ceverino}, D. and {Teyssier}, R. and {Primack}, J.~R.\n",
      "Related rank: 25.lyman_alpha_halos\n",
      "Read: UNREAD\n",
      "Included: False\n",
      "article\n",
      "\n",
      "We use high-resolution cosmological hydrodynamical adaptive mesh refinement (AMR) simulations to predict the characteristics of Lyα emission from the cold gas streams that fed galaxies in massive haloes at high redshift. The Lyα luminosity in our simulations is powered by the release of gravitational energy as gas flows from the intergalactic medium into the halo potential wells. The ultraviolet UV background contributes only &lt;20per cent to the gas heating. The Lyα emissivity is due primarily to electron-impact excitation cooling radiation in gas at ~2 × 10<SUP>4</SUP> K. We calculate the Lyα emissivities assuming collisional ionization equilibrium at all gas temperatures. The simulated streams are self-shielded against the UV background, so photoionization and recombination contribute negligibly to the Lyα line formation. We produce theoretical maps of the Lyα surface brightnesses, assuming that ~85per cent of the Lyα photons are directly observable. We do not consider transfer of the Lyα radiation, nor do we include the possible effects of internal sources of photoionization such as star-forming regions. Dust absorption is expected to obscure a small fraction of the luminosity in the streams. We find that typical haloes of mass M<SUB>v</SUB> ~ 10<SUP>12</SUP>-10<SUP>13</SUP>M<SUB>solar</SUB> at z ~ 3 emit as Lyα blobs (LABs) with luminosities 10<SUP>43</SUP>-10<SUP>44</SUP>ergs<SUP>-1</SUP>. Most of the Lyα comes from the extended (50-100kpc) narrow, partly clumpy, inflowing, cold streams of (1-5) × 10<SUP>4</SUP>K that feed the growing galaxies. The predicted LAB morphology is therefore irregular, with dense clumps and elongated extensions. The integrated area contained within surface brightness isophotes of 2 × 10<SUP>-18</SUP>ergs<SUP>-1</SUP>cm<SUP>-2</SUP>arcsec<SUP>-2</SUP> is ~2-100arcsec<SUP>2</SUP>, consistent with observations. The linewidth is expected to range from 10<SUP>2</SUP> to more than 10<SUP>3</SUP>kms<SUP>-1</SUP> with a large variance. The typical Lyα surface brightness profile is ~ r<SUP>-1.2</SUP> where r is the distance from the halo centre. Our simulated LABs are similar in luminosity, morphology and extent to the observed LABs, with distinct kinematic features. The predicted Lyα luminosity function is consistent with observations, and the predicted areas and linewidths roughly recover the observed scaling relations. This mechanism for producing LABs appears inevitable in many high-z galaxies, though it may work in parallel with other mechanisms. Some of the LABs may thus be regarded as direct detections of the cold streams that drove galaxy evolution at high z.\n",
      "\n",
      "\n"
     ]
    }
   ],
   "source": [
    "print_sorted_publications(\n",
    "    sorted_cospsi,\n",
    "    sorted_publications,\n",
    "    25,\n",
    "    a,\n",
    "    do_not_show_included = True,\n",
    "    do_not_show_not_included = True,\n",
    "    central_publication = pm['variation'],\n",
    ")"
   ]
  },
  {
   "cell_type": "markdown",
   "id": "9507048e-125d-40b8-98fd-baf426e484c5",
   "metadata": {
    "tags": []
   },
   "source": [
    "## Extensive Reading List\n",
    "For each and everyone of the publications."
   ]
  },
  {
   "cell_type": "code",
   "execution_count": null,
   "id": "380a9b9d-8255-4dfe-a5c9-e9d0bfcb99a6",
   "metadata": {},
   "outputs": [],
   "source": [
    "a_pubs = []\n",
    "sorted_cospsis = []\n",
    "sorted_publications = []\n",
    "for i, key_i in enumerate( pm['publications'] ):\n",
    "    a_i = atlas.Atlas(atlas_dir, load_bibtex=False, load_atlas_data=False )\n",
    "    a_i.data[key_i] = a[key_i]\n",
    "    \n",
    "    # Identify relevant publications\n",
    "    sorted_cospsi_i, sorted_publications_i = sort_by_similarity( key_i, c )\n",
    "    sorted_cospsis.append( sorted_cospsi_i )\n",
    "    sorted_publications.append( sorted_publications_i )\n",
    "\n",
    "    for key in sorted_publications_i:\n",
    "\n",
    "        # Get missing publications\n",
    "        if key in a_zotero.data:\n",
    "            a_i.data[key] = a_zotero.data[key]\n",
    "        elif key in a.data:\n",
    "            a_i.data[key] = a.data[key]\n",
    "\n",
    "    a_i.prune_duplicates(preferred=list(a_zotero.data.keys()))\n",
    "    \n",
    "    a_pubs.append( a_i )"
   ]
  },
  {
   "cell_type": "code",
   "execution_count": null,
   "id": "16294c59-cbf4-47c6-8f1a-4696735d5800",
   "metadata": {},
   "outputs": [],
   "source": [
    "pub_doc = tex.Tex( filepath=pm['tex_fp'] )"
   ]
  },
  {
   "cell_type": "code",
   "execution_count": null,
   "id": "9d228b81-e1f1-44f9-8688-37dfab0117ae",
   "metadata": {},
   "outputs": [],
   "source": [
    "topics_data['not_included'][pm['variation']].append( '2017MNRAS.466.3460V' )\n",
    "topics_data.to_json( topics_fp )"
   ]
  },
  {
   "cell_type": "code",
   "execution_count": null,
   "id": "f1655fce-ac25-4091-974a-3bbf5579124f",
   "metadata": {
    "tags": []
   },
   "outputs": [],
   "source": [
    "for i, a_i in enumerate( a_pubs ):\n",
    "    \n",
    "#     print( '===============================================================================' )\n",
    "#     print( pm['publications'][i] + '\\n' )\n",
    "    \n",
    "    print_sorted_publications(\n",
    "        sorted_cospsis[i],\n",
    "        sorted_publications[i],\n",
    "        pm['kernel_size'],\n",
    "        a_i,\n",
    "        do_not_show_included = True,\n",
    "        do_not_show_not_included = True,\n",
    "        central_publication = pm['publications'][i],\n",
    "    )"
   ]
  },
  {
   "cell_type": "code",
   "execution_count": null,
   "id": "d3db88ab-3ae3-4490-9329-a6c3785d0e1e",
   "metadata": {},
   "outputs": [],
   "source": []
  },
  {
   "cell_type": "code",
   "execution_count": null,
   "id": "721bec52-5366-4639-887c-3ae4a1807269",
   "metadata": {},
   "outputs": [],
   "source": []
  }
 ],
 "metadata": {
  "kernelspec": {
   "display_name": "Python 3",
   "language": "python",
   "name": "python3"
  },
  "language_info": {
   "codemirror_mode": {
    "name": "ipython",
    "version": 3
   },
   "file_extension": ".py",
   "mimetype": "text/x-python",
   "name": "python",
   "nbconvert_exporter": "python",
   "pygments_lexer": "ipython3",
   "version": "3.9.6"
  }
 },
 "nbformat": 4,
 "nbformat_minor": 5
}
