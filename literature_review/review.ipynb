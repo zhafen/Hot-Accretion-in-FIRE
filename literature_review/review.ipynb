{
 "cells": [
  {
   "cell_type": "markdown",
   "id": "4e84c978-f308-4da5-9ebc-b8106cec7a92",
   "metadata": {
    "tags": []
   },
   "source": [
    "# Review"
   ]
  },
  {
   "cell_type": "markdown",
   "id": "f6489937-4f3a-4358-b99c-0255cff2effa",
   "metadata": {
    "tags": []
   },
   "source": [
    "## Load and Update"
   ]
  },
  {
   "cell_type": "markdown",
   "id": "98f0e0a0-7ed9-41ad-a8bb-af5651b41e81",
   "metadata": {
    "tags": []
   },
   "source": [
    "### Zotero Atlas"
   ]
  },
  {
   "cell_type": "markdown",
   "id": "82099566-7642-4b5b-bb0b-ea425253c6ce",
   "metadata": {
    "tags": []
   },
   "source": [
    "### Large Atlas"
   ]
  },
  {
   "cell_type": "code",
   "execution_count": null,
   "id": "1e0fb8bb-5ccb-4773-94d8-665322bd7b86",
   "metadata": {},
   "outputs": [],
   "source": [
    "# Larger atlas\n",
    "a = atlas.Atlas( atlas_dir, load_bibtex=False, )"
   ]
  },
  {
   "cell_type": "code",
   "execution_count": null,
   "id": "86ce9cb5-252d-4330-8b98-0698e7715260",
   "metadata": {},
   "outputs": [],
   "source": [
    "# Vectorization\n",
    "vp_dict = a.vectorize()\n",
    "c = cartography.Cartographer( **vp_dict )"
   ]
  },
  {
   "cell_type": "markdown",
   "id": "074432fa-5850-44a9-8cf9-1aaedb4f137d",
   "metadata": {},
   "source": [
    "## Setup"
   ]
  },
  {
   "cell_type": "code",
   "execution_count": null,
   "id": "0c3b6ed5-1edb-4ff8-a982-853842687f74",
   "metadata": {},
   "outputs": [],
   "source": [
    "def sort_by_similarity( target_key, c ):\n",
    "    \n",
    "    cospsi = c.cospsi( target_key, 'all' )\n",
    "    sort_inds = np.argsort(cospsi)[::-1]\n",
    "    sorted_cospsi = cospsi[sort_inds]\n",
    "    sorted_publications = c.publications[sort_inds]\n",
    "    \n",
    "    return sorted_cospsi, sorted_publications"
   ]
  },
  {
   "cell_type": "code",
   "execution_count": null,
   "id": "acff1600-cb3c-4067-ab36-c4752ceca92f",
   "metadata": {},
   "outputs": [],
   "source": [
    "def print_sorted_publications( sorted_cospsi, sorted_publications, kernel_size, a, a_check, show_only_unread=False ):\n",
    "\n",
    "    print( 'The {} most related publications are...\\n'.format( kernel_size ) )\n",
    "    i = 1\n",
    "\n",
    "    # In case the first is a duplicate\n",
    "    if c.cospsi( sorted_publications[0], sorted_publications[1] )[0] > 0.9:\n",
    "        i += 1\n",
    "    \n",
    "    n_show = 0\n",
    "    while n_show < kernel_size:\n",
    "\n",
    "        key = sorted_publications[i]\n",
    "\n",
    "        # Check for duplicate publications\n",
    "        if c.cospsi( sorted_publications[i], sorted_publications[i+1] )[0] > 0.9:\n",
    "            if sorted_publications[i+1] in a_check.data:\n",
    "                key = sorted_publications[i+1]\n",
    "            i += 2\n",
    "        else:\n",
    "            i += 1\n",
    "            \n",
    "        if key in a_check.data:\n",
    "            p_i = a_check[key]\n",
    "        else:\n",
    "            p_i = a[key]\n",
    "            \n",
    "        n_show += 1\n",
    "\n",
    "        if 'read' in p_i.notes:\n",
    "            read_flag = p_i.notes['read']\n",
    "        else:\n",
    "            read_flag = 'UNREAD'\n",
    "            \n",
    "        if show_only_unread and read_flag != 'UNREAD':\n",
    "            continue\n",
    "\n",
    "        print( key )\n",
    "        print( 'Read: {}'.format( read_flag ) )\n",
    "        print( p_i.citation['author'] + '\\n' )\n",
    "        print( p_i.points_str() + '\\n\\n' )\n",
    "\n"
   ]
  },
  {
   "cell_type": "code",
   "execution_count": null,
   "id": "4052f850-9b82-4147-bd1a-0f7b98471471",
   "metadata": {
    "tags": []
   },
   "outputs": [],
   "source": [
    "a.process_abstracts()\n",
    "a.save_data()"
   ]
  },
  {
   "cell_type": "code",
   "execution_count": null,
   "id": "ce8d073d-e429-49b3-8928-1f730c768ca4",
   "metadata": {},
   "outputs": [],
   "source": [
    "sorted_cospsi, sorted_publications = sort_by_similarity( pubs_i[0], c )"
   ]
  },
  {
   "cell_type": "code",
   "execution_count": null,
   "id": "e0bb479f-7927-4b40-82a0-efabcb98b6b1",
   "metadata": {},
   "outputs": [],
   "source": [
    "a_search = copy.copy( a_zotero )"
   ]
  },
  {
   "cell_type": "code",
   "execution_count": null,
   "id": "3e61eca0-6468-4e33-b1a7-2094283eedc8",
   "metadata": {},
   "outputs": [],
   "source": [
    "n_region = 100\n",
    "for p_i in sorted_publications[:n_region]:\n",
    "    if p_i not in a_search.data:\n",
    "        a_search.data[p_i] = a.data[p_i]"
   ]
  },
  {
   "cell_type": "code",
   "execution_count": null,
   "id": "88291a2f-5b5d-40d6-a85a-d9c420cf6c88",
   "metadata": {},
   "outputs": [],
   "source": [
    "a_search.process_abstracts()"
   ]
  },
  {
   "cell_type": "code",
   "execution_count": null,
   "id": "a4107e11-7499-4670-808e-7dc7409eb0d5",
   "metadata": {},
   "outputs": [],
   "source": [
    "import tqdm"
   ]
  },
  {
   "cell_type": "code",
   "execution_count": null,
   "id": "8c6e8369-6f50-4b5d-9938-8c432a254cb4",
   "metadata": {},
   "outputs": [],
   "source": [
    "a_search['Hafen2019'].get_vectorization_input()"
   ]
  },
  {
   "cell_type": "code",
   "execution_count": null,
   "id": "6404f878-f5f1-4dd3-b34d-460fc034f714",
   "metadata": {},
   "outputs": [],
   "source": [
    "abstracts = []\n",
    "projected_publications = []\n",
    "pub_date = []\n",
    "for key, item in tqdm.tqdm( a_search.data.items() ):\n",
    "#     abstracts.append( getattr( item, str_fn[method] )() )\n",
    "    projected_publications.append( key )\n",
    "    pub_date.append( item.publication_date )"
   ]
  },
  {
   "cell_type": "code",
   "execution_count": null,
   "id": "e1d7b338-7c42-45a2-ada8-e597d8be837b",
   "metadata": {},
   "outputs": [],
   "source": [
    "sorted_cospsi[:kernel_size]"
   ]
  },
  {
   "cell_type": "code",
   "execution_count": null,
   "id": "33aaf8d2-1888-4da3-ba06-868cce77edcb",
   "metadata": {},
   "outputs": [],
   "source": [
    "sorted_publications[:kernel_size]"
   ]
  },
  {
   "cell_type": "code",
   "execution_count": null,
   "id": "208290a6-3204-4e7b-b70a-3bd26e2e58ed",
   "metadata": {
    "tags": []
   },
   "outputs": [],
   "source": [
    "print( 'Expanding for topics...' )\n",
    "for topic, pubs_i in topics.items():\n",
    "    print( '\\n\\n{}'.format( topic ) )\n",
    "    for p_i in pubs_i:\n",
    "        \n",
    "        print( '=============================================================\\n\\nFor publication {}\\n\\n'.format( p_i ) )\n",
    "\n",
    "        sorted_cospsi, sorted_publications = sort_by_similarity( p_i, c )\n",
    "        print_sorted_publications( sorted_cospsi, sorted_publications, kernel_size, a, a_zotero, show_only_unread=True )"
   ]
  },
  {
   "cell_type": "markdown",
   "id": "45cc105c-8f95-43fe-a4d8-947cd5d74db8",
   "metadata": {
    "jp-MarkdownHeadingCollapsed": true,
    "tags": []
   },
   "source": [
    "# Identify Publications of Interest"
   ]
  },
  {
   "cell_type": "code",
   "execution_count": null,
   "id": "b8ebf187-71b8-450a-a167-98ce78432566",
   "metadata": {},
   "outputs": [],
   "source": [
    "generally_relevant = [\n",
    "    'Noguchi2019',\n",
    "]"
   ]
  }
 ],
 "metadata": {
  "kernelspec": {
   "display_name": "Python 3",
   "language": "python",
   "name": "python3"
  },
  "language_info": {
   "codemirror_mode": {
    "name": "ipython",
    "version": 3
   },
   "file_extension": ".py",
   "mimetype": "text/x-python",
   "name": "python",
   "nbconvert_exporter": "python",
   "pygments_lexer": "ipython3",
   "version": "3.9.6"
  }
 },
 "nbformat": 4,
 "nbformat_minor": 5
}
