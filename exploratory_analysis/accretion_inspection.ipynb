{
 "cells": [
  {
   "cell_type": "code",
   "execution_count": 1,
   "id": "0332aa71-eef7-4544-af8f-790f1439da10",
   "metadata": {},
   "outputs": [],
   "source": [
    "import copy\n",
    "import time, importlib\n",
    "import h5py\n",
    "import numpy as np\n",
    "import os\n",
    "import pandas as pd\n",
    "import scipy, scipy.ndimage\n",
    "import tqdm\n",
    "import unyt"
   ]
  },
  {
   "cell_type": "code",
   "execution_count": 2,
   "id": "672acede-5c74-4f34-ae95-ca57006955e2",
   "metadata": {},
   "outputs": [],
   "source": [
    "import kalepy as kale"
   ]
  },
  {
   "cell_type": "code",
   "execution_count": 3,
   "id": "bd0e110a-954a-430b-a31c-41679605f74c",
   "metadata": {},
   "outputs": [],
   "source": [
    "import matplotlib\n",
    "import matplotlib.colors\n",
    "import matplotlib.gridspec as gridspec\n",
    "import matplotlib.patheffects as patheffects"
   ]
  },
  {
   "cell_type": "code",
   "execution_count": 4,
   "id": "7b75858b-6973-4147-9ca9-ece7e96acfa8",
   "metadata": {},
   "outputs": [],
   "source": [
    "import palettable"
   ]
  },
  {
   "cell_type": "code",
   "execution_count": 5,
   "id": "df82f5a3-a36a-4cb1-a786-44b037b5e6f4",
   "metadata": {},
   "outputs": [],
   "source": [
    "import linefinder.analyze_data.worldlines as a_worldlines\n",
    "import linefinder.analyze_data.plot_worldlines as p_worldlines\n",
    "import linefinder.config as l_config"
   ]
  },
  {
   "cell_type": "code",
   "execution_count": 6,
   "id": "66780ee7-7ce5-4668-94bd-ef687687f272",
   "metadata": {},
   "outputs": [],
   "source": [
    "import galaxy_dive.plot_data.plotting as plotting"
   ]
  },
  {
   "cell_type": "code",
   "execution_count": 7,
   "id": "8e0755f1-88f5-4997-b824-094d3b3bced2",
   "metadata": {},
   "outputs": [],
   "source": [
    "import coolingFunction"
   ]
  },
  {
   "cell_type": "code",
   "execution_count": 8,
   "id": "8b5cae1b-4a2f-44a0-b1d0-c87d770ef827",
   "metadata": {},
   "outputs": [],
   "source": [
    "import trove\n",
    "import verdict\n",
    "from py2tex import py2tex"
   ]
  },
  {
   "cell_type": "code",
   "execution_count": 9,
   "id": "558b6374-854c-4361-b2f7-9391a8a92387",
   "metadata": {},
   "outputs": [],
   "source": [
    "import helpers"
   ]
  },
  {
   "cell_type": "code",
   "execution_count": 10,
   "id": "9398c552-8829-488e-a8a7-7beb20e5b37b",
   "metadata": {},
   "outputs": [],
   "source": [
    "%matplotlib inline\n",
    "matplotlib.style.use( '~/repos/clean-bold/clean-bold.mplstyle' )"
   ]
  },
  {
   "cell_type": "markdown",
   "id": "109e316c-2785-498c-8746-4f951ff3b95b",
   "metadata": {},
   "source": [
    "# Parameters"
   ]
  },
  {
   "cell_type": "markdown",
   "id": "0f04f4f0-3c81-4bfa-8475-feadccbe3d28",
   "metadata": {},
   "source": [
    "## Manual"
   ]
  },
  {
   "cell_type": "code",
   "execution_count": 11,
   "id": "69e9ba0c-a70e-463e-a7b7-6991663694fe",
   "metadata": {},
   "outputs": [],
   "source": [
    "pm = dict(\n",
    "    snum = 600,\n",
    "    ahf_index = 600,\n",
    "    variation = 'm12i_md',\n",
    "    global_variation = 'relative_to_accretion',\n",
    ")"
   ]
  },
  {
   "cell_type": "code",
   "execution_count": 12,
   "id": "39ed2f49-db0c-4bae-b0ba-0458944c426d",
   "metadata": {},
   "outputs": [],
   "source": [
    "global_variations = [\n",
    "    '',\n",
    "#     'track_all_thin_disk_stars',\n",
    "#     'track_all_recent_stars',\n",
    "]"
   ]
  },
  {
   "cell_type": "code",
   "execution_count": 13,
   "id": "78209e4a-9f49-465f-bb7d-fffae818c379",
   "metadata": {},
   "outputs": [],
   "source": [
    "labels = [\n",
    "    'main sample',\n",
    "#     r'all stars with $j_z/j_c(E) > 0.8$',\n",
    "    r'all stars with age $<1$ Gyr',\n",
    "    r'all stars with $j_z/j_c(E) > 0.9$',\n",
    "]"
   ]
  },
  {
   "cell_type": "code",
   "execution_count": 14,
   "id": "be083514-349a-40c4-b06c-bafb910107fd",
   "metadata": {},
   "outputs": [],
   "source": [
    "cmap = palettable.cartocolors.qualitative.Pastel_10.mpl_colors\n",
    "colors = [ cmap[0], cmap[1], cmap[3], cmap[5] ]"
   ]
  },
  {
   "cell_type": "markdown",
   "id": "40e210c7-ce10-45d9-baf0-0fd8a4cb35ec",
   "metadata": {},
   "source": [
    "# Load Data"
   ]
  },
  {
   "cell_type": "code",
   "execution_count": 15,
   "id": "484aca01-afe5-4e34-bfc7-17573f4db9e1",
   "metadata": {},
   "outputs": [],
   "source": [
    "pm = trove.link_params_to_config(\n",
    "    '/home1/03057/zhafen/papers/Hot-Accretion-in-FIRE/analysis/hot_accretion.trove',\n",
    "    script_id = 'nb.8',\n",
    "    **pm\n",
    ")"
   ]
  },
  {
   "cell_type": "code",
   "execution_count": 16,
   "id": "e4398eaf-129e-4831-8f6b-02e1393478e5",
   "metadata": {},
   "outputs": [],
   "source": [
    "w = a_worldlines.Worldlines(\n",
    "    tag = pm['tag'],\n",
    "    data_dir = pm['data_dirs']['jug.4'],\n",
    "    halo_data_dir = pm['halo_data_dir'],\n",
    "    ahf_index = pm['ahf_index'],\n",
    ")"
   ]
  },
  {
   "cell_type": "markdown",
   "id": "13aa9346-2d30-4da9-88c2-d31b5acea05f",
   "metadata": {},
   "source": [
    "# Calculate Accretion and cooling time"
   ]
  },
  {
   "cell_type": "markdown",
   "id": "17264743-0478-40aa-8223-ff853b84656a",
   "metadata": {},
   "source": [
    "## Times"
   ]
  },
  {
   "cell_type": "code",
   "execution_count": 17,
   "id": "62801515-5d27-471b-afad-a408a3764e6a",
   "metadata": {},
   "outputs": [
    {
     "name": "stderr",
     "output_type": "stream",
     "text": [
      "100%|██████████| 45846/45846 [00:03<00:00, 12362.63it/s]\n"
     ]
    }
   ],
   "source": [
    "tacc_inds = w.calc_tacc_inds(\n",
    "    lookback_time_max = pm['lookback_time_max'],\n",
    "    choose_first = pm['choose_first'],\n",
    ")"
   ]
  },
  {
   "cell_type": "code",
   "execution_count": 18,
   "id": "bbe054e1-0d3a-40db-b3f8-9890e58ffbb9",
   "metadata": {},
   "outputs": [
    {
     "name": "stderr",
     "output_type": "stream",
     "text": [
      "100%|██████████| 45846/45846 [00:03<00:00, 12347.12it/s]\n",
      "100%|██████████| 45846/45846 [00:02<00:00, 18254.06it/s]\n"
     ]
    }
   ],
   "source": [
    "tcools_inds = w.calc_tcools_inds(\n",
    "    lookback_time_max = pm['lookback_time_max'],\n",
    "    choose_first = pm['choose_first'],\n",
    "    B = pm['logTcools'],\n",
    ")"
   ]
  },
  {
   "cell_type": "code",
   "execution_count": 19,
   "id": "0c1441a0-da52-48de-ba7d-d605279db2b5",
   "metadata": {},
   "outputs": [
    {
     "name": "stderr",
     "output_type": "stream",
     "text": [
      "100%|██████████| 45846/45846 [00:04<00:00, 11030.76it/s]\n",
      "/home1/03057/zhafen/repos/galaxy-dive/galaxy_dive/analyze_data/simulation_data.py:1181: FutureWarning: Support for multi-dimensional indexing (e.g. `obj[:, None]`) is deprecated and will be removed in a future version.  Convert to a numpy array before indexing instead.\n",
      "  self.halo_coords = halo_coords_comoving * scale_factor_and_hinv[np.newaxis, :]\n",
      "100%|██████████| 45846/45846 [00:25<00:00, 1823.42it/s]\n"
     ]
    }
   ],
   "source": [
    "is_hot_accretion = w.calc_is_hot_accretion(\n",
    "    lookback_time_max = pm['lookback_time_max'],\n",
    "    choose_first = pm['choose_first'],\n",
    "    B = pm['logTcools'],\n",
    ")"
   ]
  },
  {
   "cell_type": "code",
   "execution_count": 20,
   "id": "536177ba-ca9c-4fd2-abb4-a5a5fc0a8b60",
   "metadata": {},
   "outputs": [],
   "source": [
    "is_accreted = tacc_inds != l_config.INT_FILL_VALUE\n",
    "valid = is_accreted & ( tcools_inds != l_config.INT_FILL_VALUE )\n",
    "tacc_inds = tacc_inds[valid]\n",
    "tcools_inds = tcools_inds[valid]\n",
    "particle_inds = np.arange( w.n_particles )[valid]"
   ]
  },
  {
   "cell_type": "code",
   "execution_count": 21,
   "id": "57ad60f1-bb59-49d4-8b32-941c266e5763",
   "metadata": {},
   "outputs": [],
   "source": [
    "tacc = w.get_data( 'tacc' )[particle_inds]\n",
    "tcools = w.get_data( 'tcools' )[particle_inds]"
   ]
  },
  {
   "cell_type": "markdown",
   "id": "f7991098-84d5-4f0a-9804-12d42cd62e09",
   "metadata": {},
   "source": [
    "# What Criteria is Important?"
   ]
  },
  {
   "cell_type": "markdown",
   "id": "fb6aa757-92f9-4d61-9c0a-96be222841da",
   "metadata": {},
   "source": [
    "## Identify Location in Radius-Density Space at Accretion"
   ]
  },
  {
   "cell_type": "code",
   "execution_count": 22,
   "id": "3f11fd6d-ee8d-4753-b7bf-b623a0af986d",
   "metadata": {},
   "outputs": [],
   "source": [
    "w.data_masker.clear_masks()\n",
    "w.mask_data( 'PType', data_value=0 )"
   ]
  },
  {
   "cell_type": "code",
   "execution_count": 23,
   "id": "5f995841-9412-444f-8ba9-2676cb435fab",
   "metadata": {},
   "outputs": [],
   "source": [
    "r_gal = np.full( w.n_snaps, np.nan )\n",
    "r_gal[:w.r_gal.size] = w.r_gal"
   ]
  },
  {
   "cell_type": "code",
   "execution_count": 24,
   "id": "0c435576-3b0e-43e7-ac19-a07b354a3044",
   "metadata": {},
   "outputs": [],
   "source": [
    "rrgal_acc = ( w.get_selected_data( 'R', compress=False ) / r_gal )[particle_inds,tacc_inds].compressed()\n",
    "n_acc = w.get_selected_data( 'Den', compress=False )[particle_inds,tacc_inds].compressed()"
   ]
  },
  {
   "cell_type": "code",
   "execution_count": 25,
   "id": "5ac202d9-4f5f-4082-9c12-60e0b5a2c381",
   "metadata": {},
   "outputs": [],
   "source": [
    "is_dense = n_acc > l_config.GALAXY_DENSITY_CUT\n",
    "is_near = rrgal_acc < 1\n",
    "is_dense_but_far = is_dense & np.invert( is_near )\n",
    "is_near_but_underdense = np.invert( is_dense ) & is_near\n",
    "is_underdense_and_far = np.invert( is_dense ) & np.invert( is_near )"
   ]
  },
  {
   "cell_type": "code",
   "execution_count": 26,
   "id": "6d59d69f-d521-46c4-bc0f-f3331892d3fc",
   "metadata": {},
   "outputs": [],
   "source": [
    "p_dense_but_far = is_dense_but_far.sum() / rrgal_acc.size * 100\n",
    "p_near_but_underdense = is_near_but_underdense.sum() / rrgal_acc.size * 100\n",
    "p_underdense_and_far = is_underdense_and_far.sum() / rrgal_acc.size * 100"
   ]
  },
  {
   "cell_type": "code",
   "execution_count": 27,
   "id": "a65f8510-3f29-49f3-a48d-96baa294145b",
   "metadata": {},
   "outputs": [
    {
     "data": {
      "image/png": "[encoded data removed]",
      "text/plain": [
       "<Figure size 1050x787.5 with 1 Axes>"
      ]
     },
     "metadata": {},
     "output_type": "display_data"
    }
   ],
   "source": [
    "fig = plt.figure( facecolor='w' )\n",
    "ax = plt.gca()\n",
    "\n",
    "n_bins = 64\n",
    "bins = [\n",
    "    np.linspace( 0, 1.5, n_bins ),\n",
    "    np.logspace( -4, 4, n_bins ),\n",
    "]\n",
    "hist, x_edges, y_edges, img = ax.hist2d(\n",
    "    rrgal_acc,\n",
    "    n_acc,\n",
    "    bins = bins,\n",
    "    cmap = 'cubehelix_r',\n",
    "    norm = matplotlib.colors.LogNorm()\n",
    ")\n",
    "\n",
    "text = ax.annotate(\n",
    "    text = '{:.3g}%\\ntoo far'.format( p_dense_but_far ),\n",
    "    xy = ( 1, 1 ),\n",
    "    xytext = ( -5, -5 ),\n",
    "    xycoords = 'axes fraction',\n",
    "    textcoords = 'offset points',\n",
    "    fontsize = 18,\n",
    "    ha = 'right', \n",
    "    va = 'top',\n",
    ")\n",
    "text.set_path_effects([\n",
    "    patheffects.Stroke(linewidth=3, foreground='white'),\n",
    "    patheffects.Normal()\n",
    "])\n",
    "text = ax.annotate(\n",
    "    text = 'underdense\\n{:.3g}%'.format( p_near_but_underdense ),\n",
    "    xy = ( 0, 0 ),\n",
    "    xytext = ( 5, 5 ),\n",
    "    xycoords = 'axes fraction',\n",
    "    textcoords = 'offset points',\n",
    "    fontsize = 18,\n",
    "    ha = 'left', \n",
    "    va = 'bottom',\n",
    ")\n",
    "text.set_path_effects([\n",
    "    patheffects.Stroke(linewidth=3, foreground='white'),\n",
    "    patheffects.Normal()\n",
    "])\n",
    "text = ax.annotate(\n",
    "    text = 'both\\n{:.3g}%'.format( p_underdense_and_far ),\n",
    "    xy = ( 1, 0 ),\n",
    "    xytext = ( -5, 5 ),\n",
    "    xycoords = 'axes fraction',\n",
    "    textcoords = 'offset points',\n",
    "    fontsize = 18,\n",
    "    ha = 'right', \n",
    "    va = 'bottom',\n",
    ")\n",
    "text.set_path_effects([\n",
    "    patheffects.Stroke(linewidth=3, foreground='white'),\n",
    "    patheffects.Normal()\n",
    "])\n",
    "\n",
    "ax.axvline(\n",
    "    1.,\n",
    "    color = pm['background_linecolor'],\n",
    "    linewidth = 2,\n",
    ")\n",
    "ax.axhline(\n",
    "    l_config.GALAXY_DENSITY_CUT,\n",
    "    color = pm['background_linecolor'],\n",
    "    linewidth = 2,\n",
    ")\n",
    "\n",
    "ax.set_xlabel( r'$r_{\\rm acc}$ / $r_{\\rm gal}$', fontsize=22 )\n",
    "ax.set_ylabel( r'$n_{\\rm acc}$ [cm$^{-3}$]', fontsize=22 )\n",
    "ax.set_yscale( 'log' )"
   ]
  }
 ],
 "metadata": {
  "kernelspec": {
   "display_name": "Python 3",
   "language": "python",
   "name": "python3"
  },
  "language_info": {
   "codemirror_mode": {
    "name": "ipython",
    "version": 3
   },
   "file_extension": ".py",
   "mimetype": "text/x-python",
   "name": "python",
   "nbconvert_exporter": "python",
   "pygments_lexer": "ipython3",
   "version": "3.9.1"
  }
 },
 "nbformat": 4,
 "nbformat_minor": 5
}
