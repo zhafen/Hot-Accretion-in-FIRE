{
 "cells": [
  {
   "cell_type": "code",
   "execution_count": 1,
   "metadata": {},
   "outputs": [],
   "source": [
    "import copy\n",
    "import h5py\n",
    "import numpy as np\n",
    "import os\n",
    "import scipy\n",
    "import sys\n",
    "import time\n",
    "import tqdm\n",
    "import unyt\n",
    "import verdict"
   ]
  },
  {
   "cell_type": "code",
   "execution_count": 2,
   "metadata": {},
   "outputs": [],
   "source": [
    "import matplotlib\n",
    "import matplotlib.pyplot as plt\n",
    "import matplotlib.patheffects as path_effects"
   ]
  },
  {
   "cell_type": "markdown",
   "metadata": {},
   "source": [
    "import yt\n",
    "import trident\n",
    "import trident.line_database as line_database"
   ]
  },
  {
   "cell_type": "code",
   "execution_count": 3,
   "metadata": {},
   "outputs": [
    {
     "name": "stdout",
     "output_type": "stream",
     "text": [
      "don't have phil's colormaps\n"
     ]
    }
   ],
   "source": [
    "import firestudio.studios.gas_studio as gas_studio"
   ]
  },
  {
   "cell_type": "code",
   "execution_count": 4,
   "metadata": {},
   "outputs": [],
   "source": [
    "import linefinder.analyze_data.worldlines as a_worldlines\n",
    "import linefinder.analyze_data.worldline_set as worldline_set\n",
    "import linefinder.analyze_data.plot_worldlines as p_worldlines\n",
    "import linefinder.utils.presentation_constants as p_constants"
   ]
  },
  {
   "cell_type": "code",
   "execution_count": 5,
   "metadata": {},
   "outputs": [],
   "source": [
    "import linefinder.utils.file_management as file_management\n",
    "import linefinder.config as config"
   ]
  },
  {
   "cell_type": "markdown",
   "metadata": {},
   "source": [
    "# Parameters"
   ]
  },
  {
   "cell_type": "code",
   "execution_count": 6,
   "metadata": {},
   "outputs": [],
   "source": [
    "sim_name = 'm12i_md'\n",
    "snum = 600\n",
    "galdef = ''"
   ]
  },
  {
   "cell_type": "markdown",
   "metadata": {},
   "source": [
    "# Load Data"
   ]
  },
  {
   "cell_type": "code",
   "execution_count": 7,
   "metadata": {},
   "outputs": [],
   "source": [
    "file_manager = file_management.FileManager( 'hot_halo_physics' )"
   ]
  },
  {
   "cell_type": "code",
   "execution_count": 8,
   "metadata": {},
   "outputs": [
    {
     "data": {
      "text/plain": [
       "{'data_dir': '/scratch/03057/zhafen/linefinder_data/metal_diffusion/m12i_res7100/data',\n",
       " 'tag': 'm12i_md_hothaloacc',\n",
       " 'halo_data_dir': '/scratch/03057/zhafen/halo_files/metal_diffusion/m12i_res7100',\n",
       " 'ahf_index': 600,\n",
       " 'main_halo_id': 0}"
      ]
     },
     "execution_count": 8,
     "metadata": {},
     "output_type": "execute_result"
    }
   ],
   "source": [
    "defaults = file_manager.get_linefinder_analysis_defaults(\n",
    "    '_hothaloacc',\n",
    "    sim_name = sim_name,\n",
    "    galdef = galdef,\n",
    ")\n",
    "defaults"
   ]
  },
  {
   "cell_type": "code",
   "execution_count": 9,
   "metadata": {},
   "outputs": [],
   "source": [
    "ind = defaults['ahf_index'] - snum"
   ]
  },
  {
   "cell_type": "code",
   "execution_count": 10,
   "metadata": {},
   "outputs": [],
   "source": [
    "w = a_worldlines.Worldlines( **defaults )"
   ]
  },
  {
   "cell_type": "code",
   "execution_count": 11,
   "metadata": {},
   "outputs": [
    {
     "name": "stderr",
     "output_type": "stream",
     "text": [
      "FutureWarning: \n",
      "Passing list-likes to .loc or [] with any missing label will raise\n",
      "KeyError in the future, you can use .reindex() as an alternative.\n",
      "\n",
      "See the documentation here:\n",
      "https://pandas.pydata.org/pandas-docs/stable/indexing.html#deprecate-loc-reindex-listlike\n"
     ]
    }
   ],
   "source": [
    "w.retrieve_halo_data()"
   ]
  },
  {
   "cell_type": "code",
   "execution_count": 12,
   "metadata": {},
   "outputs": [
    {
     "name": "stdout",
     "output_type": "stream",
     "text": [
      "m12i_md_hothaloacc\n"
     ]
    }
   ],
   "source": [
    "print( w.tag )"
   ]
  },
  {
   "cell_type": "code",
   "execution_count": 13,
   "metadata": {},
   "outputs": [
    {
     "name": "stdout",
     "output_type": "stream",
     "text": [
      "$M_{\\rm h} = 10^{12} M_\\odot$, z=0.0\n"
     ]
    }
   ],
   "source": [
    "m_plot_label  = r'$M_{\\rm h} = 10^{' + '{:.02g}'.format( np.log10( w.m_vir[snum] ) )\n",
    "m_plot_label += '} M_\\odot$'\n",
    "plot_label = m_plot_label + ', z={:.02}'.format( w.redshift[snum] )\n",
    "print( plot_label )"
   ]
  },
  {
   "cell_type": "code",
   "execution_count": 14,
   "metadata": {},
   "outputs": [],
   "source": [
    "classification_list = copy.copy( p_constants.CLASSIFICATIONS_CGM_FATE )"
   ]
  },
  {
   "cell_type": "code",
   "execution_count": 15,
   "metadata": {},
   "outputs": [],
   "source": [
    "w_plotter = p_worldlines.WorldlinesPlotter( w, label=plot_label )"
   ]
  },
  {
   "cell_type": "markdown",
   "metadata": {},
   "source": [
    "# Calculate Time Relative to $t_{10^5}$"
   ]
  },
  {
   "cell_type": "markdown",
   "metadata": {},
   "source": [
    "w.data_masker.clear_masks()\n",
    "w.data_masker.mask_data( 'PType', data_value=0 )\n",
    "\n",
    "# Median and interval stats\n",
    "logT = np.log10( w.get_selected_data( 'T', compress=False ) )"
   ]
  },
  {
   "cell_type": "markdown",
   "metadata": {},
   "source": [
    "inds = []\n",
    "for logT_arr in tqdm.tqdm( logT ):\n",
    "\n",
    "    ind_ = -1\n",
    "    for i in range( logT_arr.size ):\n",
    "        if logT_arr[i] > 5.:\n",
    "            ind_ = i\n",
    "            break\n",
    "\n",
    "    inds.append( ind_ )"
   ]
  },
  {
   "cell_type": "markdown",
   "metadata": {},
   "source": [
    "t = w.get_data( 'time' )\n",
    "t_1e5 = np.array( [ t[ind] for ind in inds ] )"
   ]
  },
  {
   "cell_type": "markdown",
   "metadata": {},
   "source": [
    "w.data['t_t_1e5'] = w.get_data( 'time', tile_data=True, compress=False ) - t_1e5[:,np.newaxis]"
   ]
  },
  {
   "cell_type": "code",
   "execution_count": 16,
   "metadata": {},
   "outputs": [
    {
     "name": "stderr",
     "output_type": "stream",
     "text": [
      "100%|██████████| 45846/45846 [00:37<00:00, 1230.82it/s]\n"
     ]
    },
    {
     "data": {
      "text/plain": [
       "array([[  0.7435932 ,   0.741374  ,   0.739151  , ..., -12.771565  ,\n",
       "        -12.78217   , -12.861317  ],\n",
       "       [  0.35768318,   0.35546398,   0.35324097, ..., -13.157475  ,\n",
       "        -13.16808   , -13.247227  ],\n",
       "       [  0.7893896 ,   0.7871704 ,   0.7849474 , ..., -12.725769  ,\n",
       "        -12.736374  , -12.81552   ],\n",
       "       ...,\n",
       "       [  1.4392653 ,   1.437046  ,   1.434823  , ..., -12.075893  ,\n",
       "        -12.086498  , -12.165645  ],\n",
       "       [  0.13350868,   0.13128948,   0.12906647, ..., -13.38165   ,\n",
       "        -13.392255  , -13.471401  ],\n",
       "       [  0.7893896 ,   0.7871704 ,   0.7849474 , ..., -12.725769  ,\n",
       "        -12.736374  , -12.81552   ]], dtype=float32)"
      ]
     },
     "execution_count": 16,
     "metadata": {},
     "output_type": "execute_result"
    }
   ],
   "source": [
    "w.get_data( 't_t_1e5' )"
   ]
  },
  {
   "cell_type": "markdown",
   "metadata": {},
   "source": [
    "# Calculate Abundances"
   ]
  },
  {
   "cell_type": "markdown",
   "metadata": {},
   "source": [
    "data = {\n",
    "    'particle_position_x': w.get_data( 'Rx' ),\n",
    "    'particle_position_x': w.get_data( 'Ry' ),\n",
    "    'particle_position_x': w.get_data( 'Rz' ),\n",
    "    'particle_mass': w.get_data( 'M' ),\n",
    "    ('io', 'density'): w.get_data( 'Den' ),\n",
    "}\n",
    "ds = yt.load_particles(\n",
    "    data,\n",
    ")"
   ]
  },
  {
   "cell_type": "markdown",
   "metadata": {},
   "source": [
    "ds.field_list"
   ]
  },
  {
   "cell_type": "markdown",
   "metadata": {},
   "source": [
    "trident.add_ion_fields( ds, [ 'H I', ] )"
   ]
  },
  {
   "cell_type": "markdown",
   "metadata": {},
   "source": [
    "# Produce FIRE Studio Images"
   ]
  },
  {
   "cell_type": "code",
   "execution_count": 18,
   "metadata": {},
   "outputs": [],
   "source": [
    "# Custom cmap\n",
    "# Deviation around zero colormap (blue--red)\n",
    "cols = []\n",
    "for x in np.linspace(0,1, 256):\n",
    "    rcol = 0.237 - 2.13*x + 26.92*x**2 - 65.5*x**3 + 63.5*x**4 - 22.36*x**5\n",
    "    gcol = ((0.572 + 1.524*x - 1.811*x**2)/(1 - 0.291*x + 0.1574*x**2))**2\n",
    "    bcol = 1/(1.579 - 4.03*x + 12.92*x**2 - 31.4*x**3 + 48.6*x**4 - 23.36*x**5)\n",
    "    cols.append((rcol, gcol, bcol))\n",
    "cmap = matplotlib.colors.LinearSegmentedColormap.from_list(\"PaulT_plusmin\", cols)"
   ]
  },
  {
   "cell_type": "code",
   "execution_count": 19,
   "metadata": {},
   "outputs": [],
   "source": [
    "dt = 0.03\n",
    "dt_snaps = dt / 10.\n",
    "t_centers = np.arange( -0.12, 0.12 + dt_snaps/1000., dt_snaps )\n",
    "# t_centers = np.array([ -0.1, 0., 0.1 ])"
   ]
  },
  {
   "cell_type": "code",
   "execution_count": 20,
   "metadata": {},
   "outputs": [],
   "source": [
    "hsml_conversion = ( unyt.Msun / ( unyt.mp * unyt.cm**-3 ) ).to( unyt.kpc**3 )**(1./3.)"
   ]
  },
  {
   "cell_type": "code",
   "execution_count": 21,
   "metadata": {},
   "outputs": [
    {
     "data": {
      "text/plain": [
       "\u001b[0;31mInit signature:\u001b[0m \u001b[0mgas_studio\u001b[0m\u001b[0;34m.\u001b[0m\u001b[0mGasStudio\u001b[0m\u001b[0;34m(\u001b[0m\u001b[0mdatadir\u001b[0m\u001b[0;34m,\u001b[0m \u001b[0msnapnum\u001b[0m\u001b[0;34m,\u001b[0m \u001b[0msim_name\u001b[0m\u001b[0;34m,\u001b[0m \u001b[0mcache_file_name\u001b[0m\u001b[0;34m=\u001b[0m\u001b[0;32mNone\u001b[0m\u001b[0;34m,\u001b[0m \u001b[0mgas_snapdict\u001b[0m\u001b[0;34m=\u001b[0m\u001b[0;32mNone\u001b[0m\u001b[0;34m,\u001b[0m \u001b[0mstar_snapdict\u001b[0m\u001b[0;34m=\u001b[0m\u001b[0;32mNone\u001b[0m\u001b[0;34m,\u001b[0m \u001b[0mgalaxy_kwargs\u001b[0m\u001b[0;34m=\u001b[0m\u001b[0;32mNone\u001b[0m\u001b[0;34m,\u001b[0m \u001b[0mmaster_loud\u001b[0m\u001b[0;34m=\u001b[0m\u001b[0;32mTrue\u001b[0m\u001b[0;34m,\u001b[0m \u001b[0;34m**\u001b[0m\u001b[0mkwargs\u001b[0m\u001b[0;34m)\u001b[0m\u001b[0;34m\u001b[0m\u001b[0;34m\u001b[0m\u001b[0m\n",
       "\u001b[0;31mDocstring:\u001b[0m     \n",
       "`FIREstudio` class for making gas projection images.\n",
       "        Can be used for stars, but you will either have to pass smoothing lengths\n",
       "        in or allow FIREstudio to calculate them itself, which  can take a long time. \n",
       "\n",
       "Important methods include: \n",
       "\n",
       "* [`GasStudio.weightAvgAlongLOS`](#gasstudioweightavgalonglos) \n",
       "* [`GasStudio.render`](#gasstudiorender) \n",
       "* [`Studio.__init__`](#studio__init__) \n",
       "* [`Studio.set_ImageParams`](#studioset_imageparams)\n",
       "--------\n",
       " ### `GasStudio.set_ImageParams`:\n",
       " Changes the parameters of the image. If `use_defaults=True` then \n",
       "            default values of the parameters will be set. Leave `use_defaults=False`\n",
       "            to adjust only the keywords passed. \n",
       "\n",
       "            Input: \n",
       "\n",
       "                use_defaults = False -- \n",
       "                loud = True -- \n",
       "\n",
       "                use_colorbar = False -- \n",
       "                cbar_label = '' -- \n",
       "                cbar_logspace = False -- \n",
       "\n",
       "            Output:\n",
       "\n",
       "                None\n",
       "\n",
       "Example usage:\n",
       "```python \n",
       "gasStudio.set_ImageParams(\n",
       "    use_colorbar=True,\n",
       "    cbar_label='Temperature',\n",
       "    cbar_logspace=True,\n",
       "    figure_label='t = 13.8 Gyr')\n",
       "```\n",
       "--------\n",
       " passes `kwargs` to:\n",
       "### `Studio.set_ImageParams`:\n",
       " Changes the parameters of the image. If `use_defaults=True` then \n",
       "            default values of the parameters will be set. Leave `use_defaults=False`\n",
       "            to adjust only the keywords passed. \n",
       "\n",
       "            Input:\n",
       "\n",
       "                this_setup_id = None -- string that identies this image setup in the cache,\n",
       "                    use this to differentiate between things that might otherwise\n",
       "                    be overwritten.\n",
       "                use_defaults = False -- flag to overwrite any kwargs that *aren't* passed in\n",
       "                    this call to their default value. \n",
       "                loud = True -- \n",
       "\n",
       "                frame_half_width = 15 --  half-width of image in x direction\n",
       "                frame_half_thickness = 15 -- half-thickness of image in z direction\n",
       "                frame_center = None -- center of frame in data space\n",
       "\n",
       "                theta = 0,phi = 0,psi = 0 -- euler rotation angles in degrees\n",
       "\n",
       "                aspect_ratio = 1 -- shape of image, y/x TODO figure out if this is necessary to pass?\n",
       "                pixels = 1200 -- pixels in x direction, resolution of image\n",
       "                figure_label = '' -- string to be put in upper right corner\n",
       "\n",
       "                scale_bar = True -- flag to plot length scale bar in lower left corner\n",
       "                scale_line_length = 5 -- length of the scale bar in kpc\n",
       "\n",
       "                noaxis = True -- turns off axis ticks\n",
       "                savefig = None -- save the image as a png if passed a string\n",
       "                fontsize = 12 \n",
       "                \n",
       "                snapdir - path to simulation output\n",
       "                snapnum -  which snapshot to open\n",
       "                sim_name - name of simulation (i.e. m12i_res7100)\n",
       "\n",
       "            Output:\n",
       "\n",
       "                None\n",
       "\n",
       "Example usage:\n",
       "```python\n",
       "studio.set_ImageParams(\n",
       "    this_setup_id='my_custom_setup',\n",
       "    theta=90,\n",
       "    scale_bar=False,\n",
       "    figure_label='high redshift')\n",
       "```\n",
       "--------\n",
       " ### `GasStudio.weightAvgAlongLOS`:\n",
       " Projects a weighted quantity along the LOS into pixels. Projection is \n",
       "            done with a cubic spline kernel that is renormalized to conserve mass. \n",
       "\n",
       "I.e. \n",
       "\n",
       "`renorm_i = sum_j ( k(r_ij,h_i))`\n",
       "\n",
       "where j is a sum over the pixels particle i contributes to.\n",
       "\n",
       "The maps computed in pixel j are then:\n",
       "\n",
       "`W[j] = sum_i( k(r_ij,h_i)/renorm_i * weight)`\n",
       "`Q[j] = sum_i( k(r_ij,h_i)/renorm_i * weight * quantity) / W[j]`\n",
       "\n",
       "            Input:\n",
       "\n",
       "                weights --\n",
       "                weight_name -- \n",
       "                    special weight_names are `Volumes` and `Ones`, which do not \n",
       "                    have to be present in the snapdict to be used as weights.\n",
       "                quantities --\n",
       "                quantity_name --\n",
       "                use_metadata=True --\n",
       "                save_meta=True --\n",
       "                assert_cached=False --\n",
       "                loud=True --\n",
       "                \n",
       "                snapdict_name -- 'gas' or 'star', where to load arrays that hasn't \n",
       "                    been passed from\n",
       "\n",
       "            Output:\n",
       "\n",
       "                weightMap -- \n",
       "                weightWeightedQuantityMap --\n",
       "--------\n",
       " ### `GasStudio.massWeightAlongLOS`:\n",
       "  Wrapper function for easier API if quantity = None \n",
       "            but quantity_name is in the snapdict then it will be read for you.\n",
       "\n",
       "            Input:\n",
       "\n",
       "                quantity -- \n",
       "                quantity_name -- \n",
       "\n",
       "                use_metadata=True -- \n",
       "                save_meta=True -- \n",
       "                assert_cached=False -- \n",
       "                loud=True -- \n",
       "                snapdict_name='gas' -- \n",
       "            \n",
       "            Output:\n",
       "\n",
       "                massMap -- a map of the deposited cell mass along the LOS\n",
       "                    in each pixel.\n",
       "                massWeightedQuantityMap -- the mass weighted quantity along the\n",
       "                    LOS in each pixel.\n",
       "--------\n",
       " ### `GasStudio.volumeWeightAlongLOS`:\n",
       " Wrapper function for easier API if quantity = None \n",
       "            but quantity_name is in the snapdict then it will be read for you.\n",
       "\n",
       "            Volume is calculated as 4/3 pi hsml^3 / 32.\n",
       "            If you'd like a different volume weight then set self.gas_snapdict['Volume'] = volumes.\n",
       "\n",
       "            Alternatively, call weightAvgAlongLOS directly with quantity and weights passed.\n",
       "\n",
       "            Input:\n",
       "\n",
       "                quantity --\n",
       "                quantity_name --\n",
       "\n",
       "                use_metadata=True --\n",
       "                save_meta=True --\n",
       "                assert_cached=False --\n",
       "                loud=True --\n",
       "\n",
       "                snapdict_name='gas' --\n",
       "\n",
       "            Output: \n",
       "\n",
       "                volumeMap -- a map of the deposited cell volume along the LOS\n",
       "                    in each pixel.\n",
       "                volumeWeightedQuantityMap -- the volume weighted quantity along the\n",
       "                    LOS in each pixel.\n",
       "--------\n",
       " ### `GasStudio.render`:\n",
       " Plots a projected image using the stored image parameters.\n",
       "\n",
       "            Input: \n",
       "\n",
       "                ax = None -- axis to plot image to, if None will create a new figure\n",
       "\n",
       "                weight_name = 'Masses' --\n",
       "                quantity_name = 'Temperature' --\n",
       "                weights = None -- \n",
       "                quantities = None --\n",
       "                min_weight = None,max_weight = None --\n",
       "                min_quantity = None,max_quantity = None --\n",
       "                weight_adjustment_function = None --\n",
       "                quantity_adjustment_function = None --\n",
       "                use_colorbar = False --\n",
       "                cmap = 'viridis' -- what colormap to use\n",
       "                quick = False -- flag to use a simple 2d histogram (for comparison or\n",
       "                    for quick iteration as the user defines the image parameters)\n",
       "\n",
       "            Output:\n",
       "\n",
       "                ax -- the axis the image was plotted to\n",
       "                final_image -- 2x2x3 RGB pixel array\n",
       "\n",
       "Example usage:\n",
       "```python\n",
       "## makes a gas surface density map\n",
       "gasStudio.render(\n",
       "    weight_name='Masses',\n",
       "    min_weight=-0.1,\n",
       "    max_weight=1.5,\n",
       "    weight_adjustment_function= lambda x: np.log10(x/gasStudio.Acell)+10-6 ## log10(msun/pc^2)\n",
       "    )\n",
       "\n",
       "## makes a mass weighted temperature map\n",
       "gasStudio.render(\n",
       "    weight_name='Masses',\n",
       "    quantity_name='Temperature',\n",
       "    min_quantity=2,\n",
       "    max_quantity=7,\n",
       "    quantity_adjustment_function= np.log10\n",
       "    )\n",
       "\n",
       "## makes a saturation-hue gas surface density + Temperature map\n",
       "gasStudio.render(\n",
       "    weight_name='Masses',\n",
       "    min_weight=-0.1,\n",
       "    max_weight=1.5,\n",
       "    weight_adjustment_function= lambda x: np.log10(x/gasStudio.Acell)+10-6 ## log10(msun/pc^2)\n",
       "    quantity_name='Temperature',\n",
       "    min_quantity=2,\n",
       "    max_quantity=7,\n",
       "    quantity_adjustment_function= np.log10\n",
       "    ) \n",
       "```\n",
       "--------\n",
       " ### `Studio`:\n",
       " `FIREstudio` parent class that regularizes image setup, rotation, \n",
       "        caching, etc between `GasStudio` and `StarStudio` classes. \n",
       "    \n",
       "--------\n",
       " ### `Studio.__init__`:\n",
       " Initializes a cache file to be read from and sets any image parameters\n",
       "            that have been passed to init. Extra `kwargs` will be passed to `set_ImageParams`.\n",
       "            Snapshot dictionaries can be passed to avoid `FIREstudio` using `load_SnapshotData`\n",
       "            to open them from disk. They require a minimum number of keys to function.\n",
       "\n",
       "`GasStudio` requires: \n",
       "```python\n",
       "    snapdict['Coordinates'] ## coordinates of the particles\n",
       "```\n",
       "(and ideally `'SmoothingLengths'`, in the same units as coordinates, but these can be calculated). \n",
       "\n",
       "`StarStudio` requires: \n",
       "```python\n",
       "gas_snapdict['Coordinates'] ## coordinates of the particles\n",
       "gas_snapdict['Metallicity'] ## metallicity (mass fractions) of the particles \n",
       "gas_snapdict['Masses'] ## masses of the particles in 1e10 solar masses\n",
       "\n",
       "star_snapdict['Coordinates'] ## coordinates of the particles\n",
       "star_snapdict['Metallicity'] ## metallicity (mass fractions) of the particles \n",
       "star_snapdict['Masses'] ## masses of the particles in 1e10 solar masses\n",
       "star_snapdict['AgeGyr'] ## age of particles in Gyr\n",
       "```\n",
       "\n",
       "(and ideally `'SmoothingLengths'`, in the same units as coordinates for both, but these can be calculated). \n",
       "\n",
       "            Input:\n",
       "\n",
       "                datadir -- directory to put intermediate and output files \n",
       "                snapnum -- snapshot number (feel free to lie if you aren't using\n",
       "                    FIRE_studio to open a snapshot, it is needed for cache file name though)\n",
       "                sim_name -- name of the simulation, i.e. m12i_res7100. prepends the cache_file_name\n",
       "                    if the sim_name isn't already in the path to disambiguate caches.  \n",
       "                cache_file_name = None -- the name of the file to save maps to\n",
       "                    defaults to proj_maps_%03d.hdf5, changes when you use set_DataParams\n",
       "                    to choose a snapshot.\n",
       "\n",
       "                gas_snapdict = None -- an open galaxy gas snapshot dictionary, opens from snapdir/snapnum if None\n",
       "                    (must then also provide snapdir)\n",
       "                star_snapdict = None -- an open galaxy star snapshot dictionary, opens from snapdir/snapnum if None \n",
       "                    (must then also provide snapdir)\n",
       "                galaxy_kwargs = None -- dictionary that contains kwargs that should be passed to the opened\n",
       "                    abg_python.galaxy.Galaxy instance that is used to load snapshot data from disk. \n",
       "                master_loud = True -- flag for turning off *all* print statements\n",
       "\n",
       "                **set_ImageParams_kwargs -- keyword arguments that will be passed to\n",
       "                    set_ImageParams\n",
       "\n",
       "            Output:\n",
       "\n",
       "                None\n",
       "--------\n",
       " ### `Studio.load_SnapshotData`:\n",
       " Binds simulation output to self.gas_snapdict and self.star_snapdict.\n",
       "\n",
       "            Input:\n",
       "\n",
       "                use_saved_subsnapshots = False -- save/load subsnapshots, uncompressed copies of the snapshot\n",
       "                    oriented on the main disk with particles within the virial radius. This can \n",
       "                    take up lots of disk space. \n",
       "                del_galaxy = True -- whether the abg_python.galaxy.Galaxy object should be deleted after \n",
       "                    being used to get the snapshot dictionaries.\n",
       "\n",
       "            Output:\n",
       "\n",
       "                None/abg_python.galaxy.Galaxy object -- if del_galaxy == False then returns the galaxy object, \n",
       "                    otherwise returns None. \n",
       "--------\n",
       " ### `Studio.print_ImageParams`:\n",
       "  Prints current image setup to console.\n",
       "\n",
       "            Input:\n",
       "\n",
       "                None\n",
       "\n",
       "            Output:\n",
       "\n",
       "                None\n",
       "--------\n",
       " ### `Studio.computeFrameBoundaries`:\n",
       " Uses current image parameters to calculate the minimum and maximum \n",
       "            x, y, and z limits. \n",
       "\n",
       "            Input: \n",
       "                \n",
       "                None\n",
       "\n",
       "            Output:\n",
       "\n",
       "                None\n",
       "\n",
       "            Attributes set:\n",
       "                self.Xmin, self.Xmax -- \n",
       "                self.Ymin, self.Ymax -- \n",
       "                self.Zmin, self.Zmax -- \n",
       "                self.npix_x, self.npix_y -- \n",
       "                self.Acell -- \n",
       "                \n",
       "        \n",
       "--------\n",
       " ### `Studio.get_HSML`:\n",
       " Compute smoothing lengths for particles that don't have them,\n",
       "            typically collisionless particles (like stars). \n",
       "\n",
       "            Input:\n",
       "\n",
       "                snapdict_name -- name in the form of `'%s_snapdict'%snapdict_name`\n",
       "                    that will be used to compute smoothing lengths for. \n",
       "\n",
       "                use_metadata = True -- flag to search cache for result\n",
       "                save_meta = True -- flag to cache the result\n",
       "                assert_cached = False -- flag to require a cache hit\n",
       "                loud = True -- whether cache hits/misses should be announced\n",
       "                    to the console.\n",
       "                \n",
       "            Output:\n",
       "\n",
       "                smoothing_lengths -- numpy array of estimated smoothing lengths\n",
       "\u001b[0;31mInit docstring:\u001b[0m\n",
       "Initializes a cache file to be read from and sets any image parameters\n",
       "            that have been passed to init. Extra `kwargs` will be passed to `set_ImageParams`.\n",
       "            Snapshot dictionaries can be passed to avoid `FIREstudio` using `load_SnapshotData`\n",
       "            to open them from disk. They require a minimum number of keys to function.\n",
       "\n",
       "`GasStudio` requires: \n",
       "```python\n",
       "    snapdict['Coordinates'] ## coordinates of the particles\n",
       "```\n",
       "(and ideally `'SmoothingLengths'`, in the same units as coordinates, but these can be calculated). \n",
       "\n",
       "`StarStudio` requires: \n",
       "```python\n",
       "gas_snapdict['Coordinates'] ## coordinates of the particles\n",
       "gas_snapdict['Metallicity'] ## metallicity (mass fractions) of the particles \n",
       "gas_snapdict['Masses'] ## masses of the particles in 1e10 solar masses\n",
       "\n",
       "star_snapdict['Coordinates'] ## coordinates of the particles\n",
       "star_snapdict['Metallicity'] ## metallicity (mass fractions) of the particles \n",
       "star_snapdict['Masses'] ## masses of the particles in 1e10 solar masses\n",
       "star_snapdict['AgeGyr'] ## age of particles in Gyr\n",
       "```\n",
       "\n",
       "(and ideally `'SmoothingLengths'`, in the same units as coordinates for both, but these can be calculated). \n",
       "\n",
       "            Input:\n",
       "\n",
       "                datadir -- directory to put intermediate and output files \n",
       "                snapnum -- snapshot number (feel free to lie if you aren't using\n",
       "                    FIRE_studio to open a snapshot, it is needed for cache file name though)\n",
       "                sim_name -- name of the simulation, i.e. m12i_res7100. prepends the cache_file_name\n",
       "                    if the sim_name isn't already in the path to disambiguate caches.  \n",
       "                cache_file_name = None -- the name of the file to save maps to\n",
       "                    defaults to proj_maps_%03d.hdf5, changes when you use set_DataParams\n",
       "                    to choose a snapshot.\n",
       "\n",
       "                gas_snapdict = None -- an open galaxy gas snapshot dictionary, opens from snapdir/snapnum if None\n",
       "                    (must then also provide snapdir)\n",
       "                star_snapdict = None -- an open galaxy star snapshot dictionary, opens from snapdir/snapnum if None \n",
       "                    (must then also provide snapdir)\n",
       "                galaxy_kwargs = None -- dictionary that contains kwargs that should be passed to the opened\n",
       "                    abg_python.galaxy.Galaxy instance that is used to load snapshot data from disk. \n",
       "                master_loud = True -- flag for turning off *all* print statements\n",
       "\n",
       "                **set_ImageParams_kwargs -- keyword arguments that will be passed to\n",
       "                    set_ImageParams\n",
       "\n",
       "            Output:\n",
       "\n",
       "                None\n",
       "\u001b[0;31mFile:\u001b[0m           ~/repos/FIRE_studio/firestudio/studios/gas_studio.py\n",
       "\u001b[0;31mType:\u001b[0m           type\n"
      ]
     },
     "metadata": {},
     "output_type": "display_data"
    }
   ],
   "source": [
    "gas_studio.GasStudio?"
   ]
  },
  {
   "cell_type": "code",
   "execution_count": 22,
   "metadata": {},
   "outputs": [],
   "source": [
    "xs = np.linspace( -50., 50., 32 )\n",
    "xs, ys, zs = np.meshgrid( xs, xs, xs, indexing='ij' )\n",
    "xs = xs.flatten()\n",
    "ys = ys.flatten()\n",
    "zs = zs.flatten()\n",
    "test_coords = np.array([ xs, ys, zs ]).transpose()"
   ]
  },
  {
   "cell_type": "code",
   "execution_count": 35,
   "metadata": {},
   "outputs": [
    {
     "name": "stderr",
     "output_type": "stream",
     "text": [
      "81it [00:00, 285.83it/s]"
     ]
    },
    {
     "name": "stdout",
     "output_type": "stream",
     "text": [
      "frame_depth ignored. Did you mean something else? dict_keys(['use_colorbar', 'cbar_label', 'cbar_logspace'])\n",
      "overwrite ignored. Did you mean something else? dict_keys(['use_colorbar', 'cbar_label', 'cbar_logspace'])\n",
      "setting use_colorbar to default value of: False\n",
      "setting cbar_label to default value of: \n",
      "setting cbar_logspace to default value of: True\n",
      "setting snapnum to user value of: 600\n",
      "setting sim_name to user value of: m12i_md\n",
      "setting snapdir to user value of: /scratch/projects/xsede/GalaxiesOnFIRE/metal_diffusion/m12i_res7100/output\n",
      "setting frame_half_width to user value of: 50.0\n",
      "frame_depth ignored. Did you mean something else? dict_keys(['frame_half_thickness', 'frame_center', 'theta', 'phi', 'psi', 'aspect_ratio', 'pixels', 'figure_label', 'scale_bar', 'scale_line_length', 'noaxis', 'savefig', 'fontsize'])\n",
      "overwrite ignored. Did you mean something else? dict_keys(['frame_half_thickness', 'frame_center', 'theta', 'phi', 'psi', 'aspect_ratio', 'pixels', 'figure_label', 'scale_bar', 'scale_line_length', 'noaxis', 'savefig', 'fontsize'])\n",
      "setting theta to user value of: 90\n",
      "setting phi to user value of: 0\n",
      "setting psi to user value of: 0\n",
      "setting frame_half_thickness to default value of: 50.0\n",
      "setting frame_center to default value of: [0. 0. 0.]\n",
      "setting aspect_ratio to default value of: 1\n",
      "setting pixels to default value of: 1200\n",
      "setting figure_label to default value of: \n",
      "setting scale_bar to default value of: True\n",
      "setting scale_line_length to default value of: 5\n",
      "setting noaxis to default value of: True\n",
      "setting savefig to default value of: None\n",
      "setting fontsize to default value of: 12\n",
      "setting use_colorbar to default value of: False\n",
      "setting cbar_label to default value of: \n",
      "setting cbar_logspace to default value of: True\n",
      "setting snapnum to user value of: 600\n",
      "setting sim_name to user value of: /scratch/03057/zhafen/linefinder_data/metal_diffusion/m12i_res7100/data\n",
      "setting frame_half_width to default value of: 15\n",
      "setting frame_half_thickness to default value of: 15\n",
      "setting frame_center to default value of: [0. 0. 0.]\n",
      "setting theta to default value of: 0\n",
      "setting phi to default value of: 0\n",
      "setting psi to default value of: 0\n",
      "setting aspect_ratio to default value of: 1\n",
      "setting pixels to default value of: 1200\n",
      "setting figure_label to default value of: \n",
      "setting scale_bar to default value of: True\n",
      "setting scale_line_length to default value of: 5\n",
      "setting noaxis to default value of: True\n",
      "setting savefig to default value of: None\n",
      "setting fontsize to default value of: 12\n",
      "setting snapdir to default value of: None\n",
      "Image generation took 0.0104 seconds\n"
     ]
    },
    {
     "name": "stderr",
     "output_type": "stream",
     "text": [
      "\n"
     ]
    },
    {
     "data": {
      "image/png": "[encoded data removed]",
      "text/plain": [
       "<Figure size 360x360 with 1 Axes>"
      ]
     },
     "metadata": {},
     "output_type": "display_data"
    }
   ],
   "source": [
    "for i, t_center in tqdm.tqdm( enumerate( t_centers ) ):\n",
    "    \n",
    "#     if i != len( t_centers ) // 2:\n",
    "    if i != 0:\n",
    "        continue\n",
    "    \n",
    "    w.data_masker.clear_masks()\n",
    "    w.data_masker.mask_data( 'PType', data_value=0 )\n",
    "\n",
    "    w.mask_data( 't_t_1e5', t_center - dt/2., t_center + dt/2. )\n",
    "\n",
    "    frame_width = 100.\n",
    "\n",
    "    snap_dict = {\n",
    "#         'Coordinates': w.get_selected_data( 'P' ).transpose(),\n",
    "#         'Masses': w.get_selected_data( 'M' ),\n",
    "#         'Velocities': w.get_selected_data( 'V' ).transpose(),\n",
    "#         'Temperature': w.get_selected_data( 'T' ),\n",
    "#         'SmoothingLength': ( w.get_selected_data( 'M' ) / w.get_selected_data( 'Den' ) )**(1./3.) * hsml_conversion,\n",
    "        'Coordinates': test_coords,\n",
    "        'Masses': np.ones( xs.shape ),\n",
    "        'Velocities': np.ones( test_coords.shape ),\n",
    "        'Temperature': np.full( xs.shape, 1e5 ),\n",
    "        'SmoothingLength': np.ones( xs.shape ),\n",
    "        'BoxSize': frame_width,\n",
    "    }\n",
    "\n",
    "    %matplotlib inline\n",
    "\n",
    "    my_studio = gas_studio.GasStudio(\n",
    "        sim_name = sim_name,\n",
    "        snapdir = file_manager.get_sim_dir( sim_name ),\n",
    "        snapnum = snum,\n",
    "        datadir = w.data_dir,\n",
    "        frame_half_width = frame_width / 2.,\n",
    "        frame_depth = frame_width,\n",
    "        overwrite = True,\n",
    "        gas_snapdict = snap_dict,\n",
    "        theta = 90,\n",
    "        phi = 0,\n",
    "        psi = 0,\n",
    "#         cmap = palettable.scientific.diverging.Vik_3.mpl_colormap,\n",
    "    )\n",
    "\n",
    "    my_studio = gas_studio.GasStudio(\n",
    "        w.data_dir,\n",
    "        snum,\n",
    "        w.data_dir,\n",
    "        star_snapdict = snap_dict, ## pass in snapshot dictionary\n",
    "    )\n",
    "    \n",
    "    start_time = time.time()\n",
    "\n",
    "#     my_studio.set_ImageParams(\n",
    "#         theta = 90,\n",
    "#         phi = 0,\n",
    "#         psi = 0,\n",
    "#         aspect_ratio=1,\n",
    "# #         scale_line_length=10,\n",
    "#         frame_half_width = 50,\n",
    "#         frame_half_thickness = 1000,\n",
    "#     )\n",
    "\n",
    "    fig = plt.figure( figsize=(5, 5), facecolor='w' )\n",
    "    ax = plt.gca()\n",
    "\n",
    "#     ax, pixel_map =  my_studio.render(\n",
    "#         ax,\n",
    "#         weight_name='Masses',\n",
    "#         quantity_name='Masses',\n",
    "#         min_quantity=0.00001,\n",
    "#         max_quantity=7,\n",
    "#         quantity_adjustment_function=np.log10\n",
    "#     )\n",
    "\n",
    "    if t_center < 1e-6:\n",
    "        t_label_value = 0.\n",
    "    else:\n",
    "        t_label_value = t_center * 1e3\n",
    "    l = ax.annotate(\n",
    "        s = r'$t - t_{T=10^5\\,{\\rm K}} =$' + '{:.3g} Myr'.format( t_label_value),\n",
    "        color = 'w',\n",
    "        xy = ( 1, 1 ),\n",
    "        xycoords = 'axes fraction',\n",
    "        xytext = ( -5, -5 ),\n",
    "        textcoords = 'offset points',\n",
    "        fontsize = 18,\n",
    "        va = 'top',\n",
    "        ha = 'right',\n",
    "    )\n",
    "    l.set_path_effects([\n",
    "        path_effects.Stroke(linewidth=3, foreground='black'),\n",
    "       path_effects.Normal(),\n",
    "    ])\n",
    "\n",
    "    fig\n",
    "\n",
    "    print( 'Image generation took {:.3g} seconds'.format( time.time() - start_time ) )"
   ]
  },
  {
   "cell_type": "code",
   "execution_count": null,
   "metadata": {},
   "outputs": [],
   "source": []
  }
 ],
 "metadata": {
  "kernelspec": {
   "display_name": "Python 3",
   "language": "python",
   "name": "python3"
  },
  "language_info": {
   "codemirror_mode": {
    "name": "ipython",
    "version": 3
   },
   "file_extension": ".py",
   "mimetype": "text/x-python",
   "name": "python",
   "nbconvert_exporter": "python",
   "pygments_lexer": "ipython3",
   "version": "3.7.1"
  }
 },
 "nbformat": 4,
 "nbformat_minor": 2
}
